{
  "nbformat": 4,
  "nbformat_minor": 0,
  "metadata": {
    "colab": {
      "provenance": [],
      "gpuType": "T4",
      "authorship_tag": "ABX9TyPypbACcurlL2SiWm4Gq3R2",
      "include_colab_link": true
    },
    "kernelspec": {
      "name": "python3",
      "display_name": "Python 3"
    },
    "language_info": {
      "name": "python"
    },
    "accelerator": "GPU"
  },
  "cells": [
    {
      "cell_type": "markdown",
      "metadata": {
        "id": "view-in-github",
        "colab_type": "text"
      },
      "source": [
        "<a href=\"https://colab.research.google.com/github/gabrieldimas/periapical-photo-caries-detection-using-deep-learning/blob/main/classification_model_translation_v1.ipynb\" target=\"_parent\"><img src=\"https://colab.research.google.com/assets/colab-badge.svg\" alt=\"Open In Colab\"/></a>"
      ]
    },
    {
      "cell_type": "code",
      "execution_count": 1,
      "metadata": {
        "colab": {
          "base_uri": "https://localhost:8080/"
        },
        "id": "dGsi4b0tS3-d",
        "outputId": "c88fa2a6-52e1-4469-9c5e-bb1f7c29f4a1"
      },
      "outputs": [
        {
          "output_type": "stream",
          "name": "stdout",
          "text": [
            "\n",
            "UNRAR 6.11 beta 1 freeware      Copyright (c) 1993-2022 Alexander Roshal\n",
            "\n",
            "\n",
            "Extracting from /content/dataset_2.rar\n",
            "\n",
            "Creating    /content/dataset_2                                        OK\n",
            "Creating    /content/dataset_2/test                                   OK\n",
            "Creating    /content/dataset_2/test/caries_media                      OK\n",
            "Extracting  /content/dataset_2/test/caries_media/caries-102-_png_tooth_1_png.rf.6f66d02aa32872d4f617f8b8c54f0cc0.jpg     \b\b\b\b  0%\b\b\b\b\b  OK \n",
            "Extracting  /content/dataset_2/test/caries_media/caries-149-_png_tooth_2_png.rf.03bc01825ae3bf723af834324e2f66e6.jpg     \b\b\b\b  0%\b\b\b\b\b  OK \n",
            "Extracting  /content/dataset_2/test/caries_media/caries-184-_png_tooth_1_png.rf.eac890739131153c768a9dfcc24b1bef.jpg     \b\b\b\b  0%\b\b\b\b\b  OK \n",
            "Extracting  /content/dataset_2/test/caries_media/caries-207-_png_tooth_0_png.rf.4ba2e07178b2b4d8288b2e28d4642854.jpg     \b\b\b\b  0%\b\b\b\b\b  OK \n",
            "Extracting  /content/dataset_2/test/caries_media/caries-210-_png_tooth_1_png.rf.d9b71752634095fa37e0275a261a3d5b.jpg     \b\b\b\b  0%\b\b\b\b\b  OK \n",
            "Extracting  /content/dataset_2/test/caries_media/caries-211-_png_tooth_2_png.rf.66ccec9a9fe5b6cef3313b6a043cc2a8.jpg     \b\b\b\b  0%\b\b\b\b\b  OK \n",
            "Extracting  /content/dataset_2/test/caries_media/caries-222-_png_tooth_0_png.rf.6435b98e76217a87cd9996d6f2149a98.jpg     \b\b\b\b  0%\b\b\b\b\b  OK \n",
            "Extracting  /content/dataset_2/test/caries_media/caries-232-_png_tooth_2_png.rf.52274c98da1a029966bf4d5791f59285.jpg     \b\b\b\b  0%\b\b\b\b\b  OK \n",
            "Extracting  /content/dataset_2/test/caries_media/caries-27-_png_tooth_1_png.rf.f900ddf1185dcd40d29f6aaffba9fa2b.jpg     \b\b\b\b  0%\b\b\b\b\b  OK \n",
            "Extracting  /content/dataset_2/test/caries_media/caries-280-_png_tooth_1_png.rf.1375de78a51c64941d3935c4c32f449c.jpg     \b\b\b\b  0%\b\b\b\b\b  OK \n",
            "Extracting  /content/dataset_2/test/caries_media/caries-287-_png_tooth_0_png.rf.4b958186a3487dd09d5bca6891f57c5c.jpg     \b\b\b\b  0%\b\b\b\b\b  OK \n",
            "Extracting  /content/dataset_2/test/caries_media/caries-296-_png_tooth_0_png.rf.5c177d3cefd83a61325466355f66bf1f.jpg     \b\b\b\b  0%\b\b\b\b\b  OK \n",
            "Extracting  /content/dataset_2/test/caries_media/caries-307-_png_tooth_1_png.rf.d457fe65f0601c7c15bd415ddc26671e.jpg     \b\b\b\b  0%\b\b\b\b\b  OK \n",
            "Extracting  /content/dataset_2/test/caries_media/caries-338-_png_tooth_0_png.rf.12c9a8db11c71288c2bbb05e44d1175c.jpg     \b\b\b\b  0%\b\b\b\b\b  OK \n",
            "Extracting  /content/dataset_2/test/caries_media/caries-355-_png_tooth_0_png.rf.a9964a492df9620ebe1c7b47ea0eb202.jpg     \b\b\b\b  0%\b\b\b\b\b  OK \n",
            "Extracting  /content/dataset_2/test/caries_media/caries-40-_png_tooth_0_png.rf.f592791e24ce9b26c47dff289c72bd35.jpg     \b\b\b\b  0%\b\b\b\b\b  OK \n",
            "Extracting  /content/dataset_2/test/caries_media/caries-419-_png_tooth_0_png.rf.a85d069ac56dda6ffe6273fbf6cdc783.jpg     \b\b\b\b  1%\b\b\b\b\b  OK \n",
            "Extracting  /content/dataset_2/test/caries_media/caries-47-_png_tooth_1_png.rf.cff0444b7cf0e932ba627fa5de53274c.jpg     \b\b\b\b  1%\b\b\b\b\b  OK \n",
            "Extracting  /content/dataset_2/test/caries_media/caries-48-_png_tooth_1_png.rf.1db6dd7c3a070d6bb403d37bef4cc6ff.jpg     \b\b\b\b  1%\b\b\b\b\b  OK \n",
            "Extracting  /content/dataset_2/test/caries_media/caries-491-_png_tooth_0_png.rf.f5e0184eb5c7b74a33e98533449c3064.jpg     \b\b\b\b  1%\b\b\b\b\b  OK \n",
            "Extracting  /content/dataset_2/test/caries_media/caries-502-_png_tooth_0_png.rf.d15051d3b094b47c3c14000527069309.jpg     \b\b\b\b  1%\b\b\b\b\b  OK \n",
            "Extracting  /content/dataset_2/test/caries_media/caries-536-_png_tooth_0_png.rf.da18b9e7eeb6fc83feb3e884ed3fa902.jpg     \b\b\b\b  1%\b\b\b\b\b  OK \n",
            "Extracting  /content/dataset_2/test/caries_media/caries-546-_png_tooth_0_png.rf.79d54cecf08e574c6f10660c20093af7.jpg     \b\b\b\b  1%\b\b\b\b\b  OK \n",
            "Extracting  /content/dataset_2/test/caries_media/caries-584-_png_tooth_0_png.rf.bbe1d96d2d63bfd481116f07ad8bf86c.jpg     \b\b\b\b  1%\b\b\b\b\b  OK \n",
            "Extracting  /content/dataset_2/test/caries_media/caries-588-_png_tooth_0_png.rf.bcbd69c4fd217a10b00194659f5fd180.jpg     \b\b\b\b  1%\b\b\b\b\b  OK \n",
            "Extracting  /content/dataset_2/test/caries_media/caries-681-_png_tooth_0_png.rf.2f7c3f9da545b4e71c9fac153a2748cb.jpg     \b\b\b\b  1%\b\b\b\b\b  OK \n",
            "Extracting  /content/dataset_2/test/caries_media/caries-684-_png_tooth_0_png.rf.5816e0a662fc591b3f14b3d2af8336b9.jpg     \b\b\b\b  1%\b\b\b\b\b  OK \n",
            "Extracting  /content/dataset_2/test/caries_media/caries-755-_png_tooth_0_png.rf.343e347eac9610b708418968fd66b366.jpg     \b\b\b\b  1%\b\b\b\b\b  OK \n",
            "Extracting  /content/dataset_2/test/caries_media/caries-774-_png_tooth_0_png.rf.159018a082cbfff373f69eb248dbac1e.jpg     \b\b\b\b  2%\b\b\b\b\b  OK \n",
            "Extracting  /content/dataset_2/test/caries_media/caries-98-_png_tooth_0_png.rf.9bd24a94789fffdd30ff3cc9a989e652.jpg     \b\b\b\b  2%\b\b\b\b\b  OK \n",
            "Extracting  /content/dataset_2/test/caries_media/Frame-266_jpg_tooth_1_png.rf.25b631f671a4bb81a068072762fd9ebc.jpg     \b\b\b\b  2%\b\b\b\b\b  OK \n",
            "Extracting  /content/dataset_2/test/caries_media/Frame-285_jpg_tooth_0_png.rf.bbe0b8804227ec809cc2195166e2d78b.jpg     \b\b\b\b  2%\b\b\b\b\b  OK \n",
            "Extracting  /content/dataset_2/test/caries_media/Frame-291_jpg_tooth_0_png.rf.ab9ad626088099a067826ab4308c4d68.jpg     \b\b\b\b  2%\b\b\b\b\b  OK \n",
            "Extracting  /content/dataset_2/test/caries_media/Frame-319_jpg_tooth_1_png.rf.358ef115863708c1a3d79126b2c02063.jpg     \b\b\b\b  2%\b\b\b\b\b  OK \n",
            "Extracting  /content/dataset_2/test/caries_media/Frame-364_jpg_tooth_1_png.rf.874045336d300d116b6748751024795f.jpg     \b\b\b\b  2%\b\b\b\b\b  OK \n",
            "Extracting  /content/dataset_2/test/caries_media/Frame-404_jpg_tooth_0_png.rf.3a04f1ad933e2261fc30200538e4facd.jpg     \b\b\b\b  2%\b\b\b\b\b  OK \n",
            "Creating    /content/dataset_2/test/caries_profunda                   OK\n",
            "Extracting  /content/dataset_2/test/caries_profunda/caries-151-_png_tooth_1_png.rf.063771234060c30232907bc4c7a8317a.jpg     \b\b\b\b  2%\b\b\b\b\b  OK \n",
            "Extracting  /content/dataset_2/test/caries_profunda/caries-216-_png_tooth_0_png.rf.98dfd640e66e69bf7d73747e5f1c032c.jpg     \b\b\b\b  2%\b\b\b\b\b  OK \n",
            "Extracting  /content/dataset_2/test/caries_profunda/caries-250-_png_tooth_0_png.rf.c2ae78102dddac8dfb99d1316e3da2f0.jpg     \b\b\b\b  2%\b\b\b\b\b  OK \n",
            "Extracting  /content/dataset_2/test/caries_profunda/caries-28-_png_tooth_0_png.rf.9e9f619a8ec8fb86cb06dae0a14d51c4.jpg     \b\b\b\b  2%\b\b\b\b\b  OK \n",
            "Extracting  /content/dataset_2/test/caries_profunda/caries-289-_png_tooth_0_png.rf.b42d252738df14d3197727e54d07335e.jpg     \b\b\b\b  2%\b\b\b\b\b  OK \n",
            "Extracting  /content/dataset_2/test/caries_profunda/caries-380-_png_tooth_0_png.rf.ea29299a21fb37eba71d16081d5f50a4.jpg     \b\b\b\b  2%\b\b\b\b\b  OK \n",
            "Extracting  /content/dataset_2/test/caries_profunda/caries-391-_png_tooth_0_png.rf.7d4f4139baea8e004ee64e2bf2ae31f2.jpg     \b\b\b\b  2%\b\b\b\b\b  OK \n",
            "Extracting  /content/dataset_2/test/caries_profunda/caries-631-_png_tooth_0_png.rf.8aaf0deb5d1518941d230fdf37b638bf.jpg     \b\b\b\b  2%\b\b\b\b\b  OK \n",
            "Extracting  /content/dataset_2/test/caries_profunda/caries-758-_png_tooth_1_png.rf.f0d255d5d1d2ebddeb56dbab799dabbc.jpg     \b\b\b\b  3%\b\b\b\b\b  OK \n",
            "Extracting  /content/dataset_2/test/caries_profunda/caries-8-_png_tooth_1_png.rf.8d6e9cff6c30954d77919ce02692df10.jpg     \b\b\b\b  3%\b\b\b\b\b  OK \n",
            "Extracting  /content/dataset_2/test/caries_profunda/Frame-414_jpg_tooth_2_png.rf.91f03adca62bc51e990992290e615c89.jpg     \b\b\b\b  3%\b\b\b\b\b  OK \n",
            "Creating    /content/dataset_2/test/caries_superficial                OK\n",
            "Extracting  /content/dataset_2/test/caries_superficial/caries-126-_png_tooth_0_png.rf.e84cf11f6d278ecc4e958b57d3229c24.jpg     \b\b\b\b  3%\b\b\b\b\b  OK \n",
            "Extracting  /content/dataset_2/test/caries_superficial/caries-149-_png_tooth_1_png.rf.ed7fd1abe34da07b8a46988393641014.jpg     \b\b\b\b  3%\b\b\b\b\b  OK \n",
            "Extracting  /content/dataset_2/test/caries_superficial/caries-169-_png_tooth_1_png.rf.77d5f148e6b17a35d2de2c20c2793b81.jpg     \b\b\b\b  3%\b\b\b\b\b  OK \n",
            "Extracting  /content/dataset_2/test/caries_superficial/caries-211-_png_tooth_1_png.rf.d2fd362b2d05cd4c4d98e8d88888f21f.jpg     \b\b\b\b  3%\b\b\b\b\b  OK \n",
            "Extracting  /content/dataset_2/test/caries_superficial/caries-261-_png_tooth_2_png.rf.b802a2c177fc1f7a98fb8ed9bbd9669e.jpg     \b\b\b\b  3%\b\b\b\b\b  OK \n",
            "Extracting  /content/dataset_2/test/caries_superficial/caries-279-_png_tooth_2_png.rf.230761a1b3632421190b18d601a9854a.jpg     \b\b\b\b  3%\b\b\b\b\b  OK \n",
            "Extracting  /content/dataset_2/test/caries_superficial/caries-39-_png_tooth_2_png.rf.488a5f728c7708871cd4420cd7523dd6.jpg     \b\b\b\b  3%\b\b\b\b\b  OK \n",
            "Extracting  /content/dataset_2/test/caries_superficial/caries-416-_png_tooth_0_png.rf.82104a8f5db438396b1d55276e1bf4a6.jpg     \b\b\b\b  3%\b\b\b\b\b  OK \n",
            "Extracting  /content/dataset_2/test/caries_superficial/caries-616-_png_tooth_0_png.rf.a2268164d6da2c67c88ac43cf75cc7c0.jpg     \b\b\b\b  3%\b\b\b\b\b  OK \n",
            "Extracting  /content/dataset_2/test/caries_superficial/caries-622-_png_tooth_0_png.rf.012eee3b73f3078c90f59ae0c26f6ed5.jpg     \b\b\b\b  3%\b\b\b\b\b  OK \n",
            "Extracting  /content/dataset_2/test/caries_superficial/caries-690-_png_tooth_0_png.rf.fef1e5aa14075f0a21afeb41e2f15a2c.jpg     \b\b\b\b  3%\b\b\b\b\b  OK \n",
            "Extracting  /content/dataset_2/test/caries_superficial/caries-705-_png_tooth_0_png.rf.7abcc780389d35b9bd2a7cac0f24f2ff.jpg     \b\b\b\b  3%\b\b\b\b\b  OK \n",
            "Extracting  /content/dataset_2/test/caries_superficial/Frame-217_jpg_tooth_0_png.rf.2af8049aa55ec5bef8e023d64b901d96.jpg     \b\b\b\b  4%\b\b\b\b\b  OK \n",
            "Extracting  /content/dataset_2/test/caries_superficial/Frame-427_jpg_tooth_1_png.rf.2a6569a5a4c53870d7ba553baef3b988.jpg     \b\b\b\b  4%\b\b\b\b\b  OK \n",
            "Creating    /content/dataset_2/test/noncaries                         OK\n",
            "Extracting  /content/dataset_2/test/noncaries/caries-120-_png_tooth_0_png.rf.ba52f6cd1841c187596af53d6ebc0840.jpg     \b\b\b\b  4%\b\b\b\b\b  OK \n",
            "Extracting  /content/dataset_2/test/noncaries/caries-127-_png_tooth_0_png.rf.9fec6f5a9e38045cdf7156be1c65f13f.jpg     \b\b\b\b  4%\b\b\b\b\b  OK \n",
            "Extracting  /content/dataset_2/test/noncaries/caries-127-_png_tooth_1_png.rf.099381ca06d65a06532d6e36d3828f7f.jpg     \b\b\b\b  4%\b\b\b\b\b  OK \n",
            "Extracting  /content/dataset_2/test/noncaries/caries-130-_png_tooth_1_png.rf.35a60ca93983ceec6751467d5a996a95.jpg     \b\b\b\b  4%\b\b\b\b\b  OK \n",
            "Extracting  /content/dataset_2/test/noncaries/caries-136-_png_tooth_0_png.rf.3ff10d81298db43b8b5167c06418b58c.jpg     \b\b\b\b  4%\b\b\b\b\b  OK \n",
            "Extracting  /content/dataset_2/test/noncaries/caries-140-_png_tooth_0_png.rf.604fe72c7378c538341fe326464b3568.jpg     \b\b\b\b  4%\b\b\b\b\b  OK \n",
            "Extracting  /content/dataset_2/test/noncaries/caries-150-_png_tooth_1_png.rf.ccd75e74e5e394a7eda24f5c92735512.jpg     \b\b\b\b  4%\b\b\b\b\b  OK \n",
            "Extracting  /content/dataset_2/test/noncaries/caries-153-_png_tooth_1_png.rf.90cd3d1a7cd812098587c36c9aa3d37f.jpg     \b\b\b\b  4%\b\b\b\b\b  OK \n",
            "Extracting  /content/dataset_2/test/noncaries/caries-155-_png_tooth_0_png.rf.c29d4ca48c49a6188c9d5b2438d8b406.jpg     \b\b\b\b  4%\b\b\b\b\b  OK \n",
            "Extracting  /content/dataset_2/test/noncaries/caries-159-_png_tooth_0_png.rf.987e49035bbd1dfc5f13e78db993c50f.jpg     \b\b\b\b  4%\b\b\b\b\b  OK \n",
            "Extracting  /content/dataset_2/test/noncaries/caries-16-_png_tooth_0_png.rf.f7a272af52b19ac7366ca0c7ac556057.jpg     \b\b\b\b  4%\b\b\b\b\b  OK \n",
            "Extracting  /content/dataset_2/test/noncaries/caries-17-_png_tooth_0_png.rf.692b34c03a84acc2eb620e68965313b5.jpg     \b\b\b\b  4%\b\b\b\b\b  OK \n",
            "Extracting  /content/dataset_2/test/noncaries/caries-175-_png_tooth_0_png.rf.ed7a1a19cd23e8b6a9567be4d4d7d12c.jpg     \b\b\b\b  4%\b\b\b\b\b  OK \n",
            "Extracting  /content/dataset_2/test/noncaries/caries-18-_png_tooth_1_png.rf.577d0ca128d1d91965609d7eecac9fe8.jpg     \b\b\b\b  4%\b\b\b\b\b  OK \n",
            "Extracting  /content/dataset_2/test/noncaries/caries-183-_png_tooth_1_png.rf.a6841fb15faa3a0e3ac387f016f4f66d.jpg     \b\b\b\b  4%\b\b\b\b\b  OK \n",
            "Extracting  /content/dataset_2/test/noncaries/caries-185-_png_tooth_1_png.rf.3f14c57e7d8c73724589a75a14db4025.jpg     \b\b\b\b  4%\b\b\b\b\b  OK \n",
            "Extracting  /content/dataset_2/test/noncaries/caries-200-_png_tooth_0_png.rf.05c520877dfa10bfa9774f51c42f9745.jpg     \b\b\b\b  5%\b\b\b\b\b  OK \n",
            "Extracting  /content/dataset_2/test/noncaries/caries-204-_png_tooth_1_png.rf.3b4b492c7ec9d94c21d05d7efe81b869.jpg     \b\b\b\b  5%\b\b\b\b\b  OK \n",
            "Extracting  /content/dataset_2/test/noncaries/caries-213-_png_tooth_0_png.rf.2de785c5d7f15b5556a0532b7b6666e3.jpg     \b\b\b\b  5%\b\b\b\b\b  OK \n",
            "Extracting  /content/dataset_2/test/noncaries/caries-223-_png_tooth_2_png.rf.5d96a1c0c9811a21b8f90e154346e2e6.jpg     \b\b\b\b  5%\b\b\b\b\b  OK \n",
            "Extracting  /content/dataset_2/test/noncaries/caries-250-_png_tooth_1_png.rf.5d0461137fa9a117c824a9d22c3bdf76.jpg     \b\b\b\b  5%\b\b\b\b\b  OK \n",
            "Extracting  /content/dataset_2/test/noncaries/caries-3-_png_tooth_2_png.rf.a3012cd48f8f472f040fe2b9ae4c5d31.jpg     \b\b\b\b  5%\b\b\b\b\b  OK \n",
            "Extracting  /content/dataset_2/test/noncaries/caries-3-_png_tooth_3_png.rf.4fdc4cb5d8d706f57fcec0c138529988.jpg     \b\b\b\b  5%\b\b\b\b\b  OK \n",
            "Extracting  /content/dataset_2/test/noncaries/caries-33-_png_tooth_0_png.rf.90860572210390e2a9554d1e0edf04d3.jpg     \b\b\b\b  5%\b\b\b\b\b  OK \n",
            "Extracting  /content/dataset_2/test/noncaries/caries-362-_png_tooth_0_png.rf.3813a03e56c9803f9ffefa9c87562460.jpg     \b\b\b\b  5%\b\b\b\b\b  OK \n",
            "Extracting  /content/dataset_2/test/noncaries/caries-450-_png_tooth_0_png.rf.b7ca628d312115dd30a01e97e88730ca.jpg     \b\b\b\b  5%\b\b\b\b\b  OK \n",
            "Extracting  /content/dataset_2/test/noncaries/caries-5-_png_tooth_2_png.rf.23fc85ae17f7ac80200e486e5f31de29.jpg     \b\b\b\b  5%\b\b\b\b\b  OK \n",
            "Extracting  /content/dataset_2/test/noncaries/caries-517-_png_tooth_0_png.rf.bfd846d85c18c483e10f1d587687e8f6.jpg     \b\b\b\b  5%\b\b\b\b\b  OK \n",
            "Extracting  /content/dataset_2/test/noncaries/caries-531-_png_tooth_0_png.rf.5a480eb24c9e55248b25914eb7df1a26.jpg     \b\b\b\b  5%\b\b\b\b\b  OK \n",
            "Extracting  /content/dataset_2/test/noncaries/caries-574-_png_tooth_0_png.rf.e2541ccca4d8cbf3d58c2dec5886af4d.jpg     \b\b\b\b  5%\b\b\b\b\b  OK \n",
            "Extracting  /content/dataset_2/test/noncaries/caries-63-_png_tooth_1_png.rf.fb1fa4c20f4f78c32b2fd9a78d403dc6.jpg     \b\b\b\b  5%\b\b\b\b\b  OK \n",
            "Extracting  /content/dataset_2/test/noncaries/caries-637-_png_tooth_0_png.rf.05ffe6b2d4cc4e3d2b24c83804cddf07.jpg     \b\b\b\b  5%\b\b\b\b\b  OK \n",
            "Extracting  /content/dataset_2/test/noncaries/caries-712-_png_tooth_0_png.rf.d9ac0a9a2f768dbd7c9f2fbdb0221800.jpg     \b\b\b\b  6%\b\b\b\b\b  OK \n",
            "Extracting  /content/dataset_2/test/noncaries/caries-716-_png_tooth_1_png.rf.79c5e576ce2520c62ae7feb2b27ba81f.jpg     \b\b\b\b  6%\b\b\b\b\b  OK \n",
            "Extracting  /content/dataset_2/test/noncaries/caries-724-_png_tooth_0_png.rf.ec68f6a7b771a943b07182bfb8324a14.jpg     \b\b\b\b  6%\b\b\b\b\b  OK \n",
            "Extracting  /content/dataset_2/test/noncaries/caries-742-_png_tooth_0_png.rf.afefd93a790712fbb1c85260bb063fdb.jpg     \b\b\b\b  6%\b\b\b\b\b  OK \n",
            "Extracting  /content/dataset_2/test/noncaries/caries-764-_png_tooth_0_png.rf.5e2375e624a357966922ce050207c494.jpg     \b\b\b\b  6%\b\b\b\b\b  OK \n",
            "Extracting  /content/dataset_2/test/noncaries/caries-780-_png_tooth_0_png.rf.591ae2bf82ae53df14156776b3f9c6b4.jpg     \b\b\b\b  6%\b\b\b\b\b  OK \n",
            "Extracting  /content/dataset_2/test/noncaries/caries-80-_png_tooth_0_png.rf.db1916307ecbee76fc222202a8bf6a9f.jpg     \b\b\b\b  6%\b\b\b\b\b  OK \n",
            "Extracting  /content/dataset_2/test/noncaries/caries-9-_png_tooth_0_png.rf.3fcea56aa45cd923f3a7e895dcf1c257.jpg     \b\b\b\b  6%\b\b\b\b\b  OK \n",
            "Extracting  /content/dataset_2/test/noncaries/Frame-225_jpg_tooth_0_png.rf.e05f848033697d927e127a09c6ee8a85.jpg     \b\b\b\b  6%\b\b\b\b\b  OK \n",
            "Extracting  /content/dataset_2/test/noncaries/Frame-246_jpg_tooth_0_png.rf.90821ae11409dff89d584fd36621aabb.jpg     \b\b\b\b  6%\b\b\b\b\b  OK \n",
            "Extracting  /content/dataset_2/test/noncaries/Frame-251_jpg_tooth_1_png.rf.b14f29431667ce69e3dbefc0674844c5.jpg     \b\b\b\b  6%\b\b\b\b\b  OK \n",
            "Extracting  /content/dataset_2/test/noncaries/Frame-255_jpg_tooth_2_png.rf.e879d1d9e944bc04dd446f937886948d.jpg     \b\b\b\b  6%\b\b\b\b\b  OK \n",
            "Extracting  /content/dataset_2/test/noncaries/Frame-257_jpg_tooth_1_png.rf.15fc2e4d1521b5e8e9a35786a7d7675f.jpg     \b\b\b\b  6%\b\b\b\b\b  OK \n",
            "Extracting  /content/dataset_2/test/noncaries/Frame-257_jpg_tooth_2_png.rf.56571db3a873b70ca5410a96ab40a065.jpg     \b\b\b\b  6%\b\b\b\b\b  OK \n",
            "Extracting  /content/dataset_2/test/noncaries/Frame-262_jpg_tooth_2_png.rf.1edc774e2f64b91b14c6b1ab9884f037.jpg     \b\b\b\b  7%\b\b\b\b\b  OK \n",
            "Extracting  /content/dataset_2/test/noncaries/Frame-264_jpg_tooth_1_png.rf.edb7a1a7ab806d6df76d366816172f45.jpg     \b\b\b\b  7%\b\b\b\b\b  OK \n",
            "Extracting  /content/dataset_2/test/noncaries/Frame-267_jpg_tooth_1_png.rf.395ffecd007f4c32826b4af5bc7fe281.jpg     \b\b\b\b  7%\b\b\b\b\b  OK \n",
            "Extracting  /content/dataset_2/test/noncaries/Frame-271_jpg_tooth_1_png.rf.c4256a18ebd16a56b31e50f51ef32eca.jpg     \b\b\b\b  7%\b\b\b\b\b  OK \n",
            "Extracting  /content/dataset_2/test/noncaries/Frame-272_jpg_tooth_0_png.rf.4c54176e7289e1f7e1ab6d91c6d62da0.jpg     \b\b\b\b  7%\b\b\b\b\b  OK \n",
            "Extracting  /content/dataset_2/test/noncaries/Frame-274_jpg_tooth_1_png.rf.1f3113ee2dfc78e42c4b5c2ca219e087.jpg     \b\b\b\b  7%\b\b\b\b\b  OK \n",
            "Extracting  /content/dataset_2/test/noncaries/Frame-283_jpg_tooth_0_png.rf.f57b32deff4aa5104407c8c897e88a13.jpg     \b\b\b\b  7%\b\b\b\b\b  OK \n",
            "Extracting  /content/dataset_2/test/noncaries/Frame-288_jpg_tooth_1_png.rf.9435f39ba04b6d910ccbd4643ba35fcf.jpg     \b\b\b\b  7%\b\b\b\b\b  OK \n",
            "Extracting  /content/dataset_2/test/noncaries/Frame-289_jpg_tooth_0_png.rf.a5a24f15361e86528414589c51127d6c.jpg     \b\b\b\b  7%\b\b\b\b\b  OK \n",
            "Extracting  /content/dataset_2/test/noncaries/Frame-318_jpg_tooth_1_png.rf.8c6f53f8d8770580a1badac675420165.jpg     \b\b\b\b  7%\b\b\b\b\b  OK \n",
            "Extracting  /content/dataset_2/test/noncaries/Frame-343_jpg_tooth_1_png.rf.7bc02e7f6c413f837cfde33d8c35209d.jpg     \b\b\b\b  7%\b\b\b\b\b  OK \n",
            "Extracting  /content/dataset_2/test/noncaries/Frame-344_jpg_tooth_0_png.rf.7fdd9d931beb5ff2b74f650b226d5e70.jpg     \b\b\b\b  7%\b\b\b\b\b  OK \n",
            "Extracting  /content/dataset_2/test/noncaries/Frame-350_jpg_tooth_0_png.rf.830eeabee9f1c3e950d4b7bc6eb6e647.jpg     \b\b\b\b  7%\b\b\b\b\b  OK \n",
            "Extracting  /content/dataset_2/test/noncaries/Frame-350_jpg_tooth_1_png.rf.1d339337d72b7a6b1a409b0c16bd945c.jpg     \b\b\b\b  7%\b\b\b\b\b  OK \n",
            "Extracting  /content/dataset_2/test/noncaries/Frame-351_jpg_tooth_0_png.rf.522ca4bfb6803d5acc4b9486084c3bb2.jpg     \b\b\b\b  7%\b\b\b\b\b  OK \n",
            "Extracting  /content/dataset_2/test/noncaries/Frame-357_jpg_tooth_1_png.rf.38cf600a5422991eb3ebc2090156aed3.jpg     \b\b\b\b  7%\b\b\b\b\b  OK \n",
            "Extracting  /content/dataset_2/test/noncaries/Frame-362_jpg_tooth_3_png.rf.71ff0f1af1996206f299b1bd9beabfbf.jpg     \b\b\b\b  8%\b\b\b\b\b  OK \n",
            "Extracting  /content/dataset_2/test/noncaries/Frame-370_jpg_tooth_0_png.rf.f45cfd963d7ffa286965e0c66dd3ca2c.jpg     \b\b\b\b  8%\b\b\b\b\b  OK \n",
            "Extracting  /content/dataset_2/test/noncaries/Frame-388_jpg_tooth_2_png.rf.2ca26d5d4e19bf25adcffc8abb1d4354.jpg     \b\b\b\b  8%\b\b\b\b\b  OK \n",
            "Extracting  /content/dataset_2/test/noncaries/Frame-389_jpg_tooth_1_png.rf.bc507104cedeb093d8b0a1d9b5991a1f.jpg     \b\b\b\b  8%\b\b\b\b\b  OK \n",
            "Extracting  /content/dataset_2/test/noncaries/Frame-409_jpg_tooth_3_png.rf.1a5d93285c747223d2c78ae42e68ebf3.jpg     \b\b\b\b  8%\b\b\b\b\b  OK \n",
            "Extracting  /content/dataset_2/test/noncaries/Frame-418_jpg_tooth_0_png.rf.f24d5ff7f10764cd655187bb87ced224.jpg     \b\b\b\b  8%\b\b\b\b\b  OK \n",
            "Extracting  /content/dataset_2/test/noncaries/Frame-426_jpg_tooth_2_png.rf.f65ca30ce40bd68943aee1d61c4a174b.jpg     \b\b\b\b  8%\b\b\b\b\b  OK \n",
            "Extracting  /content/dataset_2/test/noncaries/healthy-1-_png_tooth_1_png.rf.8e0eec31374242eba70429e2fe166476.jpg     \b\b\b\b  8%\b\b\b\b\b  OK \n",
            "Extracting  /content/dataset_2/test/noncaries/healthy-11-_png_tooth_1_png.rf.78a610dc449067d4d73e434e21bddd98.jpg     \b\b\b\b  8%\b\b\b\b\b  OK \n",
            "Extracting  /content/dataset_2/test/noncaries/healthy-115-_png_tooth_0_png.rf.e77b29ff16859d9c75e1ed203e4bc077.jpg     \b\b\b\b  8%\b\b\b\b\b  OK \n",
            "Extracting  /content/dataset_2/test/noncaries/healthy-117-_png_tooth_1_png.rf.e275343db02200b4194e94185a8d730b.jpg     \b\b\b\b  8%\b\b\b\b\b  OK \n",
            "Extracting  /content/dataset_2/test/noncaries/healthy-121-_png_tooth_0_png.rf.d9b59dc4225186d9827a72c4444f6852.jpg     \b\b\b\b  8%\b\b\b\b\b  OK \n",
            "Extracting  /content/dataset_2/test/noncaries/healthy-122-_png_tooth_0_png.rf.d38e1ee30e608c28dde6c1ac11c16275.jpg     \b\b\b\b  8%\b\b\b\b\b  OK \n",
            "Extracting  /content/dataset_2/test/noncaries/healthy-123-_png_tooth_1_png.rf.f64a3fdf438259faee117fe906e8ac6f.jpg     \b\b\b\b  8%\b\b\b\b\b  OK \n",
            "Extracting  /content/dataset_2/test/noncaries/healthy-132-_png_tooth_3_png.rf.c2d5db0d800c0f3b90420be355604190.jpg     \b\b\b\b  8%\b\b\b\b\b  OK \n",
            "Extracting  /content/dataset_2/test/noncaries/healthy-133-_png_tooth_3_png.rf.fea3b868634ec898cb4011f0d87a370a.jpg     \b\b\b\b  8%\b\b\b\b\b  OK \n",
            "Extracting  /content/dataset_2/test/noncaries/healthy-134-_png_tooth_0_png.rf.4ea5a05c98521e2f5a13497c207be9c5.jpg     \b\b\b\b  8%\b\b\b\b\b  OK \n",
            "Extracting  /content/dataset_2/test/noncaries/healthy-14-_png_tooth_2_png.rf.78665fc2b210242fbbfb9a5520110d55.jpg     \b\b\b\b  8%\b\b\b\b\b  OK \n",
            "Extracting  /content/dataset_2/test/noncaries/healthy-149-_png_tooth_0_png.rf.ea4a2bcdc821a14b31ac9a697daab5a2.jpg     \b\b\b\b  8%\b\b\b\b\b  OK \n",
            "Extracting  /content/dataset_2/test/noncaries/healthy-154-_png_tooth_0_png.rf.69dcaaea4729c0792591e718743d2bd9.jpg     \b\b\b\b  8%\b\b\b\b\b  OK \n",
            "Extracting  /content/dataset_2/test/noncaries/healthy-160-_png_tooth_1_png.rf.8d73886e454a71250f3750aa6efd7754.jpg     \b\b\b\b  9%\b\b\b\b\b  OK \n",
            "Extracting  /content/dataset_2/test/noncaries/healthy-163-_png_tooth_0_png.rf.fd94fbc3a83efb14ac042eca6810c2c2.jpg     \b\b\b\b  9%\b\b\b\b\b  OK \n",
            "Extracting  /content/dataset_2/test/noncaries/healthy-2-_png_tooth_0_png.rf.73e84e064e42a744ac98ce1710767b28.jpg     \b\b\b\b  9%\b\b\b\b\b  OK \n",
            "Extracting  /content/dataset_2/test/noncaries/healthy-22-_png_tooth_1_png.rf.1451693abf268594959d11229e193426.jpg     \b\b\b\b  9%\b\b\b\b\b  OK \n",
            "Extracting  /content/dataset_2/test/noncaries/healthy-24-_png_tooth_0_png.rf.7658e53e4b88e0f2cdd1dc3dd915b309.jpg     \b\b\b\b  9%\b\b\b\b\b  OK \n",
            "Extracting  /content/dataset_2/test/noncaries/healthy-28-_png_tooth_0_png.rf.8774b8ec28abb3c5e370029efba739bf.jpg     \b\b\b\b  9%\b\b\b\b\b  OK \n",
            "Extracting  /content/dataset_2/test/noncaries/healthy-3-_png_tooth_2_png.rf.f3143a996ff80eccedbe16dff97831a4.jpg     \b\b\b\b  9%\b\b\b\b\b  OK \n",
            "Extracting  /content/dataset_2/test/noncaries/healthy-32-_png_tooth_1_png.rf.0aac4f93d925b417de92bbb7ef7fbd2c.jpg     \b\b\b\b  9%\b\b\b\b\b  OK \n",
            "Extracting  /content/dataset_2/test/noncaries/healthy-38-_png_tooth_1_png.rf.f3bb92e59edd180b6de850f554c554db.jpg     \b\b\b\b  9%\b\b\b\b\b  OK \n",
            "Extracting  /content/dataset_2/test/noncaries/healthy-47-_png_tooth_2_png.rf.c721a32156a9aabdbb2e9585565defa1.jpg     \b\b\b\b  9%\b\b\b\b\b  OK \n",
            "Extracting  /content/dataset_2/test/noncaries/healthy-48-_png_tooth_0_png.rf.1b8c3a7d14d094cf86c43762bc303b0a.jpg     \b\b\b\b  9%\b\b\b\b\b  OK \n",
            "Extracting  /content/dataset_2/test/noncaries/healthy-74-_png_tooth_1_png.rf.dfcc4149a30412b5a3fbc7a9e33c30e4.jpg     \b\b\b\b  9%\b\b\b\b\b  OK \n",
            "Extracting  /content/dataset_2/test/noncaries/healthy-79-_png_tooth_0_png.rf.a6c191abe647df26a12adfea77b26220.jpg     \b\b\b\b  9%\b\b\b\b\b  OK \n",
            "Extracting  /content/dataset_2/test/noncaries/healthy-82-_png_tooth_0_png.rf.348b5d87c59aecd0db9d1674b538f9be.jpg     \b\b\b\b  9%\b\b\b\b\b  OK \n",
            "Extracting  /content/dataset_2/test/noncaries/healthy-89-_png_tooth_0_png.rf.7223f0a070a128072317b87d64a950b7.jpg     \b\b\b\b  9%\b\b\b\b\b  OK \n",
            "Extracting  /content/dataset_2/test/noncaries/healthy-90-_png_tooth_0_png.rf.80a1714d75380713b5eee113a61ed53b.jpg     \b\b\b\b  9%\b\b\b\b\b  OK \n",
            "Extracting  /content/dataset_2/test/noncaries/healthy-95-_png_tooth_0_png.rf.1e7e8c5b548084f80c80b80ee55a051f.jpg     \b\b\b\b  9%\b\b\b\b\b  OK \n",
            "Extracting  /content/dataset_2/test/noncaries/healthy-96-_png_tooth_1_png.rf.ac0837f02d3135dc7aaf59303b0d973e.jpg     \b\b\b\b 10%\b\b\b\b\b  OK \n",
            "Extracting  /content/dataset_2/test/noncaries/healthy-98-_png_tooth_1_png.rf.0556123baa54c4af8a36fc37954bd61b.jpg     \b\b\b\b 10%\b\b\b\b\b  OK \n",
            "Creating    /content/dataset_2/train                                  OK\n",
            "Creating    /content/dataset_2/train/caries_media                     OK\n",
            "Extracting  /content/dataset_2/train/caries_media/caries-100-_png_tooth_0_png.rf.77c4feb64900aaf2a5b3700c83c1fa55.jpg     \b\b\b\b 10%\b\b\b\b\b  OK \n",
            "Extracting  /content/dataset_2/train/caries_media/caries-101-_png_tooth_0_png.rf.6eb5be9009249a88a19d08a1ccce44d7.jpg     \b\b\b\b 10%\b\b\b\b\b  OK \n",
            "Extracting  /content/dataset_2/train/caries_media/caries-102-_png_tooth_0_png.rf.de4eb72de6152f8c2f3d8173bdedbf56.jpg     \b\b\b\b 10%\b\b\b\b\b  OK \n",
            "Extracting  /content/dataset_2/train/caries_media/caries-106-_png_tooth_0_png.rf.8e5ccd3e301acf67667332b1e27c2138.jpg     \b\b\b\b 10%\b\b\b\b\b  OK \n",
            "Extracting  /content/dataset_2/train/caries_media/caries-106-_png_tooth_1_png.rf.14a79c0266f6772467babc3e707f17fd.jpg     \b\b\b\b 10%\b\b\b\b\b  OK \n",
            "Extracting  /content/dataset_2/train/caries_media/caries-107-_png_tooth_0_png.rf.9c0f418ee59ed055d787066ed4754680.jpg     \b\b\b\b 10%\b\b\b\b\b  OK \n",
            "Extracting  /content/dataset_2/train/caries_media/caries-108-_png_tooth_1_png.rf.80e2abc720e3a31488e7f8249d82ae15.jpg     \b\b\b\b 10%\b\b\b\b\b  OK \n",
            "Extracting  /content/dataset_2/train/caries_media/caries-109-_png_tooth_1_png.rf.15dd7d7d1c1fdf85a4c3128148bb0750.jpg     \b\b\b\b 10%\b\b\b\b\b  OK \n",
            "Extracting  /content/dataset_2/train/caries_media/caries-110-_png_tooth_0_png.rf.0abacc5bb6560d543538a0b91804bffd.jpg     \b\b\b\b 10%\b\b\b\b\b  OK \n",
            "Extracting  /content/dataset_2/train/caries_media/caries-110-_png_tooth_1_png.rf.0d40a62a3111b83d134a6ed528d3c5df.jpg     \b\b\b\b 10%\b\b\b\b\b  OK \n",
            "Extracting  /content/dataset_2/train/caries_media/caries-111-_png_tooth_0_png.rf.88961fad723c17bc0e6a4d816750e228.jpg     \b\b\b\b 10%\b\b\b\b\b  OK \n",
            "Extracting  /content/dataset_2/train/caries_media/caries-111-_png_tooth_1_png.rf.063b6a21ddcd17dd6231f24340350144.jpg     \b\b\b\b 10%\b\b\b\b\b  OK \n",
            "Extracting  /content/dataset_2/train/caries_media/caries-112-_png_tooth_0_png.rf.354ed5006ca9df62ef88d471f0dd6c0d.jpg     \b\b\b\b 10%\b\b\b\b\b  OK \n",
            "Extracting  /content/dataset_2/train/caries_media/caries-112-_png_tooth_1_png.rf.02b9c0800038a632dc1a904ceca52863.jpg     \b\b\b\b 10%\b\b\b\b\b  OK \n",
            "Extracting  /content/dataset_2/train/caries_media/caries-117-_png_tooth_0_png.rf.2292a61d862386926a7da0185186b209.jpg     \b\b\b\b 10%\b\b\b\b\b  OK \n",
            "Extracting  /content/dataset_2/train/caries_media/caries-118-_png_tooth_0_png.rf.d5c3ee316ff0a20d65a16a7168a6fd6c.jpg     \b\b\b\b 11%\b\b\b\b\b  OK \n",
            "Extracting  /content/dataset_2/train/caries_media/caries-119-_png_tooth_1_png.rf.d8e9ac14270253a8cca43066380135e3.jpg     \b\b\b\b 11%\b\b\b\b\b  OK \n",
            "Extracting  /content/dataset_2/train/caries_media/caries-122-_png_tooth_1_png.rf.895cfdda54c4cd1e8b93349a1f3d823e.jpg     \b\b\b\b 11%\b\b\b\b\b  OK \n",
            "Extracting  /content/dataset_2/train/caries_media/caries-136-_png_tooth_1_png.rf.af7748a3000e88ab01884a1fb923a079.jpg     \b\b\b\b 11%\b\b\b\b\b  OK \n",
            "Extracting  /content/dataset_2/train/caries_media/caries-140-_png_tooth_1_png.rf.fdd6db09f51822d3f91c0f31804eeb9a.jpg     \b\b\b\b 11%\b\b\b\b\b  OK \n",
            "Extracting  /content/dataset_2/train/caries_media/caries-144-_png_tooth_1_png.rf.5d87cf974a370d453acea6085f21a301.jpg     \b\b\b\b 11%\b\b\b\b\b  OK \n",
            "Extracting  /content/dataset_2/train/caries_media/caries-147-_png_tooth_0_png.rf.72612d8fb7a9d0c285083ce02057fdbb.jpg     \b\b\b\b 11%\b\b\b\b\b  OK \n",
            "Extracting  /content/dataset_2/train/caries_media/caries-154-_png_tooth_0_png.rf.c0fcf32c70b2f1794eb8339bed9947a0.jpg     \b\b\b\b 11%\b\b\b\b\b  OK \n",
            "Extracting  /content/dataset_2/train/caries_media/caries-157-_png_tooth_0_png.rf.8b71c5dd3be4a037e642effe0a7e767e.jpg     \b\b\b\b 11%\b\b\b\b\b  OK \n",
            "Extracting  /content/dataset_2/train/caries_media/caries-165-_png_tooth_0_png.rf.7e14f4a9b2e5d5b7ed7f5a911ceb8311.jpg     \b\b\b\b 11%\b\b\b\b\b  OK \n",
            "Extracting  /content/dataset_2/train/caries_media/caries-165-_png_tooth_1_png.rf.2dcd3a0e3907415187047604975cf6eb.jpg     \b\b\b\b 11%\b\b\b\b\b  OK \n",
            "Extracting  /content/dataset_2/train/caries_media/caries-166-_png_tooth_1_png.rf.b8f5e0754f4774891e3c1fdb0240318b.jpg     \b\b\b\b 11%\b\b\b\b\b  OK \n",
            "Extracting  /content/dataset_2/train/caries_media/caries-166-_png_tooth_2_png.rf.0b209c113a667bcbf0d6e7d35e731f8a.jpg     \b\b\b\b 11%\b\b\b\b\b  OK \n",
            "Extracting  /content/dataset_2/train/caries_media/caries-167-_png_tooth_2_png.rf.32763f3bd6656ece7f81f6918908334e.jpg     \b\b\b\b 11%\b\b\b\b\b  OK \n",
            "Extracting  /content/dataset_2/train/caries_media/caries-168-_png_tooth_1_png.rf.400040cfd6c24cf4e72141e99b1971a6.jpg     \b\b\b\b 11%\b\b\b\b\b  OK \n",
            "Extracting  /content/dataset_2/train/caries_media/caries-169-_png_tooth_0_png.rf.5f5567591ea053d9b25a457e63a8c1a6.jpg     \b\b\b\b 11%\b\b\b\b\b  OK \n",
            "Extracting  /content/dataset_2/train/caries_media/caries-17-_png_tooth_1_png.rf.8526676d79069475760a7a0b44626a5a.jpg     \b\b\b\b 11%\b\b\b\b\b  OK \n",
            "Extracting  /content/dataset_2/train/caries_media/caries-170-_png_tooth_1_png.rf.3aa99f5d24940feca911338236b0e9ef.jpg     \b\b\b\b 11%\b\b\b\b\b  OK \n",
            "Extracting  /content/dataset_2/train/caries_media/caries-171-_png_tooth_1_png.rf.1b168b54730701947c09b3c2a7ee9053.jpg     \b\b\b\b 11%\b\b\b\b\b  OK \n",
            "Extracting  /content/dataset_2/train/caries_media/caries-172-_png_tooth_1_png.rf.194501f9ea3e8d3ff1dc54953125d257.jpg     \b\b\b\b 11%\b\b\b\b\b  OK \n",
            "Extracting  /content/dataset_2/train/caries_media/caries-174-_png_tooth_1_png.rf.f365931c0dad74cf302bddbb15c2f3de.jpg     \b\b\b\b 12%\b\b\b\b\b  OK \n",
            "Extracting  /content/dataset_2/train/caries_media/caries-174-_png_tooth_2_png.rf.129f2a2e388a2e181c69638a786d9f12.jpg     \b\b\b\b 12%\b\b\b\b\b  OK \n",
            "Extracting  /content/dataset_2/train/caries_media/caries-176-_png_tooth_1_png.rf.603d446bcad67aaa01adc6be8f848ca4.jpg     \b\b\b\b 12%\b\b\b\b\b  OK \n",
            "Extracting  /content/dataset_2/train/caries_media/caries-176-_png_tooth_2_png.rf.53a1e198f60128503e7db57d26d9242d.jpg     \b\b\b\b 12%\b\b\b\b\b  OK \n",
            "Extracting  /content/dataset_2/train/caries_media/caries-177-_png_tooth_0_png.rf.e87b4fe24dab1bad8e513567f3f62b60.jpg     \b\b\b\b 12%\b\b\b\b\b  OK \n",
            "Extracting  /content/dataset_2/train/caries_media/caries-177-_png_tooth_1_png.rf.eb47aad55911aee35eff42c53390380d.jpg     \b\b\b\b 12%\b\b\b\b\b  OK \n",
            "Extracting  /content/dataset_2/train/caries_media/caries-178-_png_tooth_0_png.rf.3dc9c3da572b8a1a1b2fe9bed63ae984.jpg     \b\b\b\b 12%\b\b\b\b\b  OK \n",
            "Extracting  /content/dataset_2/train/caries_media/caries-178-_png_tooth_1_png.rf.d7e19f8d0eb006712470b93611193e7f.jpg     \b\b\b\b 12%\b\b\b\b\b  OK \n",
            "Extracting  /content/dataset_2/train/caries_media/caries-179-_png_tooth_0_png.rf.39889bd9f1b5a5d3ef67eae08b891428.jpg     \b\b\b\b 12%\b\b\b\b\b  OK \n",
            "Extracting  /content/dataset_2/train/caries_media/caries-180-_png_tooth_0_png.rf.299450fc8eadfb4510dc4bf0a8267abf.jpg     \b\b\b\b 12%\b\b\b\b\b  OK \n",
            "Extracting  /content/dataset_2/train/caries_media/caries-180-_png_tooth_1_png.rf.9242ab8dc5f8b05ca495056fe3f9b2fb.jpg     \b\b\b\b 12%\b\b\b\b\b  OK \n",
            "Extracting  /content/dataset_2/train/caries_media/caries-181-_png_tooth_0_png.rf.08b5cb3dba1b64287c583c668c93ba42.jpg     \b\b\b\b 12%\b\b\b\b\b  OK \n",
            "Extracting  /content/dataset_2/train/caries_media/caries-181-_png_tooth_1_png.rf.82c232cbd4b5ab843c703be6829055f5.jpg     \b\b\b\b 12%\b\b\b\b\b  OK \n",
            "Extracting  /content/dataset_2/train/caries_media/caries-182-_png_tooth_0_png.rf.bf5fbca55ab3cff1e02deab29c947af8.jpg     \b\b\b\b 12%\b\b\b\b\b  OK \n",
            "Extracting  /content/dataset_2/train/caries_media/caries-183-_png_tooth_0_png.rf.8ef128694eee766168978e242e5127f3.jpg     \b\b\b\b 12%\b\b\b\b\b  OK \n",
            "Extracting  /content/dataset_2/train/caries_media/caries-187-_png_tooth_1_png.rf.df7ae24825bd59be616d6fe42894cc1f.jpg     \b\b\b\b 12%\b\b\b\b\b  OK \n",
            "Extracting  /content/dataset_2/train/caries_media/caries-189-_png_tooth_2_png.rf.324d83c1c7dae0fab8bd235b90fe92a2.jpg     \b\b\b\b 12%\b\b\b\b\b  OK \n",
            "Extracting  /content/dataset_2/train/caries_media/caries-191-_png_tooth_1_png.rf.58016c4282bb6acd753695c455bf27f3.jpg     \b\b\b\b 12%\b\b\b\b\b  OK \n",
            "Extracting  /content/dataset_2/train/caries_media/caries-192-_png_tooth_0_png.rf.341913aa8493afa78b9fcdb723652a16.jpg     \b\b\b\b 12%\b\b\b\b\b  OK \n",
            "Extracting  /content/dataset_2/train/caries_media/caries-194-_png_tooth_1_png.rf.14bd92d021c6a16f36f20cc6022dbdbc.jpg     \b\b\b\b 12%\b\b\b\b\b  OK \n",
            "Extracting  /content/dataset_2/train/caries_media/caries-196-_png_tooth_0_png.rf.14355a932e6c980f7cf4a955810a5f3e.jpg     \b\b\b\b 13%\b\b\b\b\b  OK \n",
            "Extracting  /content/dataset_2/train/caries_media/caries-197-_png_tooth_0_png.rf.5f9461e3c0d39bf01b2741385f855c26.jpg     \b\b\b\b 13%\b\b\b\b\b  OK \n",
            "Extracting  /content/dataset_2/train/caries_media/caries-198-_png_tooth_1_png.rf.f289d085d5bfa63ad4350fea528bbbfa.jpg     \b\b\b\b 13%\b\b\b\b\b  OK \n",
            "Extracting  /content/dataset_2/train/caries_media/caries-199-_png_tooth_1_png.rf.98890d289da34403bfe4b65324ac0b98.jpg     \b\b\b\b 13%\b\b\b\b\b  OK \n",
            "Extracting  /content/dataset_2/train/caries_media/caries-2-_png_tooth_1_png.rf.430ea603d2325fdfad50aebf4d3d0622.jpg     \b\b\b\b 13%\b\b\b\b\b  OK \n",
            "Extracting  /content/dataset_2/train/caries_media/caries-202-_png_tooth_1_png.rf.43d1f862f728f81f9e233a7c69af72ac.jpg     \b\b\b\b 13%\b\b\b\b\b  OK \n",
            "Extracting  /content/dataset_2/train/caries_media/caries-205-_png_tooth_1_png.rf.3c85754aa2347f64fe9dfa892bace456.jpg     \b\b\b\b 13%\b\b\b\b\b  OK \n",
            "Extracting  /content/dataset_2/train/caries_media/caries-206-_png_tooth_0_png.rf.683319ad9d3a947f8f54e495a7c0d5cf.jpg     \b\b\b\b 13%\b\b\b\b\b  OK \n",
            "Extracting  /content/dataset_2/train/caries_media/caries-207-_png_tooth_1_png.rf.a7e586dcc319cc2348f3b4fc7be15840.jpg     \b\b\b\b 13%\b\b\b\b\b  OK \n",
            "Extracting  /content/dataset_2/train/caries_media/caries-209-_png_tooth_1_png.rf.71d71ad2d5c77be11eda2f82a384fa62.jpg     \b\b\b\b 13%\b\b\b\b\b  OK \n",
            "Extracting  /content/dataset_2/train/caries_media/caries-212-_png_tooth_0_png.rf.fe6f974d246a71a5aeee751141fcf23e.jpg     \b\b\b\b 13%\b\b\b\b\b  OK \n",
            "Extracting  /content/dataset_2/train/caries_media/caries-218-_png_tooth_1_png.rf.d937d4d4bfc108875ae969385f5c3460.jpg     \b\b\b\b 13%\b\b\b\b\b  OK \n",
            "Extracting  /content/dataset_2/train/caries_media/caries-218-_png_tooth_3_png.rf.110703108f9f96eae6e15b35feceee0f.jpg     \b\b\b\b 13%\b\b\b\b\b  OK \n",
            "Extracting  /content/dataset_2/train/caries_media/caries-219-_png_tooth_0_png.rf.fe6bea2e72505f1de7116229c19aa678.jpg     \b\b\b\b 13%\b\b\b\b\b  OK \n",
            "Extracting  /content/dataset_2/train/caries_media/caries-220-_png_tooth_0_png.rf.e0617a0846320932b6df7b77bd558d54.jpg     \b\b\b\b 13%\b\b\b\b\b  OK \n",
            "Extracting  /content/dataset_2/train/caries_media/caries-221-_png_tooth_0_png.rf.2dede89b5f5876602fcd1ae44ce8c8e1.jpg     \b\b\b\b 13%\b\b\b\b\b  OK \n",
            "Extracting  /content/dataset_2/train/caries_media/caries-226-_png_tooth_2_png.rf.781a7b3e9f1be284a5c9e58c92e21b07.jpg     \b\b\b\b 13%\b\b\b\b\b  OK \n",
            "Extracting  /content/dataset_2/train/caries_media/caries-229-_png_tooth_2_png.rf.3ee3c0605314560c7d2eefe6a944202b.jpg     \b\b\b\b 13%\b\b\b\b\b  OK \n",
            "Extracting  /content/dataset_2/train/caries_media/caries-230-_png_tooth_2_png.rf.4285729d08a955fa32827de96f4708b2.jpg     \b\b\b\b 13%\b\b\b\b\b  OK \n",
            "Extracting  /content/dataset_2/train/caries_media/caries-231-_png_tooth_2_png.rf.4c0052aab087386dbc8e62812776c0fd.jpg     \b\b\b\b 13%\b\b\b\b\b  OK \n",
            "Extracting  /content/dataset_2/train/caries_media/caries-232-_png_tooth_0_png.rf.642cf249b66bac090af473c6f4e84908.jpg     \b\b\b\b 13%\b\b\b\b\b  OK \n",
            "Extracting  /content/dataset_2/train/caries_media/caries-233-_png_tooth_2_png.rf.a0a5aa0032ce9a8b4f79c5c8aca3d6ad.jpg     \b\b\b\b 13%\b\b\b\b\b  OK \n",
            "Extracting  /content/dataset_2/train/caries_media/caries-233-_png_tooth_3_png.rf.47cf764262e22a373ede67eb8112f50d.jpg     \b\b\b\b 13%\b\b\b\b\b  OK \n",
            "Extracting  /content/dataset_2/train/caries_media/caries-234-_png_tooth_2_png.rf.acd5956001e494a3863850f18899e779.jpg     \b\b\b\b 14%\b\b\b\b\b  OK \n",
            "Extracting  /content/dataset_2/train/caries_media/caries-236-_png_tooth_2_png.rf.f80c73b8e5d6da41958beb36f03d7ae3.jpg     \b\b\b\b 14%\b\b\b\b\b  OK \n",
            "Extracting  /content/dataset_2/train/caries_media/caries-24-_png_tooth_1_png.rf.550d593988b57096056eaf1331e63928.jpg     \b\b\b\b 14%\b\b\b\b\b  OK \n",
            "Extracting  /content/dataset_2/train/caries_media/caries-240-_png_tooth_0_png.rf.a4afb603db77d2ceb186514ed0b042cf.jpg     \b\b\b\b 14%\b\b\b\b\b  OK \n",
            "Extracting  /content/dataset_2/train/caries_media/caries-240-_png_tooth_2_png.rf.cef813bfb73d074ef0f7e0f22baa1a28.jpg     \b\b\b\b 14%\b\b\b\b\b  OK \n",
            "Extracting  /content/dataset_2/train/caries_media/caries-244-_png_tooth_3_png.rf.63e29748ada1f77a51309632a357faf6.jpg     \b\b\b\b 14%\b\b\b\b\b  OK \n",
            "Extracting  /content/dataset_2/train/caries_media/caries-245-_png_tooth_3_png.rf.138aedafa5c836d7cd249134e71482dd.jpg     \b\b\b\b 14%\b\b\b\b\b  OK \n",
            "Extracting  /content/dataset_2/train/caries_media/caries-249-_png_tooth_2_png.rf.6d04c5f4884c1178d3f31f6b9aa23ca8.jpg     \b\b\b\b 14%\b\b\b\b\b  OK \n",
            "Extracting  /content/dataset_2/train/caries_media/caries-25-_png_tooth_1_png.rf.5699090a668c9f486aaa27a00fee04c6.jpg     \b\b\b\b 14%\b\b\b\b\b  OK \n",
            "Extracting  /content/dataset_2/train/caries_media/caries-26-_png_tooth_1_png.rf.db568e76bed8d1b63fb98b74db2ef1d9.jpg     \b\b\b\b 14%\b\b\b\b\b  OK \n",
            "Extracting  /content/dataset_2/train/caries_media/caries-272-_png_tooth_1_png.rf.6b3b09eaf8cebe7bfb141c1ffbe1b5da.jpg     \b\b\b\b 14%\b\b\b\b\b  OK \n",
            "Extracting  /content/dataset_2/train/caries_media/caries-274-_png_tooth_2_png.rf.0ae7e23ed4cf105fcae3cb12382342e1.jpg     \b\b\b\b 14%\b\b\b\b\b  OK \n",
            "Extracting  /content/dataset_2/train/caries_media/caries-274-_png_tooth_3_png.rf.8dfe21efef94532a007e83f20820d5aa.jpg     \b\b\b\b 14%\b\b\b\b\b  OK \n",
            "Extracting  /content/dataset_2/train/caries_media/caries-275-_png_tooth_0_png.rf.272acacadaa73c6dcd152b4de3adacfa.jpg     \b\b\b\b 14%\b\b\b\b\b  OK \n",
            "Extracting  /content/dataset_2/train/caries_media/caries-279-_png_tooth_1_png.rf.5d951cac612602d56d487582c24108eb.jpg     \b\b\b\b 14%\b\b\b\b\b  OK \n",
            "Extracting  /content/dataset_2/train/caries_media/caries-28-_png_tooth_1_png.rf.b2b5000f0753ee2e872641eef62f5e50.jpg     \b\b\b\b 14%\b\b\b\b\b  OK \n",
            "Extracting  /content/dataset_2/train/caries_media/caries-282-_png_tooth_1_png.rf.e5d81225424fae24db28a6e4374bce02.jpg     \b\b\b\b 14%\b\b\b\b\b  OK \n",
            "Extracting  /content/dataset_2/train/caries_media/caries-282-_png_tooth_2_png.rf.bd75f2ad957bf7908c4485f39e20ebdc.jpg     \b\b\b\b 14%\b\b\b\b\b  OK \n",
            "Extracting  /content/dataset_2/train/caries_media/caries-29-_png_tooth_1_png.rf.72f67cfac336994b0e3574995014ea19.jpg     \b\b\b\b 14%\b\b\b\b\b  OK \n",
            "Extracting  /content/dataset_2/train/caries_media/caries-299-_png_tooth_0_png.rf.e1547d6f22290876edc9714a06ba88eb.jpg     \b\b\b\b 14%\b\b\b\b\b  OK \n",
            "Extracting  /content/dataset_2/train/caries_media/caries-300-_png_tooth_0_png.rf.ee9297dab476a26eb9b86ee0f6ee0bbf.jpg     \b\b\b\b 14%\b\b\b\b\b  OK \n",
            "Extracting  /content/dataset_2/train/caries_media/caries-301-_png_tooth_0_png.rf.acd64ff49251c8b36cd4348954ee4e8f.jpg     \b\b\b\b 15%\b\b\b\b\b  OK \n",
            "Extracting  /content/dataset_2/train/caries_media/caries-303-_png_tooth_0_png.rf.6bd5f0a0986b67c002f47cab98ae7d7f.jpg     \b\b\b\b 15%\b\b\b\b\b  OK \n",
            "Extracting  /content/dataset_2/train/caries_media/caries-304-_png_tooth_0_png.rf.faa9e42e78b490fa68de710fe9a610c1.jpg     \b\b\b\b 15%\b\b\b\b\b  OK \n",
            "Extracting  /content/dataset_2/train/caries_media/caries-305-_png_tooth_0_png.rf.94ace3f3f47bca53093b47dd0a634bd1.jpg     \b\b\b\b 15%\b\b\b\b\b  OK \n",
            "Extracting  /content/dataset_2/train/caries_media/caries-306-_png_tooth_0_png.rf.aefd72e805dcc095dca88c879aef383c.jpg     \b\b\b\b 15%\b\b\b\b\b  OK \n",
            "Extracting  /content/dataset_2/train/caries_media/caries-308-_png_tooth_0_png.rf.b61d7aa32ac4213acc29c32596ca579f.jpg     \b\b\b\b 15%\b\b\b\b\b  OK \n",
            "Extracting  /content/dataset_2/train/caries_media/caries-31-_png_tooth_0_png.rf.df4dc4c6d98944c1f76ee8764093f7c2.jpg     \b\b\b\b 15%\b\b\b\b\b  OK \n",
            "Extracting  /content/dataset_2/train/caries_media/caries-312-_png_tooth_1_png.rf.d99115fbeecc5ca54b06c7f34517eb54.jpg     \b\b\b\b 15%\b\b\b\b\b  OK \n",
            "Extracting  /content/dataset_2/train/caries_media/caries-313-_png_tooth_0_png.rf.3472e9ffc298e0639fd9e51429a4865e.jpg     \b\b\b\b 15%\b\b\b\b\b  OK \n",
            "Extracting  /content/dataset_2/train/caries_media/caries-318-_png_tooth_0_png.rf.7aeaf73be6aced096dd371d8fdbc3bce.jpg     \b\b\b\b 15%\b\b\b\b\b  OK \n",
            "Extracting  /content/dataset_2/train/caries_media/caries-319-_png_tooth_0_png.rf.62203f4e6ef819ecdeabd7cb2f321c7e.jpg     \b\b\b\b 16%\b\b\b\b\b  OK \n",
            "Extracting  /content/dataset_2/train/caries_media/caries-32-_png_tooth_0_png.rf.7978e30429c92fc6f2be744a8344e335.jpg     \b\b\b\b 16%\b\b\b\b\b  OK \n",
            "Extracting  /content/dataset_2/train/caries_media/caries-321-_png_tooth_0_png.rf.61771f04b5d734527131ed280837a171.jpg     \b\b\b\b 16%\b\b\b\b\b  OK \n",
            "Extracting  /content/dataset_2/train/caries_media/caries-324-_png_tooth_0_png.rf.3a70e98aeec2f63c8e46b62d13abeb8b.jpg     \b\b\b\b 16%\b\b\b\b\b  OK \n",
            "Extracting  /content/dataset_2/train/caries_media/caries-326-_png_tooth_0_png.rf.03dbdff59a188afb2312f7269cd21e27.jpg     \b\b\b\b 16%\b\b\b\b\b  OK \n",
            "Extracting  /content/dataset_2/train/caries_media/caries-327-_png_tooth_0_png.rf.56d9958a392e55e63c13cd048a0dd8ee.jpg     \b\b\b\b 16%\b\b\b\b\b  OK \n",
            "Extracting  /content/dataset_2/train/caries_media/caries-328-_png_tooth_0_png.rf.9efc4dab7dcd09cc92216420d18fa42d.jpg     \b\b\b\b 16%\b\b\b\b\b  OK \n",
            "Extracting  /content/dataset_2/train/caries_media/caries-329-_png_tooth_0_png.rf.03446044459d5fedfdd6438f7c2cdde2.jpg     \b\b\b\b 16%\b\b\b\b\b  OK \n",
            "Extracting  /content/dataset_2/train/caries_media/caries-33-_png_tooth_1_png.rf.fcc3a5f6a585c227cad0ae8110c4c279.jpg     \b\b\b\b 16%\b\b\b\b\b  OK \n",
            "Extracting  /content/dataset_2/train/caries_media/caries-334-_png_tooth_0_png.rf.494e7da92c3c14eb4b11411a09fadf35.jpg     \b\b\b\b 16%\b\b\b\b\b  OK \n",
            "Extracting  /content/dataset_2/train/caries_media/caries-336-_png_tooth_1_png.rf.ed32671249cbd10a9dc01fc6a61555d5.jpg     \b\b\b\b 16%\b\b\b\b\b  OK \n",
            "Extracting  /content/dataset_2/train/caries_media/caries-346-_png_tooth_0_png.rf.fcce2f6ffe1c3530fb4c83fd3b6bc521.jpg     \b\b\b\b 16%\b\b\b\b\b  OK \n",
            "Extracting  /content/dataset_2/train/caries_media/caries-348-_png_tooth_0_png.rf.b3d2c9c8ceea2393bbd9084040fb4194.jpg     \b\b\b\b 17%\b\b\b\b\b  OK \n",
            "Extracting  /content/dataset_2/train/caries_media/caries-35-_png_tooth_0_png.rf.ca408ee332b563aa6090ff2583859a68.jpg     \b\b\b\b 17%\b\b\b\b\b  OK \n",
            "Extracting  /content/dataset_2/train/caries_media/caries-353-_png_tooth_0_png.rf.9e6c4617806ab626648d8e9fa3d88f3f.jpg     \b\b\b\b 17%\b\b\b\b\b  OK \n",
            "Extracting  /content/dataset_2/train/caries_media/caries-354-_png_tooth_0_png.rf.dd9570b180c4a8981351b4aa047b64f4.jpg     \b\b\b\b 17%\b\b\b\b\b  OK \n",
            "Extracting  /content/dataset_2/train/caries_media/caries-358-_png_tooth_0_png.rf.907f3cabeb914102574682a0b94d67f7.jpg     \b\b\b\b 17%\b\b\b\b\b  OK \n",
            "Extracting  /content/dataset_2/train/caries_media/caries-36-_png_tooth_1_png.rf.1accdbd3a8880bf742748bdcb6ad26b7.jpg     \b\b\b\b 17%\b\b\b\b\b  OK \n",
            "Extracting  /content/dataset_2/train/caries_media/caries-361-_png_tooth_1_png.rf.652932781f9915e0dfeba0d0e29a003a.jpg     \b\b\b\b 17%\b\b\b\b\b  OK \n",
            "Extracting  /content/dataset_2/train/caries_media/caries-37-_png_tooth_0_png.rf.33762398a020855d2cf7623b0fec666d.jpg     \b\b\b\b 17%\b\b\b\b\b  OK \n",
            "Extracting  /content/dataset_2/train/caries_media/caries-378-_png_tooth_0_png.rf.f5b6b44b29a6826ccd0f282dfb7b1e87.jpg     \b\b\b\b 17%\b\b\b\b\b  OK \n",
            "Extracting  /content/dataset_2/train/caries_media/caries-379-_png_tooth_0_png.rf.ad52a5d806f7c316cfff7752c7778eb7.jpg     \b\b\b\b 17%\b\b\b\b\b  OK \n",
            "Extracting  /content/dataset_2/train/caries_media/caries-38-_png_tooth_1_png.rf.70b3fda67aad3de42388cfb7ff17f188.jpg     \b\b\b\b 17%\b\b\b\b\b  OK \n",
            "Extracting  /content/dataset_2/train/caries_media/caries-385-_png_tooth_0_png.rf.672294a640088309aace31f340004573.jpg     \b\b\b\b 17%\b\b\b\b\b  OK \n",
            "Extracting  /content/dataset_2/train/caries_media/caries-39-_png_tooth_0_png.rf.ced1e44d4ab7e65d40e92441b2d418cc.jpg     \b\b\b\b 17%\b\b\b\b\b  OK \n",
            "Extracting  /content/dataset_2/train/caries_media/caries-392-_png_tooth_1_png.rf.a38403006f3a3bbdf4874118196eab9d.jpg     \b\b\b\b 18%\b\b\b\b\b  OK \n",
            "Extracting  /content/dataset_2/train/caries_media/caries-393-_png_tooth_0_png.rf.8e172fb0ca0ceea3f6ae036e5734736c.jpg     \b\b\b\b 18%\b\b\b\b\b  OK \n",
            "Extracting  /content/dataset_2/train/caries_media/caries-397-_png_tooth_0_png.rf.c8d854549bb30a3da50deadb78d31a76.jpg     \b\b\b\b 18%\b\b\b\b\b  OK \n",
            "Extracting  /content/dataset_2/train/caries_media/caries-399-_png_tooth_0_png.rf.0acb5bb37d3402f44f18f3e550ae19a2.jpg     \b\b\b\b 18%\b\b\b\b\b  OK \n",
            "Extracting  /content/dataset_2/train/caries_media/caries-407-_png_tooth_0_png.rf.c5915fddf3d42b20c4d93d244447e550.jpg     \b\b\b\b 18%\b\b\b\b\b  OK \n",
            "Extracting  /content/dataset_2/train/caries_media/caries-41-_png_tooth_1_png.rf.c575183a8befc53af857e364e6e6ec54.jpg     \b\b\b\b 18%\b\b\b\b\b  OK \n",
            "Extracting  /content/dataset_2/train/caries_media/caries-411-_png_tooth_1_png.rf.36967695d260e173fd9ec384069765ab.jpg     \b\b\b\b 18%\b\b\b\b\b  OK \n",
            "Extracting  /content/dataset_2/train/caries_media/caries-42-_png_tooth_1_png.rf.b217f57faec6aaa774a387ccb33f147f.jpg     \b\b\b\b 18%\b\b\b\b\b  OK \n",
            "Extracting  /content/dataset_2/train/caries_media/caries-422-_png_tooth_0_png.rf.dfb4419e59ef94f60942b1166a62a8c9.jpg     \b\b\b\b 18%\b\b\b\b\b  OK \n",
            "Extracting  /content/dataset_2/train/caries_media/caries-43-_png_tooth_1_png.rf.b15f9d6f36fd4fe502b2add5d24da619.jpg     \b\b\b\b 18%\b\b\b\b\b  OK \n",
            "Extracting  /content/dataset_2/train/caries_media/caries-432-_png_tooth_1_png.rf.7a23e48e689096623d1f4a09fbf3ddff.jpg     \b\b\b\b 18%\b\b\b\b\b  OK \n",
            "Extracting  /content/dataset_2/train/caries_media/caries-433-_png_tooth_0_png.rf.8b73535bba0f0591399f3af93687ae94.jpg     \b\b\b\b 18%\b\b\b\b\b  OK \n",
            "Extracting  /content/dataset_2/train/caries_media/caries-434-_png_tooth_0_png.rf.d5458f1ec3d7496b1c86d9274aaa7d53.jpg     \b\b\b\b 18%\b\b\b\b\b  OK \n",
            "Extracting  /content/dataset_2/train/caries_media/caries-436-_png_tooth_0_png.rf.fa43191dff12948733f31fb2f294e695.jpg     \b\b\b\b 19%\b\b\b\b\b  OK \n",
            "Extracting  /content/dataset_2/train/caries_media/caries-44-_png_tooth_1_png.rf.a45b46cdef58c6266d824bddc2399e99.jpg     \b\b\b\b 19%\b\b\b\b\b  OK \n",
            "Extracting  /content/dataset_2/train/caries_media/caries-443-_png_tooth_0_png.rf.a225dd013e98fc962de01423b3ad48a4.jpg     \b\b\b\b 19%\b\b\b\b\b  OK \n",
            "Extracting  /content/dataset_2/train/caries_media/caries-444-_png_tooth_1_png.rf.dcffefdd4b127d6b1a8f5314197c3736.jpg     \b\b\b\b 19%\b\b\b\b\b  OK \n",
            "Extracting  /content/dataset_2/train/caries_media/caries-451-_png_tooth_0_png.rf.92d293740a572d48c3cdef704af760b1.jpg     \b\b\b\b 19%\b\b\b\b\b  OK \n",
            "Extracting  /content/dataset_2/train/caries_media/caries-456-_png_tooth_0_png.rf.cce0301d971ea9d47e6a7fc90ab48908.jpg     \b\b\b\b 19%\b\b\b\b\b  OK \n",
            "Extracting  /content/dataset_2/train/caries_media/caries-459-_png_tooth_0_png.rf.06f8841dc29279d8900e75885bd2f0a6.jpg     \b\b\b\b 19%\b\b\b\b\b  OK \n",
            "Extracting  /content/dataset_2/train/caries_media/caries-46-_png_tooth_1_png.rf.15d4fd51a4a8de3e2d4ce11dc539ea74.jpg     \b\b\b\b 19%\b\b\b\b\b  OK \n",
            "Extracting  /content/dataset_2/train/caries_media/caries-460-_png_tooth_0_png.rf.417ba6808c5c2d164d0ee1b714c2f7ce.jpg     \b\b\b\b 19%\b\b\b\b\b  OK \n",
            "Extracting  /content/dataset_2/train/caries_media/caries-464-_png_tooth_0_png.rf.02849ff296f6399bff988df0612b2276.jpg     \b\b\b\b 19%\b\b\b\b\b  OK \n",
            "Extracting  /content/dataset_2/train/caries_media/caries-465-_png_tooth_0_png.rf.e6470febf5f43b2b597c4696529b52e2.jpg     \b\b\b\b 19%\b\b\b\b\b  OK \n",
            "Extracting  /content/dataset_2/train/caries_media/caries-466-_png_tooth_0_png.rf.f770a8b041ca516422d8f9d3cec7bb9f.jpg     \b\b\b\b 19%\b\b\b\b\b  OK \n",
            "Extracting  /content/dataset_2/train/caries_media/caries-467-_png_tooth_0_png.rf.3c42630896325af98ff7627f9f4eb13d.jpg     \b\b\b\b 19%\b\b\b\b\b  OK \n",
            "Extracting  /content/dataset_2/train/caries_media/caries-468-_png_tooth_0_png.rf.56031421076b0dddf2dc4831c65d43d4.jpg     \b\b\b\b 20%\b\b\b\b\b  OK \n",
            "Extracting  /content/dataset_2/train/caries_media/caries-47-_png_tooth_0_png.rf.d52b1e8007054e1a90172e5cb63fc2f8.jpg     \b\b\b\b 20%\b\b\b\b\b  OK \n",
            "Extracting  /content/dataset_2/train/caries_media/caries-470-_png_tooth_0_png.rf.15dd651672d5ac10f5fd097dceda3b3a.jpg     \b\b\b\b 20%\b\b\b\b\b  OK \n",
            "Extracting  /content/dataset_2/train/caries_media/caries-482-_png_tooth_0_png.rf.fa9d4abb7ed6a492c4e6f7e142b2598a.jpg     \b\b\b\b 20%\b\b\b\b\b  OK \n",
            "Extracting  /content/dataset_2/train/caries_media/caries-485-_png_tooth_0_png.rf.1fb64fd3d1a3a57e5f3c154419c6bb5b.jpg     \b\b\b\b 20%\b\b\b\b\b  OK \n",
            "Extracting  /content/dataset_2/train/caries_media/caries-488-_png_tooth_0_png.rf.ac6e023e05751e3772cce62a7e5298ea.jpg     \b\b\b\b 20%\b\b\b\b\b  OK \n",
            "Extracting  /content/dataset_2/train/caries_media/caries-49-_png_tooth_0_png.rf.d473af1e045a05da61a43765f0fbe68c.jpg     \b\b\b\b 20%\b\b\b\b\b  OK \n",
            "Extracting  /content/dataset_2/train/caries_media/caries-494-_png_tooth_0_png.rf.1bec522490be5a075d9e2dbf5f7ad311.jpg     \b\b\b\b 20%\b\b\b\b\b  OK \n",
            "Extracting  /content/dataset_2/train/caries_media/caries-495-_png_tooth_0_png.rf.e322d362d4be03e5d48d39dc1e772d40.jpg     \b\b\b\b 20%\b\b\b\b\b  OK \n",
            "Extracting  /content/dataset_2/train/caries_media/caries-499-_png_tooth_0_png.rf.02c33e33316f0d778d52e5b3ec5f3fb3.jpg     \b\b\b\b 20%\b\b\b\b\b  OK \n",
            "Extracting  /content/dataset_2/train/caries_media/caries-50-_png_tooth_0_png.rf.e26082fd84e57127bc68d7a0487cd69f.jpg     \b\b\b\b 20%\b\b\b\b\b  OK \n",
            "Extracting  /content/dataset_2/train/caries_media/caries-501-_png_tooth_0_png.rf.62538b6d97de6c806ace74c49a84d8f2.jpg     \b\b\b\b 20%\b\b\b\b\b  OK \n",
            "Extracting  /content/dataset_2/train/caries_media/caries-507-_png_tooth_0_png.rf.7dfcfb3800b0e7de22c21a980748a7a3.jpg     \b\b\b\b 21%\b\b\b\b\b  OK \n",
            "Extracting  /content/dataset_2/train/caries_media/caries-509-_png_tooth_0_png.rf.1fe0fd955e2e0343e67d0e9779e8d83c.jpg     \b\b\b\b 21%\b\b\b\b\b  OK \n",
            "Extracting  /content/dataset_2/train/caries_media/caries-51-_png_tooth_1_png.rf.2014b1081f0ab1c7fd5eb7c0d57100d3.jpg     \b\b\b\b 21%\b\b\b\b\b  OK \n",
            "Extracting  /content/dataset_2/train/caries_media/caries-512-_png_tooth_0_png.rf.9d7bf9a00d5b973f1f18e7293c53d57c.jpg     \b\b\b\b 21%\b\b\b\b\b  OK \n",
            "Extracting  /content/dataset_2/train/caries_media/caries-52-_png_tooth_1_png.rf.9c69823835da079f228bc8528e0fd7cf.jpg     \b\b\b\b 21%\b\b\b\b\b  OK \n",
            "Extracting  /content/dataset_2/train/caries_media/caries-523-_png_tooth_0_png.rf.9e99c96d978a852faf305e163dcce3bc.jpg     \b\b\b\b 21%\b\b\b\b\b  OK \n",
            "Extracting  /content/dataset_2/train/caries_media/caries-524-_png_tooth_1_png.rf.73904f82314df60a0ae9d35a1d31ba40.jpg     \b\b\b\b 21%\b\b\b\b\b  OK \n",
            "Extracting  /content/dataset_2/train/caries_media/caries-53-_png_tooth_0_png.rf.968ccb6e5f7dafe81679639295c53a74.jpg     \b\b\b\b 21%\b\b\b\b\b  OK \n",
            "Extracting  /content/dataset_2/train/caries_media/caries-53-_png_tooth_1_png.rf.3eb0d598456ca353b089f76a9fc8f0ff.jpg     \b\b\b\b 21%\b\b\b\b\b  OK \n",
            "Extracting  /content/dataset_2/train/caries_media/caries-54-_png_tooth_0_png.rf.333477c849b600743f1063751df7b198.jpg     \b\b\b\b 21%\b\b\b\b\b  OK \n",
            "Extracting  /content/dataset_2/train/caries_media/caries-542-_png_tooth_0_png.rf.d022251a11c44876c0666ac1f5d9efcf.jpg     \b\b\b\b 21%\b\b\b\b\b  OK \n",
            "Extracting  /content/dataset_2/train/caries_media/caries-545-_png_tooth_0_png.rf.0519c4ab336edeab9c4ab2cdf41f1dc5.jpg     \b\b\b\b 21%\b\b\b\b\b  OK \n",
            "Extracting  /content/dataset_2/train/caries_media/caries-548-_png_tooth_0_png.rf.f12df34b1064398a338bfa35f7276bac.jpg     \b\b\b\b 21%\b\b\b\b\b  OK \n",
            "Extracting  /content/dataset_2/train/caries_media/caries-549-_png_tooth_0_png.rf.7ed23b361cfad92ca729607510d8325d.jpg     \b\b\b\b 22%\b\b\b\b\b  OK \n",
            "Extracting  /content/dataset_2/train/caries_media/caries-55-_png_tooth_0_png.rf.69d7e1f022634539343830d8fbcd5386.jpg     \b\b\b\b 22%\b\b\b\b\b  OK \n",
            "Extracting  /content/dataset_2/train/caries_media/caries-56-_png_tooth_0_png.rf.0ed32a767b926e61f54f676e3fab842d.jpg     \b\b\b\b 22%\b\b\b\b\b  OK \n",
            "Extracting  /content/dataset_2/train/caries_media/caries-575-_png_tooth_0_png.rf.4b6c00e44b4dbbca289276aefab3828e.jpg     \b\b\b\b 22%\b\b\b\b\b  OK \n",
            "Extracting  /content/dataset_2/train/caries_media/caries-578-_png_tooth_0_png.rf.344af6662413175fe05f1beb6935e4c2.jpg     \b\b\b\b 22%\b\b\b\b\b  OK \n",
            "Extracting  /content/dataset_2/train/caries_media/caries-58-_png_tooth_1_png.rf.614d9ae10b4b116fcbbef2d2085343bf.jpg     \b\b\b\b 22%\b\b\b\b\b  OK \n",
            "Extracting  /content/dataset_2/train/caries_media/caries-585-_png_tooth_0_png.rf.122e60cec88c4788f340f12f02148297.jpg     \b\b\b\b 22%\b\b\b\b\b  OK \n",
            "Extracting  /content/dataset_2/train/caries_media/caries-586-_png_tooth_0_png.rf.52443201b9830e05560c84e4762c6150.jpg     \b\b\b\b 22%\b\b\b\b\b  OK \n",
            "Extracting  /content/dataset_2/train/caries_media/caries-587-_png_tooth_0_png.rf.5e32aa6c1578015e1eaae368b79b3d94.jpg     \b\b\b\b 22%\b\b\b\b\b  OK \n",
            "Extracting  /content/dataset_2/train/caries_media/caries-59-_png_tooth_1_png.rf.c6a8c9c126062e536d80eeebe46e0527.jpg     \b\b\b\b 22%\b\b\b\b\b  OK \n",
            "Extracting  /content/dataset_2/train/caries_media/caries-598-_png_tooth_0_png.rf.12f9971266b2f25998a5e0c733e859e6.jpg     \b\b\b\b 22%\b\b\b\b\b  OK \n",
            "Extracting  /content/dataset_2/train/caries_media/caries-600-_png_tooth_0_png.rf.f26731f6c99787b67fc17c9e7ad0faf8.jpg     \b\b\b\b 22%\b\b\b\b\b  OK \n",
            "Extracting  /content/dataset_2/train/caries_media/caries-605-_png_tooth_0_png.rf.0f04a2e86d84164045d55adecc398f37.jpg     \b\b\b\b 22%\b\b\b\b\b  OK \n",
            "Extracting  /content/dataset_2/train/caries_media/caries-608-_png_tooth_0_png.rf.97a9e3996b826e5a244174e6f868e47d.jpg     \b\b\b\b 23%\b\b\b\b\b  OK \n",
            "Extracting  /content/dataset_2/train/caries_media/caries-611-_png_tooth_0_png.rf.93155a2bbc167a36471c624cf6a4e249.jpg     \b\b\b\b 23%\b\b\b\b\b  OK \n",
            "Extracting  /content/dataset_2/train/caries_media/caries-613-_png_tooth_0_png.rf.a698ebc0c41dec8c95d18465915073f1.jpg     \b\b\b\b 23%\b\b\b\b\b  OK \n",
            "Extracting  /content/dataset_2/train/caries_media/caries-614-_png_tooth_0_png.rf.629afd49baa8966ada0f7dca82d21ec2.jpg     \b\b\b\b 23%\b\b\b\b\b  OK \n",
            "Extracting  /content/dataset_2/train/caries_media/caries-614-_png_tooth_1_png.rf.9a24e03c32a61c67cbfadb787f709a6e.jpg     \b\b\b\b 23%\b\b\b\b\b  OK \n",
            "Extracting  /content/dataset_2/train/caries_media/caries-615-_png_tooth_0_png.rf.f5d6139c4064bf333d1dada7c2637975.jpg     \b\b\b\b 23%\b\b\b\b\b  OK \n",
            "Extracting  /content/dataset_2/train/caries_media/caries-619-_png_tooth_0_png.rf.5654a958cd0307a68c7613d0c3538e5d.jpg     \b\b\b\b 23%\b\b\b\b\b  OK \n",
            "Extracting  /content/dataset_2/train/caries_media/caries-627-_png_tooth_0_png.rf.5b9df23bbdf9aa4a3af2a08fce0618db.jpg     \b\b\b\b 23%\b\b\b\b\b  OK \n",
            "Extracting  /content/dataset_2/train/caries_media/caries-632-_png_tooth_0_png.rf.e1773b35c618b68c7b332097544c5151.jpg     \b\b\b\b 23%\b\b\b\b\b  OK \n",
            "Extracting  /content/dataset_2/train/caries_media/caries-633-_png_tooth_0_png.rf.538816061143982f0a9d545fc90fd2d5.jpg     \b\b\b\b 23%\b\b\b\b\b  OK \n",
            "Extracting  /content/dataset_2/train/caries_media/caries-644-_png_tooth_0_png.rf.142ad49b9d50513c8e12b3fb69a1a5e4.jpg     \b\b\b\b 23%\b\b\b\b\b  OK \n",
            "Extracting  /content/dataset_2/train/caries_media/caries-645-_png_tooth_1_png.rf.e7d39ff2eb5e87d992b5cb8a0753d6ca.jpg     \b\b\b\b 23%\b\b\b\b\b  OK \n",
            "Extracting  /content/dataset_2/train/caries_media/caries-648-_png_tooth_0_png.rf.7c4bf8b7a15bf9a1e621476c8ba5bfde.jpg     \b\b\b\b 24%\b\b\b\b\b  OK \n",
            "Extracting  /content/dataset_2/train/caries_media/caries-653-_png_tooth_0_png.rf.0b64e21371b3dbf6750b0be9b46a7537.jpg     \b\b\b\b 24%\b\b\b\b\b  OK \n",
            "Extracting  /content/dataset_2/train/caries_media/caries-658-_png_tooth_1_png.rf.6991fff4f7ee54bd5c6d806ae456ff5a.jpg     \b\b\b\b 24%\b\b\b\b\b  OK \n",
            "Extracting  /content/dataset_2/train/caries_media/caries-669-_png_tooth_0_png.rf.8620fbc838087a7bd4c8403736a68968.jpg     \b\b\b\b 24%\b\b\b\b\b  OK \n",
            "Extracting  /content/dataset_2/train/caries_media/caries-670-_png_tooth_0_png.rf.00e86b7560c297bb5bd4231467287039.jpg     \b\b\b\b 24%\b\b\b\b\b  OK \n",
            "Extracting  /content/dataset_2/train/caries_media/caries-68-_png_tooth_1_png.rf.b71a61898c17e2aaa813faa54429fcec.jpg     \b\b\b\b 24%\b\b\b\b\b  OK \n",
            "Extracting  /content/dataset_2/train/caries_media/caries-680-_png_tooth_0_png.rf.fd0e5c2be38fc8753f03f319f0a0b46b.jpg     \b\b\b\b 24%\b\b\b\b\b  OK \n",
            "Extracting  /content/dataset_2/train/caries_media/caries-686-_png_tooth_0_png.rf.ddf407b7c631ec77c79d42da73a3c148.jpg     \b\b\b\b 24%\b\b\b\b\b  OK \n",
            "Extracting  /content/dataset_2/train/caries_media/caries-688-_png_tooth_0_png.rf.ceed5e78bd29470fe7400a357d15e231.jpg     \b\b\b\b 24%\b\b\b\b\b  OK \n",
            "Extracting  /content/dataset_2/train/caries_media/caries-69-_png_tooth_2_png.rf.7faeab3b62b6100e149d788bfd6f5c57.jpg     \b\b\b\b 24%\b\b\b\b\b  OK \n",
            "Extracting  /content/dataset_2/train/caries_media/caries-699-_png_tooth_0_png.rf.c7b2cab91d583e603620d57ad77569a4.jpg     \b\b\b\b 24%\b\b\b\b\b  OK \n",
            "Extracting  /content/dataset_2/train/caries_media/caries-700-_png_tooth_0_png.rf.713ee64eb9c15be65cc97b99fe960546.jpg     \b\b\b\b 24%\b\b\b\b\b  OK \n",
            "Extracting  /content/dataset_2/train/caries_media/caries-704-_png_tooth_1_png.rf.5b21f3bfa747f722b6e4091921b76b5a.jpg     \b\b\b\b 25%\b\b\b\b\b  OK \n",
            "Extracting  /content/dataset_2/train/caries_media/caries-707-_png_tooth_0_png.rf.da4f0e7e8e6750d6bc3c8aa80eff548e.jpg     \b\b\b\b 25%\b\b\b\b\b  OK \n",
            "Extracting  /content/dataset_2/train/caries_media/caries-710-_png_tooth_1_png.rf.ca04d411837ac1c6e8770ce3bd854cee.jpg     \b\b\b\b 25%\b\b\b\b\b  OK \n",
            "Extracting  /content/dataset_2/train/caries_media/caries-714-_png_tooth_0_png.rf.a09e3a11c8539f65a7096b16308dc56c.jpg     \b\b\b\b 25%\b\b\b\b\b  OK \n",
            "Extracting  /content/dataset_2/train/caries_media/caries-719-_png_tooth_0_png.rf.d234f3aa66c380a0cda223ac0275c4fa.jpg     \b\b\b\b 25%\b\b\b\b\b  OK \n",
            "Extracting  /content/dataset_2/train/caries_media/caries-720-_png_tooth_0_png.rf.f2e0ff93cb13d0ebf1af54f67d75fd87.jpg     \b\b\b\b 25%\b\b\b\b\b  OK \n",
            "Extracting  /content/dataset_2/train/caries_media/caries-723-_png_tooth_0_png.rf.cc502f318e0c7d95db4739171ec547fe.jpg     \b\b\b\b 25%\b\b\b\b\b  OK \n",
            "Extracting  /content/dataset_2/train/caries_media/caries-726-_png_tooth_0_png.rf.92aed71694004e6f50d20bb8906459ee.jpg     \b\b\b\b 25%\b\b\b\b\b  OK \n",
            "Extracting  /content/dataset_2/train/caries_media/caries-729-_png_tooth_0_png.rf.4dfcbb4688b1b5f7b8f78c2002f0a5e9.jpg     \b\b\b\b 25%\b\b\b\b\b  OK \n",
            "Extracting  /content/dataset_2/train/caries_media/caries-731-_png_tooth_0_png.rf.c1a3eff6e8049189bb5baeff536e3cc8.jpg     \b\b\b\b 25%\b\b\b\b\b  OK \n",
            "Extracting  /content/dataset_2/train/caries_media/caries-736-_png_tooth_0_png.rf.0edf031267703ef3dd2b4f7d6da639c2.jpg     \b\b\b\b 25%\b\b\b\b\b  OK \n",
            "Extracting  /content/dataset_2/train/caries_media/caries-739-_png_tooth_0_png.rf.6c4ca56f4aca121623baf1634121a4b8.jpg     \b\b\b\b 26%\b\b\b\b\b  OK \n",
            "Extracting  /content/dataset_2/train/caries_media/caries-741-_png_tooth_0_png.rf.293d844901af488e7a667b29563933fb.jpg     \b\b\b\b 26%\b\b\b\b\b  OK \n",
            "Extracting  /content/dataset_2/train/caries_media/caries-744-_png_tooth_0_png.rf.444adf7721a450c3bb8131250e77cc04.jpg     \b\b\b\b 26%\b\b\b\b\b  OK \n",
            "Extracting  /content/dataset_2/train/caries_media/caries-746-_png_tooth_0_png.rf.e08e03980fb8321395e7b3ecd47c8ba1.jpg     \b\b\b\b 26%\b\b\b\b\b  OK \n",
            "Extracting  /content/dataset_2/train/caries_media/caries-748-_png_tooth_0_png.rf.f4fa6ebec81404248b69cdec33842feb.jpg     \b\b\b\b 26%\b\b\b\b\b  OK \n",
            "Extracting  /content/dataset_2/train/caries_media/caries-757-_png_tooth_0_png.rf.9286ba5cfa9f6385289f2edb499ed812.jpg     \b\b\b\b 26%\b\b\b\b\b  OK \n",
            "Extracting  /content/dataset_2/train/caries_media/caries-83-_png_tooth_2_png.rf.07a5844b98366c1154a67b678ad0ce44.jpg     \b\b\b\b 26%\b\b\b\b\b  OK \n",
            "Extracting  /content/dataset_2/train/caries_media/caries-84-_png_tooth_0_png.rf.4bfd63a5bd7036bfcec9f4dd93afb466.jpg     \b\b\b\b 26%\b\b\b\b\b  OK \n",
            "Extracting  /content/dataset_2/train/caries_media/caries-85-_png_tooth_2_png.rf.8c34526d4b72e854ce9dbe798a4e36bc.jpg     \b\b\b\b 26%\b\b\b\b\b  OK \n",
            "Extracting  /content/dataset_2/train/caries_media/caries-86-_png_tooth_0_png.rf.75a9375a6f1e5c75700bea3a6296ef67.jpg     \b\b\b\b 26%\b\b\b\b\b  OK \n",
            "Extracting  /content/dataset_2/train/caries_media/caries-86-_png_tooth_1_png.rf.ed98ae96d0864d50fef3eb780520ffb0.jpg     \b\b\b\b 26%\b\b\b\b\b  OK \n",
            "Extracting  /content/dataset_2/train/caries_media/caries-87-_png_tooth_1_png.rf.bbf99e66f8c551bbfae9746ee431c1d8.jpg     \b\b\b\b 26%\b\b\b\b\b  OK \n",
            "Extracting  /content/dataset_2/train/caries_media/caries-87-_png_tooth_2_png.rf.d84570c457271f6e8d66e6ba5b78d0a3.jpg     \b\b\b\b 26%\b\b\b\b\b  OK \n",
            "Extracting  /content/dataset_2/train/caries_media/caries-92-_png_tooth_0_png.rf.7b1517ea07d24b42419b2812515aca3b.jpg     \b\b\b\b 26%\b\b\b\b\b  OK \n",
            "Extracting  /content/dataset_2/train/caries_media/caries-95-_png_tooth_0_png.rf.2883883dc9c39e4fc72c1f8fb789032c.jpg     \b\b\b\b 26%\b\b\b\b\b  OK \n",
            "Extracting  /content/dataset_2/train/caries_media/caries-99-_png_tooth_0_png.rf.947ecf8596b6eef7d0a4bc57653911be.jpg     \b\b\b\b 27%\b\b\b\b\b  OK \n",
            "Extracting  /content/dataset_2/train/caries_media/Frame-211_jpg_tooth_0_png.rf.62078f4b38ce850d7ed678cf1ef11cc5.jpg     \b\b\b\b 27%\b\b\b\b\b  OK \n",
            "Extracting  /content/dataset_2/train/caries_media/Frame-216_jpg_tooth_0_png.rf.1590cf115f1dc41c2f114438c4226b32.jpg     \b\b\b\b 27%\b\b\b\b\b  OK \n",
            "Extracting  /content/dataset_2/train/caries_media/Frame-223_jpg_tooth_3_png.rf.8e6f1e9398674be0d19d2d7839d57196.jpg     \b\b\b\b 27%\b\b\b\b\b  OK \n",
            "Extracting  /content/dataset_2/train/caries_media/Frame-226_jpg_tooth_1_png.rf.215f8e113c3459a3282ddd057c97b18e.jpg     \b\b\b\b 27%\b\b\b\b\b  OK \n",
            "Extracting  /content/dataset_2/train/caries_media/Frame-228_jpg_tooth_1_png.rf.8b445bdc021779561753b40ca1eb083b.jpg     \b\b\b\b 27%\b\b\b\b\b  OK \n",
            "Extracting  /content/dataset_2/train/caries_media/Frame-229_jpg_tooth_2_png.rf.bd2608d23b6584107778b8190281cf6c.jpg     \b\b\b\b 27%\b\b\b\b\b  OK \n",
            "Extracting  /content/dataset_2/train/caries_media/Frame-230_jpg_tooth_0_png.rf.b91a2aefc879074756014aaacfe10c2b.jpg     \b\b\b\b 27%\b\b\b\b\b  OK \n",
            "Extracting  /content/dataset_2/train/caries_media/Frame-231_jpg_tooth_0_png.rf.ead992795989095af4ffccd5f1676eab.jpg     \b\b\b\b 27%\b\b\b\b\b  OK \n",
            "Extracting  /content/dataset_2/train/caries_media/Frame-245_jpg_tooth_0_png.rf.663a43731812fc40f5a874fa7f00687f.jpg     \b\b\b\b 27%\b\b\b\b\b  OK \n",
            "Extracting  /content/dataset_2/train/caries_media/Frame-248_jpg_tooth_2_png.rf.9dd25ab5b21b6210c56b55ac75273407.jpg     \b\b\b\b 27%\b\b\b\b\b  OK \n",
            "Extracting  /content/dataset_2/train/caries_media/Frame-250_jpg_tooth_1_png.rf.dac28786c1bf81c89402296657cdbd5e.jpg     \b\b\b\b 27%\b\b\b\b\b  OK \n",
            "Extracting  /content/dataset_2/train/caries_media/Frame-256_jpg_tooth_0_png.rf.d7709971ec63b08cd8d523f791372090.jpg     \b\b\b\b 27%\b\b\b\b\b  OK \n",
            "Extracting  /content/dataset_2/train/caries_media/Frame-257_jpg_tooth_0_png.rf.45437660bb5f9c8d9c4d496ee6711eec.jpg     \b\b\b\b 27%\b\b\b\b\b  OK \n",
            "Extracting  /content/dataset_2/train/caries_media/Frame-258_jpg_tooth_1_png.rf.86aa504ca0652114ed391318688daa22.jpg     \b\b\b\b 28%\b\b\b\b\b  OK \n",
            "Extracting  /content/dataset_2/train/caries_media/Frame-265_jpg_tooth_1_png.rf.2fe028db4d608c509daec7e119eda131.jpg     \b\b\b\b 28%\b\b\b\b\b  OK \n",
            "Extracting  /content/dataset_2/train/caries_media/Frame-267_jpg_tooth_0_png.rf.a5fa10cb6cf470281c6c1d4096fe5652.jpg     \b\b\b\b 28%\b\b\b\b\b  OK \n",
            "Extracting  /content/dataset_2/train/caries_media/Frame-267_jpg_tooth_2_png.rf.88c4f7952575e43dbf039b77e2f29ff4.jpg     \b\b\b\b 28%\b\b\b\b\b  OK \n",
            "Extracting  /content/dataset_2/train/caries_media/Frame-268_jpg_tooth_1_png.rf.00eb95a9c4784223e8abf727f3611404.jpg     \b\b\b\b 28%\b\b\b\b\b  OK \n",
            "Extracting  /content/dataset_2/train/caries_media/Frame-283_jpg_tooth_2_png.rf.b9a2abc47320239fef8f146895cea311.jpg     \b\b\b\b 28%\b\b\b\b\b  OK \n",
            "Extracting  /content/dataset_2/train/caries_media/Frame-290_jpg_tooth_1_png.rf.e053307514d5804cc93f0db8b8a927d7.jpg     \b\b\b\b 28%\b\b\b\b\b  OK \n",
            "Extracting  /content/dataset_2/train/caries_media/Frame-292_jpg_tooth_0_png.rf.380e3f113c11e3a8908e27c9620be985.jpg     \b\b\b\b 28%\b\b\b\b\b  OK \n",
            "Extracting  /content/dataset_2/train/caries_media/Frame-302_jpg_tooth_0_png.rf.2aa48473441d193476b2be397d8dfbf8.jpg     \b\b\b\b 28%\b\b\b\b\b  OK \n",
            "Extracting  /content/dataset_2/train/caries_media/Frame-319_jpg_tooth_2_png.rf.eb25fe9831617608d495acf6dbae6888.jpg     \b\b\b\b 28%\b\b\b\b\b  OK \n",
            "Extracting  /content/dataset_2/train/caries_media/Frame-324_jpg_tooth_0_png.rf.12d1481fcf4238465d3c9e540e493734.jpg     \b\b\b\b 28%\b\b\b\b\b  OK \n",
            "Extracting  /content/dataset_2/train/caries_media/Frame-348_jpg_tooth_2_png.rf.cc9fda2826e850d9966274920bca9ef4.jpg     \b\b\b\b 28%\b\b\b\b\b  OK \n",
            "Extracting  /content/dataset_2/train/caries_media/Frame-349_jpg_tooth_1_png.rf.4f0a3da30eff9887a7e4249c8552d083.jpg     \b\b\b\b 28%\b\b\b\b\b  OK \n",
            "Extracting  /content/dataset_2/train/caries_media/Frame-363_jpg_tooth_0_png.rf.364f48abeb227baff7f06748c444cb9b.jpg     \b\b\b\b 28%\b\b\b\b\b  OK \n",
            "Extracting  /content/dataset_2/train/caries_media/Frame-363_jpg_tooth_1_png.rf.872cecaa785439b1f451c3e5b74afb55.jpg     \b\b\b\b 28%\b\b\b\b\b  OK \n",
            "Extracting  /content/dataset_2/train/caries_media/Frame-365_jpg_tooth_0_png.rf.6c8e40d2c270fd3436dac29d939f03de.jpg     \b\b\b\b 28%\b\b\b\b\b  OK \n",
            "Extracting  /content/dataset_2/train/caries_media/Frame-366_jpg_tooth_0_png.rf.70ae60e4babb37d7160a79e672550a3f.jpg     \b\b\b\b 28%\b\b\b\b\b  OK \n",
            "Extracting  /content/dataset_2/train/caries_media/Frame-367_jpg_tooth_0_png.rf.41f25e65ed397c72368104c1f0151e3c.jpg     \b\b\b\b 29%\b\b\b\b\b  OK \n",
            "Extracting  /content/dataset_2/train/caries_media/Frame-368_jpg_tooth_0_png.rf.dde07f9a4bc1e9d34f2fd678de7c7b43.jpg     \b\b\b\b 29%\b\b\b\b\b  OK \n",
            "Extracting  /content/dataset_2/train/caries_media/Frame-386_jpg_tooth_1_png.rf.85173cea889fee0b1b86538369ca8144.jpg     \b\b\b\b 29%\b\b\b\b\b  OK \n",
            "Extracting  /content/dataset_2/train/caries_media/Frame-399_jpg_tooth_2_png.rf.70630ec0b5c6fa629edd1f532197a401.jpg     \b\b\b\b 29%\b\b\b\b\b  OK \n",
            "Extracting  /content/dataset_2/train/caries_media/Frame-405_jpg_tooth_0_png.rf.b88758d6c1f84b0eaf32c5cd9b29de04.jpg     \b\b\b\b 29%\b\b\b\b\b  OK \n",
            "Extracting  /content/dataset_2/train/caries_media/Frame-415_jpg_tooth_0_png.rf.517c12d93f21d6b96d510faeed5f33f7.jpg     \b\b\b\b 29%\b\b\b\b\b  OK \n",
            "Creating    /content/dataset_2/train/caries_profunda                  OK\n",
            "Extracting  /content/dataset_2/train/caries_profunda/caries-1-_png_tooth_0_png.rf.79a1380573c5aa40634fe6b290067d01.jpg     \b\b\b\b 29%\b\b\b\b\b  OK \n",
            "Extracting  /content/dataset_2/train/caries_profunda/caries-11-_png_tooth_1_png.rf.0307c22855800ebb90d3c9dfc6db7b47.jpg     \b\b\b\b 29%\b\b\b\b\b  OK \n",
            "Extracting  /content/dataset_2/train/caries_profunda/caries-132-_png_tooth_1_png.rf.db37dba8830e76c1af9638ede1c073dd.jpg     \b\b\b\b 29%\b\b\b\b\b  OK \n",
            "Extracting  /content/dataset_2/train/caries_profunda/caries-139-_png_tooth_0_png.rf.cf8c2baeb415feb89b034ab12d59f909.jpg     \b\b\b\b 29%\b\b\b\b\b  OK \n",
            "Extracting  /content/dataset_2/train/caries_profunda/caries-141-_png_tooth_0_png.rf.30c6893b6262620f884e13039c13e18b.jpg     \b\b\b\b 29%\b\b\b\b\b  OK \n",
            "Extracting  /content/dataset_2/train/caries_profunda/caries-143-_png_tooth_0_png.rf.020d494a66e64fb104a46eaecfa43105.jpg     \b\b\b\b 29%\b\b\b\b\b  OK \n",
            "Extracting  /content/dataset_2/train/caries_profunda/caries-145-_png_tooth_1_png.rf.93673d46e941492f561fb98b8575c62c.jpg     \b\b\b\b 29%\b\b\b\b\b  OK \n",
            "Extracting  /content/dataset_2/train/caries_profunda/caries-146-_png_tooth_1_png.rf.c2cb82b0350c7b1858b61372a74f8691.jpg     \b\b\b\b 29%\b\b\b\b\b  OK \n",
            "Extracting  /content/dataset_2/train/caries_profunda/caries-148-_png_tooth_1_png.rf.1033652f6bde3efe907b10423eaa8533.jpg     \b\b\b\b 29%\b\b\b\b\b  OK \n",
            "Extracting  /content/dataset_2/train/caries_profunda/caries-2-_png_tooth_0_png.rf.0c26ed013f92048d7f2f7ec2a9d40047.jpg     \b\b\b\b 29%\b\b\b\b\b  OK \n",
            "Extracting  /content/dataset_2/train/caries_profunda/caries-213-_png_tooth_3_png.rf.d212551ce456b19127733059cc4e5756.jpg     \b\b\b\b 30%\b\b\b\b\b  OK \n",
            "Extracting  /content/dataset_2/train/caries_profunda/caries-214-_png_tooth_3_png.rf.c496dc2410592fcfc796c95a3a34f61f.jpg     \b\b\b\b 30%\b\b\b\b\b  OK \n",
            "Extracting  /content/dataset_2/train/caries_profunda/caries-215-_png_tooth_0_png.rf.12e8cb5b2b5a435c8a200b98d7d9b14f.jpg     \b\b\b\b 30%\b\b\b\b\b  OK \n",
            "Extracting  /content/dataset_2/train/caries_profunda/caries-217-_png_tooth_0_png.rf.a8b9b215395b61ff4140f28b17b5da55.jpg     \b\b\b\b 30%\b\b\b\b\b  OK \n",
            "Extracting  /content/dataset_2/train/caries_profunda/caries-22-_png_tooth_1_png.rf.be24644086c1cc2ef250bc0d22fc0cdf.jpg     \b\b\b\b 30%\b\b\b\b\b  OK \n",
            "Extracting  /content/dataset_2/train/caries_profunda/caries-24-_png_tooth_0_png.rf.181d1c79a69911c807e6b223432a15cb.jpg     \b\b\b\b 30%\b\b\b\b\b  OK \n",
            "Extracting  /content/dataset_2/train/caries_profunda/caries-248-_png_tooth_2_png.rf.b4f3a41abcdc6ba7baf0850adcbee41e.jpg     \b\b\b\b 30%\b\b\b\b\b  OK \n",
            "Extracting  /content/dataset_2/train/caries_profunda/caries-25-_png_tooth_0_png.rf.d28f85643c1084610112234921a4f52c.jpg     \b\b\b\b 30%\b\b\b\b\b  OK \n",
            "Extracting  /content/dataset_2/train/caries_profunda/caries-26-_png_tooth_0_png.rf.f43a62b48a6871d03a7f62a26e0ebd7a.jpg     \b\b\b\b 30%\b\b\b\b\b  OK \n",
            "Extracting  /content/dataset_2/train/caries_profunda/caries-264-_png_tooth_0_png.rf.c7608e00775f16656114e65c67512cff.jpg     \b\b\b\b 30%\b\b\b\b\b  OK \n",
            "Extracting  /content/dataset_2/train/caries_profunda/caries-265-_png_tooth_0_png.rf.7e73ab8ef6ca665512b990359dd23711.jpg     \b\b\b\b 30%\b\b\b\b\b  OK \n",
            "Extracting  /content/dataset_2/train/caries_profunda/caries-267-_png_tooth_2_png.rf.2b95bfc5d710ea4b0307154b89512823.jpg     \b\b\b\b 30%\b\b\b\b\b  OK \n",
            "Extracting  /content/dataset_2/train/caries_profunda/caries-268-_png_tooth_1_png.rf.b7da7ebc059a39c62b7e734959a551d6.jpg     \b\b\b\b 30%\b\b\b\b\b  OK \n",
            "Extracting  /content/dataset_2/train/caries_profunda/caries-268-_png_tooth_3_png.rf.fc63ab8ffb0ec911106815b3a5009b54.jpg     \b\b\b\b 30%\b\b\b\b\b  OK \n",
            "Extracting  /content/dataset_2/train/caries_profunda/caries-27-_png_tooth_0_png.rf.520c98d5b49e8e095c03bc5d60dc9bf2.jpg     \b\b\b\b 30%\b\b\b\b\b  OK \n",
            "Extracting  /content/dataset_2/train/caries_profunda/caries-281-_png_tooth_2_png.rf.97cf9858e8def895da0884b5b0dc1d41.jpg     \b\b\b\b 30%\b\b\b\b\b  OK \n",
            "Extracting  /content/dataset_2/train/caries_profunda/caries-286-_png_tooth_3_png.rf.d74ecc478c2744b4da3b0f8257f9d13f.jpg     \b\b\b\b 30%\b\b\b\b\b  OK \n",
            "Extracting  /content/dataset_2/train/caries_profunda/caries-287-_png_tooth_3_png.rf.fabaf455ad08160ef1f3fcdc0cb104b6.jpg     \b\b\b\b 30%\b\b\b\b\b  OK \n",
            "Extracting  /content/dataset_2/train/caries_profunda/caries-288-_png_tooth_0_png.rf.ea886ff7fe4590abc2f957a2fb06ff97.jpg     \b\b\b\b 30%\b\b\b\b\b  OK \n",
            "Extracting  /content/dataset_2/train/caries_profunda/caries-3-_png_tooth_0_png.rf.1ed7cfc527fcfb339491f5e1bb698c61.jpg     \b\b\b\b 30%\b\b\b\b\b  OK \n",
            "Extracting  /content/dataset_2/train/caries_profunda/caries-325-_png_tooth_0_png.rf.478271339cc2c8771761a9687393a306.jpg     \b\b\b\b 30%\b\b\b\b\b  OK \n",
            "Extracting  /content/dataset_2/train/caries_profunda/caries-351-_png_tooth_0_png.rf.c781ce7b055b19697606565d077b9df6.jpg     \b\b\b\b 31%\b\b\b\b\b  OK \n",
            "Extracting  /content/dataset_2/train/caries_profunda/caries-364-_png_tooth_0_png.rf.5bdcd6291e9e6cafefc22a17fa96643d.jpg     \b\b\b\b 31%\b\b\b\b\b  OK \n",
            "Extracting  /content/dataset_2/train/caries_profunda/caries-390-_png_tooth_0_png.rf.544aeaeb99a17a86d3784c257cbc9c0b.jpg     \b\b\b\b 31%\b\b\b\b\b  OK \n",
            "Extracting  /content/dataset_2/train/caries_profunda/caries-392-_png_tooth_0_png.rf.4a4f2d057de7512c40b80b2098e30645.jpg     \b\b\b\b 31%\b\b\b\b\b  OK \n",
            "Extracting  /content/dataset_2/train/caries_profunda/caries-394-_png_tooth_0_png.rf.cca46797bf8bdef99aad30776a7c1545.jpg     \b\b\b\b 31%\b\b\b\b\b  OK \n",
            "Extracting  /content/dataset_2/train/caries_profunda/caries-395-_png_tooth_0_png.rf.83c62d575dfccf97a42a3f861353ff07.jpg     \b\b\b\b 31%\b\b\b\b\b  OK \n",
            "Extracting  /content/dataset_2/train/caries_profunda/caries-4-_png_tooth_0_png.rf.aecf0bec0858b6d744c9c648ee05fccd.jpg     \b\b\b\b 31%\b\b\b\b\b  OK \n",
            "Extracting  /content/dataset_2/train/caries_profunda/caries-413-_png_tooth_0_png.rf.1018f269c5041cd76eacfe88ff840c85.jpg     \b\b\b\b 31%\b\b\b\b\b  OK \n",
            "Extracting  /content/dataset_2/train/caries_profunda/caries-420-_png_tooth_0_png.rf.c8ca26528ab1365d653ab419014f836e.jpg     \b\b\b\b 31%\b\b\b\b\b  OK \n",
            "Extracting  /content/dataset_2/train/caries_profunda/caries-427-_png_tooth_1_png.rf.e45a4f564f85397f9725738bd6bfc9f7.jpg     \b\b\b\b 31%\b\b\b\b\b  OK \n",
            "Extracting  /content/dataset_2/train/caries_profunda/caries-511-_png_tooth_0_png.rf.bd515c068f73d8e717aa99cf2c21d298.jpg     \b\b\b\b 31%\b\b\b\b\b  OK \n",
            "Extracting  /content/dataset_2/train/caries_profunda/caries-6-_png_tooth_1_png.rf.ea25659d1db3923fbf3230c26458bf83.jpg     \b\b\b\b 31%\b\b\b\b\b  OK \n",
            "Extracting  /content/dataset_2/train/caries_profunda/caries-61-_png_tooth_1_png.rf.95b3acfada322e5d048e35930d09dbe5.jpg     \b\b\b\b 31%\b\b\b\b\b  OK \n",
            "Extracting  /content/dataset_2/train/caries_profunda/caries-612-_png_tooth_0_png.rf.0b0233f035828d82b5b7e7372e9f9e02.jpg     \b\b\b\b 32%\b\b\b\b\b  OK \n",
            "Extracting  /content/dataset_2/train/caries_profunda/caries-618-_png_tooth_0_png.rf.82404acb4dd87b2e1361c932bcf81277.jpg     \b\b\b\b 32%\b\b\b\b\b  OK \n",
            "Extracting  /content/dataset_2/train/caries_profunda/caries-63-_png_tooth_0_png.rf.6bd6bfc5ac63a8ffc4ce8574740a508a.jpg     \b\b\b\b 32%\b\b\b\b\b  OK \n",
            "Extracting  /content/dataset_2/train/caries_profunda/caries-65-_png_tooth_1_png.rf.d70ca7aa81cdf5db1439b095a012df56.jpg     \b\b\b\b 32%\b\b\b\b\b  OK \n",
            "Extracting  /content/dataset_2/train/caries_profunda/caries-7-_png_tooth_1_png.rf.23be54709fd626c5e5b30284a4107991.jpg     \b\b\b\b 32%\b\b\b\b\b  OK \n",
            "Extracting  /content/dataset_2/train/caries_profunda/caries-709-_png_tooth_0_png.rf.df87ae99670ba8d1bc500dbc767d7987.jpg     \b\b\b\b 32%\b\b\b\b\b  OK \n",
            "Extracting  /content/dataset_2/train/caries_profunda/caries-718-_png_tooth_0_png.rf.7e1ce17cb4c6a031eac1e6b4642faf3a.jpg     \b\b\b\b 32%\b\b\b\b\b  OK \n",
            "Extracting  /content/dataset_2/train/caries_profunda/caries-743-_png_tooth_0_png.rf.c090c6ceb960f8a48bd7eb608a29612d.jpg     \b\b\b\b 32%\b\b\b\b\b  OK \n",
            "Extracting  /content/dataset_2/train/caries_profunda/caries-756-_png_tooth_0_png.rf.cfae137c8e0bcc950dae693a53e9a84e.jpg     \b\b\b\b 32%\b\b\b\b\b  OK \n",
            "Extracting  /content/dataset_2/train/caries_profunda/caries-763-_png_tooth_0_png.rf.633acb58597c13864844ad81ce7f7d57.jpg     \b\b\b\b 32%\b\b\b\b\b  OK \n",
            "Extracting  /content/dataset_2/train/caries_profunda/caries-769-_png_tooth_0_png.rf.268ac7aa50f253fa7dc9918fb9781686.jpg     \b\b\b\b 32%\b\b\b\b\b  OK \n",
            "Extracting  /content/dataset_2/train/caries_profunda/caries-77-_png_tooth_1_png.rf.77d82c1e4de7bc92c7985a4fdb6bf29f.jpg     \b\b\b\b 32%\b\b\b\b\b  OK \n",
            "Extracting  /content/dataset_2/train/caries_profunda/caries-78-_png_tooth_2_png.rf.b7bc9b0176966d7a76af6410667b4290.jpg     \b\b\b\b 32%\b\b\b\b\b  OK \n",
            "Extracting  /content/dataset_2/train/caries_profunda/caries-79-_png_tooth_2_png.rf.79db596e7176a8b1fe8797b2c1ef717e.jpg     \b\b\b\b 32%\b\b\b\b\b  OK \n",
            "Extracting  /content/dataset_2/train/caries_profunda/caries-80-_png_tooth_2_png.rf.4b53b1343aa5f040bcd5726ff67590c4.jpg     \b\b\b\b 33%\b\b\b\b\b  OK \n",
            "Extracting  /content/dataset_2/train/caries_profunda/caries-9-_png_tooth_1_png.rf.850c3ee9e8c89413447268c63bb5a031.jpg     \b\b\b\b 33%\b\b\b\b\b  OK \n",
            "Extracting  /content/dataset_2/train/caries_profunda/caries-90-_png_tooth_0_png.rf.c253ffd6518c82345ecf78bb0eaad7c9.jpg     \b\b\b\b 33%\b\b\b\b\b  OK \n",
            "Extracting  /content/dataset_2/train/caries_profunda/caries-93-_png_tooth_0_png.rf.f17ad07f78d29bf4690b5e719021a593.jpg     \b\b\b\b 33%\b\b\b\b\b  OK \n",
            "Extracting  /content/dataset_2/train/caries_profunda/caries-93-_png_tooth_1_png.rf.77d6fbd8d5f03ed3e2ab485f9736ccbe.jpg     \b\b\b\b 33%\b\b\b\b\b  OK \n",
            "Extracting  /content/dataset_2/train/caries_profunda/caries-94-_png_tooth_0_png.rf.b632f71665c4501e9f2b7aef41b2c786.jpg     \b\b\b\b 33%\b\b\b\b\b  OK \n",
            "Extracting  /content/dataset_2/train/caries_profunda/caries-94-_png_tooth_1_png.rf.d8e411b092608086b7c028be8d50fc14.jpg     \b\b\b\b 33%\b\b\b\b\b  OK \n",
            "Extracting  /content/dataset_2/train/caries_profunda/caries-96-_png_tooth_0_png.rf.6dc907498e9e73b9a04326f95a9c1623.jpg     \b\b\b\b 33%\b\b\b\b\b  OK \n",
            "Extracting  /content/dataset_2/train/caries_profunda/caries-96-_png_tooth_1_png.rf.9343cfb12ec6d8d82d9487137ff699b1.jpg     \b\b\b\b 33%\b\b\b\b\b  OK \n",
            "Extracting  /content/dataset_2/train/caries_profunda/caries-97-_png_tooth_0_png.rf.3297ddca4adddf4108eadbd952882fbb.jpg     \b\b\b\b 33%\b\b\b\b\b  OK \n",
            "Extracting  /content/dataset_2/train/caries_profunda/caries-97-_png_tooth_1_png.rf.a2e8d0db654b45b558892c220d5e7d79.jpg     \b\b\b\b 33%\b\b\b\b\b  OK \n",
            "Extracting  /content/dataset_2/train/caries_profunda/Frame-241_jpg_tooth_2_png.rf.49a891277dbbd49f21097d04e4734209.jpg     \b\b\b\b 33%\b\b\b\b\b  OK \n",
            "Extracting  /content/dataset_2/train/caries_profunda/Frame-341_jpg_tooth_1_png.rf.aafcefde5929ad7a4a0eab5450eb9854.jpg     \b\b\b\b 33%\b\b\b\b\b  OK \n",
            "Extracting  /content/dataset_2/train/caries_profunda/Frame-353_jpg_tooth_0_png.rf.fe421c88f70748fdcfa929e915c3c14a.jpg     \b\b\b\b 33%\b\b\b\b\b  OK \n",
            "Extracting  /content/dataset_2/train/caries_profunda/Frame-366_jpg_tooth_2_png.rf.e325ca6a251e1eaac4c3e566a0403f0e.jpg     \b\b\b\b 33%\b\b\b\b\b  OK \n",
            "Extracting  /content/dataset_2/train/caries_profunda/Frame-400_jpg_tooth_0_png.rf.3d5ab1afbb14a675bc381942b1048cec.jpg     \b\b\b\b 34%\b\b\b\b\b  OK \n",
            "Extracting  /content/dataset_2/train/caries_profunda/Frame-400_jpg_tooth_1_png.rf.bf6dac6765539e37f0dfbb7875d79fd3.jpg     \b\b\b\b 34%\b\b\b\b\b  OK \n",
            "Extracting  /content/dataset_2/train/caries_profunda/Frame-400_jpg_tooth_2_png.rf.9ef811a1090d08cb2899242031e346ed.jpg     \b\b\b\b 34%\b\b\b\b\b  OK \n",
            "Extracting  /content/dataset_2/train/caries_profunda/Frame-401_jpg_tooth_2_png.rf.1f21f20fb40be5eccfe9352d59470ca3.jpg     \b\b\b\b 34%\b\b\b\b\b  OK \n",
            "Extracting  /content/dataset_2/train/caries_profunda/Frame-402_jpg_tooth_0_png.rf.6afdb1dd195887c8b4751518e80fbd9e.jpg     \b\b\b\b 34%\b\b\b\b\b  OK \n",
            "Extracting  /content/dataset_2/train/caries_profunda/Frame-402_jpg_tooth_1_png.rf.360cbc5ad88b3f87fe26ef53ae25a469.jpg     \b\b\b\b 34%\b\b\b\b\b  OK \n",
            "Extracting  /content/dataset_2/train/caries_profunda/Frame-403_jpg_tooth_0_png.rf.3641a8ea0d2828fe8a0f02f669258144.jpg     \b\b\b\b 34%\b\b\b\b\b  OK \n",
            "Extracting  /content/dataset_2/train/caries_profunda/Frame-411_jpg_tooth_0_png.rf.825a5e4e568d0b078ea511bd36d949b8.jpg     \b\b\b\b 34%\b\b\b\b\b  OK \n",
            "Extracting  /content/dataset_2/train/caries_profunda/Frame-413_jpg_tooth_0_png.rf.ccd52e7eac90abd1a0afe66dda7c5eb5.jpg     \b\b\b\b 34%\b\b\b\b\b  OK \n",
            "Extracting  /content/dataset_2/train/caries_profunda/Frame-413_jpg_tooth_1_png.rf.305908675a4aa8a7250dec25da4707b3.jpg     \b\b\b\b 34%\b\b\b\b\b  OK \n",
            "Extracting  /content/dataset_2/train/caries_profunda/Frame-413_jpg_tooth_2_png.rf.9bf9ed04793d611ef7aeff73af4a3e5a.jpg     \b\b\b\b 34%\b\b\b\b\b  OK \n",
            "Extracting  /content/dataset_2/train/caries_profunda/Frame-414_jpg_tooth_1_png.rf.c32cc7c858d6ceb4ed84de3a6f634227.jpg     \b\b\b\b 34%\b\b\b\b\b  OK \n",
            "Creating    /content/dataset_2/train/caries_superficial               OK\n",
            "Extracting  /content/dataset_2/train/caries_superficial/caries-100-_png_tooth_1_png.rf.d4a388b2cd83750429b05b01f83b1228.jpg     \b\b\b\b 34%\b\b\b\b\b  OK \n",
            "Extracting  /content/dataset_2/train/caries_superficial/caries-103-_png_tooth_1_png.rf.916593ff9e0e6456acd5e6a195841ef4.jpg     \b\b\b\b 34%\b\b\b\b\b  OK \n",
            "Extracting  /content/dataset_2/train/caries_superficial/caries-104-_png_tooth_0_png.rf.d74fde197914af3a57be8d2a8dae8660.jpg     \b\b\b\b 34%\b\b\b\b\b  OK \n",
            "Extracting  /content/dataset_2/train/caries_superficial/caries-104-_png_tooth_1_png.rf.26419b965348a7d5aff4eb2ff70cf197.jpg     \b\b\b\b 34%\b\b\b\b\b  OK \n",
            "Extracting  /content/dataset_2/train/caries_superficial/caries-105-_png_tooth_0_png.rf.d7654729dae52db12be65cc180871aec.jpg     \b\b\b\b 35%\b\b\b\b\b  OK \n",
            "Extracting  /content/dataset_2/train/caries_superficial/caries-105-_png_tooth_1_png.rf.57f246306e2116c2bcd5001216b2c154.jpg     \b\b\b\b 35%\b\b\b\b\b  OK \n",
            "Extracting  /content/dataset_2/train/caries_superficial/caries-128-_png_tooth_2_png.rf.d69bf7c987d8e9c3d1eef16a2c984787.jpg     \b\b\b\b 35%\b\b\b\b\b  OK \n",
            "Extracting  /content/dataset_2/train/caries_superficial/caries-131-_png_tooth_1_png.rf.6b1b40d6d9e01796a2eba0d7fc10895e.jpg     \b\b\b\b 35%\b\b\b\b\b  OK \n",
            "Extracting  /content/dataset_2/train/caries_superficial/caries-141-_png_tooth_1_png.rf.f868626e75f22995b952825fc2712adc.jpg     \b\b\b\b 35%\b\b\b\b\b  OK \n",
            "Extracting  /content/dataset_2/train/caries_superficial/caries-142-_png_tooth_0_png.rf.a0d96ffca3b8ffb7e623d16e570b4540.jpg     \b\b\b\b 35%\b\b\b\b\b  OK \n",
            "Extracting  /content/dataset_2/train/caries_superficial/caries-15-_png_tooth_1_png.rf.eaf32f74a241e306dd9e69b130787986.jpg     \b\b\b\b 35%\b\b\b\b\b  OK \n",
            "Extracting  /content/dataset_2/train/caries_superficial/caries-151-_png_tooth_2_png.rf.2138caa672f2c5a3ccd0b6230763f512.jpg     \b\b\b\b 35%\b\b\b\b\b  OK \n",
            "Extracting  /content/dataset_2/train/caries_superficial/caries-16-_png_tooth_1_png.rf.62b571ef3d59d41f52269be9c644cfd1.jpg     \b\b\b\b 35%\b\b\b\b\b  OK \n",
            "Extracting  /content/dataset_2/train/caries_superficial/caries-161-_png_tooth_0_png.rf.38076fc729ed2334ce501b607b2ec8c0.jpg     \b\b\b\b 35%\b\b\b\b\b  OK \n",
            "Extracting  /content/dataset_2/train/caries_superficial/caries-162-_png_tooth_0_png.rf.52346b5389006c7cb08d26674923a075.jpg     \b\b\b\b 35%\b\b\b\b\b  OK \n",
            "Extracting  /content/dataset_2/train/caries_superficial/caries-163-_png_tooth_0_png.rf.46ab6ab7ac258ca29d63da0f134e595e.jpg     \b\b\b\b 35%\b\b\b\b\b  OK \n",
            "Extracting  /content/dataset_2/train/caries_superficial/caries-164-_png_tooth_0_png.rf.60d7284a8df911ba65e0a5763fd84df1.jpg     \b\b\b\b 35%\b\b\b\b\b  OK \n",
            "Extracting  /content/dataset_2/train/caries_superficial/caries-171-_png_tooth_0_png.rf.3119167b70084000ecda1feb69d326b0.jpg     \b\b\b\b 35%\b\b\b\b\b  OK \n",
            "Extracting  /content/dataset_2/train/caries_superficial/caries-172-_png_tooth_0_png.rf.18a7838f7ab4dcfb9a290a5dc368f24b.jpg     \b\b\b\b 35%\b\b\b\b\b  OK \n",
            "Extracting  /content/dataset_2/train/caries_superficial/caries-201-_png_tooth_0_png.rf.cb6c0b204734c94c141d956373fa6dc9.jpg     \b\b\b\b 35%\b\b\b\b\b  OK \n",
            "Extracting  /content/dataset_2/train/caries_superficial/caries-209-_png_tooth_2_png.rf.1e1fe94f0a61650f8d68535c882a292b.jpg     \b\b\b\b 35%\b\b\b\b\b  OK \n",
            "Extracting  /content/dataset_2/train/caries_superficial/caries-210-_png_tooth_2_png.rf.1119f9f6436cac80edb78913348e7181.jpg     \b\b\b\b 35%\b\b\b\b\b  OK \n",
            "Extracting  /content/dataset_2/train/caries_superficial/caries-253-_png_tooth_2_png.rf.b9fe25470821f5f1d4bb510747072470.jpg     \b\b\b\b 35%\b\b\b\b\b  OK \n",
            "Extracting  /content/dataset_2/train/caries_superficial/caries-265-_png_tooth_1_png.rf.d750d61aea2088f1f93740671b4be39a.jpg     \b\b\b\b 35%\b\b\b\b\b  OK \n",
            "Extracting  /content/dataset_2/train/caries_superficial/caries-267-_png_tooth_1_png.rf.42f5bf90e055a54e03a8a3ed6117648e.jpg     \b\b\b\b 35%\b\b\b\b\b  OK \n",
            "Extracting  /content/dataset_2/train/caries_superficial/caries-277-_png_tooth_1_png.rf.f9866ea8f654d82789ce24d8706c89ef.jpg     \b\b\b\b 35%\b\b\b\b\b  OK \n",
            "Extracting  /content/dataset_2/train/caries_superficial/caries-277-_png_tooth_3_png.rf.b3eaf1c44d93e59ce3f43ebf84121ee2.jpg     \b\b\b\b 36%\b\b\b\b\b  OK \n",
            "Extracting  /content/dataset_2/train/caries_superficial/caries-278-_png_tooth_0_png.rf.2f516dcec2f8a9b6cb42337ed282bf1c.jpg     \b\b\b\b 36%\b\b\b\b\b  OK \n",
            "Extracting  /content/dataset_2/train/caries_superficial/caries-278-_png_tooth_1_png.rf.b442d1cd90c26552ebbca08cddc7dca0.jpg     \b\b\b\b 36%\b\b\b\b\b  OK \n",
            "Extracting  /content/dataset_2/train/caries_superficial/caries-278-_png_tooth_2_png.rf.de14dd713ab76db8b592da75c8f4df1a.jpg     \b\b\b\b 36%\b\b\b\b\b  OK \n",
            "Extracting  /content/dataset_2/train/caries_superficial/caries-279-_png_tooth_0_png.rf.94b61f85d1f8a2906cbc0b9bcfce785b.jpg     \b\b\b\b 36%\b\b\b\b\b  OK \n",
            "Extracting  /content/dataset_2/train/caries_superficial/caries-280-_png_tooth_2_png.rf.d0bbac7cfa791cf56772601b6ba1d17b.jpg     \b\b\b\b 36%\b\b\b\b\b  OK \n",
            "Extracting  /content/dataset_2/train/caries_superficial/caries-281-_png_tooth_0_png.rf.ec1451a33b8d6cdf08ca41eb4284fa87.jpg     \b\b\b\b 36%\b\b\b\b\b  OK \n",
            "Extracting  /content/dataset_2/train/caries_superficial/caries-281-_png_tooth_1_png.rf.64fa1c97a4025d588ffbaf957fa256a0.jpg     \b\b\b\b 36%\b\b\b\b\b  OK \n",
            "Extracting  /content/dataset_2/train/caries_superficial/caries-335-_png_tooth_0_png.rf.ae39d0ff6c52b8f0e646ce8b37a6d3ae.jpg     \b\b\b\b 36%\b\b\b\b\b  OK \n",
            "Extracting  /content/dataset_2/train/caries_superficial/caries-34-_png_tooth_3_png.rf.680ed87c831f8eccddfae1c7b497acd2.jpg     \b\b\b\b 36%\b\b\b\b\b  OK \n",
            "Extracting  /content/dataset_2/train/caries_superficial/caries-340-_png_tooth_0_png.rf.6487a93fdc19e52d88d43faf5064679b.jpg     \b\b\b\b 36%\b\b\b\b\b  OK \n",
            "Extracting  /content/dataset_2/train/caries_superficial/caries-342-_png_tooth_0_png.rf.0135e35337ed5b452ea879727046f61c.jpg     \b\b\b\b 36%\b\b\b\b\b  OK \n",
            "Extracting  /content/dataset_2/train/caries_superficial/caries-345-_png_tooth_0_png.rf.1092bd5511bce9fb21bf7c2bf415dd00.jpg     \b\b\b\b 36%\b\b\b\b\b  OK \n",
            "Extracting  /content/dataset_2/train/caries_superficial/caries-37-_png_tooth_2_png.rf.6f57db42120642e8ed4b72548ac13323.jpg     \b\b\b\b 36%\b\b\b\b\b  OK \n",
            "Extracting  /content/dataset_2/train/caries_superficial/caries-381-_png_tooth_1_png.rf.a7b5d1f02a49c7349f6e16f0a586711d.jpg     \b\b\b\b 36%\b\b\b\b\b  OK \n",
            "Extracting  /content/dataset_2/train/caries_superficial/caries-389-_png_tooth_0_png.rf.c2d67dde248f198a6e9c462300848893.jpg     \b\b\b\b 37%\b\b\b\b\b  OK \n",
            "Extracting  /content/dataset_2/train/caries_superficial/caries-396-_png_tooth_0_png.rf.837df80eeb171adc836e8f333f20f741.jpg     \b\b\b\b 37%\b\b\b\b\b  OK \n",
            "Extracting  /content/dataset_2/train/caries_superficial/caries-400-_png_tooth_0_png.rf.77c3e307a0dd788feedc23d7b59d43db.jpg     \b\b\b\b 37%\b\b\b\b\b  OK \n",
            "Extracting  /content/dataset_2/train/caries_superficial/caries-402-_png_tooth_0_png.rf.56d9c46eda2b63b354c64b73d6673418.jpg     \b\b\b\b 37%\b\b\b\b\b  OK \n",
            "Extracting  /content/dataset_2/train/caries_superficial/caries-437-_png_tooth_0_png.rf.c99531ecea83421edae9d23bbdd4d39f.jpg     \b\b\b\b 37%\b\b\b\b\b  OK \n",
            "Extracting  /content/dataset_2/train/caries_superficial/caries-442-_png_tooth_0_png.rf.fba807ccb22b2c52c41ed5c0c198a59f.jpg     \b\b\b\b 37%\b\b\b\b\b  OK \n",
            "Extracting  /content/dataset_2/train/caries_superficial/caries-453-_png_tooth_1_png.rf.73d9ce636d076aafa1b26b2f6c50db9b.jpg     \b\b\b\b 37%\b\b\b\b\b  OK \n",
            "Extracting  /content/dataset_2/train/caries_superficial/caries-471-_png_tooth_0_png.rf.1bbd4748510ff823f47616eb722a28b5.jpg     \b\b\b\b 37%\b\b\b\b\b  OK \n",
            "Extracting  /content/dataset_2/train/caries_superficial/caries-49-_png_tooth_1_png.rf.c2bce123c7506d6a7737b0ce443dda75.jpg     \b\b\b\b 37%\b\b\b\b\b  OK \n",
            "Extracting  /content/dataset_2/train/caries_superficial/caries-50-_png_tooth_1_png.rf.e0bb92a090319b691b8f2ac46f237393.jpg     \b\b\b\b 37%\b\b\b\b\b  OK \n",
            "Extracting  /content/dataset_2/train/caries_superficial/caries-503-_png_tooth_0_png.rf.d53f40d3f68446580c72b93493dffb4c.jpg     \b\b\b\b 37%\b\b\b\b\b  OK \n",
            "Extracting  /content/dataset_2/train/caries_superficial/caries-505-_png_tooth_0_png.rf.1b2c983dee14abfc759a92d116fa97ac.jpg     \b\b\b\b 37%\b\b\b\b\b  OK \n",
            "Extracting  /content/dataset_2/train/caries_superficial/caries-51-_png_tooth_0_png.rf.71676f3898b168ad8ca37cf7c091cc2d.jpg     \b\b\b\b 37%\b\b\b\b\b  OK \n",
            "Extracting  /content/dataset_2/train/caries_superficial/caries-543-_png_tooth_0_png.rf.9ec0d840f4795835dce751885c6c81ae.jpg     \b\b\b\b 38%\b\b\b\b\b  OK \n",
            "Extracting  /content/dataset_2/train/caries_superficial/caries-561-_png_tooth_1_png.rf.eb841c322a6a967c55e5d2e48811ab67.jpg     \b\b\b\b 38%\b\b\b\b\b  OK \n",
            "Extracting  /content/dataset_2/train/caries_superficial/caries-580-_png_tooth_0_png.rf.634358010907d808c8d487018acc0eaf.jpg     \b\b\b\b 38%\b\b\b\b\b  OK \n",
            "Extracting  /content/dataset_2/train/caries_superficial/caries-592-_png_tooth_0_png.rf.626b0ba26278ef05196c7cdb9c96db59.jpg     \b\b\b\b 38%\b\b\b\b\b  OK \n",
            "Extracting  /content/dataset_2/train/caries_superficial/caries-607-_png_tooth_0_png.rf.e38487a8e852615a086a220a3f80be5f.jpg     \b\b\b\b 38%\b\b\b\b\b  OK \n",
            "Extracting  /content/dataset_2/train/caries_superficial/caries-610-_png_tooth_0_png.rf.670601c12b6e280c926998122edddc7b.jpg     \b\b\b\b 38%\b\b\b\b\b  OK \n",
            "Extracting  /content/dataset_2/train/caries_superficial/caries-623-_png_tooth_0_png.rf.2d4a6a628ac8c9787ad86c74692e918e.jpg     \b\b\b\b 38%\b\b\b\b\b  OK \n",
            "Extracting  /content/dataset_2/train/caries_superficial/caries-628-_png_tooth_0_png.rf.c42724d650ad56530fcbcd6765d45297.jpg     \b\b\b\b 38%\b\b\b\b\b  OK \n",
            "Extracting  /content/dataset_2/train/caries_superficial/caries-630-_png_tooth_0_png.rf.1c6cea0de7b7c0f0e273dfe7ceb0ecc3.jpg     \b\b\b\b 38%\b\b\b\b\b  OK \n",
            "Extracting  /content/dataset_2/train/caries_superficial/caries-659-_png_tooth_0_png.rf.a14b2881bdc5b2217dc8eec973c04bd5.jpg     \b\b\b\b 38%\b\b\b\b\b  OK \n",
            "Extracting  /content/dataset_2/train/caries_superficial/caries-672-_png_tooth_1_png.rf.cdc31aa920e39a79e2905b4b5373d2c9.jpg     \b\b\b\b 39%\b\b\b\b\b  OK \n",
            "Extracting  /content/dataset_2/train/caries_superficial/caries-673-_png_tooth_0_png.rf.f1789fe1ba208cca278086bd8467c8b1.jpg     \b\b\b\b 39%\b\b\b\b\b  OK \n",
            "Extracting  /content/dataset_2/train/caries_superficial/caries-674-_png_tooth_0_png.rf.0b7d6f77a0546a6b1b387988cf2e16fd.jpg     \b\b\b\b 39%\b\b\b\b\b  OK \n",
            "Extracting  /content/dataset_2/train/caries_superficial/caries-675-_png_tooth_0_png.rf.0d65717e29f44ee018d540c2d97db084.jpg     \b\b\b\b 39%\b\b\b\b\b  OK \n",
            "Extracting  /content/dataset_2/train/caries_superficial/caries-68-_png_tooth_2_png.rf.e5bf65a5ccd1f66b8929c869a01e6680.jpg     \b\b\b\b 39%\b\b\b\b\b  OK \n",
            "Extracting  /content/dataset_2/train/caries_superficial/caries-683-_png_tooth_0_png.rf.df4b7f06f8fd5f884119ef46f336e37a.jpg     \b\b\b\b 39%\b\b\b\b\b  OK \n",
            "Extracting  /content/dataset_2/train/caries_superficial/caries-69-_png_tooth_3_png.rf.574cb83378b84157b7dd99b7054ecc8d.jpg     \b\b\b\b 39%\b\b\b\b\b  OK \n",
            "Extracting  /content/dataset_2/train/caries_superficial/caries-691-_png_tooth_0_png.rf.0d05d7b0bc822092be372ad4afbc9cbb.jpg     \b\b\b\b 39%\b\b\b\b\b  OK \n",
            "Extracting  /content/dataset_2/train/caries_superficial/caries-693-_png_tooth_0_png.rf.c1a1b2ef6cea4e367ef350660e4d450c.jpg     \b\b\b\b 39%\b\b\b\b\b  OK \n",
            "Extracting  /content/dataset_2/train/caries_superficial/caries-70-_png_tooth_3_png.rf.bd1bf4a252051566f829250bf55a57b4.jpg     \b\b\b\b 39%\b\b\b\b\b  OK \n",
            "Extracting  /content/dataset_2/train/caries_superficial/caries-702-_png_tooth_0_png.rf.52493ae7b78073d24e45b6ce12a6c9bc.jpg     \b\b\b\b 39%\b\b\b\b\b  OK \n",
            "Extracting  /content/dataset_2/train/caries_superficial/caries-704-_png_tooth_0_png.rf.68f5f4d38ee19e484c5e9ea2c0bfc987.jpg     \b\b\b\b 39%\b\b\b\b\b  OK \n",
            "Extracting  /content/dataset_2/train/caries_superficial/caries-711-_png_tooth_0_png.rf.21218d086421113e7a4b1d4870022274.jpg     \b\b\b\b 40%\b\b\b\b\b  OK \n",
            "Extracting  /content/dataset_2/train/caries_superficial/caries-717-_png_tooth_0_png.rf.63364fdbff4391f7c97ee10a1ed751cb.jpg     \b\b\b\b 40%\b\b\b\b\b  OK \n",
            "Extracting  /content/dataset_2/train/caries_superficial/caries-725-_png_tooth_0_png.rf.805e755ebc3ce7bf0f0b8b3cce7d9b7a.jpg     \b\b\b\b 40%\b\b\b\b\b  OK \n",
            "Extracting  /content/dataset_2/train/caries_superficial/caries-728-_png_tooth_0_png.rf.0943149e7fa2d36d08b0dca44a0f8370.jpg     \b\b\b\b 40%\b\b\b\b\b  OK \n",
            "Extracting  /content/dataset_2/train/caries_superficial/caries-73-_png_tooth_1_png.rf.f2527b1386bd5833a916b817b7f692b8.jpg     \b\b\b\b 40%\b\b\b\b\b  OK \n",
            "Extracting  /content/dataset_2/train/caries_superficial/caries-73-_png_tooth_2_png.rf.562dd30f754d88315b97b958769e3a8f.jpg     \b\b\b\b 40%\b\b\b\b\b  OK \n",
            "Extracting  /content/dataset_2/train/caries_superficial/caries-735-_png_tooth_0_png.rf.768e6a2debe930bd6a95817096922b18.jpg     \b\b\b\b 40%\b\b\b\b\b  OK \n",
            "Extracting  /content/dataset_2/train/caries_superficial/caries-737-_png_tooth_0_png.rf.e5c935ce56656d33f6472f546cc04a28.jpg     \b\b\b\b 40%\b\b\b\b\b  OK \n",
            "Extracting  /content/dataset_2/train/caries_superficial/caries-738-_png_tooth_0_png.rf.06ea9f72e055b6444842a3f8677d0aa1.jpg     \b\b\b\b 40%\b\b\b\b\b  OK \n",
            "Extracting  /content/dataset_2/train/caries_superficial/caries-74-_png_tooth_1_png.rf.69dc2712b3a080052235535c606897ea.jpg     \b\b\b\b 40%\b\b\b\b\b  OK \n",
            "Extracting  /content/dataset_2/train/caries_superficial/caries-759-_png_tooth_0_png.rf.e5dc6df589b1b648218ed401bdd85952.jpg     \b\b\b\b 40%\b\b\b\b\b  OK \n",
            "Extracting  /content/dataset_2/train/caries_superficial/caries-761-_png_tooth_0_png.rf.04d9ee5945ca3284c325e6bfd13a66ff.jpg     \b\b\b\b 40%\b\b\b\b\b  OK \n",
            "Extracting  /content/dataset_2/train/caries_superficial/caries-765-_png_tooth_0_png.rf.c90c4a9387a12d1a4f377a9fe6b9c74f.jpg     \b\b\b\b 41%\b\b\b\b\b  OK \n",
            "Extracting  /content/dataset_2/train/caries_superficial/caries-77-_png_tooth_0_png.rf.d89bf1740211f3ef9798ded8983e365e.jpg     \b\b\b\b 41%\b\b\b\b\b  OK \n",
            "Extracting  /content/dataset_2/train/caries_superficial/caries-773-_png_tooth_0_png.rf.31c9a66c6bc3220f32d733c99cd49703.jpg     \b\b\b\b 41%\b\b\b\b\b  OK \n",
            "Extracting  /content/dataset_2/train/caries_superficial/caries-775-_png_tooth_0_png.rf.2776a43066364953081829f4c9747447.jpg     \b\b\b\b 41%\b\b\b\b\b  OK \n",
            "Extracting  /content/dataset_2/train/caries_superficial/caries-776-_png_tooth_0_png.rf.da5f3edb252b68e2b1bcc0ef6e3ed2af.jpg     \b\b\b\b 41%\b\b\b\b\b  OK \n",
            "Extracting  /content/dataset_2/train/caries_superficial/caries-778-_png_tooth_0_png.rf.e399396a830688f494d2608cc92ea3ac.jpg     \b\b\b\b 41%\b\b\b\b\b  OK \n",
            "Extracting  /content/dataset_2/train/caries_superficial/caries-779-_png_tooth_0_png.rf.2eb32c1d8ec79fba945ed7b4e7e99abc.jpg     \b\b\b\b 41%\b\b\b\b\b  OK \n",
            "Extracting  /content/dataset_2/train/caries_superficial/caries-78-_png_tooth_0_png.rf.db4d9530a768e779b95b79eb29eff5a9.jpg     \b\b\b\b 41%\b\b\b\b\b  OK \n",
            "Extracting  /content/dataset_2/train/caries_superficial/caries-79-_png_tooth_1_png.rf.c3264a0778d8ad76f0e23f0511f47ab9.jpg     \b\b\b\b 41%\b\b\b\b\b  OK \n",
            "Extracting  /content/dataset_2/train/caries_superficial/caries-80-_png_tooth_1_png.rf.0a2b39a3c5b40b34af3931a530399a6b.jpg     \b\b\b\b 41%\b\b\b\b\b  OK \n",
            "Extracting  /content/dataset_2/train/caries_superficial/caries-98-_png_tooth_1_png.rf.1a8c6cf88bbaa983117224ae16e6d7cc.jpg     \b\b\b\b 41%\b\b\b\b\b  OK \n",
            "Extracting  /content/dataset_2/train/caries_superficial/Frame-248_jpg_tooth_1_png.rf.c766ab08a3049b88a1749fdafe1d2fa8.jpg     \b\b\b\b 41%\b\b\b\b\b  OK \n",
            "Extracting  /content/dataset_2/train/caries_superficial/Frame-252_jpg_tooth_1_png.rf.018a679b403ebbe80c34c60e63179158.jpg     \b\b\b\b 41%\b\b\b\b\b  OK \n",
            "Extracting  /content/dataset_2/train/caries_superficial/Frame-261_jpg_tooth_1_png.rf.3e548f4ed90b8be6c873b59d3a539114.jpg     \b\b\b\b 41%\b\b\b\b\b  OK \n",
            "Extracting  /content/dataset_2/train/caries_superficial/Frame-273_jpg_tooth_0_png.rf.e4c4a46860e2a2306353a73157f5fa6f.jpg     \b\b\b\b 42%\b\b\b\b\b  OK \n",
            "Extracting  /content/dataset_2/train/caries_superficial/Frame-293_jpg_tooth_0_png.rf.c85cce1ad9950023d1f0a41e2a9b1fc8.jpg     \b\b\b\b 42%\b\b\b\b\b  OK \n",
            "Extracting  /content/dataset_2/train/caries_superficial/Frame-325_jpg_tooth_0_png.rf.2aa4b63ec377ffd52d960add5d14e8d1.jpg     \b\b\b\b 42%\b\b\b\b\b  OK \n",
            "Extracting  /content/dataset_2/train/caries_superficial/Frame-354_jpg_tooth_0_png.rf.bc77ed30d5ac29da86d2756382be7d06.jpg     \b\b\b\b 42%\b\b\b\b\b  OK \n",
            "Extracting  /content/dataset_2/train/caries_superficial/Frame-354_jpg_tooth_1_png.rf.ba980ac244d3c8f18f04d58982b0b5b7.jpg     \b\b\b\b 42%\b\b\b\b\b  OK \n",
            "Extracting  /content/dataset_2/train/caries_superficial/Frame-355_jpg_tooth_2_png.rf.964399a37d964127272e3acf7a287a4b.jpg     \b\b\b\b 42%\b\b\b\b\b  OK \n",
            "Extracting  /content/dataset_2/train/caries_superficial/Frame-371_jpg_tooth_2_png.rf.71d48db8681c7188fa73985dbc126772.jpg     \b\b\b\b 42%\b\b\b\b\b  OK \n",
            "Extracting  /content/dataset_2/train/caries_superficial/Frame-372_jpg_tooth_2_png.rf.4ddc89cf621be2253639806aa984c593.jpg     \b\b\b\b 42%\b\b\b\b\b  OK \n",
            "Extracting  /content/dataset_2/train/caries_superficial/Frame-374_jpg_tooth_3_png.rf.6ffea2194411e52cb31ac9c9a0e64714.jpg     \b\b\b\b 42%\b\b\b\b\b  OK \n",
            "Extracting  /content/dataset_2/train/caries_superficial/Frame-403_jpg_tooth_1_png.rf.a7b064f911a9933bba5b20fe2ca149b9.jpg     \b\b\b\b 42%\b\b\b\b\b  OK \n",
            "Extracting  /content/dataset_2/train/caries_superficial/Frame-412_jpg_tooth_2_png.rf.43946cd339ef77ec1ac492ec170849b4.jpg     \b\b\b\b 42%\b\b\b\b\b  OK \n",
            "Extracting  /content/dataset_2/train/caries_superficial/Frame-428_jpg_tooth_0_png.rf.071839bf286b0bdb4b2fcc703a444e1b.jpg     \b\b\b\b 42%\b\b\b\b\b  OK \n",
            "Creating    /content/dataset_2/train/noncaries                        OK\n",
            "Extracting  /content/dataset_2/train/noncaries/caries-1-_png_tooth_2_png.rf.78b8e0a65cc97513e8d128a42de0436f.jpg     \b\b\b\b 42%\b\b\b\b\b  OK \n",
            "Extracting  /content/dataset_2/train/noncaries/caries-10-_png_tooth_0_png.rf.c138f93edd9a88e2c99bf2fe1d297337.jpg     \b\b\b\b 42%\b\b\b\b\b  OK \n",
            "Extracting  /content/dataset_2/train/noncaries/caries-107-_png_tooth_1_png.rf.9f7c7f3a3c4723a58988cc130ae222fa.jpg     \b\b\b\b 42%\b\b\b\b\b  OK \n",
            "Extracting  /content/dataset_2/train/noncaries/caries-108-_png_tooth_0_png.rf.3d1f011bdeb01a9ddf7cfa45bb0e07b5.jpg     \b\b\b\b 42%\b\b\b\b\b  OK \n",
            "Extracting  /content/dataset_2/train/noncaries/caries-11-_png_tooth_0_png.rf.864a62a81ebfd4f7b2c3b50ec7a91393.jpg     \b\b\b\b 42%\b\b\b\b\b  OK \n",
            "Extracting  /content/dataset_2/train/noncaries/caries-114-_png_tooth_0_png.rf.47be05c3bf0c86a5def7921636734d06.jpg     \b\b\b\b 43%\b\b\b\b\b  OK \n",
            "Extracting  /content/dataset_2/train/noncaries/caries-115-_png_tooth_1_png.rf.9f73063ba3fb955035322505898ad84b.jpg     \b\b\b\b 43%\b\b\b\b\b  OK \n",
            "Extracting  /content/dataset_2/train/noncaries/caries-12-_png_tooth_0_png.rf.69a6da0dca739ae3cfb1f0adaeacf867.jpg     \b\b\b\b 43%\b\b\b\b\b  OK \n",
            "Extracting  /content/dataset_2/train/noncaries/caries-12-_png_tooth_1_png.rf.f1589324ff8550336404757a184d2ed3.jpg     \b\b\b\b 43%\b\b\b\b\b  OK \n",
            "Extracting  /content/dataset_2/train/noncaries/caries-121-_png_tooth_1_png.rf.6269ed7299850b16edb4b84194a95603.jpg     \b\b\b\b 43%\b\b\b\b\b  OK \n",
            "Extracting  /content/dataset_2/train/noncaries/caries-122-_png_tooth_0_png.rf.8900be1567dd9efbfc9f59d55edfe66a.jpg     \b\b\b\b 43%\b\b\b\b\b  OK \n",
            "Extracting  /content/dataset_2/train/noncaries/caries-123-_png_tooth_0_png.rf.cc8ff8f889e8f48e318a5f0db169cbc3.jpg     \b\b\b\b 43%\b\b\b\b\b  OK \n",
            "Extracting  /content/dataset_2/train/noncaries/caries-123-_png_tooth_1_png.rf.3ed221fd429190d2f38eb74721a23b48.jpg     \b\b\b\b 43%\b\b\b\b\b  OK \n",
            "Extracting  /content/dataset_2/train/noncaries/caries-124-_png_tooth_0_png.rf.b5e9347ab9829064bcff7b4d4b3090cf.jpg     \b\b\b\b 43%\b\b\b\b\b  OK \n",
            "Extracting  /content/dataset_2/train/noncaries/caries-124-_png_tooth_1_png.rf.1c58ae9ffdebc057da934a40cea301e2.jpg     \b\b\b\b 43%\b\b\b\b\b  OK \n",
            "Extracting  /content/dataset_2/train/noncaries/caries-125-_png_tooth_1_png.rf.826c84d47e061f2c7b9b0947555b18ab.jpg     \b\b\b\b 43%\b\b\b\b\b  OK \n",
            "Extracting  /content/dataset_2/train/noncaries/caries-126-_png_tooth_2_png.rf.96693a03477bf1cee9c6283c67baf698.jpg     \b\b\b\b 43%\b\b\b\b\b  OK \n",
            "Extracting  /content/dataset_2/train/noncaries/caries-128-_png_tooth_0_png.rf.d31854f13ea5a00e8cbd365c279ccc20.jpg     \b\b\b\b 43%\b\b\b\b\b  OK \n",
            "Extracting  /content/dataset_2/train/noncaries/caries-129-_png_tooth_0_png.rf.0e1ba2f323e430c09fd0a8f1934404ad.jpg     \b\b\b\b 43%\b\b\b\b\b  OK \n",
            "Extracting  /content/dataset_2/train/noncaries/caries-129-_png_tooth_1_png.rf.bfe83c61083da3f9b1858d85266d01f8.jpg     \b\b\b\b 43%\b\b\b\b\b  OK \n",
            "Extracting  /content/dataset_2/train/noncaries/caries-13-_png_tooth_0_png.rf.ffdf51a8f710234451191baa29088148.jpg     \b\b\b\b 43%\b\b\b\b\b  OK \n",
            "Extracting  /content/dataset_2/train/noncaries/caries-131-_png_tooth_0_png.rf.e9f093abb5dc8c9267c9a8acd8b1ab83.jpg     \b\b\b\b 43%\b\b\b\b\b  OK \n",
            "Extracting  /content/dataset_2/train/noncaries/caries-132-_png_tooth_0_png.rf.1b8c2be73250b786a45b8ab1bc852f01.jpg     \b\b\b\b 43%\b\b\b\b\b  OK \n",
            "Extracting  /content/dataset_2/train/noncaries/caries-135-_png_tooth_0_png.rf.736f1be96a6662f8245261bd5e2a0331.jpg     \b\b\b\b 43%\b\b\b\b\b  OK \n",
            "Extracting  /content/dataset_2/train/noncaries/caries-137-_png_tooth_0_png.rf.0a6d9a5149d8fd7021ccebbd8debbd21.jpg     \b\b\b\b 44%\b\b\b\b\b  OK \n",
            "Extracting  /content/dataset_2/train/noncaries/caries-138-_png_tooth_0_png.rf.a8f4fa5f6e8793e9a2a7c59042fd3d62.jpg     \b\b\b\b 44%\b\b\b\b\b  OK \n",
            "Extracting  /content/dataset_2/train/noncaries/caries-139-_png_tooth_2_png.rf.3a827ae9ef12bec2cbcb35f3a8467cb3.jpg     \b\b\b\b 44%\b\b\b\b\b  OK \n",
            "Extracting  /content/dataset_2/train/noncaries/caries-14-_png_tooth_0_png.rf.d1fda6e9b07cadc46014fe2cbb0b7f28.jpg     \b\b\b\b 44%\b\b\b\b\b  OK \n",
            "Extracting  /content/dataset_2/train/noncaries/caries-14-_png_tooth_1_png.rf.9b955276cf64c3468a311412bca451dc.jpg     \b\b\b\b 44%\b\b\b\b\b  OK \n",
            "Extracting  /content/dataset_2/train/noncaries/caries-146-_png_tooth_0_png.rf.03ec66d860138e8724ddaa8574b748bb.jpg     \b\b\b\b 44%\b\b\b\b\b  OK \n",
            "Extracting  /content/dataset_2/train/noncaries/caries-147-_png_tooth_1_png.rf.5f524d082067d00e6a6851e79db58924.jpg     \b\b\b\b 44%\b\b\b\b\b  OK \n",
            "Extracting  /content/dataset_2/train/noncaries/caries-148-_png_tooth_0_png.rf.df7ccc273fc2bd4514e45af5c1bcaf6f.jpg     \b\b\b\b 44%\b\b\b\b\b  OK \n",
            "Extracting  /content/dataset_2/train/noncaries/caries-150-_png_tooth_2_png.rf.d715ef339598ae93d88d5df06c53c29f.jpg     \b\b\b\b 44%\b\b\b\b\b  OK \n",
            "Extracting  /content/dataset_2/train/noncaries/caries-151-_png_tooth_0_png.rf.7179b6574b5252cf088d1f78a835e5f5.jpg     \b\b\b\b 44%\b\b\b\b\b  OK \n",
            "Extracting  /content/dataset_2/train/noncaries/caries-152-_png_tooth_1_png.rf.b9d909c730f7e4b5e01895c7b2d0596a.jpg     \b\b\b\b 44%\b\b\b\b\b  OK \n",
            "Extracting  /content/dataset_2/train/noncaries/caries-152-_png_tooth_2_png.rf.34533f21e6eeba7fa8abc49d7ec084d1.jpg     \b\b\b\b 44%\b\b\b\b\b  OK \n",
            "Extracting  /content/dataset_2/train/noncaries/caries-153-_png_tooth_2_png.rf.ed419d22e67350d4998c98c421a80d27.jpg     \b\b\b\b 44%\b\b\b\b\b  OK \n",
            "Extracting  /content/dataset_2/train/noncaries/caries-154-_png_tooth_1_png.rf.083a7f0178ab84baba558231193b5975.jpg     \b\b\b\b 44%\b\b\b\b\b  OK \n",
            "Extracting  /content/dataset_2/train/noncaries/caries-154-_png_tooth_2_png.rf.a5977a2df56aebb750ccc3c74333ee44.jpg     \b\b\b\b 44%\b\b\b\b\b  OK \n",
            "Extracting  /content/dataset_2/train/noncaries/caries-155-_png_tooth_1_png.rf.c8c3213b2a560e38c3d65dad42013218.jpg     \b\b\b\b 44%\b\b\b\b\b  OK \n",
            "Extracting  /content/dataset_2/train/noncaries/caries-156-_png_tooth_0_png.rf.41328e92f0607ce96a62521bfb3225d1.jpg     \b\b\b\b 44%\b\b\b\b\b  OK \n",
            "Extracting  /content/dataset_2/train/noncaries/caries-156-_png_tooth_1_png.rf.f32ea406aaa9c00638bd1b385f81c207.jpg     \b\b\b\b 44%\b\b\b\b\b  OK \n",
            "Extracting  /content/dataset_2/train/noncaries/caries-157-_png_tooth_1_png.rf.43123e0713072070fbc3ce000f72e0fc.jpg     \b\b\b\b 44%\b\b\b\b\b  OK \n",
            "Extracting  /content/dataset_2/train/noncaries/caries-158-_png_tooth_0_png.rf.ad5da671e803e9ab691496f2082b77c0.jpg     \b\b\b\b 45%\b\b\b\b\b  OK \n",
            "Extracting  /content/dataset_2/train/noncaries/caries-160-_png_tooth_1_png.rf.355dd2c16ac8781caf6043e75dcbe3dd.jpg     \b\b\b\b 45%\b\b\b\b\b  OK \n",
            "Extracting  /content/dataset_2/train/noncaries/caries-161-_png_tooth_1_png.rf.8592628952eb2166f8f30d1cdf43fe21.jpg     \b\b\b\b 45%\b\b\b\b\b  OK \n",
            "Extracting  /content/dataset_2/train/noncaries/caries-161-_png_tooth_2_png.rf.b3910d5e704187b92b66db2b2f8764d4.jpg     \b\b\b\b 45%\b\b\b\b\b  OK \n",
            "Extracting  /content/dataset_2/train/noncaries/caries-162-_png_tooth_1_png.rf.f7e01a66b5da03572d27accb26053aba.jpg     \b\b\b\b 45%\b\b\b\b\b  OK \n",
            "Extracting  /content/dataset_2/train/noncaries/caries-163-_png_tooth_1_png.rf.b03d0f99ae2cfe3d635b2cedd8d5c1b9.jpg     \b\b\b\b 45%\b\b\b\b\b  OK \n",
            "Extracting  /content/dataset_2/train/noncaries/caries-163-_png_tooth_2_png.rf.fd51c7003de891684976602548c38499.jpg     \b\b\b\b 45%\b\b\b\b\b  OK \n",
            "Extracting  /content/dataset_2/train/noncaries/caries-164-_png_tooth_1_png.rf.04ad68d805f57272961a48cdce2d63c1.jpg     \b\b\b\b 45%\b\b\b\b\b  OK \n",
            "Extracting  /content/dataset_2/train/noncaries/caries-164-_png_tooth_2_png.rf.b0aa1f8a9dbc85827d45c9febc5d9a15.jpg     \b\b\b\b 45%\b\b\b\b\b  OK \n",
            "Extracting  /content/dataset_2/train/noncaries/caries-175-_png_tooth_1_png.rf.2b011ae6c52c87b934b6199220608002.jpg     \b\b\b\b 45%\b\b\b\b\b  OK \n",
            "Extracting  /content/dataset_2/train/noncaries/caries-175-_png_tooth_2_png.rf.be4760a84af5a65b014916eb56acafee.jpg     \b\b\b\b 45%\b\b\b\b\b  OK \n",
            "Extracting  /content/dataset_2/train/noncaries/caries-176-_png_tooth_0_png.rf.ef7d3ff3f990ebf39771eea67649670f.jpg     \b\b\b\b 45%\b\b\b\b\b  OK \n",
            "Extracting  /content/dataset_2/train/noncaries/caries-184-_png_tooth_0_png.rf.d8462e99fc86c96b9deb0519af0039b3.jpg     \b\b\b\b 45%\b\b\b\b\b  OK \n",
            "Extracting  /content/dataset_2/train/noncaries/caries-185-_png_tooth_0_png.rf.caeee1991c21e03a0d98072018196852.jpg     \b\b\b\b 45%\b\b\b\b\b  OK \n",
            "Extracting  /content/dataset_2/train/noncaries/caries-186-_png_tooth_1_png.rf.6405df5352bf1d82ad820cac0e1d3a91.jpg     \b\b\b\b 45%\b\b\b\b\b  OK \n",
            "Extracting  /content/dataset_2/train/noncaries/caries-187-_png_tooth_0_png.rf.ebd68e7cd3a120353dc9d848a870cf4a.jpg     \b\b\b\b 45%\b\b\b\b\b  OK \n",
            "Extracting  /content/dataset_2/train/noncaries/caries-188-_png_tooth_0_png.rf.c7c185e8c691f178365ea92c5c1a16ea.jpg     \b\b\b\b 45%\b\b\b\b\b  OK \n",
            "Extracting  /content/dataset_2/train/noncaries/caries-188-_png_tooth_1_png.rf.230201a5068e6667e7db215d04498f2b.jpg     \b\b\b\b 45%\b\b\b\b\b  OK \n",
            "Extracting  /content/dataset_2/train/noncaries/caries-189-_png_tooth_0_png.rf.c72fdf6e2360a622243d4ad0af763972.jpg     \b\b\b\b 45%\b\b\b\b\b  OK \n",
            "Extracting  /content/dataset_2/train/noncaries/caries-189-_png_tooth_1_png.rf.79b8a1c340b6b63edf3d96e09d8bfd11.jpg     \b\b\b\b 45%\b\b\b\b\b  OK \n",
            "Extracting  /content/dataset_2/train/noncaries/caries-19-_png_tooth_0_png.rf.8b268849c8d24fb58b7a47d667702d06.jpg     \b\b\b\b 46%\b\b\b\b\b  OK \n",
            "Extracting  /content/dataset_2/train/noncaries/caries-190-_png_tooth_1_png.rf.9a08b2a7b1f3458ead0e85a7adbc7765.jpg     \b\b\b\b 46%\b\b\b\b\b  OK \n",
            "Extracting  /content/dataset_2/train/noncaries/caries-191-_png_tooth_2_png.rf.ff5f68dd9f7292d794f05389f09379e0.jpg     \b\b\b\b 46%\b\b\b\b\b  OK \n",
            "Extracting  /content/dataset_2/train/noncaries/caries-192-_png_tooth_1_png.rf.2624f69d36f6466899d555156ff26cbd.jpg     \b\b\b\b 46%\b\b\b\b\b  OK \n",
            "Extracting  /content/dataset_2/train/noncaries/caries-193-_png_tooth_1_png.rf.81fb1a2984136aaa86dc80ecfa1975e0.jpg     \b\b\b\b 46%\b\b\b\b\b  OK \n",
            "Extracting  /content/dataset_2/train/noncaries/caries-193-_png_tooth_2_png.rf.224ef408270e15427d248c6e0ec458c5.jpg     \b\b\b\b 46%\b\b\b\b\b  OK \n",
            "Extracting  /content/dataset_2/train/noncaries/caries-199-_png_tooth_0_png.rf.5cc9bff37e0960ad7cb18989a777d54b.jpg     \b\b\b\b 46%\b\b\b\b\b  OK \n",
            "Extracting  /content/dataset_2/train/noncaries/caries-2-_png_tooth_2_png.rf.ba6e387f198923778c0eb5cd4fc2ba1c.jpg     \b\b\b\b 46%\b\b\b\b\b  OK \n",
            "Extracting  /content/dataset_2/train/noncaries/caries-20-_png_tooth_0_png.rf.f398d1793db86256de0c5e76c14a869a.jpg     \b\b\b\b 46%\b\b\b\b\b  OK \n",
            "Extracting  /content/dataset_2/train/noncaries/caries-20-_png_tooth_1_png.rf.70099cc87815a6d32760d7d333069b8e.jpg     \b\b\b\b 46%\b\b\b\b\b  OK \n",
            "Extracting  /content/dataset_2/train/noncaries/caries-202-_png_tooth_0_png.rf.2d9c052cb732f2558f458cef641e639e.jpg     \b\b\b\b 46%\b\b\b\b\b  OK \n",
            "Extracting  /content/dataset_2/train/noncaries/caries-203-_png_tooth_0_png.rf.e9407a6c91574955c3522802c154b486.jpg     \b\b\b\b 46%\b\b\b\b\b  OK \n",
            "Extracting  /content/dataset_2/train/noncaries/caries-203-_png_tooth_1_png.rf.c8640d827a7b12c64c4d4004caf6bd67.jpg     \b\b\b\b 46%\b\b\b\b\b  OK \n",
            "Extracting  /content/dataset_2/train/noncaries/caries-205-_png_tooth_0_png.rf.83fb0f784dc318fd46e9e85c13d30486.jpg     \b\b\b\b 46%\b\b\b\b\b  OK \n",
            "Extracting  /content/dataset_2/train/noncaries/caries-206-_png_tooth_1_png.rf.6f21ef6eaf7e1d50a58796e0af946d97.jpg     \b\b\b\b 46%\b\b\b\b\b  OK \n",
            "Extracting  /content/dataset_2/train/noncaries/caries-208-_png_tooth_1_png.rf.8725e5f77eada198a215c00456ff6b0c.jpg     \b\b\b\b 46%\b\b\b\b\b  OK \n",
            "Extracting  /content/dataset_2/train/noncaries/caries-208-_png_tooth_2_png.rf.2a55b14dbe2286fa4f194d0daf372827.jpg     \b\b\b\b 46%\b\b\b\b\b  OK \n",
            "Extracting  /content/dataset_2/train/noncaries/caries-209-_png_tooth_0_png.rf.94965ebebbe313dd9d3d77f1cf35ac0e.jpg     \b\b\b\b 46%\b\b\b\b\b  OK \n",
            "Extracting  /content/dataset_2/train/noncaries/caries-21-_png_tooth_0_png.rf.130a546a6f932ac8ae8112ceb40901ca.jpg     \b\b\b\b 46%\b\b\b\b\b  OK \n",
            "Extracting  /content/dataset_2/train/noncaries/caries-210-_png_tooth_0_png.rf.ef138ce7b784c249f77a9bd85a0d68a2.jpg     \b\b\b\b 46%\b\b\b\b\b  OK \n",
            "Extracting  /content/dataset_2/train/noncaries/caries-211-_png_tooth_0_png.rf.cfd4dc64e686e69b569266d6d7533084.jpg     \b\b\b\b 46%\b\b\b\b\b  OK \n",
            "Extracting  /content/dataset_2/train/noncaries/caries-212-_png_tooth_1_png.rf.27d64fea02ae7469b84c6f36314f2782.jpg     \b\b\b\b 46%\b\b\b\b\b  OK \n",
            "Extracting  /content/dataset_2/train/noncaries/caries-213-_png_tooth_1_png.rf.c31ff03b7106aa0664dcd6aefbdc9145.jpg     \b\b\b\b 47%\b\b\b\b\b  OK \n",
            "Extracting  /content/dataset_2/train/noncaries/caries-214-_png_tooth_0_png.rf.931c297305e948cda0e757ac287987c5.jpg     \b\b\b\b 47%\b\b\b\b\b  OK \n",
            "Extracting  /content/dataset_2/train/noncaries/caries-214-_png_tooth_1_png.rf.607abbb43fc38e6582bf7bce183bcb42.jpg     \b\b\b\b 47%\b\b\b\b\b  OK \n",
            "Extracting  /content/dataset_2/train/noncaries/caries-215-_png_tooth_1_png.rf.dba27917a22f80615b54ef9b5728f2dd.jpg     \b\b\b\b 47%\b\b\b\b\b  OK \n",
            "Extracting  /content/dataset_2/train/noncaries/caries-216-_png_tooth_1_png.rf.c18673aa398ebfce31d4f09abf793e01.jpg     \b\b\b\b 47%\b\b\b\b\b  OK \n",
            "Extracting  /content/dataset_2/train/noncaries/caries-217-_png_tooth_1_png.rf.f578891a63bc06ed774d0a774886be0d.jpg     \b\b\b\b 47%\b\b\b\b\b  OK \n",
            "Extracting  /content/dataset_2/train/noncaries/caries-218-_png_tooth_2_png.rf.e7587e0e7bc0e84ae4e8fe1d2c3865d3.jpg     \b\b\b\b 47%\b\b\b\b\b  OK \n",
            "Extracting  /content/dataset_2/train/noncaries/caries-22-_png_tooth_0_png.rf.a3ae6e132a68f8f446f9497feafc966c.jpg     \b\b\b\b 47%\b\b\b\b\b  OK \n",
            "Extracting  /content/dataset_2/train/noncaries/caries-220-_png_tooth_3_png.rf.b3675f4cc87fdd688c65ec1bdf8cb773.jpg     \b\b\b\b 47%\b\b\b\b\b  OK \n",
            "Extracting  /content/dataset_2/train/noncaries/caries-223-_png_tooth_0_png.rf.d32a914bbaa087038ff75e046fd8cc17.jpg     \b\b\b\b 47%\b\b\b\b\b  OK \n",
            "Extracting  /content/dataset_2/train/noncaries/caries-223-_png_tooth_1_png.rf.246501a85980aa8940b9ed64713d6f66.jpg     \b\b\b\b 47%\b\b\b\b\b  OK \n",
            "Extracting  /content/dataset_2/train/noncaries/caries-224-_png_tooth_0_png.rf.4df33663a4069eb1157b2045e61ddc80.jpg     \b\b\b\b 47%\b\b\b\b\b  OK \n",
            "Extracting  /content/dataset_2/train/noncaries/caries-224-_png_tooth_2_png.rf.d522a950f55cc927b8ee706274224790.jpg     \b\b\b\b 47%\b\b\b\b\b  OK \n",
            "Extracting  /content/dataset_2/train/noncaries/caries-225-_png_tooth_1_png.rf.b800d6be52f8728d45a526ba73d5819a.jpg     \b\b\b\b 47%\b\b\b\b\b  OK \n",
            "Extracting  /content/dataset_2/train/noncaries/caries-225-_png_tooth_2_png.rf.f1a4ffbc942b697607cfb3211fa10a05.jpg     \b\b\b\b 47%\b\b\b\b\b  OK \n",
            "Extracting  /content/dataset_2/train/noncaries/caries-226-_png_tooth_0_png.rf.6107b40caadc4cbc1b6bed25908d15ad.jpg     \b\b\b\b 47%\b\b\b\b\b  OK \n",
            "Extracting  /content/dataset_2/train/noncaries/caries-226-_png_tooth_1_png.rf.05b809456b0d18cedd1b2bc6b827b708.jpg     \b\b\b\b 47%\b\b\b\b\b  OK \n",
            "Extracting  /content/dataset_2/train/noncaries/caries-227-_png_tooth_1_png.rf.315eda14f1cab18aad91c5cfff237c1f.jpg     \b\b\b\b 47%\b\b\b\b\b  OK \n",
            "Extracting  /content/dataset_2/train/noncaries/caries-227-_png_tooth_2_png.rf.9efa68c12e29e35146db16e51a663b77.jpg     \b\b\b\b 47%\b\b\b\b\b  OK \n",
            "Extracting  /content/dataset_2/train/noncaries/caries-228-_png_tooth_0_png.rf.721a578e2e58971419951772fee8f55b.jpg     \b\b\b\b 47%\b\b\b\b\b  OK \n",
            "Extracting  /content/dataset_2/train/noncaries/caries-228-_png_tooth_1_png.rf.6e4d53b093d6f869be4dbf9d7871316c.jpg     \b\b\b\b 47%\b\b\b\b\b  OK \n",
            "Extracting  /content/dataset_2/train/noncaries/caries-229-_png_tooth_0_png.rf.aea3b722eea769e098fbae7f9f8c20f8.jpg     \b\b\b\b 47%\b\b\b\b\b  OK \n",
            "Extracting  /content/dataset_2/train/noncaries/caries-229-_png_tooth_1_png.rf.819ff7ad0b793c6b5de0ffcf97fd27f5.jpg     \b\b\b\b 47%\b\b\b\b\b  OK \n",
            "Extracting  /content/dataset_2/train/noncaries/caries-230-_png_tooth_0_png.rf.e3116a07314fc60fb1aa64f5d163029a.jpg     \b\b\b\b 47%\b\b\b\b\b  OK \n",
            "Extracting  /content/dataset_2/train/noncaries/caries-230-_png_tooth_1_png.rf.934888945d06994e3d55e1d046feb8fc.jpg     \b\b\b\b 47%\b\b\b\b\b  OK \n",
            "Extracting  /content/dataset_2/train/noncaries/caries-231-_png_tooth_0_png.rf.f9662ca77781d18cd3ec739719867621.jpg     \b\b\b\b 47%\b\b\b\b\b  OK \n",
            "Extracting  /content/dataset_2/train/noncaries/caries-231-_png_tooth_1_png.rf.9e4f835971bc1d86121e95e35b34f7dd.jpg     \b\b\b\b 48%\b\b\b\b\b  OK \n",
            "Extracting  /content/dataset_2/train/noncaries/caries-232-_png_tooth_3_png.rf.9c3ceeea83ed3de024fa1d769e088035.jpg     \b\b\b\b 48%\b\b\b\b\b  OK \n",
            "Extracting  /content/dataset_2/train/noncaries/caries-233-_png_tooth_0_png.rf.9e3787a1c1d0b947781289533609d330.jpg     \b\b\b\b 48%\b\b\b\b\b  OK \n",
            "Extracting  /content/dataset_2/train/noncaries/caries-234-_png_tooth_0_png.rf.01339205b54df3d38003083a664967f1.jpg     \b\b\b\b 48%\b\b\b\b\b  OK \n",
            "Extracting  /content/dataset_2/train/noncaries/caries-234-_png_tooth_1_png.rf.63378dd8e058b26e7634b476d2bf1e6e.jpg     \b\b\b\b 48%\b\b\b\b\b  OK \n",
            "Extracting  /content/dataset_2/train/noncaries/caries-236-_png_tooth_0_png.rf.01ec521ad2542771391f2859c6eb8729.jpg     \b\b\b\b 48%\b\b\b\b\b  OK \n",
            "Extracting  /content/dataset_2/train/noncaries/caries-236-_png_tooth_1_png.rf.1ce69fe65aaddbafef96140c55740bec.jpg     \b\b\b\b 48%\b\b\b\b\b  OK \n",
            "Extracting  /content/dataset_2/train/noncaries/caries-239-_png_tooth_0_png.rf.d2d97ea176acb9cef0fd23b2ed1f661c.jpg     \b\b\b\b 48%\b\b\b\b\b  OK \n",
            "Extracting  /content/dataset_2/train/noncaries/caries-239-_png_tooth_2_png.rf.e5b0021bad02bd7748fa9c50cd357d12.jpg     \b\b\b\b 48%\b\b\b\b\b  OK \n",
            "Extracting  /content/dataset_2/train/noncaries/caries-240-_png_tooth_1_png.rf.73ba87187fe85aa67155c41404869539.jpg     \b\b\b\b 48%\b\b\b\b\b  OK \n",
            "Extracting  /content/dataset_2/train/noncaries/caries-245-_png_tooth_1_png.rf.f5d4e6949f5d5b9956a4ece856164bd4.jpg     \b\b\b\b 48%\b\b\b\b\b  OK \n",
            "Extracting  /content/dataset_2/train/noncaries/caries-246-_png_tooth_0_png.rf.de75bfe7e0e6e5b5204b21f9a19b9481.jpg     \b\b\b\b 48%\b\b\b\b\b  OK \n",
            "Extracting  /content/dataset_2/train/noncaries/caries-248-_png_tooth_0_png.rf.6f4792a51bf5a591b93f68364e77d1fe.jpg     \b\b\b\b 48%\b\b\b\b\b  OK \n",
            "Extracting  /content/dataset_2/train/noncaries/caries-249-_png_tooth_0_png.rf.9207fd23063e4034ea5d5c5d64a8c7be.jpg     \b\b\b\b 48%\b\b\b\b\b  OK \n",
            "Extracting  /content/dataset_2/train/noncaries/caries-249-_png_tooth_1_png.rf.177cef066a919219793c86fc8263ccf5.jpg     \b\b\b\b 48%\b\b\b\b\b  OK \n",
            "Extracting  /content/dataset_2/train/noncaries/caries-250-_png_tooth_2_png.rf.e941cac8e0766f53413d0fb6de5302c3.jpg     \b\b\b\b 48%\b\b\b\b\b  OK \n",
            "Extracting  /content/dataset_2/train/noncaries/caries-251-_png_tooth_0_png.rf.97dc49f8386677dbd5ad31e49cdf27ff.jpg     \b\b\b\b 48%\b\b\b\b\b  OK \n",
            "Extracting  /content/dataset_2/train/noncaries/caries-251-_png_tooth_2_png.rf.d48461c06b068d618ea292a25fd3a093.jpg     \b\b\b\b 48%\b\b\b\b\b  OK \n",
            "Extracting  /content/dataset_2/train/noncaries/caries-252-_png_tooth_0_png.rf.73b403b4bde0b9e90f04db24c8af3ac8.jpg     \b\b\b\b 48%\b\b\b\b\b  OK \n",
            "Extracting  /content/dataset_2/train/noncaries/caries-252-_png_tooth_1_png.rf.8e0664baa33b06f74cf8308a06f6c43a.jpg     \b\b\b\b 48%\b\b\b\b\b  OK \n",
            "Extracting  /content/dataset_2/train/noncaries/caries-252-_png_tooth_2_png.rf.c792b4677ac6caba15110a92424acaba.jpg     \b\b\b\b 48%\b\b\b\b\b  OK \n",
            "Extracting  /content/dataset_2/train/noncaries/caries-253-_png_tooth_0_png.rf.8eece65a4b83931f35206219da5a0ff1.jpg     \b\b\b\b 48%\b\b\b\b\b  OK \n",
            "Extracting  /content/dataset_2/train/noncaries/caries-253-_png_tooth_1_png.rf.bfd926f8805047ad7c63ef88499acf2c.jpg     \b\b\b\b 48%\b\b\b\b\b  OK \n",
            "Extracting  /content/dataset_2/train/noncaries/caries-254-_png_tooth_0_png.rf.884ad65fff3106f8476c1d0b4403e679.jpg     \b\b\b\b 48%\b\b\b\b\b  OK \n",
            "Extracting  /content/dataset_2/train/noncaries/caries-255-_png_tooth_1_png.rf.aa4cf2c2aabf99ccc978ec9e5096eab7.jpg     \b\b\b\b 49%\b\b\b\b\b  OK \n",
            "Extracting  /content/dataset_2/train/noncaries/caries-255-_png_tooth_2_png.rf.55af851fc342935766ab0cd373e17929.jpg     \b\b\b\b 49%\b\b\b\b\b  OK \n",
            "Extracting  /content/dataset_2/train/noncaries/caries-256-_png_tooth_0_png.rf.d3bec3951369c5f91175b4b72657b569.jpg     \b\b\b\b 49%\b\b\b\b\b  OK \n",
            "Extracting  /content/dataset_2/train/noncaries/caries-256-_png_tooth_1_png.rf.e7c26ee477168fef379cc49750c9090a.jpg     \b\b\b\b 49%\b\b\b\b\b  OK \n",
            "Extracting  /content/dataset_2/train/noncaries/caries-256-_png_tooth_2_png.rf.1df62a91815d97c701f5df358084c376.jpg     \b\b\b\b 49%\b\b\b\b\b  OK \n",
            "Extracting  /content/dataset_2/train/noncaries/caries-257-_png_tooth_0_png.rf.3829bfb376e6029309cc20c8a295730a.jpg     \b\b\b\b 49%\b\b\b\b\b  OK \n",
            "Extracting  /content/dataset_2/train/noncaries/caries-257-_png_tooth_1_png.rf.01dd0deede538d2993d9d64b883abe28.jpg     \b\b\b\b 49%\b\b\b\b\b  OK \n",
            "Extracting  /content/dataset_2/train/noncaries/caries-257-_png_tooth_2_png.rf.40ddda20075bb7f068e93615cab5d49b.jpg     \b\b\b\b 49%\b\b\b\b\b  OK \n",
            "Extracting  /content/dataset_2/train/noncaries/caries-258-_png_tooth_0_png.rf.876291144b2aedd7dd8f64b6ddccbd62.jpg     \b\b\b\b 49%\b\b\b\b\b  OK \n",
            "Extracting  /content/dataset_2/train/noncaries/caries-258-_png_tooth_1_png.rf.0f8949f1826dc9841bf27922db6e95a6.jpg     \b\b\b\b 49%\b\b\b\b\b  OK \n",
            "Extracting  /content/dataset_2/train/noncaries/caries-258-_png_tooth_2_png.rf.9bbfdaf657b52f605a619dc3a906eb8c.jpg     \b\b\b\b 49%\b\b\b\b\b  OK \n",
            "Extracting  /content/dataset_2/train/noncaries/caries-259-_png_tooth_1_png.rf.b535eb8910d1feaa0ba9b4b942191c2f.jpg     \b\b\b\b 49%\b\b\b\b\b  OK \n",
            "Extracting  /content/dataset_2/train/noncaries/caries-259-_png_tooth_2_png.rf.bd540190151dc377bcb4873d62701510.jpg     \b\b\b\b 49%\b\b\b\b\b  OK \n",
            "Extracting  /content/dataset_2/train/noncaries/caries-260-_png_tooth_1_png.rf.627e4a4d7a58d23cdaa7d9ef9bb39a1f.jpg     \b\b\b\b 49%\b\b\b\b\b  OK \n",
            "Extracting  /content/dataset_2/train/noncaries/caries-260-_png_tooth_2_png.rf.67f424b8fdeaa319bf11cc5c85d30528.jpg     \b\b\b\b 49%\b\b\b\b\b  OK \n",
            "Extracting  /content/dataset_2/train/noncaries/caries-261-_png_tooth_0_png.rf.26a5fb2af386adaa4afe208f02341c55.jpg     \b\b\b\b 49%\b\b\b\b\b  OK \n",
            "Extracting  /content/dataset_2/train/noncaries/caries-261-_png_tooth_1_png.rf.fac64820e317f85b9b5b2864685642d5.jpg     \b\b\b\b 49%\b\b\b\b\b  OK \n",
            "Extracting  /content/dataset_2/train/noncaries/caries-262-_png_tooth_0_png.rf.b3371cdb293d91c0eeea537346a2885e.jpg     \b\b\b\b 49%\b\b\b\b\b  OK \n",
            "Extracting  /content/dataset_2/train/noncaries/caries-268-_png_tooth_2_png.rf.a6ca0d6ebaf1a51d4f744b15c6e7832f.jpg     \b\b\b\b 49%\b\b\b\b\b  OK \n",
            "Extracting  /content/dataset_2/train/noncaries/caries-269-_png_tooth_0_png.rf.ad2ccd0e63f255594e6a5471ca4cd23c.jpg     \b\b\b\b 49%\b\b\b\b\b  OK \n",
            "Extracting  /content/dataset_2/train/noncaries/caries-270-_png_tooth_0_png.rf.0ecaa42572ffc0d13f17929965f330d2.jpg     \b\b\b\b 49%\b\b\b\b\b  OK \n",
            "Extracting  /content/dataset_2/train/noncaries/caries-270-_png_tooth_1_png.rf.26de4e8a651f8846ecf8a3562fb738a3.jpg     \b\b\b\b 49%\b\b\b\b\b  OK \n",
            "Extracting  /content/dataset_2/train/noncaries/caries-271-_png_tooth_0_png.rf.7ad16870df0db1b0413656f13305fa15.jpg     \b\b\b\b 49%\b\b\b\b\b  OK \n",
            "Extracting  /content/dataset_2/train/noncaries/caries-271-_png_tooth_1_png.rf.a7d2665829b8e5a5c6a4efd799d0b4f5.jpg     \b\b\b\b 49%\b\b\b\b\b  OK \n",
            "Extracting  /content/dataset_2/train/noncaries/caries-272-_png_tooth_0_png.rf.55df1b1831180a9b7b395e3b49fd916d.jpg     \b\b\b\b 49%\b\b\b\b\b  OK \n",
            "Extracting  /content/dataset_2/train/noncaries/caries-272-_png_tooth_2_png.rf.73f95dd4431f23b2525ac69590efe4e4.jpg     \b\b\b\b 50%\b\b\b\b\b  OK \n",
            "Extracting  /content/dataset_2/train/noncaries/caries-274-_png_tooth_0_png.rf.2df22bd29c85967927fa3bf24e38a7ed.jpg     \b\b\b\b 50%\b\b\b\b\b  OK \n",
            "Extracting  /content/dataset_2/train/noncaries/caries-274-_png_tooth_1_png.rf.31b933be03887c8615a634dc44d4ca1c.jpg     \b\b\b\b 50%\b\b\b\b\b  OK \n",
            "Extracting  /content/dataset_2/train/noncaries/caries-275-_png_tooth_1_png.rf.7d0a3d4220383019f9f684c712f91fda.jpg     \b\b\b\b 50%\b\b\b\b\b  OK \n",
            "Extracting  /content/dataset_2/train/noncaries/caries-275-_png_tooth_3_png.rf.9c6fd4d4cbec67d3e4576d48c24b1f05.jpg     \b\b\b\b 50%\b\b\b\b\b  OK \n",
            "Extracting  /content/dataset_2/train/noncaries/caries-277-_png_tooth_0_png.rf.4c4152a84c1a5b142d4d3f66b62951de.jpg     \b\b\b\b 50%\b\b\b\b\b  OK \n",
            "Extracting  /content/dataset_2/train/noncaries/caries-277-_png_tooth_2_png.rf.3e9b694304cf192df3496986bad86f76.jpg     \b\b\b\b 50%\b\b\b\b\b  OK \n",
            "Extracting  /content/dataset_2/train/noncaries/caries-287-_png_tooth_1_png.rf.780779b85ddfbdc7a832af663668e017.jpg     \b\b\b\b 50%\b\b\b\b\b  OK \n",
            "Extracting  /content/dataset_2/train/noncaries/caries-288-_png_tooth_1_png.rf.0df6c51c2bb4c75b0d3fb908a8ab5a37.jpg     \b\b\b\b 50%\b\b\b\b\b  OK \n",
            "Extracting  /content/dataset_2/train/noncaries/caries-288-_png_tooth_2_png.rf.13eca43db8bbd184f84fc8022904c06b.jpg     \b\b\b\b 50%\b\b\b\b\b  OK \n",
            "Extracting  /content/dataset_2/train/noncaries/caries-289-_png_tooth_1_png.rf.bb9642301f73b27e19df72d1e0232905.jpg     \b\b\b\b 50%\b\b\b\b\b  OK \n",
            "Extracting  /content/dataset_2/train/noncaries/caries-29-_png_tooth_0_png.rf.30ca99648ba588a558a041069762babd.jpg     \b\b\b\b 50%\b\b\b\b\b  OK \n",
            "Extracting  /content/dataset_2/train/noncaries/caries-30-_png_tooth_0_png.rf.21174df033e1d0515686b87e333e51a6.jpg     \b\b\b\b 50%\b\b\b\b\b  OK \n",
            "Extracting  /content/dataset_2/train/noncaries/caries-302-_png_tooth_0_png.rf.26de7d4fb70d434599f0e28adbc8961c.jpg     \b\b\b\b 50%\b\b\b\b\b  OK \n",
            "Extracting  /content/dataset_2/train/noncaries/caries-31-_png_tooth_1_png.rf.29a87162e68269b9ddd78742732c6a57.jpg     \b\b\b\b 50%\b\b\b\b\b  OK \n",
            "Extracting  /content/dataset_2/train/noncaries/caries-315-_png_tooth_0_png.rf.ea624fe668af35629b46c86c3be61cc8.jpg     \b\b\b\b 50%\b\b\b\b\b  OK \n",
            "Extracting  /content/dataset_2/train/noncaries/caries-316-_png_tooth_0_png.rf.72d01eb1fc8b674f7949dbd4c81a6034.jpg     \b\b\b\b 50%\b\b\b\b\b  OK \n",
            "Extracting  /content/dataset_2/train/noncaries/caries-32-_png_tooth_1_png.rf.b5255fd9d26aa04753d42f141c953c58.jpg     \b\b\b\b 50%\b\b\b\b\b  OK \n",
            "Extracting  /content/dataset_2/train/noncaries/caries-322-_png_tooth_0_png.rf.01148dc6e3858dda9b95b62f466886f2.jpg     \b\b\b\b 50%\b\b\b\b\b  OK \n",
            "Extracting  /content/dataset_2/train/noncaries/caries-323-_png_tooth_1_png.rf.abfec135c02da0fd11e4bd94a4252c18.jpg     \b\b\b\b 51%\b\b\b\b\b  OK \n",
            "Extracting  /content/dataset_2/train/noncaries/caries-330-_png_tooth_1_png.rf.9899a493b772fabad2a16625e6f47908.jpg     \b\b\b\b 51%\b\b\b\b\b  OK \n",
            "Extracting  /content/dataset_2/train/noncaries/caries-331-_png_tooth_0_png.rf.606dc8e94494e422539421a9a9779dda.jpg     \b\b\b\b 51%\b\b\b\b\b  OK \n",
            "Extracting  /content/dataset_2/train/noncaries/caries-34-_png_tooth_1_png.rf.b58a353ad11d8e93fca7cdb348431ea9.jpg     \b\b\b\b 51%\b\b\b\b\b  OK \n",
            "Extracting  /content/dataset_2/train/noncaries/caries-34-_png_tooth_2_png.rf.636b02affcf9310c20116ec9f2469494.jpg     \b\b\b\b 51%\b\b\b\b\b  OK \n",
            "Extracting  /content/dataset_2/train/noncaries/caries-349-_png_tooth_0_png.rf.60c264f710697af09e83924c8f3c300b.jpg     \b\b\b\b 51%\b\b\b\b\b  OK \n",
            "Extracting  /content/dataset_2/train/noncaries/caries-35-_png_tooth_1_png.rf.9fef77246b5ae0d8efc66ec4f618341a.jpg     \b\b\b\b 51%\b\b\b\b\b  OK \n",
            "Extracting  /content/dataset_2/train/noncaries/caries-350-_png_tooth_0_png.rf.3e833ed606a882708ac22eac34ef1e80.jpg     \b\b\b\b 51%\b\b\b\b\b  OK \n",
            "Extracting  /content/dataset_2/train/noncaries/caries-356-_png_tooth_0_png.rf.4cfcff51d9cc77ad3d791f9b6195c5ab.jpg     \b\b\b\b 51%\b\b\b\b\b  OK \n",
            "Extracting  /content/dataset_2/train/noncaries/caries-357-_png_tooth_0_png.rf.17e65b5427cbd7afe76c20274654638d.jpg     \b\b\b\b 51%\b\b\b\b\b  OK \n",
            "Extracting  /content/dataset_2/train/noncaries/caries-359-_png_tooth_0_png.rf.84d1a29479e84cd172c9f7373016c22b.jpg     \b\b\b\b 51%\b\b\b\b\b  OK \n",
            "Extracting  /content/dataset_2/train/noncaries/caries-36-_png_tooth_0_png.rf.91e4968a6eb9c2558ab2f07ce3e0df59.jpg     \b\b\b\b 51%\b\b\b\b\b  OK \n",
            "Extracting  /content/dataset_2/train/noncaries/caries-360-_png_tooth_0_png.rf.8fbdd9510d043cc3f446d5bd38befcad.jpg     \b\b\b\b 51%\b\b\b\b\b  OK \n",
            "Extracting  /content/dataset_2/train/noncaries/caries-365-_png_tooth_0_png.rf.2636cfe2db383e98eafe3701c302e9d2.jpg     \b\b\b\b 52%\b\b\b\b\b  OK \n",
            "Extracting  /content/dataset_2/train/noncaries/caries-366-_png_tooth_0_png.rf.1a18da076e77207402b14f4984108933.jpg     \b\b\b\b 52%\b\b\b\b\b  OK \n",
            "Extracting  /content/dataset_2/train/noncaries/caries-37-_png_tooth_1_png.rf.9ec6ae28d7a19350f059f0ddf897cf25.jpg     \b\b\b\b 52%\b\b\b\b\b  OK \n",
            "Extracting  /content/dataset_2/train/noncaries/caries-38-_png_tooth_0_png.rf.3aafe94f10a5dea1d2232b3b4c2243a0.jpg     \b\b\b\b 52%\b\b\b\b\b  OK \n",
            "Extracting  /content/dataset_2/train/noncaries/caries-382-_png_tooth_0_png.rf.ed34a524893df41adf924dc55769c275.jpg     \b\b\b\b 52%\b\b\b\b\b  OK \n",
            "Extracting  /content/dataset_2/train/noncaries/caries-383-_png_tooth_1_png.rf.0c5ebd219e16c06cb5c101af51e06cdb.jpg     \b\b\b\b 52%\b\b\b\b\b  OK \n",
            "Extracting  /content/dataset_2/train/noncaries/caries-39-_png_tooth_1_png.rf.b1fda3810e525c91489b094ca0b51466.jpg     \b\b\b\b 52%\b\b\b\b\b  OK \n",
            "Extracting  /content/dataset_2/train/noncaries/caries-4-_png_tooth_2_png.rf.29c6b93887fb3dc4aa89681879dfb469.jpg     \b\b\b\b 52%\b\b\b\b\b  OK \n",
            "Extracting  /content/dataset_2/train/noncaries/caries-40-_png_tooth_1_png.rf.2f62901fc7ca14dcc054f2dbe2ec561f.jpg     \b\b\b\b 52%\b\b\b\b\b  OK \n",
            "Extracting  /content/dataset_2/train/noncaries/caries-401-_png_tooth_0_png.rf.90540b6a4f9972ad44142b953cfbd19e.jpg     \b\b\b\b 52%\b\b\b\b\b  OK \n",
            "Extracting  /content/dataset_2/train/noncaries/caries-403-_png_tooth_0_png.rf.658ec7b05c3e9e0aa36ad1b963e5cda7.jpg     \b\b\b\b 52%\b\b\b\b\b  OK \n",
            "Extracting  /content/dataset_2/train/noncaries/caries-41-_png_tooth_0_png.rf.ea7e6687b500ed63dae9eeaf438920a3.jpg     \b\b\b\b 52%\b\b\b\b\b  OK \n",
            "Extracting  /content/dataset_2/train/noncaries/caries-42-_png_tooth_0_png.rf.e013e6c9d9a8e7c857cbcaaa8712eb89.jpg     \b\b\b\b 52%\b\b\b\b\b  OK \n",
            "Extracting  /content/dataset_2/train/noncaries/caries-421-_png_tooth_0_png.rf.82450e8be887bc24e6ca8ee71b45d41f.jpg     \b\b\b\b 52%\b\b\b\b\b  OK \n",
            "Extracting  /content/dataset_2/train/noncaries/caries-424-_png_tooth_0_png.rf.072fb7969c267c39dbdb929349864c48.jpg     \b\b\b\b 53%\b\b\b\b\b  OK \n",
            "Extracting  /content/dataset_2/train/noncaries/caries-425-_png_tooth_0_png.rf.789660a9f24ca65a3a2067ab06ae2b33.jpg     \b\b\b\b 53%\b\b\b\b\b  OK \n",
            "Extracting  /content/dataset_2/train/noncaries/caries-43-_png_tooth_0_png.rf.9bf2efde49397ac3500412a0e9eefec3.jpg     \b\b\b\b 53%\b\b\b\b\b  OK \n",
            "Extracting  /content/dataset_2/train/noncaries/caries-430-_png_tooth_0_png.rf.0dfb4626b4d5bd821300610facf0740d.jpg     \b\b\b\b 53%\b\b\b\b\b  OK \n",
            "Extracting  /content/dataset_2/train/noncaries/caries-435-_png_tooth_0_png.rf.efe34ce1443c59b46ca45ba4dbfb4bac.jpg     \b\b\b\b 53%\b\b\b\b\b  OK \n",
            "Extracting  /content/dataset_2/train/noncaries/caries-439-_png_tooth_0_png.rf.b7986439a3c39f50f0925eda5fd0a847.jpg     \b\b\b\b 53%\b\b\b\b\b  OK \n",
            "Extracting  /content/dataset_2/train/noncaries/caries-445-_png_tooth_1_png.rf.bd17afccdbc0e44d0adbe6373f5100d9.jpg     \b\b\b\b 53%\b\b\b\b\b  OK \n",
            "Extracting  /content/dataset_2/train/noncaries/caries-446-_png_tooth_0_png.rf.59df8dd8e0cee4e547c673a87ee7c3c3.jpg     \b\b\b\b 53%\b\b\b\b\b  OK \n",
            "Extracting  /content/dataset_2/train/noncaries/caries-446-_png_tooth_1_png.rf.0614fce29efebbe3c0b42e470cb69527.jpg     \b\b\b\b 53%\b\b\b\b\b  OK \n",
            "Extracting  /content/dataset_2/train/noncaries/caries-447-_png_tooth_0_png.rf.e1c48b01e68b4ec19586d2cbba83dcf6.jpg     \b\b\b\b 53%\b\b\b\b\b  OK \n",
            "Extracting  /content/dataset_2/train/noncaries/caries-449-_png_tooth_0_png.rf.b7d2ac9d90d708cc94a7ea3023bd0da5.jpg     \b\b\b\b 53%\b\b\b\b\b  OK \n",
            "Extracting  /content/dataset_2/train/noncaries/caries-45-_png_tooth_2_png.rf.71f91d2fbf721c2d0f28bac88a3c8cef.jpg     \b\b\b\b 53%\b\b\b\b\b  OK \n",
            "Extracting  /content/dataset_2/train/noncaries/caries-452-_png_tooth_0_png.rf.13db6adf9cf3acd2d2062d4212051be9.jpg     \b\b\b\b 54%\b\b\b\b\b  OK \n",
            "Extracting  /content/dataset_2/train/noncaries/caries-454-_png_tooth_0_png.rf.0664af2cbabef546520debd5eb9acae3.jpg     \b\b\b\b 54%\b\b\b\b\b  OK \n",
            "Extracting  /content/dataset_2/train/noncaries/caries-458-_png_tooth_0_png.rf.3abd78f677b7c146ec1cf54684740b70.jpg     \b\b\b\b 54%\b\b\b\b\b  OK \n",
            "Extracting  /content/dataset_2/train/noncaries/caries-48-_png_tooth_0_png.rf.a776e1c8ae0e2ae710d506733b3aa1e8.jpg     \b\b\b\b 54%\b\b\b\b\b  OK \n",
            "Extracting  /content/dataset_2/train/noncaries/caries-489-_png_tooth_0_png.rf.fd17c988709112b8f2fb584d7266efe8.jpg     \b\b\b\b 54%\b\b\b\b\b  OK \n",
            "Extracting  /content/dataset_2/train/noncaries/caries-490-_png_tooth_0_png.rf.0665fe79aaff5e3e1ef67d77c0826aba.jpg     \b\b\b\b 54%\b\b\b\b\b  OK \n",
            "Extracting  /content/dataset_2/train/noncaries/caries-492-_png_tooth_0_png.rf.31d17cca44a014158173afb4b91bdb92.jpg     \b\b\b\b 54%\b\b\b\b\b  OK \n",
            "Extracting  /content/dataset_2/train/noncaries/caries-493-_png_tooth_0_png.rf.92612135c732c82cd465b7b31618df5a.jpg     \b\b\b\b 54%\b\b\b\b\b  OK \n",
            "Extracting  /content/dataset_2/train/noncaries/caries-497-_png_tooth_0_png.rf.fc7f9be049918ba1ebc2b46a36c72657.jpg     \b\b\b\b 54%\b\b\b\b\b  OK \n",
            "Extracting  /content/dataset_2/train/noncaries/caries-498-_png_tooth_0_png.rf.3e8db66717de42f1177fc3f91f30e5ef.jpg     \b\b\b\b 54%\b\b\b\b\b  OK \n",
            "Extracting  /content/dataset_2/train/noncaries/caries-5-_png_tooth_1_png.rf.c6f2917e8a535d3c7d423d4ac37cc75a.jpg     \b\b\b\b 54%\b\b\b\b\b  OK \n",
            "Extracting  /content/dataset_2/train/noncaries/caries-500-_png_tooth_0_png.rf.25557ba62d27873cfc4feb76ba9a2e01.jpg     \b\b\b\b 54%\b\b\b\b\b  OK \n",
            "Extracting  /content/dataset_2/train/noncaries/caries-510-_png_tooth_0_png.rf.0e5728076fe8b11c2535a02d0721a4be.jpg     \b\b\b\b 55%\b\b\b\b\b  OK \n",
            "Extracting  /content/dataset_2/train/noncaries/caries-515-_png_tooth_0_png.rf.cafaaecb84f3cbdbfb1530f021ef48e5.jpg     \b\b\b\b 55%\b\b\b\b\b  OK \n",
            "Extracting  /content/dataset_2/train/noncaries/caries-52-_png_tooth_0_png.rf.4bddda5e1939337b45a9f78e6fa52fee.jpg     \b\b\b\b 55%\b\b\b\b\b  OK \n",
            "Extracting  /content/dataset_2/train/noncaries/caries-521-_png_tooth_0_png.rf.44580a2864b54a233dfde090211b22db.jpg     \b\b\b\b 55%\b\b\b\b\b  OK \n",
            "Extracting  /content/dataset_2/train/noncaries/caries-524-_png_tooth_0_png.rf.f5c9e2357030c5eaadbb78a59e804138.jpg     \b\b\b\b 55%\b\b\b\b\b  OK \n",
            "Extracting  /content/dataset_2/train/noncaries/caries-526-_png_tooth_0_png.rf.cac37b819cea87c98d2af682b3a3d132.jpg     \b\b\b\b 55%\b\b\b\b\b  OK \n",
            "Extracting  /content/dataset_2/train/noncaries/caries-527-_png_tooth_0_png.rf.7cbf5fd83e4853288c50c70603430622.jpg     \b\b\b\b 55%\b\b\b\b\b  OK \n",
            "Extracting  /content/dataset_2/train/noncaries/caries-535-_png_tooth_0_png.rf.688859e67fa7d6b0c1e284735ed0cce5.jpg     \b\b\b\b 55%\b\b\b\b\b  OK \n",
            "Extracting  /content/dataset_2/train/noncaries/caries-537-_png_tooth_0_png.rf.4296a9e215d1daeadf43cb6511c9d9cf.jpg     \b\b\b\b 55%\b\b\b\b\b  OK \n",
            "Extracting  /content/dataset_2/train/noncaries/caries-538-_png_tooth_1_png.rf.e9c37296c7aae9e62697ecf6790f5a75.jpg     \b\b\b\b 55%\b\b\b\b\b  OK \n",
            "Extracting  /content/dataset_2/train/noncaries/caries-540-_png_tooth_0_png.rf.989e576897d056b1b51993003ab786ab.jpg     \b\b\b\b 55%\b\b\b\b\b  OK \n",
            "Extracting  /content/dataset_2/train/noncaries/caries-544-_png_tooth_0_png.rf.3c6dc06d464f972e4b46bfd65aa1691d.jpg     \b\b\b\b 55%\b\b\b\b\b  OK \n",
            "Extracting  /content/dataset_2/train/noncaries/caries-550-_png_tooth_0_png.rf.c414835fd36593bd60b00ad18cd12a75.jpg     \b\b\b\b 56%\b\b\b\b\b  OK \n",
            "Extracting  /content/dataset_2/train/noncaries/caries-551-_png_tooth_0_png.rf.d802c0eb8a2a26eddb6b3bed097a31fe.jpg     \b\b\b\b 56%\b\b\b\b\b  OK \n",
            "Extracting  /content/dataset_2/train/noncaries/caries-552-_png_tooth_0_png.rf.c5cd02b22846fe683a2d3705e966a203.jpg     \b\b\b\b 56%\b\b\b\b\b  OK \n",
            "Extracting  /content/dataset_2/train/noncaries/caries-554-_png_tooth_0_png.rf.1b589222327f97ebb49f3fc5f381779d.jpg     \b\b\b\b 56%\b\b\b\b\b  OK \n",
            "Extracting  /content/dataset_2/train/noncaries/caries-555-_png_tooth_0_png.rf.20afffb851feb32d89ffae7b6bae7ce7.jpg     \b\b\b\b 56%\b\b\b\b\b  OK \n",
            "Extracting  /content/dataset_2/train/noncaries/caries-556-_png_tooth_0_png.rf.dbb4349666c967a34ab6da3a9ca53d95.jpg     \b\b\b\b 56%\b\b\b\b\b  OK \n",
            "Extracting  /content/dataset_2/train/noncaries/caries-557-_png_tooth_0_png.rf.81c0051247291123824f59c98440fbab.jpg     \b\b\b\b 56%\b\b\b\b\b  OK \n",
            "Extracting  /content/dataset_2/train/noncaries/caries-558-_png_tooth_0_png.rf.00f09439f3ac0766b0e59f379bacdf39.jpg     \b\b\b\b 56%\b\b\b\b\b  OK \n",
            "Extracting  /content/dataset_2/train/noncaries/caries-559-_png_tooth_0_png.rf.27e61059713dc89ba9e07f891b2ba594.jpg     \b\b\b\b 56%\b\b\b\b\b  OK \n",
            "Extracting  /content/dataset_2/train/noncaries/caries-560-_png_tooth_0_png.rf.26d2b1d2ecb1c0366d598eb107f60f8f.jpg     \b\b\b\b 56%\b\b\b\b\b  OK \n",
            "Extracting  /content/dataset_2/train/noncaries/caries-562-_png_tooth_0_png.rf.857a61d604e2f2a50431f7d168deac10.jpg     \b\b\b\b 57%\b\b\b\b\b  OK \n",
            "Extracting  /content/dataset_2/train/noncaries/caries-564-_png_tooth_0_png.rf.0a4a21a5968021149e65539bf2a33f34.jpg     \b\b\b\b 57%\b\b\b\b\b  OK \n",
            "Extracting  /content/dataset_2/train/noncaries/caries-566-_png_tooth_1_png.rf.401c61ad7562dcdabdc141da2ae07c80.jpg     \b\b\b\b 57%\b\b\b\b\b  OK \n",
            "Extracting  /content/dataset_2/train/noncaries/caries-567-_png_tooth_0_png.rf.3bfced6cfb19af6199c80368bdb81446.jpg     \b\b\b\b 57%\b\b\b\b\b  OK \n",
            "Extracting  /content/dataset_2/train/noncaries/caries-568-_png_tooth_0_png.rf.f397bf880967119a70383940994a3d9d.jpg     \b\b\b\b 57%\b\b\b\b\b  OK \n",
            "Extracting  /content/dataset_2/train/noncaries/caries-57-_png_tooth_0_png.rf.e245a8292c1d6a0a376bfc009438a394.jpg     \b\b\b\b 57%\b\b\b\b\b  OK \n",
            "Extracting  /content/dataset_2/train/noncaries/caries-57-_png_tooth_2_png.rf.7058bbbbf32cbffd0d2b590289663f9f.jpg     \b\b\b\b 57%\b\b\b\b\b  OK \n",
            "Extracting  /content/dataset_2/train/noncaries/caries-570-_png_tooth_0_png.rf.927fb5d2469256b93734a79fc172cd87.jpg     \b\b\b\b 57%\b\b\b\b\b  OK \n",
            "Extracting  /content/dataset_2/train/noncaries/caries-571-_png_tooth_0_png.rf.92163c90f9f149660841451bf5b09c85.jpg     \b\b\b\b 57%\b\b\b\b\b  OK \n",
            "Extracting  /content/dataset_2/train/noncaries/caries-572-_png_tooth_0_png.rf.43441af7cc8ade70c5edafdae11dc478.jpg     \b\b\b\b 57%\b\b\b\b\b  OK \n",
            "Extracting  /content/dataset_2/train/noncaries/caries-573-_png_tooth_0_png.rf.bd918abccbe7dc7fcd0d6a079d88bde4.jpg     \b\b\b\b 57%\b\b\b\b\b  OK \n",
            "Extracting  /content/dataset_2/train/noncaries/caries-573-_png_tooth_1_png.rf.2a240322280f18c70cc22bc0693e7595.jpg     \b\b\b\b 57%\b\b\b\b\b  OK \n",
            "Extracting  /content/dataset_2/train/noncaries/caries-579-_png_tooth_0_png.rf.d160f6274d1bccc0cbc2606714463395.jpg     \b\b\b\b 58%\b\b\b\b\b  OK \n",
            "Extracting  /content/dataset_2/train/noncaries/caries-58-_png_tooth_0_png.rf.feb8e189a30118c0b2e64248e3b8bd80.jpg     \b\b\b\b 58%\b\b\b\b\b  OK \n",
            "Extracting  /content/dataset_2/train/noncaries/caries-58-_png_tooth_2_png.rf.5d403acaecf65c598b261eb8d7faf7eb.jpg     \b\b\b\b 58%\b\b\b\b\b  OK \n",
            "Extracting  /content/dataset_2/train/noncaries/caries-581-_png_tooth_0_png.rf.b5b52232de218490cf731b0707d5260a.jpg     \b\b\b\b 58%\b\b\b\b\b  OK \n",
            "Extracting  /content/dataset_2/train/noncaries/caries-582-_png_tooth_1_png.rf.523537775a9a72dfab7430e6b218a802.jpg     \b\b\b\b 58%\b\b\b\b\b  OK \n",
            "Extracting  /content/dataset_2/train/noncaries/caries-583-_png_tooth_0_png.rf.858536e72d9ac6af26f1e01f6e76ca85.jpg     \b\b\b\b 58%\b\b\b\b\b  OK \n",
            "Extracting  /content/dataset_2/train/noncaries/caries-59-_png_tooth_0_png.rf.a77c85e9561117f1297fac4ae7b95856.jpg     \b\b\b\b 58%\b\b\b\b\b  OK \n",
            "Extracting  /content/dataset_2/train/noncaries/caries-59-_png_tooth_2_png.rf.d8f7a4509cf60676b18a3b5a61f3bc7b.jpg     \b\b\b\b 58%\b\b\b\b\b  OK \n",
            "Extracting  /content/dataset_2/train/noncaries/caries-594-_png_tooth_0_png.rf.ea198338123f4174931c7d1ea9963761.jpg     \b\b\b\b 58%\b\b\b\b\b  OK \n",
            "Extracting  /content/dataset_2/train/noncaries/caries-595-_png_tooth_0_png.rf.ef1b3bee917b0a5d178e841ed7877dd9.jpg     \b\b\b\b 58%\b\b\b\b\b  OK \n",
            "Extracting  /content/dataset_2/train/noncaries/caries-596-_png_tooth_0_png.rf.f823ad55c0d03d8e03dc3b74c8736048.jpg     \b\b\b\b 58%\b\b\b\b\b  OK \n",
            "Extracting  /content/dataset_2/train/noncaries/caries-597-_png_tooth_0_png.rf.4e41be2b83d365efa8ab2676277906cb.jpg     \b\b\b\b 58%\b\b\b\b\b  OK \n",
            "Extracting  /content/dataset_2/train/noncaries/caries-599-_png_tooth_0_png.rf.6ac97c6c8a13eb2ae80280088a570e27.jpg     \b\b\b\b 58%\b\b\b\b\b  OK \n",
            "Extracting  /content/dataset_2/train/noncaries/caries-60-_png_tooth_1_png.rf.a2e2c2cae7e943a8819af24d41d60505.jpg     \b\b\b\b 58%\b\b\b\b\b  OK \n",
            "Extracting  /content/dataset_2/train/noncaries/caries-61-_png_tooth_0_png.rf.ed32b08daeffae6097bd41c61a953a5f.jpg     \b\b\b\b 59%\b\b\b\b\b  OK \n",
            "Extracting  /content/dataset_2/train/noncaries/caries-617-_png_tooth_0_png.rf.b5e61293e8b1c7f61b6e5a507418727c.jpg     \b\b\b\b 59%\b\b\b\b\b  OK \n",
            "Extracting  /content/dataset_2/train/noncaries/caries-62-_png_tooth_0_png.rf.f5d6d0763af3ed3c396c8526ebcf0de1.jpg     \b\b\b\b 59%\b\b\b\b\b  OK \n",
            "Extracting  /content/dataset_2/train/noncaries/caries-620-_png_tooth_0_png.rf.228f06f2e2a7f34d723efbeaed937111.jpg     \b\b\b\b 59%\b\b\b\b\b  OK \n",
            "Extracting  /content/dataset_2/train/noncaries/caries-621-_png_tooth_0_png.rf.7fd5204ddc15904bab6e6d6f553a38a3.jpg     \b\b\b\b 59%\b\b\b\b\b  OK \n",
            "Extracting  /content/dataset_2/train/noncaries/caries-629-_png_tooth_0_png.rf.dd19b2fdd7f6d018f6de0c6a4ae57443.jpg     \b\b\b\b 59%\b\b\b\b\b  OK \n",
            "Extracting  /content/dataset_2/train/noncaries/caries-636-_png_tooth_0_png.rf.b1dcfda84c7f4f01327dcebb7e6e1d81.jpg     \b\b\b\b 59%\b\b\b\b\b  OK \n",
            "Extracting  /content/dataset_2/train/noncaries/caries-638-_png_tooth_0_png.rf.d76af48037888ec73c0b0ad7ebde4223.jpg     \b\b\b\b 59%\b\b\b\b\b  OK \n",
            "Extracting  /content/dataset_2/train/noncaries/caries-639-_png_tooth_0_png.rf.5a683af7110a860c44c70374e3727456.jpg     \b\b\b\b 59%\b\b\b\b\b  OK \n",
            "Extracting  /content/dataset_2/train/noncaries/caries-64-_png_tooth_0_png.rf.e28e684f3d3839cd946372a350a3eb2a.jpg     \b\b\b\b 59%\b\b\b\b\b  OK \n",
            "Extracting  /content/dataset_2/train/noncaries/caries-642-_png_tooth_0_png.rf.421d52310b5609cb7f51ae8032ab87c5.jpg     \b\b\b\b 59%\b\b\b\b\b  OK \n",
            "Extracting  /content/dataset_2/train/noncaries/caries-646-_png_tooth_0_png.rf.f1fb991790ebd2bdab015e811f6b47c2.jpg     \b\b\b\b 59%\b\b\b\b\b  OK \n",
            "Extracting  /content/dataset_2/train/noncaries/caries-647-_png_tooth_0_png.rf.375b2f9d29f1a0ea4725a9d4a9a87e32.jpg     \b\b\b\b 60%\b\b\b\b\b  OK \n",
            "Extracting  /content/dataset_2/train/noncaries/caries-649-_png_tooth_0_png.rf.a387b04a0b2f5bfafe5a8e72ec6c40fb.jpg     \b\b\b\b 60%\b\b\b\b\b  OK \n",
            "Extracting  /content/dataset_2/train/noncaries/caries-65-_png_tooth_0_png.rf.aa99ed0dacdad7772b968db6965a2a81.jpg     \b\b\b\b 60%\b\b\b\b\b  OK \n",
            "Extracting  /content/dataset_2/train/noncaries/caries-650-_png_tooth_1_png.rf.101605b414888b74337d4ec48ed0cf9e.jpg     \b\b\b\b 60%\b\b\b\b\b  OK \n",
            "Extracting  /content/dataset_2/train/noncaries/caries-651-_png_tooth_0_png.rf.048d69825709efbd5ffb900c4e9fac50.jpg     \b\b\b\b 60%\b\b\b\b\b  OK \n",
            "Extracting  /content/dataset_2/train/noncaries/caries-652-_png_tooth_1_png.rf.f98d9df2ea57206496899d1499822924.jpg     \b\b\b\b 60%\b\b\b\b\b  OK \n",
            "Extracting  /content/dataset_2/train/noncaries/caries-656-_png_tooth_0_png.rf.2ed33819d3bc1eb62a7092dfbf11d519.jpg     \b\b\b\b 60%\b\b\b\b\b  OK \n",
            "Extracting  /content/dataset_2/train/noncaries/caries-657-_png_tooth_0_png.rf.86909ac7f647a9ccee9b1d79f7378b8b.jpg     \b\b\b\b 60%\b\b\b\b\b  OK \n",
            "Extracting  /content/dataset_2/train/noncaries/caries-666-_png_tooth_0_png.rf.4ff9f90a4d2522b12fce00347b9473d8.jpg     \b\b\b\b 60%\b\b\b\b\b  OK \n",
            "Extracting  /content/dataset_2/train/noncaries/caries-667-_png_tooth_0_png.rf.4ed56919cb2f76e25e822ef69123466d.jpg     \b\b\b\b 60%\b\b\b\b\b  OK \n",
            "Extracting  /content/dataset_2/train/noncaries/caries-668-_png_tooth_0_png.rf.a39d5ca12f8f6996be1801568b8c8ca3.jpg     \b\b\b\b 60%\b\b\b\b\b  OK \n",
            "Extracting  /content/dataset_2/train/noncaries/caries-67-_png_tooth_0_png.rf.6bfcd67ea1ac0cd53a6f4c45ad08d31c.jpg     \b\b\b\b 61%\b\b\b\b\b  OK \n",
            "Extracting  /content/dataset_2/train/noncaries/caries-671-_png_tooth_0_png.rf.6a90c07c8a8a06e3eaca8f86eb54a38a.jpg     \b\b\b\b 61%\b\b\b\b\b  OK \n",
            "Extracting  /content/dataset_2/train/noncaries/caries-676-_png_tooth_0_png.rf.d68b6b7e8d5d47ed3f50b4444775630e.jpg     \b\b\b\b 61%\b\b\b\b\b  OK \n",
            "Extracting  /content/dataset_2/train/noncaries/caries-678-_png_tooth_0_png.rf.b3b3da9d62fd49d787234a534dd98c53.jpg     \b\b\b\b 61%\b\b\b\b\b  OK \n",
            "Extracting  /content/dataset_2/train/noncaries/caries-687-_png_tooth_0_png.rf.51472452254851991acbed40fd294048.jpg     \b\b\b\b 61%\b\b\b\b\b  OK \n",
            "Extracting  /content/dataset_2/train/noncaries/caries-69-_png_tooth_0_png.rf.b1b99bd7ce68eba02fc8f538fbb1d9a6.jpg     \b\b\b\b 61%\b\b\b\b\b  OK \n",
            "Extracting  /content/dataset_2/train/noncaries/caries-692-_png_tooth_0_png.rf.d4dd4763c265c5850016830a740c5b76.jpg     \b\b\b\b 61%\b\b\b\b\b  OK \n",
            "Extracting  /content/dataset_2/train/noncaries/caries-694-_png_tooth_0_png.rf.da40a963216a4ef801e8ed57267c5dc3.jpg     \b\b\b\b 61%\b\b\b\b\b  OK \n",
            "Extracting  /content/dataset_2/train/noncaries/caries-695-_png_tooth_0_png.rf.b4d531818432dca8b3e0470e6b3ebecf.jpg     \b\b\b\b 61%\b\b\b\b\b  OK \n",
            "Extracting  /content/dataset_2/train/noncaries/caries-696-_png_tooth_0_png.rf.29db9fc527d9039fb18357b2c862c6be.jpg     \b\b\b\b 61%\b\b\b\b\b  OK \n",
            "Extracting  /content/dataset_2/train/noncaries/caries-697-_png_tooth_0_png.rf.890920a2a935530779558c4a5a91d46f.jpg     \b\b\b\b 61%\b\b\b\b\b  OK \n",
            "Extracting  /content/dataset_2/train/noncaries/caries-698-_png_tooth_0_png.rf.c1cecbd2e52be96f86c0c715c11d1682.jpg     \b\b\b\b 61%\b\b\b\b\b  OK \n",
            "Extracting  /content/dataset_2/train/noncaries/caries-7-_png_tooth_0_png.rf.570336f7c756df48406ad9ff1a396d15.jpg     \b\b\b\b 62%\b\b\b\b\b  OK \n",
            "Extracting  /content/dataset_2/train/noncaries/caries-70-_png_tooth_1_png.rf.31ad6295d80ec8c80c4a07570d73220e.jpg     \b\b\b\b 62%\b\b\b\b\b  OK \n",
            "Extracting  /content/dataset_2/train/noncaries/caries-703-_png_tooth_0_png.rf.6b1964884f795de88ff6670e1eb21aec.jpg     \b\b\b\b 62%\b\b\b\b\b  OK \n",
            "Extracting  /content/dataset_2/train/noncaries/caries-706-_png_tooth_0_png.rf.57bd7cb8ad98f511707f8c9da6e95ab3.jpg     \b\b\b\b 62%\b\b\b\b\b  OK \n",
            "Extracting  /content/dataset_2/train/noncaries/caries-71-_png_tooth_0_png.rf.43ae619c999c34b11f3b4a6e9ef20a23.jpg     \b\b\b\b 62%\b\b\b\b\b  OK \n",
            "Extracting  /content/dataset_2/train/noncaries/caries-713-_png_tooth_0_png.rf.0b863f01ff45d79a3e477d340ae65945.jpg     \b\b\b\b 62%\b\b\b\b\b  OK \n",
            "Extracting  /content/dataset_2/train/noncaries/caries-72-_png_tooth_0_png.rf.03ef05df1cb910f544324ca2e0130aff.jpg     \b\b\b\b 62%\b\b\b\b\b  OK \n",
            "Extracting  /content/dataset_2/train/noncaries/caries-72-_png_tooth_1_png.rf.5a61d9fc82bea6c92bb609bbc4425f43.jpg     \b\b\b\b 62%\b\b\b\b\b  OK \n",
            "Extracting  /content/dataset_2/train/noncaries/caries-721-_png_tooth_0_png.rf.d60dd0c45497984d369a4868aa88dd67.jpg     \b\b\b\b 62%\b\b\b\b\b  OK \n",
            "Extracting  /content/dataset_2/train/noncaries/caries-722-_png_tooth_0_png.rf.a2efdac35ce5509dd4bfffaa8cc916be.jpg     \b\b\b\b 62%\b\b\b\b\b  OK \n",
            "Extracting  /content/dataset_2/train/noncaries/caries-727-_png_tooth_0_png.rf.1bc8752fd384b29ecd77ac4bd92afa6d.jpg     \b\b\b\b 62%\b\b\b\b\b  OK \n",
            "Extracting  /content/dataset_2/train/noncaries/caries-730-_png_tooth_0_png.rf.4a30bbcadc882b0970ffad96a7b3c248.jpg     \b\b\b\b 62%\b\b\b\b\b  OK \n",
            "Extracting  /content/dataset_2/train/noncaries/caries-733-_png_tooth_0_png.rf.ac51a3b91ba0e925e88a0b048c6ee849.jpg     \b\b\b\b 62%\b\b\b\b\b  OK \n",
            "Extracting  /content/dataset_2/train/noncaries/caries-74-_png_tooth_2_png.rf.d0267e279a06c60f0b8321ee79a5f509.jpg     \b\b\b\b 63%\b\b\b\b\b  OK \n",
            "Extracting  /content/dataset_2/train/noncaries/caries-740-_png_tooth_0_png.rf.39df9bfa8b975806fc029f32786f05ba.jpg     \b\b\b\b 63%\b\b\b\b\b  OK \n",
            "Extracting  /content/dataset_2/train/noncaries/caries-745-_png_tooth_0_png.rf.1cc622f6375400420148ac652d8bd821.jpg     \b\b\b\b 63%\b\b\b\b\b  OK \n",
            "Extracting  /content/dataset_2/train/noncaries/caries-749-_png_tooth_0_png.rf.89c9c09b07330bc7d08e96801f11fed8.jpg     \b\b\b\b 63%\b\b\b\b\b  OK \n",
            "Extracting  /content/dataset_2/train/noncaries/caries-75-_png_tooth_0_png.rf.7e460c48383ad1e086f90dd50111cb71.jpg     \b\b\b\b 63%\b\b\b\b\b  OK \n",
            "Extracting  /content/dataset_2/train/noncaries/caries-76-_png_tooth_0_png.rf.40463cfaf301b647769685978ef2d556.jpg     \b\b\b\b 63%\b\b\b\b\b  OK \n",
            "Extracting  /content/dataset_2/train/noncaries/caries-766-_png_tooth_0_png.rf.f25d0c05f86b094b506ec771a118702c.jpg     \b\b\b\b 63%\b\b\b\b\b  OK \n",
            "Extracting  /content/dataset_2/train/noncaries/caries-767-_png_tooth_0_png.rf.b4d3356b7d3d450e00235fbbacab764f.jpg     \b\b\b\b 63%\b\b\b\b\b  OK \n",
            "Extracting  /content/dataset_2/train/noncaries/caries-768-_png_tooth_1_png.rf.8e6f31e73241bfd1703d3887f79cdf9d.jpg     \b\b\b\b 63%\b\b\b\b\b  OK \n",
            "Extracting  /content/dataset_2/train/noncaries/caries-768-_png_tooth_2_png.rf.0aec3baec0b589d03360fc09a1cfdb0e.jpg     \b\b\b\b 63%\b\b\b\b\b  OK \n",
            "Extracting  /content/dataset_2/train/noncaries/caries-77-_png_tooth_2_png.rf.158e0f1c0c98596094d8140190c0efcd.jpg     \b\b\b\b 63%\b\b\b\b\b  OK \n",
            "Extracting  /content/dataset_2/train/noncaries/caries-77-_png_tooth_3_png.rf.6669434b86766946efb095ced380ccf5.jpg     \b\b\b\b 63%\b\b\b\b\b  OK \n",
            "Extracting  /content/dataset_2/train/noncaries/caries-770-_png_tooth_0_png.rf.320431d936222cf0c4c9e9d04bd28ede.jpg     \b\b\b\b 63%\b\b\b\b\b  OK \n",
            "Extracting  /content/dataset_2/train/noncaries/caries-771-_png_tooth_0_png.rf.33947c3e9b8913b5b5d0b828329c419b.jpg     \b\b\b\b 63%\b\b\b\b\b  OK \n",
            "Extracting  /content/dataset_2/train/noncaries/caries-772-_png_tooth_0_png.rf.057f95f2c3378451bdeb59d6dfbfc774.jpg     \b\b\b\b 64%\b\b\b\b\b  OK \n",
            "Extracting  /content/dataset_2/train/noncaries/caries-78-_png_tooth_1_png.rf.2793f8592a829b1d59afb1205e247d82.jpg     \b\b\b\b 64%\b\b\b\b\b  OK \n",
            "Extracting  /content/dataset_2/train/noncaries/caries-78-_png_tooth_3_png.rf.fefa5c6c7531feb3a5ae4ca98cef6c1c.jpg     \b\b\b\b 64%\b\b\b\b\b  OK \n",
            "Extracting  /content/dataset_2/train/noncaries/caries-782-_png_tooth_0_png.rf.c1dd35a6c4d07caa5295bc28c1ce1831.jpg     \b\b\b\b 64%\b\b\b\b\b  OK \n",
            "Extracting  /content/dataset_2/train/noncaries/caries-783-_png_tooth_0_png.rf.6b8997e9b5acc987bfd252a3d8adf3a5.jpg     \b\b\b\b 64%\b\b\b\b\b  OK \n",
            "Extracting  /content/dataset_2/train/noncaries/caries-79-_png_tooth_0_png.rf.46b6e9c2b86e36d0abc5b56213168c03.jpg     \b\b\b\b 64%\b\b\b\b\b  OK \n",
            "Extracting  /content/dataset_2/train/noncaries/caries-79-_png_tooth_3_png.rf.9a66afe1bd585c42a573cb5c53601e5f.jpg     \b\b\b\b 64%\b\b\b\b\b  OK \n",
            "Extracting  /content/dataset_2/train/noncaries/caries-8-_png_tooth_0_png.rf.d92c8bb3776fddf635a6e1ca8ae9384d.jpg     \b\b\b\b 64%\b\b\b\b\b  OK \n",
            "Extracting  /content/dataset_2/train/noncaries/caries-81-_png_tooth_0_png.rf.88162e7f58f0c51156fc3ec2868ad0de.jpg     \b\b\b\b 64%\b\b\b\b\b  OK \n",
            "Extracting  /content/dataset_2/train/noncaries/caries-81-_png_tooth_1_png.rf.fdcb189919c24dd685ec09b3c3e7121a.jpg     \b\b\b\b 64%\b\b\b\b\b  OK \n",
            "Extracting  /content/dataset_2/train/noncaries/caries-81-_png_tooth_2_png.rf.08412724a8dd175214bc5e2aa3b0aba8.jpg     \b\b\b\b 64%\b\b\b\b\b  OK \n",
            "Extracting  /content/dataset_2/train/noncaries/caries-82-_png_tooth_0_png.rf.654b79726041814d328c2a288a2cef24.jpg     \b\b\b\b 64%\b\b\b\b\b  OK \n",
            "Extracting  /content/dataset_2/train/noncaries/caries-82-_png_tooth_2_png.rf.fa9097d790e013f164882f0fc8f39530.jpg     \b\b\b\b 64%\b\b\b\b\b  OK \n",
            "Extracting  /content/dataset_2/train/noncaries/caries-83-_png_tooth_1_png.rf.26d8285b56d2a22a8382f21af30d06dc.jpg     \b\b\b\b 64%\b\b\b\b\b  OK \n",
            "Extracting  /content/dataset_2/train/noncaries/caries-84-_png_tooth_1_png.rf.e3822e1cb54d7e38c85b2ad13beab851.jpg     \b\b\b\b 64%\b\b\b\b\b  OK \n",
            "Extracting  /content/dataset_2/train/noncaries/caries-84-_png_tooth_2_png.rf.aac546fd2d1683b0ee52e8366000775e.jpg     \b\b\b\b 64%\b\b\b\b\b  OK \n",
            "Extracting  /content/dataset_2/train/noncaries/caries-85-_png_tooth_0_png.rf.3c43617e49c5cc97054ab01eb5ba2f81.jpg     \b\b\b\b 64%\b\b\b\b\b  OK \n",
            "Extracting  /content/dataset_2/train/noncaries/caries-85-_png_tooth_1_png.rf.ba71fb57c77611bd2a36ac05c816fa0e.jpg     \b\b\b\b 64%\b\b\b\b\b  OK \n",
            "Extracting  /content/dataset_2/train/noncaries/caries-86-_png_tooth_2_png.rf.f49edbf9ba92266af031c762aeb07572.jpg     \b\b\b\b 64%\b\b\b\b\b  OK \n",
            "Extracting  /content/dataset_2/train/noncaries/caries-87-_png_tooth_0_png.rf.5875ab8943fdaababaf01383c981f1ef.jpg     \b\b\b\b 65%\b\b\b\b\b  OK \n",
            "Extracting  /content/dataset_2/train/noncaries/caries-88-_png_tooth_0_png.rf.8a2698d16adae14056ef511385f115ac.jpg     \b\b\b\b 65%\b\b\b\b\b  OK \n",
            "Extracting  /content/dataset_2/train/noncaries/caries-89-_png_tooth_0_png.rf.4b16421b071d615b1761dfa77daac1cc.jpg     \b\b\b\b 65%\b\b\b\b\b  OK \n",
            "Extracting  /content/dataset_2/train/noncaries/caries-91-_png_tooth_0_png.rf.6aa35dc5493d3bff91e47c8090758aeb.jpg     \b\b\b\b 65%\b\b\b\b\b  OK \n",
            "Extracting  /content/dataset_2/train/noncaries/Frame-210_jpg_tooth_0_png.rf.58fdafec211375901748c2aaabb9f256.jpg     \b\b\b\b 65%\b\b\b\b\b  OK \n",
            "Extracting  /content/dataset_2/train/noncaries/Frame-213_jpg_tooth_0_png.rf.390d913319b13127945cd357759ddef2.jpg     \b\b\b\b 65%\b\b\b\b\b  OK \n",
            "Extracting  /content/dataset_2/train/noncaries/Frame-215_jpg_tooth_0_png.rf.6f7567eccb9a0bec346c5b132ccdebae.jpg     \b\b\b\b 65%\b\b\b\b\b  OK \n",
            "Extracting  /content/dataset_2/train/noncaries/Frame-222_jpg_tooth_0_png.rf.f6a202340375c36f5a95f23f1d2a9ccc.jpg     \b\b\b\b 65%\b\b\b\b\b  OK \n",
            "Extracting  /content/dataset_2/train/noncaries/Frame-226_jpg_tooth_0_png.rf.fc486a2e97e22d4e16f0ac372d95768b.jpg     \b\b\b\b 65%\b\b\b\b\b  OK \n",
            "Extracting  /content/dataset_2/train/noncaries/Frame-226_jpg_tooth_2_png.rf.98213e433e024bb9c91d457fabe7eae8.jpg     \b\b\b\b 65%\b\b\b\b\b  OK \n",
            "Extracting  /content/dataset_2/train/noncaries/Frame-229_jpg_tooth_0_png.rf.f505e3899067e1d44ab26ac6170d6516.jpg     \b\b\b\b 65%\b\b\b\b\b  OK \n",
            "Extracting  /content/dataset_2/train/noncaries/Frame-230_jpg_tooth_1_png.rf.329b65760f3ad6a4310d601a8b10689f.jpg     \b\b\b\b 65%\b\b\b\b\b  OK \n",
            "Extracting  /content/dataset_2/train/noncaries/Frame-232_jpg_tooth_0_png.rf.c6cabbd3ebfcd65fa4ac1513ba241c2c.jpg     \b\b\b\b 65%\b\b\b\b\b  OK \n",
            "Extracting  /content/dataset_2/train/noncaries/Frame-232_jpg_tooth_1_png.rf.0f053fc07ee9a61146a5ef29b3e2ba65.jpg     \b\b\b\b 65%\b\b\b\b\b  OK \n",
            "Extracting  /content/dataset_2/train/noncaries/Frame-233_jpg_tooth_0_png.rf.417b7ec738370802c15c808936aec1ec.jpg     \b\b\b\b 65%\b\b\b\b\b  OK \n",
            "Extracting  /content/dataset_2/train/noncaries/Frame-233_jpg_tooth_1_png.rf.5c8938f56eb9a7bef7a6dd34628ce9a8.jpg     \b\b\b\b 66%\b\b\b\b\b  OK \n",
            "Extracting  /content/dataset_2/train/noncaries/Frame-234_jpg_tooth_0_png.rf.69df17f66d9d9c6d9e4d5f4b467e1f6e.jpg     \b\b\b\b 66%\b\b\b\b\b  OK \n",
            "Extracting  /content/dataset_2/train/noncaries/Frame-239_jpg_tooth_0_png.rf.d8a07145bb9917b805464db3755838e7.jpg     \b\b\b\b 66%\b\b\b\b\b  OK \n",
            "Extracting  /content/dataset_2/train/noncaries/Frame-239_jpg_tooth_1_png.rf.58d6837e0516baa56b2a5944b8ada950.jpg     \b\b\b\b 66%\b\b\b\b\b  OK \n",
            "Extracting  /content/dataset_2/train/noncaries/Frame-240_jpg_tooth_0_png.rf.fdbb060c1089c1cf6458d945ec8f85b9.jpg     \b\b\b\b 66%\b\b\b\b\b  OK \n",
            "Extracting  /content/dataset_2/train/noncaries/Frame-240_jpg_tooth_1_png.rf.7c6593d620a2bdc64730ceb0122726a3.jpg     \b\b\b\b 66%\b\b\b\b\b  OK \n",
            "Extracting  /content/dataset_2/train/noncaries/Frame-240_jpg_tooth_2_png.rf.867ba53494bdf3e810f1adeb0a8e28ef.jpg     \b\b\b\b 66%\b\b\b\b\b  OK \n",
            "Extracting  /content/dataset_2/train/noncaries/Frame-241_jpg_tooth_0_png.rf.555219aabd9514de5774cd045168f85d.jpg     \b\b\b\b 66%\b\b\b\b\b  OK \n",
            "Extracting  /content/dataset_2/train/noncaries/Frame-241_jpg_tooth_1_png.rf.639790416400b07b9440f04a8c1e88bb.jpg     \b\b\b\b 66%\b\b\b\b\b  OK \n",
            "Extracting  /content/dataset_2/train/noncaries/Frame-242_jpg_tooth_0_png.rf.35da8e226bae6ed1f44ecf5816ae7b50.jpg     \b\b\b\b 66%\b\b\b\b\b  OK \n",
            "Extracting  /content/dataset_2/train/noncaries/Frame-244_jpg_tooth_0_png.rf.6b45168a1c1825eb5de8bce4693dbcb7.jpg     \b\b\b\b 66%\b\b\b\b\b  OK \n",
            "Extracting  /content/dataset_2/train/noncaries/Frame-246_jpg_tooth_1_png.rf.240edfb969a2ba78dd9edce10d39b169.jpg     \b\b\b\b 66%\b\b\b\b\b  OK \n",
            "Extracting  /content/dataset_2/train/noncaries/Frame-247_jpg_tooth_0_png.rf.89540320cb15190455738f3aeea2c05e.jpg     \b\b\b\b 66%\b\b\b\b\b  OK \n",
            "Extracting  /content/dataset_2/train/noncaries/Frame-247_jpg_tooth_1_png.rf.cf47df342b0630ffbf8b96acab1e3d54.jpg     \b\b\b\b 66%\b\b\b\b\b  OK \n",
            "Extracting  /content/dataset_2/train/noncaries/Frame-247_jpg_tooth_2_png.rf.15e41d5268206fb5ee668bbb8e354a0e.jpg     \b\b\b\b 67%\b\b\b\b\b  OK \n",
            "Extracting  /content/dataset_2/train/noncaries/Frame-248_jpg_tooth_0_png.rf.e51252661a500853fa2d2035b0ee272d.jpg     \b\b\b\b 67%\b\b\b\b\b  OK \n",
            "Extracting  /content/dataset_2/train/noncaries/Frame-249_jpg_tooth_0_png.rf.9115dfe22bd38f19f6f338c9d9e970e6.jpg     \b\b\b\b 67%\b\b\b\b\b  OK \n",
            "Extracting  /content/dataset_2/train/noncaries/Frame-249_jpg_tooth_1_png.rf.7f59b1b53fb2eda55dcfde17b232164a.jpg     \b\b\b\b 67%\b\b\b\b\b  OK \n",
            "Extracting  /content/dataset_2/train/noncaries/Frame-250_jpg_tooth_0_png.rf.cddf4163b10c8af0d46e0cd6d19fe71d.jpg     \b\b\b\b 67%\b\b\b\b\b  OK \n",
            "Extracting  /content/dataset_2/train/noncaries/Frame-251_jpg_tooth_0_png.rf.f6a494b8b9a52b2100183b78b7298b02.jpg     \b\b\b\b 67%\b\b\b\b\b  OK \n",
            "Extracting  /content/dataset_2/train/noncaries/Frame-252_jpg_tooth_0_png.rf.382e546790b3e852cbb72303c7261d77.jpg     \b\b\b\b 67%\b\b\b\b\b  OK \n",
            "Extracting  /content/dataset_2/train/noncaries/Frame-253_jpg_tooth_0_png.rf.46416615bd4e32b94ec26644bec3b9d2.jpg     \b\b\b\b 67%\b\b\b\b\b  OK \n",
            "Extracting  /content/dataset_2/train/noncaries/Frame-254_jpg_tooth_1_png.rf.3a29468d154cf03a3e050f2a60a61bd2.jpg     \b\b\b\b 67%\b\b\b\b\b  OK \n",
            "Extracting  /content/dataset_2/train/noncaries/Frame-255_jpg_tooth_0_png.rf.6babf1356e433376482c786a1b6bffe8.jpg     \b\b\b\b 67%\b\b\b\b\b  OK \n",
            "Extracting  /content/dataset_2/train/noncaries/Frame-256_jpg_tooth_2_png.rf.42d5b9ae30c4b721d24e18a12213efd3.jpg     \b\b\b\b 67%\b\b\b\b\b  OK \n",
            "Extracting  /content/dataset_2/train/noncaries/Frame-258_jpg_tooth_0_png.rf.c72b961ff11f0d1053409bda65368186.jpg     \b\b\b\b 67%\b\b\b\b\b  OK \n",
            "Extracting  /content/dataset_2/train/noncaries/Frame-258_jpg_tooth_2_png.rf.971d2eb0b43c983127cd8a9d9343356d.jpg     \b\b\b\b 67%\b\b\b\b\b  OK \n",
            "Extracting  /content/dataset_2/train/noncaries/Frame-260_jpg_tooth_0_png.rf.75f0dad484d117b999f4e7cd6167f866.jpg     \b\b\b\b 67%\b\b\b\b\b  OK \n",
            "Extracting  /content/dataset_2/train/noncaries/Frame-261_jpg_tooth_2_png.rf.32114597eceb5c3020b8cbb814c1b666.jpg     \b\b\b\b 67%\b\b\b\b\b  OK \n",
            "Extracting  /content/dataset_2/train/noncaries/Frame-262_jpg_tooth_1_png.rf.d3db8c2d3de2b293e5e314be80a0f50d.jpg     \b\b\b\b 68%\b\b\b\b\b  OK \n",
            "Extracting  /content/dataset_2/train/noncaries/Frame-263_jpg_tooth_0_png.rf.79b1d971898811d629aad2956fc2f0a5.jpg     \b\b\b\b 68%\b\b\b\b\b  OK \n",
            "Extracting  /content/dataset_2/train/noncaries/Frame-263_jpg_tooth_1_png.rf.e4ae3ba2b37bbd540f389a7f1b8a9fd4.jpg     \b\b\b\b 68%\b\b\b\b\b  OK \n",
            "Extracting  /content/dataset_2/train/noncaries/Frame-265_jpg_tooth_0_png.rf.9393087eb7eefb22681f65a086757245.jpg     \b\b\b\b 68%\b\b\b\b\b  OK \n",
            "Extracting  /content/dataset_2/train/noncaries/Frame-265_jpg_tooth_2_png.rf.5d13068fc3f6ef1f098a5bac8970b48c.jpg     \b\b\b\b 68%\b\b\b\b\b  OK \n",
            "Extracting  /content/dataset_2/train/noncaries/Frame-266_jpg_tooth_0_png.rf.affc4bc06602578b836ae5e395495c1e.jpg     \b\b\b\b 68%\b\b\b\b\b  OK \n",
            "Extracting  /content/dataset_2/train/noncaries/Frame-268_jpg_tooth_0_png.rf.7644a920f4b36075b11e61a8f13b9765.jpg     \b\b\b\b 68%\b\b\b\b\b  OK \n",
            "Extracting  /content/dataset_2/train/noncaries/Frame-268_jpg_tooth_2_png.rf.75e063c8df7209411178efa0207bb47a.jpg     \b\b\b\b 68%\b\b\b\b\b  OK \n",
            "Extracting  /content/dataset_2/train/noncaries/Frame-268_jpg_tooth_3_png.rf.cff9b0b6cc84d3354a194ae5f06dcd9e.jpg     \b\b\b\b 68%\b\b\b\b\b  OK \n",
            "Extracting  /content/dataset_2/train/noncaries/Frame-269_jpg_tooth_1_png.rf.3d9ab0f6a11d8c899b59728b6e0918b3.jpg     \b\b\b\b 68%\b\b\b\b\b  OK \n",
            "Extracting  /content/dataset_2/train/noncaries/Frame-269_jpg_tooth_2_png.rf.531a5c97879bc327b3e5f61b3f3c7be7.jpg     \b\b\b\b 68%\b\b\b\b\b  OK \n",
            "Extracting  /content/dataset_2/train/noncaries/Frame-269_jpg_tooth_3_png.rf.27c61425f34b816abdd34ed919501207.jpg     \b\b\b\b 68%\b\b\b\b\b  OK \n",
            "Extracting  /content/dataset_2/train/noncaries/Frame-270_jpg_tooth_0_png.rf.d551b46324dec187c758c4758104540f.jpg     \b\b\b\b 68%\b\b\b\b\b  OK \n",
            "Extracting  /content/dataset_2/train/noncaries/Frame-270_jpg_tooth_1_png.rf.e62ea0dce969047199bb4808e4e0c797.jpg     \b\b\b\b 68%\b\b\b\b\b  OK \n",
            "Extracting  /content/dataset_2/train/noncaries/Frame-272_jpg_tooth_1_png.rf.6176eeeee20a02e916a38cb35cb3c648.jpg     \b\b\b\b 68%\b\b\b\b\b  OK \n",
            "Extracting  /content/dataset_2/train/noncaries/Frame-274_jpg_tooth_0_png.rf.d4dc0efeee826fbec612b5c431b6a441.jpg     \b\b\b\b 68%\b\b\b\b\b  OK \n",
            "Extracting  /content/dataset_2/train/noncaries/Frame-274_jpg_tooth_2_png.rf.cc25e5c842dbf405227d10e5a70d3860.jpg     \b\b\b\b 69%\b\b\b\b\b  OK \n",
            "Extracting  /content/dataset_2/train/noncaries/Frame-275_jpg_tooth_0_png.rf.9f1266dbe072660fc7feca51062e54d6.jpg     \b\b\b\b 69%\b\b\b\b\b  OK \n",
            "Extracting  /content/dataset_2/train/noncaries/Frame-275_jpg_tooth_1_png.rf.1ae8bc3c92e4cf520cf6e713b0db1308.jpg     \b\b\b\b 69%\b\b\b\b\b  OK \n",
            "Extracting  /content/dataset_2/train/noncaries/Frame-276_jpg_tooth_1_png.rf.53e7a1e249630924ba0013e4d176c4fd.jpg     \b\b\b\b 69%\b\b\b\b\b  OK \n",
            "Extracting  /content/dataset_2/train/noncaries/Frame-279_jpg_tooth_1_png.rf.a65d13303a4fc5dac71920c50a718d5a.jpg     \b\b\b\b 69%\b\b\b\b\b  OK \n",
            "Extracting  /content/dataset_2/train/noncaries/Frame-280_jpg_tooth_0_png.rf.86bea870c0e08356f6435c6c2090fafe.jpg     \b\b\b\b 69%\b\b\b\b\b  OK \n",
            "Extracting  /content/dataset_2/train/noncaries/Frame-280_jpg_tooth_1_png.rf.a9993dd2c28a391d08438141a1b33c32.jpg     \b\b\b\b 69%\b\b\b\b\b  OK \n",
            "Extracting  /content/dataset_2/train/noncaries/Frame-281_jpg_tooth_0_png.rf.7345d486f1278733ae0a9e559d8c5093.jpg     \b\b\b\b 69%\b\b\b\b\b  OK \n",
            "Extracting  /content/dataset_2/train/noncaries/Frame-281_jpg_tooth_1_png.rf.89f33b257834313fca01823511fa51bc.jpg     \b\b\b\b 69%\b\b\b\b\b  OK \n",
            "Extracting  /content/dataset_2/train/noncaries/Frame-282_jpg_tooth_0_png.rf.8dc8e3314c97494e421f22fd6e55ec9a.jpg     \b\b\b\b 69%\b\b\b\b\b  OK \n",
            "Extracting  /content/dataset_2/train/noncaries/Frame-282_jpg_tooth_1_png.rf.6a922391db88ffbb042d112f8a5f6972.jpg     \b\b\b\b 69%\b\b\b\b\b  OK \n",
            "Extracting  /content/dataset_2/train/noncaries/Frame-282_jpg_tooth_2_png.rf.6842594fee430f8601c8ff7182a7c2a3.jpg     \b\b\b\b 69%\b\b\b\b\b  OK \n",
            "Extracting  /content/dataset_2/train/noncaries/Frame-283_jpg_tooth_1_png.rf.b66d98050d763fb5ff10b2a6ffe68e71.jpg     \b\b\b\b 69%\b\b\b\b\b  OK \n",
            "Extracting  /content/dataset_2/train/noncaries/Frame-284_jpg_tooth_1_png.rf.85a5ddd3441dd7ed14d4973a2ee2814d.jpg     \b\b\b\b 69%\b\b\b\b\b  OK \n",
            "Extracting  /content/dataset_2/train/noncaries/Frame-285_jpg_tooth_2_png.rf.d380979863217701b0eaea51513ccdfc.jpg     \b\b\b\b 69%\b\b\b\b\b  OK \n",
            "Extracting  /content/dataset_2/train/noncaries/Frame-286_jpg_tooth_1_png.rf.c21cd00930c77d1cba8bcb602006b4a6.jpg     \b\b\b\b 69%\b\b\b\b\b  OK \n",
            "Extracting  /content/dataset_2/train/noncaries/Frame-286_jpg_tooth_2_png.rf.112dd43b826d81b6fb1fe12a9cc84760.jpg     \b\b\b\b 69%\b\b\b\b\b  OK \n",
            "Extracting  /content/dataset_2/train/noncaries/Frame-287_jpg_tooth_1_png.rf.d5ce381db62f55885a623ce00055d6fc.jpg     \b\b\b\b 69%\b\b\b\b\b  OK \n",
            "Extracting  /content/dataset_2/train/noncaries/Frame-288_jpg_tooth_0_png.rf.c771e12f868ffc90d70df58d6b82ad6f.jpg     \b\b\b\b 69%\b\b\b\b\b  OK \n",
            "Extracting  /content/dataset_2/train/noncaries/Frame-294_jpg_tooth_0_png.rf.0be66af99bc96403674b8a7bb8b60dde.jpg     \b\b\b\b 70%\b\b\b\b\b  OK \n",
            "Extracting  /content/dataset_2/train/noncaries/Frame-295_jpg_tooth_0_png.rf.dc0318a6218ad966840fda1d01279834.jpg     \b\b\b\b 70%\b\b\b\b\b  OK \n",
            "Extracting  /content/dataset_2/train/noncaries/Frame-295_jpg_tooth_1_png.rf.da0a69bdb8b60c1a36ee4bc63414333b.jpg     \b\b\b\b 70%\b\b\b\b\b  OK \n",
            "Extracting  /content/dataset_2/train/noncaries/Frame-296_jpg_tooth_2_png.rf.793615f6a695303e6ab9bb2e9a3936f3.jpg     \b\b\b\b 70%\b\b\b\b\b  OK \n",
            "Extracting  /content/dataset_2/train/noncaries/Frame-297_jpg_tooth_0_png.rf.320d0368a9cf3c8b872cedb8fa138526.jpg     \b\b\b\b 70%\b\b\b\b\b  OK \n",
            "Extracting  /content/dataset_2/train/noncaries/Frame-297_jpg_tooth_1_png.rf.21a788db2b15a319137eeff7aad52eab.jpg     \b\b\b\b 70%\b\b\b\b\b  OK \n",
            "Extracting  /content/dataset_2/train/noncaries/Frame-297_jpg_tooth_2_png.rf.298a1d2c134c15233dd3548b2e807db4.jpg     \b\b\b\b 70%\b\b\b\b\b  OK \n",
            "Extracting  /content/dataset_2/train/noncaries/Frame-298_jpg_tooth_0_png.rf.453d7c9e9a8fd372bfc6b234002c4052.jpg     \b\b\b\b 70%\b\b\b\b\b  OK \n",
            "Extracting  /content/dataset_2/train/noncaries/Frame-299_jpg_tooth_0_png.rf.7320d6a269e4b5545601939d5b8f98e2.jpg     \b\b\b\b 70%\b\b\b\b\b  OK \n",
            "Extracting  /content/dataset_2/train/noncaries/Frame-301_jpg_tooth_0_png.rf.0e4945e7650d0673c969caafa021d35f.jpg     \b\b\b\b 70%\b\b\b\b\b  OK \n",
            "Extracting  /content/dataset_2/train/noncaries/Frame-301_jpg_tooth_2_png.rf.875bcc890de4a182fb6ec722164c3a5b.jpg     \b\b\b\b 70%\b\b\b\b\b  OK \n",
            "Extracting  /content/dataset_2/train/noncaries/Frame-304_jpg_tooth_0_png.rf.5c26b4cb160edf701f94e321ad571cb6.jpg     \b\b\b\b 70%\b\b\b\b\b  OK \n",
            "Extracting  /content/dataset_2/train/noncaries/Frame-308_jpg_tooth_1_png.rf.bc4082ee41f142f14da82ab2d9686648.jpg     \b\b\b\b 70%\b\b\b\b\b  OK \n",
            "Extracting  /content/dataset_2/train/noncaries/Frame-309_jpg_tooth_0_png.rf.0b57bf3a86981eb8c3756434294f34a4.jpg     \b\b\b\b 70%\b\b\b\b\b  OK \n",
            "Extracting  /content/dataset_2/train/noncaries/Frame-309_jpg_tooth_1_png.rf.e5834599dc09738e0639bf95277f6b1e.jpg     \b\b\b\b 70%\b\b\b\b\b  OK \n",
            "Extracting  /content/dataset_2/train/noncaries/Frame-311_jpg_tooth_1_png.rf.678bbe851c6f5184648d34666c6f3971.jpg     \b\b\b\b 70%\b\b\b\b\b  OK \n",
            "Extracting  /content/dataset_2/train/noncaries/Frame-311_jpg_tooth_2_png.rf.fbbc955a49b2708233081c04d82e92a6.jpg     \b\b\b\b 70%\b\b\b\b\b  OK \n",
            "Extracting  /content/dataset_2/train/noncaries/Frame-312_jpg_tooth_0_png.rf.46ff2092a18565f10f385a1399ca02f2.jpg     \b\b\b\b 70%\b\b\b\b\b  OK \n",
            "Extracting  /content/dataset_2/train/noncaries/Frame-316_jpg_tooth_1_png.rf.84b2713ff164d63d58c9cf9b38ed54b7.jpg     \b\b\b\b 70%\b\b\b\b\b  OK \n",
            "Extracting  /content/dataset_2/train/noncaries/Frame-317_jpg_tooth_0_png.rf.403905e0e563a9f44ae154bfdaf31960.jpg     \b\b\b\b 70%\b\b\b\b\b  OK \n",
            "Extracting  /content/dataset_2/train/noncaries/Frame-317_jpg_tooth_1_png.rf.e8ecedc3d93ca0a26319864502c384b5.jpg     \b\b\b\b 70%\b\b\b\b\b  OK \n",
            "Extracting  /content/dataset_2/train/noncaries/Frame-317_jpg_tooth_2_png.rf.83f132f5f97171da46118cc9b861a8c1.jpg     \b\b\b\b 71%\b\b\b\b\b  OK \n",
            "Extracting  /content/dataset_2/train/noncaries/Frame-318_jpg_tooth_0_png.rf.949da5066a6db5c7c67c79daf8347ec5.jpg     \b\b\b\b 71%\b\b\b\b\b  OK \n",
            "Extracting  /content/dataset_2/train/noncaries/Frame-319_jpg_tooth_0_png.rf.5e92276861426e3b7a286db1e2d66427.jpg     \b\b\b\b 71%\b\b\b\b\b  OK \n",
            "Extracting  /content/dataset_2/train/noncaries/Frame-321_jpg_tooth_0_png.rf.7fcf31c1ae64cfb6d1a846609f224110.jpg     \b\b\b\b 71%\b\b\b\b\b  OK \n",
            "Extracting  /content/dataset_2/train/noncaries/Frame-322_jpg_tooth_0_png.rf.1f279d151fd65d0245fdfb4f1b110106.jpg     \b\b\b\b 71%\b\b\b\b\b  OK \n",
            "Extracting  /content/dataset_2/train/noncaries/Frame-323_jpg_tooth_0_png.rf.6344b23a79d24f91bbbc95f83f900dbb.jpg     \b\b\b\b 71%\b\b\b\b\b  OK \n",
            "Extracting  /content/dataset_2/train/noncaries/Frame-326_jpg_tooth_0_png.rf.05d776e32ea31f510ea143c86b7719e0.jpg     \b\b\b\b 71%\b\b\b\b\b  OK \n",
            "Extracting  /content/dataset_2/train/noncaries/Frame-326_jpg_tooth_1_png.rf.06d0918a96a2d87cb2123577be73d20e.jpg     \b\b\b\b 71%\b\b\b\b\b  OK \n",
            "Extracting  /content/dataset_2/train/noncaries/Frame-327_jpg_tooth_1_png.rf.cf9cbeab31a76ebdd91e2c8ca13da785.jpg     \b\b\b\b 71%\b\b\b\b\b  OK \n",
            "Extracting  /content/dataset_2/train/noncaries/Frame-327_jpg_tooth_2_png.rf.a514f71ae8d1097dd44643ddb044e7e5.jpg     \b\b\b\b 71%\b\b\b\b\b  OK \n",
            "Extracting  /content/dataset_2/train/noncaries/Frame-328_jpg_tooth_0_png.rf.0168042b614c18c380cf30b52a84f99c.jpg     \b\b\b\b 71%\b\b\b\b\b  OK \n",
            "Extracting  /content/dataset_2/train/noncaries/Frame-328_jpg_tooth_1_png.rf.0777145bb6c1499203b348df2064fbc2.jpg     \b\b\b\b 71%\b\b\b\b\b  OK \n",
            "Extracting  /content/dataset_2/train/noncaries/Frame-328_jpg_tooth_2_png.rf.a2ff8b3ad8b9e342babc0bd171c8c8b8.jpg     \b\b\b\b 71%\b\b\b\b\b  OK \n",
            "Extracting  /content/dataset_2/train/noncaries/Frame-330_jpg_tooth_1_png.rf.833ddffde81eeda1b0f8099380a76ee7.jpg     \b\b\b\b 71%\b\b\b\b\b  OK \n",
            "Extracting  /content/dataset_2/train/noncaries/Frame-330_jpg_tooth_2_png.rf.b8978df56e45278a7d0ca113b7ec48f4.jpg     \b\b\b\b 71%\b\b\b\b\b  OK \n",
            "Extracting  /content/dataset_2/train/noncaries/Frame-331_jpg_tooth_1_png.rf.13b0463515dddeab0005b57b0c97cead.jpg     \b\b\b\b 71%\b\b\b\b\b  OK \n",
            "Extracting  /content/dataset_2/train/noncaries/Frame-331_jpg_tooth_2_png.rf.d2e5182d43b0b47dc1591d67f9de9754.jpg     \b\b\b\b 71%\b\b\b\b\b  OK \n",
            "Extracting  /content/dataset_2/train/noncaries/Frame-332_jpg_tooth_0_png.rf.867c7370b2bcecb25b20d227240dbf42.jpg     \b\b\b\b 71%\b\b\b\b\b  OK \n",
            "Extracting  /content/dataset_2/train/noncaries/Frame-332_jpg_tooth_1_png.rf.bd62b9f11ff0625fcd96803aac2279cd.jpg     \b\b\b\b 71%\b\b\b\b\b  OK \n",
            "Extracting  /content/dataset_2/train/noncaries/Frame-332_jpg_tooth_2_png.rf.9a4b4b2e1a099d4c763d0e4edb18d00c.jpg     \b\b\b\b 71%\b\b\b\b\b  OK \n",
            "Extracting  /content/dataset_2/train/noncaries/Frame-333_jpg_tooth_1_png.rf.b7b90197a3fdca3c51bd4a2fa97d5e0b.jpg     \b\b\b\b 71%\b\b\b\b\b  OK \n",
            "Extracting  /content/dataset_2/train/noncaries/Frame-334_jpg_tooth_0_png.rf.33f4713bffef7506cc910585159ab97b.jpg     \b\b\b\b 72%\b\b\b\b\b  OK \n",
            "Extracting  /content/dataset_2/train/noncaries/Frame-334_jpg_tooth_1_png.rf.3ecc92e34cca4b7e3944faff6b570f80.jpg     \b\b\b\b 72%\b\b\b\b\b  OK \n",
            "Extracting  /content/dataset_2/train/noncaries/Frame-336_jpg_tooth_0_png.rf.a4788ec231ae1bf017e1b90c96a3054f.jpg     \b\b\b\b 72%\b\b\b\b\b  OK \n",
            "Extracting  /content/dataset_2/train/noncaries/Frame-337_jpg_tooth_0_png.rf.61e724a78af2ec4f0a79be49fb588032.jpg     \b\b\b\b 72%\b\b\b\b\b  OK \n",
            "Extracting  /content/dataset_2/train/noncaries/Frame-341_jpg_tooth_0_png.rf.8c8f9427a5968f1e2f24fa5ba4345a7c.jpg     \b\b\b\b 72%\b\b\b\b\b  OK \n",
            "Extracting  /content/dataset_2/train/noncaries/Frame-341_jpg_tooth_2_png.rf.c412d0d4ea9269b35ff92c12523bf62f.jpg     \b\b\b\b 72%\b\b\b\b\b  OK \n",
            "Extracting  /content/dataset_2/train/noncaries/Frame-342_jpg_tooth_1_png.rf.26cd0c2c33cda33745a042018a0456d1.jpg     \b\b\b\b 72%\b\b\b\b\b  OK \n",
            "Extracting  /content/dataset_2/train/noncaries/Frame-343_jpg_tooth_0_png.rf.06a3598e909a93adc040bc3fdabbfd50.jpg     \b\b\b\b 72%\b\b\b\b\b  OK \n",
            "Extracting  /content/dataset_2/train/noncaries/Frame-344_jpg_tooth_2_png.rf.d07757efea7fa53c7e63b82719b17f43.jpg     \b\b\b\b 72%\b\b\b\b\b  OK \n",
            "Extracting  /content/dataset_2/train/noncaries/Frame-346_jpg_tooth_0_png.rf.8f2bd15630e86120947e3203d3a6a536.jpg     \b\b\b\b 72%\b\b\b\b\b  OK \n",
            "Extracting  /content/dataset_2/train/noncaries/Frame-348_jpg_tooth_1_png.rf.3920dbebb44b51811c4a92919a368f0a.jpg     \b\b\b\b 72%\b\b\b\b\b  OK \n",
            "Extracting  /content/dataset_2/train/noncaries/Frame-349_jpg_tooth_0_png.rf.189a59a54d98c0fbe76969d42916e07e.jpg     \b\b\b\b 72%\b\b\b\b\b  OK \n",
            "Extracting  /content/dataset_2/train/noncaries/Frame-350_jpg_tooth_2_png.rf.3958756ac5dbe66cc6ad43ae6f1fb707.jpg     \b\b\b\b 72%\b\b\b\b\b  OK \n",
            "Extracting  /content/dataset_2/train/noncaries/Frame-351_jpg_tooth_1_png.rf.cd81244d925c28cdc077efbaebe6a655.jpg     \b\b\b\b 72%\b\b\b\b\b  OK \n",
            "Extracting  /content/dataset_2/train/noncaries/Frame-352_jpg_tooth_0_png.rf.ba92195c2520e3e30e7e2809169aa38f.jpg     \b\b\b\b 72%\b\b\b\b\b  OK \n",
            "Extracting  /content/dataset_2/train/noncaries/Frame-352_jpg_tooth_1_png.rf.70efbb5bdf5e25ba3cd5d880e895c49b.jpg     \b\b\b\b 73%\b\b\b\b\b  OK \n",
            "Extracting  /content/dataset_2/train/noncaries/Frame-355_jpg_tooth_0_png.rf.80b4789890544e75501f6807633b02a2.jpg     \b\b\b\b 73%\b\b\b\b\b  OK \n",
            "Extracting  /content/dataset_2/train/noncaries/Frame-355_jpg_tooth_1_png.rf.c1372e03ba860fea5416ac128f92ab9c.jpg     \b\b\b\b 73%\b\b\b\b\b  OK \n",
            "Extracting  /content/dataset_2/train/noncaries/Frame-356_jpg_tooth_0_png.rf.5ca1dca3a4fedb2f5d8667a4f305fe3f.jpg     \b\b\b\b 73%\b\b\b\b\b  OK \n",
            "Extracting  /content/dataset_2/train/noncaries/Frame-356_jpg_tooth_1_png.rf.cec0c1f7fe4dbce747caaae11301c1d5.jpg     \b\b\b\b 73%\b\b\b\b\b  OK \n",
            "Extracting  /content/dataset_2/train/noncaries/Frame-357_jpg_tooth_0_png.rf.63f3a9b987b69a4a1aae998bcf5ddb09.jpg     \b\b\b\b 73%\b\b\b\b\b  OK \n",
            "Extracting  /content/dataset_2/train/noncaries/Frame-357_jpg_tooth_2_png.rf.1cd42e5fd07e60801b22da222c18bdbe.jpg     \b\b\b\b 73%\b\b\b\b\b  OK \n",
            "Extracting  /content/dataset_2/train/noncaries/Frame-358_jpg_tooth_0_png.rf.caed3b50abb11747dac14cf952348bec.jpg     \b\b\b\b 73%\b\b\b\b\b  OK \n",
            "Extracting  /content/dataset_2/train/noncaries/Frame-358_jpg_tooth_1_png.rf.2a28fff068c09c4cf66581a19bb58133.jpg     \b\b\b\b 73%\b\b\b\b\b  OK \n",
            "Extracting  /content/dataset_2/train/noncaries/Frame-358_jpg_tooth_2_png.rf.4bf3624484e676cd7b986bdd5fae5e93.jpg     \b\b\b\b 73%\b\b\b\b\b  OK \n",
            "Extracting  /content/dataset_2/train/noncaries/Frame-358_jpg_tooth_3_png.rf.6795df651da4fe601f587470d4704c0d.jpg     \b\b\b\b 73%\b\b\b\b\b  OK \n",
            "Extracting  /content/dataset_2/train/noncaries/Frame-359_jpg_tooth_0_png.rf.e094fbeb02c39e7f5fe664d19da8decf.jpg     \b\b\b\b 73%\b\b\b\b\b  OK \n",
            "Extracting  /content/dataset_2/train/noncaries/Frame-360_jpg_tooth_1_png.rf.29cec9558aef328b190999def9185184.jpg     \b\b\b\b 73%\b\b\b\b\b  OK \n",
            "Extracting  /content/dataset_2/train/noncaries/Frame-360_jpg_tooth_2_png.rf.982f5d73c05dcfe7aabb905a96a98bf9.jpg     \b\b\b\b 73%\b\b\b\b\b  OK \n",
            "Extracting  /content/dataset_2/train/noncaries/Frame-360_jpg_tooth_3_png.rf.641755bfd0c847c47db058076baebaf3.jpg     \b\b\b\b 73%\b\b\b\b\b  OK \n",
            "Extracting  /content/dataset_2/train/noncaries/Frame-360_jpg_tooth_4_png.rf.aa4b385dba5ed80054cf19ea5c1b397b.jpg     \b\b\b\b 73%\b\b\b\b\b  OK \n",
            "Extracting  /content/dataset_2/train/noncaries/Frame-361_jpg_tooth_1_png.rf.6caad6d6cf9d250a57045c45a99087d6.jpg     \b\b\b\b 73%\b\b\b\b\b  OK \n",
            "Extracting  /content/dataset_2/train/noncaries/Frame-361_jpg_tooth_2_png.rf.5b61c828e45ba73af1bab405753a5804.jpg     \b\b\b\b 74%\b\b\b\b\b  OK \n",
            "Extracting  /content/dataset_2/train/noncaries/Frame-361_jpg_tooth_3_png.rf.ef463130c5e8e6829ebd5c8ff846355a.jpg     \b\b\b\b 74%\b\b\b\b\b  OK \n",
            "Extracting  /content/dataset_2/train/noncaries/Frame-362_jpg_tooth_0_png.rf.132a36d9959481da8b9e4a0ff3e4f99f.jpg     \b\b\b\b 74%\b\b\b\b\b  OK \n",
            "Extracting  /content/dataset_2/train/noncaries/Frame-362_jpg_tooth_1_png.rf.f7d472e72ddd6c99a60026f28bf24244.jpg     \b\b\b\b 74%\b\b\b\b\b  OK \n",
            "Extracting  /content/dataset_2/train/noncaries/Frame-364_jpg_tooth_0_png.rf.1eb787c92055b314dacd598c12f0e642.jpg     \b\b\b\b 74%\b\b\b\b\b  OK \n",
            "Extracting  /content/dataset_2/train/noncaries/Frame-365_jpg_tooth_1_png.rf.bc3eedee85ea6cf4603759dd71625db3.jpg     \b\b\b\b 74%\b\b\b\b\b  OK \n",
            "Extracting  /content/dataset_2/train/noncaries/Frame-366_jpg_tooth_1_png.rf.1bbfd1a0434e66a2ce14be5be61af99b.jpg     \b\b\b\b 74%\b\b\b\b\b  OK \n",
            "Extracting  /content/dataset_2/train/noncaries/Frame-369_jpg_tooth_0_png.rf.32bfd5deea6cdee243500d33072c71db.jpg     \b\b\b\b 74%\b\b\b\b\b  OK \n",
            "Extracting  /content/dataset_2/train/noncaries/Frame-369_jpg_tooth_1_png.rf.520e697c23bccacb583ac0d6dc2474b6.jpg     \b\b\b\b 74%\b\b\b\b\b  OK \n",
            "Extracting  /content/dataset_2/train/noncaries/Frame-371_jpg_tooth_0_png.rf.2f820f5a5c3d4dd8d944467bae781353.jpg     \b\b\b\b 74%\b\b\b\b\b  OK \n",
            "Extracting  /content/dataset_2/train/noncaries/Frame-371_jpg_tooth_1_png.rf.3cb927be78ff043b55ebfbb94b6a8bd0.jpg     \b\b\b\b 74%\b\b\b\b\b  OK \n",
            "Extracting  /content/dataset_2/train/noncaries/Frame-372_jpg_tooth_0_png.rf.bddb4a5d81e117304b2b9e6e1335947e.jpg     \b\b\b\b 74%\b\b\b\b\b  OK \n",
            "Extracting  /content/dataset_2/train/noncaries/Frame-372_jpg_tooth_1_png.rf.4a188d72104e1b1f50b4ca811a221842.jpg     \b\b\b\b 74%\b\b\b\b\b  OK \n",
            "Extracting  /content/dataset_2/train/noncaries/Frame-373_jpg_tooth_0_png.rf.d4ff0babd603e0574bbb0aeb70a36c51.jpg     \b\b\b\b 74%\b\b\b\b\b  OK \n",
            "Extracting  /content/dataset_2/train/noncaries/Frame-373_jpg_tooth_1_png.rf.107bc7fc0b4e3eb5b991ccb9ab4598e0.jpg     \b\b\b\b 74%\b\b\b\b\b  OK \n",
            "Extracting  /content/dataset_2/train/noncaries/Frame-374_jpg_tooth_0_png.rf.db026234a33ff9b14ac13713549586cd.jpg     \b\b\b\b 74%\b\b\b\b\b  OK \n",
            "Extracting  /content/dataset_2/train/noncaries/Frame-374_jpg_tooth_1_png.rf.558cbfd8d81b17c64c789f5b81515022.jpg     \b\b\b\b 74%\b\b\b\b\b  OK \n",
            "Extracting  /content/dataset_2/train/noncaries/Frame-385_jpg_tooth_0_png.rf.f0c85e537ece6e66a0c7d27692d89e76.jpg     \b\b\b\b 74%\b\b\b\b\b  OK \n",
            "Extracting  /content/dataset_2/train/noncaries/Frame-385_jpg_tooth_1_png.rf.8cc5f8fbd2a9ecdf12465c5a026fe640.jpg     \b\b\b\b 74%\b\b\b\b\b  OK \n",
            "Extracting  /content/dataset_2/train/noncaries/Frame-389_jpg_tooth_2_png.rf.26fd967ab71834696309a94faba4990c.jpg     \b\b\b\b 74%\b\b\b\b\b  OK \n",
            "Extracting  /content/dataset_2/train/noncaries/Frame-391_jpg_tooth_0_png.rf.eab535179fe721d0b114d9817f32248e.jpg     \b\b\b\b 75%\b\b\b\b\b  OK \n",
            "Extracting  /content/dataset_2/train/noncaries/Frame-392_jpg_tooth_0_png.rf.74c75fb387cd8b7a1953cdcc9e5fcb44.jpg     \b\b\b\b 75%\b\b\b\b\b  OK \n",
            "Extracting  /content/dataset_2/train/noncaries/Frame-393_jpg_tooth_0_png.rf.14a924240bdba2132c1ad0f6a3cd1f18.jpg     \b\b\b\b 75%\b\b\b\b\b  OK \n",
            "Extracting  /content/dataset_2/train/noncaries/Frame-393_jpg_tooth_1_png.rf.dbd75d6df754a2db39c703b0dc3511ca.jpg     \b\b\b\b 75%\b\b\b\b\b  OK \n",
            "Extracting  /content/dataset_2/train/noncaries/Frame-394_jpg_tooth_1_png.rf.66a85975df03e39e3e5166f65212a8c5.jpg     \b\b\b\b 75%\b\b\b\b\b  OK \n",
            "Extracting  /content/dataset_2/train/noncaries/Frame-395_jpg_tooth_1_png.rf.8670c49fcd99ac41a2adc174aaf5a176.jpg     \b\b\b\b 75%\b\b\b\b\b  OK \n",
            "Extracting  /content/dataset_2/train/noncaries/Frame-396_jpg_tooth_0_png.rf.a72a5374de5efe4441ed6a83b5e0de28.jpg     \b\b\b\b 75%\b\b\b\b\b  OK \n",
            "Extracting  /content/dataset_2/train/noncaries/Frame-397_jpg_tooth_0_png.rf.c342ef0240f9ea0ae699357ebbd67602.jpg     \b\b\b\b 75%\b\b\b\b\b  OK \n",
            "Extracting  /content/dataset_2/train/noncaries/Frame-397_jpg_tooth_1_png.rf.6f3391a40995fed3ae4fd6e090007add.jpg     \b\b\b\b 75%\b\b\b\b\b  OK \n",
            "Extracting  /content/dataset_2/train/noncaries/Frame-398_jpg_tooth_0_png.rf.57e4c72b023657c861879afa491aae20.jpg     \b\b\b\b 75%\b\b\b\b\b  OK \n",
            "Extracting  /content/dataset_2/train/noncaries/Frame-398_jpg_tooth_2_png.rf.067e09f3bfa14f93c450f25975fcbf6f.jpg     \b\b\b\b 75%\b\b\b\b\b  OK \n",
            "Extracting  /content/dataset_2/train/noncaries/Frame-399_jpg_tooth_0_png.rf.4c783693c9fa96c1f50a101cdda74134.jpg     \b\b\b\b 75%\b\b\b\b\b  OK \n",
            "Extracting  /content/dataset_2/train/noncaries/Frame-399_jpg_tooth_1_png.rf.053a4dc699cec7719ed6bf6aa6e956e8.jpg     \b\b\b\b 75%\b\b\b\b\b  OK \n",
            "Extracting  /content/dataset_2/train/noncaries/Frame-411_jpg_tooth_1_png.rf.8e10e9a4a40ec41050ac9b92c8e60a33.jpg     \b\b\b\b 75%\b\b\b\b\b  OK \n",
            "Extracting  /content/dataset_2/train/noncaries/Frame-411_jpg_tooth_2_png.rf.c2ccd9c340360d8a2664b78acd2cde15.jpg     \b\b\b\b 75%\b\b\b\b\b  OK \n",
            "Extracting  /content/dataset_2/train/noncaries/Frame-412_jpg_tooth_1_png.rf.e0548f22736347c2cedd24a30e2da09f.jpg     \b\b\b\b 75%\b\b\b\b\b  OK \n",
            "Extracting  /content/dataset_2/train/noncaries/Frame-415_jpg_tooth_1_png.rf.2481d61c9b00b65ea7211a740fedae51.jpg     \b\b\b\b 75%\b\b\b\b\b  OK \n",
            "Extracting  /content/dataset_2/train/noncaries/Frame-415_jpg_tooth_3_png.rf.7cdbc3938a6677e25410338e6e19d2c0.jpg     \b\b\b\b 75%\b\b\b\b\b  OK \n",
            "Extracting  /content/dataset_2/train/noncaries/Frame-416_jpg_tooth_0_png.rf.def08307d117f746f2ffa3c55211028a.jpg     \b\b\b\b 75%\b\b\b\b\b  OK \n",
            "Extracting  /content/dataset_2/train/noncaries/Frame-416_jpg_tooth_1_png.rf.4d5d24e32828feff0ccdc98690864437.jpg     \b\b\b\b 76%\b\b\b\b\b  OK \n",
            "Extracting  /content/dataset_2/train/noncaries/Frame-417_jpg_tooth_0_png.rf.b5eabec88418b8fd7b6ebac14e948461.jpg     \b\b\b\b 76%\b\b\b\b\b  OK \n",
            "Extracting  /content/dataset_2/train/noncaries/Frame-417_jpg_tooth_1_png.rf.2c9791ee1ae0a57ea781f7b45061b207.jpg     \b\b\b\b 76%\b\b\b\b\b  OK \n",
            "Extracting  /content/dataset_2/train/noncaries/Frame-417_jpg_tooth_2_png.rf.72199bb43f06fdbc366d6b361b0570d6.jpg     \b\b\b\b 76%\b\b\b\b\b  OK \n",
            "Extracting  /content/dataset_2/train/noncaries/Frame-417_jpg_tooth_3_png.rf.e189a92e3ec1c6c6155e8a8d5367a07a.jpg     \b\b\b\b 76%\b\b\b\b\b  OK \n",
            "Extracting  /content/dataset_2/train/noncaries/Frame-418_jpg_tooth_1_png.rf.d750950f9e7d664d9ca8efce360a5f7b.jpg     \b\b\b\b 76%\b\b\b\b\b  OK \n",
            "Extracting  /content/dataset_2/train/noncaries/Frame-418_jpg_tooth_2_png.rf.5baa8ca16aff17203f1c108d75c6956f.jpg     \b\b\b\b 76%\b\b\b\b\b  OK \n",
            "Extracting  /content/dataset_2/train/noncaries/Frame-419_jpg_tooth_0_png.rf.67bd2df1818db29b1d3d8d6cb6f74ffb.jpg     \b\b\b\b 76%\b\b\b\b\b  OK \n",
            "Extracting  /content/dataset_2/train/noncaries/Frame-420_jpg_tooth_0_png.rf.e4f936713175773d9182ad7cabbc054f.jpg     \b\b\b\b 76%\b\b\b\b\b  OK \n",
            "Extracting  /content/dataset_2/train/noncaries/Frame-420_jpg_tooth_1_png.rf.1817c872283f80e1f95636141077d180.jpg     \b\b\b\b 76%\b\b\b\b\b  OK \n",
            "Extracting  /content/dataset_2/train/noncaries/Frame-421_jpg_tooth_1_png.rf.7a09e0e2814bb0a25c790df060daa185.jpg     \b\b\b\b 76%\b\b\b\b\b  OK \n",
            "Extracting  /content/dataset_2/train/noncaries/Frame-425_jpg_tooth_0_png.rf.c15680ebee1e3c1f75f1fe386fd3d3ea.jpg     \b\b\b\b 76%\b\b\b\b\b  OK \n",
            "Extracting  /content/dataset_2/train/noncaries/Frame-425_jpg_tooth_1_png.rf.0582d199c11a3671b2f7efc98974ae3d.jpg     \b\b\b\b 76%\b\b\b\b\b  OK \n",
            "Extracting  /content/dataset_2/train/noncaries/Frame-426_jpg_tooth_0_png.rf.6da7e8dafba588f933b80b3dcc2cb7d1.jpg     \b\b\b\b 76%\b\b\b\b\b  OK \n",
            "Extracting  /content/dataset_2/train/noncaries/healthy-1-_png_tooth_0_png.rf.81b49219885c86e31a22c675d3f36537.jpg     \b\b\b\b 76%\b\b\b\b\b  OK \n",
            "Extracting  /content/dataset_2/train/noncaries/healthy-1-_png_tooth_2_png.rf.69c83a7c3b5448ce26e68fe9eb2f9e85.jpg     \b\b\b\b 76%\b\b\b\b\b  OK \n",
            "Extracting  /content/dataset_2/train/noncaries/healthy-10-_png_tooth_0_png.rf.9d785a48b1cb4cda2426ef810c363a43.jpg     \b\b\b\b 76%\b\b\b\b\b  OK \n",
            "Extracting  /content/dataset_2/train/noncaries/healthy-10-_png_tooth_1_png.rf.8df495e6822fa8c4a4942100842153f4.jpg     \b\b\b\b 76%\b\b\b\b\b  OK \n",
            "Extracting  /content/dataset_2/train/noncaries/healthy-10-_png_tooth_3_png.rf.21d05a6a2ff991d46f305002b01e41b1.jpg     \b\b\b\b 77%\b\b\b\b\b  OK \n",
            "Extracting  /content/dataset_2/train/noncaries/healthy-100-_png_tooth_0_png.rf.a38dcf2acdc4eb280c47729b34d6f720.jpg     \b\b\b\b 77%\b\b\b\b\b  OK \n",
            "Extracting  /content/dataset_2/train/noncaries/healthy-100-_png_tooth_1_png.rf.9d21d641bbf088b9cac16d88d9703d45.jpg     \b\b\b\b 77%\b\b\b\b\b  OK \n",
            "Extracting  /content/dataset_2/train/noncaries/healthy-101-_png_tooth_0_png.rf.549ab963ea0eb2e4e4bef8f66dfc75af.jpg     \b\b\b\b 77%\b\b\b\b\b  OK \n",
            "Extracting  /content/dataset_2/train/noncaries/healthy-101-_png_tooth_1_png.rf.817979c3c0e70820922b8275a0430b44.jpg     \b\b\b\b 77%\b\b\b\b\b  OK \n",
            "Extracting  /content/dataset_2/train/noncaries/healthy-102-_png_tooth_0_png.rf.6568329c6f93b5cae4abe79a66e7fe74.jpg     \b\b\b\b 77%\b\b\b\b\b  OK \n",
            "Extracting  /content/dataset_2/train/noncaries/healthy-103-_png_tooth_0_png.rf.5dc6aff5d891285b8121cc22b3c5dae5.jpg     \b\b\b\b 77%\b\b\b\b\b  OK \n",
            "Extracting  /content/dataset_2/train/noncaries/healthy-103-_png_tooth_1_png.rf.b813f43d3d17d7480f98b7b3de377577.jpg     \b\b\b\b 77%\b\b\b\b\b  OK \n",
            "Extracting  /content/dataset_2/train/noncaries/healthy-105-_png_tooth_0_png.rf.44b8fcad2c29db5cd62edf0b993af823.jpg     \b\b\b\b 77%\b\b\b\b\b  OK \n",
            "Extracting  /content/dataset_2/train/noncaries/healthy-105-_png_tooth_1_png.rf.4b5fccfeb1436028057928e25f739682.jpg     \b\b\b\b 77%\b\b\b\b\b  OK \n",
            "Extracting  /content/dataset_2/train/noncaries/healthy-106-_png_tooth_0_png.rf.d8dc04507f10a3b119aaa29a14e8394a.jpg     \b\b\b\b 77%\b\b\b\b\b  OK \n",
            "Extracting  /content/dataset_2/train/noncaries/healthy-107-_png_tooth_0_png.rf.1e9bf5960124597a431a54e037a730ae.jpg     \b\b\b\b 77%\b\b\b\b\b  OK \n",
            "Extracting  /content/dataset_2/train/noncaries/healthy-108-_png_tooth_0_png.rf.dfd38b098f92546b067e44324b9a35d8.jpg     \b\b\b\b 77%\b\b\b\b\b  OK \n",
            "Extracting  /content/dataset_2/train/noncaries/healthy-109-_png_tooth_0_png.rf.e044f0d495a233d6d070e1af6dfdf00f.jpg     \b\b\b\b 77%\b\b\b\b\b  OK \n",
            "Extracting  /content/dataset_2/train/noncaries/healthy-109-_png_tooth_1_png.rf.442377df537a6c86b7883a9832e7080f.jpg     \b\b\b\b 77%\b\b\b\b\b  OK \n",
            "Extracting  /content/dataset_2/train/noncaries/healthy-11-_png_tooth_0_png.rf.96fbb877abfe65b743e0cab6313a79c2.jpg     \b\b\b\b 77%\b\b\b\b\b  OK \n",
            "Extracting  /content/dataset_2/train/noncaries/healthy-11-_png_tooth_2_png.rf.783044dd73ca75cef7aee73052a5996a.jpg     \b\b\b\b 77%\b\b\b\b\b  OK \n",
            "Extracting  /content/dataset_2/train/noncaries/healthy-110-_png_tooth_0_png.rf.72e4e758bf1cceeeec6f2b48f03509ab.jpg     \b\b\b\b 78%\b\b\b\b\b  OK \n",
            "Extracting  /content/dataset_2/train/noncaries/healthy-111-_png_tooth_0_png.rf.34dbf4c31d30225a0ed6034b7fd58e0d.jpg     \b\b\b\b 78%\b\b\b\b\b  OK \n",
            "Extracting  /content/dataset_2/train/noncaries/healthy-111-_png_tooth_1_png.rf.b1659dbafd53b34f2cab63ca8444484e.jpg     \b\b\b\b 78%\b\b\b\b\b  OK \n",
            "Extracting  /content/dataset_2/train/noncaries/healthy-112-_png_tooth_0_png.rf.d3e1729a4bd4030c2be3a8e6b834ab46.jpg     \b\b\b\b 78%\b\b\b\b\b  OK \n",
            "Extracting  /content/dataset_2/train/noncaries/healthy-113-_png_tooth_0_png.rf.c0e381e3e1e95269418d29a4314aaf4e.jpg     \b\b\b\b 78%\b\b\b\b\b  OK \n",
            "Extracting  /content/dataset_2/train/noncaries/healthy-113-_png_tooth_1_png.rf.fc4557244da0d02f034dfc6490b5fa62.jpg     \b\b\b\b 78%\b\b\b\b\b  OK \n",
            "Extracting  /content/dataset_2/train/noncaries/healthy-114-_png_tooth_0_png.rf.8f3349f3d5769d0ae0a6757b81cf4fff.jpg     \b\b\b\b 78%\b\b\b\b\b  OK \n",
            "Extracting  /content/dataset_2/train/noncaries/healthy-116-_png_tooth_0_png.rf.0e7f4babc38b6e4aa5579e270d689359.jpg     \b\b\b\b 78%\b\b\b\b\b  OK \n",
            "Extracting  /content/dataset_2/train/noncaries/healthy-118-_png_tooth_0_png.rf.ae6af288c9f83f9685cbf32f4eedb965.jpg     \b\b\b\b 78%\b\b\b\b\b  OK \n",
            "Extracting  /content/dataset_2/train/noncaries/healthy-118-_png_tooth_1_png.rf.04490ad60326bde96cbb2269cce5ce7c.jpg     \b\b\b\b 78%\b\b\b\b\b  OK \n",
            "Extracting  /content/dataset_2/train/noncaries/healthy-119-_png_tooth_0_png.rf.4323095c67f61c194322eb1dba0cd727.jpg     \b\b\b\b 78%\b\b\b\b\b  OK \n",
            "Extracting  /content/dataset_2/train/noncaries/healthy-12-_png_tooth_0_png.rf.09626f1e41c7e4d005bbae4a8233424a.jpg     \b\b\b\b 78%\b\b\b\b\b  OK \n",
            "Extracting  /content/dataset_2/train/noncaries/healthy-12-_png_tooth_1_png.rf.a2f703f95da3db1ee4e6a82da150fd81.jpg     \b\b\b\b 78%\b\b\b\b\b  OK \n",
            "Extracting  /content/dataset_2/train/noncaries/healthy-12-_png_tooth_2_png.rf.08d1cbe91fbe310de1f96c4d90aba108.jpg     \b\b\b\b 78%\b\b\b\b\b  OK \n",
            "Extracting  /content/dataset_2/train/noncaries/healthy-120-_png_tooth_0_png.rf.8b5253e07daf27037bc1e1a33a4644ad.jpg     \b\b\b\b 78%\b\b\b\b\b  OK \n",
            "Extracting  /content/dataset_2/train/noncaries/healthy-121-_png_tooth_1_png.rf.2d15e493fbeeb939879eb18fe171c9fd.jpg     \b\b\b\b 78%\b\b\b\b\b  OK \n",
            "Extracting  /content/dataset_2/train/noncaries/healthy-122-_png_tooth_1_png.rf.a2bfc4a1ef2954ca80f08536b8720a46.jpg     \b\b\b\b 78%\b\b\b\b\b  OK \n",
            "Extracting  /content/dataset_2/train/noncaries/healthy-123-_png_tooth_2_png.rf.3861c4f0c9573fc58b5db2f421b709fb.jpg     \b\b\b\b 78%\b\b\b\b\b  OK \n",
            "Extracting  /content/dataset_2/train/noncaries/healthy-124-_png_tooth_0_png.rf.968bfd2c234d50e375be3558daca4ce7.jpg     \b\b\b\b 78%\b\b\b\b\b  OK \n",
            "Extracting  /content/dataset_2/train/noncaries/healthy-124-_png_tooth_1_png.rf.e7d117383ecd4d550a569426799526be.jpg     \b\b\b\b 78%\b\b\b\b\b  OK \n",
            "Extracting  /content/dataset_2/train/noncaries/healthy-124-_png_tooth_2_png.rf.2eb295733d10b2c3c9a4994690b77be4.jpg     \b\b\b\b 79%\b\b\b\b\b  OK \n",
            "Extracting  /content/dataset_2/train/noncaries/healthy-125-_png_tooth_0_png.rf.0ab418dc47bb83862ae3ae42817db433.jpg     \b\b\b\b 79%\b\b\b\b\b  OK \n",
            "Extracting  /content/dataset_2/train/noncaries/healthy-126-_png_tooth_0_png.rf.dd6602debd9bedc729213688aa0dd641.jpg     \b\b\b\b 79%\b\b\b\b\b  OK \n",
            "Extracting  /content/dataset_2/train/noncaries/healthy-127-_png_tooth_0_png.rf.422bbea21f856a947fda6dafd9abfd69.jpg     \b\b\b\b 79%\b\b\b\b\b  OK \n",
            "Extracting  /content/dataset_2/train/noncaries/healthy-128-_png_tooth_0_png.rf.9f6631026ecd548d069f0086a57ae0c7.jpg     \b\b\b\b 79%\b\b\b\b\b  OK \n",
            "Extracting  /content/dataset_2/train/noncaries/healthy-128-_png_tooth_1_png.rf.2a36bc3554866114db1584b122ea6024.jpg     \b\b\b\b 79%\b\b\b\b\b  OK \n",
            "Extracting  /content/dataset_2/train/noncaries/healthy-129-_png_tooth_0_png.rf.75b85e071ae95eb0e3709a6c6da44c1a.jpg     \b\b\b\b 79%\b\b\b\b\b  OK \n",
            "Extracting  /content/dataset_2/train/noncaries/healthy-129-_png_tooth_1_png.rf.a2efc9727acceeaa2108e8801265bb64.jpg     \b\b\b\b 79%\b\b\b\b\b  OK \n",
            "Extracting  /content/dataset_2/train/noncaries/healthy-13-_png_tooth_0_png.rf.2cb8ce8f21e15afaafaf2f8818d5269f.jpg     \b\b\b\b 79%\b\b\b\b\b  OK \n",
            "Extracting  /content/dataset_2/train/noncaries/healthy-13-_png_tooth_1_png.rf.ecbd93d75e3c19996bab67600a44ff93.jpg     \b\b\b\b 79%\b\b\b\b\b  OK \n",
            "Extracting  /content/dataset_2/train/noncaries/healthy-13-_png_tooth_2_png.rf.2f683185e22e13f578f15a2b133e1e02.jpg     \b\b\b\b 79%\b\b\b\b\b  OK \n",
            "Extracting  /content/dataset_2/train/noncaries/healthy-130-_png_tooth_0_png.rf.50dce649d869efaebe41572f2e387635.jpg     \b\b\b\b 79%\b\b\b\b\b  OK \n",
            "Extracting  /content/dataset_2/train/noncaries/healthy-130-_png_tooth_1_png.rf.b19bb935b0bfa0bda714a3014fa6203d.jpg     \b\b\b\b 79%\b\b\b\b\b  OK \n",
            "Extracting  /content/dataset_2/train/noncaries/healthy-131-_png_tooth_0_png.rf.173eef5d7dcdad957390a95d5fd3ac89.jpg     \b\b\b\b 79%\b\b\b\b\b  OK \n",
            "Extracting  /content/dataset_2/train/noncaries/healthy-131-_png_tooth_2_png.rf.7adc4eaa46d867f16cdd7a26c5f408f5.jpg     \b\b\b\b 79%\b\b\b\b\b  OK \n",
            "Extracting  /content/dataset_2/train/noncaries/healthy-132-_png_tooth_0_png.rf.f6547010e4353f8694ba81ae509abc93.jpg     \b\b\b\b 79%\b\b\b\b\b  OK \n",
            "Extracting  /content/dataset_2/train/noncaries/healthy-132-_png_tooth_1_png.rf.bb4aa85d09c7dcf115260bde01a689ef.jpg     \b\b\b\b 79%\b\b\b\b\b  OK \n",
            "Extracting  /content/dataset_2/train/noncaries/healthy-132-_png_tooth_2_png.rf.3c1c86fc1df4e2b9fd183a7d2ce84326.jpg     \b\b\b\b 79%\b\b\b\b\b  OK \n",
            "Extracting  /content/dataset_2/train/noncaries/healthy-133-_png_tooth_0_png.rf.17584f05b16106cfe554bd4a0d36253a.jpg     \b\b\b\b 79%\b\b\b\b\b  OK \n",
            "Extracting  /content/dataset_2/train/noncaries/healthy-133-_png_tooth_2_png.rf.3abf9e3b671f5074562dc0a1b5f0453d.jpg     \b\b\b\b 79%\b\b\b\b\b  OK \n",
            "Extracting  /content/dataset_2/train/noncaries/healthy-134-_png_tooth_1_png.rf.eccac5720d7fe16dc8a9b58a6c9a96f6.jpg     \b\b\b\b 80%\b\b\b\b\b  OK \n",
            "Extracting  /content/dataset_2/train/noncaries/healthy-134-_png_tooth_2_png.rf.0bcc397174fbcee872313e981d638bac.jpg     \b\b\b\b 80%\b\b\b\b\b  OK \n",
            "Extracting  /content/dataset_2/train/noncaries/healthy-134-_png_tooth_3_png.rf.49fc464c83f2607ab75cb6c376a338a1.jpg     \b\b\b\b 80%\b\b\b\b\b  OK \n",
            "Extracting  /content/dataset_2/train/noncaries/healthy-135-_png_tooth_0_png.rf.796b2eceb5699cd701764c6b20183c1f.jpg     \b\b\b\b 80%\b\b\b\b\b  OK \n",
            "Extracting  /content/dataset_2/train/noncaries/healthy-135-_png_tooth_1_png.rf.5edd0be234b6cea81054dbb01f4eadfb.jpg     \b\b\b\b 80%\b\b\b\b\b  OK \n",
            "Extracting  /content/dataset_2/train/noncaries/healthy-136-_png_tooth_0_png.rf.e393eec8bc9b7846884d028c0808a530.jpg     \b\b\b\b 80%\b\b\b\b\b  OK \n",
            "Extracting  /content/dataset_2/train/noncaries/healthy-136-_png_tooth_1_png.rf.b6679245bb866f642979ff6576500533.jpg     \b\b\b\b 80%\b\b\b\b\b  OK \n",
            "Extracting  /content/dataset_2/train/noncaries/healthy-137-_png_tooth_0_png.rf.e8d44226dee680439c5b93a505a65f2f.jpg     \b\b\b\b 80%\b\b\b\b\b  OK \n",
            "Extracting  /content/dataset_2/train/noncaries/healthy-137-_png_tooth_1_png.rf.bf82bf55ade766908911f4fb040502fc.jpg     \b\b\b\b 80%\b\b\b\b\b  OK \n",
            "Extracting  /content/dataset_2/train/noncaries/healthy-138-_png_tooth_0_png.rf.336fa07f2106cb1293243a926c5ddf23.jpg     \b\b\b\b 80%\b\b\b\b\b  OK \n",
            "Extracting  /content/dataset_2/train/noncaries/healthy-138-_png_tooth_1_png.rf.800aad46c08d30a52f9a087b729710ac.jpg     \b\b\b\b 80%\b\b\b\b\b  OK \n",
            "Extracting  /content/dataset_2/train/noncaries/healthy-139-_png_tooth_2_png.rf.1a5cf768b7d6508fd9aa5386156dd181.jpg     \b\b\b\b 80%\b\b\b\b\b  OK \n",
            "Extracting  /content/dataset_2/train/noncaries/healthy-14-_png_tooth_0_png.rf.35ac81323c4fcee513e30b9d2a70fa78.jpg     \b\b\b\b 80%\b\b\b\b\b  OK \n",
            "Extracting  /content/dataset_2/train/noncaries/healthy-14-_png_tooth_1_png.rf.b9a7000c832da5e311d5f0fcb2c7e013.jpg     \b\b\b\b 80%\b\b\b\b\b  OK \n",
            "Extracting  /content/dataset_2/train/noncaries/healthy-140-_png_tooth_0_png.rf.69beb3750d24b172f6ffa69d58969e71.jpg     \b\b\b\b 80%\b\b\b\b\b  OK \n",
            "Extracting  /content/dataset_2/train/noncaries/healthy-140-_png_tooth_1_png.rf.2d70ab37c773ac9121a88f3195bb00a6.jpg     \b\b\b\b 80%\b\b\b\b\b  OK \n",
            "Extracting  /content/dataset_2/train/noncaries/healthy-141-_png_tooth_1_png.rf.8d5b4259e6e862025fcc6d3ae84315aa.jpg     \b\b\b\b 80%\b\b\b\b\b  OK \n",
            "Extracting  /content/dataset_2/train/noncaries/healthy-142-_png_tooth_0_png.rf.19f5d3882a7abed71cdf13f799e2f0e8.jpg     \b\b\b\b 80%\b\b\b\b\b  OK \n",
            "Extracting  /content/dataset_2/train/noncaries/healthy-142-_png_tooth_1_png.rf.0f471851895e7d9aff172dd854e68ffb.jpg     \b\b\b\b 80%\b\b\b\b\b  OK \n",
            "Extracting  /content/dataset_2/train/noncaries/healthy-143-_png_tooth_0_png.rf.d2aa74675021d8e6f02f2a218586f4dc.jpg     \b\b\b\b 80%\b\b\b\b\b  OK \n",
            "Extracting  /content/dataset_2/train/noncaries/healthy-145-_png_tooth_0_png.rf.fc41f820379a21f11e7fdfff50a1acc3.jpg     \b\b\b\b 80%\b\b\b\b\b  OK \n",
            "Extracting  /content/dataset_2/train/noncaries/healthy-146-_png_tooth_0_png.rf.a01b642c5e24c256390894f1a628dc0b.jpg     \b\b\b\b 80%\b\b\b\b\b  OK \n",
            "Extracting  /content/dataset_2/train/noncaries/healthy-146-_png_tooth_1_png.rf.756af65fbb763a079b95f4ebd8a779be.jpg     \b\b\b\b 80%\b\b\b\b\b  OK \n",
            "Extracting  /content/dataset_2/train/noncaries/healthy-147-_png_tooth_1_png.rf.dfeb90bc8bf94852c54c8e92a5778201.jpg     \b\b\b\b 81%\b\b\b\b\b  OK \n",
            "Extracting  /content/dataset_2/train/noncaries/healthy-147-_png_tooth_2_png.rf.d6b1cc4c54d707b631edf32e81b29496.jpg     \b\b\b\b 81%\b\b\b\b\b  OK \n",
            "Extracting  /content/dataset_2/train/noncaries/healthy-149-_png_tooth_1_png.rf.129d00adef4be1a2146e1afd9f75cef7.jpg     \b\b\b\b 81%\b\b\b\b\b  OK \n",
            "Extracting  /content/dataset_2/train/noncaries/healthy-15-_png_tooth_1_png.rf.5baaad9ce919f5b57a1860778571dcc8.jpg     \b\b\b\b 81%\b\b\b\b\b  OK \n",
            "Extracting  /content/dataset_2/train/noncaries/healthy-150-_png_tooth_0_png.rf.8e652e4a9a8624611fe3e605a32d268d.jpg     \b\b\b\b 81%\b\b\b\b\b  OK \n",
            "Extracting  /content/dataset_2/train/noncaries/healthy-150-_png_tooth_1_png.rf.b3390e61d3a1ce6071168c0c59e38429.jpg     \b\b\b\b 81%\b\b\b\b\b  OK \n",
            "Extracting  /content/dataset_2/train/noncaries/healthy-151-_png_tooth_0_png.rf.eeab51802681440dcb9cf700df927908.jpg     \b\b\b\b 81%\b\b\b\b\b  OK \n",
            "Extracting  /content/dataset_2/train/noncaries/healthy-151-_png_tooth_1_png.rf.6a213295cbfa40c2143cd571a9b4826a.jpg     \b\b\b\b 81%\b\b\b\b\b  OK \n",
            "Extracting  /content/dataset_2/train/noncaries/healthy-152-_png_tooth_0_png.rf.4ac2f94d79fda617ba4f9a3ef2978ff6.jpg     \b\b\b\b 81%\b\b\b\b\b  OK \n",
            "Extracting  /content/dataset_2/train/noncaries/healthy-154-_png_tooth_1_png.rf.5fcbddf50db6ebe25832d1f5b1b19cbe.jpg     \b\b\b\b 81%\b\b\b\b\b  OK \n",
            "Extracting  /content/dataset_2/train/noncaries/healthy-155-_png_tooth_0_png.rf.de88e298175d68e7f6341301bad778ab.jpg     \b\b\b\b 81%\b\b\b\b\b  OK \n",
            "Extracting  /content/dataset_2/train/noncaries/healthy-156-_png_tooth_0_png.rf.3182c2241dcded1ab5b0bc2548809655.jpg     \b\b\b\b 81%\b\b\b\b\b  OK \n",
            "Extracting  /content/dataset_2/train/noncaries/healthy-156-_png_tooth_2_png.rf.8d71a1e52dea4d68e6e1d404734350fd.jpg     \b\b\b\b 81%\b\b\b\b\b  OK \n",
            "Extracting  /content/dataset_2/train/noncaries/healthy-157-_png_tooth_0_png.rf.ef31c25cc7f2a82642e3247327f268aa.jpg     \b\b\b\b 81%\b\b\b\b\b  OK \n",
            "Extracting  /content/dataset_2/train/noncaries/healthy-157-_png_tooth_2_png.rf.96aa589f00f214accd2244fcf3c3ffdf.jpg     \b\b\b\b 81%\b\b\b\b\b  OK \n",
            "Extracting  /content/dataset_2/train/noncaries/healthy-158-_png_tooth_1_png.rf.72f2c9bb036db5fbdc975afd504465b8.jpg     \b\b\b\b 81%\b\b\b\b\b  OK \n",
            "Extracting  /content/dataset_2/train/noncaries/healthy-159-_png_tooth_0_png.rf.bf60e9e4fd9bdf1ed23e921edc1ec3f9.jpg     \b\b\b\b 81%\b\b\b\b\b  OK \n",
            "Extracting  /content/dataset_2/train/noncaries/healthy-159-_png_tooth_1_png.rf.2f6ac77f002ac423214f1d329d627fb3.jpg     \b\b\b\b 81%\b\b\b\b\b  OK \n",
            "Extracting  /content/dataset_2/train/noncaries/healthy-16-_png_tooth_0_png.rf.5a3acf84fd9a72659896bacefe9e9521.jpg     \b\b\b\b 82%\b\b\b\b\b  OK \n",
            "Extracting  /content/dataset_2/train/noncaries/healthy-160-_png_tooth_0_png.rf.45d5fae0c8de3fa4e5ae73872a62df59.jpg     \b\b\b\b 82%\b\b\b\b\b  OK \n",
            "Extracting  /content/dataset_2/train/noncaries/healthy-161-_png_tooth_0_png.rf.b62bc91d49e2c6434df3856c65028235.jpg     \b\b\b\b 82%\b\b\b\b\b  OK \n",
            "Extracting  /content/dataset_2/train/noncaries/healthy-161-_png_tooth_1_png.rf.f9d0af6ca28f46b521f70623d31e344e.jpg     \b\b\b\b 82%\b\b\b\b\b  OK \n",
            "Extracting  /content/dataset_2/train/noncaries/healthy-162-_png_tooth_0_png.rf.5598544f4efa1920312eab90237a7f67.jpg     \b\b\b\b 82%\b\b\b\b\b  OK \n",
            "Extracting  /content/dataset_2/train/noncaries/healthy-163-_png_tooth_1_png.rf.a6cc406d49c3b3dc4406462adcf29151.jpg     \b\b\b\b 82%\b\b\b\b\b  OK \n",
            "Extracting  /content/dataset_2/train/noncaries/healthy-164-_png_tooth_0_png.rf.48025b5f938ca08e65cec1b68d158174.jpg     \b\b\b\b 82%\b\b\b\b\b  OK \n",
            "Extracting  /content/dataset_2/train/noncaries/healthy-164-_png_tooth_1_png.rf.09610d5469e8514ba97e5b78cc49d056.jpg     \b\b\b\b 82%\b\b\b\b\b  OK \n",
            "Extracting  /content/dataset_2/train/noncaries/healthy-169-_png_tooth_0_png.rf.25f8ee7aab72b8686c52aba61fc411da.jpg     \b\b\b\b 82%\b\b\b\b\b  OK \n",
            "Extracting  /content/dataset_2/train/noncaries/healthy-17-_png_tooth_0_png.rf.2623338ae2893f6ec566e755c139cbf9.jpg     \b\b\b\b 82%\b\b\b\b\b  OK \n",
            "Extracting  /content/dataset_2/train/noncaries/healthy-17-_png_tooth_1_png.rf.8c4ddb81096be2cc711c2dda482b733c.jpg     \b\b\b\b 82%\b\b\b\b\b  OK \n",
            "Extracting  /content/dataset_2/train/noncaries/healthy-18-_png_tooth_0_png.rf.423475df369830f545f4c90531a80e1e.jpg     \b\b\b\b 82%\b\b\b\b\b  OK \n",
            "Extracting  /content/dataset_2/train/noncaries/healthy-18-_png_tooth_1_png.rf.faffd50b6aaba0c92e910f0d14497e8c.jpg     \b\b\b\b 82%\b\b\b\b\b  OK \n",
            "Extracting  /content/dataset_2/train/noncaries/healthy-19-_png_tooth_0_png.rf.5ac2852292a314a89dd587fa370e6fa0.jpg     \b\b\b\b 82%\b\b\b\b\b  OK \n",
            "Extracting  /content/dataset_2/train/noncaries/healthy-2-_png_tooth_1_png.rf.3414e250c203420e865a8b36e9332293.jpg     \b\b\b\b 82%\b\b\b\b\b  OK \n",
            "Extracting  /content/dataset_2/train/noncaries/healthy-2-_png_tooth_2_png.rf.2a502ceaba11b6ccdb111e11c89eefe5.jpg     \b\b\b\b 83%\b\b\b\b\b  OK \n",
            "Extracting  /content/dataset_2/train/noncaries/healthy-20-_png_tooth_1_png.rf.654fad7cedcc14348b9f6c62dafef477.jpg     \b\b\b\b 83%\b\b\b\b\b  OK \n",
            "Extracting  /content/dataset_2/train/noncaries/healthy-22-_png_tooth_0_png.rf.db782dfa94120218cf518b852129e61d.jpg     \b\b\b\b 83%\b\b\b\b\b  OK \n",
            "Extracting  /content/dataset_2/train/noncaries/healthy-23-_png_tooth_0_png.rf.a7ab54f55614c89709040c83ba694252.jpg     \b\b\b\b 83%\b\b\b\b\b  OK \n",
            "Extracting  /content/dataset_2/train/noncaries/healthy-23-_png_tooth_1_png.rf.f7997294c216fdf7b3f40eca3ef56056.jpg     \b\b\b\b 83%\b\b\b\b\b  OK \n",
            "Extracting  /content/dataset_2/train/noncaries/healthy-24-_png_tooth_1_png.rf.4c8145989b861f653f39b659110c6b07.jpg     \b\b\b\b 83%\b\b\b\b\b  OK \n",
            "Extracting  /content/dataset_2/train/noncaries/healthy-25-_png_tooth_0_png.rf.d613c31f2dd2a309827586473b1c8b60.jpg     \b\b\b\b 83%\b\b\b\b\b  OK \n",
            "Extracting  /content/dataset_2/train/noncaries/healthy-25-_png_tooth_1_png.rf.b48a8fb33ce76c7427b45c1bf1244004.jpg     \b\b\b\b 83%\b\b\b\b\b  OK \n",
            "Extracting  /content/dataset_2/train/noncaries/healthy-26-_png_tooth_0_png.rf.f0b9db83e2221f33027e9d0a4f36b034.jpg     \b\b\b\b 83%\b\b\b\b\b  OK \n",
            "Extracting  /content/dataset_2/train/noncaries/healthy-27-_png_tooth_0_png.rf.1cd976061a246273dc9cd44feaeae3b1.jpg     \b\b\b\b 83%\b\b\b\b\b  OK \n",
            "Extracting  /content/dataset_2/train/noncaries/healthy-29-_png_tooth_0_png.rf.4219e9ec100d9575a8c71bd0a5520a22.jpg     \b\b\b\b 83%\b\b\b\b\b  OK \n",
            "Extracting  /content/dataset_2/train/noncaries/healthy-29-_png_tooth_1_png.rf.0a64d40edf51e8e1c80b096653df5b97.jpg     \b\b\b\b 83%\b\b\b\b\b  OK \n",
            "Extracting  /content/dataset_2/train/noncaries/healthy-3-_png_tooth_0_png.rf.9d9f6ee18c56922e8011b1ffe8fb8883.jpg     \b\b\b\b 83%\b\b\b\b\b  OK \n",
            "Extracting  /content/dataset_2/train/noncaries/healthy-3-_png_tooth_1_png.rf.11223b19ff5a73dab1d8ce6917726d80.jpg     \b\b\b\b 83%\b\b\b\b\b  OK \n",
            "Extracting  /content/dataset_2/train/noncaries/healthy-30-_png_tooth_0_png.rf.1e15f0d7ef6368eb28a241dfba6ed3d1.jpg     \b\b\b\b 83%\b\b\b\b\b  OK \n",
            "Extracting  /content/dataset_2/train/noncaries/healthy-30-_png_tooth_2_png.rf.54ae297120d80444a510de1b0d2d427f.jpg     \b\b\b\b 83%\b\b\b\b\b  OK \n",
            "Extracting  /content/dataset_2/train/noncaries/healthy-31-_png_tooth_0_png.rf.1692e890aefac13c745bb3199a391ac1.jpg     \b\b\b\b 83%\b\b\b\b\b  OK \n",
            "Extracting  /content/dataset_2/train/noncaries/healthy-31-_png_tooth_1_png.rf.ac8e879466fef7a2fbcbf84fe2113c58.jpg     \b\b\b\b 83%\b\b\b\b\b  OK \n",
            "Extracting  /content/dataset_2/train/noncaries/healthy-32-_png_tooth_0_png.rf.417fd6dba11b33bc3e050576c75fb204.jpg     \b\b\b\b 84%\b\b\b\b\b  OK \n",
            "Extracting  /content/dataset_2/train/noncaries/healthy-33-_png_tooth_0_png.rf.9ffec244c1f61879de5376574ea058cc.jpg     \b\b\b\b 84%\b\b\b\b\b  OK \n",
            "Extracting  /content/dataset_2/train/noncaries/healthy-34-_png_tooth_0_png.rf.f70bb1fd169c744cf2e85830b3404869.jpg     \b\b\b\b 84%\b\b\b\b\b  OK \n",
            "Extracting  /content/dataset_2/train/noncaries/healthy-35-_png_tooth_0_png.rf.4375b8b6850e33174e5ca0eda0135679.jpg     \b\b\b\b 84%\b\b\b\b\b  OK \n",
            "Extracting  /content/dataset_2/train/noncaries/healthy-36-_png_tooth_1_png.rf.db1db5ef2f20a11307d299e1a227e099.jpg     \b\b\b\b 84%\b\b\b\b\b  OK \n",
            "Extracting  /content/dataset_2/train/noncaries/healthy-37-_png_tooth_0_png.rf.26e1507243487f038c49ae9a5bc71da1.jpg     \b\b\b\b 84%\b\b\b\b\b  OK \n",
            "Extracting  /content/dataset_2/train/noncaries/healthy-37-_png_tooth_1_png.rf.3970f83778ec11290fad26b2f25a006a.jpg     \b\b\b\b 84%\b\b\b\b\b  OK \n",
            "Extracting  /content/dataset_2/train/noncaries/healthy-37-_png_tooth_2_png.rf.84fe83315cfe03463b7261119cdd8863.jpg     \b\b\b\b 84%\b\b\b\b\b  OK \n",
            "Extracting  /content/dataset_2/train/noncaries/healthy-38-_png_tooth_0_png.rf.796808643340f6d352aced1fb7f26e89.jpg     \b\b\b\b 84%\b\b\b\b\b  OK \n",
            "Extracting  /content/dataset_2/train/noncaries/healthy-39-_png_tooth_0_png.rf.96a2bcb6aff367b8a726993fcfd6a3aa.jpg     \b\b\b\b 84%\b\b\b\b\b  OK \n",
            "Extracting  /content/dataset_2/train/noncaries/healthy-4-_png_tooth_0_png.rf.99b9cff3e2b929d573e54fa6f26faea6.jpg     \b\b\b\b 84%\b\b\b\b\b  OK \n",
            "Extracting  /content/dataset_2/train/noncaries/healthy-4-_png_tooth_1_png.rf.013dec086d46cd33a432b7fa7084b274.jpg     \b\b\b\b 84%\b\b\b\b\b  OK \n",
            "Extracting  /content/dataset_2/train/noncaries/healthy-40-_png_tooth_0_png.rf.9dd2141cbdb2786c1c813e5bc9964a1d.jpg     \b\b\b\b 84%\b\b\b\b\b  OK \n",
            "Extracting  /content/dataset_2/train/noncaries/healthy-41-_png_tooth_0_png.rf.529ff258d7a85dd9785cbc330facf0a4.jpg     \b\b\b\b 84%\b\b\b\b\b  OK \n",
            "Extracting  /content/dataset_2/train/noncaries/healthy-42-_png_tooth_0_png.rf.d978e32bb12ec97b89d23fcaf88c9e21.jpg     \b\b\b\b 84%\b\b\b\b\b  OK \n",
            "Extracting  /content/dataset_2/train/noncaries/healthy-42-_png_tooth_1_png.rf.bfd96ba58f424e063fff91725b2d99b2.jpg     \b\b\b\b 84%\b\b\b\b\b  OK \n",
            "Extracting  /content/dataset_2/train/noncaries/healthy-43-_png_tooth_0_png.rf.775ef8a47b00ee6d52985caba4e4cbef.jpg     \b\b\b\b 84%\b\b\b\b\b  OK \n",
            "Extracting  /content/dataset_2/train/noncaries/healthy-43-_png_tooth_1_png.rf.bae8de78ecd1fdd5e3417650b2ef4d9e.jpg     \b\b\b\b 84%\b\b\b\b\b  OK \n",
            "Extracting  /content/dataset_2/train/noncaries/healthy-44-_png_tooth_0_png.rf.2b5b9ea1acdffcf35a49c9091463b7ed.jpg     \b\b\b\b 85%\b\b\b\b\b  OK \n",
            "Extracting  /content/dataset_2/train/noncaries/healthy-44-_png_tooth_1_png.rf.f855a94ef6d519e5d4d06614e997bf11.jpg     \b\b\b\b 85%\b\b\b\b\b  OK \n",
            "Extracting  /content/dataset_2/train/noncaries/healthy-45-_png_tooth_0_png.rf.465929cec48f13dc2db20240ddc1a110.jpg     \b\b\b\b 85%\b\b\b\b\b  OK \n",
            "Extracting  /content/dataset_2/train/noncaries/healthy-45-_png_tooth_1_png.rf.7c0d641d213afc8a7ba5d7f6adcf4fd6.jpg     \b\b\b\b 85%\b\b\b\b\b  OK \n",
            "Extracting  /content/dataset_2/train/noncaries/healthy-45-_png_tooth_2_png.rf.0eaf17c3a2c1a1a4b99157d3222dafaa.jpg     \b\b\b\b 85%\b\b\b\b\b  OK \n",
            "Extracting  /content/dataset_2/train/noncaries/healthy-46-_png_tooth_1_png.rf.0d828cc6d3b6a13a3a60bb00ca7f4a1c.jpg     \b\b\b\b 85%\b\b\b\b\b  OK \n",
            "Extracting  /content/dataset_2/train/noncaries/healthy-46-_png_tooth_2_png.rf.9cfd1909b83379fa0dd9c33efb038cff.jpg     \b\b\b\b 85%\b\b\b\b\b  OK \n",
            "Extracting  /content/dataset_2/train/noncaries/healthy-47-_png_tooth_0_png.rf.e42203e08c3aecd1c8b87380af6f98e0.jpg     \b\b\b\b 85%\b\b\b\b\b  OK \n",
            "Extracting  /content/dataset_2/train/noncaries/healthy-47-_png_tooth_1_png.rf.8e681df1b8ebf049aafbbb813aaec498.jpg     \b\b\b\b 85%\b\b\b\b\b  OK \n",
            "Extracting  /content/dataset_2/train/noncaries/healthy-48-_png_tooth_1_png.rf.5cb2c1072613f66244f410ac6fa441e0.jpg     \b\b\b\b 85%\b\b\b\b\b  OK \n",
            "Extracting  /content/dataset_2/train/noncaries/healthy-48-_png_tooth_2_png.rf.475b8015f5787257a8b9ab054015bd56.jpg     \b\b\b\b 85%\b\b\b\b\b  OK \n",
            "Extracting  /content/dataset_2/train/noncaries/healthy-49-_png_tooth_0_png.rf.53d0b44bb6d8eb86f89f190f3f68982f.jpg     \b\b\b\b 85%\b\b\b\b\b  OK \n",
            "Extracting  /content/dataset_2/train/noncaries/healthy-49-_png_tooth_1_png.rf.9a105e48dc5dad8a1c485f06774ca8ae.jpg     \b\b\b\b 85%\b\b\b\b\b  OK \n",
            "Extracting  /content/dataset_2/train/noncaries/healthy-5-_png_tooth_0_png.rf.e35b3e4f9bf4ea566d4db0f2308386d2.jpg     \b\b\b\b 85%\b\b\b\b\b  OK \n",
            "Extracting  /content/dataset_2/train/noncaries/healthy-5-_png_tooth_1_png.rf.bab50b51c2805b7e4beffbd454e32d9a.jpg     \b\b\b\b 85%\b\b\b\b\b  OK \n",
            "Extracting  /content/dataset_2/train/noncaries/healthy-50-_png_tooth_0_png.rf.22759ce3c5c13310575229e9b80714e7.jpg     \b\b\b\b 85%\b\b\b\b\b  OK \n",
            "Extracting  /content/dataset_2/train/noncaries/healthy-50-_png_tooth_1_png.rf.70cfe48116ee3eca549173b43e706ece.jpg     \b\b\b\b 85%\b\b\b\b\b  OK \n",
            "Extracting  /content/dataset_2/train/noncaries/healthy-53-_png_tooth_0_png.rf.d81599956c258ea1d4f297efd44efe84.jpg     \b\b\b\b 86%\b\b\b\b\b  OK \n",
            "Extracting  /content/dataset_2/train/noncaries/healthy-53-_png_tooth_1_png.rf.f027159b1966946f2937c9d585b7871d.jpg     \b\b\b\b 86%\b\b\b\b\b  OK \n",
            "Extracting  /content/dataset_2/train/noncaries/healthy-53-_png_tooth_2_png.rf.c47827e1d1012bab1b9f6993a9adad05.jpg     \b\b\b\b 86%\b\b\b\b\b  OK \n",
            "Extracting  /content/dataset_2/train/noncaries/healthy-54-_png_tooth_0_png.rf.4d0910275b1ae3b0d3a06dd84ffb9566.jpg     \b\b\b\b 86%\b\b\b\b\b  OK \n",
            "Extracting  /content/dataset_2/train/noncaries/healthy-54-_png_tooth_1_png.rf.1da54b343c6b0d5bd3b65bed85cf1333.jpg     \b\b\b\b 86%\b\b\b\b\b  OK \n",
            "Extracting  /content/dataset_2/train/noncaries/healthy-55-_png_tooth_0_png.rf.c6f973d1666e0e7058a6da97c57710ad.jpg     \b\b\b\b 86%\b\b\b\b\b  OK \n",
            "Extracting  /content/dataset_2/train/noncaries/healthy-55-_png_tooth_1_png.rf.98362a21e0221f7323f37f2706f88918.jpg     \b\b\b\b 86%\b\b\b\b\b  OK \n",
            "Extracting  /content/dataset_2/train/noncaries/healthy-55-_png_tooth_2_png.rf.50ffb5d435d7fba6ba17e5fe55955c53.jpg     \b\b\b\b 86%\b\b\b\b\b  OK \n",
            "Extracting  /content/dataset_2/train/noncaries/healthy-56-_png_tooth_0_png.rf.05408c4bfb03ad4064c1c57615b57bb4.jpg     \b\b\b\b 86%\b\b\b\b\b  OK \n",
            "Extracting  /content/dataset_2/train/noncaries/healthy-57-_png_tooth_0_png.rf.f5eb6103b0ab6bb9502c7b31b361e587.jpg     \b\b\b\b 86%\b\b\b\b\b  OK \n",
            "Extracting  /content/dataset_2/train/noncaries/healthy-57-_png_tooth_1_png.rf.e343e010388ae68f6fc287e81c707621.jpg     \b\b\b\b 86%\b\b\b\b\b  OK \n",
            "Extracting  /content/dataset_2/train/noncaries/healthy-57-_png_tooth_2_png.rf.a7d1c90f223761fad421cb1452154730.jpg     \b\b\b\b 86%\b\b\b\b\b  OK \n",
            "Extracting  /content/dataset_2/train/noncaries/healthy-58-_png_tooth_0_png.rf.95de50aac320651710222e60bc787c4a.jpg     \b\b\b\b 86%\b\b\b\b\b  OK \n",
            "Extracting  /content/dataset_2/train/noncaries/healthy-58-_png_tooth_1_png.rf.07ac154947d22c2bca2c087376097bf2.jpg     \b\b\b\b 86%\b\b\b\b\b  OK \n",
            "Extracting  /content/dataset_2/train/noncaries/healthy-58-_png_tooth_2_png.rf.c107107fc58c0078196940f750db81f4.jpg     \b\b\b\b 86%\b\b\b\b\b  OK \n",
            "Extracting  /content/dataset_2/train/noncaries/healthy-59-_png_tooth_0_png.rf.e5063b1982304425da8f374ed5b90301.jpg     \b\b\b\b 86%\b\b\b\b\b  OK \n",
            "Extracting  /content/dataset_2/train/noncaries/healthy-59-_png_tooth_1_png.rf.4a55a818b8fced640f60277aa0f56f8e.jpg     \b\b\b\b 87%\b\b\b\b\b  OK \n",
            "Extracting  /content/dataset_2/train/noncaries/healthy-60-_png_tooth_0_png.rf.51082bd4c7f38d1cdedd6148d5fdb4cb.jpg     \b\b\b\b 87%\b\b\b\b\b  OK \n",
            "Extracting  /content/dataset_2/train/noncaries/healthy-60-_png_tooth_1_png.rf.7194b15288d54683eda46325b4dd2368.jpg     \b\b\b\b 87%\b\b\b\b\b  OK \n",
            "Extracting  /content/dataset_2/train/noncaries/healthy-62-_png_tooth_0_png.rf.fb10fa5cd534812c7215fbf87c186354.jpg     \b\b\b\b 87%\b\b\b\b\b  OK \n",
            "Extracting  /content/dataset_2/train/noncaries/healthy-63-_png_tooth_0_png.rf.dad01e1e3f9ece3a939f9bb7321552e4.jpg     \b\b\b\b 87%\b\b\b\b\b  OK \n",
            "Extracting  /content/dataset_2/train/noncaries/healthy-63-_png_tooth_1_png.rf.b8d6bad7928f6ab6a1e0bd839f187a64.jpg     \b\b\b\b 87%\b\b\b\b\b  OK \n",
            "Extracting  /content/dataset_2/train/noncaries/healthy-66-_png_tooth_0_png.rf.b622cb41ff300df11bfac77e4e4ecd29.jpg     \b\b\b\b 87%\b\b\b\b\b  OK \n",
            "Extracting  /content/dataset_2/train/noncaries/healthy-66-_png_tooth_1_png.rf.48677bc5b2ed5a086fc79016ba739438.jpg     \b\b\b\b 87%\b\b\b\b\b  OK \n",
            "Extracting  /content/dataset_2/train/noncaries/healthy-68-_png_tooth_0_png.rf.2a0649054c2c667eb88145a4bdc4b4fc.jpg     \b\b\b\b 87%\b\b\b\b\b  OK \n",
            "Extracting  /content/dataset_2/train/noncaries/healthy-68-_png_tooth_1_png.rf.ff16a70fcd11d51649c13845a36c1716.jpg     \b\b\b\b 87%\b\b\b\b\b  OK \n",
            "Extracting  /content/dataset_2/train/noncaries/healthy-7-_png_tooth_0_png.rf.0c49daef10b91ae674f7b76a32acb451.jpg     \b\b\b\b 87%\b\b\b\b\b  OK \n",
            "Extracting  /content/dataset_2/train/noncaries/healthy-7-_png_tooth_1_png.rf.71987bf9f35fe4244d6d1a493fbc92ad.jpg     \b\b\b\b 87%\b\b\b\b\b  OK \n",
            "Extracting  /content/dataset_2/train/noncaries/healthy-70-_png_tooth_0_png.rf.944e8c31d2862b99ff7a8f6b19881717.jpg     \b\b\b\b 87%\b\b\b\b\b  OK \n",
            "Extracting  /content/dataset_2/train/noncaries/healthy-70-_png_tooth_1_png.rf.155fca82ae19d50af3e6beb0c8a6615e.jpg     \b\b\b\b 87%\b\b\b\b\b  OK \n",
            "Extracting  /content/dataset_2/train/noncaries/healthy-70-_png_tooth_2_png.rf.cf566f4cfc1e980fb83d4b0a4802b04a.jpg     \b\b\b\b 87%\b\b\b\b\b  OK \n",
            "Extracting  /content/dataset_2/train/noncaries/healthy-71-_png_tooth_0_png.rf.6f2444961e3692879b627657c3960e4a.jpg     \b\b\b\b 87%\b\b\b\b\b  OK \n",
            "Extracting  /content/dataset_2/train/noncaries/healthy-71-_png_tooth_1_png.rf.103b8d127968dc12304933678d652c0f.jpg     \b\b\b\b 87%\b\b\b\b\b  OK \n",
            "Extracting  /content/dataset_2/train/noncaries/healthy-72-_png_tooth_0_png.rf.1721bb31605606f055b34e0112894868.jpg     \b\b\b\b 87%\b\b\b\b\b  OK \n",
            "Extracting  /content/dataset_2/train/noncaries/healthy-72-_png_tooth_1_png.rf.19490234c231cdc381f5a20710da4eb3.jpg     \b\b\b\b 88%\b\b\b\b\b  OK \n",
            "Extracting  /content/dataset_2/train/noncaries/healthy-73-_png_tooth_0_png.rf.7fbe942be434193a3c5f863a20403147.jpg     \b\b\b\b 88%\b\b\b\b\b  OK \n",
            "Extracting  /content/dataset_2/train/noncaries/healthy-73-_png_tooth_1_png.rf.135b557af2bfddd640819eecf8692e6f.jpg     \b\b\b\b 88%\b\b\b\b\b  OK \n",
            "Extracting  /content/dataset_2/train/noncaries/healthy-73-_png_tooth_2_png.rf.7a20b9f55829fdddfd4329cba457ba56.jpg     \b\b\b\b 88%\b\b\b\b\b  OK \n",
            "Extracting  /content/dataset_2/train/noncaries/healthy-74-_png_tooth_0_png.rf.28fd98191f7b422a5a52aacce2fed946.jpg     \b\b\b\b 88%\b\b\b\b\b  OK \n",
            "Extracting  /content/dataset_2/train/noncaries/healthy-74-_png_tooth_2_png.rf.ce098235c8bbd6292639159de467e589.jpg     \b\b\b\b 88%\b\b\b\b\b  OK \n",
            "Extracting  /content/dataset_2/train/noncaries/healthy-75-_png_tooth_0_png.rf.637713272e581bf24bf3cc9d4da57c43.jpg     \b\b\b\b 88%\b\b\b\b\b  OK \n",
            "Extracting  /content/dataset_2/train/noncaries/healthy-75-_png_tooth_2_png.rf.4837ef8ef3dee823cc38d722b8d064ad.jpg     \b\b\b\b 88%\b\b\b\b\b  OK \n",
            "Extracting  /content/dataset_2/train/noncaries/healthy-76-_png_tooth_0_png.rf.61160bd01f7ebdac3bc9903add4faf38.jpg     \b\b\b\b 88%\b\b\b\b\b  OK \n",
            "Extracting  /content/dataset_2/train/noncaries/healthy-76-_png_tooth_1_png.rf.74ce263e47631ee1fb8c85ac4e673331.jpg     \b\b\b\b 88%\b\b\b\b\b  OK \n",
            "Extracting  /content/dataset_2/train/noncaries/healthy-76-_png_tooth_2_png.rf.e248b5a230ed10f8a02f4f86d58915d1.jpg     \b\b\b\b 88%\b\b\b\b\b  OK \n",
            "Extracting  /content/dataset_2/train/noncaries/healthy-77-_png_tooth_0_png.rf.ed3b4cbb545c77fc3f03df93c2690cea.jpg     \b\b\b\b 88%\b\b\b\b\b  OK \n",
            "Extracting  /content/dataset_2/train/noncaries/healthy-78-_png_tooth_1_png.rf.75a42d938b0c6b2487f63f462a72a8be.jpg     \b\b\b\b 88%\b\b\b\b\b  OK \n",
            "Extracting  /content/dataset_2/train/noncaries/healthy-8-_png_tooth_0_png.rf.ce11e697e8fcca11da4973bf561e41d2.jpg     \b\b\b\b 88%\b\b\b\b\b  OK \n",
            "Extracting  /content/dataset_2/train/noncaries/healthy-8-_png_tooth_1_png.rf.f928976c7ae7647f5951b9e0e0d3e916.jpg     \b\b\b\b 88%\b\b\b\b\b  OK \n",
            "Extracting  /content/dataset_2/train/noncaries/healthy-80-_png_tooth_0_png.rf.cdee4312e70b6ea760e592ce7d4cffb2.jpg     \b\b\b\b 88%\b\b\b\b\b  OK \n",
            "Extracting  /content/dataset_2/train/noncaries/healthy-81-_png_tooth_0_png.rf.e3c9003c4a03848b24350b13ac50a231.jpg     \b\b\b\b 88%\b\b\b\b\b  OK \n",
            "Extracting  /content/dataset_2/train/noncaries/healthy-82-_png_tooth_1_png.rf.c9fae839d341a79caceaa4245e50f515.jpg     \b\b\b\b 89%\b\b\b\b\b  OK \n",
            "Extracting  /content/dataset_2/train/noncaries/healthy-83-_png_tooth_1_png.rf.52454b6b4719fe2bbbc517be1d12df91.jpg     \b\b\b\b 89%\b\b\b\b\b  OK \n",
            "Extracting  /content/dataset_2/train/noncaries/healthy-84-_png_tooth_0_png.rf.d03c085ce309df05602205bc49e19808.jpg     \b\b\b\b 89%\b\b\b\b\b  OK \n",
            "Extracting  /content/dataset_2/train/noncaries/healthy-84-_png_tooth_1_png.rf.e1380d39f077ca9d2fa1b5e8b6824beb.jpg     \b\b\b\b 89%\b\b\b\b\b  OK \n",
            "Extracting  /content/dataset_2/train/noncaries/healthy-85-_png_tooth_0_png.rf.f76b6c1ede6fed64a721796e9a3a798b.jpg     \b\b\b\b 89%\b\b\b\b\b  OK \n",
            "Extracting  /content/dataset_2/train/noncaries/healthy-85-_png_tooth_2_png.rf.56f2614a7f5bf02fa916e69f55d83d6d.jpg     \b\b\b\b 89%\b\b\b\b\b  OK \n",
            "Extracting  /content/dataset_2/train/noncaries/healthy-86-_png_tooth_0_png.rf.dfd7d1ea147a62ea19356cedf057fe71.jpg     \b\b\b\b 89%\b\b\b\b\b  OK \n",
            "Extracting  /content/dataset_2/train/noncaries/healthy-87-_png_tooth_0_png.rf.60d56a5d36780f1a9995dab981c98ea7.jpg     \b\b\b\b 89%\b\b\b\b\b  OK \n",
            "Extracting  /content/dataset_2/train/noncaries/healthy-88-_png_tooth_0_png.rf.c046b8d46b3d7ee02ef4e19e0ef16e3a.jpg     \b\b\b\b 89%\b\b\b\b\b  OK \n",
            "Extracting  /content/dataset_2/train/noncaries/healthy-9-_png_tooth_1_png.rf.9e8eebc18ae3115c681204cbe942dbd0.jpg     \b\b\b\b 89%\b\b\b\b\b  OK \n",
            "Extracting  /content/dataset_2/train/noncaries/healthy-9-_png_tooth_2_png.rf.5cdc432ac545e2cc543bd2d7a09bfd6f.jpg     \b\b\b\b 89%\b\b\b\b\b  OK \n",
            "Extracting  /content/dataset_2/train/noncaries/healthy-9-_png_tooth_3_png.rf.4fe431687ae8a62a92a820e9fadac517.jpg     \b\b\b\b 89%\b\b\b\b\b  OK \n",
            "Extracting  /content/dataset_2/train/noncaries/healthy-91-_png_tooth_0_png.rf.45c491432a277141219cc651648fd9fa.jpg     \b\b\b\b 89%\b\b\b\b\b  OK \n",
            "Extracting  /content/dataset_2/train/noncaries/healthy-92-_png_tooth_0_png.rf.acace69afb880e00a7a45b53e4449270.jpg     \b\b\b\b 89%\b\b\b\b\b  OK \n",
            "Extracting  /content/dataset_2/train/noncaries/healthy-92-_png_tooth_1_png.rf.cb73a93a45eaf07a42bab266b8edbb44.jpg     \b\b\b\b 89%\b\b\b\b\b  OK \n",
            "Extracting  /content/dataset_2/train/noncaries/healthy-94-_png_tooth_0_png.rf.807bbabf783cd05187ebc3e87a49892b.jpg     \b\b\b\b 89%\b\b\b\b\b  OK \n",
            "Extracting  /content/dataset_2/train/noncaries/healthy-94-_png_tooth_1_png.rf.c8c76c14a0055abe169eee6f31a6592d.jpg     \b\b\b\b 89%\b\b\b\b\b  OK \n",
            "Extracting  /content/dataset_2/train/noncaries/healthy-95-_png_tooth_1_png.rf.8995dd3342a1de4d46212a8f894c0d0e.jpg     \b\b\b\b 89%\b\b\b\b\b  OK \n",
            "Extracting  /content/dataset_2/train/noncaries/healthy-97-_png_tooth_0_png.rf.f45308c8d3cafd073b6d0a76e7989376.jpg     \b\b\b\b 89%\b\b\b\b\b  OK \n",
            "Extracting  /content/dataset_2/train/noncaries/healthy-98-_png_tooth_0_png.rf.beb5f50d08f11cb3a0e1c48a1a5d11c9.jpg     \b\b\b\b 90%\b\b\b\b\b  OK \n",
            "Extracting  /content/dataset_2/train/noncaries/healthy-99-_png_tooth_0_png.rf.d2dbfef40cd107a2b212f4641a4dd0f8.jpg     \b\b\b\b 90%\b\b\b\b\b  OK \n",
            "Extracting  /content/dataset_2/train/noncaries/healthy-99-_png_tooth_1_png.rf.124e5976df5036976f3113e471aed7db.jpg     \b\b\b\b 90%\b\b\b\b\b  OK \n",
            "Extracting  /content/dataset_2/train.cache                               \b\b\b\b 90%\b\b\b\b\b  OK \n",
            "Creating    /content/dataset_2/val                                    OK\n",
            "Creating    /content/dataset_2/val/caries_media                       OK\n",
            "Extracting  /content/dataset_2/val/caries_media/caries-142-_png_tooth_1_png.rf.b7c2f92ad759f0aa827fd3d9ecaef065.jpg     \b\b\b\b 90%\b\b\b\b\b  OK \n",
            "Extracting  /content/dataset_2/val/caries_media/caries-159-_png_tooth_1_png.rf.983032468ba392ff6fd4ef8e6460c329.jpg     \b\b\b\b 90%\b\b\b\b\b  OK \n",
            "Extracting  /content/dataset_2/val/caries_media/caries-173-_png_tooth_0_png.rf.57fa4bd8a23451771a341a2e490a7d14.jpg     \b\b\b\b 90%\b\b\b\b\b  OK \n",
            "Extracting  /content/dataset_2/val/caries_media/caries-179-_png_tooth_1_png.rf.04ef241219747c83633c1002d0984783.jpg     \b\b\b\b 90%\b\b\b\b\b  OK \n",
            "Extracting  /content/dataset_2/val/caries_media/caries-190-_png_tooth_0_png.rf.87539af3de8aee9b35fbceca00f7bf13.jpg     \b\b\b\b 90%\b\b\b\b\b  OK \n",
            "Extracting  /content/dataset_2/val/caries_media/caries-195-_png_tooth_0_png.rf.cdff182635453ef4c4d0811809a8850c.jpg     \b\b\b\b 90%\b\b\b\b\b  OK \n",
            "Extracting  /content/dataset_2/val/caries_media/caries-200-_png_tooth_1_png.rf.df107aaddc12aca010858b40f8cd9562.jpg     \b\b\b\b 90%\b\b\b\b\b  OK \n",
            "Extracting  /content/dataset_2/val/caries_media/caries-208-_png_tooth_0_png.rf.8655d45e8af473a50da8c26b4462ff1e.jpg     \b\b\b\b 90%\b\b\b\b\b  OK \n",
            "Extracting  /content/dataset_2/val/caries_media/caries-227-_png_tooth_3_png.rf.1774528a016747d0985554f4141b8d0a.jpg     \b\b\b\b 90%\b\b\b\b\b  OK \n",
            "Extracting  /content/dataset_2/val/caries_media/caries-228-_png_tooth_2_png.rf.f11c5572df7dd15d38ab9e8176d022f0.jpg     \b\b\b\b 90%\b\b\b\b\b  OK \n",
            "Extracting  /content/dataset_2/val/caries_media/caries-234-_png_tooth_3_png.rf.803231ede63ca620dc575a255dc17a40.jpg     \b\b\b\b 90%\b\b\b\b\b  OK \n",
            "Extracting  /content/dataset_2/val/caries_media/caries-239-_png_tooth_1_png.rf.dcff3e693c5f8f08f06cdfa917617cfc.jpg     \b\b\b\b 90%\b\b\b\b\b  OK \n",
            "Extracting  /content/dataset_2/val/caries_media/caries-30-_png_tooth_1_png.rf.2f30b86e9bc5a26aad2994d5f46156b9.jpg     \b\b\b\b 90%\b\b\b\b\b  OK \n",
            "Extracting  /content/dataset_2/val/caries_media/caries-314-_png_tooth_0_png.rf.198bd129d70ffcc168a7abfc18a0ff8c.jpg     \b\b\b\b 90%\b\b\b\b\b  OK \n",
            "Extracting  /content/dataset_2/val/caries_media/caries-317-_png_tooth_0_png.rf.fa646c2b5b04154673591fa50f5acc3c.jpg     \b\b\b\b 90%\b\b\b\b\b  OK \n",
            "Extracting  /content/dataset_2/val/caries_media/caries-337-_png_tooth_0_png.rf.48f51fe276155cd5bef78097a9c40f0a.jpg     \b\b\b\b 91%\b\b\b\b\b  OK \n",
            "Extracting  /content/dataset_2/val/caries_media/caries-344-_png_tooth_0_png.rf.0bdc64ff7de59fa85020ec2df1de3165.jpg     \b\b\b\b 91%\b\b\b\b\b  OK \n",
            "Extracting  /content/dataset_2/val/caries_media/caries-352-_png_tooth_0_png.rf.fc0f4d794babe3cbe3c6294195be728d.jpg     \b\b\b\b 91%\b\b\b\b\b  OK \n",
            "Extracting  /content/dataset_2/val/caries_media/caries-363-_png_tooth_0_png.rf.d43a5e517d49d8255bfd7b42a2f4f971.jpg     \b\b\b\b 91%\b\b\b\b\b  OK \n",
            "Extracting  /content/dataset_2/val/caries_media/caries-448-_png_tooth_0_png.rf.aa6765b540f1da248b72a784ade758c8.jpg     \b\b\b\b 91%\b\b\b\b\b  OK \n",
            "Extracting  /content/dataset_2/val/caries_media/caries-455-_png_tooth_0_png.rf.35d39576e919ef8d6109400b6767243b.jpg     \b\b\b\b 91%\b\b\b\b\b  OK \n",
            "Extracting  /content/dataset_2/val/caries_media/caries-463-_png_tooth_0_png.rf.264b66d651ba873b99ceafa958291a8d.jpg     \b\b\b\b 91%\b\b\b\b\b  OK \n",
            "Extracting  /content/dataset_2/val/caries_media/caries-547-_png_tooth_0_png.rf.663c865edbd52cda7ee9ad286a10adcb.jpg     \b\b\b\b 91%\b\b\b\b\b  OK \n",
            "Extracting  /content/dataset_2/val/caries_media/caries-57-_png_tooth_1_png.rf.5d2cc786e9ba0ebecf4631ad8be36918.jpg     \b\b\b\b 91%\b\b\b\b\b  OK \n",
            "Extracting  /content/dataset_2/val/caries_media/caries-576-_png_tooth_0_png.rf.fffa42fb755780bbf34f5b9a49ed659c.jpg     \b\b\b\b 91%\b\b\b\b\b  OK \n",
            "Extracting  /content/dataset_2/val/caries_media/caries-591-_png_tooth_0_png.rf.409cd52ddae1769ca02c8ecfd869c57e.jpg     \b\b\b\b 91%\b\b\b\b\b  OK \n",
            "Extracting  /content/dataset_2/val/caries_media/caries-654-_png_tooth_0_png.rf.2c5c497f5000a780d7712e383b567f62.jpg     \b\b\b\b 91%\b\b\b\b\b  OK \n",
            "Extracting  /content/dataset_2/val/caries_media/caries-679-_png_tooth_0_png.rf.cfc1ee510ac54d3b9ec378546b85fe07.jpg     \b\b\b\b 92%\b\b\b\b\b  OK \n",
            "Extracting  /content/dataset_2/val/caries_media/caries-760-_png_tooth_0_png.rf.3d8741cbc9d803739e54100b594a0a0c.jpg     \b\b\b\b 92%\b\b\b\b\b  OK \n",
            "Extracting  /content/dataset_2/val/caries_media/Frame-249_jpg_tooth_2_png.rf.cbbd20ab4f9eb5360e08174de679a02a.jpg     \b\b\b\b 92%\b\b\b\b\b  OK \n",
            "Extracting  /content/dataset_2/val/caries_media/Frame-259_jpg_tooth_0_png.rf.62ab1a1ee9093896ed9f7487102a2f9c.jpg     \b\b\b\b 92%\b\b\b\b\b  OK \n",
            "Extracting  /content/dataset_2/val/caries_media/Frame-284_jpg_tooth_0_png.rf.b4d8b9caf356182a7bae860686889c29.jpg     \b\b\b\b 92%\b\b\b\b\b  OK \n",
            "Extracting  /content/dataset_2/val/caries_media/Frame-311_jpg_tooth_0_png.rf.a614368b93af7255c0c3ab6366f5e02d.jpg     \b\b\b\b 92%\b\b\b\b\b  OK \n",
            "Extracting  /content/dataset_2/val/caries_media/Frame-347_jpg_tooth_1_png.rf.dd2c32aa8e8b844cc28f34d8c439ff84.jpg     \b\b\b\b 92%\b\b\b\b\b  OK \n",
            "Extracting  /content/dataset_2/val/caries_media/Frame-349_jpg_tooth_2_png.rf.1d0f61ddcdaa87e0fac4ec22e51e5e14.jpg     \b\b\b\b 92%\b\b\b\b\b  OK \n",
            "Creating    /content/dataset_2/val/caries_profunda                    OK\n",
            "Extracting  /content/dataset_2/val/caries_profunda/caries-10-_png_tooth_1_png.rf.defc472f36160ca98229ec54ffd92a1b.jpg     \b\b\b\b 92%\b\b\b\b\b  OK \n",
            "Extracting  /content/dataset_2/val/caries_profunda/caries-23-_png_tooth_0_png.rf.2d4a8621eecd4eafb2fab324a0d9ed92.jpg     \b\b\b\b 92%\b\b\b\b\b  OK \n",
            "Extracting  /content/dataset_2/val/caries_profunda/caries-280-_png_tooth_0_png.rf.2373166f4efc0aaf3689e67fbe8a1f29.jpg     \b\b\b\b 92%\b\b\b\b\b  OK \n",
            "Extracting  /content/dataset_2/val/caries_profunda/caries-5-_png_tooth_0_png.rf.16a28d8949a9ebb77597ff6eef370d9e.jpg     \b\b\b\b 92%\b\b\b\b\b  OK \n",
            "Extracting  /content/dataset_2/val/caries_profunda/caries-60-_png_tooth_0_png.rf.6ad239ec78a86bfdfcbf677e5476fbfe.jpg     \b\b\b\b 92%\b\b\b\b\b  OK \n",
            "Extracting  /content/dataset_2/val/caries_profunda/caries-89-_png_tooth_1_png.rf.d3a449a377f990465368061608adfdfa.jpg     \b\b\b\b 92%\b\b\b\b\b  OK \n",
            "Extracting  /content/dataset_2/val/caries_profunda/caries-91-_png_tooth_1_png.rf.1ac267f9b4233cfce060534255dc6a97.jpg     \b\b\b\b 92%\b\b\b\b\b  OK \n",
            "Extracting  /content/dataset_2/val/caries_profunda/Frame-242_jpg_tooth_1_png.rf.aff7a6380a808719e68fa8f410d90258.jpg     \b\b\b\b 92%\b\b\b\b\b  OK \n",
            "Extracting  /content/dataset_2/val/caries_profunda/Frame-401_jpg_tooth_0_png.rf.dc2b6a2271c8f265c13abf1c4f84832e.jpg     \b\b\b\b 92%\b\b\b\b\b  OK \n",
            "Extracting  /content/dataset_2/val/caries_profunda/Frame-401_jpg_tooth_1_png.rf.59e71452c954030c954f9d8ce0f1d6e4.jpg     \b\b\b\b 93%\b\b\b\b\b  OK \n",
            "Creating    /content/dataset_2/val/caries_superficial                 OK\n",
            "Extracting  /content/dataset_2/val/caries_superficial/caries-103-_png_tooth_0_png.rf.462e4b0676101844c5650e4a99b0ff84.jpg     \b\b\b\b 93%\b\b\b\b\b  OK \n",
            "Extracting  /content/dataset_2/val/caries_superficial/caries-109-_png_tooth_0_png.rf.64a7eba997b3105318276c4e71bee133.jpg     \b\b\b\b 93%\b\b\b\b\b  OK \n",
            "Extracting  /content/dataset_2/val/caries_superficial/caries-32-_png_tooth_2_png.rf.4212b99c8cbc217288462c223916d4a5.jpg     \b\b\b\b 93%\b\b\b\b\b  OK \n",
            "Extracting  /content/dataset_2/val/caries_superficial/caries-412-_png_tooth_0_png.rf.219567a04350ceb015d2519350561a6d.jpg     \b\b\b\b 93%\b\b\b\b\b  OK \n",
            "Extracting  /content/dataset_2/val/caries_superficial/caries-504-_png_tooth_1_png.rf.945b67bd2fb130b97e68b51e19df5acf.jpg     \b\b\b\b 93%\b\b\b\b\b  OK \n",
            "Extracting  /content/dataset_2/val/caries_superficial/caries-577-_png_tooth_0_png.rf.d49101421e8450046d9ef8a04d20af9e.jpg     \b\b\b\b 93%\b\b\b\b\b  OK \n",
            "Extracting  /content/dataset_2/val/caries_superficial/caries-604-_png_tooth_1_png.rf.030ce123f96614d0bbc5a754b616bc8b.jpg     \b\b\b\b 93%\b\b\b\b\b  OK \n",
            "Extracting  /content/dataset_2/val/caries_superficial/caries-634-_png_tooth_0_png.rf.534672775660a570649ca8a788d0a0cd.jpg     \b\b\b\b 93%\b\b\b\b\b  OK \n",
            "Extracting  /content/dataset_2/val/caries_superficial/caries-67-_png_tooth_2_png.rf.37a1be8589f4c79cd9958e8212bc1f0f.jpg     \b\b\b\b 93%\b\b\b\b\b  OK \n",
            "Extracting  /content/dataset_2/val/caries_superficial/caries-671-_png_tooth_1_png.rf.0ca027debbad284e8523ab925395226e.jpg     \b\b\b\b 93%\b\b\b\b\b  OK \n",
            "Extracting  /content/dataset_2/val/caries_superficial/caries-701-_png_tooth_0_png.rf.d2a7c4e6fcd97cea57491ebe85ceadb4.jpg     \b\b\b\b 93%\b\b\b\b\b  OK \n",
            "Extracting  /content/dataset_2/val/caries_superficial/caries-708-_png_tooth_0_png.rf.79b4f1056879fc963669a46b1403cdd4.jpg     \b\b\b\b 93%\b\b\b\b\b  OK \n",
            "Extracting  /content/dataset_2/val/caries_superficial/Frame-373_jpg_tooth_3_png.rf.9606459b44137a1b87d640f0abc3c6b7.jpg     \b\b\b\b 94%\b\b\b\b\b  OK \n",
            "Extracting  /content/dataset_2/val/caries_superficial/Frame-427_jpg_tooth_0_png.rf.0349c7257453bd56f0bf7a3115d87def.jpg     \b\b\b\b 94%\b\b\b\b\b  OK \n",
            "Extracting  /content/dataset_2/val/caries_superficial/Frame-428_jpg_tooth_1_png.rf.ef7680d5e2a82c58b2887f1bf460de6f.jpg     \b\b\b\b 94%\b\b\b\b\b  OK \n",
            "Creating    /content/dataset_2/val/noncaries                          OK\n",
            "Extracting  /content/dataset_2/val/noncaries/caries-115-_png_tooth_0_png.rf.bf743fc6055cf472113c0144cb868531.jpg     \b\b\b\b 94%\b\b\b\b\b  OK \n",
            "Extracting  /content/dataset_2/val/noncaries/caries-116-_png_tooth_0_png.rf.a0e3550f491df098cc1c19da172c7672.jpg     \b\b\b\b 94%\b\b\b\b\b  OK \n",
            "Extracting  /content/dataset_2/val/noncaries/caries-120-_png_tooth_1_png.rf.a0a15a90987e7212743e7d18e2da94ac.jpg     \b\b\b\b 94%\b\b\b\b\b  OK \n",
            "Extracting  /content/dataset_2/val/noncaries/caries-121-_png_tooth_0_png.rf.17f0502409c60d12dcaa4153e34ca003.jpg     \b\b\b\b 94%\b\b\b\b\b  OK \n",
            "Extracting  /content/dataset_2/val/noncaries/caries-125-_png_tooth_0_png.rf.36f2c889b8a088d29546d9f8bf0c5214.jpg     \b\b\b\b 94%\b\b\b\b\b  OK \n",
            "Extracting  /content/dataset_2/val/noncaries/caries-13-_png_tooth_1_png.rf.99ab811ad21dadab57fa35d1d158e71b.jpg     \b\b\b\b 94%\b\b\b\b\b  OK \n",
            "Extracting  /content/dataset_2/val/noncaries/caries-130-_png_tooth_0_png.rf.674fc607a82dec886b5baef832797455.jpg     \b\b\b\b 94%\b\b\b\b\b  OK \n",
            "Extracting  /content/dataset_2/val/noncaries/caries-134-_png_tooth_0_png.rf.72a0ed4157796901171bcaedeebce000.jpg     \b\b\b\b 94%\b\b\b\b\b  OK \n",
            "Extracting  /content/dataset_2/val/noncaries/caries-143-_png_tooth_1_png.rf.4e2d8113e0d816255886bcbc73a73572.jpg     \b\b\b\b 94%\b\b\b\b\b  OK \n",
            "Extracting  /content/dataset_2/val/noncaries/caries-144-_png_tooth_0_png.rf.d074dd14c2a693e900445fd18aa71ba1.jpg     \b\b\b\b 94%\b\b\b\b\b  OK \n",
            "Extracting  /content/dataset_2/val/noncaries/caries-145-_png_tooth_0_png.rf.0a2928d98bedd410ff016b59b5c64685.jpg     \b\b\b\b 94%\b\b\b\b\b  OK \n",
            "Extracting  /content/dataset_2/val/noncaries/caries-15-_png_tooth_0_png.rf.88abbd18ea13a875950ffa3f42d899ec.jpg     \b\b\b\b 94%\b\b\b\b\b  OK \n",
            "Extracting  /content/dataset_2/val/noncaries/caries-174-_png_tooth_0_png.rf.330f65351934e98fdb0d51df95e187db.jpg     \b\b\b\b 94%\b\b\b\b\b  OK \n",
            "Extracting  /content/dataset_2/val/noncaries/caries-18-_png_tooth_0_png.rf.261c894f548ae138bf7b382401e988da.jpg     \b\b\b\b 94%\b\b\b\b\b  OK \n",
            "Extracting  /content/dataset_2/val/noncaries/caries-186-_png_tooth_0_png.rf.412713b72e2818d6315f612063e401dc.jpg     \b\b\b\b 94%\b\b\b\b\b  OK \n",
            "Extracting  /content/dataset_2/val/noncaries/caries-201-_png_tooth_1_png.rf.94bada9522d6ec955432ca5f8ed0c616.jpg     \b\b\b\b 95%\b\b\b\b\b  OK \n",
            "Extracting  /content/dataset_2/val/noncaries/caries-204-_png_tooth_0_png.rf.7164d88ade7a8da23062a4845a7ee945.jpg     \b\b\b\b 95%\b\b\b\b\b  OK \n",
            "Extracting  /content/dataset_2/val/noncaries/caries-218-_png_tooth_0_png.rf.8a3eacd3080f9e3025d941988df56228.jpg     \b\b\b\b 95%\b\b\b\b\b  OK \n",
            "Extracting  /content/dataset_2/val/noncaries/caries-224-_png_tooth_1_png.rf.9315288a5e6ec1b4987b9dd6bfc6e3d5.jpg     \b\b\b\b 95%\b\b\b\b\b  OK \n",
            "Extracting  /content/dataset_2/val/noncaries/caries-225-_png_tooth_0_png.rf.7adc60ac8cb3e082492f2ecc53612bc7.jpg     \b\b\b\b 95%\b\b\b\b\b  OK \n",
            "Extracting  /content/dataset_2/val/noncaries/caries-232-_png_tooth_1_png.rf.f5d125e3e481dfb96e207009d87bdcf0.jpg     \b\b\b\b 95%\b\b\b\b\b  OK \n",
            "Extracting  /content/dataset_2/val/noncaries/caries-233-_png_tooth_1_png.rf.d70789edd8ce99beac7fbccf2934160e.jpg     \b\b\b\b 95%\b\b\b\b\b  OK \n",
            "Extracting  /content/dataset_2/val/noncaries/caries-248-_png_tooth_1_png.rf.8aa9604c46dacc2948d4fbd9043488af.jpg     \b\b\b\b 95%\b\b\b\b\b  OK \n",
            "Extracting  /content/dataset_2/val/noncaries/caries-251-_png_tooth_1_png.rf.41a3628ffd1bee6fe81799ac1902d259.jpg     \b\b\b\b 95%\b\b\b\b\b  OK \n",
            "Extracting  /content/dataset_2/val/noncaries/caries-262-_png_tooth_1_png.rf.469be0d41307e2a11b28634ea8f520c9.jpg     \b\b\b\b 95%\b\b\b\b\b  OK \n",
            "Extracting  /content/dataset_2/val/noncaries/caries-269-_png_tooth_1_png.rf.3792dcdbebf540efe8ee3f6ae54c8eb5.jpg     \b\b\b\b 95%\b\b\b\b\b  OK \n",
            "Extracting  /content/dataset_2/val/noncaries/caries-320-_png_tooth_1_png.rf.33321469810613105f2aeacaf9ccd4eb.jpg     \b\b\b\b 95%\b\b\b\b\b  OK \n",
            "Extracting  /content/dataset_2/val/noncaries/caries-4-_png_tooth_1_png.rf.c7ba64a57154696a3ad9c33c6cc2e4ad.jpg     \b\b\b\b 95%\b\b\b\b\b  OK \n",
            "Extracting  /content/dataset_2/val/noncaries/caries-431-_png_tooth_0_png.rf.b05b6bb21793726d952e0b4388fe4d69.jpg     \b\b\b\b 95%\b\b\b\b\b  OK \n",
            "Extracting  /content/dataset_2/val/noncaries/caries-438-_png_tooth_0_png.rf.85ea6d6b06235e87ccb59c989eebfeeb.jpg     \b\b\b\b 95%\b\b\b\b\b  OK \n",
            "Extracting  /content/dataset_2/val/noncaries/caries-44-_png_tooth_0_png.rf.d13e467ea1b23e441654b0da4a527449.jpg     \b\b\b\b 95%\b\b\b\b\b  OK \n",
            "Extracting  /content/dataset_2/val/noncaries/caries-45-_png_tooth_1_png.rf.9ac6f3e6f81e66d94bbd262ce6838ddf.jpg     \b\b\b\b 95%\b\b\b\b\b  OK \n",
            "Extracting  /content/dataset_2/val/noncaries/caries-516-_png_tooth_0_png.rf.6a893f12205549cd7bc03861d4daf7f6.jpg     \b\b\b\b 95%\b\b\b\b\b  OK \n",
            "Extracting  /content/dataset_2/val/noncaries/caries-525-_png_tooth_0_png.rf.bfa33045eaf4049039f851cbdf454d6b.jpg     \b\b\b\b 96%\b\b\b\b\b  OK \n",
            "Extracting  /content/dataset_2/val/noncaries/caries-553-_png_tooth_1_png.rf.38d8c75ba4dd64f694d23ad65e0ffd68.jpg     \b\b\b\b 96%\b\b\b\b\b  OK \n",
            "Extracting  /content/dataset_2/val/noncaries/caries-563-_png_tooth_0_png.rf.c441491de2792d6bba78bbaeb4366286.jpg     \b\b\b\b 96%\b\b\b\b\b  OK \n",
            "Extracting  /content/dataset_2/val/noncaries/caries-6-_png_tooth_0_png.rf.6de5c6daef9353559770fbc6f0feafe2.jpg     \b\b\b\b 96%\b\b\b\b\b  OK \n",
            "Extracting  /content/dataset_2/val/noncaries/caries-640-_png_tooth_0_png.rf.4cc285a7e61a44d1d5c7630d49f3f38e.jpg     \b\b\b\b 96%\b\b\b\b\b  OK \n",
            "Extracting  /content/dataset_2/val/noncaries/caries-66-_png_tooth_0_png.rf.26f01a2d711b87cd96e1acd881469874.jpg     \b\b\b\b 96%\b\b\b\b\b  OK \n",
            "Extracting  /content/dataset_2/val/noncaries/caries-677-_png_tooth_0_png.rf.8ebc9e7c8c5fbedb63efe2d0b644dadb.jpg     \b\b\b\b 96%\b\b\b\b\b  OK \n",
            "Extracting  /content/dataset_2/val/noncaries/caries-68-_png_tooth_0_png.rf.ece7bd6f20af4707eaf9f741c091b10a.jpg     \b\b\b\b 96%\b\b\b\b\b  OK \n",
            "Extracting  /content/dataset_2/val/noncaries/caries-734-_png_tooth_0_png.rf.e11258dabd0219592b345a37af645a9b.jpg     \b\b\b\b 96%\b\b\b\b\b  OK \n",
            "Extracting  /content/dataset_2/val/noncaries/caries-82-_png_tooth_1_png.rf.059fae16f011f70a74ca94149571dc49.jpg     \b\b\b\b 96%\b\b\b\b\b  OK \n",
            "Extracting  /content/dataset_2/val/noncaries/caries-83-_png_tooth_0_png.rf.7c44ad8c3091318bc349251302683086.jpg     \b\b\b\b 96%\b\b\b\b\b  OK \n",
            "Extracting  /content/dataset_2/val/noncaries/Frame-214_jpg_tooth_0_png.rf.382e18500c310cb844821186efc0b476.jpg     \b\b\b\b 96%\b\b\b\b\b  OK \n",
            "Extracting  /content/dataset_2/val/noncaries/Frame-224_jpg_tooth_0_png.rf.4a3be2b9904bb1032de604878dde3dcd.jpg     \b\b\b\b 96%\b\b\b\b\b  OK \n",
            "Extracting  /content/dataset_2/val/noncaries/Frame-228_jpg_tooth_0_png.rf.3b271358c59874ad127bd53e053e8a88.jpg     \b\b\b\b 96%\b\b\b\b\b  OK \n",
            "Extracting  /content/dataset_2/val/noncaries/Frame-243_jpg_tooth_0_png.rf.d7bab92179392d13d5b11de87a22d6d4.jpg     \b\b\b\b 97%\b\b\b\b\b  OK \n",
            "Extracting  /content/dataset_2/val/noncaries/Frame-262_jpg_tooth_0_png.rf.50a4925ff85ea35f2488e13b6c9a95fa.jpg     \b\b\b\b 97%\b\b\b\b\b  OK \n",
            "Extracting  /content/dataset_2/val/noncaries/Frame-264_jpg_tooth_0_png.rf.85c46024583822c62205fe8a97bcd513.jpg     \b\b\b\b 97%\b\b\b\b\b  OK \n",
            "Extracting  /content/dataset_2/val/noncaries/Frame-267_jpg_tooth_3_png.rf.b4b3b444d39a2c86effcd15b6ce7159c.jpg     \b\b\b\b 97%\b\b\b\b\b  OK \n",
            "Extracting  /content/dataset_2/val/noncaries/Frame-269_jpg_tooth_0_png.rf.fd06e17833a5ff38400dae39a0a556fc.jpg     \b\b\b\b 97%\b\b\b\b\b  OK \n",
            "Extracting  /content/dataset_2/val/noncaries/Frame-271_jpg_tooth_0_png.rf.45f6de50fddc2fea020a35d0dafb17be.jpg     \b\b\b\b 97%\b\b\b\b\b  OK \n",
            "Extracting  /content/dataset_2/val/noncaries/Frame-273_jpg_tooth_1_png.rf.a72bb2fb354f7e62ef61a0bb5af5374f.jpg     \b\b\b\b 97%\b\b\b\b\b  OK \n",
            "Extracting  /content/dataset_2/val/noncaries/Frame-276_jpg_tooth_0_png.rf.68f52c5a46f235ce3c227c6c89e3c820.jpg     \b\b\b\b 97%\b\b\b\b\b  OK \n",
            "Extracting  /content/dataset_2/val/noncaries/Frame-279_jpg_tooth_2_png.rf.ea63f622a6bbe749665c45523086b3de.jpg     \b\b\b\b 97%\b\b\b\b\b  OK \n",
            "Extracting  /content/dataset_2/val/noncaries/Frame-284_jpg_tooth_2_png.rf.6ea8d43bd85e94b3e1a5e24d4067c5d2.jpg     \b\b\b\b 97%\b\b\b\b\b  OK \n",
            "Extracting  /content/dataset_2/val/noncaries/Frame-296_jpg_tooth_0_png.rf.424ff2ebb9ae1c87bdb5ca8338cba39e.jpg     \b\b\b\b 97%\b\b\b\b\b  OK \n",
            "Extracting  /content/dataset_2/val/noncaries/Frame-300_jpg_tooth_0_png.rf.234e99df0fd2eed6259111745ed826d2.jpg     \b\b\b\b 97%\b\b\b\b\b  OK \n",
            "Extracting  /content/dataset_2/val/noncaries/Frame-327_jpg_tooth_0_png.rf.a97c45397e70ffc266e7c96f7afe8da2.jpg     \b\b\b\b 97%\b\b\b\b\b  OK \n",
            "Extracting  /content/dataset_2/val/noncaries/Frame-331_jpg_tooth_0_png.rf.cd49e2259c4bf7c84afba697fa21e94e.jpg     \b\b\b\b 97%\b\b\b\b\b  OK \n",
            "Extracting  /content/dataset_2/val/noncaries/Frame-333_jpg_tooth_0_png.rf.1199d52273cc39171d8d47bf88519c18.jpg     \b\b\b\b 97%\b\b\b\b\b  OK \n",
            "Extracting  /content/dataset_2/val/noncaries/Frame-348_jpg_tooth_0_png.rf.18dead711cffe60461d8ae7053b64d67.jpg     \b\b\b\b 97%\b\b\b\b\b  OK \n",
            "Extracting  /content/dataset_2/val/noncaries/Frame-393_jpg_tooth_2_png.rf.4d8fb8863a6f6c6c6f9b87eaf45e1514.jpg     \b\b\b\b 97%\b\b\b\b\b  OK \n",
            "Extracting  /content/dataset_2/val/noncaries/Frame-394_jpg_tooth_0_png.rf.02f64d8ff6c2e286e7b7c66e6a348027.jpg     \b\b\b\b 98%\b\b\b\b\b  OK \n",
            "Extracting  /content/dataset_2/val/noncaries/Frame-425_jpg_tooth_2_png.rf.39c1fef49c7daecd3bf67fb2a737a1a6.jpg     \b\b\b\b 98%\b\b\b\b\b  OK \n",
            "Extracting  /content/dataset_2/val/noncaries/Frame-426_jpg_tooth_1_png.rf.1fb93e07fffc510fa6212d89ceab615d.jpg     \b\b\b\b 98%\b\b\b\b\b  OK \n",
            "Extracting  /content/dataset_2/val/noncaries/healthy-114-_png_tooth_1_png.rf.133d0a4fd1a9cf5357aa762111d24223.jpg     \b\b\b\b 98%\b\b\b\b\b  OK \n",
            "Extracting  /content/dataset_2/val/noncaries/healthy-123-_png_tooth_0_png.rf.adec42478744b21cba8f7e8fe96942e4.jpg     \b\b\b\b 98%\b\b\b\b\b  OK \n",
            "Extracting  /content/dataset_2/val/noncaries/healthy-127-_png_tooth_1_png.rf.0fb56bc5b20ae00f5c4678bb7f33bca7.jpg     \b\b\b\b 98%\b\b\b\b\b  OK \n",
            "Extracting  /content/dataset_2/val/noncaries/healthy-127-_png_tooth_3_png.rf.4db93b109f9d6d3a38e44f8df63d818c.jpg     \b\b\b\b 98%\b\b\b\b\b  OK \n",
            "Extracting  /content/dataset_2/val/noncaries/healthy-129-_png_tooth_2_png.rf.8309ff3747f4852151dd3dd05ef3c82a.jpg     \b\b\b\b 98%\b\b\b\b\b  OK \n",
            "Extracting  /content/dataset_2/val/noncaries/healthy-130-_png_tooth_2_png.rf.eee6866bc465e2f488e6043891d60419.jpg     \b\b\b\b 98%\b\b\b\b\b  OK \n",
            "Extracting  /content/dataset_2/val/noncaries/healthy-139-_png_tooth_0_png.rf.e02e584b6287742f452cfac84dbeb23b.jpg     \b\b\b\b 98%\b\b\b\b\b  OK \n",
            "Extracting  /content/dataset_2/val/noncaries/healthy-144-_png_tooth_0_png.rf.e82bc27e90ab8c47d8e3a94a6c181c0f.jpg     \b\b\b\b 98%\b\b\b\b\b  OK \n",
            "Extracting  /content/dataset_2/val/noncaries/healthy-147-_png_tooth_0_png.rf.6642da96c457b43d469667c69bde4965.jpg     \b\b\b\b 98%\b\b\b\b\b  OK \n",
            "Extracting  /content/dataset_2/val/noncaries/healthy-148-_png_tooth_0_png.rf.01289f88c92a7a1f6b5f0abcb34022d3.jpg     \b\b\b\b 98%\b\b\b\b\b  OK \n",
            "Extracting  /content/dataset_2/val/noncaries/healthy-148-_png_tooth_1_png.rf.85ba4f7bcb913c440f467bd3add5303f.jpg     \b\b\b\b 98%\b\b\b\b\b  OK \n",
            "Extracting  /content/dataset_2/val/noncaries/healthy-155-_png_tooth_2_png.rf.161c9bfa23ed65144ed5d9d4736c897b.jpg     \b\b\b\b 98%\b\b\b\b\b  OK \n",
            "Extracting  /content/dataset_2/val/noncaries/healthy-158-_png_tooth_0_png.rf.d3bf8deefbff5c566552897aa5a7f3ff.jpg     \b\b\b\b 98%\b\b\b\b\b  OK \n",
            "Extracting  /content/dataset_2/val/noncaries/healthy-16-_png_tooth_1_png.rf.04d2a221080ca7785d87cc168f78fe9d.jpg     \b\b\b\b 98%\b\b\b\b\b  OK \n",
            "Extracting  /content/dataset_2/val/noncaries/healthy-30-_png_tooth_1_png.rf.b0d8b9996874f21569dc74b2d78a07b6.jpg     \b\b\b\b 98%\b\b\b\b\b  OK \n",
            "Extracting  /content/dataset_2/val/noncaries/healthy-36-_png_tooth_0_png.rf.8a07ff92984f80dd5d8c181fd3e7d722.jpg     \b\b\b\b 98%\b\b\b\b\b  OK \n",
            "Extracting  /content/dataset_2/val/noncaries/healthy-38-_png_tooth_2_png.rf.fdd2c0411bcf228b11984da035eb0aab.jpg     \b\b\b\b 99%\b\b\b\b\b  OK \n",
            "Extracting  /content/dataset_2/val/noncaries/healthy-4-_png_tooth_2_png.rf.a09813547c0680c4c28afb592530850a.jpg     \b\b\b\b 99%\b\b\b\b\b  OK \n",
            "Extracting  /content/dataset_2/val/noncaries/healthy-46-_png_tooth_0_png.rf.08d7cf0075b63d2a2e6b34f97e49c37b.jpg     \b\b\b\b 99%\b\b\b\b\b  OK \n",
            "Extracting  /content/dataset_2/val/noncaries/healthy-51-_png_tooth_0_png.rf.863be9024738f84b381c1385720b167f.jpg     \b\b\b\b 99%\b\b\b\b\b  OK \n",
            "Extracting  /content/dataset_2/val/noncaries/healthy-51-_png_tooth_1_png.rf.76c10b19424fd44e62db73aa178ca8f0.jpg     \b\b\b\b 99%\b\b\b\b\b  OK \n",
            "Extracting  /content/dataset_2/val/noncaries/healthy-52-_png_tooth_0_png.rf.b1583d71f5ac0c6acfeb9f02cb81a86c.jpg     \b\b\b\b 99%\b\b\b\b\b  OK \n",
            "Extracting  /content/dataset_2/val/noncaries/healthy-52-_png_tooth_1_png.rf.d04ea3d7ca4d7a43af0314193dd012d4.jpg     \b\b\b\b 99%\b\b\b\b\b  OK \n",
            "Extracting  /content/dataset_2/val/noncaries/healthy-56-_png_tooth_1_png.rf.3060f917e726804ae0450b47680fc4ea.jpg     \b\b\b\b 99%\b\b\b\b\b  OK \n",
            "Extracting  /content/dataset_2/val/noncaries/healthy-6-_png_tooth_0_png.rf.55073e8a763f6c194ca85d6c113389a6.jpg     \b\b\b\b 99%\b\b\b\b\b  OK \n",
            "Extracting  /content/dataset_2/val/noncaries/healthy-67-_png_tooth_0_png.rf.bea08c0707d44fd7cec70548f5f572e0.jpg     \b\b\b\b 99%\b\b\b\b\b  OK \n",
            "Extracting  /content/dataset_2/val/noncaries/healthy-67-_png_tooth_1_png.rf.eb64c505fb0d0d78d13db487f60a9ea5.jpg     \b\b\b\b 99%\b\b\b\b\b  OK \n",
            "Extracting  /content/dataset_2/val/noncaries/healthy-71-_png_tooth_2_png.rf.852e0f44e0916d2818e70d9f564a8f6b.jpg     \b\b\b\b 99%\b\b\b\b\b  OK \n",
            "Extracting  /content/dataset_2/val/noncaries/healthy-75-_png_tooth_1_png.rf.8d9603dcc079e2e5262940a36c07b4b2.jpg     \b\b\b\b 99%\b\b\b\b\b  OK \n",
            "Extracting  /content/dataset_2/val/noncaries/healthy-78-_png_tooth_0_png.rf.0ac58f236c1e3a1538b1991c2cb8e08f.jpg     \b\b\b\b 99%\b\b\b\b\b  OK \n",
            "Extracting  /content/dataset_2/val/noncaries/healthy-83-_png_tooth_0_png.rf.58ba198597f17860b234bd2bf4b6d43b.jpg     \b\b\b\b 99%\b\b\b\b\b  OK \n",
            "Extracting  /content/dataset_2/val/noncaries/healthy-85-_png_tooth_1_png.rf.f495b8a40002a3b7ce957d75b591e47f.jpg     \b\b\b\b 99%\b\b\b\b\b  OK \n",
            "Extracting  /content/dataset_2/val/noncaries/healthy-96-_png_tooth_0_png.rf.29b81edaa34661b6cf4025efb465114c.jpg     \b\b\b\b 99%\b\b\b\b\b  OK \n",
            "Extracting  /content/dataset_2/val/noncaries/healthy-97-_png_tooth_1_png.rf.67b37512a74407ad90a3b0d785baac80.jpg     \b\b\b\b 99%\b\b\b\b\b  OK \n",
            "Extracting  /content/dataset_2/val.cache                                 \b\b\b\b 99%\b\b\b\b\b  OK \n",
            "All OK\n",
            "['val', 'train.cache', 'train', 'val.cache', 'test']\n"
          ]
        }
      ],
      "source": [
        "import os\n",
        "!unrar x /content/dataset_2.rar /content/\n",
        "print(os.listdir(\"/content/dataset_2\"))"
      ]
    },
    {
      "cell_type": "code",
      "source": [
        "!pip install ultralytics albumentations\n",
        "\n",
        "from ultralytics import YOLO\n",
        "import albumentations as A\n",
        "from albumentations.pytorch import ToTensorV2\n",
        "import cv2\n",
        "import os\n",
        "\n",
        "# 1️⃣ Load model YOLOv8 untuk klasifikasi\n",
        "model = YOLO('yolov8n-cls.pt')  # Menggunakan model YOLOv8 untuk klasifikasi\n",
        "\n",
        "# 2️⃣ Definisi augmentasi translation menggunakan Albumentations\n",
        "translation_transform = A.Compose([\n",
        "    A.Affine(translate_percent=(-0.2, 0.2), p=1.0),  # Translasi hingga ±20% dari ukuran gambar\n",
        "    A.Normalize(mean=(0.5,), std=(0.5,)),  # Normalisasi\n",
        "    ToTensorV2()\n",
        "])\n",
        "\n",
        "# 3️⃣ Fungsi untuk menerapkan augmentasi translation pada gambar sebelum training\n",
        "def augment_image(image_path):\n",
        "    image = cv2.imread(image_path)\n",
        "    image = cv2.cvtColor(image, cv2.COLOR_BGR2RGB)  # Konversi ke RGB\n",
        "    augmented = translation_transform(image=image)  # Terapkan transformasi\n",
        "    return augmented[\"image\"]\n",
        "\n",
        "# 4️⃣ Training model dengan augmentasi translation\n",
        "model.train(\n",
        "    data=\"/content/dataset_2\",  # Path ke dataset\n",
        "    epochs=30,  # Jumlah epoch\n",
        "    imgsz=640,  # Ukuran gambar input\n",
        "    batch=16,  # Ukuran batch\n",
        "    augment=True  # Tetap aktifkan augmentasi default dari YOLO\n",
        ")"
      ],
      "metadata": {
        "colab": {
          "base_uri": "https://localhost:8080/"
        },
        "id": "sQtIsrffTRjw",
        "outputId": "ef7bd3ca-7779-4aeb-df4f-2029c396924c"
      },
      "execution_count": 2,
      "outputs": [
        {
          "output_type": "stream",
          "name": "stdout",
          "text": [
            "Collecting ultralytics\n",
            "  Downloading ultralytics-8.3.89-py3-none-any.whl.metadata (35 kB)\n",
            "Requirement already satisfied: albumentations in /usr/local/lib/python3.11/dist-packages (2.0.5)\n",
            "Requirement already satisfied: numpy<=2.1.1,>=1.23.0 in /usr/local/lib/python3.11/dist-packages (from ultralytics) (1.26.4)\n",
            "Requirement already satisfied: matplotlib>=3.3.0 in /usr/local/lib/python3.11/dist-packages (from ultralytics) (3.10.0)\n",
            "Requirement already satisfied: opencv-python>=4.6.0 in /usr/local/lib/python3.11/dist-packages (from ultralytics) (4.11.0.86)\n",
            "Requirement already satisfied: pillow>=7.1.2 in /usr/local/lib/python3.11/dist-packages (from ultralytics) (11.1.0)\n",
            "Requirement already satisfied: pyyaml>=5.3.1 in /usr/local/lib/python3.11/dist-packages (from ultralytics) (6.0.2)\n",
            "Requirement already satisfied: requests>=2.23.0 in /usr/local/lib/python3.11/dist-packages (from ultralytics) (2.32.3)\n",
            "Requirement already satisfied: scipy>=1.4.1 in /usr/local/lib/python3.11/dist-packages (from ultralytics) (1.14.1)\n",
            "Requirement already satisfied: torch>=1.8.0 in /usr/local/lib/python3.11/dist-packages (from ultralytics) (2.5.1+cu124)\n",
            "Requirement already satisfied: torchvision>=0.9.0 in /usr/local/lib/python3.11/dist-packages (from ultralytics) (0.20.1+cu124)\n",
            "Requirement already satisfied: tqdm>=4.64.0 in /usr/local/lib/python3.11/dist-packages (from ultralytics) (4.67.1)\n",
            "Requirement already satisfied: psutil in /usr/local/lib/python3.11/dist-packages (from ultralytics) (5.9.5)\n",
            "Requirement already satisfied: py-cpuinfo in /usr/local/lib/python3.11/dist-packages (from ultralytics) (9.0.0)\n",
            "Requirement already satisfied: pandas>=1.1.4 in /usr/local/lib/python3.11/dist-packages (from ultralytics) (2.2.2)\n",
            "Requirement already satisfied: seaborn>=0.11.0 in /usr/local/lib/python3.11/dist-packages (from ultralytics) (0.13.2)\n",
            "Collecting ultralytics-thop>=2.0.0 (from ultralytics)\n",
            "  Downloading ultralytics_thop-2.0.14-py3-none-any.whl.metadata (9.4 kB)\n",
            "Requirement already satisfied: pydantic>=2.9.2 in /usr/local/lib/python3.11/dist-packages (from albumentations) (2.10.6)\n",
            "Requirement already satisfied: albucore==0.0.23 in /usr/local/lib/python3.11/dist-packages (from albumentations) (0.0.23)\n",
            "Requirement already satisfied: opencv-python-headless>=4.9.0.80 in /usr/local/lib/python3.11/dist-packages (from albumentations) (4.11.0.86)\n",
            "Requirement already satisfied: stringzilla>=3.10.4 in /usr/local/lib/python3.11/dist-packages (from albucore==0.0.23->albumentations) (3.12.2)\n",
            "Requirement already satisfied: simsimd>=5.9.2 in /usr/local/lib/python3.11/dist-packages (from albucore==0.0.23->albumentations) (6.2.1)\n",
            "Requirement already satisfied: contourpy>=1.0.1 in /usr/local/lib/python3.11/dist-packages (from matplotlib>=3.3.0->ultralytics) (1.3.1)\n",
            "Requirement already satisfied: cycler>=0.10 in /usr/local/lib/python3.11/dist-packages (from matplotlib>=3.3.0->ultralytics) (0.12.1)\n",
            "Requirement already satisfied: fonttools>=4.22.0 in /usr/local/lib/python3.11/dist-packages (from matplotlib>=3.3.0->ultralytics) (4.56.0)\n",
            "Requirement already satisfied: kiwisolver>=1.3.1 in /usr/local/lib/python3.11/dist-packages (from matplotlib>=3.3.0->ultralytics) (1.4.8)\n",
            "Requirement already satisfied: packaging>=20.0 in /usr/local/lib/python3.11/dist-packages (from matplotlib>=3.3.0->ultralytics) (24.2)\n",
            "Requirement already satisfied: pyparsing>=2.3.1 in /usr/local/lib/python3.11/dist-packages (from matplotlib>=3.3.0->ultralytics) (3.2.1)\n",
            "Requirement already satisfied: python-dateutil>=2.7 in /usr/local/lib/python3.11/dist-packages (from matplotlib>=3.3.0->ultralytics) (2.8.2)\n",
            "Requirement already satisfied: pytz>=2020.1 in /usr/local/lib/python3.11/dist-packages (from pandas>=1.1.4->ultralytics) (2025.1)\n",
            "Requirement already satisfied: tzdata>=2022.7 in /usr/local/lib/python3.11/dist-packages (from pandas>=1.1.4->ultralytics) (2025.1)\n",
            "Requirement already satisfied: annotated-types>=0.6.0 in /usr/local/lib/python3.11/dist-packages (from pydantic>=2.9.2->albumentations) (0.7.0)\n",
            "Requirement already satisfied: pydantic-core==2.27.2 in /usr/local/lib/python3.11/dist-packages (from pydantic>=2.9.2->albumentations) (2.27.2)\n",
            "Requirement already satisfied: typing-extensions>=4.12.2 in /usr/local/lib/python3.11/dist-packages (from pydantic>=2.9.2->albumentations) (4.12.2)\n",
            "Requirement already satisfied: charset-normalizer<4,>=2 in /usr/local/lib/python3.11/dist-packages (from requests>=2.23.0->ultralytics) (3.4.1)\n",
            "Requirement already satisfied: idna<4,>=2.5 in /usr/local/lib/python3.11/dist-packages (from requests>=2.23.0->ultralytics) (3.10)\n",
            "Requirement already satisfied: urllib3<3,>=1.21.1 in /usr/local/lib/python3.11/dist-packages (from requests>=2.23.0->ultralytics) (2.3.0)\n",
            "Requirement already satisfied: certifi>=2017.4.17 in /usr/local/lib/python3.11/dist-packages (from requests>=2.23.0->ultralytics) (2025.1.31)\n",
            "Requirement already satisfied: filelock in /usr/local/lib/python3.11/dist-packages (from torch>=1.8.0->ultralytics) (3.17.0)\n",
            "Requirement already satisfied: networkx in /usr/local/lib/python3.11/dist-packages (from torch>=1.8.0->ultralytics) (3.4.2)\n",
            "Requirement already satisfied: jinja2 in /usr/local/lib/python3.11/dist-packages (from torch>=1.8.0->ultralytics) (3.1.6)\n",
            "Requirement already satisfied: fsspec in /usr/local/lib/python3.11/dist-packages (from torch>=1.8.0->ultralytics) (2024.10.0)\n",
            "Collecting nvidia-cuda-nvrtc-cu12==12.4.127 (from torch>=1.8.0->ultralytics)\n",
            "  Downloading nvidia_cuda_nvrtc_cu12-12.4.127-py3-none-manylinux2014_x86_64.whl.metadata (1.5 kB)\n",
            "Collecting nvidia-cuda-runtime-cu12==12.4.127 (from torch>=1.8.0->ultralytics)\n",
            "  Downloading nvidia_cuda_runtime_cu12-12.4.127-py3-none-manylinux2014_x86_64.whl.metadata (1.5 kB)\n",
            "Collecting nvidia-cuda-cupti-cu12==12.4.127 (from torch>=1.8.0->ultralytics)\n",
            "  Downloading nvidia_cuda_cupti_cu12-12.4.127-py3-none-manylinux2014_x86_64.whl.metadata (1.6 kB)\n",
            "Collecting nvidia-cudnn-cu12==9.1.0.70 (from torch>=1.8.0->ultralytics)\n",
            "  Downloading nvidia_cudnn_cu12-9.1.0.70-py3-none-manylinux2014_x86_64.whl.metadata (1.6 kB)\n",
            "Collecting nvidia-cublas-cu12==12.4.5.8 (from torch>=1.8.0->ultralytics)\n",
            "  Downloading nvidia_cublas_cu12-12.4.5.8-py3-none-manylinux2014_x86_64.whl.metadata (1.5 kB)\n",
            "Collecting nvidia-cufft-cu12==11.2.1.3 (from torch>=1.8.0->ultralytics)\n",
            "  Downloading nvidia_cufft_cu12-11.2.1.3-py3-none-manylinux2014_x86_64.whl.metadata (1.5 kB)\n",
            "Collecting nvidia-curand-cu12==10.3.5.147 (from torch>=1.8.0->ultralytics)\n",
            "  Downloading nvidia_curand_cu12-10.3.5.147-py3-none-manylinux2014_x86_64.whl.metadata (1.5 kB)\n",
            "Collecting nvidia-cusolver-cu12==11.6.1.9 (from torch>=1.8.0->ultralytics)\n",
            "  Downloading nvidia_cusolver_cu12-11.6.1.9-py3-none-manylinux2014_x86_64.whl.metadata (1.6 kB)\n",
            "Collecting nvidia-cusparse-cu12==12.3.1.170 (from torch>=1.8.0->ultralytics)\n",
            "  Downloading nvidia_cusparse_cu12-12.3.1.170-py3-none-manylinux2014_x86_64.whl.metadata (1.6 kB)\n",
            "Requirement already satisfied: nvidia-nccl-cu12==2.21.5 in /usr/local/lib/python3.11/dist-packages (from torch>=1.8.0->ultralytics) (2.21.5)\n",
            "Requirement already satisfied: nvidia-nvtx-cu12==12.4.127 in /usr/local/lib/python3.11/dist-packages (from torch>=1.8.0->ultralytics) (12.4.127)\n",
            "Collecting nvidia-nvjitlink-cu12==12.4.127 (from torch>=1.8.0->ultralytics)\n",
            "  Downloading nvidia_nvjitlink_cu12-12.4.127-py3-none-manylinux2014_x86_64.whl.metadata (1.5 kB)\n",
            "Requirement already satisfied: triton==3.1.0 in /usr/local/lib/python3.11/dist-packages (from torch>=1.8.0->ultralytics) (3.1.0)\n",
            "Requirement already satisfied: sympy==1.13.1 in /usr/local/lib/python3.11/dist-packages (from torch>=1.8.0->ultralytics) (1.13.1)\n",
            "Requirement already satisfied: mpmath<1.4,>=1.1.0 in /usr/local/lib/python3.11/dist-packages (from sympy==1.13.1->torch>=1.8.0->ultralytics) (1.3.0)\n",
            "Requirement already satisfied: six>=1.5 in /usr/local/lib/python3.11/dist-packages (from python-dateutil>=2.7->matplotlib>=3.3.0->ultralytics) (1.17.0)\n",
            "Requirement already satisfied: MarkupSafe>=2.0 in /usr/local/lib/python3.11/dist-packages (from jinja2->torch>=1.8.0->ultralytics) (3.0.2)\n",
            "Downloading ultralytics-8.3.89-py3-none-any.whl (932 kB)\n",
            "\u001b[2K   \u001b[90m━━━━━━━━━━━━━━━━━━━━━━━━━━━━━━━━━━━━━━━━\u001b[0m \u001b[32m932.6/932.6 kB\u001b[0m \u001b[31m30.2 MB/s\u001b[0m eta \u001b[36m0:00:00\u001b[0m\n",
            "\u001b[?25hDownloading nvidia_cublas_cu12-12.4.5.8-py3-none-manylinux2014_x86_64.whl (363.4 MB)\n",
            "\u001b[2K   \u001b[90m━━━━━━━━━━━━━━━━━━━━━━━━━━━━━━━━━━━━━━━━\u001b[0m \u001b[32m363.4/363.4 MB\u001b[0m \u001b[31m4.0 MB/s\u001b[0m eta \u001b[36m0:00:00\u001b[0m\n",
            "\u001b[?25hDownloading nvidia_cuda_cupti_cu12-12.4.127-py3-none-manylinux2014_x86_64.whl (13.8 MB)\n",
            "\u001b[2K   \u001b[90m━━━━━━━━━━━━━━━━━━━━━━━━━━━━━━━━━━━━━━━━\u001b[0m \u001b[32m13.8/13.8 MB\u001b[0m \u001b[31m102.2 MB/s\u001b[0m eta \u001b[36m0:00:00\u001b[0m\n",
            "\u001b[?25hDownloading nvidia_cuda_nvrtc_cu12-12.4.127-py3-none-manylinux2014_x86_64.whl (24.6 MB)\n",
            "\u001b[2K   \u001b[90m━━━━━━━━━━━━━━━━━━━━━━━━━━━━━━━━━━━━━━━━\u001b[0m \u001b[32m24.6/24.6 MB\u001b[0m \u001b[31m80.6 MB/s\u001b[0m eta \u001b[36m0:00:00\u001b[0m\n",
            "\u001b[?25hDownloading nvidia_cuda_runtime_cu12-12.4.127-py3-none-manylinux2014_x86_64.whl (883 kB)\n",
            "\u001b[2K   \u001b[90m━━━━━━━━━━━━━━━━━━━━━━━━━━━━━━━━━━━━━━━━\u001b[0m \u001b[32m883.7/883.7 kB\u001b[0m \u001b[31m52.2 MB/s\u001b[0m eta \u001b[36m0:00:00\u001b[0m\n",
            "\u001b[?25hDownloading nvidia_cudnn_cu12-9.1.0.70-py3-none-manylinux2014_x86_64.whl (664.8 MB)\n",
            "\u001b[2K   \u001b[90m━━━━━━━━━━━━━━━━━━━━━━━━━━━━━━━━━━━━━━━━\u001b[0m \u001b[32m664.8/664.8 MB\u001b[0m \u001b[31m1.3 MB/s\u001b[0m eta \u001b[36m0:00:00\u001b[0m\n",
            "\u001b[?25hDownloading nvidia_cufft_cu12-11.2.1.3-py3-none-manylinux2014_x86_64.whl (211.5 MB)\n",
            "\u001b[2K   \u001b[90m━━━━━━━━━━━━━━━━━━━━━━━━━━━━━━━━━━━━━━━━\u001b[0m \u001b[32m211.5/211.5 MB\u001b[0m \u001b[31m5.3 MB/s\u001b[0m eta \u001b[36m0:00:00\u001b[0m\n",
            "\u001b[?25hDownloading nvidia_curand_cu12-10.3.5.147-py3-none-manylinux2014_x86_64.whl (56.3 MB)\n",
            "\u001b[2K   \u001b[90m━━━━━━━━━━━━━━━━━━━━━━━━━━━━━━━━━━━━━━━━\u001b[0m \u001b[32m56.3/56.3 MB\u001b[0m \u001b[31m11.5 MB/s\u001b[0m eta \u001b[36m0:00:00\u001b[0m\n",
            "\u001b[?25hDownloading nvidia_cusolver_cu12-11.6.1.9-py3-none-manylinux2014_x86_64.whl (127.9 MB)\n",
            "\u001b[2K   \u001b[90m━━━━━━━━━━━━━━━━━━━━━━━━━━━━━━━━━━━━━━━━\u001b[0m \u001b[32m127.9/127.9 MB\u001b[0m \u001b[31m7.9 MB/s\u001b[0m eta \u001b[36m0:00:00\u001b[0m\n",
            "\u001b[?25hDownloading nvidia_cusparse_cu12-12.3.1.170-py3-none-manylinux2014_x86_64.whl (207.5 MB)\n",
            "\u001b[2K   \u001b[90m━━━━━━━━━━━━━━━━━━━━━━━━━━━━━━━━━━━━━━━━\u001b[0m \u001b[32m207.5/207.5 MB\u001b[0m \u001b[31m6.8 MB/s\u001b[0m eta \u001b[36m0:00:00\u001b[0m\n",
            "\u001b[?25hDownloading nvidia_nvjitlink_cu12-12.4.127-py3-none-manylinux2014_x86_64.whl (21.1 MB)\n",
            "\u001b[2K   \u001b[90m━━━━━━━━━━━━━━━━━━━━━━━━━━━━━━━━━━━━━━━━\u001b[0m \u001b[32m21.1/21.1 MB\u001b[0m \u001b[31m54.2 MB/s\u001b[0m eta \u001b[36m0:00:00\u001b[0m\n",
            "\u001b[?25hDownloading ultralytics_thop-2.0.14-py3-none-any.whl (26 kB)\n",
            "Installing collected packages: nvidia-nvjitlink-cu12, nvidia-curand-cu12, nvidia-cufft-cu12, nvidia-cuda-runtime-cu12, nvidia-cuda-nvrtc-cu12, nvidia-cuda-cupti-cu12, nvidia-cublas-cu12, nvidia-cusparse-cu12, nvidia-cudnn-cu12, nvidia-cusolver-cu12, ultralytics-thop, ultralytics\n",
            "  Attempting uninstall: nvidia-nvjitlink-cu12\n",
            "    Found existing installation: nvidia-nvjitlink-cu12 12.5.82\n",
            "    Uninstalling nvidia-nvjitlink-cu12-12.5.82:\n",
            "      Successfully uninstalled nvidia-nvjitlink-cu12-12.5.82\n",
            "  Attempting uninstall: nvidia-curand-cu12\n",
            "    Found existing installation: nvidia-curand-cu12 10.3.6.82\n",
            "    Uninstalling nvidia-curand-cu12-10.3.6.82:\n",
            "      Successfully uninstalled nvidia-curand-cu12-10.3.6.82\n",
            "  Attempting uninstall: nvidia-cufft-cu12\n",
            "    Found existing installation: nvidia-cufft-cu12 11.2.3.61\n",
            "    Uninstalling nvidia-cufft-cu12-11.2.3.61:\n",
            "      Successfully uninstalled nvidia-cufft-cu12-11.2.3.61\n",
            "  Attempting uninstall: nvidia-cuda-runtime-cu12\n",
            "    Found existing installation: nvidia-cuda-runtime-cu12 12.5.82\n",
            "    Uninstalling nvidia-cuda-runtime-cu12-12.5.82:\n",
            "      Successfully uninstalled nvidia-cuda-runtime-cu12-12.5.82\n",
            "  Attempting uninstall: nvidia-cuda-nvrtc-cu12\n",
            "    Found existing installation: nvidia-cuda-nvrtc-cu12 12.5.82\n",
            "    Uninstalling nvidia-cuda-nvrtc-cu12-12.5.82:\n",
            "      Successfully uninstalled nvidia-cuda-nvrtc-cu12-12.5.82\n",
            "  Attempting uninstall: nvidia-cuda-cupti-cu12\n",
            "    Found existing installation: nvidia-cuda-cupti-cu12 12.5.82\n",
            "    Uninstalling nvidia-cuda-cupti-cu12-12.5.82:\n",
            "      Successfully uninstalled nvidia-cuda-cupti-cu12-12.5.82\n",
            "  Attempting uninstall: nvidia-cublas-cu12\n",
            "    Found existing installation: nvidia-cublas-cu12 12.5.3.2\n",
            "    Uninstalling nvidia-cublas-cu12-12.5.3.2:\n",
            "      Successfully uninstalled nvidia-cublas-cu12-12.5.3.2\n",
            "  Attempting uninstall: nvidia-cusparse-cu12\n",
            "    Found existing installation: nvidia-cusparse-cu12 12.5.1.3\n",
            "    Uninstalling nvidia-cusparse-cu12-12.5.1.3:\n",
            "      Successfully uninstalled nvidia-cusparse-cu12-12.5.1.3\n",
            "  Attempting uninstall: nvidia-cudnn-cu12\n",
            "    Found existing installation: nvidia-cudnn-cu12 9.3.0.75\n",
            "    Uninstalling nvidia-cudnn-cu12-9.3.0.75:\n",
            "      Successfully uninstalled nvidia-cudnn-cu12-9.3.0.75\n",
            "  Attempting uninstall: nvidia-cusolver-cu12\n",
            "    Found existing installation: nvidia-cusolver-cu12 11.6.3.83\n",
            "    Uninstalling nvidia-cusolver-cu12-11.6.3.83:\n",
            "      Successfully uninstalled nvidia-cusolver-cu12-11.6.3.83\n",
            "Successfully installed nvidia-cublas-cu12-12.4.5.8 nvidia-cuda-cupti-cu12-12.4.127 nvidia-cuda-nvrtc-cu12-12.4.127 nvidia-cuda-runtime-cu12-12.4.127 nvidia-cudnn-cu12-9.1.0.70 nvidia-cufft-cu12-11.2.1.3 nvidia-curand-cu12-10.3.5.147 nvidia-cusolver-cu12-11.6.1.9 nvidia-cusparse-cu12-12.3.1.170 nvidia-nvjitlink-cu12-12.4.127 ultralytics-8.3.89 ultralytics-thop-2.0.14\n",
            "Creating new Ultralytics Settings v0.0.6 file ✅ \n",
            "View Ultralytics Settings with 'yolo settings' or at '/root/.config/Ultralytics/settings.json'\n",
            "Update Settings with 'yolo settings key=value', i.e. 'yolo settings runs_dir=path/to/dir'. For help see https://docs.ultralytics.com/quickstart/#ultralytics-settings.\n",
            "Downloading https://github.com/ultralytics/assets/releases/download/v8.3.0/yolov8n-cls.pt to 'yolov8n-cls.pt'...\n"
          ]
        },
        {
          "output_type": "stream",
          "name": "stderr",
          "text": [
            "100%|██████████| 5.31M/5.31M [00:00<00:00, 106MB/s]\n"
          ]
        },
        {
          "output_type": "stream",
          "name": "stdout",
          "text": [
            "Ultralytics 8.3.89 🚀 Python-3.11.11 torch-2.5.1+cu124 CUDA:0 (Tesla T4, 15095MiB)\n",
            "\u001b[34m\u001b[1mengine/trainer: \u001b[0mtask=classify, mode=train, model=yolov8n-cls.pt, data=/content/dataset_2, epochs=30, time=None, patience=100, batch=16, imgsz=640, save=True, save_period=-1, cache=False, device=None, workers=8, project=None, name=train, exist_ok=False, pretrained=True, optimizer=auto, verbose=True, seed=0, deterministic=True, single_cls=False, rect=False, cos_lr=False, close_mosaic=10, resume=False, amp=True, fraction=1.0, profile=False, freeze=None, multi_scale=False, overlap_mask=True, mask_ratio=4, dropout=0.0, val=True, split=val, save_json=False, save_hybrid=False, conf=None, iou=0.7, max_det=300, half=False, dnn=False, plots=True, source=None, vid_stride=1, stream_buffer=False, visualize=False, augment=True, agnostic_nms=False, classes=None, retina_masks=False, embed=None, show=False, save_frames=False, save_txt=False, save_conf=False, save_crop=False, show_labels=True, show_conf=True, show_boxes=True, line_width=None, format=torchscript, keras=False, optimize=False, int8=False, dynamic=False, simplify=True, opset=None, workspace=None, nms=False, lr0=0.01, lrf=0.01, momentum=0.937, weight_decay=0.0005, warmup_epochs=3.0, warmup_momentum=0.8, warmup_bias_lr=0.1, box=7.5, cls=0.5, dfl=1.5, pose=12.0, kobj=1.0, nbs=64, hsv_h=0.015, hsv_s=0.7, hsv_v=0.4, degrees=0.0, translate=0.1, scale=0.5, shear=0.0, perspective=0.0, flipud=0.0, fliplr=0.5, bgr=0.0, mosaic=1.0, mixup=0.0, copy_paste=0.0, copy_paste_mode=flip, auto_augment=randaugment, erasing=0.4, crop_fraction=1.0, cfg=None, tracker=botsort.yaml, save_dir=runs/classify/train\n",
            "\u001b[34m\u001b[1mtrain:\u001b[0m /content/dataset_2/train... found 1292 images in 4 classes ✅ \n",
            "\u001b[34m\u001b[1mval:\u001b[0m /content/dataset_2/val... found 161 images in 4 classes ✅ \n",
            "\u001b[34m\u001b[1mtest:\u001b[0m /content/dataset_2/test... found 162 images in 4 classes ✅ \n",
            "Overriding model.yaml nc=1000 with nc=4\n",
            "\n",
            "                   from  n    params  module                                       arguments                     \n",
            "  0                  -1  1       464  ultralytics.nn.modules.conv.Conv             [3, 16, 3, 2]                 \n",
            "  1                  -1  1      4672  ultralytics.nn.modules.conv.Conv             [16, 32, 3, 2]                \n",
            "  2                  -1  1      7360  ultralytics.nn.modules.block.C2f             [32, 32, 1, True]             \n",
            "  3                  -1  1     18560  ultralytics.nn.modules.conv.Conv             [32, 64, 3, 2]                \n",
            "  4                  -1  2     49664  ultralytics.nn.modules.block.C2f             [64, 64, 2, True]             \n",
            "  5                  -1  1     73984  ultralytics.nn.modules.conv.Conv             [64, 128, 3, 2]               \n",
            "  6                  -1  2    197632  ultralytics.nn.modules.block.C2f             [128, 128, 2, True]           \n",
            "  7                  -1  1    295424  ultralytics.nn.modules.conv.Conv             [128, 256, 3, 2]              \n",
            "  8                  -1  1    460288  ultralytics.nn.modules.block.C2f             [256, 256, 1, True]           \n",
            "  9                  -1  1    335364  ultralytics.nn.modules.head.Classify         [256, 4]                      \n",
            "YOLOv8n-cls summary: 56 layers, 1,443,412 parameters, 1,443,412 gradients, 3.4 GFLOPs\n",
            "Transferred 156/158 items from pretrained weights\n",
            "\u001b[34m\u001b[1mTensorBoard: \u001b[0mStart with 'tensorboard --logdir runs/classify/train', view at http://localhost:6006/\n",
            "\u001b[34m\u001b[1mAMP: \u001b[0mrunning Automatic Mixed Precision (AMP) checks...\n",
            "Downloading https://github.com/ultralytics/assets/releases/download/v8.3.0/yolo11n.pt to 'yolo11n.pt'...\n"
          ]
        },
        {
          "output_type": "stream",
          "name": "stderr",
          "text": [
            "100%|██████████| 5.35M/5.35M [00:00<00:00, 110MB/s]\n"
          ]
        },
        {
          "output_type": "stream",
          "name": "stdout",
          "text": [
            "\u001b[34m\u001b[1mAMP: \u001b[0mchecks passed ✅\n"
          ]
        },
        {
          "output_type": "stream",
          "name": "stderr",
          "text": [
            "\u001b[34m\u001b[1mtrain: \u001b[0mScanning /content/dataset_2/train... 1292 images, 0 corrupt: 100%|██████████| 1292/1292 [00:00<00:00, 1527.01it/s]"
          ]
        },
        {
          "output_type": "stream",
          "name": "stdout",
          "text": [
            "\u001b[34m\u001b[1mtrain: \u001b[0mNew cache created: /content/dataset_2/train.cache\n"
          ]
        },
        {
          "output_type": "stream",
          "name": "stderr",
          "text": [
            "\n",
            "\u001b[34m\u001b[1mval: \u001b[0mScanning /content/dataset_2/val... 161 images, 0 corrupt: 100%|██████████| 161/161 [00:00<00:00, 876.96it/s]"
          ]
        },
        {
          "output_type": "stream",
          "name": "stdout",
          "text": [
            "\u001b[34m\u001b[1mval: \u001b[0mNew cache created: /content/dataset_2/val.cache\n"
          ]
        },
        {
          "output_type": "stream",
          "name": "stderr",
          "text": [
            "\n"
          ]
        },
        {
          "output_type": "stream",
          "name": "stdout",
          "text": [
            "\u001b[34m\u001b[1moptimizer:\u001b[0m 'optimizer=auto' found, ignoring 'lr0=0.01' and 'momentum=0.937' and determining best 'optimizer', 'lr0' and 'momentum' automatically... \n",
            "\u001b[34m\u001b[1moptimizer:\u001b[0m AdamW(lr=0.00125, momentum=0.9) with parameter groups 26 weight(decay=0.0), 27 weight(decay=0.0005), 27 bias(decay=0.0)\n",
            "\u001b[34m\u001b[1mTensorBoard: \u001b[0mmodel graph visualization added ✅\n",
            "Image sizes 640 train, 640 val\n",
            "Using 2 dataloader workers\n",
            "Logging results to \u001b[1mruns/classify/train\u001b[0m\n",
            "Starting training for 30 epochs...\n",
            "\n",
            "      Epoch    GPU_mem       loss  Instances       Size\n"
          ]
        },
        {
          "output_type": "stream",
          "name": "stderr",
          "text": [
            "       1/30       1.7G      1.454         16        640:   6%|▌         | 5/81 [00:03<01:08,  1.11it/s]"
          ]
        },
        {
          "output_type": "stream",
          "name": "stdout",
          "text": [
            "Downloading https://ultralytics.com/assets/Arial.ttf to '/root/.config/Ultralytics/Arial.ttf'...\n"
          ]
        },
        {
          "output_type": "stream",
          "name": "stderr",
          "text": [
            "       1/30       1.7G      1.469         16        640:   9%|▊         | 7/81 [00:04<00:40,  1.83it/s]\n",
            "100%|██████████| 755k/755k [00:00<00:00, 21.9MB/s]\n",
            "       1/30       1.7G      1.103         12        640: 100%|██████████| 81/81 [00:43<00:00,  1.85it/s]\n",
            "               classes   top1_acc   top5_acc: 100%|██████████| 6/6 [00:02<00:00,  2.55it/s]"
          ]
        },
        {
          "output_type": "stream",
          "name": "stdout",
          "text": [
            "                   all       0.64          1\n"
          ]
        },
        {
          "output_type": "stream",
          "name": "stderr",
          "text": [
            "\n"
          ]
        },
        {
          "output_type": "stream",
          "name": "stdout",
          "text": [
            "\n",
            "      Epoch    GPU_mem       loss  Instances       Size\n"
          ]
        },
        {
          "output_type": "stream",
          "name": "stderr",
          "text": [
            "       2/30      2.09G      0.975         12        640: 100%|██████████| 81/81 [00:42<00:00,  1.91it/s]\n",
            "               classes   top1_acc   top5_acc: 100%|██████████| 6/6 [00:01<00:00,  3.66it/s]"
          ]
        },
        {
          "output_type": "stream",
          "name": "stdout",
          "text": [
            "                   all      0.658          1\n"
          ]
        },
        {
          "output_type": "stream",
          "name": "stderr",
          "text": [
            "\n"
          ]
        },
        {
          "output_type": "stream",
          "name": "stdout",
          "text": [
            "\n",
            "      Epoch    GPU_mem       loss  Instances       Size\n"
          ]
        },
        {
          "output_type": "stream",
          "name": "stderr",
          "text": [
            "       3/30      2.09G     0.9635         12        640: 100%|██████████| 81/81 [00:43<00:00,  1.87it/s]\n",
            "               classes   top1_acc   top5_acc: 100%|██████████| 6/6 [00:01<00:00,  3.26it/s]"
          ]
        },
        {
          "output_type": "stream",
          "name": "stdout",
          "text": [
            "                   all      0.609          1\n"
          ]
        },
        {
          "output_type": "stream",
          "name": "stderr",
          "text": [
            "\n"
          ]
        },
        {
          "output_type": "stream",
          "name": "stdout",
          "text": [
            "\n",
            "      Epoch    GPU_mem       loss  Instances       Size\n"
          ]
        },
        {
          "output_type": "stream",
          "name": "stderr",
          "text": [
            "       4/30      2.09G      1.002         12        640: 100%|██████████| 81/81 [00:41<00:00,  1.93it/s]\n",
            "               classes   top1_acc   top5_acc: 100%|██████████| 6/6 [00:01<00:00,  3.35it/s]"
          ]
        },
        {
          "output_type": "stream",
          "name": "stdout",
          "text": [
            "                   all      0.559          1\n"
          ]
        },
        {
          "output_type": "stream",
          "name": "stderr",
          "text": [
            "\n"
          ]
        },
        {
          "output_type": "stream",
          "name": "stdout",
          "text": [
            "\n",
            "      Epoch    GPU_mem       loss  Instances       Size\n"
          ]
        },
        {
          "output_type": "stream",
          "name": "stderr",
          "text": [
            "       5/30      2.09G      0.959         12        640: 100%|██████████| 81/81 [00:43<00:00,  1.84it/s]\n",
            "               classes   top1_acc   top5_acc: 100%|██████████| 6/6 [00:01<00:00,  3.25it/s]"
          ]
        },
        {
          "output_type": "stream",
          "name": "stdout",
          "text": [
            "                   all      0.646          1\n"
          ]
        },
        {
          "output_type": "stream",
          "name": "stderr",
          "text": [
            "\n"
          ]
        },
        {
          "output_type": "stream",
          "name": "stdout",
          "text": [
            "\n",
            "      Epoch    GPU_mem       loss  Instances       Size\n"
          ]
        },
        {
          "output_type": "stream",
          "name": "stderr",
          "text": [
            "       6/30      2.09G      0.955         12        640: 100%|██████████| 81/81 [00:42<00:00,  1.90it/s]\n",
            "               classes   top1_acc   top5_acc: 100%|██████████| 6/6 [00:01<00:00,  4.17it/s]"
          ]
        },
        {
          "output_type": "stream",
          "name": "stdout",
          "text": [
            "                   all      0.658          1\n"
          ]
        },
        {
          "output_type": "stream",
          "name": "stderr",
          "text": [
            "\n"
          ]
        },
        {
          "output_type": "stream",
          "name": "stdout",
          "text": [
            "\n",
            "      Epoch    GPU_mem       loss  Instances       Size\n"
          ]
        },
        {
          "output_type": "stream",
          "name": "stderr",
          "text": [
            "       7/30      2.09G     0.9106         12        640: 100%|██████████| 81/81 [00:43<00:00,  1.88it/s]\n",
            "               classes   top1_acc   top5_acc: 100%|██████████| 6/6 [00:01<00:00,  3.31it/s]"
          ]
        },
        {
          "output_type": "stream",
          "name": "stdout",
          "text": [
            "                   all      0.665          1\n"
          ]
        },
        {
          "output_type": "stream",
          "name": "stderr",
          "text": [
            "\n"
          ]
        },
        {
          "output_type": "stream",
          "name": "stdout",
          "text": [
            "\n",
            "      Epoch    GPU_mem       loss  Instances       Size\n"
          ]
        },
        {
          "output_type": "stream",
          "name": "stderr",
          "text": [
            "       8/30      2.09G     0.9021         12        640: 100%|██████████| 81/81 [00:42<00:00,  1.90it/s]\n",
            "               classes   top1_acc   top5_acc: 100%|██████████| 6/6 [00:01<00:00,  3.75it/s]"
          ]
        },
        {
          "output_type": "stream",
          "name": "stdout",
          "text": [
            "                   all      0.627          1\n"
          ]
        },
        {
          "output_type": "stream",
          "name": "stderr",
          "text": [
            "\n"
          ]
        },
        {
          "output_type": "stream",
          "name": "stdout",
          "text": [
            "\n",
            "      Epoch    GPU_mem       loss  Instances       Size\n"
          ]
        },
        {
          "output_type": "stream",
          "name": "stderr",
          "text": [
            "       9/30      2.09G      0.886         12        640: 100%|██████████| 81/81 [00:43<00:00,  1.86it/s]\n",
            "               classes   top1_acc   top5_acc: 100%|██████████| 6/6 [00:01<00:00,  3.54it/s]"
          ]
        },
        {
          "output_type": "stream",
          "name": "stdout",
          "text": [
            "                   all      0.677          1\n"
          ]
        },
        {
          "output_type": "stream",
          "name": "stderr",
          "text": [
            "\n"
          ]
        },
        {
          "output_type": "stream",
          "name": "stdout",
          "text": [
            "\n",
            "      Epoch    GPU_mem       loss  Instances       Size\n"
          ]
        },
        {
          "output_type": "stream",
          "name": "stderr",
          "text": [
            "      10/30      2.09G     0.8582         12        640: 100%|██████████| 81/81 [00:42<00:00,  1.92it/s]\n",
            "               classes   top1_acc   top5_acc: 100%|██████████| 6/6 [00:01<00:00,  3.81it/s]"
          ]
        },
        {
          "output_type": "stream",
          "name": "stdout",
          "text": [
            "                   all      0.658          1\n"
          ]
        },
        {
          "output_type": "stream",
          "name": "stderr",
          "text": [
            "\n"
          ]
        },
        {
          "output_type": "stream",
          "name": "stdout",
          "text": [
            "\n",
            "      Epoch    GPU_mem       loss  Instances       Size\n"
          ]
        },
        {
          "output_type": "stream",
          "name": "stderr",
          "text": [
            "      11/30      2.09G     0.8419         12        640: 100%|██████████| 81/81 [00:43<00:00,  1.87it/s]\n",
            "               classes   top1_acc   top5_acc: 100%|██████████| 6/6 [00:01<00:00,  3.69it/s]"
          ]
        },
        {
          "output_type": "stream",
          "name": "stdout",
          "text": [
            "                   all      0.646          1\n"
          ]
        },
        {
          "output_type": "stream",
          "name": "stderr",
          "text": [
            "\n"
          ]
        },
        {
          "output_type": "stream",
          "name": "stdout",
          "text": [
            "\n",
            "      Epoch    GPU_mem       loss  Instances       Size\n"
          ]
        },
        {
          "output_type": "stream",
          "name": "stderr",
          "text": [
            "      12/30      2.09G     0.8296         12        640: 100%|██████████| 81/81 [00:42<00:00,  1.91it/s]\n",
            "               classes   top1_acc   top5_acc: 100%|██████████| 6/6 [00:01<00:00,  3.66it/s]"
          ]
        },
        {
          "output_type": "stream",
          "name": "stdout",
          "text": [
            "                   all       0.64          1\n"
          ]
        },
        {
          "output_type": "stream",
          "name": "stderr",
          "text": [
            "\n"
          ]
        },
        {
          "output_type": "stream",
          "name": "stdout",
          "text": [
            "\n",
            "      Epoch    GPU_mem       loss  Instances       Size\n"
          ]
        },
        {
          "output_type": "stream",
          "name": "stderr",
          "text": [
            "      13/30      2.09G     0.8296         12        640: 100%|██████████| 81/81 [00:42<00:00,  1.91it/s]\n",
            "               classes   top1_acc   top5_acc: 100%|██████████| 6/6 [00:02<00:00,  2.32it/s]"
          ]
        },
        {
          "output_type": "stream",
          "name": "stdout",
          "text": [
            "                   all      0.578          1\n"
          ]
        },
        {
          "output_type": "stream",
          "name": "stderr",
          "text": [
            "\n"
          ]
        },
        {
          "output_type": "stream",
          "name": "stdout",
          "text": [
            "\n",
            "      Epoch    GPU_mem       loss  Instances       Size\n"
          ]
        },
        {
          "output_type": "stream",
          "name": "stderr",
          "text": [
            "      14/30      2.09G     0.8079         12        640: 100%|██████████| 81/81 [00:42<00:00,  1.91it/s]\n",
            "               classes   top1_acc   top5_acc: 100%|██████████| 6/6 [00:01<00:00,  3.88it/s]"
          ]
        },
        {
          "output_type": "stream",
          "name": "stdout",
          "text": [
            "                   all      0.646          1\n"
          ]
        },
        {
          "output_type": "stream",
          "name": "stderr",
          "text": [
            "\n"
          ]
        },
        {
          "output_type": "stream",
          "name": "stdout",
          "text": [
            "\n",
            "      Epoch    GPU_mem       loss  Instances       Size\n"
          ]
        },
        {
          "output_type": "stream",
          "name": "stderr",
          "text": [
            "      15/30      2.09G     0.7839         12        640: 100%|██████████| 81/81 [00:42<00:00,  1.89it/s]\n",
            "               classes   top1_acc   top5_acc: 100%|██████████| 6/6 [00:02<00:00,  2.33it/s]"
          ]
        },
        {
          "output_type": "stream",
          "name": "stdout",
          "text": [
            "                   all       0.64          1\n"
          ]
        },
        {
          "output_type": "stream",
          "name": "stderr",
          "text": [
            "\n"
          ]
        },
        {
          "output_type": "stream",
          "name": "stdout",
          "text": [
            "\n",
            "      Epoch    GPU_mem       loss  Instances       Size\n"
          ]
        },
        {
          "output_type": "stream",
          "name": "stderr",
          "text": [
            "      16/30      2.09G     0.7742         12        640: 100%|██████████| 81/81 [00:41<00:00,  1.94it/s]\n",
            "               classes   top1_acc   top5_acc: 100%|██████████| 6/6 [00:01<00:00,  3.43it/s]"
          ]
        },
        {
          "output_type": "stream",
          "name": "stdout",
          "text": [
            "                   all      0.615          1\n"
          ]
        },
        {
          "output_type": "stream",
          "name": "stderr",
          "text": [
            "\n"
          ]
        },
        {
          "output_type": "stream",
          "name": "stdout",
          "text": [
            "\n",
            "      Epoch    GPU_mem       loss  Instances       Size\n"
          ]
        },
        {
          "output_type": "stream",
          "name": "stderr",
          "text": [
            "      17/30      2.09G     0.7406         12        640: 100%|██████████| 81/81 [00:42<00:00,  1.93it/s]\n",
            "               classes   top1_acc   top5_acc: 100%|██████████| 6/6 [00:02<00:00,  2.03it/s]"
          ]
        },
        {
          "output_type": "stream",
          "name": "stdout",
          "text": [
            "                   all      0.689          1\n"
          ]
        },
        {
          "output_type": "stream",
          "name": "stderr",
          "text": [
            "\n"
          ]
        },
        {
          "output_type": "stream",
          "name": "stdout",
          "text": [
            "\n",
            "      Epoch    GPU_mem       loss  Instances       Size\n"
          ]
        },
        {
          "output_type": "stream",
          "name": "stderr",
          "text": [
            "      18/30      2.09G     0.7421         12        640: 100%|██████████| 81/81 [00:42<00:00,  1.91it/s]\n",
            "               classes   top1_acc   top5_acc: 100%|██████████| 6/6 [00:01<00:00,  3.61it/s]"
          ]
        },
        {
          "output_type": "stream",
          "name": "stdout",
          "text": [
            "                   all      0.677          1\n"
          ]
        },
        {
          "output_type": "stream",
          "name": "stderr",
          "text": [
            "\n"
          ]
        },
        {
          "output_type": "stream",
          "name": "stdout",
          "text": [
            "\n",
            "      Epoch    GPU_mem       loss  Instances       Size\n"
          ]
        },
        {
          "output_type": "stream",
          "name": "stderr",
          "text": [
            "      19/30      2.09G     0.7158         12        640: 100%|██████████| 81/81 [00:42<00:00,  1.91it/s]\n",
            "               classes   top1_acc   top5_acc: 100%|██████████| 6/6 [00:02<00:00,  2.08it/s]"
          ]
        },
        {
          "output_type": "stream",
          "name": "stdout",
          "text": [
            "                   all      0.702          1\n"
          ]
        },
        {
          "output_type": "stream",
          "name": "stderr",
          "text": [
            "\n"
          ]
        },
        {
          "output_type": "stream",
          "name": "stdout",
          "text": [
            "\n",
            "      Epoch    GPU_mem       loss  Instances       Size\n"
          ]
        },
        {
          "output_type": "stream",
          "name": "stderr",
          "text": [
            "      20/30      2.09G     0.7107         12        640: 100%|██████████| 81/81 [00:43<00:00,  1.88it/s]\n",
            "               classes   top1_acc   top5_acc: 100%|██████████| 6/6 [00:01<00:00,  4.46it/s]"
          ]
        },
        {
          "output_type": "stream",
          "name": "stdout",
          "text": [
            "                   all      0.683          1\n"
          ]
        },
        {
          "output_type": "stream",
          "name": "stderr",
          "text": [
            "\n"
          ]
        },
        {
          "output_type": "stream",
          "name": "stdout",
          "text": [
            "\n",
            "      Epoch    GPU_mem       loss  Instances       Size\n"
          ]
        },
        {
          "output_type": "stream",
          "name": "stderr",
          "text": [
            "      21/30      2.09G     0.6961         12        640: 100%|██████████| 81/81 [00:45<00:00,  1.79it/s]\n",
            "               classes   top1_acc   top5_acc: 100%|██████████| 6/6 [00:01<00:00,  3.11it/s]"
          ]
        },
        {
          "output_type": "stream",
          "name": "stdout",
          "text": [
            "                   all      0.665          1\n"
          ]
        },
        {
          "output_type": "stream",
          "name": "stderr",
          "text": [
            "\n"
          ]
        },
        {
          "output_type": "stream",
          "name": "stdout",
          "text": [
            "\n",
            "      Epoch    GPU_mem       loss  Instances       Size\n"
          ]
        },
        {
          "output_type": "stream",
          "name": "stderr",
          "text": [
            "      22/30      2.09G     0.6787         12        640: 100%|██████████| 81/81 [00:41<00:00,  1.93it/s]\n",
            "               classes   top1_acc   top5_acc: 100%|██████████| 6/6 [00:02<00:00,  2.89it/s]"
          ]
        },
        {
          "output_type": "stream",
          "name": "stdout",
          "text": [
            "                   all      0.677          1\n"
          ]
        },
        {
          "output_type": "stream",
          "name": "stderr",
          "text": [
            "\n"
          ]
        },
        {
          "output_type": "stream",
          "name": "stdout",
          "text": [
            "\n",
            "      Epoch    GPU_mem       loss  Instances       Size\n"
          ]
        },
        {
          "output_type": "stream",
          "name": "stderr",
          "text": [
            "      23/30      2.09G     0.6609         12        640: 100%|██████████| 81/81 [00:43<00:00,  1.86it/s]\n",
            "               classes   top1_acc   top5_acc: 100%|██████████| 6/6 [00:01<00:00,  3.21it/s]"
          ]
        },
        {
          "output_type": "stream",
          "name": "stdout",
          "text": [
            "                   all      0.683          1\n"
          ]
        },
        {
          "output_type": "stream",
          "name": "stderr",
          "text": [
            "\n"
          ]
        },
        {
          "output_type": "stream",
          "name": "stdout",
          "text": [
            "\n",
            "      Epoch    GPU_mem       loss  Instances       Size\n"
          ]
        },
        {
          "output_type": "stream",
          "name": "stderr",
          "text": [
            "      24/30      2.09G     0.6466         12        640: 100%|██████████| 81/81 [00:42<00:00,  1.89it/s]\n",
            "               classes   top1_acc   top5_acc: 100%|██████████| 6/6 [00:01<00:00,  3.52it/s]"
          ]
        },
        {
          "output_type": "stream",
          "name": "stdout",
          "text": [
            "                   all      0.696          1\n"
          ]
        },
        {
          "output_type": "stream",
          "name": "stderr",
          "text": [
            "\n"
          ]
        },
        {
          "output_type": "stream",
          "name": "stdout",
          "text": [
            "\n",
            "      Epoch    GPU_mem       loss  Instances       Size\n"
          ]
        },
        {
          "output_type": "stream",
          "name": "stderr",
          "text": [
            "      25/30      2.09G     0.6109         12        640: 100%|██████████| 81/81 [00:44<00:00,  1.84it/s]\n",
            "               classes   top1_acc   top5_acc: 100%|██████████| 6/6 [00:01<00:00,  3.89it/s]"
          ]
        },
        {
          "output_type": "stream",
          "name": "stdout",
          "text": [
            "                   all      0.708          1\n"
          ]
        },
        {
          "output_type": "stream",
          "name": "stderr",
          "text": [
            "\n"
          ]
        },
        {
          "output_type": "stream",
          "name": "stdout",
          "text": [
            "\n",
            "      Epoch    GPU_mem       loss  Instances       Size\n"
          ]
        },
        {
          "output_type": "stream",
          "name": "stderr",
          "text": [
            "      26/30      2.09G     0.6183         12        640: 100%|██████████| 81/81 [00:42<00:00,  1.90it/s]\n",
            "               classes   top1_acc   top5_acc: 100%|██████████| 6/6 [00:02<00:00,  2.78it/s]"
          ]
        },
        {
          "output_type": "stream",
          "name": "stdout",
          "text": [
            "                   all      0.696          1\n"
          ]
        },
        {
          "output_type": "stream",
          "name": "stderr",
          "text": [
            "\n"
          ]
        },
        {
          "output_type": "stream",
          "name": "stdout",
          "text": [
            "\n",
            "      Epoch    GPU_mem       loss  Instances       Size\n"
          ]
        },
        {
          "output_type": "stream",
          "name": "stderr",
          "text": [
            "      27/30      2.09G     0.5949         12        640: 100%|██████████| 81/81 [00:43<00:00,  1.87it/s]\n",
            "               classes   top1_acc   top5_acc: 100%|██████████| 6/6 [00:01<00:00,  3.13it/s]"
          ]
        },
        {
          "output_type": "stream",
          "name": "stdout",
          "text": [
            "                   all      0.683          1\n"
          ]
        },
        {
          "output_type": "stream",
          "name": "stderr",
          "text": [
            "\n"
          ]
        },
        {
          "output_type": "stream",
          "name": "stdout",
          "text": [
            "\n",
            "      Epoch    GPU_mem       loss  Instances       Size\n"
          ]
        },
        {
          "output_type": "stream",
          "name": "stderr",
          "text": [
            "      28/30      2.09G      0.584         12        640: 100%|██████████| 81/81 [00:43<00:00,  1.88it/s]\n",
            "               classes   top1_acc   top5_acc: 100%|██████████| 6/6 [00:02<00:00,  2.87it/s]"
          ]
        },
        {
          "output_type": "stream",
          "name": "stdout",
          "text": [
            "                   all      0.689          1\n"
          ]
        },
        {
          "output_type": "stream",
          "name": "stderr",
          "text": [
            "\n"
          ]
        },
        {
          "output_type": "stream",
          "name": "stdout",
          "text": [
            "\n",
            "      Epoch    GPU_mem       loss  Instances       Size\n"
          ]
        },
        {
          "output_type": "stream",
          "name": "stderr",
          "text": [
            "      29/30      2.09G     0.5813         12        640: 100%|██████████| 81/81 [00:43<00:00,  1.86it/s]\n",
            "               classes   top1_acc   top5_acc: 100%|██████████| 6/6 [00:01<00:00,  3.26it/s]"
          ]
        },
        {
          "output_type": "stream",
          "name": "stdout",
          "text": [
            "                   all      0.708          1\n"
          ]
        },
        {
          "output_type": "stream",
          "name": "stderr",
          "text": [
            "\n"
          ]
        },
        {
          "output_type": "stream",
          "name": "stdout",
          "text": [
            "\n",
            "      Epoch    GPU_mem       loss  Instances       Size\n"
          ]
        },
        {
          "output_type": "stream",
          "name": "stderr",
          "text": [
            "      30/30      2.09G     0.5487         12        640: 100%|██████████| 81/81 [00:42<00:00,  1.91it/s]\n",
            "               classes   top1_acc   top5_acc: 100%|██████████| 6/6 [00:02<00:00,  2.16it/s]"
          ]
        },
        {
          "output_type": "stream",
          "name": "stdout",
          "text": [
            "                   all      0.708          1\n"
          ]
        },
        {
          "output_type": "stream",
          "name": "stderr",
          "text": [
            "\n"
          ]
        },
        {
          "output_type": "stream",
          "name": "stdout",
          "text": [
            "\n",
            "30 epochs completed in 0.380 hours.\n",
            "Optimizer stripped from runs/classify/train/weights/last.pt, 3.0MB\n",
            "Optimizer stripped from runs/classify/train/weights/best.pt, 3.0MB\n",
            "\n",
            "Validating runs/classify/train/weights/best.pt...\n",
            "Ultralytics 8.3.89 🚀 Python-3.11.11 torch-2.5.1+cu124 CUDA:0 (Tesla T4, 15095MiB)\n",
            "YOLOv8n-cls summary (fused): 30 layers, 1,440,004 parameters, 0 gradients, 3.3 GFLOPs\n",
            "\u001b[34m\u001b[1mtrain:\u001b[0m /content/dataset_2/train... found 1292 images in 4 classes ✅ \n",
            "\u001b[34m\u001b[1mval:\u001b[0m /content/dataset_2/val... found 161 images in 4 classes ✅ \n",
            "\u001b[34m\u001b[1mtest:\u001b[0m /content/dataset_2/test... found 162 images in 4 classes ✅ \n"
          ]
        },
        {
          "output_type": "stream",
          "name": "stderr",
          "text": [
            "\r               classes   top1_acc   top5_acc:   0%|          | 0/6 [00:00<?, ?it/s]"
          ]
        },
        {
          "output_type": "stream",
          "name": "stdout",
          "text": [
            "WARNING ⚠️ ClassificationModel does not support 'augment=True' prediction. Reverting to single-scale prediction.\n"
          ]
        },
        {
          "output_type": "stream",
          "name": "stderr",
          "text": [
            "\r               classes   top1_acc   top5_acc:  17%|█▋        | 1/6 [00:00<00:01,  2.60it/s]"
          ]
        },
        {
          "output_type": "stream",
          "name": "stdout",
          "text": [
            "WARNING ⚠️ ClassificationModel does not support 'augment=True' prediction. Reverting to single-scale prediction.\n"
          ]
        },
        {
          "output_type": "stream",
          "name": "stderr",
          "text": [
            "\r               classes   top1_acc   top5_acc:  33%|███▎      | 2/6 [00:00<00:00,  4.53it/s]"
          ]
        },
        {
          "output_type": "stream",
          "name": "stdout",
          "text": [
            "WARNING ⚠️ ClassificationModel does not support 'augment=True' prediction. Reverting to single-scale prediction.\n"
          ]
        },
        {
          "output_type": "stream",
          "name": "stderr",
          "text": [
            "\r               classes   top1_acc   top5_acc:  50%|█████     | 3/6 [00:02<00:02,  1.06it/s]"
          ]
        },
        {
          "output_type": "stream",
          "name": "stdout",
          "text": [
            "WARNING ⚠️ ClassificationModel does not support 'augment=True' prediction. Reverting to single-scale prediction.\n",
            "WARNING ⚠️ ClassificationModel does not support 'augment=True' prediction. Reverting to single-scale prediction.\n"
          ]
        },
        {
          "output_type": "stream",
          "name": "stderr",
          "text": [
            "\r               classes   top1_acc   top5_acc:  83%|████████▎ | 5/6 [00:03<00:00,  1.33it/s]"
          ]
        },
        {
          "output_type": "stream",
          "name": "stdout",
          "text": [
            "WARNING ⚠️ ClassificationModel does not support 'augment=True' prediction. Reverting to single-scale prediction.\n"
          ]
        },
        {
          "output_type": "stream",
          "name": "stderr",
          "text": [
            "\r               classes   top1_acc   top5_acc: 100%|██████████| 6/6 [00:03<00:00,  1.70it/s]\n"
          ]
        },
        {
          "output_type": "stream",
          "name": "stdout",
          "text": [
            "                   all      0.708          1\n",
            "Speed: 0.6ms preprocess, 1.6ms inference, 0.0ms loss, 0.0ms postprocess per image\n",
            "Results saved to \u001b[1mruns/classify/train\u001b[0m\n"
          ]
        },
        {
          "output_type": "execute_result",
          "data": {
            "text/plain": [
              "ultralytics.utils.metrics.ClassifyMetrics object with attributes:\n",
              "\n",
              "confusion_matrix: <ultralytics.utils.metrics.ConfusionMatrix object at 0x7e987c2d1ad0>\n",
              "curves: []\n",
              "curves_results: []\n",
              "fitness: 0.8540372550487518\n",
              "keys: ['metrics/accuracy_top1', 'metrics/accuracy_top5']\n",
              "results_dict: {'metrics/accuracy_top1': 0.7080745100975037, 'metrics/accuracy_top5': 1.0, 'fitness': 0.8540372550487518}\n",
              "save_dir: PosixPath('runs/classify/train')\n",
              "speed: {'preprocess': 0.6105798757738546, 'inference': 1.628338229814781, 'loss': 0.0006865776407529501, 'postprocess': 0.00131195030736528}\n",
              "task: 'classify'\n",
              "top1: 0.7080745100975037\n",
              "top5: 1.0"
            ]
          },
          "metadata": {},
          "execution_count": 2
        }
      ]
    },
    {
      "cell_type": "code",
      "source": [
        "import cv2\n",
        "import matplotlib.pyplot as plt\n",
        "from ultralytics import YOLO\n",
        "from glob import glob\n",
        "import random\n",
        "\n",
        "\n",
        "# Ambil semua gambar dari folder validasi\n",
        "image_paths = glob(\"/content/dataset_2/val/*/*.jpg\")  # Sesuaikan ekstensi jika perlu\n",
        "\n",
        "# Tampilkan jumlah gambar yang ditemukan\n",
        "print(f\"Jumlah gambar ditemukan: {len(image_paths)}\")\n",
        "\n",
        "# Tampilkan beberapa contoh path gambar\n",
        "print(image_paths[:5])\n",
        "\n",
        "# Ambil minimal 4 atau jumlah gambar yang tersedia\n",
        "sample_images = random.sample(image_paths, min(4, len(image_paths)))\n",
        "\n",
        "print(f\"Jumlah gambar yang dipilih: {len(sample_images)}\")\n",
        "print(sample_images)\n",
        "\n",
        "# Buat plot untuk menampilkan gambar dan prediksi\n",
        "fig, axes = plt.subplots(1, len(sample_images), figsize=(15, 5))\n",
        "\n",
        "for ax, img_path in zip(axes, sample_images):\n",
        "    # Baca gambar\n",
        "    img = cv2.imread(img_path)\n",
        "    img = cv2.cvtColor(img, cv2.COLOR_BGR2RGB)  # Konversi ke RGB untuk ditampilkan\n",
        "\n",
        "    # Prediksi\n",
        "    results = model(img_path)  # Jalankan model pada gambar\n",
        "    predicted_class = results[0].probs.top1  # Ambil kelas dengan probabilitas tertinggi\n",
        "    class_names = model.names  # Ambil daftar nama kelas\n",
        "\n",
        "    # Tampilkan gambar dengan prediksi\n",
        "    ax.imshow(img)\n",
        "    ax.set_title(f\"Prediksi: {class_names[predicted_class]}\")\n",
        "    ax.axis(\"off\")\n",
        "\n",
        "plt.show()"
      ],
      "metadata": {
        "colab": {
          "base_uri": "https://localhost:8080/",
          "height": 662
        },
        "id": "IdPKnVAqTWkE",
        "outputId": "c840c429-2321-4df1-efa2-0079bd35d550"
      },
      "execution_count": 5,
      "outputs": [
        {
          "output_type": "stream",
          "name": "stdout",
          "text": [
            "Jumlah gambar ditemukan: 161\n",
            "['/content/dataset_2/val/caries_profunda/caries-91-_png_tooth_1_png.rf.1ac267f9b4233cfce060534255dc6a97.jpg', '/content/dataset_2/val/caries_profunda/caries-280-_png_tooth_0_png.rf.2373166f4efc0aaf3689e67fbe8a1f29.jpg', '/content/dataset_2/val/caries_profunda/caries-10-_png_tooth_1_png.rf.defc472f36160ca98229ec54ffd92a1b.jpg', '/content/dataset_2/val/caries_profunda/Frame-401_jpg_tooth_0_png.rf.dc2b6a2271c8f265c13abf1c4f84832e.jpg', '/content/dataset_2/val/caries_profunda/Frame-242_jpg_tooth_1_png.rf.aff7a6380a808719e68fa8f410d90258.jpg']\n",
            "Jumlah gambar yang dipilih: 4\n",
            "['/content/dataset_2/val/caries_media/caries-337-_png_tooth_0_png.rf.48f51fe276155cd5bef78097a9c40f0a.jpg', '/content/dataset_2/val/noncaries/Frame-269_jpg_tooth_0_png.rf.fd06e17833a5ff38400dae39a0a556fc.jpg', '/content/dataset_2/val/caries_superficial/caries-634-_png_tooth_0_png.rf.534672775660a570649ca8a788d0a0cd.jpg', '/content/dataset_2/val/noncaries/caries-224-_png_tooth_1_png.rf.9315288a5e6ec1b4987b9dd6bfc6e3d5.jpg']\n",
            "\n",
            "WARNING ⚠️ ClassificationModel does not support 'augment=True' prediction. Reverting to single-scale prediction.\n",
            "image 1/1 /content/dataset_2/val/caries_media/caries-337-_png_tooth_0_png.rf.48f51fe276155cd5bef78097a9c40f0a.jpg: 640x640 caries_media 0.54, noncaries 0.43, caries_superficial 0.03, caries_profunda 0.00, 8.0ms\n",
            "Speed: 10.8ms preprocess, 8.0ms inference, 0.1ms postprocess per image at shape (1, 3, 640, 640)\n",
            "\n",
            "WARNING ⚠️ ClassificationModel does not support 'augment=True' prediction. Reverting to single-scale prediction.\n",
            "image 1/1 /content/dataset_2/val/noncaries/Frame-269_jpg_tooth_0_png.rf.fd06e17833a5ff38400dae39a0a556fc.jpg: 640x640 noncaries 0.97, caries_media 0.02, caries_superficial 0.01, caries_profunda 0.00, 6.5ms\n",
            "Speed: 10.1ms preprocess, 6.5ms inference, 0.1ms postprocess per image at shape (1, 3, 640, 640)\n",
            "\n",
            "WARNING ⚠️ ClassificationModel does not support 'augment=True' prediction. Reverting to single-scale prediction.\n",
            "image 1/1 /content/dataset_2/val/caries_superficial/caries-634-_png_tooth_0_png.rf.534672775660a570649ca8a788d0a0cd.jpg: 640x640 caries_media 0.95, noncaries 0.03, caries_superficial 0.02, caries_profunda 0.00, 5.7ms\n",
            "Speed: 7.6ms preprocess, 5.7ms inference, 0.0ms postprocess per image at shape (1, 3, 640, 640)\n",
            "\n",
            "WARNING ⚠️ ClassificationModel does not support 'augment=True' prediction. Reverting to single-scale prediction.\n",
            "image 1/1 /content/dataset_2/val/noncaries/caries-224-_png_tooth_1_png.rf.9315288a5e6ec1b4987b9dd6bfc6e3d5.jpg: 640x640 noncaries 0.92, caries_media 0.06, caries_superficial 0.01, caries_profunda 0.01, 5.8ms\n",
            "Speed: 10.1ms preprocess, 5.8ms inference, 0.1ms postprocess per image at shape (1, 3, 640, 640)\n"
          ]
        },
        {
          "output_type": "display_data",
          "data": {
            "text/plain": [
              "<Figure size 1500x500 with 4 Axes>"
            ],
            "image/png": "[encoded data removed]"
          },
          "metadata": {}
        }
      ]
    },
    {
      "cell_type": "code",
      "source": [
        "import shutil\n",
        "\n",
        "folder_path = \"/content/runs\"\n",
        "zip_path = \"/content/runs.zip\"\n",
        "\n",
        "shutil.make_archive(zip_path.replace(\".zip\", \"\"), 'zip', folder_path)\n",
        "\n",
        "from google.colab import files\n",
        "files.download(zip_path)"
      ],
      "metadata": {
        "colab": {
          "base_uri": "https://localhost:8080/",
          "height": 17
        },
        "id": "u0f0ClFXZQAW",
        "outputId": "33f1707a-882a-467b-82af-81774ca1be0d"
      },
      "execution_count": 6,
      "outputs": [
        {
          "output_type": "display_data",
          "data": {
            "text/plain": [
              "<IPython.core.display.Javascript object>"
            ],
            "application/javascript": [
              "\n",
              "    async function download(id, filename, size) {\n",
              "      if (!google.colab.kernel.accessAllowed) {\n",
              "        return;\n",
              "      }\n",
              "      const div = document.createElement('div');\n",
              "      const label = document.createElement('label');\n",
              "      label.textContent = `Downloading \"${filename}\": `;\n",
              "      div.appendChild(label);\n",
              "      const progress = document.createElement('progress');\n",
              "      progress.max = size;\n",
              "      div.appendChild(progress);\n",
              "      document.body.appendChild(div);\n",
              "\n",
              "      const buffers = [];\n",
              "      let downloaded = 0;\n",
              "\n",
              "      const channel = await google.colab.kernel.comms.open(id);\n",
              "      // Send a message to notify the kernel that we're ready.\n",
              "      channel.send({})\n",
              "\n",
              "      for await (const message of channel.messages) {\n",
              "        // Send a message to notify the kernel that we're ready.\n",
              "        channel.send({})\n",
              "        if (message.buffers) {\n",
              "          for (const buffer of message.buffers) {\n",
              "            buffers.push(buffer);\n",
              "            downloaded += buffer.byteLength;\n",
              "            progress.value = downloaded;\n",
              "          }\n",
              "        }\n",
              "      }\n",
              "      const blob = new Blob(buffers, {type: 'application/binary'});\n",
              "      const a = document.createElement('a');\n",
              "      a.href = window.URL.createObjectURL(blob);\n",
              "      a.download = filename;\n",
              "      div.appendChild(a);\n",
              "      a.click();\n",
              "      div.remove();\n",
              "    }\n",
              "  "
            ]
          },
          "metadata": {}
        },
        {
          "output_type": "display_data",
          "data": {
            "text/plain": [
              "<IPython.core.display.Javascript object>"
            ],
            "application/javascript": [
              "download(\"download_e5862a5c-ae99-47e9-91ba-33c15428936b\", \"runs.zip\", 10021197)"
            ]
          },
          "metadata": {}
        }
      ]
    },
    {
      "cell_type": "code",
      "source": [],
      "metadata": {
        "id": "aBs989N4ZVex"
      },
      "execution_count": null,
      "outputs": []
    }
  ]
}