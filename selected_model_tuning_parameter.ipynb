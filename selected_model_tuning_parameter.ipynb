{
  "nbformat": 4,
  "nbformat_minor": 0,
  "metadata": {
    "colab": {
      "provenance": [],
      "gpuType": "T4",
      "authorship_tag": "ABX9TyP2dCs4pw1XRQbomq1jphZF",
      "include_colab_link": true
    },
    "kernelspec": {
      "name": "python3",
      "display_name": "Python 3"
    },
    "language_info": {
      "name": "python"
    },
    "accelerator": "GPU"
  },
  "cells": [
    {
      "cell_type": "markdown",
      "metadata": {
        "id": "view-in-github",
        "colab_type": "text"
      },
      "source": [
        "<a href=\"https://colab.research.google.com/github/gabrieldimas/periapical-photo-caries-detection-using-deep-learning/blob/main/selected_model_tuning_parameter.ipynb\" target=\"_parent\"><img src=\"https://colab.research.google.com/assets/colab-badge.svg\" alt=\"Open In Colab\"/></a>"
      ]
    },
    {
      "cell_type": "markdown",
      "source": [
        "# Extract Dataset, Import"
      ],
      "metadata": {
        "id": "9DBYok7eVbI9"
      }
    },
    {
      "cell_type": "code",
      "execution_count": 1,
      "metadata": {
        "colab": {
          "base_uri": "https://localhost:8080/"
        },
        "id": "iYZVW1bZU8tA",
        "outputId": "809f8077-3f5b-458a-d6fb-3cb0af51cd75"
      },
      "outputs": [
        {
          "output_type": "stream",
          "name": "stdout",
          "text": [
            "File berhasil diekstrak ke: /content/dataset\n"
          ]
        }
      ],
      "source": [
        "import zipfile\n",
        "import os\n",
        "\n",
        "zip_path = \"/content/segmented_teeth_v5_test1.zip\"\n",
        "extract_to = \"/content/dataset\"\n",
        "\n",
        "os.makedirs(extract_to, exist_ok=True)\n",
        "with zipfile.ZipFile(zip_path, 'r') as zip_ref:\n",
        "    zip_ref.extractall(extract_to)\n",
        "\n",
        "print(f\"File berhasil diekstrak ke: {extract_to}\")"
      ]
    },
    {
      "cell_type": "code",
      "source": [
        "!pip install ultralytics\n",
        "\n",
        "from ultralytics import YOLO"
      ],
      "metadata": {
        "colab": {
          "base_uri": "https://localhost:8080/"
        },
        "id": "5tB8uf7BU-uq",
        "outputId": "84b7967d-9328-43bc-9783-990897539efb"
      },
      "execution_count": 2,
      "outputs": [
        {
          "output_type": "stream",
          "name": "stdout",
          "text": [
            "Collecting ultralytics\n",
            "  Downloading ultralytics-8.3.135-py3-none-any.whl.metadata (37 kB)\n",
            "Requirement already satisfied: numpy>=1.23.0 in /usr/local/lib/python3.11/dist-packages (from ultralytics) (2.0.2)\n",
            "Requirement already satisfied: matplotlib>=3.3.0 in /usr/local/lib/python3.11/dist-packages (from ultralytics) (3.10.0)\n",
            "Requirement already satisfied: opencv-python>=4.6.0 in /usr/local/lib/python3.11/dist-packages (from ultralytics) (4.11.0.86)\n",
            "Requirement already satisfied: pillow>=7.1.2 in /usr/local/lib/python3.11/dist-packages (from ultralytics) (11.2.1)\n",
            "Requirement already satisfied: pyyaml>=5.3.1 in /usr/local/lib/python3.11/dist-packages (from ultralytics) (6.0.2)\n",
            "Requirement already satisfied: requests>=2.23.0 in /usr/local/lib/python3.11/dist-packages (from ultralytics) (2.32.3)\n",
            "Requirement already satisfied: scipy>=1.4.1 in /usr/local/lib/python3.11/dist-packages (from ultralytics) (1.15.3)\n",
            "Requirement already satisfied: torch>=1.8.0 in /usr/local/lib/python3.11/dist-packages (from ultralytics) (2.6.0+cu124)\n",
            "Requirement already satisfied: torchvision>=0.9.0 in /usr/local/lib/python3.11/dist-packages (from ultralytics) (0.21.0+cu124)\n",
            "Requirement already satisfied: tqdm>=4.64.0 in /usr/local/lib/python3.11/dist-packages (from ultralytics) (4.67.1)\n",
            "Requirement already satisfied: psutil in /usr/local/lib/python3.11/dist-packages (from ultralytics) (5.9.5)\n",
            "Requirement already satisfied: py-cpuinfo in /usr/local/lib/python3.11/dist-packages (from ultralytics) (9.0.0)\n",
            "Requirement already satisfied: pandas>=1.1.4 in /usr/local/lib/python3.11/dist-packages (from ultralytics) (2.2.2)\n",
            "Requirement already satisfied: seaborn>=0.11.0 in /usr/local/lib/python3.11/dist-packages (from ultralytics) (0.13.2)\n",
            "Collecting ultralytics-thop>=2.0.0 (from ultralytics)\n",
            "  Downloading ultralytics_thop-2.0.14-py3-none-any.whl.metadata (9.4 kB)\n",
            "Requirement already satisfied: contourpy>=1.0.1 in /usr/local/lib/python3.11/dist-packages (from matplotlib>=3.3.0->ultralytics) (1.3.2)\n",
            "Requirement already satisfied: cycler>=0.10 in /usr/local/lib/python3.11/dist-packages (from matplotlib>=3.3.0->ultralytics) (0.12.1)\n",
            "Requirement already satisfied: fonttools>=4.22.0 in /usr/local/lib/python3.11/dist-packages (from matplotlib>=3.3.0->ultralytics) (4.58.0)\n",
            "Requirement already satisfied: kiwisolver>=1.3.1 in /usr/local/lib/python3.11/dist-packages (from matplotlib>=3.3.0->ultralytics) (1.4.8)\n",
            "Requirement already satisfied: packaging>=20.0 in /usr/local/lib/python3.11/dist-packages (from matplotlib>=3.3.0->ultralytics) (24.2)\n",
            "Requirement already satisfied: pyparsing>=2.3.1 in /usr/local/lib/python3.11/dist-packages (from matplotlib>=3.3.0->ultralytics) (3.2.3)\n",
            "Requirement already satisfied: python-dateutil>=2.7 in /usr/local/lib/python3.11/dist-packages (from matplotlib>=3.3.0->ultralytics) (2.9.0.post0)\n",
            "Requirement already satisfied: pytz>=2020.1 in /usr/local/lib/python3.11/dist-packages (from pandas>=1.1.4->ultralytics) (2025.2)\n",
            "Requirement already satisfied: tzdata>=2022.7 in /usr/local/lib/python3.11/dist-packages (from pandas>=1.1.4->ultralytics) (2025.2)\n",
            "Requirement already satisfied: charset-normalizer<4,>=2 in /usr/local/lib/python3.11/dist-packages (from requests>=2.23.0->ultralytics) (3.4.2)\n",
            "Requirement already satisfied: idna<4,>=2.5 in /usr/local/lib/python3.11/dist-packages (from requests>=2.23.0->ultralytics) (3.10)\n",
            "Requirement already satisfied: urllib3<3,>=1.21.1 in /usr/local/lib/python3.11/dist-packages (from requests>=2.23.0->ultralytics) (2.4.0)\n",
            "Requirement already satisfied: certifi>=2017.4.17 in /usr/local/lib/python3.11/dist-packages (from requests>=2.23.0->ultralytics) (2025.4.26)\n",
            "Requirement already satisfied: filelock in /usr/local/lib/python3.11/dist-packages (from torch>=1.8.0->ultralytics) (3.18.0)\n",
            "Requirement already satisfied: typing-extensions>=4.10.0 in /usr/local/lib/python3.11/dist-packages (from torch>=1.8.0->ultralytics) (4.13.2)\n",
            "Requirement already satisfied: networkx in /usr/local/lib/python3.11/dist-packages (from torch>=1.8.0->ultralytics) (3.4.2)\n",
            "Requirement already satisfied: jinja2 in /usr/local/lib/python3.11/dist-packages (from torch>=1.8.0->ultralytics) (3.1.6)\n",
            "Requirement already satisfied: fsspec in /usr/local/lib/python3.11/dist-packages (from torch>=1.8.0->ultralytics) (2025.3.2)\n",
            "Collecting nvidia-cuda-nvrtc-cu12==12.4.127 (from torch>=1.8.0->ultralytics)\n",
            "  Downloading nvidia_cuda_nvrtc_cu12-12.4.127-py3-none-manylinux2014_x86_64.whl.metadata (1.5 kB)\n",
            "Collecting nvidia-cuda-runtime-cu12==12.4.127 (from torch>=1.8.0->ultralytics)\n",
            "  Downloading nvidia_cuda_runtime_cu12-12.4.127-py3-none-manylinux2014_x86_64.whl.metadata (1.5 kB)\n",
            "Collecting nvidia-cuda-cupti-cu12==12.4.127 (from torch>=1.8.0->ultralytics)\n",
            "  Downloading nvidia_cuda_cupti_cu12-12.4.127-py3-none-manylinux2014_x86_64.whl.metadata (1.6 kB)\n",
            "Collecting nvidia-cudnn-cu12==9.1.0.70 (from torch>=1.8.0->ultralytics)\n",
            "  Downloading nvidia_cudnn_cu12-9.1.0.70-py3-none-manylinux2014_x86_64.whl.metadata (1.6 kB)\n",
            "Collecting nvidia-cublas-cu12==12.4.5.8 (from torch>=1.8.0->ultralytics)\n",
            "  Downloading nvidia_cublas_cu12-12.4.5.8-py3-none-manylinux2014_x86_64.whl.metadata (1.5 kB)\n",
            "Collecting nvidia-cufft-cu12==11.2.1.3 (from torch>=1.8.0->ultralytics)\n",
            "  Downloading nvidia_cufft_cu12-11.2.1.3-py3-none-manylinux2014_x86_64.whl.metadata (1.5 kB)\n",
            "Collecting nvidia-curand-cu12==10.3.5.147 (from torch>=1.8.0->ultralytics)\n",
            "  Downloading nvidia_curand_cu12-10.3.5.147-py3-none-manylinux2014_x86_64.whl.metadata (1.5 kB)\n",
            "Collecting nvidia-cusolver-cu12==11.6.1.9 (from torch>=1.8.0->ultralytics)\n",
            "  Downloading nvidia_cusolver_cu12-11.6.1.9-py3-none-manylinux2014_x86_64.whl.metadata (1.6 kB)\n",
            "Collecting nvidia-cusparse-cu12==12.3.1.170 (from torch>=1.8.0->ultralytics)\n",
            "  Downloading nvidia_cusparse_cu12-12.3.1.170-py3-none-manylinux2014_x86_64.whl.metadata (1.6 kB)\n",
            "Requirement already satisfied: nvidia-cusparselt-cu12==0.6.2 in /usr/local/lib/python3.11/dist-packages (from torch>=1.8.0->ultralytics) (0.6.2)\n",
            "Requirement already satisfied: nvidia-nccl-cu12==2.21.5 in /usr/local/lib/python3.11/dist-packages (from torch>=1.8.0->ultralytics) (2.21.5)\n",
            "Requirement already satisfied: nvidia-nvtx-cu12==12.4.127 in /usr/local/lib/python3.11/dist-packages (from torch>=1.8.0->ultralytics) (12.4.127)\n",
            "Collecting nvidia-nvjitlink-cu12==12.4.127 (from torch>=1.8.0->ultralytics)\n",
            "  Downloading nvidia_nvjitlink_cu12-12.4.127-py3-none-manylinux2014_x86_64.whl.metadata (1.5 kB)\n",
            "Requirement already satisfied: triton==3.2.0 in /usr/local/lib/python3.11/dist-packages (from torch>=1.8.0->ultralytics) (3.2.0)\n",
            "Requirement already satisfied: sympy==1.13.1 in /usr/local/lib/python3.11/dist-packages (from torch>=1.8.0->ultralytics) (1.13.1)\n",
            "Requirement already satisfied: mpmath<1.4,>=1.1.0 in /usr/local/lib/python3.11/dist-packages (from sympy==1.13.1->torch>=1.8.0->ultralytics) (1.3.0)\n",
            "Requirement already satisfied: six>=1.5 in /usr/local/lib/python3.11/dist-packages (from python-dateutil>=2.7->matplotlib>=3.3.0->ultralytics) (1.17.0)\n",
            "Requirement already satisfied: MarkupSafe>=2.0 in /usr/local/lib/python3.11/dist-packages (from jinja2->torch>=1.8.0->ultralytics) (3.0.2)\n",
            "Downloading ultralytics-8.3.135-py3-none-any.whl (1.0 MB)\n",
            "\u001b[2K   \u001b[90m━━━━━━━━━━━━━━━━━━━━━━━━━━━━━━━━━━━━━━━━\u001b[0m \u001b[32m1.0/1.0 MB\u001b[0m \u001b[31m31.7 MB/s\u001b[0m eta \u001b[36m0:00:00\u001b[0m\n",
            "\u001b[?25hDownloading nvidia_cublas_cu12-12.4.5.8-py3-none-manylinux2014_x86_64.whl (363.4 MB)\n",
            "\u001b[2K   \u001b[90m━━━━━━━━━━━━━━━━━━━━━━━━━━━━━━━━━━━━━━━━\u001b[0m \u001b[32m363.4/363.4 MB\u001b[0m \u001b[31m3.7 MB/s\u001b[0m eta \u001b[36m0:00:00\u001b[0m\n",
            "\u001b[?25hDownloading nvidia_cuda_cupti_cu12-12.4.127-py3-none-manylinux2014_x86_64.whl (13.8 MB)\n",
            "\u001b[2K   \u001b[90m━━━━━━━━━━━━━━━━━━━━━━━━━━━━━━━━━━━━━━━━\u001b[0m \u001b[32m13.8/13.8 MB\u001b[0m \u001b[31m69.0 MB/s\u001b[0m eta \u001b[36m0:00:00\u001b[0m\n",
            "\u001b[?25hDownloading nvidia_cuda_nvrtc_cu12-12.4.127-py3-none-manylinux2014_x86_64.whl (24.6 MB)\n",
            "\u001b[2K   \u001b[90m━━━━━━━━━━━━━━━━━━━━━━━━━━━━━━━━━━━━━━━━\u001b[0m \u001b[32m24.6/24.6 MB\u001b[0m \u001b[31m37.3 MB/s\u001b[0m eta \u001b[36m0:00:00\u001b[0m\n",
            "\u001b[?25hDownloading nvidia_cuda_runtime_cu12-12.4.127-py3-none-manylinux2014_x86_64.whl (883 kB)\n",
            "\u001b[2K   \u001b[90m━━━━━━━━━━━━━━━━━━━━━━━━━━━━━━━━━━━━━━━━\u001b[0m \u001b[32m883.7/883.7 kB\u001b[0m \u001b[31m55.4 MB/s\u001b[0m eta \u001b[36m0:00:00\u001b[0m\n",
            "\u001b[?25hDownloading nvidia_cudnn_cu12-9.1.0.70-py3-none-manylinux2014_x86_64.whl (664.8 MB)\n",
            "\u001b[2K   \u001b[90m━━━━━━━━━━━━━━━━━━━━━━━━━━━━━━━━━━━━━━━━\u001b[0m \u001b[32m664.8/664.8 MB\u001b[0m \u001b[31m2.1 MB/s\u001b[0m eta \u001b[36m0:00:00\u001b[0m\n",
            "\u001b[?25hDownloading nvidia_cufft_cu12-11.2.1.3-py3-none-manylinux2014_x86_64.whl (211.5 MB)\n",
            "\u001b[2K   \u001b[90m━━━━━━━━━━━━━━━━━━━━━━━━━━━━━━━━━━━━━━━━\u001b[0m \u001b[32m211.5/211.5 MB\u001b[0m \u001b[31m5.5 MB/s\u001b[0m eta \u001b[36m0:00:00\u001b[0m\n",
            "\u001b[?25hDownloading nvidia_curand_cu12-10.3.5.147-py3-none-manylinux2014_x86_64.whl (56.3 MB)\n",
            "\u001b[2K   \u001b[90m━━━━━━━━━━━━━━━━━━━━━━━━━━━━━━━━━━━━━━━━\u001b[0m \u001b[32m56.3/56.3 MB\u001b[0m \u001b[31m15.0 MB/s\u001b[0m eta \u001b[36m0:00:00\u001b[0m\n",
            "\u001b[?25hDownloading nvidia_cusolver_cu12-11.6.1.9-py3-none-manylinux2014_x86_64.whl (127.9 MB)\n",
            "\u001b[2K   \u001b[90m━━━━━━━━━━━━━━━━━━━━━━━━━━━━━━━━━━━━━━━━\u001b[0m \u001b[32m127.9/127.9 MB\u001b[0m \u001b[31m7.5 MB/s\u001b[0m eta \u001b[36m0:00:00\u001b[0m\n",
            "\u001b[?25hDownloading nvidia_cusparse_cu12-12.3.1.170-py3-none-manylinux2014_x86_64.whl (207.5 MB)\n",
            "\u001b[2K   \u001b[90m━━━━━━━━━━━━━━━━━━━━━━━━━━━━━━━━━━━━━━━━\u001b[0m \u001b[32m207.5/207.5 MB\u001b[0m \u001b[31m5.4 MB/s\u001b[0m eta \u001b[36m0:00:00\u001b[0m\n",
            "\u001b[?25hDownloading nvidia_nvjitlink_cu12-12.4.127-py3-none-manylinux2014_x86_64.whl (21.1 MB)\n",
            "\u001b[2K   \u001b[90m━━━━━━━━━━━━━━━━━━━━━━━━━━━━━━━━━━━━━━━━\u001b[0m \u001b[32m21.1/21.1 MB\u001b[0m \u001b[31m53.4 MB/s\u001b[0m eta \u001b[36m0:00:00\u001b[0m\n",
            "\u001b[?25hDownloading ultralytics_thop-2.0.14-py3-none-any.whl (26 kB)\n",
            "Installing collected packages: nvidia-nvjitlink-cu12, nvidia-curand-cu12, nvidia-cufft-cu12, nvidia-cuda-runtime-cu12, nvidia-cuda-nvrtc-cu12, nvidia-cuda-cupti-cu12, nvidia-cublas-cu12, nvidia-cusparse-cu12, nvidia-cudnn-cu12, nvidia-cusolver-cu12, ultralytics-thop, ultralytics\n",
            "  Attempting uninstall: nvidia-nvjitlink-cu12\n",
            "    Found existing installation: nvidia-nvjitlink-cu12 12.5.82\n",
            "    Uninstalling nvidia-nvjitlink-cu12-12.5.82:\n",
            "      Successfully uninstalled nvidia-nvjitlink-cu12-12.5.82\n",
            "  Attempting uninstall: nvidia-curand-cu12\n",
            "    Found existing installation: nvidia-curand-cu12 10.3.6.82\n",
            "    Uninstalling nvidia-curand-cu12-10.3.6.82:\n",
            "      Successfully uninstalled nvidia-curand-cu12-10.3.6.82\n",
            "  Attempting uninstall: nvidia-cufft-cu12\n",
            "    Found existing installation: nvidia-cufft-cu12 11.2.3.61\n",
            "    Uninstalling nvidia-cufft-cu12-11.2.3.61:\n",
            "      Successfully uninstalled nvidia-cufft-cu12-11.2.3.61\n",
            "  Attempting uninstall: nvidia-cuda-runtime-cu12\n",
            "    Found existing installation: nvidia-cuda-runtime-cu12 12.5.82\n",
            "    Uninstalling nvidia-cuda-runtime-cu12-12.5.82:\n",
            "      Successfully uninstalled nvidia-cuda-runtime-cu12-12.5.82\n",
            "  Attempting uninstall: nvidia-cuda-nvrtc-cu12\n",
            "    Found existing installation: nvidia-cuda-nvrtc-cu12 12.5.82\n",
            "    Uninstalling nvidia-cuda-nvrtc-cu12-12.5.82:\n",
            "      Successfully uninstalled nvidia-cuda-nvrtc-cu12-12.5.82\n",
            "  Attempting uninstall: nvidia-cuda-cupti-cu12\n",
            "    Found existing installation: nvidia-cuda-cupti-cu12 12.5.82\n",
            "    Uninstalling nvidia-cuda-cupti-cu12-12.5.82:\n",
            "      Successfully uninstalled nvidia-cuda-cupti-cu12-12.5.82\n",
            "  Attempting uninstall: nvidia-cublas-cu12\n",
            "    Found existing installation: nvidia-cublas-cu12 12.5.3.2\n",
            "    Uninstalling nvidia-cublas-cu12-12.5.3.2:\n",
            "      Successfully uninstalled nvidia-cublas-cu12-12.5.3.2\n",
            "  Attempting uninstall: nvidia-cusparse-cu12\n",
            "    Found existing installation: nvidia-cusparse-cu12 12.5.1.3\n",
            "    Uninstalling nvidia-cusparse-cu12-12.5.1.3:\n",
            "      Successfully uninstalled nvidia-cusparse-cu12-12.5.1.3\n",
            "  Attempting uninstall: nvidia-cudnn-cu12\n",
            "    Found existing installation: nvidia-cudnn-cu12 9.3.0.75\n",
            "    Uninstalling nvidia-cudnn-cu12-9.3.0.75:\n",
            "      Successfully uninstalled nvidia-cudnn-cu12-9.3.0.75\n",
            "  Attempting uninstall: nvidia-cusolver-cu12\n",
            "    Found existing installation: nvidia-cusolver-cu12 11.6.3.83\n",
            "    Uninstalling nvidia-cusolver-cu12-11.6.3.83:\n",
            "      Successfully uninstalled nvidia-cusolver-cu12-11.6.3.83\n",
            "Successfully installed nvidia-cublas-cu12-12.4.5.8 nvidia-cuda-cupti-cu12-12.4.127 nvidia-cuda-nvrtc-cu12-12.4.127 nvidia-cuda-runtime-cu12-12.4.127 nvidia-cudnn-cu12-9.1.0.70 nvidia-cufft-cu12-11.2.1.3 nvidia-curand-cu12-10.3.5.147 nvidia-cusolver-cu12-11.6.1.9 nvidia-cusparse-cu12-12.3.1.170 nvidia-nvjitlink-cu12-12.4.127 ultralytics-8.3.135 ultralytics-thop-2.0.14\n",
            "Creating new Ultralytics Settings v0.0.6 file ✅ \n",
            "View Ultralytics Settings with 'yolo settings' or at '/root/.config/Ultralytics/settings.json'\n",
            "Update Settings with 'yolo settings key=value', i.e. 'yolo settings runs_dir=path/to/dir'. For help see https://docs.ultralytics.com/quickstart/#ultralytics-settings.\n"
          ]
        }
      ]
    },
    {
      "cell_type": "code",
      "source": [
        "import torch\n",
        "import numpy as np\n",
        "from sklearn.metrics import roc_curve, auc\n",
        "import matplotlib.pyplot as plt\n",
        "from sklearn.preprocessing import label_binarize"
      ],
      "metadata": {
        "id": "5SnZ6KeJXw3A"
      },
      "execution_count": 5,
      "outputs": []
    },
    {
      "cell_type": "markdown",
      "source": [
        "# Training Rotation, Scaling, Shearing, Translation using Nano"
      ],
      "metadata": {
        "id": "bxQfj4UmVgSC"
      }
    },
    {
      "cell_type": "code",
      "source": [
        "model = YOLO('yolov8n-cls.pt')\n",
        "model.train(\n",
        "    data=\"/content/dataset\",\n",
        "    epochs=100,\n",
        "    imgsz=320,\n",
        "    batch=16,\n",
        "    augment=True,\n",
        "    degrees=30,\n",
        "    fliplr=0,\n",
        "    flipud=0,\n",
        "    scale=0.3,\n",
        "    shear=5,\n",
        "    translate=0.2\n",
        ")"
      ],
      "metadata": {
        "colab": {
          "base_uri": "https://localhost:8080/"
        },
        "id": "4Ona5tB6VWkS",
        "outputId": "174d0657-d802-45a2-9df7-bd276c7afd40"
      },
      "execution_count": 3,
      "outputs": [
        {
          "output_type": "stream",
          "name": "stdout",
          "text": [
            "Downloading https://github.com/ultralytics/assets/releases/download/v8.3.0/yolov8n-cls.pt to 'yolov8n-cls.pt'...\n"
          ]
        },
        {
          "output_type": "stream",
          "name": "stderr",
          "text": [
            "100%|██████████| 5.31M/5.31M [00:00<00:00, 84.1MB/s]\n"
          ]
        },
        {
          "output_type": "stream",
          "name": "stdout",
          "text": [
            "Ultralytics 8.3.135 🚀 Python-3.11.12 torch-2.6.0+cu124 CUDA:0 (Tesla T4, 15095MiB)\n",
            "\u001b[34m\u001b[1mengine/trainer: \u001b[0magnostic_nms=False, amp=True, augment=True, auto_augment=randaugment, batch=16, bgr=0.0, box=7.5, cache=False, cfg=None, classes=None, close_mosaic=10, cls=0.5, conf=None, copy_paste=0.0, copy_paste_mode=flip, cos_lr=False, cutmix=0.0, data=/content/dataset, degrees=30, deterministic=True, device=None, dfl=1.5, dnn=False, dropout=0.0, dynamic=False, embed=None, epochs=100, erasing=0.4, exist_ok=False, fliplr=0, flipud=0, format=torchscript, fraction=1.0, freeze=None, half=False, hsv_h=0.015, hsv_s=0.7, hsv_v=0.4, imgsz=320, int8=False, iou=0.7, keras=False, kobj=1.0, line_width=None, lr0=0.01, lrf=0.01, mask_ratio=4, max_det=300, mixup=0.0, mode=train, model=yolov8n-cls.pt, momentum=0.937, mosaic=1.0, multi_scale=False, name=train, nbs=64, nms=False, opset=None, optimize=False, optimizer=auto, overlap_mask=True, patience=100, perspective=0.0, plots=True, pose=12.0, pretrained=True, profile=False, project=None, rect=False, resume=False, retina_masks=False, save=True, save_conf=False, save_crop=False, save_dir=runs/classify/train, save_frames=False, save_json=False, save_period=-1, save_txt=False, scale=0.3, seed=0, shear=5, show=False, show_boxes=True, show_conf=True, show_labels=True, simplify=True, single_cls=False, source=None, split=val, stream_buffer=False, task=classify, time=None, tracker=botsort.yaml, translate=0.2, val=True, verbose=True, vid_stride=1, visualize=False, warmup_bias_lr=0.1, warmup_epochs=3.0, warmup_momentum=0.8, weight_decay=0.0005, workers=8, workspace=None\n",
            "\u001b[34m\u001b[1mtrain:\u001b[0m /content/dataset/train... found 428 images in 3 classes ✅ \n",
            "\u001b[34m\u001b[1mval:\u001b[0m /content/dataset/val... found 52 images in 3 classes ✅ \n",
            "\u001b[34m\u001b[1mtest:\u001b[0m /content/dataset/test... found 56 images in 3 classes ✅ \n",
            "Overriding model.yaml nc=1000 with nc=3\n",
            "\n",
            "                   from  n    params  module                                       arguments                     \n",
            "  0                  -1  1       464  ultralytics.nn.modules.conv.Conv             [3, 16, 3, 2]                 \n",
            "  1                  -1  1      4672  ultralytics.nn.modules.conv.Conv             [16, 32, 3, 2]                \n",
            "  2                  -1  1      7360  ultralytics.nn.modules.block.C2f             [32, 32, 1, True]             \n",
            "  3                  -1  1     18560  ultralytics.nn.modules.conv.Conv             [32, 64, 3, 2]                \n",
            "  4                  -1  2     49664  ultralytics.nn.modules.block.C2f             [64, 64, 2, True]             \n",
            "  5                  -1  1     73984  ultralytics.nn.modules.conv.Conv             [64, 128, 3, 2]               \n",
            "  6                  -1  2    197632  ultralytics.nn.modules.block.C2f             [128, 128, 2, True]           \n",
            "  7                  -1  1    295424  ultralytics.nn.modules.conv.Conv             [128, 256, 3, 2]              \n",
            "  8                  -1  1    460288  ultralytics.nn.modules.block.C2f             [256, 256, 1, True]           \n",
            "  9                  -1  1    334083  ultralytics.nn.modules.head.Classify         [256, 3]                      \n",
            "YOLOv8n-cls summary: 56 layers, 1,442,131 parameters, 1,442,131 gradients, 3.4 GFLOPs\n",
            "Transferred 156/158 items from pretrained weights\n",
            "\u001b[34m\u001b[1mAMP: \u001b[0mrunning Automatic Mixed Precision (AMP) checks...\n",
            "Downloading https://github.com/ultralytics/assets/releases/download/v8.3.0/yolo11n.pt to 'yolo11n.pt'...\n"
          ]
        },
        {
          "output_type": "stream",
          "name": "stderr",
          "text": [
            "100%|██████████| 5.35M/5.35M [00:00<00:00, 93.0MB/s]\n"
          ]
        },
        {
          "output_type": "stream",
          "name": "stdout",
          "text": [
            "\u001b[34m\u001b[1mAMP: \u001b[0mchecks passed ✅\n",
            "\u001b[34m\u001b[1mtrain: \u001b[0mFast image access ✅ (ping: 1.0±2.2 ms, read: 2.5±1.2 MB/s, size: 4.4 KB)\n"
          ]
        },
        {
          "output_type": "stream",
          "name": "stderr",
          "text": [
            "\u001b[34m\u001b[1mtrain: \u001b[0mScanning /content/dataset/train... 428 images, 0 corrupt: 100%|██████████| 428/428 [00:00<00:00, 973.93it/s]"
          ]
        },
        {
          "output_type": "stream",
          "name": "stdout",
          "text": [
            "\u001b[34m\u001b[1mtrain: \u001b[0mNew cache created: /content/dataset/train.cache\n"
          ]
        },
        {
          "output_type": "stream",
          "name": "stderr",
          "text": [
            "\n"
          ]
        },
        {
          "output_type": "stream",
          "name": "stdout",
          "text": [
            "\u001b[34m\u001b[1mval: \u001b[0mFast image access ✅ (ping: 0.0±0.0 ms, read: 4.4±4.4 MB/s, size: 14.8 KB)\n"
          ]
        },
        {
          "output_type": "stream",
          "name": "stderr",
          "text": [
            "\u001b[34m\u001b[1mval: \u001b[0mScanning /content/dataset/val... 52 images, 0 corrupt: 100%|██████████| 52/52 [00:00<00:00, 1096.78it/s]"
          ]
        },
        {
          "output_type": "stream",
          "name": "stdout",
          "text": [
            "\u001b[34m\u001b[1mval: \u001b[0mNew cache created: /content/dataset/val.cache\n"
          ]
        },
        {
          "output_type": "stream",
          "name": "stderr",
          "text": [
            "\n"
          ]
        },
        {
          "output_type": "stream",
          "name": "stdout",
          "text": [
            "\u001b[34m\u001b[1moptimizer:\u001b[0m 'optimizer=auto' found, ignoring 'lr0=0.01' and 'momentum=0.937' and determining best 'optimizer', 'lr0' and 'momentum' automatically... \n",
            "\u001b[34m\u001b[1moptimizer:\u001b[0m AdamW(lr=0.001429, momentum=0.9) with parameter groups 26 weight(decay=0.0), 27 weight(decay=0.0005), 27 bias(decay=0.0)\n",
            "Image sizes 320 train, 320 val\n",
            "Using 2 dataloader workers\n",
            "Logging results to \u001b[1mruns/classify/train\u001b[0m\n",
            "Starting training for 100 epochs...\n",
            "\n",
            "      Epoch    GPU_mem       loss  Instances       Size\n"
          ]
        },
        {
          "output_type": "stream",
          "name": "stderr",
          "text": [
            "      1/100     0.447G       1.13         16        320:  26%|██▌       | 7/27 [00:02<00:04,  4.67it/s]"
          ]
        },
        {
          "output_type": "stream",
          "name": "stdout",
          "text": [
            "Downloading https://ultralytics.com/assets/Arial.ttf to '/root/.config/Ultralytics/Arial.ttf'...\n"
          ]
        },
        {
          "output_type": "stream",
          "name": "stderr",
          "text": [
            "      1/100     0.447G      1.105         16        320:  37%|███▋      | 10/27 [00:03<00:03,  4.79it/s]\n",
            "100%|██████████| 755k/755k [00:00<00:00, 21.5MB/s]\n",
            "      1/100     0.449G      1.084         12        320: 100%|██████████| 27/27 [00:05<00:00,  4.58it/s]\n",
            "               classes   top1_acc   top5_acc: 100%|██████████| 2/2 [00:00<00:00,  6.95it/s]"
          ]
        },
        {
          "output_type": "stream",
          "name": "stdout",
          "text": [
            "                   all      0.442          1\n"
          ]
        },
        {
          "output_type": "stream",
          "name": "stderr",
          "text": [
            "\n"
          ]
        },
        {
          "output_type": "stream",
          "name": "stdout",
          "text": [
            "\n",
            "      Epoch    GPU_mem       loss  Instances       Size\n"
          ]
        },
        {
          "output_type": "stream",
          "name": "stderr",
          "text": [
            "      2/100     0.557G          1         12        320: 100%|██████████| 27/27 [00:03<00:00,  8.40it/s]\n",
            "               classes   top1_acc   top5_acc: 100%|██████████| 2/2 [00:00<00:00, 33.84it/s]"
          ]
        },
        {
          "output_type": "stream",
          "name": "stdout",
          "text": [
            "                   all      0.385          1\n"
          ]
        },
        {
          "output_type": "stream",
          "name": "stderr",
          "text": [
            "\n"
          ]
        },
        {
          "output_type": "stream",
          "name": "stdout",
          "text": [
            "\n",
            "      Epoch    GPU_mem       loss  Instances       Size\n"
          ]
        },
        {
          "output_type": "stream",
          "name": "stderr",
          "text": [
            "      3/100     0.564G     0.8939         12        320: 100%|██████████| 27/27 [00:03<00:00,  6.93it/s]\n",
            "               classes   top1_acc   top5_acc: 100%|██████████| 2/2 [00:00<00:00, 17.38it/s]"
          ]
        },
        {
          "output_type": "stream",
          "name": "stdout",
          "text": [
            "                   all      0.481          1\n"
          ]
        },
        {
          "output_type": "stream",
          "name": "stderr",
          "text": [
            "\n"
          ]
        },
        {
          "output_type": "stream",
          "name": "stdout",
          "text": [
            "\n",
            "      Epoch    GPU_mem       loss  Instances       Size\n"
          ]
        },
        {
          "output_type": "stream",
          "name": "stderr",
          "text": [
            "      4/100     0.572G     0.7993         12        320: 100%|██████████| 27/27 [00:03<00:00,  7.06it/s]\n",
            "               classes   top1_acc   top5_acc: 100%|██████████| 2/2 [00:00<00:00, 35.99it/s]"
          ]
        },
        {
          "output_type": "stream",
          "name": "stdout",
          "text": [
            "                   all        0.5          1\n"
          ]
        },
        {
          "output_type": "stream",
          "name": "stderr",
          "text": [
            "\n"
          ]
        },
        {
          "output_type": "stream",
          "name": "stdout",
          "text": [
            "\n",
            "      Epoch    GPU_mem       loss  Instances       Size\n"
          ]
        },
        {
          "output_type": "stream",
          "name": "stderr",
          "text": [
            "      5/100      0.58G     0.6947         12        320: 100%|██████████| 27/27 [00:03<00:00,  8.16it/s]\n",
            "               classes   top1_acc   top5_acc: 100%|██████████| 2/2 [00:00<00:00, 28.98it/s]"
          ]
        },
        {
          "output_type": "stream",
          "name": "stdout",
          "text": [
            "                   all        0.5          1\n"
          ]
        },
        {
          "output_type": "stream",
          "name": "stderr",
          "text": [
            "\n"
          ]
        },
        {
          "output_type": "stream",
          "name": "stdout",
          "text": [
            "\n",
            "      Epoch    GPU_mem       loss  Instances       Size\n"
          ]
        },
        {
          "output_type": "stream",
          "name": "stderr",
          "text": [
            "      6/100      0.59G     0.6205         12        320: 100%|██████████| 27/27 [00:03<00:00,  7.71it/s]\n",
            "               classes   top1_acc   top5_acc: 100%|██████████| 2/2 [00:00<00:00, 22.30it/s]"
          ]
        },
        {
          "output_type": "stream",
          "name": "stdout",
          "text": [
            "                   all      0.519          1\n"
          ]
        },
        {
          "output_type": "stream",
          "name": "stderr",
          "text": [
            "\n"
          ]
        },
        {
          "output_type": "stream",
          "name": "stdout",
          "text": [
            "\n",
            "      Epoch    GPU_mem       loss  Instances       Size\n"
          ]
        },
        {
          "output_type": "stream",
          "name": "stderr",
          "text": [
            "      7/100     0.598G     0.5318         12        320: 100%|██████████| 27/27 [00:04<00:00,  5.94it/s]\n",
            "               classes   top1_acc   top5_acc: 100%|██████████| 2/2 [00:00<00:00, 23.48it/s]"
          ]
        },
        {
          "output_type": "stream",
          "name": "stdout",
          "text": [
            "                   all      0.462          1\n"
          ]
        },
        {
          "output_type": "stream",
          "name": "stderr",
          "text": [
            "\n"
          ]
        },
        {
          "output_type": "stream",
          "name": "stdout",
          "text": [
            "\n",
            "      Epoch    GPU_mem       loss  Instances       Size\n"
          ]
        },
        {
          "output_type": "stream",
          "name": "stderr",
          "text": [
            "      8/100     0.605G     0.4804         12        320: 100%|██████████| 27/27 [00:03<00:00,  7.93it/s]\n",
            "               classes   top1_acc   top5_acc: 100%|██████████| 2/2 [00:00<00:00, 36.57it/s]"
          ]
        },
        {
          "output_type": "stream",
          "name": "stdout",
          "text": [
            "                   all        0.5          1\n"
          ]
        },
        {
          "output_type": "stream",
          "name": "stderr",
          "text": [
            "\n"
          ]
        },
        {
          "output_type": "stream",
          "name": "stdout",
          "text": [
            "\n",
            "      Epoch    GPU_mem       loss  Instances       Size\n"
          ]
        },
        {
          "output_type": "stream",
          "name": "stderr",
          "text": [
            "      9/100     0.613G     0.4668         12        320: 100%|██████████| 27/27 [00:04<00:00,  6.45it/s]\n",
            "               classes   top1_acc   top5_acc: 100%|██████████| 2/2 [00:00<00:00, 18.33it/s]"
          ]
        },
        {
          "output_type": "stream",
          "name": "stdout",
          "text": [
            "                   all      0.654          1\n"
          ]
        },
        {
          "output_type": "stream",
          "name": "stderr",
          "text": [
            "\n"
          ]
        },
        {
          "output_type": "stream",
          "name": "stdout",
          "text": [
            "\n",
            "      Epoch    GPU_mem       loss  Instances       Size\n"
          ]
        },
        {
          "output_type": "stream",
          "name": "stderr",
          "text": [
            "     10/100     0.623G     0.3995         12        320: 100%|██████████| 27/27 [00:03<00:00,  8.10it/s]\n",
            "               classes   top1_acc   top5_acc: 100%|██████████| 2/2 [00:00<00:00, 18.67it/s]"
          ]
        },
        {
          "output_type": "stream",
          "name": "stdout",
          "text": [
            "                   all      0.577          1\n"
          ]
        },
        {
          "output_type": "stream",
          "name": "stderr",
          "text": [
            "\n"
          ]
        },
        {
          "output_type": "stream",
          "name": "stdout",
          "text": [
            "\n",
            "      Epoch    GPU_mem       loss  Instances       Size\n"
          ]
        },
        {
          "output_type": "stream",
          "name": "stderr",
          "text": [
            "     11/100     0.631G     0.3639         12        320: 100%|██████████| 27/27 [00:03<00:00,  7.17it/s]\n",
            "               classes   top1_acc   top5_acc: 100%|██████████| 2/2 [00:00<00:00, 26.83it/s]"
          ]
        },
        {
          "output_type": "stream",
          "name": "stdout",
          "text": [
            "                   all      0.673          1\n"
          ]
        },
        {
          "output_type": "stream",
          "name": "stderr",
          "text": [
            "\n"
          ]
        },
        {
          "output_type": "stream",
          "name": "stdout",
          "text": [
            "\n",
            "      Epoch    GPU_mem       loss  Instances       Size\n"
          ]
        },
        {
          "output_type": "stream",
          "name": "stderr",
          "text": [
            "     12/100     0.639G     0.3503         12        320: 100%|██████████| 27/27 [00:04<00:00,  6.31it/s]\n",
            "               classes   top1_acc   top5_acc: 100%|██████████| 2/2 [00:00<00:00, 21.82it/s]"
          ]
        },
        {
          "output_type": "stream",
          "name": "stdout",
          "text": [
            "                   all      0.654          1\n"
          ]
        },
        {
          "output_type": "stream",
          "name": "stderr",
          "text": [
            "\n"
          ]
        },
        {
          "output_type": "stream",
          "name": "stdout",
          "text": [
            "\n",
            "      Epoch    GPU_mem       loss  Instances       Size\n"
          ]
        },
        {
          "output_type": "stream",
          "name": "stderr",
          "text": [
            "     13/100     0.646G     0.3275         12        320: 100%|██████████| 27/27 [00:03<00:00,  7.48it/s]\n",
            "               classes   top1_acc   top5_acc: 100%|██████████| 2/2 [00:00<00:00, 41.01it/s]"
          ]
        },
        {
          "output_type": "stream",
          "name": "stdout",
          "text": [
            "                   all      0.731          1\n"
          ]
        },
        {
          "output_type": "stream",
          "name": "stderr",
          "text": [
            "\n"
          ]
        },
        {
          "output_type": "stream",
          "name": "stdout",
          "text": [
            "\n",
            "      Epoch    GPU_mem       loss  Instances       Size\n"
          ]
        },
        {
          "output_type": "stream",
          "name": "stderr",
          "text": [
            "     14/100     0.654G      0.273         12        320: 100%|██████████| 27/27 [00:03<00:00,  7.97it/s]\n",
            "               classes   top1_acc   top5_acc: 100%|██████████| 2/2 [00:00<00:00, 33.16it/s]"
          ]
        },
        {
          "output_type": "stream",
          "name": "stdout",
          "text": [
            "                   all      0.615          1\n"
          ]
        },
        {
          "output_type": "stream",
          "name": "stderr",
          "text": [
            "\n"
          ]
        },
        {
          "output_type": "stream",
          "name": "stdout",
          "text": [
            "\n",
            "      Epoch    GPU_mem       loss  Instances       Size\n"
          ]
        },
        {
          "output_type": "stream",
          "name": "stderr",
          "text": [
            "     15/100     0.662G      0.269         12        320: 100%|██████████| 27/27 [00:04<00:00,  6.62it/s]\n",
            "               classes   top1_acc   top5_acc: 100%|██████████| 2/2 [00:00<00:00, 23.17it/s]"
          ]
        },
        {
          "output_type": "stream",
          "name": "stdout",
          "text": [
            "                   all      0.673          1\n"
          ]
        },
        {
          "output_type": "stream",
          "name": "stderr",
          "text": [
            "\n"
          ]
        },
        {
          "output_type": "stream",
          "name": "stdout",
          "text": [
            "\n",
            "      Epoch    GPU_mem       loss  Instances       Size\n"
          ]
        },
        {
          "output_type": "stream",
          "name": "stderr",
          "text": [
            "     16/100     0.672G     0.2933         12        320: 100%|██████████| 27/27 [00:03<00:00,  7.84it/s]\n",
            "               classes   top1_acc   top5_acc: 100%|██████████| 2/2 [00:00<00:00, 27.23it/s]"
          ]
        },
        {
          "output_type": "stream",
          "name": "stdout",
          "text": [
            "                   all      0.712          1\n"
          ]
        },
        {
          "output_type": "stream",
          "name": "stderr",
          "text": [
            "\n"
          ]
        },
        {
          "output_type": "stream",
          "name": "stdout",
          "text": [
            "\n",
            "      Epoch    GPU_mem       loss  Instances       Size\n"
          ]
        },
        {
          "output_type": "stream",
          "name": "stderr",
          "text": [
            "     17/100      0.68G     0.2959         12        320: 100%|██████████| 27/27 [00:03<00:00,  8.10it/s]\n",
            "               classes   top1_acc   top5_acc: 100%|██████████| 2/2 [00:00<00:00, 31.60it/s]"
          ]
        },
        {
          "output_type": "stream",
          "name": "stdout",
          "text": [
            "                   all      0.635          1\n"
          ]
        },
        {
          "output_type": "stream",
          "name": "stderr",
          "text": [
            "\n"
          ]
        },
        {
          "output_type": "stream",
          "name": "stdout",
          "text": [
            "\n",
            "      Epoch    GPU_mem       loss  Instances       Size\n"
          ]
        },
        {
          "output_type": "stream",
          "name": "stderr",
          "text": [
            "     18/100     0.688G     0.1909         12        320: 100%|██████████| 27/27 [00:04<00:00,  6.40it/s]\n",
            "               classes   top1_acc   top5_acc: 100%|██████████| 2/2 [00:00<00:00, 19.14it/s]"
          ]
        },
        {
          "output_type": "stream",
          "name": "stdout",
          "text": [
            "                   all      0.673          1\n"
          ]
        },
        {
          "output_type": "stream",
          "name": "stderr",
          "text": [
            "\n"
          ]
        },
        {
          "output_type": "stream",
          "name": "stdout",
          "text": [
            "\n",
            "      Epoch    GPU_mem       loss  Instances       Size\n"
          ]
        },
        {
          "output_type": "stream",
          "name": "stderr",
          "text": [
            "     19/100     0.695G     0.2237         12        320: 100%|██████████| 27/27 [00:03<00:00,  7.86it/s]\n",
            "               classes   top1_acc   top5_acc: 100%|██████████| 2/2 [00:00<00:00, 26.99it/s]"
          ]
        },
        {
          "output_type": "stream",
          "name": "stdout",
          "text": [
            "                   all      0.673          1\n"
          ]
        },
        {
          "output_type": "stream",
          "name": "stderr",
          "text": [
            "\n"
          ]
        },
        {
          "output_type": "stream",
          "name": "stdout",
          "text": [
            "\n",
            "      Epoch    GPU_mem       loss  Instances       Size\n"
          ]
        },
        {
          "output_type": "stream",
          "name": "stderr",
          "text": [
            "     20/100     0.703G      0.165         12        320: 100%|██████████| 27/27 [00:03<00:00,  8.12it/s]\n",
            "               classes   top1_acc   top5_acc: 100%|██████████| 2/2 [00:00<00:00, 31.93it/s]"
          ]
        },
        {
          "output_type": "stream",
          "name": "stdout",
          "text": [
            "                   all      0.673          1\n"
          ]
        },
        {
          "output_type": "stream",
          "name": "stderr",
          "text": [
            "\n"
          ]
        },
        {
          "output_type": "stream",
          "name": "stdout",
          "text": [
            "\n",
            "      Epoch    GPU_mem       loss  Instances       Size\n"
          ]
        },
        {
          "output_type": "stream",
          "name": "stderr",
          "text": [
            "     21/100     0.711G     0.1823         12        320: 100%|██████████| 27/27 [00:03<00:00,  6.97it/s]\n",
            "               classes   top1_acc   top5_acc: 100%|██████████| 2/2 [00:00<00:00, 23.39it/s]"
          ]
        },
        {
          "output_type": "stream",
          "name": "stdout",
          "text": [
            "                   all      0.692          1\n"
          ]
        },
        {
          "output_type": "stream",
          "name": "stderr",
          "text": [
            "\n"
          ]
        },
        {
          "output_type": "stream",
          "name": "stdout",
          "text": [
            "\n",
            "      Epoch    GPU_mem       loss  Instances       Size\n"
          ]
        },
        {
          "output_type": "stream",
          "name": "stderr",
          "text": [
            "     22/100     0.721G     0.1616         12        320: 100%|██████████| 27/27 [00:03<00:00,  7.44it/s]\n",
            "               classes   top1_acc   top5_acc: 100%|██████████| 2/2 [00:00<00:00, 32.04it/s]"
          ]
        },
        {
          "output_type": "stream",
          "name": "stdout",
          "text": [
            "                   all      0.615          1\n"
          ]
        },
        {
          "output_type": "stream",
          "name": "stderr",
          "text": [
            "\n"
          ]
        },
        {
          "output_type": "stream",
          "name": "stdout",
          "text": [
            "\n",
            "      Epoch    GPU_mem       loss  Instances       Size\n"
          ]
        },
        {
          "output_type": "stream",
          "name": "stderr",
          "text": [
            "     23/100     0.729G     0.2086         12        320: 100%|██████████| 27/27 [00:03<00:00,  7.60it/s]\n",
            "               classes   top1_acc   top5_acc: 100%|██████████| 2/2 [00:00<00:00, 20.81it/s]"
          ]
        },
        {
          "output_type": "stream",
          "name": "stdout",
          "text": [
            "                   all      0.712          1\n"
          ]
        },
        {
          "output_type": "stream",
          "name": "stderr",
          "text": [
            "\n"
          ]
        },
        {
          "output_type": "stream",
          "name": "stdout",
          "text": [
            "\n",
            "      Epoch    GPU_mem       loss  Instances       Size\n"
          ]
        },
        {
          "output_type": "stream",
          "name": "stderr",
          "text": [
            "     24/100     0.736G     0.1426         12        320: 100%|██████████| 27/27 [00:03<00:00,  6.75it/s]\n",
            "               classes   top1_acc   top5_acc: 100%|██████████| 2/2 [00:00<00:00, 22.18it/s]"
          ]
        },
        {
          "output_type": "stream",
          "name": "stdout",
          "text": [
            "                   all      0.712          1\n"
          ]
        },
        {
          "output_type": "stream",
          "name": "stderr",
          "text": [
            "\n"
          ]
        },
        {
          "output_type": "stream",
          "name": "stdout",
          "text": [
            "\n",
            "      Epoch    GPU_mem       loss  Instances       Size\n"
          ]
        },
        {
          "output_type": "stream",
          "name": "stderr",
          "text": [
            "     25/100     0.744G      0.127         12        320: 100%|██████████| 27/27 [00:03<00:00,  7.12it/s]\n",
            "               classes   top1_acc   top5_acc: 100%|██████████| 2/2 [00:00<00:00, 25.76it/s]"
          ]
        },
        {
          "output_type": "stream",
          "name": "stdout",
          "text": [
            "                   all      0.788          1\n"
          ]
        },
        {
          "output_type": "stream",
          "name": "stderr",
          "text": [
            "\n"
          ]
        },
        {
          "output_type": "stream",
          "name": "stdout",
          "text": [
            "\n",
            "      Epoch    GPU_mem       loss  Instances       Size\n"
          ]
        },
        {
          "output_type": "stream",
          "name": "stderr",
          "text": [
            "     26/100     0.752G     0.2213         12        320: 100%|██████████| 27/27 [00:03<00:00,  7.88it/s]\n",
            "               classes   top1_acc   top5_acc: 100%|██████████| 2/2 [00:00<00:00, 37.92it/s]"
          ]
        },
        {
          "output_type": "stream",
          "name": "stdout",
          "text": [
            "                   all      0.673          1\n"
          ]
        },
        {
          "output_type": "stream",
          "name": "stderr",
          "text": [
            "\n"
          ]
        },
        {
          "output_type": "stream",
          "name": "stdout",
          "text": [
            "\n",
            "      Epoch    GPU_mem       loss  Instances       Size\n"
          ]
        },
        {
          "output_type": "stream",
          "name": "stderr",
          "text": [
            "     27/100     0.762G      0.181         12        320: 100%|██████████| 27/27 [00:03<00:00,  7.53it/s]\n",
            "               classes   top1_acc   top5_acc: 100%|██████████| 2/2 [00:00<00:00, 18.16it/s]"
          ]
        },
        {
          "output_type": "stream",
          "name": "stdout",
          "text": [
            "                   all      0.712          1\n"
          ]
        },
        {
          "output_type": "stream",
          "name": "stderr",
          "text": [
            "\n"
          ]
        },
        {
          "output_type": "stream",
          "name": "stdout",
          "text": [
            "\n",
            "      Epoch    GPU_mem       loss  Instances       Size\n"
          ]
        },
        {
          "output_type": "stream",
          "name": "stderr",
          "text": [
            "     28/100      0.77G     0.1547         12        320: 100%|██████████| 27/27 [00:03<00:00,  6.80it/s]\n",
            "               classes   top1_acc   top5_acc: 100%|██████████| 2/2 [00:00<00:00, 30.14it/s]"
          ]
        },
        {
          "output_type": "stream",
          "name": "stdout",
          "text": [
            "                   all      0.712          1\n"
          ]
        },
        {
          "output_type": "stream",
          "name": "stderr",
          "text": [
            "\n"
          ]
        },
        {
          "output_type": "stream",
          "name": "stdout",
          "text": [
            "\n",
            "      Epoch    GPU_mem       loss  Instances       Size\n"
          ]
        },
        {
          "output_type": "stream",
          "name": "stderr",
          "text": [
            "     29/100     0.777G     0.1413         12        320: 100%|██████████| 27/27 [00:03<00:00,  8.26it/s]\n",
            "               classes   top1_acc   top5_acc: 100%|██████████| 2/2 [00:00<00:00, 22.69it/s]"
          ]
        },
        {
          "output_type": "stream",
          "name": "stdout",
          "text": [
            "                   all      0.673          1\n"
          ]
        },
        {
          "output_type": "stream",
          "name": "stderr",
          "text": [
            "\n"
          ]
        },
        {
          "output_type": "stream",
          "name": "stdout",
          "text": [
            "\n",
            "      Epoch    GPU_mem       loss  Instances       Size\n"
          ]
        },
        {
          "output_type": "stream",
          "name": "stderr",
          "text": [
            "     30/100     0.785G     0.1425         12        320: 100%|██████████| 27/27 [00:03<00:00,  8.07it/s]\n",
            "               classes   top1_acc   top5_acc: 100%|██████████| 2/2 [00:00<00:00, 23.81it/s]"
          ]
        },
        {
          "output_type": "stream",
          "name": "stdout",
          "text": [
            "                   all      0.712          1\n"
          ]
        },
        {
          "output_type": "stream",
          "name": "stderr",
          "text": [
            "\n"
          ]
        },
        {
          "output_type": "stream",
          "name": "stdout",
          "text": [
            "\n",
            "      Epoch    GPU_mem       loss  Instances       Size\n"
          ]
        },
        {
          "output_type": "stream",
          "name": "stderr",
          "text": [
            "     31/100     0.793G     0.1221         12        320: 100%|██████████| 27/27 [00:04<00:00,  6.23it/s]\n",
            "               classes   top1_acc   top5_acc: 100%|██████████| 2/2 [00:00<00:00, 20.61it/s]"
          ]
        },
        {
          "output_type": "stream",
          "name": "stdout",
          "text": [
            "                   all      0.615          1\n"
          ]
        },
        {
          "output_type": "stream",
          "name": "stderr",
          "text": [
            "\n"
          ]
        },
        {
          "output_type": "stream",
          "name": "stdout",
          "text": [
            "\n",
            "      Epoch    GPU_mem       loss  Instances       Size\n"
          ]
        },
        {
          "output_type": "stream",
          "name": "stderr",
          "text": [
            "     32/100     0.801G     0.1174         12        320: 100%|██████████| 27/27 [00:03<00:00,  8.03it/s]\n",
            "               classes   top1_acc   top5_acc: 100%|██████████| 2/2 [00:00<00:00, 26.25it/s]"
          ]
        },
        {
          "output_type": "stream",
          "name": "stdout",
          "text": [
            "                   all      0.673          1\n"
          ]
        },
        {
          "output_type": "stream",
          "name": "stderr",
          "text": [
            "\n"
          ]
        },
        {
          "output_type": "stream",
          "name": "stdout",
          "text": [
            "\n",
            "      Epoch    GPU_mem       loss  Instances       Size\n"
          ]
        },
        {
          "output_type": "stream",
          "name": "stderr",
          "text": [
            "     33/100     0.809G     0.1014         12        320: 100%|██████████| 27/27 [00:03<00:00,  8.16it/s]\n",
            "               classes   top1_acc   top5_acc: 100%|██████████| 2/2 [00:00<00:00, 36.06it/s]"
          ]
        },
        {
          "output_type": "stream",
          "name": "stdout",
          "text": [
            "                   all      0.673          1\n"
          ]
        },
        {
          "output_type": "stream",
          "name": "stderr",
          "text": [
            "\n"
          ]
        },
        {
          "output_type": "stream",
          "name": "stdout",
          "text": [
            "\n",
            "      Epoch    GPU_mem       loss  Instances       Size\n"
          ]
        },
        {
          "output_type": "stream",
          "name": "stderr",
          "text": [
            "     34/100     0.818G     0.1156         12        320: 100%|██████████| 27/27 [00:04<00:00,  6.35it/s]\n",
            "               classes   top1_acc   top5_acc: 100%|██████████| 2/2 [00:00<00:00, 37.37it/s]"
          ]
        },
        {
          "output_type": "stream",
          "name": "stdout",
          "text": [
            "                   all      0.731          1\n"
          ]
        },
        {
          "output_type": "stream",
          "name": "stderr",
          "text": [
            "\n"
          ]
        },
        {
          "output_type": "stream",
          "name": "stdout",
          "text": [
            "\n",
            "      Epoch    GPU_mem       loss  Instances       Size\n"
          ]
        },
        {
          "output_type": "stream",
          "name": "stderr",
          "text": [
            "     35/100     0.826G     0.1351         12        320: 100%|██████████| 27/27 [00:03<00:00,  8.06it/s]\n",
            "               classes   top1_acc   top5_acc: 100%|██████████| 2/2 [00:00<00:00, 25.86it/s]"
          ]
        },
        {
          "output_type": "stream",
          "name": "stdout",
          "text": [
            "                   all      0.692          1\n"
          ]
        },
        {
          "output_type": "stream",
          "name": "stderr",
          "text": [
            "\n"
          ]
        },
        {
          "output_type": "stream",
          "name": "stdout",
          "text": [
            "\n",
            "      Epoch    GPU_mem       loss  Instances       Size\n"
          ]
        },
        {
          "output_type": "stream",
          "name": "stderr",
          "text": [
            "     36/100     0.834G     0.1353         12        320: 100%|██████████| 27/27 [00:03<00:00,  8.40it/s]\n",
            "               classes   top1_acc   top5_acc: 100%|██████████| 2/2 [00:00<00:00, 47.71it/s]"
          ]
        },
        {
          "output_type": "stream",
          "name": "stdout",
          "text": [
            "                   all      0.654          1\n"
          ]
        },
        {
          "output_type": "stream",
          "name": "stderr",
          "text": [
            "\n"
          ]
        },
        {
          "output_type": "stream",
          "name": "stdout",
          "text": [
            "\n",
            "      Epoch    GPU_mem       loss  Instances       Size\n"
          ]
        },
        {
          "output_type": "stream",
          "name": "stderr",
          "text": [
            "     37/100     0.842G     0.1145         12        320: 100%|██████████| 27/27 [00:04<00:00,  5.85it/s]\n",
            "               classes   top1_acc   top5_acc: 100%|██████████| 2/2 [00:00<00:00, 24.10it/s]"
          ]
        },
        {
          "output_type": "stream",
          "name": "stdout",
          "text": [
            "                   all      0.654          1\n"
          ]
        },
        {
          "output_type": "stream",
          "name": "stderr",
          "text": [
            "\n"
          ]
        },
        {
          "output_type": "stream",
          "name": "stdout",
          "text": [
            "\n",
            "      Epoch    GPU_mem       loss  Instances       Size\n"
          ]
        },
        {
          "output_type": "stream",
          "name": "stderr",
          "text": [
            "     38/100      0.85G     0.1029         12        320: 100%|██████████| 27/27 [00:03<00:00,  8.29it/s]\n",
            "               classes   top1_acc   top5_acc: 100%|██████████| 2/2 [00:00<00:00, 26.71it/s]"
          ]
        },
        {
          "output_type": "stream",
          "name": "stdout",
          "text": [
            "                   all      0.712          1\n"
          ]
        },
        {
          "output_type": "stream",
          "name": "stderr",
          "text": [
            "\n"
          ]
        },
        {
          "output_type": "stream",
          "name": "stdout",
          "text": [
            "\n",
            "      Epoch    GPU_mem       loss  Instances       Size\n"
          ]
        },
        {
          "output_type": "stream",
          "name": "stderr",
          "text": [
            "     39/100     0.859G     0.1036         12        320: 100%|██████████| 27/27 [00:03<00:00,  7.99it/s]\n",
            "               classes   top1_acc   top5_acc: 100%|██████████| 2/2 [00:00<00:00, 25.16it/s]"
          ]
        },
        {
          "output_type": "stream",
          "name": "stdout",
          "text": [
            "                   all      0.712          1\n"
          ]
        },
        {
          "output_type": "stream",
          "name": "stderr",
          "text": [
            "\n"
          ]
        },
        {
          "output_type": "stream",
          "name": "stdout",
          "text": [
            "\n",
            "      Epoch    GPU_mem       loss  Instances       Size\n"
          ]
        },
        {
          "output_type": "stream",
          "name": "stderr",
          "text": [
            "     40/100     0.867G    0.07214         12        320: 100%|██████████| 27/27 [00:04<00:00,  6.17it/s]\n",
            "               classes   top1_acc   top5_acc: 100%|██████████| 2/2 [00:00<00:00, 29.93it/s]"
          ]
        },
        {
          "output_type": "stream",
          "name": "stdout",
          "text": [
            "                   all      0.712          1\n"
          ]
        },
        {
          "output_type": "stream",
          "name": "stderr",
          "text": [
            "\n"
          ]
        },
        {
          "output_type": "stream",
          "name": "stdout",
          "text": [
            "\n",
            "      Epoch    GPU_mem       loss  Instances       Size\n"
          ]
        },
        {
          "output_type": "stream",
          "name": "stderr",
          "text": [
            "     41/100     0.875G    0.07359         12        320: 100%|██████████| 27/27 [00:03<00:00,  8.27it/s]\n",
            "               classes   top1_acc   top5_acc: 100%|██████████| 2/2 [00:00<00:00, 23.02it/s]"
          ]
        },
        {
          "output_type": "stream",
          "name": "stdout",
          "text": [
            "                   all      0.731          1\n"
          ]
        },
        {
          "output_type": "stream",
          "name": "stderr",
          "text": [
            "\n"
          ]
        },
        {
          "output_type": "stream",
          "name": "stdout",
          "text": [
            "\n",
            "      Epoch    GPU_mem       loss  Instances       Size\n"
          ]
        },
        {
          "output_type": "stream",
          "name": "stderr",
          "text": [
            "     42/100     0.883G     0.1365         12        320: 100%|██████████| 27/27 [00:03<00:00,  8.16it/s]\n",
            "               classes   top1_acc   top5_acc: 100%|██████████| 2/2 [00:00<00:00, 21.01it/s]"
          ]
        },
        {
          "output_type": "stream",
          "name": "stdout",
          "text": [
            "                   all      0.692          1\n"
          ]
        },
        {
          "output_type": "stream",
          "name": "stderr",
          "text": [
            "\n"
          ]
        },
        {
          "output_type": "stream",
          "name": "stdout",
          "text": [
            "\n",
            "      Epoch    GPU_mem       loss  Instances       Size\n"
          ]
        },
        {
          "output_type": "stream",
          "name": "stderr",
          "text": [
            "     43/100     0.891G    0.09344         12        320: 100%|██████████| 27/27 [00:04<00:00,  6.07it/s]\n",
            "               classes   top1_acc   top5_acc: 100%|██████████| 2/2 [00:00<00:00, 34.69it/s]"
          ]
        },
        {
          "output_type": "stream",
          "name": "stdout",
          "text": [
            "                   all      0.654          1\n"
          ]
        },
        {
          "output_type": "stream",
          "name": "stderr",
          "text": [
            "\n"
          ]
        },
        {
          "output_type": "stream",
          "name": "stdout",
          "text": [
            "\n",
            "      Epoch    GPU_mem       loss  Instances       Size\n"
          ]
        },
        {
          "output_type": "stream",
          "name": "stderr",
          "text": [
            "     44/100     0.898G     0.0815         12        320: 100%|██████████| 27/27 [00:03<00:00,  7.96it/s]\n",
            "               classes   top1_acc   top5_acc: 100%|██████████| 2/2 [00:00<00:00, 20.51it/s]"
          ]
        },
        {
          "output_type": "stream",
          "name": "stdout",
          "text": [
            "                   all      0.654          1\n"
          ]
        },
        {
          "output_type": "stream",
          "name": "stderr",
          "text": [
            "\n"
          ]
        },
        {
          "output_type": "stream",
          "name": "stdout",
          "text": [
            "\n",
            "      Epoch    GPU_mem       loss  Instances       Size\n"
          ]
        },
        {
          "output_type": "stream",
          "name": "stderr",
          "text": [
            "     45/100     0.906G     0.1028         12        320: 100%|██████████| 27/27 [00:03<00:00,  7.90it/s]\n",
            "               classes   top1_acc   top5_acc: 100%|██████████| 2/2 [00:00<00:00, 30.94it/s]"
          ]
        },
        {
          "output_type": "stream",
          "name": "stdout",
          "text": [
            "                   all      0.712          1\n"
          ]
        },
        {
          "output_type": "stream",
          "name": "stderr",
          "text": [
            "\n"
          ]
        },
        {
          "output_type": "stream",
          "name": "stdout",
          "text": [
            "\n",
            "      Epoch    GPU_mem       loss  Instances       Size\n"
          ]
        },
        {
          "output_type": "stream",
          "name": "stderr",
          "text": [
            "     46/100     0.916G    0.08144         12        320: 100%|██████████| 27/27 [00:04<00:00,  6.21it/s]\n",
            "               classes   top1_acc   top5_acc: 100%|██████████| 2/2 [00:00<00:00, 41.84it/s]"
          ]
        },
        {
          "output_type": "stream",
          "name": "stdout",
          "text": [
            "                   all      0.673          1\n"
          ]
        },
        {
          "output_type": "stream",
          "name": "stderr",
          "text": [
            "\n"
          ]
        },
        {
          "output_type": "stream",
          "name": "stdout",
          "text": [
            "\n",
            "      Epoch    GPU_mem       loss  Instances       Size\n"
          ]
        },
        {
          "output_type": "stream",
          "name": "stderr",
          "text": [
            "     47/100     0.924G    0.06692         12        320: 100%|██████████| 27/27 [00:03<00:00,  7.65it/s]\n",
            "               classes   top1_acc   top5_acc: 100%|██████████| 2/2 [00:00<00:00, 22.24it/s]"
          ]
        },
        {
          "output_type": "stream",
          "name": "stdout",
          "text": [
            "                   all      0.635          1\n"
          ]
        },
        {
          "output_type": "stream",
          "name": "stderr",
          "text": [
            "\n"
          ]
        },
        {
          "output_type": "stream",
          "name": "stdout",
          "text": [
            "\n",
            "      Epoch    GPU_mem       loss  Instances       Size\n"
          ]
        },
        {
          "output_type": "stream",
          "name": "stderr",
          "text": [
            "     48/100     0.932G    0.08268         12        320: 100%|██████████| 27/27 [00:03<00:00,  8.38it/s]\n",
            "               classes   top1_acc   top5_acc: 100%|██████████| 2/2 [00:00<00:00, 26.94it/s]"
          ]
        },
        {
          "output_type": "stream",
          "name": "stdout",
          "text": [
            "                   all      0.615          1\n"
          ]
        },
        {
          "output_type": "stream",
          "name": "stderr",
          "text": [
            "\n"
          ]
        },
        {
          "output_type": "stream",
          "name": "stdout",
          "text": [
            "\n",
            "      Epoch    GPU_mem       loss  Instances       Size\n"
          ]
        },
        {
          "output_type": "stream",
          "name": "stderr",
          "text": [
            "     49/100     0.939G    0.04908         12        320: 100%|██████████| 27/27 [00:04<00:00,  6.32it/s]\n",
            "               classes   top1_acc   top5_acc: 100%|██████████| 2/2 [00:00<00:00, 39.17it/s]"
          ]
        },
        {
          "output_type": "stream",
          "name": "stdout",
          "text": [
            "                   all      0.654          1\n"
          ]
        },
        {
          "output_type": "stream",
          "name": "stderr",
          "text": [
            "\n"
          ]
        },
        {
          "output_type": "stream",
          "name": "stdout",
          "text": [
            "\n",
            "      Epoch    GPU_mem       loss  Instances       Size\n"
          ]
        },
        {
          "output_type": "stream",
          "name": "stderr",
          "text": [
            "     50/100     0.949G    0.04702         12        320: 100%|██████████| 27/27 [00:03<00:00,  7.80it/s]\n",
            "               classes   top1_acc   top5_acc: 100%|██████████| 2/2 [00:00<00:00, 20.92it/s]"
          ]
        },
        {
          "output_type": "stream",
          "name": "stdout",
          "text": [
            "                   all      0.692          1\n"
          ]
        },
        {
          "output_type": "stream",
          "name": "stderr",
          "text": [
            "\n"
          ]
        },
        {
          "output_type": "stream",
          "name": "stdout",
          "text": [
            "\n",
            "      Epoch    GPU_mem       loss  Instances       Size\n"
          ]
        },
        {
          "output_type": "stream",
          "name": "stderr",
          "text": [
            "     51/100     0.957G    0.06866         12        320: 100%|██████████| 27/27 [00:03<00:00,  8.43it/s]\n",
            "               classes   top1_acc   top5_acc: 100%|██████████| 2/2 [00:00<00:00, 27.59it/s]"
          ]
        },
        {
          "output_type": "stream",
          "name": "stdout",
          "text": [
            "                   all      0.712          1\n"
          ]
        },
        {
          "output_type": "stream",
          "name": "stderr",
          "text": [
            "\n"
          ]
        },
        {
          "output_type": "stream",
          "name": "stdout",
          "text": [
            "\n",
            "      Epoch    GPU_mem       loss  Instances       Size\n"
          ]
        },
        {
          "output_type": "stream",
          "name": "stderr",
          "text": [
            "     52/100     0.965G    0.06562         12        320: 100%|██████████| 27/27 [00:03<00:00,  6.78it/s]\n",
            "               classes   top1_acc   top5_acc: 100%|██████████| 2/2 [00:00<00:00, 24.94it/s]\n"
          ]
        },
        {
          "output_type": "stream",
          "name": "stdout",
          "text": [
            "                   all      0.731          1\n",
            "\n",
            "      Epoch    GPU_mem       loss  Instances       Size\n"
          ]
        },
        {
          "output_type": "stream",
          "name": "stderr",
          "text": [
            "     53/100     0.973G    0.06998         12        320: 100%|██████████| 27/27 [00:03<00:00,  7.31it/s]\n",
            "               classes   top1_acc   top5_acc: 100%|██████████| 2/2 [00:00<00:00, 26.80it/s]"
          ]
        },
        {
          "output_type": "stream",
          "name": "stdout",
          "text": [
            "                   all      0.654          1\n"
          ]
        },
        {
          "output_type": "stream",
          "name": "stderr",
          "text": [
            "\n"
          ]
        },
        {
          "output_type": "stream",
          "name": "stdout",
          "text": [
            "\n",
            "      Epoch    GPU_mem       loss  Instances       Size\n"
          ]
        },
        {
          "output_type": "stream",
          "name": "stderr",
          "text": [
            "     54/100      0.98G    0.04718         12        320: 100%|██████████| 27/27 [00:03<00:00,  8.06it/s]\n",
            "               classes   top1_acc   top5_acc: 100%|██████████| 2/2 [00:00<00:00, 48.19it/s]"
          ]
        },
        {
          "output_type": "stream",
          "name": "stdout",
          "text": [
            "                   all      0.654          1\n"
          ]
        },
        {
          "output_type": "stream",
          "name": "stderr",
          "text": [
            "\n"
          ]
        },
        {
          "output_type": "stream",
          "name": "stdout",
          "text": [
            "\n",
            "      Epoch    GPU_mem       loss  Instances       Size\n"
          ]
        },
        {
          "output_type": "stream",
          "name": "stderr",
          "text": [
            "     55/100     0.988G    0.06754         12        320: 100%|██████████| 27/27 [00:03<00:00,  7.24it/s]\n",
            "               classes   top1_acc   top5_acc: 100%|██████████| 2/2 [00:00<00:00, 32.51it/s]"
          ]
        },
        {
          "output_type": "stream",
          "name": "stdout",
          "text": [
            "                   all      0.673          1\n"
          ]
        },
        {
          "output_type": "stream",
          "name": "stderr",
          "text": [
            "\n"
          ]
        },
        {
          "output_type": "stream",
          "name": "stdout",
          "text": [
            "\n",
            "      Epoch    GPU_mem       loss  Instances       Size\n"
          ]
        },
        {
          "output_type": "stream",
          "name": "stderr",
          "text": [
            "     56/100     0.996G    0.04871         12        320: 100%|██████████| 27/27 [00:04<00:00,  6.69it/s]\n",
            "               classes   top1_acc   top5_acc: 100%|██████████| 2/2 [00:00<00:00, 30.31it/s]"
          ]
        },
        {
          "output_type": "stream",
          "name": "stdout",
          "text": [
            "                   all      0.673          1\n"
          ]
        },
        {
          "output_type": "stream",
          "name": "stderr",
          "text": [
            "\n"
          ]
        },
        {
          "output_type": "stream",
          "name": "stdout",
          "text": [
            "\n",
            "      Epoch    GPU_mem       loss  Instances       Size\n"
          ]
        },
        {
          "output_type": "stream",
          "name": "stderr",
          "text": [
            "     57/100         1G    0.05842         12        320: 100%|██████████| 27/27 [00:03<00:00,  8.03it/s]\n",
            "               classes   top1_acc   top5_acc: 100%|██████████| 2/2 [00:00<00:00, 42.63it/s]"
          ]
        },
        {
          "output_type": "stream",
          "name": "stdout",
          "text": [
            "                   all      0.692          1\n"
          ]
        },
        {
          "output_type": "stream",
          "name": "stderr",
          "text": [
            "\n"
          ]
        },
        {
          "output_type": "stream",
          "name": "stdout",
          "text": [
            "\n",
            "      Epoch    GPU_mem       loss  Instances       Size\n"
          ]
        },
        {
          "output_type": "stream",
          "name": "stderr",
          "text": [
            "     58/100      1.01G    0.04341         12        320: 100%|██████████| 27/27 [00:03<00:00,  7.91it/s]\n",
            "               classes   top1_acc   top5_acc: 100%|██████████| 2/2 [00:00<00:00, 25.66it/s]"
          ]
        },
        {
          "output_type": "stream",
          "name": "stdout",
          "text": [
            "                   all      0.635          1\n"
          ]
        },
        {
          "output_type": "stream",
          "name": "stderr",
          "text": [
            "\n"
          ]
        },
        {
          "output_type": "stream",
          "name": "stdout",
          "text": [
            "\n",
            "      Epoch    GPU_mem       loss  Instances       Size\n"
          ]
        },
        {
          "output_type": "stream",
          "name": "stderr",
          "text": [
            "     59/100      1.02G    0.04544         12        320: 100%|██████████| 27/27 [00:04<00:00,  6.63it/s]\n",
            "               classes   top1_acc   top5_acc: 100%|██████████| 2/2 [00:00<00:00, 28.77it/s]"
          ]
        },
        {
          "output_type": "stream",
          "name": "stdout",
          "text": [
            "                   all      0.654          1\n"
          ]
        },
        {
          "output_type": "stream",
          "name": "stderr",
          "text": [
            "\n"
          ]
        },
        {
          "output_type": "stream",
          "name": "stdout",
          "text": [
            "\n",
            "      Epoch    GPU_mem       loss  Instances       Size\n"
          ]
        },
        {
          "output_type": "stream",
          "name": "stderr",
          "text": [
            "     60/100      1.03G    0.03445         12        320: 100%|██████████| 27/27 [00:03<00:00,  8.21it/s]\n",
            "               classes   top1_acc   top5_acc: 100%|██████████| 2/2 [00:00<00:00, 28.48it/s]"
          ]
        },
        {
          "output_type": "stream",
          "name": "stdout",
          "text": [
            "                   all      0.673          1\n"
          ]
        },
        {
          "output_type": "stream",
          "name": "stderr",
          "text": [
            "\n"
          ]
        },
        {
          "output_type": "stream",
          "name": "stdout",
          "text": [
            "\n",
            "      Epoch    GPU_mem       loss  Instances       Size\n"
          ]
        },
        {
          "output_type": "stream",
          "name": "stderr",
          "text": [
            "     61/100      1.04G    0.06052         12        320: 100%|██████████| 27/27 [00:03<00:00,  8.10it/s]\n",
            "               classes   top1_acc   top5_acc: 100%|██████████| 2/2 [00:00<00:00, 16.27it/s]"
          ]
        },
        {
          "output_type": "stream",
          "name": "stdout",
          "text": [
            "                   all      0.692          1\n"
          ]
        },
        {
          "output_type": "stream",
          "name": "stderr",
          "text": [
            "\n"
          ]
        },
        {
          "output_type": "stream",
          "name": "stdout",
          "text": [
            "\n",
            "      Epoch    GPU_mem       loss  Instances       Size\n"
          ]
        },
        {
          "output_type": "stream",
          "name": "stderr",
          "text": [
            "     62/100      1.05G    0.08433         12        320: 100%|██████████| 27/27 [00:04<00:00,  6.58it/s]\n",
            "               classes   top1_acc   top5_acc: 100%|██████████| 2/2 [00:00<00:00, 29.18it/s]"
          ]
        },
        {
          "output_type": "stream",
          "name": "stdout",
          "text": [
            "                   all      0.654          1\n"
          ]
        },
        {
          "output_type": "stream",
          "name": "stderr",
          "text": [
            "\n"
          ]
        },
        {
          "output_type": "stream",
          "name": "stdout",
          "text": [
            "\n",
            "      Epoch    GPU_mem       loss  Instances       Size\n"
          ]
        },
        {
          "output_type": "stream",
          "name": "stderr",
          "text": [
            "     63/100      1.05G    0.02812         12        320: 100%|██████████| 27/27 [00:03<00:00,  7.91it/s]\n",
            "               classes   top1_acc   top5_acc: 100%|██████████| 2/2 [00:00<00:00, 34.39it/s]"
          ]
        },
        {
          "output_type": "stream",
          "name": "stdout",
          "text": [
            "                   all      0.731          1\n"
          ]
        },
        {
          "output_type": "stream",
          "name": "stderr",
          "text": [
            "\n"
          ]
        },
        {
          "output_type": "stream",
          "name": "stdout",
          "text": [
            "\n",
            "      Epoch    GPU_mem       loss  Instances       Size\n"
          ]
        },
        {
          "output_type": "stream",
          "name": "stderr",
          "text": [
            "     64/100      1.06G    0.04544         12        320: 100%|██████████| 27/27 [00:03<00:00,  8.17it/s]\n",
            "               classes   top1_acc   top5_acc: 100%|██████████| 2/2 [00:00<00:00, 39.31it/s]"
          ]
        },
        {
          "output_type": "stream",
          "name": "stdout",
          "text": [
            "                   all       0.75          1\n"
          ]
        },
        {
          "output_type": "stream",
          "name": "stderr",
          "text": [
            "\n"
          ]
        },
        {
          "output_type": "stream",
          "name": "stdout",
          "text": [
            "\n",
            "      Epoch    GPU_mem       loss  Instances       Size\n"
          ]
        },
        {
          "output_type": "stream",
          "name": "stderr",
          "text": [
            "     65/100      1.07G    0.05421         12        320: 100%|██████████| 27/27 [00:04<00:00,  5.98it/s]\n",
            "               classes   top1_acc   top5_acc: 100%|██████████| 2/2 [00:00<00:00, 26.71it/s]"
          ]
        },
        {
          "output_type": "stream",
          "name": "stdout",
          "text": [
            "                   all       0.75          1\n"
          ]
        },
        {
          "output_type": "stream",
          "name": "stderr",
          "text": [
            "\n"
          ]
        },
        {
          "output_type": "stream",
          "name": "stdout",
          "text": [
            "\n",
            "      Epoch    GPU_mem       loss  Instances       Size\n"
          ]
        },
        {
          "output_type": "stream",
          "name": "stderr",
          "text": [
            "     66/100      1.08G    0.02098         12        320: 100%|██████████| 27/27 [00:03<00:00,  8.19it/s]\n",
            "               classes   top1_acc   top5_acc: 100%|██████████| 2/2 [00:00<00:00, 34.06it/s]"
          ]
        },
        {
          "output_type": "stream",
          "name": "stdout",
          "text": [
            "                   all      0.731          1\n"
          ]
        },
        {
          "output_type": "stream",
          "name": "stderr",
          "text": [
            "\n"
          ]
        },
        {
          "output_type": "stream",
          "name": "stdout",
          "text": [
            "\n",
            "      Epoch    GPU_mem       loss  Instances       Size\n"
          ]
        },
        {
          "output_type": "stream",
          "name": "stderr",
          "text": [
            "     67/100      1.09G    0.04581         12        320: 100%|██████████| 27/27 [00:03<00:00,  8.35it/s]\n",
            "               classes   top1_acc   top5_acc: 100%|██████████| 2/2 [00:00<00:00, 33.88it/s]"
          ]
        },
        {
          "output_type": "stream",
          "name": "stdout",
          "text": [
            "                   all      0.712          1\n"
          ]
        },
        {
          "output_type": "stream",
          "name": "stderr",
          "text": [
            "\n"
          ]
        },
        {
          "output_type": "stream",
          "name": "stdout",
          "text": [
            "\n",
            "      Epoch    GPU_mem       loss  Instances       Size\n"
          ]
        },
        {
          "output_type": "stream",
          "name": "stderr",
          "text": [
            "     68/100      1.09G    0.05242         12        320: 100%|██████████| 27/27 [00:04<00:00,  6.02it/s]\n",
            "               classes   top1_acc   top5_acc: 100%|██████████| 2/2 [00:00<00:00, 22.68it/s]"
          ]
        },
        {
          "output_type": "stream",
          "name": "stdout",
          "text": [
            "                   all      0.692          1\n"
          ]
        },
        {
          "output_type": "stream",
          "name": "stderr",
          "text": [
            "\n"
          ]
        },
        {
          "output_type": "stream",
          "name": "stdout",
          "text": [
            "\n",
            "      Epoch    GPU_mem       loss  Instances       Size\n"
          ]
        },
        {
          "output_type": "stream",
          "name": "stderr",
          "text": [
            "     69/100       1.1G    0.04169         12        320: 100%|██████████| 27/27 [00:03<00:00,  8.02it/s]\n",
            "               classes   top1_acc   top5_acc: 100%|██████████| 2/2 [00:00<00:00, 25.62it/s]"
          ]
        },
        {
          "output_type": "stream",
          "name": "stdout",
          "text": [
            "                   all      0.673          1\n"
          ]
        },
        {
          "output_type": "stream",
          "name": "stderr",
          "text": [
            "\n"
          ]
        },
        {
          "output_type": "stream",
          "name": "stdout",
          "text": [
            "\n",
            "      Epoch    GPU_mem       loss  Instances       Size\n"
          ]
        },
        {
          "output_type": "stream",
          "name": "stderr",
          "text": [
            "     70/100      1.11G    0.06311         12        320: 100%|██████████| 27/27 [00:03<00:00,  8.25it/s]\n",
            "               classes   top1_acc   top5_acc: 100%|██████████| 2/2 [00:00<00:00, 25.08it/s]"
          ]
        },
        {
          "output_type": "stream",
          "name": "stdout",
          "text": [
            "                   all      0.673          1\n"
          ]
        },
        {
          "output_type": "stream",
          "name": "stderr",
          "text": [
            "\n"
          ]
        },
        {
          "output_type": "stream",
          "name": "stdout",
          "text": [
            "\n",
            "      Epoch    GPU_mem       loss  Instances       Size\n"
          ]
        },
        {
          "output_type": "stream",
          "name": "stderr",
          "text": [
            "     71/100      1.12G    0.03061         12        320: 100%|██████████| 27/27 [00:04<00:00,  6.13it/s]\n",
            "               classes   top1_acc   top5_acc: 100%|██████████| 2/2 [00:00<00:00, 39.91it/s]"
          ]
        },
        {
          "output_type": "stream",
          "name": "stdout",
          "text": [
            "                   all      0.731          1\n"
          ]
        },
        {
          "output_type": "stream",
          "name": "stderr",
          "text": [
            "\n"
          ]
        },
        {
          "output_type": "stream",
          "name": "stdout",
          "text": [
            "\n",
            "      Epoch    GPU_mem       loss  Instances       Size\n"
          ]
        },
        {
          "output_type": "stream",
          "name": "stderr",
          "text": [
            "     72/100      1.13G    0.04196         12        320: 100%|██████████| 27/27 [00:03<00:00,  7.78it/s]\n",
            "               classes   top1_acc   top5_acc: 100%|██████████| 2/2 [00:00<00:00, 33.62it/s]"
          ]
        },
        {
          "output_type": "stream",
          "name": "stdout",
          "text": [
            "                   all       0.75          1\n"
          ]
        },
        {
          "output_type": "stream",
          "name": "stderr",
          "text": [
            "\n"
          ]
        },
        {
          "output_type": "stream",
          "name": "stdout",
          "text": [
            "\n",
            "      Epoch    GPU_mem       loss  Instances       Size\n"
          ]
        },
        {
          "output_type": "stream",
          "name": "stderr",
          "text": [
            "     73/100      1.13G    0.04486         12        320: 100%|██████████| 27/27 [00:03<00:00,  8.07it/s]\n",
            "               classes   top1_acc   top5_acc: 100%|██████████| 2/2 [00:00<00:00, 22.38it/s]"
          ]
        },
        {
          "output_type": "stream",
          "name": "stdout",
          "text": [
            "                   all       0.75          1\n"
          ]
        },
        {
          "output_type": "stream",
          "name": "stderr",
          "text": [
            "\n"
          ]
        },
        {
          "output_type": "stream",
          "name": "stdout",
          "text": [
            "\n",
            "      Epoch    GPU_mem       loss  Instances       Size\n"
          ]
        },
        {
          "output_type": "stream",
          "name": "stderr",
          "text": [
            "     74/100      1.14G    0.03798         12        320: 100%|██████████| 27/27 [00:04<00:00,  6.17it/s]\n",
            "               classes   top1_acc   top5_acc: 100%|██████████| 2/2 [00:00<00:00, 23.16it/s]"
          ]
        },
        {
          "output_type": "stream",
          "name": "stdout",
          "text": [
            "                   all      0.731          1\n"
          ]
        },
        {
          "output_type": "stream",
          "name": "stderr",
          "text": [
            "\n"
          ]
        },
        {
          "output_type": "stream",
          "name": "stdout",
          "text": [
            "\n",
            "      Epoch    GPU_mem       loss  Instances       Size\n"
          ]
        },
        {
          "output_type": "stream",
          "name": "stderr",
          "text": [
            "     75/100      1.15G    0.04529         12        320: 100%|██████████| 27/27 [00:03<00:00,  8.02it/s]\n",
            "               classes   top1_acc   top5_acc: 100%|██████████| 2/2 [00:00<00:00, 28.47it/s]"
          ]
        },
        {
          "output_type": "stream",
          "name": "stdout",
          "text": [
            "                   all      0.712          1\n"
          ]
        },
        {
          "output_type": "stream",
          "name": "stderr",
          "text": [
            "\n"
          ]
        },
        {
          "output_type": "stream",
          "name": "stdout",
          "text": [
            "\n",
            "      Epoch    GPU_mem       loss  Instances       Size\n"
          ]
        },
        {
          "output_type": "stream",
          "name": "stderr",
          "text": [
            "     76/100      1.16G    0.03861         12        320: 100%|██████████| 27/27 [00:03<00:00,  8.36it/s]\n",
            "               classes   top1_acc   top5_acc: 100%|██████████| 2/2 [00:00<00:00, 21.29it/s]"
          ]
        },
        {
          "output_type": "stream",
          "name": "stdout",
          "text": [
            "                   all      0.731          1\n"
          ]
        },
        {
          "output_type": "stream",
          "name": "stderr",
          "text": [
            "\n"
          ]
        },
        {
          "output_type": "stream",
          "name": "stdout",
          "text": [
            "\n",
            "      Epoch    GPU_mem       loss  Instances       Size\n"
          ]
        },
        {
          "output_type": "stream",
          "name": "stderr",
          "text": [
            "     77/100      1.17G    0.01792         12        320: 100%|██████████| 27/27 [00:04<00:00,  6.19it/s]\n",
            "               classes   top1_acc   top5_acc: 100%|██████████| 2/2 [00:00<00:00, 25.65it/s]"
          ]
        },
        {
          "output_type": "stream",
          "name": "stdout",
          "text": [
            "                   all      0.731          1\n"
          ]
        },
        {
          "output_type": "stream",
          "name": "stderr",
          "text": [
            "\n"
          ]
        },
        {
          "output_type": "stream",
          "name": "stdout",
          "text": [
            "\n",
            "      Epoch    GPU_mem       loss  Instances       Size\n"
          ]
        },
        {
          "output_type": "stream",
          "name": "stderr",
          "text": [
            "     78/100      1.18G    0.02357         12        320: 100%|██████████| 27/27 [00:03<00:00,  8.22it/s]\n",
            "               classes   top1_acc   top5_acc: 100%|██████████| 2/2 [00:00<00:00, 24.14it/s]"
          ]
        },
        {
          "output_type": "stream",
          "name": "stdout",
          "text": [
            "                   all      0.692          1\n"
          ]
        },
        {
          "output_type": "stream",
          "name": "stderr",
          "text": [
            "\n"
          ]
        },
        {
          "output_type": "stream",
          "name": "stdout",
          "text": [
            "\n",
            "      Epoch    GPU_mem       loss  Instances       Size\n"
          ]
        },
        {
          "output_type": "stream",
          "name": "stderr",
          "text": [
            "     79/100      1.18G    0.03761         12        320: 100%|██████████| 27/27 [00:03<00:00,  8.35it/s]\n",
            "               classes   top1_acc   top5_acc: 100%|██████████| 2/2 [00:00<00:00, 42.17it/s]"
          ]
        },
        {
          "output_type": "stream",
          "name": "stdout",
          "text": [
            "                   all      0.712          1\n"
          ]
        },
        {
          "output_type": "stream",
          "name": "stderr",
          "text": [
            "\n"
          ]
        },
        {
          "output_type": "stream",
          "name": "stdout",
          "text": [
            "\n",
            "      Epoch    GPU_mem       loss  Instances       Size\n"
          ]
        },
        {
          "output_type": "stream",
          "name": "stderr",
          "text": [
            "     80/100      1.19G    0.04179         12        320: 100%|██████████| 27/27 [00:04<00:00,  6.02it/s]\n",
            "               classes   top1_acc   top5_acc: 100%|██████████| 2/2 [00:00<00:00, 41.16it/s]"
          ]
        },
        {
          "output_type": "stream",
          "name": "stdout",
          "text": [
            "                   all      0.712          1\n"
          ]
        },
        {
          "output_type": "stream",
          "name": "stderr",
          "text": [
            "\n"
          ]
        },
        {
          "output_type": "stream",
          "name": "stdout",
          "text": [
            "\n",
            "      Epoch    GPU_mem       loss  Instances       Size\n"
          ]
        },
        {
          "output_type": "stream",
          "name": "stderr",
          "text": [
            "     81/100       1.2G    0.03506         12        320: 100%|██████████| 27/27 [00:03<00:00,  8.27it/s]\n",
            "               classes   top1_acc   top5_acc: 100%|██████████| 2/2 [00:00<00:00, 31.39it/s]"
          ]
        },
        {
          "output_type": "stream",
          "name": "stdout",
          "text": [
            "                   all      0.692          1\n"
          ]
        },
        {
          "output_type": "stream",
          "name": "stderr",
          "text": [
            "\n"
          ]
        },
        {
          "output_type": "stream",
          "name": "stdout",
          "text": [
            "\n",
            "      Epoch    GPU_mem       loss  Instances       Size\n"
          ]
        },
        {
          "output_type": "stream",
          "name": "stderr",
          "text": [
            "     82/100      1.21G    0.04743         12        320: 100%|██████████| 27/27 [00:03<00:00,  8.19it/s]\n",
            "               classes   top1_acc   top5_acc: 100%|██████████| 2/2 [00:00<00:00, 24.01it/s]"
          ]
        },
        {
          "output_type": "stream",
          "name": "stdout",
          "text": [
            "                   all      0.712          1\n"
          ]
        },
        {
          "output_type": "stream",
          "name": "stderr",
          "text": [
            "\n"
          ]
        },
        {
          "output_type": "stream",
          "name": "stdout",
          "text": [
            "\n",
            "      Epoch    GPU_mem       loss  Instances       Size\n"
          ]
        },
        {
          "output_type": "stream",
          "name": "stderr",
          "text": [
            "     83/100      1.22G    0.01449         12        320: 100%|██████████| 27/27 [00:04<00:00,  6.66it/s]\n",
            "               classes   top1_acc   top5_acc: 100%|██████████| 2/2 [00:00<00:00, 17.45it/s]"
          ]
        },
        {
          "output_type": "stream",
          "name": "stdout",
          "text": [
            "                   all      0.692          1\n"
          ]
        },
        {
          "output_type": "stream",
          "name": "stderr",
          "text": [
            "\n"
          ]
        },
        {
          "output_type": "stream",
          "name": "stdout",
          "text": [
            "\n",
            "      Epoch    GPU_mem       loss  Instances       Size\n"
          ]
        },
        {
          "output_type": "stream",
          "name": "stderr",
          "text": [
            "     84/100      1.23G    0.03582         12        320: 100%|██████████| 27/27 [00:03<00:00,  7.56it/s]\n",
            "               classes   top1_acc   top5_acc: 100%|██████████| 2/2 [00:00<00:00, 40.05it/s]"
          ]
        },
        {
          "output_type": "stream",
          "name": "stdout",
          "text": [
            "                   all      0.692          1\n"
          ]
        },
        {
          "output_type": "stream",
          "name": "stderr",
          "text": [
            "\n"
          ]
        },
        {
          "output_type": "stream",
          "name": "stdout",
          "text": [
            "\n",
            "      Epoch    GPU_mem       loss  Instances       Size\n"
          ]
        },
        {
          "output_type": "stream",
          "name": "stderr",
          "text": [
            "     85/100      1.23G    0.02916         12        320: 100%|██████████| 27/27 [00:03<00:00,  8.50it/s]\n",
            "               classes   top1_acc   top5_acc: 100%|██████████| 2/2 [00:00<00:00, 24.98it/s]"
          ]
        },
        {
          "output_type": "stream",
          "name": "stdout",
          "text": [
            "                   all      0.692          1\n"
          ]
        },
        {
          "output_type": "stream",
          "name": "stderr",
          "text": [
            "\n"
          ]
        },
        {
          "output_type": "stream",
          "name": "stdout",
          "text": [
            "\n",
            "      Epoch    GPU_mem       loss  Instances       Size\n"
          ]
        },
        {
          "output_type": "stream",
          "name": "stderr",
          "text": [
            "     86/100      1.24G    0.03691         12        320: 100%|██████████| 27/27 [00:03<00:00,  7.64it/s]\n",
            "               classes   top1_acc   top5_acc: 100%|██████████| 2/2 [00:00<00:00, 16.82it/s]"
          ]
        },
        {
          "output_type": "stream",
          "name": "stdout",
          "text": [
            "                   all      0.712          1\n"
          ]
        },
        {
          "output_type": "stream",
          "name": "stderr",
          "text": [
            "\n"
          ]
        },
        {
          "output_type": "stream",
          "name": "stdout",
          "text": [
            "\n",
            "      Epoch    GPU_mem       loss  Instances       Size\n"
          ]
        },
        {
          "output_type": "stream",
          "name": "stderr",
          "text": [
            "     87/100      1.25G    0.04337         12        320: 100%|██████████| 27/27 [00:03<00:00,  6.77it/s]\n",
            "               classes   top1_acc   top5_acc: 100%|██████████| 2/2 [00:00<00:00, 35.00it/s]"
          ]
        },
        {
          "output_type": "stream",
          "name": "stdout",
          "text": [
            "                   all      0.712          1\n"
          ]
        },
        {
          "output_type": "stream",
          "name": "stderr",
          "text": [
            "\n"
          ]
        },
        {
          "output_type": "stream",
          "name": "stdout",
          "text": [
            "\n",
            "      Epoch    GPU_mem       loss  Instances       Size\n"
          ]
        },
        {
          "output_type": "stream",
          "name": "stderr",
          "text": [
            "     88/100      1.26G    0.04442         12        320: 100%|██████████| 27/27 [00:03<00:00,  8.28it/s]\n",
            "               classes   top1_acc   top5_acc: 100%|██████████| 2/2 [00:00<00:00, 47.22it/s]"
          ]
        },
        {
          "output_type": "stream",
          "name": "stdout",
          "text": [
            "                   all      0.712          1\n"
          ]
        },
        {
          "output_type": "stream",
          "name": "stderr",
          "text": [
            "\n"
          ]
        },
        {
          "output_type": "stream",
          "name": "stdout",
          "text": [
            "\n",
            "      Epoch    GPU_mem       loss  Instances       Size\n"
          ]
        },
        {
          "output_type": "stream",
          "name": "stderr",
          "text": [
            "     89/100      1.27G    0.03822         12        320: 100%|██████████| 27/27 [00:03<00:00,  7.23it/s]\n",
            "               classes   top1_acc   top5_acc: 100%|██████████| 2/2 [00:00<00:00, 27.39it/s]"
          ]
        },
        {
          "output_type": "stream",
          "name": "stdout",
          "text": [
            "                   all      0.712          1\n"
          ]
        },
        {
          "output_type": "stream",
          "name": "stderr",
          "text": [
            "\n"
          ]
        },
        {
          "output_type": "stream",
          "name": "stdout",
          "text": [
            "\n",
            "      Epoch    GPU_mem       loss  Instances       Size\n"
          ]
        },
        {
          "output_type": "stream",
          "name": "stderr",
          "text": [
            "     90/100      1.28G    0.02566         12        320: 100%|██████████| 27/27 [00:03<00:00,  6.84it/s]\n",
            "               classes   top1_acc   top5_acc: 100%|██████████| 2/2 [00:00<00:00, 26.38it/s]"
          ]
        },
        {
          "output_type": "stream",
          "name": "stdout",
          "text": [
            "                   all      0.731          1\n"
          ]
        },
        {
          "output_type": "stream",
          "name": "stderr",
          "text": [
            "\n"
          ]
        },
        {
          "output_type": "stream",
          "name": "stdout",
          "text": [
            "\n",
            "      Epoch    GPU_mem       loss  Instances       Size\n"
          ]
        },
        {
          "output_type": "stream",
          "name": "stderr",
          "text": [
            "     91/100      1.28G    0.03173         12        320: 100%|██████████| 27/27 [00:03<00:00,  7.24it/s]\n",
            "               classes   top1_acc   top5_acc: 100%|██████████| 2/2 [00:00<00:00, 18.44it/s]"
          ]
        },
        {
          "output_type": "stream",
          "name": "stdout",
          "text": [
            "                   all      0.712          1\n"
          ]
        },
        {
          "output_type": "stream",
          "name": "stderr",
          "text": [
            "\n"
          ]
        },
        {
          "output_type": "stream",
          "name": "stdout",
          "text": [
            "\n",
            "      Epoch    GPU_mem       loss  Instances       Size\n"
          ]
        },
        {
          "output_type": "stream",
          "name": "stderr",
          "text": [
            "     92/100      1.29G    0.02822         12        320: 100%|██████████| 27/27 [00:03<00:00,  7.88it/s]\n",
            "               classes   top1_acc   top5_acc: 100%|██████████| 2/2 [00:00<00:00, 22.78it/s]"
          ]
        },
        {
          "output_type": "stream",
          "name": "stdout",
          "text": [
            "                   all      0.712          1\n"
          ]
        },
        {
          "output_type": "stream",
          "name": "stderr",
          "text": [
            "\n"
          ]
        },
        {
          "output_type": "stream",
          "name": "stdout",
          "text": [
            "\n",
            "      Epoch    GPU_mem       loss  Instances       Size\n"
          ]
        },
        {
          "output_type": "stream",
          "name": "stderr",
          "text": [
            "     93/100       1.3G     0.0279         12        320: 100%|██████████| 27/27 [00:03<00:00,  7.26it/s]\n",
            "               classes   top1_acc   top5_acc: 100%|██████████| 2/2 [00:00<00:00, 23.96it/s]"
          ]
        },
        {
          "output_type": "stream",
          "name": "stdout",
          "text": [
            "                   all      0.712          1\n"
          ]
        },
        {
          "output_type": "stream",
          "name": "stderr",
          "text": [
            "\n"
          ]
        },
        {
          "output_type": "stream",
          "name": "stdout",
          "text": [
            "\n",
            "      Epoch    GPU_mem       loss  Instances       Size\n"
          ]
        },
        {
          "output_type": "stream",
          "name": "stderr",
          "text": [
            "     94/100      1.31G    0.02759         12        320: 100%|██████████| 27/27 [00:03<00:00,  8.13it/s]\n",
            "               classes   top1_acc   top5_acc: 100%|██████████| 2/2 [00:00<00:00, 28.39it/s]"
          ]
        },
        {
          "output_type": "stream",
          "name": "stdout",
          "text": [
            "                   all      0.731          1\n"
          ]
        },
        {
          "output_type": "stream",
          "name": "stderr",
          "text": [
            "\n"
          ]
        },
        {
          "output_type": "stream",
          "name": "stdout",
          "text": [
            "\n",
            "      Epoch    GPU_mem       loss  Instances       Size\n"
          ]
        },
        {
          "output_type": "stream",
          "name": "stderr",
          "text": [
            "     95/100      1.31G    0.01579         12        320: 100%|██████████| 27/27 [00:03<00:00,  8.04it/s]\n",
            "               classes   top1_acc   top5_acc: 100%|██████████| 2/2 [00:00<00:00, 12.31it/s]\n"
          ]
        },
        {
          "output_type": "stream",
          "name": "stdout",
          "text": [
            "                   all      0.731          1\n",
            "\n",
            "      Epoch    GPU_mem       loss  Instances       Size\n"
          ]
        },
        {
          "output_type": "stream",
          "name": "stderr",
          "text": [
            "     96/100      1.32G    0.02065         12        320: 100%|██████████| 27/27 [00:04<00:00,  6.66it/s]\n",
            "               classes   top1_acc   top5_acc: 100%|██████████| 2/2 [00:00<00:00, 37.16it/s]"
          ]
        },
        {
          "output_type": "stream",
          "name": "stdout",
          "text": [
            "                   all      0.731          1\n"
          ]
        },
        {
          "output_type": "stream",
          "name": "stderr",
          "text": [
            "\n"
          ]
        },
        {
          "output_type": "stream",
          "name": "stdout",
          "text": [
            "\n",
            "      Epoch    GPU_mem       loss  Instances       Size\n"
          ]
        },
        {
          "output_type": "stream",
          "name": "stderr",
          "text": [
            "     97/100      1.33G    0.03153         12        320: 100%|██████████| 27/27 [00:03<00:00,  8.45it/s]\n",
            "               classes   top1_acc   top5_acc: 100%|██████████| 2/2 [00:00<00:00, 30.11it/s]"
          ]
        },
        {
          "output_type": "stream",
          "name": "stdout",
          "text": [
            "                   all      0.731          1\n"
          ]
        },
        {
          "output_type": "stream",
          "name": "stderr",
          "text": [
            "\n"
          ]
        },
        {
          "output_type": "stream",
          "name": "stdout",
          "text": [
            "\n",
            "      Epoch    GPU_mem       loss  Instances       Size\n"
          ]
        },
        {
          "output_type": "stream",
          "name": "stderr",
          "text": [
            "     98/100      1.34G     0.0309         12        320: 100%|██████████| 27/27 [00:03<00:00,  8.07it/s]\n",
            "               classes   top1_acc   top5_acc: 100%|██████████| 2/2 [00:00<00:00, 38.78it/s]"
          ]
        },
        {
          "output_type": "stream",
          "name": "stdout",
          "text": [
            "                   all      0.712          1\n"
          ]
        },
        {
          "output_type": "stream",
          "name": "stderr",
          "text": [
            "\n"
          ]
        },
        {
          "output_type": "stream",
          "name": "stdout",
          "text": [
            "\n",
            "      Epoch    GPU_mem       loss  Instances       Size\n"
          ]
        },
        {
          "output_type": "stream",
          "name": "stderr",
          "text": [
            "     99/100      1.35G    0.01012         12        320: 100%|██████████| 27/27 [00:04<00:00,  6.07it/s]\n",
            "               classes   top1_acc   top5_acc: 100%|██████████| 2/2 [00:00<00:00, 43.45it/s]"
          ]
        },
        {
          "output_type": "stream",
          "name": "stdout",
          "text": [
            "                   all      0.731          1\n"
          ]
        },
        {
          "output_type": "stream",
          "name": "stderr",
          "text": [
            "\n"
          ]
        },
        {
          "output_type": "stream",
          "name": "stdout",
          "text": [
            "\n",
            "      Epoch    GPU_mem       loss  Instances       Size\n"
          ]
        },
        {
          "output_type": "stream",
          "name": "stderr",
          "text": [
            "    100/100      1.36G    0.01868         12        320: 100%|██████████| 27/27 [00:03<00:00,  7.65it/s]\n",
            "               classes   top1_acc   top5_acc: 100%|██████████| 2/2 [00:00<00:00, 26.61it/s]"
          ]
        },
        {
          "output_type": "stream",
          "name": "stdout",
          "text": [
            "                   all      0.731          1\n"
          ]
        },
        {
          "output_type": "stream",
          "name": "stderr",
          "text": [
            "\n"
          ]
        },
        {
          "output_type": "stream",
          "name": "stdout",
          "text": [
            "\n",
            "100 epochs completed in 0.118 hours.\n",
            "Optimizer stripped from runs/classify/train/weights/last.pt, 3.0MB\n",
            "Optimizer stripped from runs/classify/train/weights/best.pt, 3.0MB\n",
            "\n",
            "Validating runs/classify/train/weights/best.pt...\n",
            "Ultralytics 8.3.135 🚀 Python-3.11.12 torch-2.6.0+cu124 CUDA:0 (Tesla T4, 15095MiB)\n",
            "YOLOv8n-cls summary (fused): 30 layers, 1,438,723 parameters, 0 gradients, 3.3 GFLOPs\n",
            "\u001b[34m\u001b[1mtrain:\u001b[0m /content/dataset/train... found 428 images in 3 classes ✅ \n",
            "\u001b[34m\u001b[1mval:\u001b[0m /content/dataset/val... found 52 images in 3 classes ✅ \n",
            "\u001b[34m\u001b[1mtest:\u001b[0m /content/dataset/test... found 56 images in 3 classes ✅ \n"
          ]
        },
        {
          "output_type": "stream",
          "name": "stderr",
          "text": [
            "\r               classes   top1_acc   top5_acc:   0%|          | 0/2 [00:00<?, ?it/s]"
          ]
        },
        {
          "output_type": "stream",
          "name": "stdout",
          "text": [
            "WARNING ⚠️ ClassificationModel does not support 'augment=True' prediction. Reverting to single-scale prediction.\n",
            "WARNING ⚠️ ClassificationModel does not support 'augment=True' prediction. Reverting to single-scale prediction.\n"
          ]
        },
        {
          "output_type": "stream",
          "name": "stderr",
          "text": [
            "               classes   top1_acc   top5_acc: 100%|██████████| 2/2 [00:00<00:00, 13.24it/s]\n"
          ]
        },
        {
          "output_type": "stream",
          "name": "stdout",
          "text": [
            "                   all      0.769          1\n",
            "Speed: 0.1ms preprocess, 1.2ms inference, 0.0ms loss, 0.0ms postprocess per image\n",
            "Results saved to \u001b[1mruns/classify/train\u001b[0m\n"
          ]
        },
        {
          "output_type": "execute_result",
          "data": {
            "text/plain": [
              "ultralytics.utils.metrics.ClassifyMetrics object with attributes:\n",
              "\n",
              "confusion_matrix: <ultralytics.utils.metrics.ConfusionMatrix object at 0x7846e6dcbb50>\n",
              "curves: []\n",
              "curves_results: []\n",
              "fitness: 0.8846153914928436\n",
              "keys: ['metrics/accuracy_top1', 'metrics/accuracy_top5']\n",
              "results_dict: {'metrics/accuracy_top1': 0.7692307829856873, 'metrics/accuracy_top5': 1.0, 'fitness': 0.8846153914928436}\n",
              "save_dir: PosixPath('runs/classify/train')\n",
              "speed: {'preprocess': 0.13323440384738205, 'inference': 1.1720872499989372, 'loss': 0.000392500000911101, 'postprocess': 0.0006493461538726619}\n",
              "task: 'classify'\n",
              "top1: 0.7692307829856873\n",
              "top5: 1.0"
            ]
          },
          "metadata": {},
          "execution_count": 3
        }
      ]
    },
    {
      "cell_type": "code",
      "source": [
        "metrics = model.val(data='/content/dataset')\n",
        "print(metrics)"
      ],
      "metadata": {
        "colab": {
          "base_uri": "https://localhost:8080/"
        },
        "id": "V-5imT1rVs63",
        "outputId": "6546f3f7-10bb-4337-80c6-2e37f2f47870"
      },
      "execution_count": 4,
      "outputs": [
        {
          "output_type": "stream",
          "name": "stdout",
          "text": [
            "Ultralytics 8.3.135 🚀 Python-3.11.12 torch-2.6.0+cu124 CUDA:0 (Tesla T4, 15095MiB)\n",
            "YOLOv8n-cls summary (fused): 30 layers, 1,438,723 parameters, 0 gradients, 3.3 GFLOPs\n",
            "\u001b[34m\u001b[1mtrain:\u001b[0m /content/dataset/train... found 428 images in 3 classes ✅ \n",
            "\u001b[34m\u001b[1mval:\u001b[0m /content/dataset/val... found 52 images in 3 classes ✅ \n",
            "\u001b[34m\u001b[1mtest:\u001b[0m /content/dataset/test... found 56 images in 3 classes ✅ \n",
            "\u001b[34m\u001b[1mval: \u001b[0mFast image access ✅ (ping: 0.0±0.0 ms, read: 397.6±413.7 MB/s, size: 14.8 KB)\n"
          ]
        },
        {
          "output_type": "stream",
          "name": "stderr",
          "text": [
            "\u001b[34m\u001b[1mval: \u001b[0mScanning /content/dataset/val... 52 images, 0 corrupt: 100%|██████████| 52/52 [00:00<?, ?it/s]\n",
            "               classes   top1_acc   top5_acc:   0%|          | 0/4 [00:00<?, ?it/s]"
          ]
        },
        {
          "output_type": "stream",
          "name": "stdout",
          "text": [
            "WARNING ⚠️ ClassificationModel does not support 'augment=True' prediction. Reverting to single-scale prediction.\n"
          ]
        },
        {
          "output_type": "stream",
          "name": "stderr",
          "text": [
            "\r               classes   top1_acc   top5_acc:  25%|██▌       | 1/4 [00:00<00:00,  3.58it/s]"
          ]
        },
        {
          "output_type": "stream",
          "name": "stdout",
          "text": [
            "WARNING ⚠️ ClassificationModel does not support 'augment=True' prediction. Reverting to single-scale prediction.\n"
          ]
        },
        {
          "output_type": "stream",
          "name": "stderr",
          "text": [
            "\r               classes   top1_acc   top5_acc:  50%|█████     | 2/4 [00:00<00:00,  4.06it/s]"
          ]
        },
        {
          "output_type": "stream",
          "name": "stdout",
          "text": [
            "WARNING ⚠️ ClassificationModel does not support 'augment=True' prediction. Reverting to single-scale prediction.\n"
          ]
        },
        {
          "output_type": "stream",
          "name": "stderr",
          "text": [
            "\r               classes   top1_acc   top5_acc:  75%|███████▌  | 3/4 [00:00<00:00,  3.93it/s]"
          ]
        },
        {
          "output_type": "stream",
          "name": "stdout",
          "text": [
            "WARNING ⚠️ ClassificationModel does not support 'augment=True' prediction. Reverting to single-scale prediction.\n"
          ]
        },
        {
          "output_type": "stream",
          "name": "stderr",
          "text": [
            "               classes   top1_acc   top5_acc: 100%|██████████| 4/4 [00:00<00:00,  4.02it/s]\n"
          ]
        },
        {
          "output_type": "stream",
          "name": "stdout",
          "text": [
            "                   all      0.788          1\n",
            "Speed: 4.8ms preprocess, 5.2ms inference, 0.0ms loss, 0.0ms postprocess per image\n",
            "Results saved to \u001b[1mruns/classify/train2\u001b[0m\n",
            "ultralytics.utils.metrics.ClassifyMetrics object with attributes:\n",
            "\n",
            "confusion_matrix: <ultralytics.utils.metrics.ConfusionMatrix object at 0x7847d66d2a10>\n",
            "curves: []\n",
            "curves_results: []\n",
            "fitness: 0.8942307829856873\n",
            "keys: ['metrics/accuracy_top1', 'metrics/accuracy_top5']\n",
            "results_dict: {'metrics/accuracy_top1': 0.7884615659713745, 'metrics/accuracy_top5': 1.0, 'fitness': 0.8942307829856873}\n",
            "save_dir: PosixPath('runs/classify/train2')\n",
            "speed: {'preprocess': 4.824791519231789, 'inference': 5.179406519230357, 'loss': 0.022989519228881015, 'postprocess': 0.0022826538449512903}\n",
            "task: 'classify'\n",
            "top1: 0.7884615659713745\n",
            "top5: 1.0\n"
          ]
        }
      ]
    },
    {
      "cell_type": "code",
      "source": [
        "\n",
        "# Ambil semua gambar dari folder test\n",
        "test_images = list(Path('/content/dataset/test').rglob('*.jpg'))\n",
        "\n",
        "# Ambil kelas dari model\n",
        "classes_dict = model.names\n",
        "classes = [classes_dict[i] for i in range(len(classes_dict))]  # Ubah ke list ['noncaries', 'caries_media', ...]\n",
        "\n",
        "num_classes = len(classes)\n",
        "\n",
        "# Prediksi semua gambar\n",
        "y_true = []\n",
        "y_score = []\n",
        "\n",
        "for img_path in test_images:\n",
        "    label = img_path.parent.name\n",
        "    label_idx = classes.index(label)\n",
        "\n",
        "    result = model(img_path, verbose=False)[0]\n",
        "    probs = result.probs.data.cpu().numpy()\n",
        "\n",
        "    y_true.append(label_idx)\n",
        "    y_score.append(probs)\n",
        "\n",
        "# One-hot encoding dan AUC\n",
        "y_true = label_binarize(y_true, classes=list(range(num_classes)))\n",
        "y_score = np.array(y_score)\n",
        "\n",
        "fpr, tpr, roc_auc = {}, {}, {}\n",
        "for i in range(num_classes):\n",
        "    fpr[i], tpr[i], _ = roc_curve(y_true[:, i], y_score[:, i])\n",
        "    roc_auc[i] = auc(fpr[i], tpr[i])\n",
        "\n",
        "# Plot grafik\n",
        "plt.figure(figsize=(8, 6))\n",
        "for i in range(num_classes):\n",
        "    plt.plot(fpr[i], tpr[i], label=f'{classes[i]} (AUC = {roc_auc[i]:.2f})')\n",
        "\n",
        "plt.plot([0, 1], [0, 1], 'k--', label='Random')\n",
        "plt.xlabel('False Positive Rate')\n",
        "plt.ylabel('True Positive Rate')\n",
        "plt.title('ROC Curve for Each Class')\n",
        "plt.legend(loc='lower right')\n",
        "plt.grid()\n",
        "plt.show()"
      ],
      "metadata": {
        "colab": {
          "base_uri": "https://localhost:8080/",
          "height": 1000
        },
        "id": "zMLrJ0oAXulT",
        "outputId": "356707f4-f45f-47f5-b190-5f8a26b8335a"
      },
      "execution_count": 9,
      "outputs": [
        {
          "output_type": "stream",
          "name": "stdout",
          "text": [
            "WARNING ⚠️ ClassificationModel does not support 'augment=True' prediction. Reverting to single-scale prediction.\n",
            "WARNING ⚠️ ClassificationModel does not support 'augment=True' prediction. Reverting to single-scale prediction.\n",
            "WARNING ⚠️ ClassificationModel does not support 'augment=True' prediction. Reverting to single-scale prediction.\n",
            "WARNING ⚠️ ClassificationModel does not support 'augment=True' prediction. Reverting to single-scale prediction.\n",
            "WARNING ⚠️ ClassificationModel does not support 'augment=True' prediction. Reverting to single-scale prediction.\n",
            "WARNING ⚠️ ClassificationModel does not support 'augment=True' prediction. Reverting to single-scale prediction.\n",
            "WARNING ⚠️ ClassificationModel does not support 'augment=True' prediction. Reverting to single-scale prediction.\n",
            "WARNING ⚠️ ClassificationModel does not support 'augment=True' prediction. Reverting to single-scale prediction.\n",
            "WARNING ⚠️ ClassificationModel does not support 'augment=True' prediction. Reverting to single-scale prediction.\n",
            "WARNING ⚠️ ClassificationModel does not support 'augment=True' prediction. Reverting to single-scale prediction.\n",
            "WARNING ⚠️ ClassificationModel does not support 'augment=True' prediction. Reverting to single-scale prediction.\n",
            "WARNING ⚠️ ClassificationModel does not support 'augment=True' prediction. Reverting to single-scale prediction.\n",
            "WARNING ⚠️ ClassificationModel does not support 'augment=True' prediction. Reverting to single-scale prediction.\n",
            "WARNING ⚠️ ClassificationModel does not support 'augment=True' prediction. Reverting to single-scale prediction.\n",
            "WARNING ⚠️ ClassificationModel does not support 'augment=True' prediction. Reverting to single-scale prediction.\n",
            "WARNING ⚠️ ClassificationModel does not support 'augment=True' prediction. Reverting to single-scale prediction.\n",
            "WARNING ⚠️ ClassificationModel does not support 'augment=True' prediction. Reverting to single-scale prediction.\n",
            "WARNING ⚠️ ClassificationModel does not support 'augment=True' prediction. Reverting to single-scale prediction.\n",
            "WARNING ⚠️ ClassificationModel does not support 'augment=True' prediction. Reverting to single-scale prediction.\n",
            "WARNING ⚠️ ClassificationModel does not support 'augment=True' prediction. Reverting to single-scale prediction.\n",
            "WARNING ⚠️ ClassificationModel does not support 'augment=True' prediction. Reverting to single-scale prediction.\n",
            "WARNING ⚠️ ClassificationModel does not support 'augment=True' prediction. Reverting to single-scale prediction.\n",
            "WARNING ⚠️ ClassificationModel does not support 'augment=True' prediction. Reverting to single-scale prediction.\n",
            "WARNING ⚠️ ClassificationModel does not support 'augment=True' prediction. Reverting to single-scale prediction.\n",
            "WARNING ⚠️ ClassificationModel does not support 'augment=True' prediction. Reverting to single-scale prediction.\n",
            "WARNING ⚠️ ClassificationModel does not support 'augment=True' prediction. Reverting to single-scale prediction.\n",
            "WARNING ⚠️ ClassificationModel does not support 'augment=True' prediction. Reverting to single-scale prediction.\n",
            "WARNING ⚠️ ClassificationModel does not support 'augment=True' prediction. Reverting to single-scale prediction.\n",
            "WARNING ⚠️ ClassificationModel does not support 'augment=True' prediction. Reverting to single-scale prediction.\n",
            "WARNING ⚠️ ClassificationModel does not support 'augment=True' prediction. Reverting to single-scale prediction.\n",
            "WARNING ⚠️ ClassificationModel does not support 'augment=True' prediction. Reverting to single-scale prediction.\n",
            "WARNING ⚠️ ClassificationModel does not support 'augment=True' prediction. Reverting to single-scale prediction.\n",
            "WARNING ⚠️ ClassificationModel does not support 'augment=True' prediction. Reverting to single-scale prediction.\n",
            "WARNING ⚠️ ClassificationModel does not support 'augment=True' prediction. Reverting to single-scale prediction.\n",
            "WARNING ⚠️ ClassificationModel does not support 'augment=True' prediction. Reverting to single-scale prediction.\n",
            "WARNING ⚠️ ClassificationModel does not support 'augment=True' prediction. Reverting to single-scale prediction.\n",
            "WARNING ⚠️ ClassificationModel does not support 'augment=True' prediction. Reverting to single-scale prediction.\n",
            "WARNING ⚠️ ClassificationModel does not support 'augment=True' prediction. Reverting to single-scale prediction.\n",
            "WARNING ⚠️ ClassificationModel does not support 'augment=True' prediction. Reverting to single-scale prediction.\n",
            "WARNING ⚠️ ClassificationModel does not support 'augment=True' prediction. Reverting to single-scale prediction.\n",
            "WARNING ⚠️ ClassificationModel does not support 'augment=True' prediction. Reverting to single-scale prediction.\n",
            "WARNING ⚠️ ClassificationModel does not support 'augment=True' prediction. Reverting to single-scale prediction.\n",
            "WARNING ⚠️ ClassificationModel does not support 'augment=True' prediction. Reverting to single-scale prediction.\n",
            "WARNING ⚠️ ClassificationModel does not support 'augment=True' prediction. Reverting to single-scale prediction.\n",
            "WARNING ⚠️ ClassificationModel does not support 'augment=True' prediction. Reverting to single-scale prediction.\n",
            "WARNING ⚠️ ClassificationModel does not support 'augment=True' prediction. Reverting to single-scale prediction.\n",
            "WARNING ⚠️ ClassificationModel does not support 'augment=True' prediction. Reverting to single-scale prediction.\n",
            "WARNING ⚠️ ClassificationModel does not support 'augment=True' prediction. Reverting to single-scale prediction.\n",
            "WARNING ⚠️ ClassificationModel does not support 'augment=True' prediction. Reverting to single-scale prediction.\n",
            "WARNING ⚠️ ClassificationModel does not support 'augment=True' prediction. Reverting to single-scale prediction.\n",
            "WARNING ⚠️ ClassificationModel does not support 'augment=True' prediction. Reverting to single-scale prediction.\n",
            "WARNING ⚠️ ClassificationModel does not support 'augment=True' prediction. Reverting to single-scale prediction.\n",
            "WARNING ⚠️ ClassificationModel does not support 'augment=True' prediction. Reverting to single-scale prediction.\n",
            "WARNING ⚠️ ClassificationModel does not support 'augment=True' prediction. Reverting to single-scale prediction.\n",
            "WARNING ⚠️ ClassificationModel does not support 'augment=True' prediction. Reverting to single-scale prediction.\n",
            "WARNING ⚠️ ClassificationModel does not support 'augment=True' prediction. Reverting to single-scale prediction.\n"
          ]
        },
        {
          "output_type": "display_data",
          "data": {
            "text/plain": [
              "<Figure size 800x600 with 1 Axes>"
            ],
            "image/png": "[encoded data removed]"
          },
          "metadata": {}
        }
      ]
    },
    {
      "cell_type": "code",
      "source": [
        "from pathlib import Path\n",
        "import numpy as np\n",
        "from sklearn.metrics import roc_curve, auc\n",
        "import matplotlib.pyplot as plt\n",
        "from sklearn.preprocessing import label_binarize\n",
        "\n",
        "# Ambil semua gambar dari folder test\n",
        "test_images = list(Path('/content/dataset/test').rglob('*.jpg'))\n",
        "\n",
        "# Ambil kelas dari model\n",
        "classes_dict = model.names\n",
        "classes = [classes_dict[i] for i in range(len(classes_dict))]\n",
        "\n",
        "num_classes = len(classes)\n",
        "\n",
        "# Simpan label ground truth dan prediksi probabilitas\n",
        "y_true = []\n",
        "y_score = []\n",
        "\n",
        "for img_path in test_images:\n",
        "    label = img_path.parent.name\n",
        "    label_idx = classes.index(label)\n",
        "    y_true.append(label_idx)\n",
        "\n",
        "    # Prediksi menggunakan model\n",
        "    result = model(img_path, verbose=False)[0]\n",
        "    probs = result.probs.data.tolist()  # Probabilitas prediksi\n",
        "    y_score.append(probs)\n",
        "\n",
        "# Binarisasi label\n",
        "y_true_bin = label_binarize(y_true, classes=list(range(num_classes)))  # shape (n_samples, n_classes)\n",
        "y_score = np.array(y_score)\n",
        "\n",
        "# Plot ROC untuk setiap kelas\n",
        "plt.figure(figsize=(8, 6))\n",
        "for i in range(num_classes):\n",
        "    fpr, tpr, _ = roc_curve(y_true_bin[:, i], y_score[:, i])\n",
        "    roc_auc = auc(fpr, tpr)\n",
        "    plt.plot(fpr, tpr, lw=2, label=f'ROC class {classes[i]} (AUC = {roc_auc:.2f})')\n",
        "\n",
        "plt.plot([0, 1], [0, 1], 'k--', lw=1)\n",
        "plt.xlim([0.0, 1.0])\n",
        "plt.ylim([0.0, 1.05])\n",
        "plt.xlabel('False Positive Rate')\n",
        "plt.ylabel('True Positive Rate')\n",
        "plt.title('ROC Curve - Multi-Class (1-vs-1)')\n",
        "plt.legend(loc=\"lower right\")\n",
        "plt.grid(True)\n",
        "plt.show()"
      ],
      "metadata": {
        "colab": {
          "base_uri": "https://localhost:8080/",
          "height": 1000
        },
        "id": "U0HKzXjvZJgE",
        "outputId": "a21fb99f-8580-40c8-84ba-0f1963c2a748"
      },
      "execution_count": 10,
      "outputs": [
        {
          "output_type": "stream",
          "name": "stdout",
          "text": [
            "WARNING ⚠️ ClassificationModel does not support 'augment=True' prediction. Reverting to single-scale prediction.\n",
            "WARNING ⚠️ ClassificationModel does not support 'augment=True' prediction. Reverting to single-scale prediction.\n",
            "WARNING ⚠️ ClassificationModel does not support 'augment=True' prediction. Reverting to single-scale prediction.\n",
            "WARNING ⚠️ ClassificationModel does not support 'augment=True' prediction. Reverting to single-scale prediction.\n",
            "WARNING ⚠️ ClassificationModel does not support 'augment=True' prediction. Reverting to single-scale prediction.\n",
            "WARNING ⚠️ ClassificationModel does not support 'augment=True' prediction. Reverting to single-scale prediction.\n",
            "WARNING ⚠️ ClassificationModel does not support 'augment=True' prediction. Reverting to single-scale prediction.\n",
            "WARNING ⚠️ ClassificationModel does not support 'augment=True' prediction. Reverting to single-scale prediction.\n",
            "WARNING ⚠️ ClassificationModel does not support 'augment=True' prediction. Reverting to single-scale prediction.\n",
            "WARNING ⚠️ ClassificationModel does not support 'augment=True' prediction. Reverting to single-scale prediction.\n",
            "WARNING ⚠️ ClassificationModel does not support 'augment=True' prediction. Reverting to single-scale prediction.\n",
            "WARNING ⚠️ ClassificationModel does not support 'augment=True' prediction. Reverting to single-scale prediction.\n",
            "WARNING ⚠️ ClassificationModel does not support 'augment=True' prediction. Reverting to single-scale prediction.\n",
            "WARNING ⚠️ ClassificationModel does not support 'augment=True' prediction. Reverting to single-scale prediction.\n",
            "WARNING ⚠️ ClassificationModel does not support 'augment=True' prediction. Reverting to single-scale prediction.\n",
            "WARNING ⚠️ ClassificationModel does not support 'augment=True' prediction. Reverting to single-scale prediction.\n",
            "WARNING ⚠️ ClassificationModel does not support 'augment=True' prediction. Reverting to single-scale prediction.\n",
            "WARNING ⚠️ ClassificationModel does not support 'augment=True' prediction. Reverting to single-scale prediction.\n",
            "WARNING ⚠️ ClassificationModel does not support 'augment=True' prediction. Reverting to single-scale prediction.\n",
            "WARNING ⚠️ ClassificationModel does not support 'augment=True' prediction. Reverting to single-scale prediction.\n",
            "WARNING ⚠️ ClassificationModel does not support 'augment=True' prediction. Reverting to single-scale prediction.\n",
            "WARNING ⚠️ ClassificationModel does not support 'augment=True' prediction. Reverting to single-scale prediction.\n",
            "WARNING ⚠️ ClassificationModel does not support 'augment=True' prediction. Reverting to single-scale prediction.\n",
            "WARNING ⚠️ ClassificationModel does not support 'augment=True' prediction. Reverting to single-scale prediction.\n",
            "WARNING ⚠️ ClassificationModel does not support 'augment=True' prediction. Reverting to single-scale prediction.\n",
            "WARNING ⚠️ ClassificationModel does not support 'augment=True' prediction. Reverting to single-scale prediction.\n",
            "WARNING ⚠️ ClassificationModel does not support 'augment=True' prediction. Reverting to single-scale prediction.\n",
            "WARNING ⚠️ ClassificationModel does not support 'augment=True' prediction. Reverting to single-scale prediction.\n",
            "WARNING ⚠️ ClassificationModel does not support 'augment=True' prediction. Reverting to single-scale prediction.\n",
            "WARNING ⚠️ ClassificationModel does not support 'augment=True' prediction. Reverting to single-scale prediction.\n",
            "WARNING ⚠️ ClassificationModel does not support 'augment=True' prediction. Reverting to single-scale prediction.\n",
            "WARNING ⚠️ ClassificationModel does not support 'augment=True' prediction. Reverting to single-scale prediction.\n",
            "WARNING ⚠️ ClassificationModel does not support 'augment=True' prediction. Reverting to single-scale prediction.\n",
            "WARNING ⚠️ ClassificationModel does not support 'augment=True' prediction. Reverting to single-scale prediction.\n",
            "WARNING ⚠️ ClassificationModel does not support 'augment=True' prediction. Reverting to single-scale prediction.\n",
            "WARNING ⚠️ ClassificationModel does not support 'augment=True' prediction. Reverting to single-scale prediction.\n",
            "WARNING ⚠️ ClassificationModel does not support 'augment=True' prediction. Reverting to single-scale prediction.\n",
            "WARNING ⚠️ ClassificationModel does not support 'augment=True' prediction. Reverting to single-scale prediction.\n",
            "WARNING ⚠️ ClassificationModel does not support 'augment=True' prediction. Reverting to single-scale prediction.\n",
            "WARNING ⚠️ ClassificationModel does not support 'augment=True' prediction. Reverting to single-scale prediction.\n",
            "WARNING ⚠️ ClassificationModel does not support 'augment=True' prediction. Reverting to single-scale prediction.\n",
            "WARNING ⚠️ ClassificationModel does not support 'augment=True' prediction. Reverting to single-scale prediction.\n",
            "WARNING ⚠️ ClassificationModel does not support 'augment=True' prediction. Reverting to single-scale prediction.\n",
            "WARNING ⚠️ ClassificationModel does not support 'augment=True' prediction. Reverting to single-scale prediction.\n",
            "WARNING ⚠️ ClassificationModel does not support 'augment=True' prediction. Reverting to single-scale prediction.\n",
            "WARNING ⚠️ ClassificationModel does not support 'augment=True' prediction. Reverting to single-scale prediction.\n",
            "WARNING ⚠️ ClassificationModel does not support 'augment=True' prediction. Reverting to single-scale prediction.\n",
            "WARNING ⚠️ ClassificationModel does not support 'augment=True' prediction. Reverting to single-scale prediction.\n",
            "WARNING ⚠️ ClassificationModel does not support 'augment=True' prediction. Reverting to single-scale prediction.\n",
            "WARNING ⚠️ ClassificationModel does not support 'augment=True' prediction. Reverting to single-scale prediction.\n",
            "WARNING ⚠️ ClassificationModel does not support 'augment=True' prediction. Reverting to single-scale prediction.\n",
            "WARNING ⚠️ ClassificationModel does not support 'augment=True' prediction. Reverting to single-scale prediction.\n",
            "WARNING ⚠️ ClassificationModel does not support 'augment=True' prediction. Reverting to single-scale prediction.\n",
            "WARNING ⚠️ ClassificationModel does not support 'augment=True' prediction. Reverting to single-scale prediction.\n",
            "WARNING ⚠️ ClassificationModel does not support 'augment=True' prediction. Reverting to single-scale prediction.\n",
            "WARNING ⚠️ ClassificationModel does not support 'augment=True' prediction. Reverting to single-scale prediction.\n"
          ]
        },
        {
          "output_type": "display_data",
          "data": {
            "text/plain": [
              "<Figure size 800x600 with 1 Axes>"
            ],
            "image/png": "[encoded data removed]"
          },
          "metadata": {}
        }
      ]
    },
    {
      "cell_type": "markdown",
      "source": [
        "# Training Rotation, Scaling, Shearing, Translation using Small"
      ],
      "metadata": {
        "id": "MNdsfOIpVwEe"
      }
    },
    {
      "cell_type": "code",
      "source": [
        "model = YOLO('yolov8s-cls.pt')\n",
        "model.train(\n",
        "    data=\"/content/dataset\",\n",
        "    epochs=100,\n",
        "    imgsz=320,\n",
        "    batch=16,\n",
        "    augment=True,\n",
        "    degrees=30,\n",
        "    fliplr=0,\n",
        "    flipud=0,\n",
        "    scale=0.3,\n",
        "    shear=5,\n",
        "    translate=0.2\n",
        ")"
      ],
      "metadata": {
        "colab": {
          "base_uri": "https://localhost:8080/"
        },
        "id": "ZqkznE_3V0VL",
        "outputId": "eddc1ced-98a0-425b-999b-3f4d1d4107f7"
      },
      "execution_count": 11,
      "outputs": [
        {
          "output_type": "stream",
          "name": "stdout",
          "text": [
            "Downloading https://github.com/ultralytics/assets/releases/download/v8.3.0/yolov8s-cls.pt to 'yolov8s-cls.pt'...\n"
          ]
        },
        {
          "output_type": "stream",
          "name": "stderr",
          "text": [
            "100%|██████████| 12.3M/12.3M [00:00<00:00, 88.3MB/s]\n"
          ]
        },
        {
          "output_type": "stream",
          "name": "stdout",
          "text": [
            "Ultralytics 8.3.135 🚀 Python-3.11.12 torch-2.6.0+cu124 CUDA:0 (Tesla T4, 15095MiB)\n",
            "\u001b[34m\u001b[1mengine/trainer: \u001b[0magnostic_nms=False, amp=True, augment=True, auto_augment=randaugment, batch=16, bgr=0.0, box=7.5, cache=False, cfg=None, classes=None, close_mosaic=10, cls=0.5, conf=None, copy_paste=0.0, copy_paste_mode=flip, cos_lr=False, cutmix=0.0, data=/content/dataset, degrees=30, deterministic=True, device=None, dfl=1.5, dnn=False, dropout=0.0, dynamic=False, embed=None, epochs=100, erasing=0.4, exist_ok=False, fliplr=0, flipud=0, format=torchscript, fraction=1.0, freeze=None, half=False, hsv_h=0.015, hsv_s=0.7, hsv_v=0.4, imgsz=320, int8=False, iou=0.7, keras=False, kobj=1.0, line_width=None, lr0=0.01, lrf=0.01, mask_ratio=4, max_det=300, mixup=0.0, mode=train, model=yolov8s-cls.pt, momentum=0.937, mosaic=1.0, multi_scale=False, name=train3, nbs=64, nms=False, opset=None, optimize=False, optimizer=auto, overlap_mask=True, patience=100, perspective=0.0, plots=True, pose=12.0, pretrained=True, profile=False, project=None, rect=False, resume=False, retina_masks=False, save=True, save_conf=False, save_crop=False, save_dir=runs/classify/train3, save_frames=False, save_json=False, save_period=-1, save_txt=False, scale=0.3, seed=0, shear=5, show=False, show_boxes=True, show_conf=True, show_labels=True, simplify=True, single_cls=False, source=None, split=val, stream_buffer=False, task=classify, time=None, tracker=botsort.yaml, translate=0.2, val=True, verbose=True, vid_stride=1, visualize=False, warmup_bias_lr=0.1, warmup_epochs=3.0, warmup_momentum=0.8, weight_decay=0.0005, workers=8, workspace=None\n",
            "\u001b[34m\u001b[1mtrain:\u001b[0m /content/dataset/train... found 428 images in 3 classes ✅ \n",
            "\u001b[34m\u001b[1mval:\u001b[0m /content/dataset/val... found 52 images in 3 classes ✅ \n",
            "\u001b[34m\u001b[1mtest:\u001b[0m /content/dataset/test... found 56 images in 3 classes ✅ \n",
            "Overriding model.yaml nc=1000 with nc=3\n",
            "\n",
            "                   from  n    params  module                                       arguments                     \n",
            "  0                  -1  1       928  ultralytics.nn.modules.conv.Conv             [3, 32, 3, 2]                 \n",
            "  1                  -1  1     18560  ultralytics.nn.modules.conv.Conv             [32, 64, 3, 2]                \n",
            "  2                  -1  1     29056  ultralytics.nn.modules.block.C2f             [64, 64, 1, True]             \n",
            "  3                  -1  1     73984  ultralytics.nn.modules.conv.Conv             [64, 128, 3, 2]               \n",
            "  4                  -1  2    197632  ultralytics.nn.modules.block.C2f             [128, 128, 2, True]           \n",
            "  5                  -1  1    295424  ultralytics.nn.modules.conv.Conv             [128, 256, 3, 2]              \n",
            "  6                  -1  2    788480  ultralytics.nn.modules.block.C2f             [256, 256, 2, True]           \n",
            "  7                  -1  1   1180672  ultralytics.nn.modules.conv.Conv             [256, 512, 3, 2]              \n",
            "  8                  -1  1   1838080  ultralytics.nn.modules.block.C2f             [512, 512, 1, True]           \n",
            "  9                  -1  1    661763  ultralytics.nn.modules.head.Classify         [512, 3]                      \n",
            "YOLOv8s-cls summary: 56 layers, 5,084,579 parameters, 5,084,579 gradients, 12.6 GFLOPs\n",
            "Transferred 156/158 items from pretrained weights\n",
            "\u001b[34m\u001b[1mAMP: \u001b[0mrunning Automatic Mixed Precision (AMP) checks...\n",
            "\u001b[34m\u001b[1mAMP: \u001b[0mchecks passed ✅\n",
            "\u001b[34m\u001b[1mtrain: \u001b[0mFast image access ✅ (ping: 0.0±0.0 ms, read: 156.0±51.9 MB/s, size: 4.4 KB)\n"
          ]
        },
        {
          "output_type": "stream",
          "name": "stderr",
          "text": [
            "\u001b[34m\u001b[1mtrain: \u001b[0mScanning /content/dataset/train... 428 images, 0 corrupt: 100%|██████████| 428/428 [00:00<?, ?it/s]\n"
          ]
        },
        {
          "output_type": "stream",
          "name": "stdout",
          "text": [
            "\u001b[34m\u001b[1mval: \u001b[0mFast image access ✅ (ping: 0.0±0.0 ms, read: 162.1±108.4 MB/s, size: 14.8 KB)\n"
          ]
        },
        {
          "output_type": "stream",
          "name": "stderr",
          "text": [
            "\u001b[34m\u001b[1mval: \u001b[0mScanning /content/dataset/val... 52 images, 0 corrupt: 100%|██████████| 52/52 [00:00<?, ?it/s]\n"
          ]
        },
        {
          "output_type": "stream",
          "name": "stdout",
          "text": [
            "\u001b[34m\u001b[1moptimizer:\u001b[0m 'optimizer=auto' found, ignoring 'lr0=0.01' and 'momentum=0.937' and determining best 'optimizer', 'lr0' and 'momentum' automatically... \n",
            "\u001b[34m\u001b[1moptimizer:\u001b[0m AdamW(lr=0.001429, momentum=0.9) with parameter groups 26 weight(decay=0.0), 27 weight(decay=0.0005), 27 bias(decay=0.0)\n",
            "Image sizes 320 train, 320 val\n",
            "Using 2 dataloader workers\n",
            "Logging results to \u001b[1mruns/classify/train3\u001b[0m\n",
            "Starting training for 100 epochs...\n",
            "\n",
            "      Epoch    GPU_mem       loss  Instances       Size\n"
          ]
        },
        {
          "output_type": "stream",
          "name": "stderr",
          "text": [
            "      1/100     0.805G      1.068         12        320: 100%|██████████| 27/27 [00:05<00:00,  4.51it/s]\n",
            "               classes   top1_acc   top5_acc: 100%|██████████| 2/2 [00:00<00:00,  9.51it/s]"
          ]
        },
        {
          "output_type": "stream",
          "name": "stdout",
          "text": [
            "                   all      0.404          1\n"
          ]
        },
        {
          "output_type": "stream",
          "name": "stderr",
          "text": [
            "\n"
          ]
        },
        {
          "output_type": "stream",
          "name": "stdout",
          "text": [
            "\n",
            "      Epoch    GPU_mem       loss  Instances       Size\n"
          ]
        },
        {
          "output_type": "stream",
          "name": "stderr",
          "text": [
            "      2/100     0.977G     0.9979         12        320: 100%|██████████| 27/27 [00:04<00:00,  6.00it/s]\n",
            "               classes   top1_acc   top5_acc: 100%|██████████| 2/2 [00:00<00:00, 23.11it/s]"
          ]
        },
        {
          "output_type": "stream",
          "name": "stdout",
          "text": [
            "                   all      0.404          1\n"
          ]
        },
        {
          "output_type": "stream",
          "name": "stderr",
          "text": [
            "\n"
          ]
        },
        {
          "output_type": "stream",
          "name": "stdout",
          "text": [
            "\n",
            "      Epoch    GPU_mem       loss  Instances       Size\n"
          ]
        },
        {
          "output_type": "stream",
          "name": "stderr",
          "text": [
            "      3/100     0.977G     0.8353         12        320: 100%|██████████| 27/27 [00:04<00:00,  6.15it/s]\n",
            "               classes   top1_acc   top5_acc: 100%|██████████| 2/2 [00:00<00:00, 18.04it/s]"
          ]
        },
        {
          "output_type": "stream",
          "name": "stdout",
          "text": [
            "                   all      0.423          1\n"
          ]
        },
        {
          "output_type": "stream",
          "name": "stderr",
          "text": [
            "\n"
          ]
        },
        {
          "output_type": "stream",
          "name": "stdout",
          "text": [
            "\n",
            "      Epoch    GPU_mem       loss  Instances       Size\n"
          ]
        },
        {
          "output_type": "stream",
          "name": "stderr",
          "text": [
            "      4/100     0.977G     0.7678         12        320: 100%|██████████| 27/27 [00:03<00:00,  8.41it/s]\n",
            "               classes   top1_acc   top5_acc: 100%|██████████| 2/2 [00:00<00:00, 27.47it/s]\n"
          ]
        },
        {
          "output_type": "stream",
          "name": "stdout",
          "text": [
            "                   all      0.519          1\n",
            "\n",
            "      Epoch    GPU_mem       loss  Instances       Size\n"
          ]
        },
        {
          "output_type": "stream",
          "name": "stderr",
          "text": [
            "      5/100     0.977G     0.5716         12        320: 100%|██████████| 27/27 [00:03<00:00,  8.39it/s]\n",
            "               classes   top1_acc   top5_acc: 100%|██████████| 2/2 [00:00<00:00, 25.71it/s]"
          ]
        },
        {
          "output_type": "stream",
          "name": "stdout",
          "text": [
            "                   all      0.558          1\n"
          ]
        },
        {
          "output_type": "stream",
          "name": "stderr",
          "text": [
            "\n"
          ]
        },
        {
          "output_type": "stream",
          "name": "stdout",
          "text": [
            "\n",
            "      Epoch    GPU_mem       loss  Instances       Size\n"
          ]
        },
        {
          "output_type": "stream",
          "name": "stderr",
          "text": [
            "      6/100     0.977G     0.5746         12        320: 100%|██████████| 27/27 [00:04<00:00,  6.63it/s]\n",
            "               classes   top1_acc   top5_acc: 100%|██████████| 2/2 [00:00<00:00, 17.51it/s]"
          ]
        },
        {
          "output_type": "stream",
          "name": "stdout",
          "text": [
            "                   all      0.615          1\n"
          ]
        },
        {
          "output_type": "stream",
          "name": "stderr",
          "text": [
            "\n"
          ]
        },
        {
          "output_type": "stream",
          "name": "stdout",
          "text": [
            "\n",
            "      Epoch    GPU_mem       loss  Instances       Size\n"
          ]
        },
        {
          "output_type": "stream",
          "name": "stderr",
          "text": [
            "      7/100     0.977G     0.4988         12        320: 100%|██████████| 27/27 [00:03<00:00,  8.10it/s]\n",
            "               classes   top1_acc   top5_acc: 100%|██████████| 2/2 [00:00<00:00, 25.96it/s]"
          ]
        },
        {
          "output_type": "stream",
          "name": "stdout",
          "text": [
            "                   all      0.596          1\n"
          ]
        },
        {
          "output_type": "stream",
          "name": "stderr",
          "text": [
            "\n"
          ]
        },
        {
          "output_type": "stream",
          "name": "stdout",
          "text": [
            "\n",
            "      Epoch    GPU_mem       loss  Instances       Size\n"
          ]
        },
        {
          "output_type": "stream",
          "name": "stderr",
          "text": [
            "      8/100     0.977G     0.4174         12        320: 100%|██████████| 27/27 [00:03<00:00,  8.37it/s]\n",
            "               classes   top1_acc   top5_acc: 100%|██████████| 2/2 [00:00<00:00, 35.97it/s]"
          ]
        },
        {
          "output_type": "stream",
          "name": "stdout",
          "text": [
            "                   all      0.673          1\n"
          ]
        },
        {
          "output_type": "stream",
          "name": "stderr",
          "text": [
            "\n"
          ]
        },
        {
          "output_type": "stream",
          "name": "stdout",
          "text": [
            "\n",
            "      Epoch    GPU_mem       loss  Instances       Size\n"
          ]
        },
        {
          "output_type": "stream",
          "name": "stderr",
          "text": [
            "      9/100     0.977G     0.3203         12        320: 100%|██████████| 27/27 [00:03<00:00,  7.55it/s]\n",
            "               classes   top1_acc   top5_acc: 100%|██████████| 2/2 [00:00<00:00, 12.89it/s]"
          ]
        },
        {
          "output_type": "stream",
          "name": "stdout",
          "text": [
            "                   all      0.635          1\n"
          ]
        },
        {
          "output_type": "stream",
          "name": "stderr",
          "text": [
            "\n"
          ]
        },
        {
          "output_type": "stream",
          "name": "stdout",
          "text": [
            "\n",
            "      Epoch    GPU_mem       loss  Instances       Size\n"
          ]
        },
        {
          "output_type": "stream",
          "name": "stderr",
          "text": [
            "     10/100     0.977G     0.3383         12        320: 100%|██████████| 27/27 [00:03<00:00,  7.32it/s]\n",
            "               classes   top1_acc   top5_acc: 100%|██████████| 2/2 [00:00<00:00, 33.22it/s]"
          ]
        },
        {
          "output_type": "stream",
          "name": "stdout",
          "text": [
            "                   all      0.712          1\n"
          ]
        },
        {
          "output_type": "stream",
          "name": "stderr",
          "text": [
            "\n"
          ]
        },
        {
          "output_type": "stream",
          "name": "stdout",
          "text": [
            "\n",
            "      Epoch    GPU_mem       loss  Instances       Size\n"
          ]
        },
        {
          "output_type": "stream",
          "name": "stderr",
          "text": [
            "     11/100     0.977G     0.3212         12        320: 100%|██████████| 27/27 [00:03<00:00,  8.41it/s]\n",
            "               classes   top1_acc   top5_acc: 100%|██████████| 2/2 [00:00<00:00, 33.04it/s]"
          ]
        },
        {
          "output_type": "stream",
          "name": "stdout",
          "text": [
            "                   all      0.654          1\n"
          ]
        },
        {
          "output_type": "stream",
          "name": "stderr",
          "text": [
            "\n"
          ]
        },
        {
          "output_type": "stream",
          "name": "stdout",
          "text": [
            "\n",
            "      Epoch    GPU_mem       loss  Instances       Size\n"
          ]
        },
        {
          "output_type": "stream",
          "name": "stderr",
          "text": [
            "     12/100     0.977G     0.3013         12        320: 100%|██████████| 27/27 [00:03<00:00,  7.79it/s]\n",
            "               classes   top1_acc   top5_acc: 100%|██████████| 2/2 [00:00<00:00, 26.16it/s]"
          ]
        },
        {
          "output_type": "stream",
          "name": "stdout",
          "text": [
            "                   all      0.692          1\n"
          ]
        },
        {
          "output_type": "stream",
          "name": "stderr",
          "text": [
            "\n"
          ]
        },
        {
          "output_type": "stream",
          "name": "stdout",
          "text": [
            "\n",
            "      Epoch    GPU_mem       loss  Instances       Size\n"
          ]
        },
        {
          "output_type": "stream",
          "name": "stderr",
          "text": [
            "     13/100     0.977G     0.3058         12        320: 100%|██████████| 27/27 [00:03<00:00,  7.23it/s]\n",
            "               classes   top1_acc   top5_acc: 100%|██████████| 2/2 [00:00<00:00, 23.65it/s]"
          ]
        },
        {
          "output_type": "stream",
          "name": "stdout",
          "text": [
            "                   all      0.558          1\n"
          ]
        },
        {
          "output_type": "stream",
          "name": "stderr",
          "text": [
            "\n"
          ]
        },
        {
          "output_type": "stream",
          "name": "stdout",
          "text": [
            "\n",
            "      Epoch    GPU_mem       loss  Instances       Size\n"
          ]
        },
        {
          "output_type": "stream",
          "name": "stderr",
          "text": [
            "     14/100     0.977G     0.2197         12        320: 100%|██████████| 27/27 [00:03<00:00,  8.57it/s]\n",
            "               classes   top1_acc   top5_acc: 100%|██████████| 2/2 [00:00<00:00, 25.46it/s]"
          ]
        },
        {
          "output_type": "stream",
          "name": "stdout",
          "text": [
            "                   all      0.577          1\n"
          ]
        },
        {
          "output_type": "stream",
          "name": "stderr",
          "text": [
            "\n"
          ]
        },
        {
          "output_type": "stream",
          "name": "stdout",
          "text": [
            "\n",
            "      Epoch    GPU_mem       loss  Instances       Size\n"
          ]
        },
        {
          "output_type": "stream",
          "name": "stderr",
          "text": [
            "     15/100       1.1G     0.2014         12        320: 100%|██████████| 27/27 [00:03<00:00,  8.09it/s]\n",
            "               classes   top1_acc   top5_acc: 100%|██████████| 2/2 [00:00<00:00, 29.87it/s]"
          ]
        },
        {
          "output_type": "stream",
          "name": "stdout",
          "text": [
            "                   all      0.635          1\n"
          ]
        },
        {
          "output_type": "stream",
          "name": "stderr",
          "text": [
            "\n"
          ]
        },
        {
          "output_type": "stream",
          "name": "stdout",
          "text": [
            "\n",
            "      Epoch    GPU_mem       loss  Instances       Size\n"
          ]
        },
        {
          "output_type": "stream",
          "name": "stderr",
          "text": [
            "     16/100       1.1G     0.2283         12        320: 100%|██████████| 27/27 [00:03<00:00,  6.79it/s]\n",
            "               classes   top1_acc   top5_acc: 100%|██████████| 2/2 [00:00<00:00, 23.45it/s]"
          ]
        },
        {
          "output_type": "stream",
          "name": "stdout",
          "text": [
            "                   all      0.692          1\n"
          ]
        },
        {
          "output_type": "stream",
          "name": "stderr",
          "text": [
            "\n"
          ]
        },
        {
          "output_type": "stream",
          "name": "stdout",
          "text": [
            "\n",
            "      Epoch    GPU_mem       loss  Instances       Size\n"
          ]
        },
        {
          "output_type": "stream",
          "name": "stderr",
          "text": [
            "     17/100      1.11G     0.2787         12        320: 100%|██████████| 27/27 [00:03<00:00,  8.23it/s]\n",
            "               classes   top1_acc   top5_acc: 100%|██████████| 2/2 [00:00<00:00, 43.76it/s]"
          ]
        },
        {
          "output_type": "stream",
          "name": "stdout",
          "text": [
            "                   all      0.654          1\n"
          ]
        },
        {
          "output_type": "stream",
          "name": "stderr",
          "text": [
            "\n"
          ]
        },
        {
          "output_type": "stream",
          "name": "stdout",
          "text": [
            "\n",
            "      Epoch    GPU_mem       loss  Instances       Size\n"
          ]
        },
        {
          "output_type": "stream",
          "name": "stderr",
          "text": [
            "     18/100      1.12G      0.165         12        320: 100%|██████████| 27/27 [00:03<00:00,  8.09it/s]\n",
            "               classes   top1_acc   top5_acc: 100%|██████████| 2/2 [00:00<00:00, 33.04it/s]"
          ]
        },
        {
          "output_type": "stream",
          "name": "stdout",
          "text": [
            "                   all      0.712          1\n"
          ]
        },
        {
          "output_type": "stream",
          "name": "stderr",
          "text": [
            "\n"
          ]
        },
        {
          "output_type": "stream",
          "name": "stdout",
          "text": [
            "\n",
            "      Epoch    GPU_mem       loss  Instances       Size\n"
          ]
        },
        {
          "output_type": "stream",
          "name": "stderr",
          "text": [
            "     19/100      1.12G     0.1522         12        320: 100%|██████████| 27/27 [00:04<00:00,  6.61it/s]\n",
            "               classes   top1_acc   top5_acc: 100%|██████████| 2/2 [00:00<00:00, 36.03it/s]"
          ]
        },
        {
          "output_type": "stream",
          "name": "stdout",
          "text": [
            "                   all      0.654          1\n"
          ]
        },
        {
          "output_type": "stream",
          "name": "stderr",
          "text": [
            "\n"
          ]
        },
        {
          "output_type": "stream",
          "name": "stdout",
          "text": [
            "\n",
            "      Epoch    GPU_mem       loss  Instances       Size\n"
          ]
        },
        {
          "output_type": "stream",
          "name": "stderr",
          "text": [
            "     20/100      1.13G     0.1691         12        320: 100%|██████████| 27/27 [00:03<00:00,  8.45it/s]\n",
            "               classes   top1_acc   top5_acc: 100%|██████████| 2/2 [00:00<00:00, 24.83it/s]"
          ]
        },
        {
          "output_type": "stream",
          "name": "stdout",
          "text": [
            "                   all      0.712          1\n"
          ]
        },
        {
          "output_type": "stream",
          "name": "stderr",
          "text": [
            "\n"
          ]
        },
        {
          "output_type": "stream",
          "name": "stdout",
          "text": [
            "\n",
            "      Epoch    GPU_mem       loss  Instances       Size\n"
          ]
        },
        {
          "output_type": "stream",
          "name": "stderr",
          "text": [
            "     21/100      1.13G     0.1828         12        320: 100%|██████████| 27/27 [00:03<00:00,  8.40it/s]\n",
            "               classes   top1_acc   top5_acc: 100%|██████████| 2/2 [00:00<00:00, 28.78it/s]"
          ]
        },
        {
          "output_type": "stream",
          "name": "stdout",
          "text": [
            "                   all      0.635          1\n"
          ]
        },
        {
          "output_type": "stream",
          "name": "stderr",
          "text": [
            "\n"
          ]
        },
        {
          "output_type": "stream",
          "name": "stdout",
          "text": [
            "\n",
            "      Epoch    GPU_mem       loss  Instances       Size\n"
          ]
        },
        {
          "output_type": "stream",
          "name": "stderr",
          "text": [
            "     22/100      1.14G     0.1597         12        320: 100%|██████████| 27/27 [00:04<00:00,  6.31it/s]\n",
            "               classes   top1_acc   top5_acc: 100%|██████████| 2/2 [00:00<00:00, 39.77it/s]"
          ]
        },
        {
          "output_type": "stream",
          "name": "stdout",
          "text": [
            "                   all      0.596          1\n"
          ]
        },
        {
          "output_type": "stream",
          "name": "stderr",
          "text": [
            "\n"
          ]
        },
        {
          "output_type": "stream",
          "name": "stdout",
          "text": [
            "\n",
            "      Epoch    GPU_mem       loss  Instances       Size\n"
          ]
        },
        {
          "output_type": "stream",
          "name": "stderr",
          "text": [
            "     23/100      1.14G     0.1756         12        320: 100%|██████████| 27/27 [00:03<00:00,  8.22it/s]\n",
            "               classes   top1_acc   top5_acc: 100%|██████████| 2/2 [00:00<00:00, 29.34it/s]"
          ]
        },
        {
          "output_type": "stream",
          "name": "stdout",
          "text": [
            "                   all      0.615          1\n"
          ]
        },
        {
          "output_type": "stream",
          "name": "stderr",
          "text": [
            "\n"
          ]
        },
        {
          "output_type": "stream",
          "name": "stdout",
          "text": [
            "\n",
            "      Epoch    GPU_mem       loss  Instances       Size\n"
          ]
        },
        {
          "output_type": "stream",
          "name": "stderr",
          "text": [
            "     24/100      1.14G     0.1483         12        320: 100%|██████████| 27/27 [00:03<00:00,  8.42it/s]\n",
            "               classes   top1_acc   top5_acc: 100%|██████████| 2/2 [00:00<00:00, 26.81it/s]"
          ]
        },
        {
          "output_type": "stream",
          "name": "stdout",
          "text": [
            "                   all      0.654          1\n"
          ]
        },
        {
          "output_type": "stream",
          "name": "stderr",
          "text": [
            "\n"
          ]
        },
        {
          "output_type": "stream",
          "name": "stdout",
          "text": [
            "\n",
            "      Epoch    GPU_mem       loss  Instances       Size\n"
          ]
        },
        {
          "output_type": "stream",
          "name": "stderr",
          "text": [
            "     25/100      1.14G      0.136         12        320: 100%|██████████| 27/27 [00:04<00:00,  6.56it/s]\n",
            "               classes   top1_acc   top5_acc: 100%|██████████| 2/2 [00:00<00:00, 22.97it/s]"
          ]
        },
        {
          "output_type": "stream",
          "name": "stdout",
          "text": [
            "                   all      0.615          1\n"
          ]
        },
        {
          "output_type": "stream",
          "name": "stderr",
          "text": [
            "\n"
          ]
        },
        {
          "output_type": "stream",
          "name": "stdout",
          "text": [
            "\n",
            "      Epoch    GPU_mem       loss  Instances       Size\n"
          ]
        },
        {
          "output_type": "stream",
          "name": "stderr",
          "text": [
            "     26/100      1.14G     0.1835         12        320: 100%|██████████| 27/27 [00:03<00:00,  8.58it/s]\n",
            "               classes   top1_acc   top5_acc: 100%|██████████| 2/2 [00:00<00:00, 21.82it/s]"
          ]
        },
        {
          "output_type": "stream",
          "name": "stdout",
          "text": [
            "                   all      0.596          1\n"
          ]
        },
        {
          "output_type": "stream",
          "name": "stderr",
          "text": [
            "\n"
          ]
        },
        {
          "output_type": "stream",
          "name": "stdout",
          "text": [
            "\n",
            "      Epoch    GPU_mem       loss  Instances       Size\n"
          ]
        },
        {
          "output_type": "stream",
          "name": "stderr",
          "text": [
            "     27/100      1.14G     0.1216         12        320: 100%|██████████| 27/27 [00:03<00:00,  8.39it/s]\n",
            "               classes   top1_acc   top5_acc: 100%|██████████| 2/2 [00:00<00:00, 32.33it/s]"
          ]
        },
        {
          "output_type": "stream",
          "name": "stdout",
          "text": [
            "                   all      0.615          1\n"
          ]
        },
        {
          "output_type": "stream",
          "name": "stderr",
          "text": [
            "\n"
          ]
        },
        {
          "output_type": "stream",
          "name": "stdout",
          "text": [
            "\n",
            "      Epoch    GPU_mem       loss  Instances       Size\n"
          ]
        },
        {
          "output_type": "stream",
          "name": "stderr",
          "text": [
            "     28/100      1.14G    0.09759         12        320: 100%|██████████| 27/27 [00:04<00:00,  6.14it/s]\n",
            "               classes   top1_acc   top5_acc: 100%|██████████| 2/2 [00:00<00:00, 24.91it/s]"
          ]
        },
        {
          "output_type": "stream",
          "name": "stdout",
          "text": [
            "                   all      0.538          1\n"
          ]
        },
        {
          "output_type": "stream",
          "name": "stderr",
          "text": [
            "\n"
          ]
        },
        {
          "output_type": "stream",
          "name": "stdout",
          "text": [
            "\n",
            "      Epoch    GPU_mem       loss  Instances       Size\n"
          ]
        },
        {
          "output_type": "stream",
          "name": "stderr",
          "text": [
            "     29/100      1.14G    0.09142         12        320: 100%|██████████| 27/27 [00:03<00:00,  8.23it/s]\n",
            "               classes   top1_acc   top5_acc: 100%|██████████| 2/2 [00:00<00:00, 22.40it/s]"
          ]
        },
        {
          "output_type": "stream",
          "name": "stdout",
          "text": [
            "                   all      0.615          1\n"
          ]
        },
        {
          "output_type": "stream",
          "name": "stderr",
          "text": [
            "\n"
          ]
        },
        {
          "output_type": "stream",
          "name": "stdout",
          "text": [
            "\n",
            "      Epoch    GPU_mem       loss  Instances       Size\n"
          ]
        },
        {
          "output_type": "stream",
          "name": "stderr",
          "text": [
            "     30/100      1.14G      0.115         12        320: 100%|██████████| 27/27 [00:03<00:00,  8.14it/s]\n",
            "               classes   top1_acc   top5_acc: 100%|██████████| 2/2 [00:00<00:00, 24.05it/s]"
          ]
        },
        {
          "output_type": "stream",
          "name": "stdout",
          "text": [
            "                   all      0.654          1\n"
          ]
        },
        {
          "output_type": "stream",
          "name": "stderr",
          "text": [
            "\n"
          ]
        },
        {
          "output_type": "stream",
          "name": "stdout",
          "text": [
            "\n",
            "      Epoch    GPU_mem       loss  Instances       Size\n"
          ]
        },
        {
          "output_type": "stream",
          "name": "stderr",
          "text": [
            "     31/100      1.14G    0.09688         12        320: 100%|██████████| 27/27 [00:04<00:00,  5.99it/s]\n",
            "               classes   top1_acc   top5_acc: 100%|██████████| 2/2 [00:00<00:00, 18.93it/s]"
          ]
        },
        {
          "output_type": "stream",
          "name": "stdout",
          "text": [
            "                   all       0.75          1\n"
          ]
        },
        {
          "output_type": "stream",
          "name": "stderr",
          "text": [
            "\n"
          ]
        },
        {
          "output_type": "stream",
          "name": "stdout",
          "text": [
            "\n",
            "      Epoch    GPU_mem       loss  Instances       Size\n"
          ]
        },
        {
          "output_type": "stream",
          "name": "stderr",
          "text": [
            "     32/100      1.14G    0.08511         12        320: 100%|██████████| 27/27 [00:03<00:00,  8.62it/s]\n",
            "               classes   top1_acc   top5_acc: 100%|██████████| 2/2 [00:00<00:00, 30.19it/s]"
          ]
        },
        {
          "output_type": "stream",
          "name": "stdout",
          "text": [
            "                   all      0.692          1\n"
          ]
        },
        {
          "output_type": "stream",
          "name": "stderr",
          "text": [
            "\n"
          ]
        },
        {
          "output_type": "stream",
          "name": "stdout",
          "text": [
            "\n",
            "      Epoch    GPU_mem       loss  Instances       Size\n"
          ]
        },
        {
          "output_type": "stream",
          "name": "stderr",
          "text": [
            "     33/100      1.14G    0.09051         12        320: 100%|██████████| 27/27 [00:03<00:00,  8.07it/s]\n",
            "               classes   top1_acc   top5_acc: 100%|██████████| 2/2 [00:00<00:00, 37.67it/s]"
          ]
        },
        {
          "output_type": "stream",
          "name": "stdout",
          "text": [
            "                   all      0.712          1\n"
          ]
        },
        {
          "output_type": "stream",
          "name": "stderr",
          "text": [
            "\n"
          ]
        },
        {
          "output_type": "stream",
          "name": "stdout",
          "text": [
            "\n",
            "      Epoch    GPU_mem       loss  Instances       Size\n"
          ]
        },
        {
          "output_type": "stream",
          "name": "stderr",
          "text": [
            "     34/100      1.14G    0.08663         12        320: 100%|██████████| 27/27 [00:04<00:00,  6.20it/s]\n",
            "               classes   top1_acc   top5_acc: 100%|██████████| 2/2 [00:00<00:00, 24.75it/s]"
          ]
        },
        {
          "output_type": "stream",
          "name": "stdout",
          "text": [
            "                   all      0.673          1\n"
          ]
        },
        {
          "output_type": "stream",
          "name": "stderr",
          "text": [
            "\n"
          ]
        },
        {
          "output_type": "stream",
          "name": "stdout",
          "text": [
            "\n",
            "      Epoch    GPU_mem       loss  Instances       Size\n"
          ]
        },
        {
          "output_type": "stream",
          "name": "stderr",
          "text": [
            "     35/100      1.14G    0.09129         12        320: 100%|██████████| 27/27 [00:03<00:00,  8.46it/s]\n",
            "               classes   top1_acc   top5_acc: 100%|██████████| 2/2 [00:00<00:00, 21.47it/s]"
          ]
        },
        {
          "output_type": "stream",
          "name": "stdout",
          "text": [
            "                   all      0.577          1\n"
          ]
        },
        {
          "output_type": "stream",
          "name": "stderr",
          "text": [
            "\n"
          ]
        },
        {
          "output_type": "stream",
          "name": "stdout",
          "text": [
            "\n",
            "      Epoch    GPU_mem       loss  Instances       Size\n"
          ]
        },
        {
          "output_type": "stream",
          "name": "stderr",
          "text": [
            "     36/100      1.14G     0.1124         12        320: 100%|██████████| 27/27 [00:03<00:00,  8.32it/s]\n",
            "               classes   top1_acc   top5_acc: 100%|██████████| 2/2 [00:00<00:00, 32.86it/s]"
          ]
        },
        {
          "output_type": "stream",
          "name": "stdout",
          "text": [
            "                   all      0.596          1\n"
          ]
        },
        {
          "output_type": "stream",
          "name": "stderr",
          "text": [
            "\n"
          ]
        },
        {
          "output_type": "stream",
          "name": "stdout",
          "text": [
            "\n",
            "      Epoch    GPU_mem       loss  Instances       Size\n"
          ]
        },
        {
          "output_type": "stream",
          "name": "stderr",
          "text": [
            "     37/100      1.14G    0.06109         12        320: 100%|██████████| 27/27 [00:04<00:00,  6.16it/s]\n",
            "               classes   top1_acc   top5_acc: 100%|██████████| 2/2 [00:00<00:00, 34.27it/s]"
          ]
        },
        {
          "output_type": "stream",
          "name": "stdout",
          "text": [
            "                   all      0.635          1\n"
          ]
        },
        {
          "output_type": "stream",
          "name": "stderr",
          "text": [
            "\n"
          ]
        },
        {
          "output_type": "stream",
          "name": "stdout",
          "text": [
            "\n",
            "      Epoch    GPU_mem       loss  Instances       Size\n"
          ]
        },
        {
          "output_type": "stream",
          "name": "stderr",
          "text": [
            "     38/100      1.14G    0.08858         12        320: 100%|██████████| 27/27 [00:03<00:00,  8.40it/s]\n",
            "               classes   top1_acc   top5_acc: 100%|██████████| 2/2 [00:00<00:00, 29.16it/s]"
          ]
        },
        {
          "output_type": "stream",
          "name": "stdout",
          "text": [
            "                   all      0.673          1\n"
          ]
        },
        {
          "output_type": "stream",
          "name": "stderr",
          "text": [
            "\n"
          ]
        },
        {
          "output_type": "stream",
          "name": "stdout",
          "text": [
            "\n",
            "      Epoch    GPU_mem       loss  Instances       Size\n"
          ]
        },
        {
          "output_type": "stream",
          "name": "stderr",
          "text": [
            "     39/100      1.14G    0.08092         12        320: 100%|██████████| 27/27 [00:03<00:00,  8.38it/s]\n",
            "               classes   top1_acc   top5_acc: 100%|██████████| 2/2 [00:00<00:00, 28.53it/s]"
          ]
        },
        {
          "output_type": "stream",
          "name": "stdout",
          "text": [
            "                   all       0.75          1\n"
          ]
        },
        {
          "output_type": "stream",
          "name": "stderr",
          "text": [
            "\n"
          ]
        },
        {
          "output_type": "stream",
          "name": "stdout",
          "text": [
            "\n",
            "      Epoch    GPU_mem       loss  Instances       Size\n"
          ]
        },
        {
          "output_type": "stream",
          "name": "stderr",
          "text": [
            "     40/100      1.14G    0.07135         12        320: 100%|██████████| 27/27 [00:04<00:00,  6.09it/s]\n",
            "               classes   top1_acc   top5_acc: 100%|██████████| 2/2 [00:00<00:00, 27.44it/s]"
          ]
        },
        {
          "output_type": "stream",
          "name": "stdout",
          "text": [
            "                   all      0.673          1\n"
          ]
        },
        {
          "output_type": "stream",
          "name": "stderr",
          "text": [
            "\n"
          ]
        },
        {
          "output_type": "stream",
          "name": "stdout",
          "text": [
            "\n",
            "      Epoch    GPU_mem       loss  Instances       Size\n"
          ]
        },
        {
          "output_type": "stream",
          "name": "stderr",
          "text": [
            "     41/100      1.15G     0.0788         12        320: 100%|██████████| 27/27 [00:03<00:00,  8.16it/s]\n",
            "               classes   top1_acc   top5_acc: 100%|██████████| 2/2 [00:00<00:00, 25.27it/s]"
          ]
        },
        {
          "output_type": "stream",
          "name": "stdout",
          "text": [
            "                   all      0.692          1\n"
          ]
        },
        {
          "output_type": "stream",
          "name": "stderr",
          "text": [
            "\n"
          ]
        },
        {
          "output_type": "stream",
          "name": "stdout",
          "text": [
            "\n",
            "      Epoch    GPU_mem       loss  Instances       Size\n"
          ]
        },
        {
          "output_type": "stream",
          "name": "stderr",
          "text": [
            "     42/100      1.15G    0.06849         12        320: 100%|██████████| 27/27 [00:03<00:00,  8.46it/s]\n",
            "               classes   top1_acc   top5_acc: 100%|██████████| 2/2 [00:00<00:00, 32.53it/s]"
          ]
        },
        {
          "output_type": "stream",
          "name": "stdout",
          "text": [
            "                   all      0.673          1\n"
          ]
        },
        {
          "output_type": "stream",
          "name": "stderr",
          "text": [
            "\n"
          ]
        },
        {
          "output_type": "stream",
          "name": "stdout",
          "text": [
            "\n",
            "      Epoch    GPU_mem       loss  Instances       Size\n"
          ]
        },
        {
          "output_type": "stream",
          "name": "stderr",
          "text": [
            "     43/100      1.15G    0.05562         12        320: 100%|██████████| 27/27 [00:04<00:00,  6.09it/s]\n",
            "               classes   top1_acc   top5_acc: 100%|██████████| 2/2 [00:00<00:00, 21.86it/s]"
          ]
        },
        {
          "output_type": "stream",
          "name": "stdout",
          "text": [
            "                   all      0.654          1\n"
          ]
        },
        {
          "output_type": "stream",
          "name": "stderr",
          "text": [
            "\n"
          ]
        },
        {
          "output_type": "stream",
          "name": "stdout",
          "text": [
            "\n",
            "      Epoch    GPU_mem       loss  Instances       Size\n"
          ]
        },
        {
          "output_type": "stream",
          "name": "stderr",
          "text": [
            "     44/100      1.15G    0.04906         12        320: 100%|██████████| 27/27 [00:03<00:00,  8.37it/s]\n",
            "               classes   top1_acc   top5_acc: 100%|██████████| 2/2 [00:00<00:00, 24.09it/s]"
          ]
        },
        {
          "output_type": "stream",
          "name": "stdout",
          "text": [
            "                   all      0.654          1\n"
          ]
        },
        {
          "output_type": "stream",
          "name": "stderr",
          "text": [
            "\n"
          ]
        },
        {
          "output_type": "stream",
          "name": "stdout",
          "text": [
            "\n",
            "      Epoch    GPU_mem       loss  Instances       Size\n"
          ]
        },
        {
          "output_type": "stream",
          "name": "stderr",
          "text": [
            "     45/100      1.15G    0.05841         12        320: 100%|██████████| 27/27 [00:03<00:00,  8.29it/s]\n",
            "               classes   top1_acc   top5_acc: 100%|██████████| 2/2 [00:00<00:00, 32.98it/s]"
          ]
        },
        {
          "output_type": "stream",
          "name": "stdout",
          "text": [
            "                   all      0.635          1\n"
          ]
        },
        {
          "output_type": "stream",
          "name": "stderr",
          "text": [
            "\n"
          ]
        },
        {
          "output_type": "stream",
          "name": "stdout",
          "text": [
            "\n",
            "      Epoch    GPU_mem       loss  Instances       Size\n"
          ]
        },
        {
          "output_type": "stream",
          "name": "stderr",
          "text": [
            "     46/100      1.15G    0.04078         12        320: 100%|██████████| 27/27 [00:04<00:00,  6.02it/s]\n",
            "               classes   top1_acc   top5_acc: 100%|██████████| 2/2 [00:00<00:00, 26.24it/s]"
          ]
        },
        {
          "output_type": "stream",
          "name": "stdout",
          "text": [
            "                   all      0.692          1\n"
          ]
        },
        {
          "output_type": "stream",
          "name": "stderr",
          "text": [
            "\n"
          ]
        },
        {
          "output_type": "stream",
          "name": "stdout",
          "text": [
            "\n",
            "      Epoch    GPU_mem       loss  Instances       Size\n"
          ]
        },
        {
          "output_type": "stream",
          "name": "stderr",
          "text": [
            "     47/100      1.15G    0.05127         12        320: 100%|██████████| 27/27 [00:03<00:00,  7.82it/s]\n",
            "               classes   top1_acc   top5_acc: 100%|██████████| 2/2 [00:00<00:00, 26.29it/s]"
          ]
        },
        {
          "output_type": "stream",
          "name": "stdout",
          "text": [
            "                   all      0.654          1\n"
          ]
        },
        {
          "output_type": "stream",
          "name": "stderr",
          "text": [
            "\n"
          ]
        },
        {
          "output_type": "stream",
          "name": "stdout",
          "text": [
            "\n",
            "      Epoch    GPU_mem       loss  Instances       Size\n"
          ]
        },
        {
          "output_type": "stream",
          "name": "stderr",
          "text": [
            "     48/100      1.15G      0.057         12        320: 100%|██████████| 27/27 [00:03<00:00,  8.49it/s]\n",
            "               classes   top1_acc   top5_acc: 100%|██████████| 2/2 [00:00<00:00, 27.00it/s]"
          ]
        },
        {
          "output_type": "stream",
          "name": "stdout",
          "text": [
            "                   all      0.673          1\n"
          ]
        },
        {
          "output_type": "stream",
          "name": "stderr",
          "text": [
            "\n"
          ]
        },
        {
          "output_type": "stream",
          "name": "stdout",
          "text": [
            "\n",
            "      Epoch    GPU_mem       loss  Instances       Size\n"
          ]
        },
        {
          "output_type": "stream",
          "name": "stderr",
          "text": [
            "     49/100      1.15G    0.05918         12        320: 100%|██████████| 27/27 [00:04<00:00,  6.26it/s]\n",
            "               classes   top1_acc   top5_acc: 100%|██████████| 2/2 [00:00<00:00, 20.91it/s]"
          ]
        },
        {
          "output_type": "stream",
          "name": "stdout",
          "text": [
            "                   all      0.654          1\n"
          ]
        },
        {
          "output_type": "stream",
          "name": "stderr",
          "text": [
            "\n"
          ]
        },
        {
          "output_type": "stream",
          "name": "stdout",
          "text": [
            "\n",
            "      Epoch    GPU_mem       loss  Instances       Size\n"
          ]
        },
        {
          "output_type": "stream",
          "name": "stderr",
          "text": [
            "     50/100      1.15G    0.03898         12        320: 100%|██████████| 27/27 [00:03<00:00,  8.28it/s]\n",
            "               classes   top1_acc   top5_acc: 100%|██████████| 2/2 [00:00<00:00, 36.41it/s]"
          ]
        },
        {
          "output_type": "stream",
          "name": "stdout",
          "text": [
            "                   all      0.654          1\n"
          ]
        },
        {
          "output_type": "stream",
          "name": "stderr",
          "text": [
            "\n"
          ]
        },
        {
          "output_type": "stream",
          "name": "stdout",
          "text": [
            "\n",
            "      Epoch    GPU_mem       loss  Instances       Size\n"
          ]
        },
        {
          "output_type": "stream",
          "name": "stderr",
          "text": [
            "     51/100      1.15G    0.04463         12        320: 100%|██████████| 27/27 [00:03<00:00,  8.52it/s]\n",
            "               classes   top1_acc   top5_acc: 100%|██████████| 2/2 [00:00<00:00, 31.10it/s]"
          ]
        },
        {
          "output_type": "stream",
          "name": "stdout",
          "text": [
            "                   all      0.673          1\n"
          ]
        },
        {
          "output_type": "stream",
          "name": "stderr",
          "text": [
            "\n"
          ]
        },
        {
          "output_type": "stream",
          "name": "stdout",
          "text": [
            "\n",
            "      Epoch    GPU_mem       loss  Instances       Size\n"
          ]
        },
        {
          "output_type": "stream",
          "name": "stderr",
          "text": [
            "     52/100      1.15G    0.04527         12        320: 100%|██████████| 27/27 [00:04<00:00,  6.02it/s]\n",
            "               classes   top1_acc   top5_acc: 100%|██████████| 2/2 [00:00<00:00, 25.87it/s]"
          ]
        },
        {
          "output_type": "stream",
          "name": "stdout",
          "text": [
            "                   all       0.75          1\n"
          ]
        },
        {
          "output_type": "stream",
          "name": "stderr",
          "text": [
            "\n"
          ]
        },
        {
          "output_type": "stream",
          "name": "stdout",
          "text": [
            "\n",
            "      Epoch    GPU_mem       loss  Instances       Size\n"
          ]
        },
        {
          "output_type": "stream",
          "name": "stderr",
          "text": [
            "     53/100      1.15G    0.05753         12        320: 100%|██████████| 27/27 [00:03<00:00,  8.33it/s]\n",
            "               classes   top1_acc   top5_acc: 100%|██████████| 2/2 [00:00<00:00, 24.30it/s]"
          ]
        },
        {
          "output_type": "stream",
          "name": "stdout",
          "text": [
            "                   all      0.654          1\n"
          ]
        },
        {
          "output_type": "stream",
          "name": "stderr",
          "text": [
            "\n"
          ]
        },
        {
          "output_type": "stream",
          "name": "stdout",
          "text": [
            "\n",
            "      Epoch    GPU_mem       loss  Instances       Size\n"
          ]
        },
        {
          "output_type": "stream",
          "name": "stderr",
          "text": [
            "     54/100      1.15G    0.03692         12        320: 100%|██████████| 27/27 [00:03<00:00,  8.13it/s]\n",
            "               classes   top1_acc   top5_acc: 100%|██████████| 2/2 [00:00<00:00, 22.18it/s]"
          ]
        },
        {
          "output_type": "stream",
          "name": "stdout",
          "text": [
            "                   all      0.596          1\n"
          ]
        },
        {
          "output_type": "stream",
          "name": "stderr",
          "text": [
            "\n"
          ]
        },
        {
          "output_type": "stream",
          "name": "stdout",
          "text": [
            "\n",
            "      Epoch    GPU_mem       loss  Instances       Size\n"
          ]
        },
        {
          "output_type": "stream",
          "name": "stderr",
          "text": [
            "     55/100      1.15G    0.03103         12        320: 100%|██████████| 27/27 [00:04<00:00,  6.48it/s]\n",
            "               classes   top1_acc   top5_acc: 100%|██████████| 2/2 [00:00<00:00, 21.34it/s]"
          ]
        },
        {
          "output_type": "stream",
          "name": "stdout",
          "text": [
            "                   all      0.558          1\n"
          ]
        },
        {
          "output_type": "stream",
          "name": "stderr",
          "text": [
            "\n"
          ]
        },
        {
          "output_type": "stream",
          "name": "stdout",
          "text": [
            "\n",
            "      Epoch    GPU_mem       loss  Instances       Size\n"
          ]
        },
        {
          "output_type": "stream",
          "name": "stderr",
          "text": [
            "     56/100      1.15G    0.04846         12        320: 100%|██████████| 27/27 [00:03<00:00,  8.40it/s]\n",
            "               classes   top1_acc   top5_acc: 100%|██████████| 2/2 [00:00<00:00, 25.91it/s]"
          ]
        },
        {
          "output_type": "stream",
          "name": "stdout",
          "text": [
            "                   all      0.615          1\n"
          ]
        },
        {
          "output_type": "stream",
          "name": "stderr",
          "text": [
            "\n"
          ]
        },
        {
          "output_type": "stream",
          "name": "stdout",
          "text": [
            "\n",
            "      Epoch    GPU_mem       loss  Instances       Size\n"
          ]
        },
        {
          "output_type": "stream",
          "name": "stderr",
          "text": [
            "     57/100      1.15G     0.0691         12        320: 100%|██████████| 27/27 [00:03<00:00,  8.33it/s]\n",
            "               classes   top1_acc   top5_acc: 100%|██████████| 2/2 [00:00<00:00, 23.25it/s]"
          ]
        },
        {
          "output_type": "stream",
          "name": "stdout",
          "text": [
            "                   all      0.692          1\n"
          ]
        },
        {
          "output_type": "stream",
          "name": "stderr",
          "text": [
            "\n"
          ]
        },
        {
          "output_type": "stream",
          "name": "stdout",
          "text": [
            "\n",
            "      Epoch    GPU_mem       loss  Instances       Size\n"
          ]
        },
        {
          "output_type": "stream",
          "name": "stderr",
          "text": [
            "     58/100      1.15G    0.03562         12        320: 100%|██████████| 27/27 [00:04<00:00,  6.05it/s]\n",
            "               classes   top1_acc   top5_acc: 100%|██████████| 2/2 [00:00<00:00, 26.87it/s]"
          ]
        },
        {
          "output_type": "stream",
          "name": "stdout",
          "text": [
            "                   all       0.75          1\n"
          ]
        },
        {
          "output_type": "stream",
          "name": "stderr",
          "text": [
            "\n"
          ]
        },
        {
          "output_type": "stream",
          "name": "stdout",
          "text": [
            "\n",
            "      Epoch    GPU_mem       loss  Instances       Size\n"
          ]
        },
        {
          "output_type": "stream",
          "name": "stderr",
          "text": [
            "     59/100      1.15G    0.04835         12        320: 100%|██████████| 27/27 [00:03<00:00,  8.12it/s]\n",
            "               classes   top1_acc   top5_acc: 100%|██████████| 2/2 [00:00<00:00, 24.92it/s]"
          ]
        },
        {
          "output_type": "stream",
          "name": "stdout",
          "text": [
            "                   all      0.731          1\n"
          ]
        },
        {
          "output_type": "stream",
          "name": "stderr",
          "text": [
            "\n"
          ]
        },
        {
          "output_type": "stream",
          "name": "stdout",
          "text": [
            "\n",
            "      Epoch    GPU_mem       loss  Instances       Size\n"
          ]
        },
        {
          "output_type": "stream",
          "name": "stderr",
          "text": [
            "     60/100      1.15G    0.03935         12        320: 100%|██████████| 27/27 [00:03<00:00,  8.42it/s]\n",
            "               classes   top1_acc   top5_acc: 100%|██████████| 2/2 [00:00<00:00, 33.81it/s]"
          ]
        },
        {
          "output_type": "stream",
          "name": "stdout",
          "text": [
            "                   all      0.692          1\n"
          ]
        },
        {
          "output_type": "stream",
          "name": "stderr",
          "text": [
            "\n"
          ]
        },
        {
          "output_type": "stream",
          "name": "stdout",
          "text": [
            "\n",
            "      Epoch    GPU_mem       loss  Instances       Size\n"
          ]
        },
        {
          "output_type": "stream",
          "name": "stderr",
          "text": [
            "     61/100      1.15G    0.04893         12        320: 100%|██████████| 27/27 [00:04<00:00,  6.44it/s]\n",
            "               classes   top1_acc   top5_acc: 100%|██████████| 2/2 [00:00<00:00, 14.62it/s]"
          ]
        },
        {
          "output_type": "stream",
          "name": "stdout",
          "text": [
            "                   all      0.692          1\n"
          ]
        },
        {
          "output_type": "stream",
          "name": "stderr",
          "text": [
            "\n"
          ]
        },
        {
          "output_type": "stream",
          "name": "stdout",
          "text": [
            "\n",
            "      Epoch    GPU_mem       loss  Instances       Size\n"
          ]
        },
        {
          "output_type": "stream",
          "name": "stderr",
          "text": [
            "     62/100      1.15G    0.04164         12        320: 100%|██████████| 27/27 [00:03<00:00,  7.94it/s]\n",
            "               classes   top1_acc   top5_acc: 100%|██████████| 2/2 [00:00<00:00, 19.30it/s]"
          ]
        },
        {
          "output_type": "stream",
          "name": "stdout",
          "text": [
            "                   all      0.692          1\n"
          ]
        },
        {
          "output_type": "stream",
          "name": "stderr",
          "text": [
            "\n"
          ]
        },
        {
          "output_type": "stream",
          "name": "stdout",
          "text": [
            "\n",
            "      Epoch    GPU_mem       loss  Instances       Size\n"
          ]
        },
        {
          "output_type": "stream",
          "name": "stderr",
          "text": [
            "     63/100      1.15G     0.0278         12        320: 100%|██████████| 27/27 [00:03<00:00,  8.08it/s]\n",
            "               classes   top1_acc   top5_acc: 100%|██████████| 2/2 [00:00<00:00, 38.46it/s]"
          ]
        },
        {
          "output_type": "stream",
          "name": "stdout",
          "text": [
            "                   all      0.692          1\n"
          ]
        },
        {
          "output_type": "stream",
          "name": "stderr",
          "text": [
            "\n"
          ]
        },
        {
          "output_type": "stream",
          "name": "stdout",
          "text": [
            "\n",
            "      Epoch    GPU_mem       loss  Instances       Size\n"
          ]
        },
        {
          "output_type": "stream",
          "name": "stderr",
          "text": [
            "     64/100      1.15G    0.03903         12        320: 100%|██████████| 27/27 [00:03<00:00,  6.85it/s]\n",
            "               classes   top1_acc   top5_acc: 100%|██████████| 2/2 [00:00<00:00, 15.88it/s]"
          ]
        },
        {
          "output_type": "stream",
          "name": "stdout",
          "text": [
            "                   all      0.692          1\n"
          ]
        },
        {
          "output_type": "stream",
          "name": "stderr",
          "text": [
            "\n"
          ]
        },
        {
          "output_type": "stream",
          "name": "stdout",
          "text": [
            "\n",
            "      Epoch    GPU_mem       loss  Instances       Size\n"
          ]
        },
        {
          "output_type": "stream",
          "name": "stderr",
          "text": [
            "     65/100      1.15G    0.06336         12        320: 100%|██████████| 27/27 [00:03<00:00,  7.65it/s]\n",
            "               classes   top1_acc   top5_acc: 100%|██████████| 2/2 [00:00<00:00, 34.24it/s]"
          ]
        },
        {
          "output_type": "stream",
          "name": "stdout",
          "text": [
            "                   all      0.692          1\n"
          ]
        },
        {
          "output_type": "stream",
          "name": "stderr",
          "text": [
            "\n"
          ]
        },
        {
          "output_type": "stream",
          "name": "stdout",
          "text": [
            "\n",
            "      Epoch    GPU_mem       loss  Instances       Size\n"
          ]
        },
        {
          "output_type": "stream",
          "name": "stderr",
          "text": [
            "     66/100      1.15G    0.01699         12        320: 100%|██████████| 27/27 [00:03<00:00,  8.09it/s]\n",
            "               classes   top1_acc   top5_acc: 100%|██████████| 2/2 [00:00<00:00, 25.59it/s]"
          ]
        },
        {
          "output_type": "stream",
          "name": "stdout",
          "text": [
            "                   all      0.712          1\n"
          ]
        },
        {
          "output_type": "stream",
          "name": "stderr",
          "text": [
            "\n"
          ]
        },
        {
          "output_type": "stream",
          "name": "stdout",
          "text": [
            "\n",
            "      Epoch    GPU_mem       loss  Instances       Size\n"
          ]
        },
        {
          "output_type": "stream",
          "name": "stderr",
          "text": [
            "     67/100      1.15G    0.04759         12        320: 100%|██████████| 27/27 [00:03<00:00,  7.06it/s]\n",
            "               classes   top1_acc   top5_acc: 100%|██████████| 2/2 [00:00<00:00, 17.85it/s]"
          ]
        },
        {
          "output_type": "stream",
          "name": "stdout",
          "text": [
            "                   all      0.692          1\n"
          ]
        },
        {
          "output_type": "stream",
          "name": "stderr",
          "text": [
            "\n"
          ]
        },
        {
          "output_type": "stream",
          "name": "stdout",
          "text": [
            "\n",
            "      Epoch    GPU_mem       loss  Instances       Size\n"
          ]
        },
        {
          "output_type": "stream",
          "name": "stderr",
          "text": [
            "     68/100      1.15G    0.04057         12        320: 100%|██████████| 27/27 [00:03<00:00,  7.69it/s]\n",
            "               classes   top1_acc   top5_acc: 100%|██████████| 2/2 [00:00<00:00, 29.07it/s]"
          ]
        },
        {
          "output_type": "stream",
          "name": "stdout",
          "text": [
            "                   all      0.635          1\n"
          ]
        },
        {
          "output_type": "stream",
          "name": "stderr",
          "text": [
            "\n"
          ]
        },
        {
          "output_type": "stream",
          "name": "stdout",
          "text": [
            "\n",
            "      Epoch    GPU_mem       loss  Instances       Size\n"
          ]
        },
        {
          "output_type": "stream",
          "name": "stderr",
          "text": [
            "     69/100      1.15G    0.02016         12        320: 100%|██████████| 27/27 [00:03<00:00,  8.17it/s]\n",
            "               classes   top1_acc   top5_acc: 100%|██████████| 2/2 [00:00<00:00, 30.57it/s]"
          ]
        },
        {
          "output_type": "stream",
          "name": "stdout",
          "text": [
            "                   all      0.673          1\n"
          ]
        },
        {
          "output_type": "stream",
          "name": "stderr",
          "text": [
            "\n"
          ]
        },
        {
          "output_type": "stream",
          "name": "stdout",
          "text": [
            "\n",
            "      Epoch    GPU_mem       loss  Instances       Size\n"
          ]
        },
        {
          "output_type": "stream",
          "name": "stderr",
          "text": [
            "     70/100      1.15G    0.05326         12        320: 100%|██████████| 27/27 [00:03<00:00,  6.84it/s]\n",
            "               classes   top1_acc   top5_acc: 100%|██████████| 2/2 [00:00<00:00, 23.13it/s]"
          ]
        },
        {
          "output_type": "stream",
          "name": "stdout",
          "text": [
            "                   all      0.673          1\n"
          ]
        },
        {
          "output_type": "stream",
          "name": "stderr",
          "text": [
            "\n"
          ]
        },
        {
          "output_type": "stream",
          "name": "stdout",
          "text": [
            "\n",
            "      Epoch    GPU_mem       loss  Instances       Size\n"
          ]
        },
        {
          "output_type": "stream",
          "name": "stderr",
          "text": [
            "     71/100      1.15G    0.03833         12        320: 100%|██████████| 27/27 [00:03<00:00,  7.62it/s]\n",
            "               classes   top1_acc   top5_acc: 100%|██████████| 2/2 [00:00<00:00, 22.57it/s]\n"
          ]
        },
        {
          "output_type": "stream",
          "name": "stdout",
          "text": [
            "                   all      0.692          1\n",
            "\n",
            "      Epoch    GPU_mem       loss  Instances       Size\n"
          ]
        },
        {
          "output_type": "stream",
          "name": "stderr",
          "text": [
            "     72/100      1.15G    0.02159         12        320: 100%|██████████| 27/27 [00:03<00:00,  8.29it/s]\n",
            "               classes   top1_acc   top5_acc: 100%|██████████| 2/2 [00:00<00:00, 29.87it/s]"
          ]
        },
        {
          "output_type": "stream",
          "name": "stdout",
          "text": [
            "                   all      0.692          1\n"
          ]
        },
        {
          "output_type": "stream",
          "name": "stderr",
          "text": [
            "\n"
          ]
        },
        {
          "output_type": "stream",
          "name": "stdout",
          "text": [
            "\n",
            "      Epoch    GPU_mem       loss  Instances       Size\n"
          ]
        },
        {
          "output_type": "stream",
          "name": "stderr",
          "text": [
            "     73/100      1.15G     0.0473         12        320: 100%|██████████| 27/27 [00:03<00:00,  7.11it/s]\n",
            "               classes   top1_acc   top5_acc: 100%|██████████| 2/2 [00:00<00:00, 16.97it/s]"
          ]
        },
        {
          "output_type": "stream",
          "name": "stdout",
          "text": [
            "                   all      0.654          1\n"
          ]
        },
        {
          "output_type": "stream",
          "name": "stderr",
          "text": [
            "\n"
          ]
        },
        {
          "output_type": "stream",
          "name": "stdout",
          "text": [
            "\n",
            "      Epoch    GPU_mem       loss  Instances       Size\n"
          ]
        },
        {
          "output_type": "stream",
          "name": "stderr",
          "text": [
            "     74/100      1.15G    0.01837         12        320: 100%|██████████| 27/27 [00:03<00:00,  7.39it/s]\n",
            "               classes   top1_acc   top5_acc: 100%|██████████| 2/2 [00:00<00:00, 23.82it/s]"
          ]
        },
        {
          "output_type": "stream",
          "name": "stdout",
          "text": [
            "                   all      0.615          1\n"
          ]
        },
        {
          "output_type": "stream",
          "name": "stderr",
          "text": [
            "\n"
          ]
        },
        {
          "output_type": "stream",
          "name": "stdout",
          "text": [
            "\n",
            "      Epoch    GPU_mem       loss  Instances       Size\n"
          ]
        },
        {
          "output_type": "stream",
          "name": "stderr",
          "text": [
            "     75/100      1.15G    0.01816         12        320: 100%|██████████| 27/27 [00:03<00:00,  8.49it/s]\n",
            "               classes   top1_acc   top5_acc: 100%|██████████| 2/2 [00:00<00:00, 26.39it/s]"
          ]
        },
        {
          "output_type": "stream",
          "name": "stdout",
          "text": [
            "                   all      0.692          1\n"
          ]
        },
        {
          "output_type": "stream",
          "name": "stderr",
          "text": [
            "\n"
          ]
        },
        {
          "output_type": "stream",
          "name": "stdout",
          "text": [
            "\n",
            "      Epoch    GPU_mem       loss  Instances       Size\n"
          ]
        },
        {
          "output_type": "stream",
          "name": "stderr",
          "text": [
            "     76/100      1.15G    0.02556         12        320: 100%|██████████| 27/27 [00:03<00:00,  7.80it/s]\n",
            "               classes   top1_acc   top5_acc: 100%|██████████| 2/2 [00:00<00:00, 19.35it/s]"
          ]
        },
        {
          "output_type": "stream",
          "name": "stdout",
          "text": [
            "                   all      0.692          1\n"
          ]
        },
        {
          "output_type": "stream",
          "name": "stderr",
          "text": [
            "\n"
          ]
        },
        {
          "output_type": "stream",
          "name": "stdout",
          "text": [
            "\n",
            "      Epoch    GPU_mem       loss  Instances       Size\n"
          ]
        },
        {
          "output_type": "stream",
          "name": "stderr",
          "text": [
            "     77/100      1.15G     0.0173         12        320: 100%|██████████| 27/27 [00:05<00:00,  4.71it/s]\n",
            "               classes   top1_acc   top5_acc: 100%|██████████| 2/2 [00:00<00:00, 20.43it/s]"
          ]
        },
        {
          "output_type": "stream",
          "name": "stdout",
          "text": [
            "                   all      0.673          1\n"
          ]
        },
        {
          "output_type": "stream",
          "name": "stderr",
          "text": [
            "\n"
          ]
        },
        {
          "output_type": "stream",
          "name": "stdout",
          "text": [
            "\n",
            "      Epoch    GPU_mem       loss  Instances       Size\n"
          ]
        },
        {
          "output_type": "stream",
          "name": "stderr",
          "text": [
            "     78/100      1.15G    0.01794         12        320: 100%|██████████| 27/27 [00:03<00:00,  7.22it/s]\n",
            "               classes   top1_acc   top5_acc: 100%|██████████| 2/2 [00:00<00:00, 30.86it/s]"
          ]
        },
        {
          "output_type": "stream",
          "name": "stdout",
          "text": [
            "                   all      0.635          1\n"
          ]
        },
        {
          "output_type": "stream",
          "name": "stderr",
          "text": [
            "\n"
          ]
        },
        {
          "output_type": "stream",
          "name": "stdout",
          "text": [
            "\n",
            "      Epoch    GPU_mem       loss  Instances       Size\n"
          ]
        },
        {
          "output_type": "stream",
          "name": "stderr",
          "text": [
            "     79/100      1.15G    0.02828         12        320: 100%|██████████| 27/27 [00:04<00:00,  6.05it/s]\n",
            "               classes   top1_acc   top5_acc: 100%|██████████| 2/2 [00:00<00:00, 28.95it/s]"
          ]
        },
        {
          "output_type": "stream",
          "name": "stdout",
          "text": [
            "                   all      0.673          1\n"
          ]
        },
        {
          "output_type": "stream",
          "name": "stderr",
          "text": [
            "\n"
          ]
        },
        {
          "output_type": "stream",
          "name": "stdout",
          "text": [
            "\n",
            "      Epoch    GPU_mem       loss  Instances       Size\n"
          ]
        },
        {
          "output_type": "stream",
          "name": "stderr",
          "text": [
            "     80/100      1.15G    0.01841         12        320: 100%|██████████| 27/27 [00:04<00:00,  5.76it/s]\n",
            "               classes   top1_acc   top5_acc: 100%|██████████| 2/2 [00:00<00:00, 17.55it/s]"
          ]
        },
        {
          "output_type": "stream",
          "name": "stdout",
          "text": [
            "                   all      0.654          1\n"
          ]
        },
        {
          "output_type": "stream",
          "name": "stderr",
          "text": [
            "\n"
          ]
        },
        {
          "output_type": "stream",
          "name": "stdout",
          "text": [
            "\n",
            "      Epoch    GPU_mem       loss  Instances       Size\n"
          ]
        },
        {
          "output_type": "stream",
          "name": "stderr",
          "text": [
            "     81/100      1.15G    0.01792         12        320: 100%|██████████| 27/27 [00:04<00:00,  5.96it/s]\n",
            "               classes   top1_acc   top5_acc: 100%|██████████| 2/2 [00:00<00:00, 24.10it/s]"
          ]
        },
        {
          "output_type": "stream",
          "name": "stdout",
          "text": [
            "                   all      0.635          1\n"
          ]
        },
        {
          "output_type": "stream",
          "name": "stderr",
          "text": [
            "\n"
          ]
        },
        {
          "output_type": "stream",
          "name": "stdout",
          "text": [
            "\n",
            "      Epoch    GPU_mem       loss  Instances       Size\n"
          ]
        },
        {
          "output_type": "stream",
          "name": "stderr",
          "text": [
            "     82/100      1.15G    0.02249         12        320: 100%|██████████| 27/27 [00:03<00:00,  8.40it/s]\n",
            "               classes   top1_acc   top5_acc: 100%|██████████| 2/2 [00:00<00:00, 29.97it/s]"
          ]
        },
        {
          "output_type": "stream",
          "name": "stdout",
          "text": [
            "                   all      0.596          1\n"
          ]
        },
        {
          "output_type": "stream",
          "name": "stderr",
          "text": [
            "\n"
          ]
        },
        {
          "output_type": "stream",
          "name": "stdout",
          "text": [
            "\n",
            "      Epoch    GPU_mem       loss  Instances       Size\n"
          ]
        },
        {
          "output_type": "stream",
          "name": "stderr",
          "text": [
            "     83/100      1.15G    0.02349         12        320: 100%|██████████| 27/27 [00:03<00:00,  8.24it/s]\n",
            "               classes   top1_acc   top5_acc: 100%|██████████| 2/2 [00:00<00:00, 25.40it/s]"
          ]
        },
        {
          "output_type": "stream",
          "name": "stdout",
          "text": [
            "                   all      0.615          1\n"
          ]
        },
        {
          "output_type": "stream",
          "name": "stderr",
          "text": [
            "\n"
          ]
        },
        {
          "output_type": "stream",
          "name": "stdout",
          "text": [
            "\n",
            "      Epoch    GPU_mem       loss  Instances       Size\n"
          ]
        },
        {
          "output_type": "stream",
          "name": "stderr",
          "text": [
            "     84/100      1.15G    0.02544         12        320: 100%|██████████| 27/27 [00:03<00:00,  6.81it/s]\n",
            "               classes   top1_acc   top5_acc: 100%|██████████| 2/2 [00:00<00:00, 14.22it/s]"
          ]
        },
        {
          "output_type": "stream",
          "name": "stdout",
          "text": [
            "                   all      0.615          1\n"
          ]
        },
        {
          "output_type": "stream",
          "name": "stderr",
          "text": [
            "\n"
          ]
        },
        {
          "output_type": "stream",
          "name": "stdout",
          "text": [
            "\n",
            "      Epoch    GPU_mem       loss  Instances       Size\n"
          ]
        },
        {
          "output_type": "stream",
          "name": "stderr",
          "text": [
            "     85/100      1.15G    0.01241         12        320: 100%|██████████| 27/27 [00:03<00:00,  8.31it/s]\n",
            "               classes   top1_acc   top5_acc: 100%|██████████| 2/2 [00:00<00:00, 26.81it/s]"
          ]
        },
        {
          "output_type": "stream",
          "name": "stdout",
          "text": [
            "                   all      0.635          1\n"
          ]
        },
        {
          "output_type": "stream",
          "name": "stderr",
          "text": [
            "\n"
          ]
        },
        {
          "output_type": "stream",
          "name": "stdout",
          "text": [
            "\n",
            "      Epoch    GPU_mem       loss  Instances       Size\n"
          ]
        },
        {
          "output_type": "stream",
          "name": "stderr",
          "text": [
            "     86/100      1.15G    0.01997         12        320: 100%|██████████| 27/27 [00:03<00:00,  8.00it/s]\n",
            "               classes   top1_acc   top5_acc: 100%|██████████| 2/2 [00:00<00:00, 20.11it/s]"
          ]
        },
        {
          "output_type": "stream",
          "name": "stdout",
          "text": [
            "                   all      0.635          1\n"
          ]
        },
        {
          "output_type": "stream",
          "name": "stderr",
          "text": [
            "\n"
          ]
        },
        {
          "output_type": "stream",
          "name": "stdout",
          "text": [
            "\n",
            "      Epoch    GPU_mem       loss  Instances       Size\n"
          ]
        },
        {
          "output_type": "stream",
          "name": "stderr",
          "text": [
            "     87/100      1.15G    0.02203         12        320: 100%|██████████| 27/27 [00:03<00:00,  7.13it/s]\n",
            "               classes   top1_acc   top5_acc: 100%|██████████| 2/2 [00:00<00:00, 19.30it/s]"
          ]
        },
        {
          "output_type": "stream",
          "name": "stdout",
          "text": [
            "                   all      0.654          1\n"
          ]
        },
        {
          "output_type": "stream",
          "name": "stderr",
          "text": [
            "\n"
          ]
        },
        {
          "output_type": "stream",
          "name": "stdout",
          "text": [
            "\n",
            "      Epoch    GPU_mem       loss  Instances       Size\n"
          ]
        },
        {
          "output_type": "stream",
          "name": "stderr",
          "text": [
            "     88/100      1.15G    0.01196         12        320: 100%|██████████| 27/27 [00:03<00:00,  7.57it/s]\n",
            "               classes   top1_acc   top5_acc: 100%|██████████| 2/2 [00:00<00:00, 22.42it/s]"
          ]
        },
        {
          "output_type": "stream",
          "name": "stdout",
          "text": [
            "                   all      0.673          1\n"
          ]
        },
        {
          "output_type": "stream",
          "name": "stderr",
          "text": [
            "\n"
          ]
        },
        {
          "output_type": "stream",
          "name": "stdout",
          "text": [
            "\n",
            "      Epoch    GPU_mem       loss  Instances       Size\n"
          ]
        },
        {
          "output_type": "stream",
          "name": "stderr",
          "text": [
            "     89/100      1.15G    0.01534         12        320: 100%|██████████| 27/27 [00:03<00:00,  8.42it/s]\n",
            "               classes   top1_acc   top5_acc: 100%|██████████| 2/2 [00:00<00:00, 24.43it/s]"
          ]
        },
        {
          "output_type": "stream",
          "name": "stdout",
          "text": [
            "                   all      0.654          1\n"
          ]
        },
        {
          "output_type": "stream",
          "name": "stderr",
          "text": [
            "\n"
          ]
        },
        {
          "output_type": "stream",
          "name": "stdout",
          "text": [
            "\n",
            "      Epoch    GPU_mem       loss  Instances       Size\n"
          ]
        },
        {
          "output_type": "stream",
          "name": "stderr",
          "text": [
            "     90/100      1.15G    0.01197         12        320: 100%|██████████| 27/27 [00:03<00:00,  7.69it/s]\n",
            "               classes   top1_acc   top5_acc: 100%|██████████| 2/2 [00:00<00:00, 22.44it/s]"
          ]
        },
        {
          "output_type": "stream",
          "name": "stdout",
          "text": [
            "                   all      0.615          1\n"
          ]
        },
        {
          "output_type": "stream",
          "name": "stderr",
          "text": [
            "\n"
          ]
        },
        {
          "output_type": "stream",
          "name": "stdout",
          "text": [
            "\n",
            "      Epoch    GPU_mem       loss  Instances       Size\n"
          ]
        },
        {
          "output_type": "stream",
          "name": "stderr",
          "text": [
            "     91/100      1.15G   0.009651         12        320: 100%|██████████| 27/27 [00:03<00:00,  6.83it/s]\n",
            "               classes   top1_acc   top5_acc: 100%|██████████| 2/2 [00:00<00:00, 29.39it/s]"
          ]
        },
        {
          "output_type": "stream",
          "name": "stdout",
          "text": [
            "                   all      0.654          1\n"
          ]
        },
        {
          "output_type": "stream",
          "name": "stderr",
          "text": [
            "\n"
          ]
        },
        {
          "output_type": "stream",
          "name": "stdout",
          "text": [
            "\n",
            "      Epoch    GPU_mem       loss  Instances       Size\n"
          ]
        },
        {
          "output_type": "stream",
          "name": "stderr",
          "text": [
            "     92/100      1.15G    0.01446         12        320: 100%|██████████| 27/27 [00:03<00:00,  8.15it/s]\n",
            "               classes   top1_acc   top5_acc: 100%|██████████| 2/2 [00:00<00:00, 18.31it/s]"
          ]
        },
        {
          "output_type": "stream",
          "name": "stdout",
          "text": [
            "                   all      0.654          1\n"
          ]
        },
        {
          "output_type": "stream",
          "name": "stderr",
          "text": [
            "\n"
          ]
        },
        {
          "output_type": "stream",
          "name": "stdout",
          "text": [
            "\n",
            "      Epoch    GPU_mem       loss  Instances       Size\n"
          ]
        },
        {
          "output_type": "stream",
          "name": "stderr",
          "text": [
            "     93/100      1.15G   0.009729         12        320: 100%|██████████| 27/27 [00:04<00:00,  6.46it/s]\n",
            "               classes   top1_acc   top5_acc: 100%|██████████| 2/2 [00:00<00:00, 13.64it/s]"
          ]
        },
        {
          "output_type": "stream",
          "name": "stdout",
          "text": [
            "                   all      0.654          1\n"
          ]
        },
        {
          "output_type": "stream",
          "name": "stderr",
          "text": [
            "\n"
          ]
        },
        {
          "output_type": "stream",
          "name": "stdout",
          "text": [
            "\n",
            "      Epoch    GPU_mem       loss  Instances       Size\n"
          ]
        },
        {
          "output_type": "stream",
          "name": "stderr",
          "text": [
            "     94/100      1.15G    0.01936         12        320: 100%|██████████| 27/27 [00:03<00:00,  8.22it/s]\n",
            "               classes   top1_acc   top5_acc: 100%|██████████| 2/2 [00:00<00:00, 15.31it/s]"
          ]
        },
        {
          "output_type": "stream",
          "name": "stdout",
          "text": [
            "                   all      0.615          1\n"
          ]
        },
        {
          "output_type": "stream",
          "name": "stderr",
          "text": [
            "\n"
          ]
        },
        {
          "output_type": "stream",
          "name": "stdout",
          "text": [
            "\n",
            "      Epoch    GPU_mem       loss  Instances       Size\n"
          ]
        },
        {
          "output_type": "stream",
          "name": "stderr",
          "text": [
            "     95/100      1.15G    0.01166         12        320: 100%|██████████| 27/27 [00:03<00:00,  7.93it/s]\n",
            "               classes   top1_acc   top5_acc: 100%|██████████| 2/2 [00:00<00:00, 25.95it/s]"
          ]
        },
        {
          "output_type": "stream",
          "name": "stdout",
          "text": [
            "                   all      0.654          1\n"
          ]
        },
        {
          "output_type": "stream",
          "name": "stderr",
          "text": [
            "\n"
          ]
        },
        {
          "output_type": "stream",
          "name": "stdout",
          "text": [
            "\n",
            "      Epoch    GPU_mem       loss  Instances       Size\n"
          ]
        },
        {
          "output_type": "stream",
          "name": "stderr",
          "text": [
            "     96/100      1.15G    0.01104         12        320: 100%|██████████| 27/27 [00:04<00:00,  6.72it/s]\n",
            "               classes   top1_acc   top5_acc: 100%|██████████| 2/2 [00:00<00:00, 21.82it/s]"
          ]
        },
        {
          "output_type": "stream",
          "name": "stdout",
          "text": [
            "                   all      0.635          1\n"
          ]
        },
        {
          "output_type": "stream",
          "name": "stderr",
          "text": [
            "\n"
          ]
        },
        {
          "output_type": "stream",
          "name": "stdout",
          "text": [
            "\n",
            "      Epoch    GPU_mem       loss  Instances       Size\n"
          ]
        },
        {
          "output_type": "stream",
          "name": "stderr",
          "text": [
            "     97/100      1.15G   0.004889         12        320: 100%|██████████| 27/27 [00:03<00:00,  8.11it/s]\n",
            "               classes   top1_acc   top5_acc: 100%|██████████| 2/2 [00:00<00:00, 27.82it/s]"
          ]
        },
        {
          "output_type": "stream",
          "name": "stdout",
          "text": [
            "                   all      0.654          1\n"
          ]
        },
        {
          "output_type": "stream",
          "name": "stderr",
          "text": [
            "\n"
          ]
        },
        {
          "output_type": "stream",
          "name": "stdout",
          "text": [
            "\n",
            "      Epoch    GPU_mem       loss  Instances       Size\n"
          ]
        },
        {
          "output_type": "stream",
          "name": "stderr",
          "text": [
            "     98/100      1.15G     0.0155         12        320: 100%|██████████| 27/27 [00:03<00:00,  8.28it/s]\n",
            "               classes   top1_acc   top5_acc: 100%|██████████| 2/2 [00:00<00:00, 22.16it/s]"
          ]
        },
        {
          "output_type": "stream",
          "name": "stdout",
          "text": [
            "                   all      0.654          1\n"
          ]
        },
        {
          "output_type": "stream",
          "name": "stderr",
          "text": [
            "\n"
          ]
        },
        {
          "output_type": "stream",
          "name": "stdout",
          "text": [
            "\n",
            "      Epoch    GPU_mem       loss  Instances       Size\n"
          ]
        },
        {
          "output_type": "stream",
          "name": "stderr",
          "text": [
            "     99/100      1.15G   0.009391         12        320: 100%|██████████| 27/27 [00:05<00:00,  5.38it/s]\n",
            "               classes   top1_acc   top5_acc: 100%|██████████| 2/2 [00:00<00:00, 18.76it/s]"
          ]
        },
        {
          "output_type": "stream",
          "name": "stdout",
          "text": [
            "                   all      0.654          1\n"
          ]
        },
        {
          "output_type": "stream",
          "name": "stderr",
          "text": [
            "\n"
          ]
        },
        {
          "output_type": "stream",
          "name": "stdout",
          "text": [
            "\n",
            "      Epoch    GPU_mem       loss  Instances       Size\n"
          ]
        },
        {
          "output_type": "stream",
          "name": "stderr",
          "text": [
            "    100/100      1.15G    0.01037         12        320: 100%|██████████| 27/27 [00:05<00:00,  4.52it/s]\n",
            "               classes   top1_acc   top5_acc: 100%|██████████| 2/2 [00:00<00:00, 13.32it/s]"
          ]
        },
        {
          "output_type": "stream",
          "name": "stdout",
          "text": [
            "                   all      0.654          1\n"
          ]
        },
        {
          "output_type": "stream",
          "name": "stderr",
          "text": [
            "\n"
          ]
        },
        {
          "output_type": "stream",
          "name": "stdout",
          "text": [
            "\n",
            "100 epochs completed in 0.124 hours.\n",
            "Optimizer stripped from runs/classify/train3/weights/last.pt, 10.3MB\n",
            "Optimizer stripped from runs/classify/train3/weights/best.pt, 10.3MB\n",
            "\n",
            "Validating runs/classify/train3/weights/best.pt...\n",
            "Ultralytics 8.3.135 🚀 Python-3.11.12 torch-2.6.0+cu124 CUDA:0 (Tesla T4, 15095MiB)\n",
            "YOLOv8s-cls summary (fused): 30 layers, 5,079,043 parameters, 0 gradients, 12.5 GFLOPs\n",
            "\u001b[34m\u001b[1mtrain:\u001b[0m /content/dataset/train... found 428 images in 3 classes ✅ \n",
            "\u001b[34m\u001b[1mval:\u001b[0m /content/dataset/val... found 52 images in 3 classes ✅ \n",
            "\u001b[34m\u001b[1mtest:\u001b[0m /content/dataset/test... found 56 images in 3 classes ✅ \n"
          ]
        },
        {
          "output_type": "stream",
          "name": "stderr",
          "text": [
            "\r               classes   top1_acc   top5_acc:   0%|          | 0/2 [00:00<?, ?it/s]"
          ]
        },
        {
          "output_type": "stream",
          "name": "stdout",
          "text": [
            "WARNING ⚠️ ClassificationModel does not support 'augment=True' prediction. Reverting to single-scale prediction.\n",
            "WARNING ⚠️ ClassificationModel does not support 'augment=True' prediction. Reverting to single-scale prediction.\n"
          ]
        },
        {
          "output_type": "stream",
          "name": "stderr",
          "text": [
            "               classes   top1_acc   top5_acc: 100%|██████████| 2/2 [00:00<00:00, 14.23it/s]\n"
          ]
        },
        {
          "output_type": "stream",
          "name": "stdout",
          "text": [
            "                   all       0.75          1\n",
            "Speed: 0.2ms preprocess, 1.4ms inference, 0.0ms loss, 0.0ms postprocess per image\n",
            "Results saved to \u001b[1mruns/classify/train3\u001b[0m\n"
          ]
        },
        {
          "output_type": "execute_result",
          "data": {
            "text/plain": [
              "ultralytics.utils.metrics.ClassifyMetrics object with attributes:\n",
              "\n",
              "confusion_matrix: <ultralytics.utils.metrics.ConfusionMatrix object at 0x7846e6fdf750>\n",
              "curves: []\n",
              "curves_results: []\n",
              "fitness: 0.875\n",
              "keys: ['metrics/accuracy_top1', 'metrics/accuracy_top5']\n",
              "results_dict: {'metrics/accuracy_top1': 0.75, 'metrics/accuracy_top5': 1.0, 'fitness': 0.875}\n",
              "save_dir: PosixPath('runs/classify/train3')\n",
              "speed: {'preprocess': 0.19056615384617823, 'inference': 1.4010892500008454, 'loss': 0.00046311538863637205, 'postprocess': 0.0007350384626428981}\n",
              "task: 'classify'\n",
              "top1: 0.75\n",
              "top5: 1.0"
            ]
          },
          "metadata": {},
          "execution_count": 11
        }
      ]
    },
    {
      "cell_type": "code",
      "source": [
        "metrics = model.val(data='/content/dataset')\n",
        "print(metrics)"
      ],
      "metadata": {
        "colab": {
          "base_uri": "https://localhost:8080/"
        },
        "id": "5yo3Wg2LV1ab",
        "outputId": "4e2bec4b-d685-4147-d181-a8e51117a16f"
      },
      "execution_count": 12,
      "outputs": [
        {
          "output_type": "stream",
          "name": "stdout",
          "text": [
            "Ultralytics 8.3.135 🚀 Python-3.11.12 torch-2.6.0+cu124 CUDA:0 (Tesla T4, 15095MiB)\n",
            "YOLOv8s-cls summary (fused): 30 layers, 5,079,043 parameters, 0 gradients, 12.5 GFLOPs\n",
            "\u001b[34m\u001b[1mtrain:\u001b[0m /content/dataset/train... found 428 images in 3 classes ✅ \n",
            "\u001b[34m\u001b[1mval:\u001b[0m /content/dataset/val... found 52 images in 3 classes ✅ \n",
            "\u001b[34m\u001b[1mtest:\u001b[0m /content/dataset/test... found 56 images in 3 classes ✅ \n",
            "\u001b[34m\u001b[1mval: \u001b[0mFast image access ✅ (ping: 0.0±0.0 ms, read: 265.4±150.1 MB/s, size: 14.8 KB)\n"
          ]
        },
        {
          "output_type": "stream",
          "name": "stderr",
          "text": [
            "\u001b[34m\u001b[1mval: \u001b[0mScanning /content/dataset/val... 52 images, 0 corrupt: 100%|██████████| 52/52 [00:00<?, ?it/s]\n",
            "               classes   top1_acc   top5_acc:   0%|          | 0/4 [00:00<?, ?it/s]"
          ]
        },
        {
          "output_type": "stream",
          "name": "stdout",
          "text": [
            "WARNING ⚠️ ClassificationModel does not support 'augment=True' prediction. Reverting to single-scale prediction.\n"
          ]
        },
        {
          "output_type": "stream",
          "name": "stderr",
          "text": [
            "\r               classes   top1_acc   top5_acc:  25%|██▌       | 1/4 [00:00<00:00,  3.67it/s]"
          ]
        },
        {
          "output_type": "stream",
          "name": "stdout",
          "text": [
            "WARNING ⚠️ ClassificationModel does not support 'augment=True' prediction. Reverting to single-scale prediction.\n"
          ]
        },
        {
          "output_type": "stream",
          "name": "stderr",
          "text": [
            "\r               classes   top1_acc   top5_acc:  50%|█████     | 2/4 [00:00<00:00,  5.41it/s]"
          ]
        },
        {
          "output_type": "stream",
          "name": "stdout",
          "text": [
            "WARNING ⚠️ ClassificationModel does not support 'augment=True' prediction. Reverting to single-scale prediction.\n"
          ]
        },
        {
          "output_type": "stream",
          "name": "stderr",
          "text": [
            "\r               classes   top1_acc   top5_acc:  75%|███████▌  | 3/4 [00:00<00:00,  4.82it/s]"
          ]
        },
        {
          "output_type": "stream",
          "name": "stdout",
          "text": [
            "WARNING ⚠️ ClassificationModel does not support 'augment=True' prediction. Reverting to single-scale prediction.\n"
          ]
        },
        {
          "output_type": "stream",
          "name": "stderr",
          "text": [
            "               classes   top1_acc   top5_acc: 100%|██████████| 4/4 [00:00<00:00,  4.60it/s]\n"
          ]
        },
        {
          "output_type": "stream",
          "name": "stdout",
          "text": [
            "                   all       0.75          1\n",
            "Speed: 5.5ms preprocess, 5.2ms inference, 0.0ms loss, 0.0ms postprocess per image\n",
            "Results saved to \u001b[1mruns/classify/train32\u001b[0m\n",
            "ultralytics.utils.metrics.ClassifyMetrics object with attributes:\n",
            "\n",
            "confusion_matrix: <ultralytics.utils.metrics.ConfusionMatrix object at 0x7846e6e16710>\n",
            "curves: []\n",
            "curves_results: []\n",
            "fitness: 0.875\n",
            "keys: ['metrics/accuracy_top1', 'metrics/accuracy_top5']\n",
            "results_dict: {'metrics/accuracy_top1': 0.75, 'metrics/accuracy_top5': 1.0, 'fitness': 0.875}\n",
            "save_dir: PosixPath('runs/classify/train32')\n",
            "speed: {'preprocess': 5.496013499999628, 'inference': 5.1792034038446495, 'loss': 0.0011160192343595554, 'postprocess': 0.0019116538396701799}\n",
            "task: 'classify'\n",
            "top1: 0.75\n",
            "top5: 1.0\n"
          ]
        }
      ]
    },
    {
      "cell_type": "code",
      "source": [
        "\n",
        "# Ambil semua gambar dari folder test\n",
        "test_images = list(Path('/content/dataset/test').rglob('*.jpg'))\n",
        "\n",
        "# Ambil kelas dari model\n",
        "classes_dict = model.names\n",
        "classes = [classes_dict[i] for i in range(len(classes_dict))]  # Ubah ke list ['noncaries', 'caries_media', ...]\n",
        "\n",
        "num_classes = len(classes)\n",
        "\n",
        "# Prediksi semua gambar\n",
        "y_true = []\n",
        "y_score = []\n",
        "\n",
        "for img_path in test_images:\n",
        "    label = img_path.parent.name\n",
        "    label_idx = classes.index(label)\n",
        "\n",
        "    result = model(img_path, verbose=False)[0]\n",
        "    probs = result.probs.data.cpu().numpy()\n",
        "\n",
        "    y_true.append(label_idx)\n",
        "    y_score.append(probs)\n",
        "\n",
        "# One-hot encoding dan AUC\n",
        "y_true = label_binarize(y_true, classes=list(range(num_classes)))\n",
        "y_score = np.array(y_score)\n",
        "\n",
        "fpr, tpr, roc_auc = {}, {}, {}\n",
        "for i in range(num_classes):\n",
        "    fpr[i], tpr[i], _ = roc_curve(y_true[:, i], y_score[:, i])\n",
        "    roc_auc[i] = auc(fpr[i], tpr[i])\n",
        "\n",
        "# Plot grafik\n",
        "plt.figure(figsize=(8, 6))\n",
        "for i in range(num_classes):\n",
        "    plt.plot(fpr[i], tpr[i], label=f'{classes[i]} (AUC = {roc_auc[i]:.2f})')\n",
        "\n",
        "plt.plot([0, 1], [0, 1], 'k--', label='Random')\n",
        "plt.xlabel('False Positive Rate')\n",
        "plt.ylabel('True Positive Rate')\n",
        "plt.title('ROC Curve for Each Class')\n",
        "plt.legend(loc='lower right')\n",
        "plt.grid()\n",
        "plt.show()"
      ],
      "metadata": {
        "colab": {
          "base_uri": "https://localhost:8080/",
          "height": 1000
        },
        "id": "XJhyMFxpbT6d",
        "outputId": "4d19e108-f17b-4957-e027-9e42ab2c11d7"
      },
      "execution_count": 13,
      "outputs": [
        {
          "output_type": "stream",
          "name": "stdout",
          "text": [
            "WARNING ⚠️ ClassificationModel does not support 'augment=True' prediction. Reverting to single-scale prediction.\n",
            "WARNING ⚠️ ClassificationModel does not support 'augment=True' prediction. Reverting to single-scale prediction.\n",
            "WARNING ⚠️ ClassificationModel does not support 'augment=True' prediction. Reverting to single-scale prediction.\n",
            "WARNING ⚠️ ClassificationModel does not support 'augment=True' prediction. Reverting to single-scale prediction.\n",
            "WARNING ⚠️ ClassificationModel does not support 'augment=True' prediction. Reverting to single-scale prediction.\n",
            "WARNING ⚠️ ClassificationModel does not support 'augment=True' prediction. Reverting to single-scale prediction.\n",
            "WARNING ⚠️ ClassificationModel does not support 'augment=True' prediction. Reverting to single-scale prediction.\n",
            "WARNING ⚠️ ClassificationModel does not support 'augment=True' prediction. Reverting to single-scale prediction.\n",
            "WARNING ⚠️ ClassificationModel does not support 'augment=True' prediction. Reverting to single-scale prediction.\n",
            "WARNING ⚠️ ClassificationModel does not support 'augment=True' prediction. Reverting to single-scale prediction.\n",
            "WARNING ⚠️ ClassificationModel does not support 'augment=True' prediction. Reverting to single-scale prediction.\n",
            "WARNING ⚠️ ClassificationModel does not support 'augment=True' prediction. Reverting to single-scale prediction.\n",
            "WARNING ⚠️ ClassificationModel does not support 'augment=True' prediction. Reverting to single-scale prediction.\n",
            "WARNING ⚠️ ClassificationModel does not support 'augment=True' prediction. Reverting to single-scale prediction.\n",
            "WARNING ⚠️ ClassificationModel does not support 'augment=True' prediction. Reverting to single-scale prediction.\n",
            "WARNING ⚠️ ClassificationModel does not support 'augment=True' prediction. Reverting to single-scale prediction.\n",
            "WARNING ⚠️ ClassificationModel does not support 'augment=True' prediction. Reverting to single-scale prediction.\n",
            "WARNING ⚠️ ClassificationModel does not support 'augment=True' prediction. Reverting to single-scale prediction.\n",
            "WARNING ⚠️ ClassificationModel does not support 'augment=True' prediction. Reverting to single-scale prediction.\n",
            "WARNING ⚠️ ClassificationModel does not support 'augment=True' prediction. Reverting to single-scale prediction.\n",
            "WARNING ⚠️ ClassificationModel does not support 'augment=True' prediction. Reverting to single-scale prediction.\n",
            "WARNING ⚠️ ClassificationModel does not support 'augment=True' prediction. Reverting to single-scale prediction.\n",
            "WARNING ⚠️ ClassificationModel does not support 'augment=True' prediction. Reverting to single-scale prediction.\n",
            "WARNING ⚠️ ClassificationModel does not support 'augment=True' prediction. Reverting to single-scale prediction.\n",
            "WARNING ⚠️ ClassificationModel does not support 'augment=True' prediction. Reverting to single-scale prediction.\n",
            "WARNING ⚠️ ClassificationModel does not support 'augment=True' prediction. Reverting to single-scale prediction.\n",
            "WARNING ⚠️ ClassificationModel does not support 'augment=True' prediction. Reverting to single-scale prediction.\n",
            "WARNING ⚠️ ClassificationModel does not support 'augment=True' prediction. Reverting to single-scale prediction.\n",
            "WARNING ⚠️ ClassificationModel does not support 'augment=True' prediction. Reverting to single-scale prediction.\n",
            "WARNING ⚠️ ClassificationModel does not support 'augment=True' prediction. Reverting to single-scale prediction.\n",
            "WARNING ⚠️ ClassificationModel does not support 'augment=True' prediction. Reverting to single-scale prediction.\n",
            "WARNING ⚠️ ClassificationModel does not support 'augment=True' prediction. Reverting to single-scale prediction.\n",
            "WARNING ⚠️ ClassificationModel does not support 'augment=True' prediction. Reverting to single-scale prediction.\n",
            "WARNING ⚠️ ClassificationModel does not support 'augment=True' prediction. Reverting to single-scale prediction.\n",
            "WARNING ⚠️ ClassificationModel does not support 'augment=True' prediction. Reverting to single-scale prediction.\n",
            "WARNING ⚠️ ClassificationModel does not support 'augment=True' prediction. Reverting to single-scale prediction.\n",
            "WARNING ⚠️ ClassificationModel does not support 'augment=True' prediction. Reverting to single-scale prediction.\n",
            "WARNING ⚠️ ClassificationModel does not support 'augment=True' prediction. Reverting to single-scale prediction.\n",
            "WARNING ⚠️ ClassificationModel does not support 'augment=True' prediction. Reverting to single-scale prediction.\n",
            "WARNING ⚠️ ClassificationModel does not support 'augment=True' prediction. Reverting to single-scale prediction.\n",
            "WARNING ⚠️ ClassificationModel does not support 'augment=True' prediction. Reverting to single-scale prediction.\n",
            "WARNING ⚠️ ClassificationModel does not support 'augment=True' prediction. Reverting to single-scale prediction.\n",
            "WARNING ⚠️ ClassificationModel does not support 'augment=True' prediction. Reverting to single-scale prediction.\n",
            "WARNING ⚠️ ClassificationModel does not support 'augment=True' prediction. Reverting to single-scale prediction.\n",
            "WARNING ⚠️ ClassificationModel does not support 'augment=True' prediction. Reverting to single-scale prediction.\n",
            "WARNING ⚠️ ClassificationModel does not support 'augment=True' prediction. Reverting to single-scale prediction.\n",
            "WARNING ⚠️ ClassificationModel does not support 'augment=True' prediction. Reverting to single-scale prediction.\n",
            "WARNING ⚠️ ClassificationModel does not support 'augment=True' prediction. Reverting to single-scale prediction.\n",
            "WARNING ⚠️ ClassificationModel does not support 'augment=True' prediction. Reverting to single-scale prediction.\n",
            "WARNING ⚠️ ClassificationModel does not support 'augment=True' prediction. Reverting to single-scale prediction.\n",
            "WARNING ⚠️ ClassificationModel does not support 'augment=True' prediction. Reverting to single-scale prediction.\n",
            "WARNING ⚠️ ClassificationModel does not support 'augment=True' prediction. Reverting to single-scale prediction.\n",
            "WARNING ⚠️ ClassificationModel does not support 'augment=True' prediction. Reverting to single-scale prediction.\n",
            "WARNING ⚠️ ClassificationModel does not support 'augment=True' prediction. Reverting to single-scale prediction.\n",
            "WARNING ⚠️ ClassificationModel does not support 'augment=True' prediction. Reverting to single-scale prediction.\n",
            "WARNING ⚠️ ClassificationModel does not support 'augment=True' prediction. Reverting to single-scale prediction.\n"
          ]
        },
        {
          "output_type": "display_data",
          "data": {
            "text/plain": [
              "<Figure size 800x600 with 1 Axes>"
            ],
            "image/png": "[encoded data removed]"
          },
          "metadata": {}
        }
      ]
    },
    {
      "cell_type": "code",
      "source": [
        "from pathlib import Path\n",
        "import numpy as np\n",
        "from sklearn.metrics import roc_curve, auc\n",
        "import matplotlib.pyplot as plt\n",
        "from sklearn.preprocessing import label_binarize\n",
        "\n",
        "# Ambil semua gambar dari folder test\n",
        "test_images = list(Path('/content/dataset/test').rglob('*.jpg'))\n",
        "\n",
        "# Ambil kelas dari model\n",
        "classes_dict = model.names\n",
        "classes = [classes_dict[i] for i in range(len(classes_dict))]\n",
        "\n",
        "num_classes = len(classes)\n",
        "\n",
        "# Simpan label ground truth dan prediksi probabilitas\n",
        "y_true = []\n",
        "y_score = []\n",
        "\n",
        "for img_path in test_images:\n",
        "    label = img_path.parent.name\n",
        "    label_idx = classes.index(label)\n",
        "    y_true.append(label_idx)\n",
        "\n",
        "    # Prediksi menggunakan model\n",
        "    result = model(img_path, verbose=False)[0]\n",
        "    probs = result.probs.data.tolist()  # Probabilitas prediksi\n",
        "    y_score.append(probs)\n",
        "\n",
        "# Binarisasi label\n",
        "y_true_bin = label_binarize(y_true, classes=list(range(num_classes)))  # shape (n_samples, n_classes)\n",
        "y_score = np.array(y_score)\n",
        "\n",
        "# Plot ROC untuk setiap kelas\n",
        "plt.figure(figsize=(8, 6))\n",
        "for i in range(num_classes):\n",
        "    fpr, tpr, _ = roc_curve(y_true_bin[:, i], y_score[:, i])\n",
        "    roc_auc = auc(fpr, tpr)\n",
        "    plt.plot(fpr, tpr, lw=2, label=f'ROC class {classes[i]} (AUC = {roc_auc:.2f})')\n",
        "\n",
        "plt.plot([0, 1], [0, 1], 'k--', lw=1)\n",
        "plt.xlim([0.0, 1.0])\n",
        "plt.ylim([0.0, 1.05])\n",
        "plt.xlabel('False Positive Rate')\n",
        "plt.ylabel('True Positive Rate')\n",
        "plt.title('ROC Curve - Multi-Class (1-vs-1)')\n",
        "plt.legend(loc=\"lower right\")\n",
        "plt.grid(True)\n",
        "plt.show()"
      ],
      "metadata": {
        "colab": {
          "base_uri": "https://localhost:8080/",
          "height": 1000
        },
        "id": "MCXGg-oqbX9G",
        "outputId": "1739116e-b394-48e7-eff1-23311f675b26"
      },
      "execution_count": 14,
      "outputs": [
        {
          "output_type": "stream",
          "name": "stdout",
          "text": [
            "WARNING ⚠️ ClassificationModel does not support 'augment=True' prediction. Reverting to single-scale prediction.\n",
            "WARNING ⚠️ ClassificationModel does not support 'augment=True' prediction. Reverting to single-scale prediction.\n",
            "WARNING ⚠️ ClassificationModel does not support 'augment=True' prediction. Reverting to single-scale prediction.\n",
            "WARNING ⚠️ ClassificationModel does not support 'augment=True' prediction. Reverting to single-scale prediction.\n",
            "WARNING ⚠️ ClassificationModel does not support 'augment=True' prediction. Reverting to single-scale prediction.\n",
            "WARNING ⚠️ ClassificationModel does not support 'augment=True' prediction. Reverting to single-scale prediction.\n",
            "WARNING ⚠️ ClassificationModel does not support 'augment=True' prediction. Reverting to single-scale prediction.\n",
            "WARNING ⚠️ ClassificationModel does not support 'augment=True' prediction. Reverting to single-scale prediction.\n",
            "WARNING ⚠️ ClassificationModel does not support 'augment=True' prediction. Reverting to single-scale prediction.\n",
            "WARNING ⚠️ ClassificationModel does not support 'augment=True' prediction. Reverting to single-scale prediction.\n",
            "WARNING ⚠️ ClassificationModel does not support 'augment=True' prediction. Reverting to single-scale prediction.\n",
            "WARNING ⚠️ ClassificationModel does not support 'augment=True' prediction. Reverting to single-scale prediction.\n",
            "WARNING ⚠️ ClassificationModel does not support 'augment=True' prediction. Reverting to single-scale prediction.\n",
            "WARNING ⚠️ ClassificationModel does not support 'augment=True' prediction. Reverting to single-scale prediction.\n",
            "WARNING ⚠️ ClassificationModel does not support 'augment=True' prediction. Reverting to single-scale prediction.\n",
            "WARNING ⚠️ ClassificationModel does not support 'augment=True' prediction. Reverting to single-scale prediction.\n",
            "WARNING ⚠️ ClassificationModel does not support 'augment=True' prediction. Reverting to single-scale prediction.\n",
            "WARNING ⚠️ ClassificationModel does not support 'augment=True' prediction. Reverting to single-scale prediction.\n",
            "WARNING ⚠️ ClassificationModel does not support 'augment=True' prediction. Reverting to single-scale prediction.\n",
            "WARNING ⚠️ ClassificationModel does not support 'augment=True' prediction. Reverting to single-scale prediction.\n",
            "WARNING ⚠️ ClassificationModel does not support 'augment=True' prediction. Reverting to single-scale prediction.\n",
            "WARNING ⚠️ ClassificationModel does not support 'augment=True' prediction. Reverting to single-scale prediction.\n",
            "WARNING ⚠️ ClassificationModel does not support 'augment=True' prediction. Reverting to single-scale prediction.\n",
            "WARNING ⚠️ ClassificationModel does not support 'augment=True' prediction. Reverting to single-scale prediction.\n",
            "WARNING ⚠️ ClassificationModel does not support 'augment=True' prediction. Reverting to single-scale prediction.\n",
            "WARNING ⚠️ ClassificationModel does not support 'augment=True' prediction. Reverting to single-scale prediction.\n",
            "WARNING ⚠️ ClassificationModel does not support 'augment=True' prediction. Reverting to single-scale prediction.\n",
            "WARNING ⚠️ ClassificationModel does not support 'augment=True' prediction. Reverting to single-scale prediction.\n",
            "WARNING ⚠️ ClassificationModel does not support 'augment=True' prediction. Reverting to single-scale prediction.\n",
            "WARNING ⚠️ ClassificationModel does not support 'augment=True' prediction. Reverting to single-scale prediction.\n",
            "WARNING ⚠️ ClassificationModel does not support 'augment=True' prediction. Reverting to single-scale prediction.\n",
            "WARNING ⚠️ ClassificationModel does not support 'augment=True' prediction. Reverting to single-scale prediction.\n",
            "WARNING ⚠️ ClassificationModel does not support 'augment=True' prediction. Reverting to single-scale prediction.\n",
            "WARNING ⚠️ ClassificationModel does not support 'augment=True' prediction. Reverting to single-scale prediction.\n",
            "WARNING ⚠️ ClassificationModel does not support 'augment=True' prediction. Reverting to single-scale prediction.\n",
            "WARNING ⚠️ ClassificationModel does not support 'augment=True' prediction. Reverting to single-scale prediction.\n",
            "WARNING ⚠️ ClassificationModel does not support 'augment=True' prediction. Reverting to single-scale prediction.\n",
            "WARNING ⚠️ ClassificationModel does not support 'augment=True' prediction. Reverting to single-scale prediction.\n",
            "WARNING ⚠️ ClassificationModel does not support 'augment=True' prediction. Reverting to single-scale prediction.\n",
            "WARNING ⚠️ ClassificationModel does not support 'augment=True' prediction. Reverting to single-scale prediction.\n",
            "WARNING ⚠️ ClassificationModel does not support 'augment=True' prediction. Reverting to single-scale prediction.\n",
            "WARNING ⚠️ ClassificationModel does not support 'augment=True' prediction. Reverting to single-scale prediction.\n",
            "WARNING ⚠️ ClassificationModel does not support 'augment=True' prediction. Reverting to single-scale prediction.\n",
            "WARNING ⚠️ ClassificationModel does not support 'augment=True' prediction. Reverting to single-scale prediction.\n",
            "WARNING ⚠️ ClassificationModel does not support 'augment=True' prediction. Reverting to single-scale prediction.\n",
            "WARNING ⚠️ ClassificationModel does not support 'augment=True' prediction. Reverting to single-scale prediction.\n",
            "WARNING ⚠️ ClassificationModel does not support 'augment=True' prediction. Reverting to single-scale prediction.\n",
            "WARNING ⚠️ ClassificationModel does not support 'augment=True' prediction. Reverting to single-scale prediction.\n",
            "WARNING ⚠️ ClassificationModel does not support 'augment=True' prediction. Reverting to single-scale prediction.\n",
            "WARNING ⚠️ ClassificationModel does not support 'augment=True' prediction. Reverting to single-scale prediction.\n",
            "WARNING ⚠️ ClassificationModel does not support 'augment=True' prediction. Reverting to single-scale prediction.\n",
            "WARNING ⚠️ ClassificationModel does not support 'augment=True' prediction. Reverting to single-scale prediction.\n",
            "WARNING ⚠️ ClassificationModel does not support 'augment=True' prediction. Reverting to single-scale prediction.\n",
            "WARNING ⚠️ ClassificationModel does not support 'augment=True' prediction. Reverting to single-scale prediction.\n",
            "WARNING ⚠️ ClassificationModel does not support 'augment=True' prediction. Reverting to single-scale prediction.\n",
            "WARNING ⚠️ ClassificationModel does not support 'augment=True' prediction. Reverting to single-scale prediction.\n"
          ]
        },
        {
          "output_type": "display_data",
          "data": {
            "text/plain": [
              "<Figure size 800x600 with 1 Axes>"
            ],
            "image/png": "[encoded data removed]"
          },
          "metadata": {}
        }
      ]
    },
    {
      "cell_type": "markdown",
      "source": [
        "# Training Rotation, Scaling, Shearing, Translation using Medium"
      ],
      "metadata": {
        "id": "BZlnQqSNV6vC"
      }
    },
    {
      "cell_type": "code",
      "source": [
        "model = YOLO('yolov8m-cls.pt')\n",
        "model.train(\n",
        "    data=\"/content/dataset\",\n",
        "    epochs=100,\n",
        "    imgsz=320,\n",
        "    batch=16,\n",
        "    augment=True,\n",
        "    degrees=30,\n",
        "    fliplr=0,\n",
        "    flipud=0,\n",
        "    scale=0.3,\n",
        "    shear=5,\n",
        "    translate=0.2\n",
        ")"
      ],
      "metadata": {
        "colab": {
          "base_uri": "https://localhost:8080/"
        },
        "id": "PKiNJMBvV3E1",
        "outputId": "795aab8e-8649-4959-84fa-20fdb4bf29a8"
      },
      "execution_count": 15,
      "outputs": [
        {
          "output_type": "stream",
          "name": "stdout",
          "text": [
            "Downloading https://github.com/ultralytics/assets/releases/download/v8.3.0/yolov8m-cls.pt to 'yolov8m-cls.pt'...\n"
          ]
        },
        {
          "output_type": "stream",
          "name": "stderr",
          "text": [
            "100%|██████████| 32.7M/32.7M [00:00<00:00, 238MB/s]\n"
          ]
        },
        {
          "output_type": "stream",
          "name": "stdout",
          "text": [
            "Ultralytics 8.3.135 🚀 Python-3.11.12 torch-2.6.0+cu124 CUDA:0 (Tesla T4, 15095MiB)\n",
            "\u001b[34m\u001b[1mengine/trainer: \u001b[0magnostic_nms=False, amp=True, augment=True, auto_augment=randaugment, batch=16, bgr=0.0, box=7.5, cache=False, cfg=None, classes=None, close_mosaic=10, cls=0.5, conf=None, copy_paste=0.0, copy_paste_mode=flip, cos_lr=False, cutmix=0.0, data=/content/dataset, degrees=30, deterministic=True, device=None, dfl=1.5, dnn=False, dropout=0.0, dynamic=False, embed=None, epochs=100, erasing=0.4, exist_ok=False, fliplr=0, flipud=0, format=torchscript, fraction=1.0, freeze=None, half=False, hsv_h=0.015, hsv_s=0.7, hsv_v=0.4, imgsz=320, int8=False, iou=0.7, keras=False, kobj=1.0, line_width=None, lr0=0.01, lrf=0.01, mask_ratio=4, max_det=300, mixup=0.0, mode=train, model=yolov8m-cls.pt, momentum=0.937, mosaic=1.0, multi_scale=False, name=train4, nbs=64, nms=False, opset=None, optimize=False, optimizer=auto, overlap_mask=True, patience=100, perspective=0.0, plots=True, pose=12.0, pretrained=True, profile=False, project=None, rect=False, resume=False, retina_masks=False, save=True, save_conf=False, save_crop=False, save_dir=runs/classify/train4, save_frames=False, save_json=False, save_period=-1, save_txt=False, scale=0.3, seed=0, shear=5, show=False, show_boxes=True, show_conf=True, show_labels=True, simplify=True, single_cls=False, source=None, split=val, stream_buffer=False, task=classify, time=None, tracker=botsort.yaml, translate=0.2, val=True, verbose=True, vid_stride=1, visualize=False, warmup_bias_lr=0.1, warmup_epochs=3.0, warmup_momentum=0.8, weight_decay=0.0005, workers=8, workspace=None\n",
            "\u001b[34m\u001b[1mtrain:\u001b[0m /content/dataset/train... found 428 images in 3 classes ✅ \n",
            "\u001b[34m\u001b[1mval:\u001b[0m /content/dataset/val... found 52 images in 3 classes ✅ \n",
            "\u001b[34m\u001b[1mtest:\u001b[0m /content/dataset/test... found 56 images in 3 classes ✅ \n",
            "Overriding model.yaml nc=1000 with nc=3\n",
            "\n",
            "                   from  n    params  module                                       arguments                     \n",
            "  0                  -1  1      1392  ultralytics.nn.modules.conv.Conv             [3, 48, 3, 2]                 \n",
            "  1                  -1  1     41664  ultralytics.nn.modules.conv.Conv             [48, 96, 3, 2]                \n",
            "  2                  -1  2    111360  ultralytics.nn.modules.block.C2f             [96, 96, 2, True]             \n",
            "  3                  -1  1    166272  ultralytics.nn.modules.conv.Conv             [96, 192, 3, 2]               \n",
            "  4                  -1  4    813312  ultralytics.nn.modules.block.C2f             [192, 192, 4, True]           \n",
            "  5                  -1  1    664320  ultralytics.nn.modules.conv.Conv             [192, 384, 3, 2]              \n",
            "  6                  -1  4   3248640  ultralytics.nn.modules.block.C2f             [384, 384, 4, True]           \n",
            "  7                  -1  1   2655744  ultralytics.nn.modules.conv.Conv             [384, 768, 3, 2]              \n",
            "  8                  -1  2   7084032  ultralytics.nn.modules.block.C2f             [768, 768, 2, True]           \n",
            "  9                  -1  1    989443  ultralytics.nn.modules.head.Classify         [768, 3]                      \n",
            "YOLOv8m-cls summary: 80 layers, 15,776,179 parameters, 15,776,179 gradients, 41.9 GFLOPs\n",
            "Transferred 228/230 items from pretrained weights\n",
            "\u001b[34m\u001b[1mAMP: \u001b[0mrunning Automatic Mixed Precision (AMP) checks...\n",
            "\u001b[34m\u001b[1mAMP: \u001b[0mchecks passed ✅\n",
            "\u001b[34m\u001b[1mtrain: \u001b[0mFast image access ✅ (ping: 0.0±0.0 ms, read: 243.4±89.2 MB/s, size: 4.4 KB)\n"
          ]
        },
        {
          "output_type": "stream",
          "name": "stderr",
          "text": [
            "\u001b[34m\u001b[1mtrain: \u001b[0mScanning /content/dataset/train... 428 images, 0 corrupt: 100%|██████████| 428/428 [00:00<?, ?it/s]\n"
          ]
        },
        {
          "output_type": "stream",
          "name": "stdout",
          "text": [
            "\u001b[34m\u001b[1mval: \u001b[0mFast image access ✅ (ping: 0.0±0.0 ms, read: 165.0±95.1 MB/s, size: 14.8 KB)\n"
          ]
        },
        {
          "output_type": "stream",
          "name": "stderr",
          "text": [
            "\u001b[34m\u001b[1mval: \u001b[0mScanning /content/dataset/val... 52 images, 0 corrupt: 100%|██████████| 52/52 [00:00<?, ?it/s]\n"
          ]
        },
        {
          "output_type": "stream",
          "name": "stdout",
          "text": [
            "\u001b[34m\u001b[1moptimizer:\u001b[0m 'optimizer=auto' found, ignoring 'lr0=0.01' and 'momentum=0.937' and determining best 'optimizer', 'lr0' and 'momentum' automatically... \n",
            "\u001b[34m\u001b[1moptimizer:\u001b[0m AdamW(lr=0.001429, momentum=0.9) with parameter groups 38 weight(decay=0.0), 39 weight(decay=0.0005), 39 bias(decay=0.0)\n",
            "Image sizes 320 train, 320 val\n",
            "Using 2 dataloader workers\n",
            "Logging results to \u001b[1mruns/classify/train4\u001b[0m\n",
            "Starting training for 100 epochs...\n",
            "\n",
            "      Epoch    GPU_mem       loss  Instances       Size\n"
          ]
        },
        {
          "output_type": "stream",
          "name": "stderr",
          "text": [
            "      1/100      1.45G      1.099         12        320: 100%|██████████| 27/27 [00:05<00:00,  4.52it/s]\n",
            "               classes   top1_acc   top5_acc: 100%|██████████| 2/2 [00:00<00:00,  7.15it/s]"
          ]
        },
        {
          "output_type": "stream",
          "name": "stdout",
          "text": [
            "                   all      0.346          1\n"
          ]
        },
        {
          "output_type": "stream",
          "name": "stderr",
          "text": [
            "\n"
          ]
        },
        {
          "output_type": "stream",
          "name": "stdout",
          "text": [
            "\n",
            "      Epoch    GPU_mem       loss  Instances       Size\n"
          ]
        },
        {
          "output_type": "stream",
          "name": "stderr",
          "text": [
            "      2/100      1.72G     0.9938         12        320: 100%|██████████| 27/27 [00:04<00:00,  6.40it/s]\n",
            "               classes   top1_acc   top5_acc: 100%|██████████| 2/2 [00:00<00:00, 11.59it/s]"
          ]
        },
        {
          "output_type": "stream",
          "name": "stdout",
          "text": [
            "                   all      0.462          1\n"
          ]
        },
        {
          "output_type": "stream",
          "name": "stderr",
          "text": [
            "\n"
          ]
        },
        {
          "output_type": "stream",
          "name": "stdout",
          "text": [
            "\n",
            "      Epoch    GPU_mem       loss  Instances       Size\n"
          ]
        },
        {
          "output_type": "stream",
          "name": "stderr",
          "text": [
            "      3/100      1.73G     0.8085         12        320: 100%|██████████| 27/27 [00:05<00:00,  5.31it/s]\n",
            "               classes   top1_acc   top5_acc: 100%|██████████| 2/2 [00:00<00:00, 18.09it/s]"
          ]
        },
        {
          "output_type": "stream",
          "name": "stdout",
          "text": [
            "                   all      0.423          1\n"
          ]
        },
        {
          "output_type": "stream",
          "name": "stderr",
          "text": [
            "\n"
          ]
        },
        {
          "output_type": "stream",
          "name": "stdout",
          "text": [
            "\n",
            "      Epoch    GPU_mem       loss  Instances       Size\n"
          ]
        },
        {
          "output_type": "stream",
          "name": "stderr",
          "text": [
            "      4/100      1.74G     0.7355         12        320: 100%|██████████| 27/27 [00:04<00:00,  6.46it/s]\n",
            "               classes   top1_acc   top5_acc: 100%|██████████| 2/2 [00:00<00:00, 17.69it/s]"
          ]
        },
        {
          "output_type": "stream",
          "name": "stdout",
          "text": [
            "                   all      0.481          1\n"
          ]
        },
        {
          "output_type": "stream",
          "name": "stderr",
          "text": [
            "\n"
          ]
        },
        {
          "output_type": "stream",
          "name": "stdout",
          "text": [
            "\n",
            "      Epoch    GPU_mem       loss  Instances       Size\n"
          ]
        },
        {
          "output_type": "stream",
          "name": "stderr",
          "text": [
            "      5/100      1.74G     0.5307         12        320: 100%|██████████| 27/27 [00:03<00:00,  6.81it/s]\n",
            "               classes   top1_acc   top5_acc: 100%|██████████| 2/2 [00:00<00:00, 14.74it/s]"
          ]
        },
        {
          "output_type": "stream",
          "name": "stdout",
          "text": [
            "                   all      0.442          1\n"
          ]
        },
        {
          "output_type": "stream",
          "name": "stderr",
          "text": [
            "\n"
          ]
        },
        {
          "output_type": "stream",
          "name": "stdout",
          "text": [
            "\n",
            "      Epoch    GPU_mem       loss  Instances       Size\n"
          ]
        },
        {
          "output_type": "stream",
          "name": "stderr",
          "text": [
            "      6/100      1.74G     0.5182         12        320: 100%|██████████| 27/27 [00:03<00:00,  7.13it/s]\n",
            "               classes   top1_acc   top5_acc: 100%|██████████| 2/2 [00:00<00:00, 21.12it/s]"
          ]
        },
        {
          "output_type": "stream",
          "name": "stdout",
          "text": [
            "                   all      0.538          1\n"
          ]
        },
        {
          "output_type": "stream",
          "name": "stderr",
          "text": [
            "\n"
          ]
        },
        {
          "output_type": "stream",
          "name": "stdout",
          "text": [
            "\n",
            "      Epoch    GPU_mem       loss  Instances       Size\n"
          ]
        },
        {
          "output_type": "stream",
          "name": "stderr",
          "text": [
            "      7/100      1.74G     0.5008         12        320: 100%|██████████| 27/27 [00:04<00:00,  6.50it/s]\n",
            "               classes   top1_acc   top5_acc: 100%|██████████| 2/2 [00:00<00:00, 13.37it/s]"
          ]
        },
        {
          "output_type": "stream",
          "name": "stdout",
          "text": [
            "                   all      0.596          1\n"
          ]
        },
        {
          "output_type": "stream",
          "name": "stderr",
          "text": [
            "\n"
          ]
        },
        {
          "output_type": "stream",
          "name": "stdout",
          "text": [
            "\n",
            "      Epoch    GPU_mem       loss  Instances       Size\n"
          ]
        },
        {
          "output_type": "stream",
          "name": "stderr",
          "text": [
            "      8/100      1.77G     0.4587         12        320: 100%|██████████| 27/27 [00:04<00:00,  5.61it/s]\n",
            "               classes   top1_acc   top5_acc: 100%|██████████| 2/2 [00:00<00:00, 20.58it/s]"
          ]
        },
        {
          "output_type": "stream",
          "name": "stdout",
          "text": [
            "                   all      0.692          1\n"
          ]
        },
        {
          "output_type": "stream",
          "name": "stderr",
          "text": [
            "\n"
          ]
        },
        {
          "output_type": "stream",
          "name": "stdout",
          "text": [
            "\n",
            "      Epoch    GPU_mem       loss  Instances       Size\n"
          ]
        },
        {
          "output_type": "stream",
          "name": "stderr",
          "text": [
            "      9/100      1.77G     0.3634         12        320: 100%|██████████| 27/27 [00:03<00:00,  7.85it/s]\n",
            "               classes   top1_acc   top5_acc: 100%|██████████| 2/2 [00:00<00:00, 22.71it/s]"
          ]
        },
        {
          "output_type": "stream",
          "name": "stdout",
          "text": [
            "                   all      0.577          1\n"
          ]
        },
        {
          "output_type": "stream",
          "name": "stderr",
          "text": [
            "\n"
          ]
        },
        {
          "output_type": "stream",
          "name": "stdout",
          "text": [
            "\n",
            "      Epoch    GPU_mem       loss  Instances       Size\n"
          ]
        },
        {
          "output_type": "stream",
          "name": "stderr",
          "text": [
            "     10/100      1.77G     0.3445         12        320: 100%|██████████| 27/27 [00:03<00:00,  8.08it/s]\n",
            "               classes   top1_acc   top5_acc: 100%|██████████| 2/2 [00:00<00:00, 16.62it/s]"
          ]
        },
        {
          "output_type": "stream",
          "name": "stdout",
          "text": [
            "                   all      0.519          1\n"
          ]
        },
        {
          "output_type": "stream",
          "name": "stderr",
          "text": [
            "\n"
          ]
        },
        {
          "output_type": "stream",
          "name": "stdout",
          "text": [
            "\n",
            "      Epoch    GPU_mem       loss  Instances       Size\n"
          ]
        },
        {
          "output_type": "stream",
          "name": "stderr",
          "text": [
            "     11/100      1.77G     0.3043         12        320: 100%|██████████| 27/27 [00:04<00:00,  6.63it/s]\n",
            "               classes   top1_acc   top5_acc: 100%|██████████| 2/2 [00:00<00:00, 17.99it/s]"
          ]
        },
        {
          "output_type": "stream",
          "name": "stdout",
          "text": [
            "                   all      0.596          1\n"
          ]
        },
        {
          "output_type": "stream",
          "name": "stderr",
          "text": [
            "\n"
          ]
        },
        {
          "output_type": "stream",
          "name": "stdout",
          "text": [
            "\n",
            "      Epoch    GPU_mem       loss  Instances       Size\n"
          ]
        },
        {
          "output_type": "stream",
          "name": "stderr",
          "text": [
            "     12/100      1.79G     0.2586         12        320: 100%|██████████| 27/27 [00:03<00:00,  7.46it/s]\n",
            "               classes   top1_acc   top5_acc: 100%|██████████| 2/2 [00:00<00:00, 23.92it/s]"
          ]
        },
        {
          "output_type": "stream",
          "name": "stdout",
          "text": [
            "                   all      0.596          1\n"
          ]
        },
        {
          "output_type": "stream",
          "name": "stderr",
          "text": [
            "\n"
          ]
        },
        {
          "output_type": "stream",
          "name": "stdout",
          "text": [
            "\n",
            "      Epoch    GPU_mem       loss  Instances       Size\n"
          ]
        },
        {
          "output_type": "stream",
          "name": "stderr",
          "text": [
            "     13/100      1.79G     0.3125         12        320: 100%|██████████| 27/27 [00:03<00:00,  7.22it/s]\n",
            "               classes   top1_acc   top5_acc: 100%|██████████| 2/2 [00:00<00:00, 16.50it/s]"
          ]
        },
        {
          "output_type": "stream",
          "name": "stdout",
          "text": [
            "                   all      0.538          1\n"
          ]
        },
        {
          "output_type": "stream",
          "name": "stderr",
          "text": [
            "\n"
          ]
        },
        {
          "output_type": "stream",
          "name": "stdout",
          "text": [
            "\n",
            "      Epoch    GPU_mem       loss  Instances       Size\n"
          ]
        },
        {
          "output_type": "stream",
          "name": "stderr",
          "text": [
            "     14/100      1.98G     0.2914         12        320: 100%|██████████| 27/27 [00:03<00:00,  7.32it/s]\n",
            "               classes   top1_acc   top5_acc: 100%|██████████| 2/2 [00:00<00:00, 24.88it/s]"
          ]
        },
        {
          "output_type": "stream",
          "name": "stdout",
          "text": [
            "                   all      0.596          1\n"
          ]
        },
        {
          "output_type": "stream",
          "name": "stderr",
          "text": [
            "\n"
          ]
        },
        {
          "output_type": "stream",
          "name": "stdout",
          "text": [
            "\n",
            "      Epoch    GPU_mem       loss  Instances       Size\n"
          ]
        },
        {
          "output_type": "stream",
          "name": "stderr",
          "text": [
            "     15/100      1.98G     0.2839         12        320: 100%|██████████| 27/27 [00:03<00:00,  7.47it/s]\n",
            "               classes   top1_acc   top5_acc: 100%|██████████| 2/2 [00:00<00:00, 16.95it/s]"
          ]
        },
        {
          "output_type": "stream",
          "name": "stdout",
          "text": [
            "                   all      0.519          1\n"
          ]
        },
        {
          "output_type": "stream",
          "name": "stderr",
          "text": [
            "\n"
          ]
        },
        {
          "output_type": "stream",
          "name": "stdout",
          "text": [
            "\n",
            "      Epoch    GPU_mem       loss  Instances       Size\n"
          ]
        },
        {
          "output_type": "stream",
          "name": "stderr",
          "text": [
            "     16/100         2G     0.3045         12        320: 100%|██████████| 27/27 [00:04<00:00,  5.69it/s]\n",
            "               classes   top1_acc   top5_acc: 100%|██████████| 2/2 [00:00<00:00, 17.73it/s]"
          ]
        },
        {
          "output_type": "stream",
          "name": "stdout",
          "text": [
            "                   all      0.558          1\n"
          ]
        },
        {
          "output_type": "stream",
          "name": "stderr",
          "text": [
            "\n"
          ]
        },
        {
          "output_type": "stream",
          "name": "stdout",
          "text": [
            "\n",
            "      Epoch    GPU_mem       loss  Instances       Size\n"
          ]
        },
        {
          "output_type": "stream",
          "name": "stderr",
          "text": [
            "     17/100         2G     0.2598         12        320: 100%|██████████| 27/27 [00:03<00:00,  7.80it/s]\n",
            "               classes   top1_acc   top5_acc: 100%|██████████| 2/2 [00:00<00:00, 24.44it/s]"
          ]
        },
        {
          "output_type": "stream",
          "name": "stdout",
          "text": [
            "                   all      0.673          1\n"
          ]
        },
        {
          "output_type": "stream",
          "name": "stderr",
          "text": [
            "\n"
          ]
        },
        {
          "output_type": "stream",
          "name": "stdout",
          "text": [
            "\n",
            "      Epoch    GPU_mem       loss  Instances       Size\n"
          ]
        },
        {
          "output_type": "stream",
          "name": "stderr",
          "text": [
            "     18/100         2G     0.2004         12        320: 100%|██████████| 27/27 [00:03<00:00,  7.60it/s]\n",
            "               classes   top1_acc   top5_acc: 100%|██████████| 2/2 [00:00<00:00, 17.59it/s]"
          ]
        },
        {
          "output_type": "stream",
          "name": "stdout",
          "text": [
            "                   all      0.577          1\n"
          ]
        },
        {
          "output_type": "stream",
          "name": "stderr",
          "text": [
            "\n"
          ]
        },
        {
          "output_type": "stream",
          "name": "stdout",
          "text": [
            "\n",
            "      Epoch    GPU_mem       loss  Instances       Size\n"
          ]
        },
        {
          "output_type": "stream",
          "name": "stderr",
          "text": [
            "     19/100         2G     0.1537         12        320: 100%|██████████| 27/27 [00:04<00:00,  5.83it/s]\n",
            "               classes   top1_acc   top5_acc: 100%|██████████| 2/2 [00:00<00:00, 18.81it/s]"
          ]
        },
        {
          "output_type": "stream",
          "name": "stdout",
          "text": [
            "                   all      0.635          1\n"
          ]
        },
        {
          "output_type": "stream",
          "name": "stderr",
          "text": [
            "\n"
          ]
        },
        {
          "output_type": "stream",
          "name": "stdout",
          "text": [
            "\n",
            "      Epoch    GPU_mem       loss  Instances       Size\n"
          ]
        },
        {
          "output_type": "stream",
          "name": "stderr",
          "text": [
            "     20/100         2G     0.1369         12        320: 100%|██████████| 27/27 [00:03<00:00,  7.69it/s]\n",
            "               classes   top1_acc   top5_acc: 100%|██████████| 2/2 [00:00<00:00, 17.82it/s]"
          ]
        },
        {
          "output_type": "stream",
          "name": "stdout",
          "text": [
            "                   all      0.519          1\n"
          ]
        },
        {
          "output_type": "stream",
          "name": "stderr",
          "text": [
            "\n"
          ]
        },
        {
          "output_type": "stream",
          "name": "stdout",
          "text": [
            "\n",
            "      Epoch    GPU_mem       loss  Instances       Size\n"
          ]
        },
        {
          "output_type": "stream",
          "name": "stderr",
          "text": [
            "     21/100         2G     0.1685         12        320: 100%|██████████| 27/27 [00:03<00:00,  7.84it/s]\n",
            "               classes   top1_acc   top5_acc: 100%|██████████| 2/2 [00:00<00:00, 13.26it/s]"
          ]
        },
        {
          "output_type": "stream",
          "name": "stdout",
          "text": [
            "                   all      0.538          1\n"
          ]
        },
        {
          "output_type": "stream",
          "name": "stderr",
          "text": [
            "\n"
          ]
        },
        {
          "output_type": "stream",
          "name": "stdout",
          "text": [
            "\n",
            "      Epoch    GPU_mem       loss  Instances       Size\n"
          ]
        },
        {
          "output_type": "stream",
          "name": "stderr",
          "text": [
            "     22/100         2G      0.112         12        320: 100%|██████████| 27/27 [00:04<00:00,  6.40it/s]\n",
            "               classes   top1_acc   top5_acc: 100%|██████████| 2/2 [00:00<00:00, 15.39it/s]"
          ]
        },
        {
          "output_type": "stream",
          "name": "stdout",
          "text": [
            "                   all      0.538          1\n"
          ]
        },
        {
          "output_type": "stream",
          "name": "stderr",
          "text": [
            "\n"
          ]
        },
        {
          "output_type": "stream",
          "name": "stdout",
          "text": [
            "\n",
            "      Epoch    GPU_mem       loss  Instances       Size\n"
          ]
        },
        {
          "output_type": "stream",
          "name": "stderr",
          "text": [
            "     23/100      2.03G     0.1493         12        320: 100%|██████████| 27/27 [00:03<00:00,  7.57it/s]\n",
            "               classes   top1_acc   top5_acc: 100%|██████████| 2/2 [00:00<00:00, 15.78it/s]"
          ]
        },
        {
          "output_type": "stream",
          "name": "stdout",
          "text": [
            "                   all      0.654          1\n"
          ]
        },
        {
          "output_type": "stream",
          "name": "stderr",
          "text": [
            "\n"
          ]
        },
        {
          "output_type": "stream",
          "name": "stdout",
          "text": [
            "\n",
            "      Epoch    GPU_mem       loss  Instances       Size\n"
          ]
        },
        {
          "output_type": "stream",
          "name": "stderr",
          "text": [
            "     24/100      2.03G     0.1054         12        320: 100%|██████████| 27/27 [00:04<00:00,  6.48it/s]\n",
            "               classes   top1_acc   top5_acc: 100%|██████████| 2/2 [00:00<00:00, 15.36it/s]"
          ]
        },
        {
          "output_type": "stream",
          "name": "stdout",
          "text": [
            "                   all      0.635          1\n"
          ]
        },
        {
          "output_type": "stream",
          "name": "stderr",
          "text": [
            "\n"
          ]
        },
        {
          "output_type": "stream",
          "name": "stdout",
          "text": [
            "\n",
            "      Epoch    GPU_mem       loss  Instances       Size\n"
          ]
        },
        {
          "output_type": "stream",
          "name": "stderr",
          "text": [
            "     25/100      2.03G     0.1349         12        320: 100%|██████████| 27/27 [00:03<00:00,  8.08it/s]\n",
            "               classes   top1_acc   top5_acc: 100%|██████████| 2/2 [00:00<00:00, 18.10it/s]"
          ]
        },
        {
          "output_type": "stream",
          "name": "stdout",
          "text": [
            "                   all      0.654          1\n"
          ]
        },
        {
          "output_type": "stream",
          "name": "stderr",
          "text": [
            "\n"
          ]
        },
        {
          "output_type": "stream",
          "name": "stdout",
          "text": [
            "\n",
            "      Epoch    GPU_mem       loss  Instances       Size\n"
          ]
        },
        {
          "output_type": "stream",
          "name": "stderr",
          "text": [
            "     26/100      2.03G     0.1254         12        320: 100%|██████████| 27/27 [00:03<00:00,  7.87it/s]\n",
            "               classes   top1_acc   top5_acc: 100%|██████████| 2/2 [00:00<00:00, 21.98it/s]"
          ]
        },
        {
          "output_type": "stream",
          "name": "stdout",
          "text": [
            "                   all      0.615          1\n"
          ]
        },
        {
          "output_type": "stream",
          "name": "stderr",
          "text": [
            "\n"
          ]
        },
        {
          "output_type": "stream",
          "name": "stdout",
          "text": [
            "\n",
            "      Epoch    GPU_mem       loss  Instances       Size\n"
          ]
        },
        {
          "output_type": "stream",
          "name": "stderr",
          "text": [
            "     27/100      2.03G     0.1475         12        320: 100%|██████████| 27/27 [00:04<00:00,  5.76it/s]\n",
            "               classes   top1_acc   top5_acc: 100%|██████████| 2/2 [00:00<00:00, 22.60it/s]"
          ]
        },
        {
          "output_type": "stream",
          "name": "stdout",
          "text": [
            "                   all      0.577          1\n"
          ]
        },
        {
          "output_type": "stream",
          "name": "stderr",
          "text": [
            "\n"
          ]
        },
        {
          "output_type": "stream",
          "name": "stdout",
          "text": [
            "\n",
            "      Epoch    GPU_mem       loss  Instances       Size\n"
          ]
        },
        {
          "output_type": "stream",
          "name": "stderr",
          "text": [
            "     28/100      2.03G     0.1091         12        320: 100%|██████████| 27/27 [00:03<00:00,  7.71it/s]\n",
            "               classes   top1_acc   top5_acc: 100%|██████████| 2/2 [00:00<00:00, 21.96it/s]"
          ]
        },
        {
          "output_type": "stream",
          "name": "stdout",
          "text": [
            "                   all      0.692          1\n"
          ]
        },
        {
          "output_type": "stream",
          "name": "stderr",
          "text": [
            "\n"
          ]
        },
        {
          "output_type": "stream",
          "name": "stdout",
          "text": [
            "\n",
            "      Epoch    GPU_mem       loss  Instances       Size\n"
          ]
        },
        {
          "output_type": "stream",
          "name": "stderr",
          "text": [
            "     29/100      2.03G     0.1187         12        320: 100%|██████████| 27/27 [00:03<00:00,  7.63it/s]\n",
            "               classes   top1_acc   top5_acc: 100%|██████████| 2/2 [00:00<00:00, 19.15it/s]"
          ]
        },
        {
          "output_type": "stream",
          "name": "stdout",
          "text": [
            "                   all      0.615          1\n"
          ]
        },
        {
          "output_type": "stream",
          "name": "stderr",
          "text": [
            "\n"
          ]
        },
        {
          "output_type": "stream",
          "name": "stdout",
          "text": [
            "\n",
            "      Epoch    GPU_mem       loss  Instances       Size\n"
          ]
        },
        {
          "output_type": "stream",
          "name": "stderr",
          "text": [
            "     30/100      2.03G     0.1296         12        320: 100%|██████████| 27/27 [00:04<00:00,  6.25it/s]\n",
            "               classes   top1_acc   top5_acc: 100%|██████████| 2/2 [00:00<00:00, 17.26it/s]"
          ]
        },
        {
          "output_type": "stream",
          "name": "stdout",
          "text": [
            "                   all        0.5          1\n"
          ]
        },
        {
          "output_type": "stream",
          "name": "stderr",
          "text": [
            "\n"
          ]
        },
        {
          "output_type": "stream",
          "name": "stdout",
          "text": [
            "\n",
            "      Epoch    GPU_mem       loss  Instances       Size\n"
          ]
        },
        {
          "output_type": "stream",
          "name": "stderr",
          "text": [
            "     31/100      2.03G     0.1002         12        320: 100%|██████████| 27/27 [00:03<00:00,  7.78it/s]\n",
            "               classes   top1_acc   top5_acc: 100%|██████████| 2/2 [00:00<00:00, 17.78it/s]"
          ]
        },
        {
          "output_type": "stream",
          "name": "stdout",
          "text": [
            "                   all      0.577          1\n"
          ]
        },
        {
          "output_type": "stream",
          "name": "stderr",
          "text": [
            "\n"
          ]
        },
        {
          "output_type": "stream",
          "name": "stdout",
          "text": [
            "\n",
            "      Epoch    GPU_mem       loss  Instances       Size\n"
          ]
        },
        {
          "output_type": "stream",
          "name": "stderr",
          "text": [
            "     32/100      2.03G     0.1153         12        320: 100%|██████████| 27/27 [00:04<00:00,  6.48it/s]\n",
            "               classes   top1_acc   top5_acc: 100%|██████████| 2/2 [00:00<00:00, 13.79it/s]\n"
          ]
        },
        {
          "output_type": "stream",
          "name": "stdout",
          "text": [
            "                   all      0.577          1\n",
            "\n",
            "      Epoch    GPU_mem       loss  Instances       Size\n"
          ]
        },
        {
          "output_type": "stream",
          "name": "stderr",
          "text": [
            "     33/100      2.03G     0.1153         12        320: 100%|██████████| 27/27 [00:03<00:00,  7.76it/s]\n",
            "               classes   top1_acc   top5_acc: 100%|██████████| 2/2 [00:00<00:00, 20.24it/s]"
          ]
        },
        {
          "output_type": "stream",
          "name": "stdout",
          "text": [
            "                   all      0.615          1\n"
          ]
        },
        {
          "output_type": "stream",
          "name": "stderr",
          "text": [
            "\n"
          ]
        },
        {
          "output_type": "stream",
          "name": "stdout",
          "text": [
            "\n",
            "      Epoch    GPU_mem       loss  Instances       Size\n"
          ]
        },
        {
          "output_type": "stream",
          "name": "stderr",
          "text": [
            "     34/100      2.03G      0.119         12        320: 100%|██████████| 27/27 [00:03<00:00,  7.87it/s]\n",
            "               classes   top1_acc   top5_acc: 100%|██████████| 2/2 [00:00<00:00, 15.52it/s]"
          ]
        },
        {
          "output_type": "stream",
          "name": "stdout",
          "text": [
            "                   all      0.692          1\n"
          ]
        },
        {
          "output_type": "stream",
          "name": "stderr",
          "text": [
            "\n"
          ]
        },
        {
          "output_type": "stream",
          "name": "stdout",
          "text": [
            "\n",
            "      Epoch    GPU_mem       loss  Instances       Size\n"
          ]
        },
        {
          "output_type": "stream",
          "name": "stderr",
          "text": [
            "     35/100      2.03G    0.08703         12        320: 100%|██████████| 27/27 [00:04<00:00,  5.78it/s]\n",
            "               classes   top1_acc   top5_acc: 100%|██████████| 2/2 [00:00<00:00, 17.58it/s]"
          ]
        },
        {
          "output_type": "stream",
          "name": "stdout",
          "text": [
            "                   all      0.635          1\n"
          ]
        },
        {
          "output_type": "stream",
          "name": "stderr",
          "text": [
            "\n"
          ]
        },
        {
          "output_type": "stream",
          "name": "stdout",
          "text": [
            "\n",
            "      Epoch    GPU_mem       loss  Instances       Size\n"
          ]
        },
        {
          "output_type": "stream",
          "name": "stderr",
          "text": [
            "     36/100      2.03G    0.06901         12        320: 100%|██████████| 27/27 [00:03<00:00,  7.76it/s]\n",
            "               classes   top1_acc   top5_acc: 100%|██████████| 2/2 [00:00<00:00, 19.63it/s]"
          ]
        },
        {
          "output_type": "stream",
          "name": "stdout",
          "text": [
            "                   all      0.635          1\n"
          ]
        },
        {
          "output_type": "stream",
          "name": "stderr",
          "text": [
            "\n"
          ]
        },
        {
          "output_type": "stream",
          "name": "stdout",
          "text": [
            "\n",
            "      Epoch    GPU_mem       loss  Instances       Size\n"
          ]
        },
        {
          "output_type": "stream",
          "name": "stderr",
          "text": [
            "     37/100      2.03G     0.0646         12        320: 100%|██████████| 27/27 [00:03<00:00,  7.59it/s]\n",
            "               classes   top1_acc   top5_acc: 100%|██████████| 2/2 [00:00<00:00, 17.75it/s]"
          ]
        },
        {
          "output_type": "stream",
          "name": "stdout",
          "text": [
            "                   all      0.577          1\n"
          ]
        },
        {
          "output_type": "stream",
          "name": "stderr",
          "text": [
            "\n"
          ]
        },
        {
          "output_type": "stream",
          "name": "stdout",
          "text": [
            "\n",
            "      Epoch    GPU_mem       loss  Instances       Size\n"
          ]
        },
        {
          "output_type": "stream",
          "name": "stderr",
          "text": [
            "     38/100      2.03G     0.0594         12        320: 100%|██████████| 27/27 [00:04<00:00,  6.05it/s]\n",
            "               classes   top1_acc   top5_acc: 100%|██████████| 2/2 [00:00<00:00, 15.78it/s]"
          ]
        },
        {
          "output_type": "stream",
          "name": "stdout",
          "text": [
            "                   all      0.596          1\n"
          ]
        },
        {
          "output_type": "stream",
          "name": "stderr",
          "text": [
            "\n"
          ]
        },
        {
          "output_type": "stream",
          "name": "stdout",
          "text": [
            "\n",
            "      Epoch    GPU_mem       loss  Instances       Size\n"
          ]
        },
        {
          "output_type": "stream",
          "name": "stderr",
          "text": [
            "     39/100      2.03G    0.06536         12        320: 100%|██████████| 27/27 [00:03<00:00,  7.64it/s]\n",
            "               classes   top1_acc   top5_acc: 100%|██████████| 2/2 [00:00<00:00, 20.39it/s]"
          ]
        },
        {
          "output_type": "stream",
          "name": "stdout",
          "text": [
            "                   all      0.577          1\n"
          ]
        },
        {
          "output_type": "stream",
          "name": "stderr",
          "text": [
            "\n"
          ]
        },
        {
          "output_type": "stream",
          "name": "stdout",
          "text": [
            "\n",
            "      Epoch    GPU_mem       loss  Instances       Size\n"
          ]
        },
        {
          "output_type": "stream",
          "name": "stderr",
          "text": [
            "     40/100      2.03G    0.04293         12        320: 100%|██████████| 27/27 [00:03<00:00,  7.11it/s]\n",
            "               classes   top1_acc   top5_acc: 100%|██████████| 2/2 [00:00<00:00, 12.64it/s]\n"
          ]
        },
        {
          "output_type": "stream",
          "name": "stdout",
          "text": [
            "                   all      0.558          1\n",
            "\n",
            "      Epoch    GPU_mem       loss  Instances       Size\n"
          ]
        },
        {
          "output_type": "stream",
          "name": "stderr",
          "text": [
            "     41/100      2.03G    0.04508         12        320: 100%|██████████| 27/27 [00:03<00:00,  7.19it/s]\n",
            "               classes   top1_acc   top5_acc: 100%|██████████| 2/2 [00:00<00:00, 23.65it/s]"
          ]
        },
        {
          "output_type": "stream",
          "name": "stdout",
          "text": [
            "                   all      0.615          1\n"
          ]
        },
        {
          "output_type": "stream",
          "name": "stderr",
          "text": [
            "\n"
          ]
        },
        {
          "output_type": "stream",
          "name": "stdout",
          "text": [
            "\n",
            "      Epoch    GPU_mem       loss  Instances       Size\n"
          ]
        },
        {
          "output_type": "stream",
          "name": "stderr",
          "text": [
            "     42/100      2.03G    0.06153         12        320: 100%|██████████| 27/27 [00:03<00:00,  7.73it/s]\n",
            "               classes   top1_acc   top5_acc: 100%|██████████| 2/2 [00:00<00:00, 19.06it/s]"
          ]
        },
        {
          "output_type": "stream",
          "name": "stdout",
          "text": [
            "                   all      0.654          1\n"
          ]
        },
        {
          "output_type": "stream",
          "name": "stderr",
          "text": [
            "\n"
          ]
        },
        {
          "output_type": "stream",
          "name": "stdout",
          "text": [
            "\n",
            "      Epoch    GPU_mem       loss  Instances       Size\n"
          ]
        },
        {
          "output_type": "stream",
          "name": "stderr",
          "text": [
            "     43/100      2.03G    0.04466         12        320: 100%|██████████| 27/27 [00:04<00:00,  5.80it/s]\n",
            "               classes   top1_acc   top5_acc: 100%|██████████| 2/2 [00:00<00:00, 23.07it/s]"
          ]
        },
        {
          "output_type": "stream",
          "name": "stdout",
          "text": [
            "                   all      0.577          1\n"
          ]
        },
        {
          "output_type": "stream",
          "name": "stderr",
          "text": [
            "\n"
          ]
        },
        {
          "output_type": "stream",
          "name": "stdout",
          "text": [
            "\n",
            "      Epoch    GPU_mem       loss  Instances       Size\n"
          ]
        },
        {
          "output_type": "stream",
          "name": "stderr",
          "text": [
            "     44/100      2.03G    0.04051         12        320: 100%|██████████| 27/27 [00:03<00:00,  7.65it/s]\n",
            "               classes   top1_acc   top5_acc: 100%|██████████| 2/2 [00:00<00:00, 20.49it/s]"
          ]
        },
        {
          "output_type": "stream",
          "name": "stdout",
          "text": [
            "                   all      0.596          1\n"
          ]
        },
        {
          "output_type": "stream",
          "name": "stderr",
          "text": [
            "\n"
          ]
        },
        {
          "output_type": "stream",
          "name": "stdout",
          "text": [
            "\n",
            "      Epoch    GPU_mem       loss  Instances       Size\n"
          ]
        },
        {
          "output_type": "stream",
          "name": "stderr",
          "text": [
            "     45/100      2.03G    0.04333         12        320: 100%|██████████| 27/27 [00:03<00:00,  7.61it/s]\n",
            "               classes   top1_acc   top5_acc: 100%|██████████| 2/2 [00:00<00:00, 20.41it/s]"
          ]
        },
        {
          "output_type": "stream",
          "name": "stdout",
          "text": [
            "                   all      0.615          1\n"
          ]
        },
        {
          "output_type": "stream",
          "name": "stderr",
          "text": [
            "\n"
          ]
        },
        {
          "output_type": "stream",
          "name": "stdout",
          "text": [
            "\n",
            "      Epoch    GPU_mem       loss  Instances       Size\n"
          ]
        },
        {
          "output_type": "stream",
          "name": "stderr",
          "text": [
            "     46/100      2.03G    0.03093         12        320: 100%|██████████| 27/27 [00:04<00:00,  5.93it/s]\n",
            "               classes   top1_acc   top5_acc: 100%|██████████| 2/2 [00:00<00:00, 19.30it/s]"
          ]
        },
        {
          "output_type": "stream",
          "name": "stdout",
          "text": [
            "                   all      0.712          1\n"
          ]
        },
        {
          "output_type": "stream",
          "name": "stderr",
          "text": [
            "\n"
          ]
        },
        {
          "output_type": "stream",
          "name": "stdout",
          "text": [
            "\n",
            "      Epoch    GPU_mem       loss  Instances       Size\n"
          ]
        },
        {
          "output_type": "stream",
          "name": "stderr",
          "text": [
            "     47/100      2.03G    0.03992         12        320: 100%|██████████| 27/27 [00:03<00:00,  7.73it/s]\n",
            "               classes   top1_acc   top5_acc: 100%|██████████| 2/2 [00:00<00:00, 17.80it/s]"
          ]
        },
        {
          "output_type": "stream",
          "name": "stdout",
          "text": [
            "                   all      0.731          1\n"
          ]
        },
        {
          "output_type": "stream",
          "name": "stderr",
          "text": [
            "\n"
          ]
        },
        {
          "output_type": "stream",
          "name": "stdout",
          "text": [
            "\n",
            "      Epoch    GPU_mem       loss  Instances       Size\n"
          ]
        },
        {
          "output_type": "stream",
          "name": "stderr",
          "text": [
            "     48/100      2.03G    0.02516         12        320: 100%|██████████| 27/27 [00:03<00:00,  7.04it/s]\n",
            "               classes   top1_acc   top5_acc: 100%|██████████| 2/2 [00:00<00:00, 22.82it/s]"
          ]
        },
        {
          "output_type": "stream",
          "name": "stdout",
          "text": [
            "                   all      0.673          1\n"
          ]
        },
        {
          "output_type": "stream",
          "name": "stderr",
          "text": [
            "\n"
          ]
        },
        {
          "output_type": "stream",
          "name": "stdout",
          "text": [
            "\n",
            "      Epoch    GPU_mem       loss  Instances       Size\n"
          ]
        },
        {
          "output_type": "stream",
          "name": "stderr",
          "text": [
            "     49/100      2.03G    0.04881         12        320: 100%|██████████| 27/27 [00:03<00:00,  7.53it/s]\n",
            "               classes   top1_acc   top5_acc: 100%|██████████| 2/2 [00:00<00:00, 16.84it/s]"
          ]
        },
        {
          "output_type": "stream",
          "name": "stdout",
          "text": [
            "                   all      0.635          1\n"
          ]
        },
        {
          "output_type": "stream",
          "name": "stderr",
          "text": [
            "\n"
          ]
        },
        {
          "output_type": "stream",
          "name": "stdout",
          "text": [
            "\n",
            "      Epoch    GPU_mem       loss  Instances       Size\n"
          ]
        },
        {
          "output_type": "stream",
          "name": "stderr",
          "text": [
            "     50/100      2.03G    0.02852         12        320: 100%|██████████| 27/27 [00:03<00:00,  7.77it/s]\n",
            "               classes   top1_acc   top5_acc: 100%|██████████| 2/2 [00:00<00:00, 21.41it/s]"
          ]
        },
        {
          "output_type": "stream",
          "name": "stdout",
          "text": [
            "                   all      0.538          1\n"
          ]
        },
        {
          "output_type": "stream",
          "name": "stderr",
          "text": [
            "\n"
          ]
        },
        {
          "output_type": "stream",
          "name": "stdout",
          "text": [
            "\n",
            "      Epoch    GPU_mem       loss  Instances       Size\n"
          ]
        },
        {
          "output_type": "stream",
          "name": "stderr",
          "text": [
            "     51/100      2.03G     0.0421         12        320: 100%|██████████| 27/27 [00:04<00:00,  5.97it/s]\n",
            "               classes   top1_acc   top5_acc: 100%|██████████| 2/2 [00:00<00:00, 14.40it/s]\n"
          ]
        },
        {
          "output_type": "stream",
          "name": "stdout",
          "text": [
            "                   all      0.615          1\n",
            "\n",
            "      Epoch    GPU_mem       loss  Instances       Size\n"
          ]
        },
        {
          "output_type": "stream",
          "name": "stderr",
          "text": [
            "     52/100      2.03G     0.0496         12        320: 100%|██████████| 27/27 [00:03<00:00,  7.78it/s]\n",
            "               classes   top1_acc   top5_acc: 100%|██████████| 2/2 [00:00<00:00, 16.89it/s]"
          ]
        },
        {
          "output_type": "stream",
          "name": "stdout",
          "text": [
            "                   all      0.654          1\n"
          ]
        },
        {
          "output_type": "stream",
          "name": "stderr",
          "text": [
            "\n"
          ]
        },
        {
          "output_type": "stream",
          "name": "stdout",
          "text": [
            "\n",
            "      Epoch    GPU_mem       loss  Instances       Size\n"
          ]
        },
        {
          "output_type": "stream",
          "name": "stderr",
          "text": [
            "     53/100      2.04G     0.0367         12        320: 100%|██████████| 27/27 [00:03<00:00,  7.69it/s]\n",
            "               classes   top1_acc   top5_acc: 100%|██████████| 2/2 [00:00<00:00, 16.01it/s]"
          ]
        },
        {
          "output_type": "stream",
          "name": "stdout",
          "text": [
            "                   all      0.635          1\n"
          ]
        },
        {
          "output_type": "stream",
          "name": "stderr",
          "text": [
            "\n"
          ]
        },
        {
          "output_type": "stream",
          "name": "stdout",
          "text": [
            "\n",
            "      Epoch    GPU_mem       loss  Instances       Size\n"
          ]
        },
        {
          "output_type": "stream",
          "name": "stderr",
          "text": [
            "     54/100      2.15G    0.02766         12        320: 100%|██████████| 27/27 [00:04<00:00,  5.85it/s]\n",
            "               classes   top1_acc   top5_acc: 100%|██████████| 2/2 [00:00<00:00, 16.89it/s]"
          ]
        },
        {
          "output_type": "stream",
          "name": "stdout",
          "text": [
            "                   all      0.673          1\n"
          ]
        },
        {
          "output_type": "stream",
          "name": "stderr",
          "text": [
            "\n"
          ]
        },
        {
          "output_type": "stream",
          "name": "stdout",
          "text": [
            "\n",
            "      Epoch    GPU_mem       loss  Instances       Size\n"
          ]
        },
        {
          "output_type": "stream",
          "name": "stderr",
          "text": [
            "     55/100      2.16G    0.02138         12        320: 100%|██████████| 27/27 [00:03<00:00,  7.76it/s]\n",
            "               classes   top1_acc   top5_acc: 100%|██████████| 2/2 [00:00<00:00, 13.89it/s]"
          ]
        },
        {
          "output_type": "stream",
          "name": "stdout",
          "text": [
            "                   all      0.635          1\n"
          ]
        },
        {
          "output_type": "stream",
          "name": "stderr",
          "text": [
            "\n"
          ]
        },
        {
          "output_type": "stream",
          "name": "stdout",
          "text": [
            "\n",
            "      Epoch    GPU_mem       loss  Instances       Size\n"
          ]
        },
        {
          "output_type": "stream",
          "name": "stderr",
          "text": [
            "     56/100      2.19G    0.01271         12        320: 100%|██████████| 27/27 [00:03<00:00,  7.45it/s]\n",
            "               classes   top1_acc   top5_acc: 100%|██████████| 2/2 [00:00<00:00, 21.73it/s]"
          ]
        },
        {
          "output_type": "stream",
          "name": "stdout",
          "text": [
            "                   all      0.615          1\n"
          ]
        },
        {
          "output_type": "stream",
          "name": "stderr",
          "text": [
            "\n"
          ]
        },
        {
          "output_type": "stream",
          "name": "stdout",
          "text": [
            "\n",
            "      Epoch    GPU_mem       loss  Instances       Size\n"
          ]
        },
        {
          "output_type": "stream",
          "name": "stderr",
          "text": [
            "     57/100      2.19G    0.02247         12        320: 100%|██████████| 27/27 [00:04<00:00,  6.47it/s]\n",
            "               classes   top1_acc   top5_acc: 100%|██████████| 2/2 [00:00<00:00, 21.07it/s]"
          ]
        },
        {
          "output_type": "stream",
          "name": "stdout",
          "text": [
            "                   all      0.635          1\n"
          ]
        },
        {
          "output_type": "stream",
          "name": "stderr",
          "text": [
            "\n"
          ]
        },
        {
          "output_type": "stream",
          "name": "stdout",
          "text": [
            "\n",
            "      Epoch    GPU_mem       loss  Instances       Size\n"
          ]
        },
        {
          "output_type": "stream",
          "name": "stderr",
          "text": [
            "     58/100      2.19G    0.03142         12        320: 100%|██████████| 27/27 [00:03<00:00,  7.61it/s]\n",
            "               classes   top1_acc   top5_acc: 100%|██████████| 2/2 [00:00<00:00, 22.02it/s]"
          ]
        },
        {
          "output_type": "stream",
          "name": "stdout",
          "text": [
            "                   all      0.635          1\n"
          ]
        },
        {
          "output_type": "stream",
          "name": "stderr",
          "text": [
            "\n"
          ]
        },
        {
          "output_type": "stream",
          "name": "stdout",
          "text": [
            "\n",
            "      Epoch    GPU_mem       loss  Instances       Size\n"
          ]
        },
        {
          "output_type": "stream",
          "name": "stderr",
          "text": [
            "     59/100      2.19G    0.02363         12        320: 100%|██████████| 27/27 [00:04<00:00,  6.45it/s]\n",
            "               classes   top1_acc   top5_acc: 100%|██████████| 2/2 [00:00<00:00, 16.41it/s]"
          ]
        },
        {
          "output_type": "stream",
          "name": "stdout",
          "text": [
            "                   all      0.635          1\n"
          ]
        },
        {
          "output_type": "stream",
          "name": "stderr",
          "text": [
            "\n"
          ]
        },
        {
          "output_type": "stream",
          "name": "stdout",
          "text": [
            "\n",
            "      Epoch    GPU_mem       loss  Instances       Size\n"
          ]
        },
        {
          "output_type": "stream",
          "name": "stderr",
          "text": [
            "     60/100      2.21G    0.02315         12        320: 100%|██████████| 27/27 [00:03<00:00,  7.69it/s]\n",
            "               classes   top1_acc   top5_acc: 100%|██████████| 2/2 [00:00<00:00, 14.95it/s]"
          ]
        },
        {
          "output_type": "stream",
          "name": "stdout",
          "text": [
            "                   all      0.596          1\n"
          ]
        },
        {
          "output_type": "stream",
          "name": "stderr",
          "text": [
            "\n"
          ]
        },
        {
          "output_type": "stream",
          "name": "stdout",
          "text": [
            "\n",
            "      Epoch    GPU_mem       loss  Instances       Size\n"
          ]
        },
        {
          "output_type": "stream",
          "name": "stderr",
          "text": [
            "     61/100      2.21G    0.02085         12        320: 100%|██████████| 27/27 [00:03<00:00,  7.72it/s]\n",
            "               classes   top1_acc   top5_acc: 100%|██████████| 2/2 [00:00<00:00, 21.52it/s]"
          ]
        },
        {
          "output_type": "stream",
          "name": "stdout",
          "text": [
            "                   all      0.673          1\n"
          ]
        },
        {
          "output_type": "stream",
          "name": "stderr",
          "text": [
            "\n"
          ]
        },
        {
          "output_type": "stream",
          "name": "stdout",
          "text": [
            "\n",
            "      Epoch    GPU_mem       loss  Instances       Size\n"
          ]
        },
        {
          "output_type": "stream",
          "name": "stderr",
          "text": [
            "     62/100       2.4G    0.04318         12        320: 100%|██████████| 27/27 [00:04<00:00,  5.75it/s]\n",
            "               classes   top1_acc   top5_acc: 100%|██████████| 2/2 [00:00<00:00, 17.99it/s]"
          ]
        },
        {
          "output_type": "stream",
          "name": "stdout",
          "text": [
            "                   all      0.673          1\n"
          ]
        },
        {
          "output_type": "stream",
          "name": "stderr",
          "text": [
            "\n"
          ]
        },
        {
          "output_type": "stream",
          "name": "stdout",
          "text": [
            "\n",
            "      Epoch    GPU_mem       loss  Instances       Size\n"
          ]
        },
        {
          "output_type": "stream",
          "name": "stderr",
          "text": [
            "     63/100       2.4G    0.01418         12        320: 100%|██████████| 27/27 [00:03<00:00,  7.68it/s]\n",
            "               classes   top1_acc   top5_acc: 100%|██████████| 2/2 [00:00<00:00, 22.85it/s]"
          ]
        },
        {
          "output_type": "stream",
          "name": "stdout",
          "text": [
            "                   all      0.635          1\n"
          ]
        },
        {
          "output_type": "stream",
          "name": "stderr",
          "text": [
            "\n"
          ]
        },
        {
          "output_type": "stream",
          "name": "stdout",
          "text": [
            "\n",
            "      Epoch    GPU_mem       loss  Instances       Size\n"
          ]
        },
        {
          "output_type": "stream",
          "name": "stderr",
          "text": [
            "     64/100      2.42G     0.0212         12        320: 100%|██████████| 27/27 [00:03<00:00,  7.75it/s]\n",
            "               classes   top1_acc   top5_acc: 100%|██████████| 2/2 [00:00<00:00, 18.03it/s]"
          ]
        },
        {
          "output_type": "stream",
          "name": "stdout",
          "text": [
            "                   all      0.615          1\n"
          ]
        },
        {
          "output_type": "stream",
          "name": "stderr",
          "text": [
            "\n"
          ]
        },
        {
          "output_type": "stream",
          "name": "stdout",
          "text": [
            "\n",
            "      Epoch    GPU_mem       loss  Instances       Size\n"
          ]
        },
        {
          "output_type": "stream",
          "name": "stderr",
          "text": [
            "     65/100      2.42G    0.02955         12        320: 100%|██████████| 27/27 [00:04<00:00,  5.74it/s]\n",
            "               classes   top1_acc   top5_acc: 100%|██████████| 2/2 [00:00<00:00, 18.42it/s]"
          ]
        },
        {
          "output_type": "stream",
          "name": "stdout",
          "text": [
            "                   all      0.615          1\n"
          ]
        },
        {
          "output_type": "stream",
          "name": "stderr",
          "text": [
            "\n"
          ]
        },
        {
          "output_type": "stream",
          "name": "stdout",
          "text": [
            "\n",
            "      Epoch    GPU_mem       loss  Instances       Size\n"
          ]
        },
        {
          "output_type": "stream",
          "name": "stderr",
          "text": [
            "     66/100      2.42G    0.01926         12        320: 100%|██████████| 27/27 [00:03<00:00,  7.35it/s]\n",
            "               classes   top1_acc   top5_acc: 100%|██████████| 2/2 [00:00<00:00, 17.53it/s]"
          ]
        },
        {
          "output_type": "stream",
          "name": "stdout",
          "text": [
            "                   all      0.673          1\n"
          ]
        },
        {
          "output_type": "stream",
          "name": "stderr",
          "text": [
            "\n"
          ]
        },
        {
          "output_type": "stream",
          "name": "stdout",
          "text": [
            "\n",
            "      Epoch    GPU_mem       loss  Instances       Size\n"
          ]
        },
        {
          "output_type": "stream",
          "name": "stderr",
          "text": [
            "     67/100      2.42G    0.03186         12        320: 100%|██████████| 27/27 [00:03<00:00,  7.38it/s]\n",
            "               classes   top1_acc   top5_acc: 100%|██████████| 2/2 [00:00<00:00, 15.03it/s]"
          ]
        },
        {
          "output_type": "stream",
          "name": "stdout",
          "text": [
            "                   all      0.692          1\n"
          ]
        },
        {
          "output_type": "stream",
          "name": "stderr",
          "text": [
            "\n"
          ]
        },
        {
          "output_type": "stream",
          "name": "stdout",
          "text": [
            "\n",
            "      Epoch    GPU_mem       loss  Instances       Size\n"
          ]
        },
        {
          "output_type": "stream",
          "name": "stderr",
          "text": [
            "     68/100      2.42G    0.02308         12        320: 100%|██████████| 27/27 [00:04<00:00,  6.65it/s]\n",
            "               classes   top1_acc   top5_acc: 100%|██████████| 2/2 [00:00<00:00, 17.92it/s]"
          ]
        },
        {
          "output_type": "stream",
          "name": "stdout",
          "text": [
            "                   all      0.692          1\n"
          ]
        },
        {
          "output_type": "stream",
          "name": "stderr",
          "text": [
            "\n"
          ]
        },
        {
          "output_type": "stream",
          "name": "stdout",
          "text": [
            "\n",
            "      Epoch    GPU_mem       loss  Instances       Size\n"
          ]
        },
        {
          "output_type": "stream",
          "name": "stderr",
          "text": [
            "     69/100      2.42G   0.007749         12        320: 100%|██████████| 27/27 [00:03<00:00,  7.48it/s]\n",
            "               classes   top1_acc   top5_acc: 100%|██████████| 2/2 [00:00<00:00, 25.14it/s]"
          ]
        },
        {
          "output_type": "stream",
          "name": "stdout",
          "text": [
            "                   all      0.673          1\n"
          ]
        },
        {
          "output_type": "stream",
          "name": "stderr",
          "text": [
            "\n"
          ]
        },
        {
          "output_type": "stream",
          "name": "stdout",
          "text": [
            "\n",
            "      Epoch    GPU_mem       loss  Instances       Size\n"
          ]
        },
        {
          "output_type": "stream",
          "name": "stderr",
          "text": [
            "     70/100      2.42G    0.02564         12        320: 100%|██████████| 27/27 [00:04<00:00,  6.09it/s]\n",
            "               classes   top1_acc   top5_acc: 100%|██████████| 2/2 [00:00<00:00, 13.30it/s]"
          ]
        },
        {
          "output_type": "stream",
          "name": "stdout",
          "text": [
            "                   all      0.673          1\n"
          ]
        },
        {
          "output_type": "stream",
          "name": "stderr",
          "text": [
            "\n"
          ]
        },
        {
          "output_type": "stream",
          "name": "stdout",
          "text": [
            "\n",
            "      Epoch    GPU_mem       loss  Instances       Size\n"
          ]
        },
        {
          "output_type": "stream",
          "name": "stderr",
          "text": [
            "     71/100      2.42G    0.02814         12        320: 100%|██████████| 27/27 [00:03<00:00,  7.54it/s]\n",
            "               classes   top1_acc   top5_acc: 100%|██████████| 2/2 [00:00<00:00, 16.23it/s]"
          ]
        },
        {
          "output_type": "stream",
          "name": "stdout",
          "text": [
            "                   all      0.654          1\n"
          ]
        },
        {
          "output_type": "stream",
          "name": "stderr",
          "text": [
            "\n"
          ]
        },
        {
          "output_type": "stream",
          "name": "stdout",
          "text": [
            "\n",
            "      Epoch    GPU_mem       loss  Instances       Size\n"
          ]
        },
        {
          "output_type": "stream",
          "name": "stderr",
          "text": [
            "     72/100      2.42G     0.0236         12        320: 100%|██████████| 27/27 [00:03<00:00,  7.40it/s]\n",
            "               classes   top1_acc   top5_acc: 100%|██████████| 2/2 [00:00<00:00, 17.49it/s]"
          ]
        },
        {
          "output_type": "stream",
          "name": "stdout",
          "text": [
            "                   all      0.692          1\n"
          ]
        },
        {
          "output_type": "stream",
          "name": "stderr",
          "text": [
            "\n"
          ]
        },
        {
          "output_type": "stream",
          "name": "stdout",
          "text": [
            "\n",
            "      Epoch    GPU_mem       loss  Instances       Size\n"
          ]
        },
        {
          "output_type": "stream",
          "name": "stderr",
          "text": [
            "     73/100      2.42G    0.02532         12        320: 100%|██████████| 27/27 [00:04<00:00,  5.87it/s]\n",
            "               classes   top1_acc   top5_acc: 100%|██████████| 2/2 [00:00<00:00, 18.56it/s]"
          ]
        },
        {
          "output_type": "stream",
          "name": "stdout",
          "text": [
            "                   all      0.673          1\n"
          ]
        },
        {
          "output_type": "stream",
          "name": "stderr",
          "text": [
            "\n"
          ]
        },
        {
          "output_type": "stream",
          "name": "stdout",
          "text": [
            "\n",
            "      Epoch    GPU_mem       loss  Instances       Size\n"
          ]
        },
        {
          "output_type": "stream",
          "name": "stderr",
          "text": [
            "     74/100      2.42G    0.01472         12        320: 100%|██████████| 27/27 [00:03<00:00,  7.82it/s]\n",
            "               classes   top1_acc   top5_acc: 100%|██████████| 2/2 [00:00<00:00, 23.98it/s]"
          ]
        },
        {
          "output_type": "stream",
          "name": "stdout",
          "text": [
            "                   all      0.692          1\n"
          ]
        },
        {
          "output_type": "stream",
          "name": "stderr",
          "text": [
            "\n"
          ]
        },
        {
          "output_type": "stream",
          "name": "stdout",
          "text": [
            "\n",
            "      Epoch    GPU_mem       loss  Instances       Size\n"
          ]
        },
        {
          "output_type": "stream",
          "name": "stderr",
          "text": [
            "     75/100      2.42G    0.01847         12        320: 100%|██████████| 27/27 [00:03<00:00,  7.57it/s]\n",
            "               classes   top1_acc   top5_acc: 100%|██████████| 2/2 [00:00<00:00, 17.96it/s]"
          ]
        },
        {
          "output_type": "stream",
          "name": "stdout",
          "text": [
            "                   all      0.635          1\n"
          ]
        },
        {
          "output_type": "stream",
          "name": "stderr",
          "text": [
            "\n"
          ]
        },
        {
          "output_type": "stream",
          "name": "stdout",
          "text": [
            "\n",
            "      Epoch    GPU_mem       loss  Instances       Size\n"
          ]
        },
        {
          "output_type": "stream",
          "name": "stderr",
          "text": [
            "     76/100      2.42G     0.0138         12        320: 100%|██████████| 27/27 [00:04<00:00,  6.58it/s]\n",
            "               classes   top1_acc   top5_acc: 100%|██████████| 2/2 [00:00<00:00, 18.45it/s]"
          ]
        },
        {
          "output_type": "stream",
          "name": "stdout",
          "text": [
            "                   all      0.635          1\n"
          ]
        },
        {
          "output_type": "stream",
          "name": "stderr",
          "text": [
            "\n"
          ]
        },
        {
          "output_type": "stream",
          "name": "stdout",
          "text": [
            "\n",
            "      Epoch    GPU_mem       loss  Instances       Size\n"
          ]
        },
        {
          "output_type": "stream",
          "name": "stderr",
          "text": [
            "     77/100      2.42G    0.02246         12        320: 100%|██████████| 27/27 [00:03<00:00,  7.64it/s]\n",
            "               classes   top1_acc   top5_acc: 100%|██████████| 2/2 [00:00<00:00, 16.23it/s]"
          ]
        },
        {
          "output_type": "stream",
          "name": "stdout",
          "text": [
            "                   all      0.635          1\n"
          ]
        },
        {
          "output_type": "stream",
          "name": "stderr",
          "text": [
            "\n"
          ]
        },
        {
          "output_type": "stream",
          "name": "stdout",
          "text": [
            "\n",
            "      Epoch    GPU_mem       loss  Instances       Size\n"
          ]
        },
        {
          "output_type": "stream",
          "name": "stderr",
          "text": [
            "     78/100      2.42G    0.01655         12        320: 100%|██████████| 27/27 [00:04<00:00,  6.44it/s]\n",
            "               classes   top1_acc   top5_acc: 100%|██████████| 2/2 [00:00<00:00, 14.32it/s]"
          ]
        },
        {
          "output_type": "stream",
          "name": "stdout",
          "text": [
            "                   all      0.615          1\n"
          ]
        },
        {
          "output_type": "stream",
          "name": "stderr",
          "text": [
            "\n"
          ]
        },
        {
          "output_type": "stream",
          "name": "stdout",
          "text": [
            "\n",
            "      Epoch    GPU_mem       loss  Instances       Size\n"
          ]
        },
        {
          "output_type": "stream",
          "name": "stderr",
          "text": [
            "     79/100      2.42G    0.01168         12        320: 100%|██████████| 27/27 [00:03<00:00,  7.54it/s]\n",
            "               classes   top1_acc   top5_acc: 100%|██████████| 2/2 [00:00<00:00, 21.31it/s]"
          ]
        },
        {
          "output_type": "stream",
          "name": "stdout",
          "text": [
            "                   all      0.615          1\n"
          ]
        },
        {
          "output_type": "stream",
          "name": "stderr",
          "text": [
            "\n"
          ]
        },
        {
          "output_type": "stream",
          "name": "stdout",
          "text": [
            "\n",
            "      Epoch    GPU_mem       loss  Instances       Size\n"
          ]
        },
        {
          "output_type": "stream",
          "name": "stderr",
          "text": [
            "     80/100      2.42G    0.03067         12        320: 100%|██████████| 27/27 [00:03<00:00,  7.70it/s]\n",
            "               classes   top1_acc   top5_acc: 100%|██████████| 2/2 [00:00<00:00, 22.56it/s]"
          ]
        },
        {
          "output_type": "stream",
          "name": "stdout",
          "text": [
            "                   all      0.635          1\n"
          ]
        },
        {
          "output_type": "stream",
          "name": "stderr",
          "text": [
            "\n"
          ]
        },
        {
          "output_type": "stream",
          "name": "stdout",
          "text": [
            "\n",
            "      Epoch    GPU_mem       loss  Instances       Size\n"
          ]
        },
        {
          "output_type": "stream",
          "name": "stderr",
          "text": [
            "     81/100      2.42G   0.009088         12        320: 100%|██████████| 27/27 [00:04<00:00,  5.76it/s]\n",
            "               classes   top1_acc   top5_acc: 100%|██████████| 2/2 [00:00<00:00, 21.91it/s]"
          ]
        },
        {
          "output_type": "stream",
          "name": "stdout",
          "text": [
            "                   all      0.654          1\n"
          ]
        },
        {
          "output_type": "stream",
          "name": "stderr",
          "text": [
            "\n"
          ]
        },
        {
          "output_type": "stream",
          "name": "stdout",
          "text": [
            "\n",
            "      Epoch    GPU_mem       loss  Instances       Size\n"
          ]
        },
        {
          "output_type": "stream",
          "name": "stderr",
          "text": [
            "     82/100      2.42G    0.01617         12        320: 100%|██████████| 27/27 [00:03<00:00,  7.61it/s]\n",
            "               classes   top1_acc   top5_acc: 100%|██████████| 2/2 [00:00<00:00, 24.57it/s]"
          ]
        },
        {
          "output_type": "stream",
          "name": "stdout",
          "text": [
            "                   all      0.654          1\n"
          ]
        },
        {
          "output_type": "stream",
          "name": "stderr",
          "text": [
            "\n"
          ]
        },
        {
          "output_type": "stream",
          "name": "stdout",
          "text": [
            "\n",
            "      Epoch    GPU_mem       loss  Instances       Size\n"
          ]
        },
        {
          "output_type": "stream",
          "name": "stderr",
          "text": [
            "     83/100      2.42G     0.0118         12        320: 100%|██████████| 27/27 [00:03<00:00,  7.62it/s]\n",
            "               classes   top1_acc   top5_acc: 100%|██████████| 2/2 [00:00<00:00, 16.64it/s]"
          ]
        },
        {
          "output_type": "stream",
          "name": "stdout",
          "text": [
            "                   all      0.654          1\n"
          ]
        },
        {
          "output_type": "stream",
          "name": "stderr",
          "text": [
            "\n"
          ]
        },
        {
          "output_type": "stream",
          "name": "stdout",
          "text": [
            "\n",
            "      Epoch    GPU_mem       loss  Instances       Size\n"
          ]
        },
        {
          "output_type": "stream",
          "name": "stderr",
          "text": [
            "     84/100      2.42G    0.01118         12        320: 100%|██████████| 27/27 [00:04<00:00,  6.27it/s]\n",
            "               classes   top1_acc   top5_acc: 100%|██████████| 2/2 [00:00<00:00, 17.26it/s]"
          ]
        },
        {
          "output_type": "stream",
          "name": "stdout",
          "text": [
            "                   all      0.654          1\n"
          ]
        },
        {
          "output_type": "stream",
          "name": "stderr",
          "text": [
            "\n"
          ]
        },
        {
          "output_type": "stream",
          "name": "stdout",
          "text": [
            "\n",
            "      Epoch    GPU_mem       loss  Instances       Size\n"
          ]
        },
        {
          "output_type": "stream",
          "name": "stderr",
          "text": [
            "     85/100      2.42G    0.01051         12        320: 100%|██████████| 27/27 [00:03<00:00,  7.92it/s]\n",
            "               classes   top1_acc   top5_acc: 100%|██████████| 2/2 [00:00<00:00, 17.64it/s]"
          ]
        },
        {
          "output_type": "stream",
          "name": "stdout",
          "text": [
            "                   all      0.654          1\n"
          ]
        },
        {
          "output_type": "stream",
          "name": "stderr",
          "text": [
            "\n"
          ]
        },
        {
          "output_type": "stream",
          "name": "stdout",
          "text": [
            "\n",
            "      Epoch    GPU_mem       loss  Instances       Size\n"
          ]
        },
        {
          "output_type": "stream",
          "name": "stderr",
          "text": [
            "     86/100      2.42G    0.02633         12        320: 100%|██████████| 27/27 [00:04<00:00,  6.47it/s]\n",
            "               classes   top1_acc   top5_acc: 100%|██████████| 2/2 [00:00<00:00, 13.64it/s]"
          ]
        },
        {
          "output_type": "stream",
          "name": "stdout",
          "text": [
            "                   all      0.654          1\n"
          ]
        },
        {
          "output_type": "stream",
          "name": "stderr",
          "text": [
            "\n"
          ]
        },
        {
          "output_type": "stream",
          "name": "stdout",
          "text": [
            "\n",
            "      Epoch    GPU_mem       loss  Instances       Size\n"
          ]
        },
        {
          "output_type": "stream",
          "name": "stderr",
          "text": [
            "     87/100      2.42G    0.01914         12        320: 100%|██████████| 27/27 [00:03<00:00,  7.39it/s]\n",
            "               classes   top1_acc   top5_acc: 100%|██████████| 2/2 [00:00<00:00, 23.54it/s]"
          ]
        },
        {
          "output_type": "stream",
          "name": "stdout",
          "text": [
            "                   all      0.673          1\n"
          ]
        },
        {
          "output_type": "stream",
          "name": "stderr",
          "text": [
            "\n"
          ]
        },
        {
          "output_type": "stream",
          "name": "stdout",
          "text": [
            "\n",
            "      Epoch    GPU_mem       loss  Instances       Size\n"
          ]
        },
        {
          "output_type": "stream",
          "name": "stderr",
          "text": [
            "     88/100      2.42G    0.02255         12        320: 100%|██████████| 27/27 [00:03<00:00,  7.61it/s]\n",
            "               classes   top1_acc   top5_acc: 100%|██████████| 2/2 [00:00<00:00, 19.07it/s]"
          ]
        },
        {
          "output_type": "stream",
          "name": "stdout",
          "text": [
            "                   all      0.654          1\n"
          ]
        },
        {
          "output_type": "stream",
          "name": "stderr",
          "text": [
            "\n"
          ]
        },
        {
          "output_type": "stream",
          "name": "stdout",
          "text": [
            "\n",
            "      Epoch    GPU_mem       loss  Instances       Size\n"
          ]
        },
        {
          "output_type": "stream",
          "name": "stderr",
          "text": [
            "     89/100      2.42G    0.01037         12        320: 100%|██████████| 27/27 [00:04<00:00,  5.83it/s]\n",
            "               classes   top1_acc   top5_acc: 100%|██████████| 2/2 [00:00<00:00, 17.48it/s]"
          ]
        },
        {
          "output_type": "stream",
          "name": "stdout",
          "text": [
            "                   all      0.673          1\n"
          ]
        },
        {
          "output_type": "stream",
          "name": "stderr",
          "text": [
            "\n"
          ]
        },
        {
          "output_type": "stream",
          "name": "stdout",
          "text": [
            "\n",
            "      Epoch    GPU_mem       loss  Instances       Size\n"
          ]
        },
        {
          "output_type": "stream",
          "name": "stderr",
          "text": [
            "     90/100      2.42G    0.01318         12        320: 100%|██████████| 27/27 [00:03<00:00,  7.48it/s]\n",
            "               classes   top1_acc   top5_acc: 100%|██████████| 2/2 [00:00<00:00, 16.85it/s]"
          ]
        },
        {
          "output_type": "stream",
          "name": "stdout",
          "text": [
            "                   all      0.635          1\n"
          ]
        },
        {
          "output_type": "stream",
          "name": "stderr",
          "text": [
            "\n"
          ]
        },
        {
          "output_type": "stream",
          "name": "stdout",
          "text": [
            "\n",
            "      Epoch    GPU_mem       loss  Instances       Size\n"
          ]
        },
        {
          "output_type": "stream",
          "name": "stderr",
          "text": [
            "     91/100      2.42G   0.005689         12        320: 100%|██████████| 27/27 [00:04<00:00,  6.24it/s]\n",
            "               classes   top1_acc   top5_acc: 100%|██████████| 2/2 [00:00<00:00, 15.79it/s]"
          ]
        },
        {
          "output_type": "stream",
          "name": "stdout",
          "text": [
            "                   all      0.654          1\n"
          ]
        },
        {
          "output_type": "stream",
          "name": "stderr",
          "text": [
            "\n"
          ]
        },
        {
          "output_type": "stream",
          "name": "stdout",
          "text": [
            "\n",
            "      Epoch    GPU_mem       loss  Instances       Size\n"
          ]
        },
        {
          "output_type": "stream",
          "name": "stderr",
          "text": [
            "     92/100      2.42G   0.009799         12        320: 100%|██████████| 27/27 [00:03<00:00,  7.21it/s]\n",
            "               classes   top1_acc   top5_acc: 100%|██████████| 2/2 [00:00<00:00, 22.24it/s]"
          ]
        },
        {
          "output_type": "stream",
          "name": "stdout",
          "text": [
            "                   all      0.673          1\n"
          ]
        },
        {
          "output_type": "stream",
          "name": "stderr",
          "text": [
            "\n"
          ]
        },
        {
          "output_type": "stream",
          "name": "stdout",
          "text": [
            "\n",
            "      Epoch    GPU_mem       loss  Instances       Size\n"
          ]
        },
        {
          "output_type": "stream",
          "name": "stderr",
          "text": [
            "     93/100      2.42G   0.006283         12        320: 100%|██████████| 27/27 [00:03<00:00,  7.45it/s]\n",
            "               classes   top1_acc   top5_acc: 100%|██████████| 2/2 [00:00<00:00, 16.84it/s]"
          ]
        },
        {
          "output_type": "stream",
          "name": "stdout",
          "text": [
            "                   all      0.654          1\n"
          ]
        },
        {
          "output_type": "stream",
          "name": "stderr",
          "text": [
            "\n"
          ]
        },
        {
          "output_type": "stream",
          "name": "stdout",
          "text": [
            "\n",
            "      Epoch    GPU_mem       loss  Instances       Size\n"
          ]
        },
        {
          "output_type": "stream",
          "name": "stderr",
          "text": [
            "     94/100      2.42G    0.01236         12        320: 100%|██████████| 27/27 [00:04<00:00,  5.96it/s]\n",
            "               classes   top1_acc   top5_acc: 100%|██████████| 2/2 [00:00<00:00, 12.34it/s]"
          ]
        },
        {
          "output_type": "stream",
          "name": "stdout",
          "text": [
            "                   all      0.654          1\n"
          ]
        },
        {
          "output_type": "stream",
          "name": "stderr",
          "text": [
            "\n"
          ]
        },
        {
          "output_type": "stream",
          "name": "stdout",
          "text": [
            "\n",
            "      Epoch    GPU_mem       loss  Instances       Size\n"
          ]
        },
        {
          "output_type": "stream",
          "name": "stderr",
          "text": [
            "     95/100      2.42G    0.00768         12        320: 100%|██████████| 27/27 [00:03<00:00,  7.70it/s]\n",
            "               classes   top1_acc   top5_acc: 100%|██████████| 2/2 [00:00<00:00, 20.37it/s]"
          ]
        },
        {
          "output_type": "stream",
          "name": "stdout",
          "text": [
            "                   all      0.692          1\n"
          ]
        },
        {
          "output_type": "stream",
          "name": "stderr",
          "text": [
            "\n"
          ]
        },
        {
          "output_type": "stream",
          "name": "stdout",
          "text": [
            "\n",
            "      Epoch    GPU_mem       loss  Instances       Size\n"
          ]
        },
        {
          "output_type": "stream",
          "name": "stderr",
          "text": [
            "     96/100      2.42G   0.003583         12        320: 100%|██████████| 27/27 [00:03<00:00,  7.64it/s]\n",
            "               classes   top1_acc   top5_acc: 100%|██████████| 2/2 [00:00<00:00, 22.19it/s]"
          ]
        },
        {
          "output_type": "stream",
          "name": "stdout",
          "text": [
            "                   all      0.673          1\n"
          ]
        },
        {
          "output_type": "stream",
          "name": "stderr",
          "text": [
            "\n"
          ]
        },
        {
          "output_type": "stream",
          "name": "stdout",
          "text": [
            "\n",
            "      Epoch    GPU_mem       loss  Instances       Size\n"
          ]
        },
        {
          "output_type": "stream",
          "name": "stderr",
          "text": [
            "     97/100      2.42G    0.01839         12        320: 100%|██████████| 27/27 [00:04<00:00,  5.80it/s]\n",
            "               classes   top1_acc   top5_acc: 100%|██████████| 2/2 [00:00<00:00, 17.37it/s]"
          ]
        },
        {
          "output_type": "stream",
          "name": "stdout",
          "text": [
            "                   all      0.692          1\n"
          ]
        },
        {
          "output_type": "stream",
          "name": "stderr",
          "text": [
            "\n"
          ]
        },
        {
          "output_type": "stream",
          "name": "stdout",
          "text": [
            "\n",
            "      Epoch    GPU_mem       loss  Instances       Size\n"
          ]
        },
        {
          "output_type": "stream",
          "name": "stderr",
          "text": [
            "     98/100      2.42G   0.009493         12        320: 100%|██████████| 27/27 [00:03<00:00,  7.77it/s]\n",
            "               classes   top1_acc   top5_acc: 100%|██████████| 2/2 [00:00<00:00, 20.55it/s]"
          ]
        },
        {
          "output_type": "stream",
          "name": "stdout",
          "text": [
            "                   all      0.673          1\n"
          ]
        },
        {
          "output_type": "stream",
          "name": "stderr",
          "text": [
            "\n"
          ]
        },
        {
          "output_type": "stream",
          "name": "stdout",
          "text": [
            "\n",
            "      Epoch    GPU_mem       loss  Instances       Size\n"
          ]
        },
        {
          "output_type": "stream",
          "name": "stderr",
          "text": [
            "     99/100      2.42G     0.0133         12        320: 100%|██████████| 27/27 [00:03<00:00,  7.11it/s]\n",
            "               classes   top1_acc   top5_acc: 100%|██████████| 2/2 [00:00<00:00, 15.16it/s]"
          ]
        },
        {
          "output_type": "stream",
          "name": "stdout",
          "text": [
            "                   all      0.692          1\n"
          ]
        },
        {
          "output_type": "stream",
          "name": "stderr",
          "text": [
            "\n"
          ]
        },
        {
          "output_type": "stream",
          "name": "stdout",
          "text": [
            "\n",
            "      Epoch    GPU_mem       loss  Instances       Size\n"
          ]
        },
        {
          "output_type": "stream",
          "name": "stderr",
          "text": [
            "    100/100      2.42G   0.003756         12        320: 100%|██████████| 27/27 [00:04<00:00,  6.50it/s]\n",
            "               classes   top1_acc   top5_acc: 100%|██████████| 2/2 [00:00<00:00, 25.37it/s]"
          ]
        },
        {
          "output_type": "stream",
          "name": "stdout",
          "text": [
            "                   all      0.712          1\n"
          ]
        },
        {
          "output_type": "stream",
          "name": "stderr",
          "text": [
            "\n"
          ]
        },
        {
          "output_type": "stream",
          "name": "stdout",
          "text": [
            "\n",
            "100 epochs completed in 0.136 hours.\n",
            "Optimizer stripped from runs/classify/train4/weights/last.pt, 31.7MB\n",
            "Optimizer stripped from runs/classify/train4/weights/best.pt, 31.7MB\n",
            "\n",
            "Validating runs/classify/train4/weights/best.pt...\n",
            "Ultralytics 8.3.135 🚀 Python-3.11.12 torch-2.6.0+cu124 CUDA:0 (Tesla T4, 15095MiB)\n",
            "YOLOv8m-cls summary (fused): 42 layers, 15,766,499 parameters, 0 gradients, 41.6 GFLOPs\n",
            "\u001b[34m\u001b[1mtrain:\u001b[0m /content/dataset/train... found 428 images in 3 classes ✅ \n",
            "\u001b[34m\u001b[1mval:\u001b[0m /content/dataset/val... found 52 images in 3 classes ✅ \n",
            "\u001b[34m\u001b[1mtest:\u001b[0m /content/dataset/test... found 56 images in 3 classes ✅ \n"
          ]
        },
        {
          "output_type": "stream",
          "name": "stderr",
          "text": [
            "\r               classes   top1_acc   top5_acc:   0%|          | 0/2 [00:00<?, ?it/s]"
          ]
        },
        {
          "output_type": "stream",
          "name": "stdout",
          "text": [
            "WARNING ⚠️ ClassificationModel does not support 'augment=True' prediction. Reverting to single-scale prediction.\n",
            "WARNING ⚠️ ClassificationModel does not support 'augment=True' prediction. Reverting to single-scale prediction.\n"
          ]
        },
        {
          "output_type": "stream",
          "name": "stderr",
          "text": [
            "               classes   top1_acc   top5_acc: 100%|██████████| 2/2 [00:00<00:00, 15.19it/s]\n"
          ]
        },
        {
          "output_type": "stream",
          "name": "stdout",
          "text": [
            "                   all      0.731          1\n",
            "Speed: 0.1ms preprocess, 1.3ms inference, 0.0ms loss, 0.0ms postprocess per image\n",
            "Results saved to \u001b[1mruns/classify/train4\u001b[0m\n"
          ]
        },
        {
          "output_type": "execute_result",
          "data": {
            "text/plain": [
              "ultralytics.utils.metrics.ClassifyMetrics object with attributes:\n",
              "\n",
              "confusion_matrix: <ultralytics.utils.metrics.ConfusionMatrix object at 0x7846e6da4710>\n",
              "curves: []\n",
              "curves_results: []\n",
              "fitness: 0.8653846085071564\n",
              "keys: ['metrics/accuracy_top1', 'metrics/accuracy_top5']\n",
              "results_dict: {'metrics/accuracy_top1': 0.7307692170143127, 'metrics/accuracy_top5': 1.0, 'fitness': 0.8653846085071564}\n",
              "save_dir: PosixPath('runs/classify/train4')\n",
              "speed: {'preprocess': 0.13501686539012342, 'inference': 1.2855666346135526, 'loss': 0.0004250192310232356, 'postprocess': 0.0008164230743764515}\n",
              "task: 'classify'\n",
              "top1: 0.7307692170143127\n",
              "top5: 1.0"
            ]
          },
          "metadata": {},
          "execution_count": 15
        }
      ]
    },
    {
      "cell_type": "code",
      "source": [
        "metrics = model.val(data='/content/dataset')\n",
        "print(metrics)"
      ],
      "metadata": {
        "colab": {
          "base_uri": "https://localhost:8080/"
        },
        "id": "aZ7IUUeOcDAs",
        "outputId": "3c85ab3e-a4ef-42d1-c559-2e55f8b3e828"
      },
      "execution_count": 16,
      "outputs": [
        {
          "output_type": "stream",
          "name": "stdout",
          "text": [
            "Ultralytics 8.3.135 🚀 Python-3.11.12 torch-2.6.0+cu124 CUDA:0 (Tesla T4, 15095MiB)\n",
            "YOLOv8m-cls summary (fused): 42 layers, 15,766,499 parameters, 0 gradients, 41.6 GFLOPs\n",
            "\u001b[34m\u001b[1mtrain:\u001b[0m /content/dataset/train... found 428 images in 3 classes ✅ \n",
            "\u001b[34m\u001b[1mval:\u001b[0m /content/dataset/val... found 52 images in 3 classes ✅ \n",
            "\u001b[34m\u001b[1mtest:\u001b[0m /content/dataset/test... found 56 images in 3 classes ✅ \n",
            "\u001b[34m\u001b[1mval: \u001b[0mFast image access ✅ (ping: 0.0±0.0 ms, read: 370.6±376.4 MB/s, size: 14.8 KB)\n"
          ]
        },
        {
          "output_type": "stream",
          "name": "stderr",
          "text": [
            "\u001b[34m\u001b[1mval: \u001b[0mScanning /content/dataset/val... 52 images, 0 corrupt: 100%|██████████| 52/52 [00:00<?, ?it/s]\n",
            "               classes   top1_acc   top5_acc:   0%|          | 0/4 [00:00<?, ?it/s]"
          ]
        },
        {
          "output_type": "stream",
          "name": "stdout",
          "text": [
            "WARNING ⚠️ ClassificationModel does not support 'augment=True' prediction. Reverting to single-scale prediction.\n"
          ]
        },
        {
          "output_type": "stream",
          "name": "stderr",
          "text": [
            "\r               classes   top1_acc   top5_acc:  25%|██▌       | 1/4 [00:00<00:01,  2.11it/s]"
          ]
        },
        {
          "output_type": "stream",
          "name": "stdout",
          "text": [
            "WARNING ⚠️ ClassificationModel does not support 'augment=True' prediction. Reverting to single-scale prediction.\n"
          ]
        },
        {
          "output_type": "stream",
          "name": "stderr",
          "text": [
            "\r               classes   top1_acc   top5_acc:  50%|█████     | 2/4 [00:00<00:00,  2.82it/s]"
          ]
        },
        {
          "output_type": "stream",
          "name": "stdout",
          "text": [
            "WARNING ⚠️ ClassificationModel does not support 'augment=True' prediction. Reverting to single-scale prediction.\n"
          ]
        },
        {
          "output_type": "stream",
          "name": "stderr",
          "text": [
            "\r               classes   top1_acc   top5_acc:  75%|███████▌  | 3/4 [00:01<00:00,  2.83it/s]"
          ]
        },
        {
          "output_type": "stream",
          "name": "stdout",
          "text": [
            "WARNING ⚠️ ClassificationModel does not support 'augment=True' prediction. Reverting to single-scale prediction.\n"
          ]
        },
        {
          "output_type": "stream",
          "name": "stderr",
          "text": [
            "               classes   top1_acc   top5_acc: 100%|██████████| 4/4 [00:01<00:00,  2.75it/s]\n"
          ]
        },
        {
          "output_type": "stream",
          "name": "stdout",
          "text": [
            "                   all      0.731          1\n",
            "Speed: 5.5ms preprocess, 9.2ms inference, 0.1ms loss, 0.0ms postprocess per image\n",
            "Results saved to \u001b[1mruns/classify/train42\u001b[0m\n",
            "ultralytics.utils.metrics.ClassifyMetrics object with attributes:\n",
            "\n",
            "confusion_matrix: <ultralytics.utils.metrics.ConfusionMatrix object at 0x7846e6ef6f50>\n",
            "curves: []\n",
            "curves_results: []\n",
            "fitness: 0.8653846085071564\n",
            "keys: ['metrics/accuracy_top1', 'metrics/accuracy_top5']\n",
            "results_dict: {'metrics/accuracy_top1': 0.7307692170143127, 'metrics/accuracy_top5': 1.0, 'fitness': 0.8653846085071564}\n",
            "save_dir: PosixPath('runs/classify/train42')\n",
            "speed: {'preprocess': 5.452685019227269, 'inference': 9.213820461529675, 'loss': 0.06976863462044164, 'postprocess': 0.0027116153922599135}\n",
            "task: 'classify'\n",
            "top1: 0.7307692170143127\n",
            "top5: 1.0\n"
          ]
        }
      ]
    },
    {
      "cell_type": "code",
      "source": [
        "\n",
        "# Ambil semua gambar dari folder test\n",
        "test_images = list(Path('/content/dataset/test').rglob('*.jpg'))\n",
        "\n",
        "# Ambil kelas dari model\n",
        "classes_dict = model.names\n",
        "classes = [classes_dict[i] for i in range(len(classes_dict))]  # Ubah ke list ['noncaries', 'caries_media', ...]\n",
        "\n",
        "num_classes = len(classes)\n",
        "\n",
        "# Prediksi semua gambar\n",
        "y_true = []\n",
        "y_score = []\n",
        "\n",
        "for img_path in test_images:\n",
        "    label = img_path.parent.name\n",
        "    label_idx = classes.index(label)\n",
        "\n",
        "    result = model(img_path, verbose=False)[0]\n",
        "    probs = result.probs.data.cpu().numpy()\n",
        "\n",
        "    y_true.append(label_idx)\n",
        "    y_score.append(probs)\n",
        "\n",
        "# One-hot encoding dan AUC\n",
        "y_true = label_binarize(y_true, classes=list(range(num_classes)))\n",
        "y_score = np.array(y_score)\n",
        "\n",
        "fpr, tpr, roc_auc = {}, {}, {}\n",
        "for i in range(num_classes):\n",
        "    fpr[i], tpr[i], _ = roc_curve(y_true[:, i], y_score[:, i])\n",
        "    roc_auc[i] = auc(fpr[i], tpr[i])\n",
        "\n",
        "# Plot grafik\n",
        "plt.figure(figsize=(8, 6))\n",
        "for i in range(num_classes):\n",
        "    plt.plot(fpr[i], tpr[i], label=f'{classes[i]} (AUC = {roc_auc[i]:.2f})')\n",
        "\n",
        "plt.plot([0, 1], [0, 1], 'k--', label='Random')\n",
        "plt.xlabel('False Positive Rate')\n",
        "plt.ylabel('True Positive Rate')\n",
        "plt.title('ROC Curve for Each Class')\n",
        "plt.legend(loc='lower right')\n",
        "plt.grid()\n",
        "plt.show()"
      ],
      "metadata": {
        "colab": {
          "base_uri": "https://localhost:8080/",
          "height": 1000
        },
        "id": "VEp6NxZmcIwT",
        "outputId": "5120a35e-ff95-45bb-e6f2-896c5b763c93"
      },
      "execution_count": 17,
      "outputs": [
        {
          "output_type": "stream",
          "name": "stdout",
          "text": [
            "WARNING ⚠️ ClassificationModel does not support 'augment=True' prediction. Reverting to single-scale prediction.\n",
            "WARNING ⚠️ ClassificationModel does not support 'augment=True' prediction. Reverting to single-scale prediction.\n",
            "WARNING ⚠️ ClassificationModel does not support 'augment=True' prediction. Reverting to single-scale prediction.\n",
            "WARNING ⚠️ ClassificationModel does not support 'augment=True' prediction. Reverting to single-scale prediction.\n",
            "WARNING ⚠️ ClassificationModel does not support 'augment=True' prediction. Reverting to single-scale prediction.\n",
            "WARNING ⚠️ ClassificationModel does not support 'augment=True' prediction. Reverting to single-scale prediction.\n",
            "WARNING ⚠️ ClassificationModel does not support 'augment=True' prediction. Reverting to single-scale prediction.\n",
            "WARNING ⚠️ ClassificationModel does not support 'augment=True' prediction. Reverting to single-scale prediction.\n",
            "WARNING ⚠️ ClassificationModel does not support 'augment=True' prediction. Reverting to single-scale prediction.\n",
            "WARNING ⚠️ ClassificationModel does not support 'augment=True' prediction. Reverting to single-scale prediction.\n",
            "WARNING ⚠️ ClassificationModel does not support 'augment=True' prediction. Reverting to single-scale prediction.\n",
            "WARNING ⚠️ ClassificationModel does not support 'augment=True' prediction. Reverting to single-scale prediction.\n",
            "WARNING ⚠️ ClassificationModel does not support 'augment=True' prediction. Reverting to single-scale prediction.\n",
            "WARNING ⚠️ ClassificationModel does not support 'augment=True' prediction. Reverting to single-scale prediction.\n",
            "WARNING ⚠️ ClassificationModel does not support 'augment=True' prediction. Reverting to single-scale prediction.\n",
            "WARNING ⚠️ ClassificationModel does not support 'augment=True' prediction. Reverting to single-scale prediction.\n",
            "WARNING ⚠️ ClassificationModel does not support 'augment=True' prediction. Reverting to single-scale prediction.\n",
            "WARNING ⚠️ ClassificationModel does not support 'augment=True' prediction. Reverting to single-scale prediction.\n",
            "WARNING ⚠️ ClassificationModel does not support 'augment=True' prediction. Reverting to single-scale prediction.\n",
            "WARNING ⚠️ ClassificationModel does not support 'augment=True' prediction. Reverting to single-scale prediction.\n",
            "WARNING ⚠️ ClassificationModel does not support 'augment=True' prediction. Reverting to single-scale prediction.\n",
            "WARNING ⚠️ ClassificationModel does not support 'augment=True' prediction. Reverting to single-scale prediction.\n",
            "WARNING ⚠️ ClassificationModel does not support 'augment=True' prediction. Reverting to single-scale prediction.\n",
            "WARNING ⚠️ ClassificationModel does not support 'augment=True' prediction. Reverting to single-scale prediction.\n",
            "WARNING ⚠️ ClassificationModel does not support 'augment=True' prediction. Reverting to single-scale prediction.\n",
            "WARNING ⚠️ ClassificationModel does not support 'augment=True' prediction. Reverting to single-scale prediction.\n",
            "WARNING ⚠️ ClassificationModel does not support 'augment=True' prediction. Reverting to single-scale prediction.\n",
            "WARNING ⚠️ ClassificationModel does not support 'augment=True' prediction. Reverting to single-scale prediction.\n",
            "WARNING ⚠️ ClassificationModel does not support 'augment=True' prediction. Reverting to single-scale prediction.\n",
            "WARNING ⚠️ ClassificationModel does not support 'augment=True' prediction. Reverting to single-scale prediction.\n",
            "WARNING ⚠️ ClassificationModel does not support 'augment=True' prediction. Reverting to single-scale prediction.\n",
            "WARNING ⚠️ ClassificationModel does not support 'augment=True' prediction. Reverting to single-scale prediction.\n",
            "WARNING ⚠️ ClassificationModel does not support 'augment=True' prediction. Reverting to single-scale prediction.\n",
            "WARNING ⚠️ ClassificationModel does not support 'augment=True' prediction. Reverting to single-scale prediction.\n",
            "WARNING ⚠️ ClassificationModel does not support 'augment=True' prediction. Reverting to single-scale prediction.\n",
            "WARNING ⚠️ ClassificationModel does not support 'augment=True' prediction. Reverting to single-scale prediction.\n",
            "WARNING ⚠️ ClassificationModel does not support 'augment=True' prediction. Reverting to single-scale prediction.\n",
            "WARNING ⚠️ ClassificationModel does not support 'augment=True' prediction. Reverting to single-scale prediction.\n",
            "WARNING ⚠️ ClassificationModel does not support 'augment=True' prediction. Reverting to single-scale prediction.\n",
            "WARNING ⚠️ ClassificationModel does not support 'augment=True' prediction. Reverting to single-scale prediction.\n",
            "WARNING ⚠️ ClassificationModel does not support 'augment=True' prediction. Reverting to single-scale prediction.\n",
            "WARNING ⚠️ ClassificationModel does not support 'augment=True' prediction. Reverting to single-scale prediction.\n",
            "WARNING ⚠️ ClassificationModel does not support 'augment=True' prediction. Reverting to single-scale prediction.\n",
            "WARNING ⚠️ ClassificationModel does not support 'augment=True' prediction. Reverting to single-scale prediction.\n",
            "WARNING ⚠️ ClassificationModel does not support 'augment=True' prediction. Reverting to single-scale prediction.\n",
            "WARNING ⚠️ ClassificationModel does not support 'augment=True' prediction. Reverting to single-scale prediction.\n",
            "WARNING ⚠️ ClassificationModel does not support 'augment=True' prediction. Reverting to single-scale prediction.\n",
            "WARNING ⚠️ ClassificationModel does not support 'augment=True' prediction. Reverting to single-scale prediction.\n",
            "WARNING ⚠️ ClassificationModel does not support 'augment=True' prediction. Reverting to single-scale prediction.\n",
            "WARNING ⚠️ ClassificationModel does not support 'augment=True' prediction. Reverting to single-scale prediction.\n",
            "WARNING ⚠️ ClassificationModel does not support 'augment=True' prediction. Reverting to single-scale prediction.\n",
            "WARNING ⚠️ ClassificationModel does not support 'augment=True' prediction. Reverting to single-scale prediction.\n",
            "WARNING ⚠️ ClassificationModel does not support 'augment=True' prediction. Reverting to single-scale prediction.\n",
            "WARNING ⚠️ ClassificationModel does not support 'augment=True' prediction. Reverting to single-scale prediction.\n",
            "WARNING ⚠️ ClassificationModel does not support 'augment=True' prediction. Reverting to single-scale prediction.\n",
            "WARNING ⚠️ ClassificationModel does not support 'augment=True' prediction. Reverting to single-scale prediction.\n"
          ]
        },
        {
          "output_type": "display_data",
          "data": {
            "text/plain": [
              "<Figure size 800x600 with 1 Axes>"
            ],
            "image/png": "[encoded data removed]"
          },
          "metadata": {}
        }
      ]
    },
    {
      "cell_type": "code",
      "source": [
        "from pathlib import Path\n",
        "import numpy as np\n",
        "from sklearn.metrics import roc_curve, auc\n",
        "import matplotlib.pyplot as plt\n",
        "from sklearn.preprocessing import label_binarize\n",
        "\n",
        "# Ambil semua gambar dari folder test\n",
        "test_images = list(Path('/content/dataset/test').rglob('*.jpg'))\n",
        "\n",
        "# Ambil kelas dari model\n",
        "classes_dict = model.names\n",
        "classes = [classes_dict[i] for i in range(len(classes_dict))]\n",
        "\n",
        "num_classes = len(classes)\n",
        "\n",
        "# Simpan label ground truth dan prediksi probabilitas\n",
        "y_true = []\n",
        "y_score = []\n",
        "\n",
        "for img_path in test_images:\n",
        "    label = img_path.parent.name\n",
        "    label_idx = classes.index(label)\n",
        "    y_true.append(label_idx)\n",
        "\n",
        "    # Prediksi menggunakan model\n",
        "    result = model(img_path, verbose=False)[0]\n",
        "    probs = result.probs.data.tolist()  # Probabilitas prediksi\n",
        "    y_score.append(probs)\n",
        "\n",
        "# Binarisasi label\n",
        "y_true_bin = label_binarize(y_true, classes=list(range(num_classes)))  # shape (n_samples, n_classes)\n",
        "y_score = np.array(y_score)\n",
        "\n",
        "# Plot ROC untuk setiap kelas\n",
        "plt.figure(figsize=(8, 6))\n",
        "for i in range(num_classes):\n",
        "    fpr, tpr, _ = roc_curve(y_true_bin[:, i], y_score[:, i])\n",
        "    roc_auc = auc(fpr, tpr)\n",
        "    plt.plot(fpr, tpr, lw=2, label=f'ROC class {classes[i]} (AUC = {roc_auc:.2f})')\n",
        "\n",
        "plt.plot([0, 1], [0, 1], 'k--', lw=1)\n",
        "plt.xlim([0.0, 1.0])\n",
        "plt.ylim([0.0, 1.05])\n",
        "plt.xlabel('False Positive Rate')\n",
        "plt.ylabel('True Positive Rate')\n",
        "plt.title('ROC Curve - Multi-Class (1-vs-1)')\n",
        "plt.legend(loc=\"lower right\")\n",
        "plt.grid(True)\n",
        "plt.show()"
      ],
      "metadata": {
        "colab": {
          "base_uri": "https://localhost:8080/",
          "height": 1000
        },
        "id": "WN-zLvArcMhs",
        "outputId": "703ddb0d-33f2-4505-dab4-f2f7f570661e"
      },
      "execution_count": 18,
      "outputs": [
        {
          "output_type": "stream",
          "name": "stdout",
          "text": [
            "WARNING ⚠️ ClassificationModel does not support 'augment=True' prediction. Reverting to single-scale prediction.\n",
            "WARNING ⚠️ ClassificationModel does not support 'augment=True' prediction. Reverting to single-scale prediction.\n",
            "WARNING ⚠️ ClassificationModel does not support 'augment=True' prediction. Reverting to single-scale prediction.\n",
            "WARNING ⚠️ ClassificationModel does not support 'augment=True' prediction. Reverting to single-scale prediction.\n",
            "WARNING ⚠️ ClassificationModel does not support 'augment=True' prediction. Reverting to single-scale prediction.\n",
            "WARNING ⚠️ ClassificationModel does not support 'augment=True' prediction. Reverting to single-scale prediction.\n",
            "WARNING ⚠️ ClassificationModel does not support 'augment=True' prediction. Reverting to single-scale prediction.\n",
            "WARNING ⚠️ ClassificationModel does not support 'augment=True' prediction. Reverting to single-scale prediction.\n",
            "WARNING ⚠️ ClassificationModel does not support 'augment=True' prediction. Reverting to single-scale prediction.\n",
            "WARNING ⚠️ ClassificationModel does not support 'augment=True' prediction. Reverting to single-scale prediction.\n",
            "WARNING ⚠️ ClassificationModel does not support 'augment=True' prediction. Reverting to single-scale prediction.\n",
            "WARNING ⚠️ ClassificationModel does not support 'augment=True' prediction. Reverting to single-scale prediction.\n",
            "WARNING ⚠️ ClassificationModel does not support 'augment=True' prediction. Reverting to single-scale prediction.\n",
            "WARNING ⚠️ ClassificationModel does not support 'augment=True' prediction. Reverting to single-scale prediction.\n",
            "WARNING ⚠️ ClassificationModel does not support 'augment=True' prediction. Reverting to single-scale prediction.\n",
            "WARNING ⚠️ ClassificationModel does not support 'augment=True' prediction. Reverting to single-scale prediction.\n",
            "WARNING ⚠️ ClassificationModel does not support 'augment=True' prediction. Reverting to single-scale prediction.\n",
            "WARNING ⚠️ ClassificationModel does not support 'augment=True' prediction. Reverting to single-scale prediction.\n",
            "WARNING ⚠️ ClassificationModel does not support 'augment=True' prediction. Reverting to single-scale prediction.\n",
            "WARNING ⚠️ ClassificationModel does not support 'augment=True' prediction. Reverting to single-scale prediction.\n",
            "WARNING ⚠️ ClassificationModel does not support 'augment=True' prediction. Reverting to single-scale prediction.\n",
            "WARNING ⚠️ ClassificationModel does not support 'augment=True' prediction. Reverting to single-scale prediction.\n",
            "WARNING ⚠️ ClassificationModel does not support 'augment=True' prediction. Reverting to single-scale prediction.\n",
            "WARNING ⚠️ ClassificationModel does not support 'augment=True' prediction. Reverting to single-scale prediction.\n",
            "WARNING ⚠️ ClassificationModel does not support 'augment=True' prediction. Reverting to single-scale prediction.\n",
            "WARNING ⚠️ ClassificationModel does not support 'augment=True' prediction. Reverting to single-scale prediction.\n",
            "WARNING ⚠️ ClassificationModel does not support 'augment=True' prediction. Reverting to single-scale prediction.\n",
            "WARNING ⚠️ ClassificationModel does not support 'augment=True' prediction. Reverting to single-scale prediction.\n",
            "WARNING ⚠️ ClassificationModel does not support 'augment=True' prediction. Reverting to single-scale prediction.\n",
            "WARNING ⚠️ ClassificationModel does not support 'augment=True' prediction. Reverting to single-scale prediction.\n",
            "WARNING ⚠️ ClassificationModel does not support 'augment=True' prediction. Reverting to single-scale prediction.\n",
            "WARNING ⚠️ ClassificationModel does not support 'augment=True' prediction. Reverting to single-scale prediction.\n",
            "WARNING ⚠️ ClassificationModel does not support 'augment=True' prediction. Reverting to single-scale prediction.\n",
            "WARNING ⚠️ ClassificationModel does not support 'augment=True' prediction. Reverting to single-scale prediction.\n",
            "WARNING ⚠️ ClassificationModel does not support 'augment=True' prediction. Reverting to single-scale prediction.\n",
            "WARNING ⚠️ ClassificationModel does not support 'augment=True' prediction. Reverting to single-scale prediction.\n",
            "WARNING ⚠️ ClassificationModel does not support 'augment=True' prediction. Reverting to single-scale prediction.\n",
            "WARNING ⚠️ ClassificationModel does not support 'augment=True' prediction. Reverting to single-scale prediction.\n",
            "WARNING ⚠️ ClassificationModel does not support 'augment=True' prediction. Reverting to single-scale prediction.\n",
            "WARNING ⚠️ ClassificationModel does not support 'augment=True' prediction. Reverting to single-scale prediction.\n",
            "WARNING ⚠️ ClassificationModel does not support 'augment=True' prediction. Reverting to single-scale prediction.\n",
            "WARNING ⚠️ ClassificationModel does not support 'augment=True' prediction. Reverting to single-scale prediction.\n",
            "WARNING ⚠️ ClassificationModel does not support 'augment=True' prediction. Reverting to single-scale prediction.\n",
            "WARNING ⚠️ ClassificationModel does not support 'augment=True' prediction. Reverting to single-scale prediction.\n",
            "WARNING ⚠️ ClassificationModel does not support 'augment=True' prediction. Reverting to single-scale prediction.\n",
            "WARNING ⚠️ ClassificationModel does not support 'augment=True' prediction. Reverting to single-scale prediction.\n",
            "WARNING ⚠️ ClassificationModel does not support 'augment=True' prediction. Reverting to single-scale prediction.\n",
            "WARNING ⚠️ ClassificationModel does not support 'augment=True' prediction. Reverting to single-scale prediction.\n",
            "WARNING ⚠️ ClassificationModel does not support 'augment=True' prediction. Reverting to single-scale prediction.\n",
            "WARNING ⚠️ ClassificationModel does not support 'augment=True' prediction. Reverting to single-scale prediction.\n",
            "WARNING ⚠️ ClassificationModel does not support 'augment=True' prediction. Reverting to single-scale prediction.\n",
            "WARNING ⚠️ ClassificationModel does not support 'augment=True' prediction. Reverting to single-scale prediction.\n",
            "WARNING ⚠️ ClassificationModel does not support 'augment=True' prediction. Reverting to single-scale prediction.\n",
            "WARNING ⚠️ ClassificationModel does not support 'augment=True' prediction. Reverting to single-scale prediction.\n",
            "WARNING ⚠️ ClassificationModel does not support 'augment=True' prediction. Reverting to single-scale prediction.\n",
            "WARNING ⚠️ ClassificationModel does not support 'augment=True' prediction. Reverting to single-scale prediction.\n"
          ]
        },
        {
          "output_type": "display_data",
          "data": {
            "text/plain": [
              "<Figure size 800x600 with 1 Axes>"
            ],
            "image/png": "[encoded data removed]"
          },
          "metadata": {}
        }
      ]
    },
    {
      "cell_type": "code",
      "source": [
        "import shutil\n",
        "\n",
        "folder_path = \"/content/runs\"\n",
        "zip_path = \"/content/runs.zip\"\n",
        "\n",
        "shutil.make_archive(zip_path.replace(\".zip\", \"\"), 'zip', folder_path)\n",
        "\n",
        "from google.colab import files\n",
        "files.download(zip_path)"
      ],
      "metadata": {
        "colab": {
          "base_uri": "https://localhost:8080/",
          "height": 17
        },
        "id": "RCMiDUeheH4i",
        "outputId": "b719b57a-32d7-42c7-9b5d-12fab7709048"
      },
      "execution_count": 19,
      "outputs": [
        {
          "output_type": "display_data",
          "data": {
            "text/plain": [
              "<IPython.core.display.Javascript object>"
            ],
            "application/javascript": [
              "\n",
              "    async function download(id, filename, size) {\n",
              "      if (!google.colab.kernel.accessAllowed) {\n",
              "        return;\n",
              "      }\n",
              "      const div = document.createElement('div');\n",
              "      const label = document.createElement('label');\n",
              "      label.textContent = `Downloading \"${filename}\": `;\n",
              "      div.appendChild(label);\n",
              "      const progress = document.createElement('progress');\n",
              "      progress.max = size;\n",
              "      div.appendChild(progress);\n",
              "      document.body.appendChild(div);\n",
              "\n",
              "      const buffers = [];\n",
              "      let downloaded = 0;\n",
              "\n",
              "      const channel = await google.colab.kernel.comms.open(id);\n",
              "      // Send a message to notify the kernel that we're ready.\n",
              "      channel.send({})\n",
              "\n",
              "      for await (const message of channel.messages) {\n",
              "        // Send a message to notify the kernel that we're ready.\n",
              "        channel.send({})\n",
              "        if (message.buffers) {\n",
              "          for (const buffer of message.buffers) {\n",
              "            buffers.push(buffer);\n",
              "            downloaded += buffer.byteLength;\n",
              "            progress.value = downloaded;\n",
              "          }\n",
              "        }\n",
              "      }\n",
              "      const blob = new Blob(buffers, {type: 'application/binary'});\n",
              "      const a = document.createElement('a');\n",
              "      a.href = window.URL.createObjectURL(blob);\n",
              "      a.download = filename;\n",
              "      div.appendChild(a);\n",
              "      a.click();\n",
              "      div.remove();\n",
              "    }\n",
              "  "
            ]
          },
          "metadata": {}
        },
        {
          "output_type": "display_data",
          "data": {
            "text/plain": [
              "<IPython.core.display.Javascript object>"
            ],
            "application/javascript": [
              "download(\"download_1cd2d43e-3333-4c28-a470-cf334fb8ac68\", \"runs.zip\", 93397075)"
            ]
          },
          "metadata": {}
        }
      ]
    },
    {
      "cell_type": "code",
      "source": [],
      "metadata": {
        "id": "be4y5PdqergV"
      },
      "execution_count": null,
      "outputs": []
    }
  ]
}