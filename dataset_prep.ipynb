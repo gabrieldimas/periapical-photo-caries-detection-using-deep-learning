{
  "nbformat": 4,
  "nbformat_minor": 0,
  "metadata": {
    "colab": {
      "provenance": [],
      "authorship_tag": "ABX9TyP8BtEI8WbG+5LTLpSpdrqP",
      "include_colab_link": true
    },
    "kernelspec": {
      "name": "python3",
      "display_name": "Python 3"
    },
    "language_info": {
      "name": "python"
    }
  },
  "cells": [
    {
      "cell_type": "markdown",
      "metadata": {
        "id": "view-in-github",
        "colab_type": "text"
      },
      "source": [
        "<a href=\"https://colab.research.google.com/github/gabrieldimas/periapical-photo-caries-detection-using-deep-learning/blob/main/dataset_prep.ipynb\" target=\"_parent\"><img src=\"https://colab.research.google.com/assets/colab-badge.svg\" alt=\"Open In Colab\"/></a>"
      ]
    },
    {
      "cell_type": "code",
      "execution_count": 1,
      "metadata": {
        "colab": {
          "base_uri": "https://localhost:8080/"
        },
        "id": "NQ8P2M-ZrnSV",
        "outputId": "ca6112b6-ad64-47cd-c907-39b1ef5520c9"
      },
      "outputs": [
        {
          "output_type": "stream",
          "name": "stdout",
          "text": [
            "File berhasil diekstrak ke: /content/dataset\n"
          ]
        }
      ],
      "source": [
        "import zipfile\n",
        "import os\n",
        "\n",
        "zip_path = \"/content/segmented_teeth_v5_test1.zip\"\n",
        "extract_to = \"/content/dataset\"\n",
        "\n",
        "os.makedirs(extract_to, exist_ok=True)\n",
        "with zipfile.ZipFile(zip_path, 'r') as zip_ref:\n",
        "    zip_ref.extractall(extract_to)\n",
        "\n",
        "print(f\"File berhasil diekstrak ke: {extract_to}\")"
      ]
    },
    {
      "cell_type": "code",
      "source": [
        "import os\n",
        "import shutil\n",
        "import random\n",
        "from pathlib import Path\n",
        "\n",
        "# Path awal\n",
        "base_path = Path(\"/content/dataset/segmented_teeth_v5_test1\")\n",
        "source_noncaries = base_path / \"/content/dataset/segmented_teeth_v5_test1\"\n",
        "noncaries_path = base_path / \"/content/dataset/segmented_teeth_v5_test1/noncaries\"\n",
        "\n",
        "# Buat folder noncaries jika belum ada\n",
        "noncaries_path.mkdir(parents=True, exist_ok=True)\n",
        "\n",
        "# Step 1: Pindahkan 200 gambar acak dari source_noncaries ke noncaries\n",
        "all_noncaries_images = list(source_noncaries.glob(\"*\"))\n",
        "selected_images = random.sample(all_noncaries_images, 200)\n",
        "\n",
        "for img_path in selected_images:\n",
        "    shutil.move(str(img_path), str(noncaries_path / img_path.name))\n",
        "\n",
        "print(f\"✅ Dipindahkan {len(selected_images)} gambar ke folder noncaries.\")\n",
        "\n",
        "# Step 2: Bagi semua kategori ke dalam train/val/test\n",
        "output_base = Path(\"/content/split_dataset\")\n",
        "splits = [\"train\", \"val\", \"test\"]\n",
        "categories = [\"caries_media\", \"caries_profunda\", \"noncaries\"]\n",
        "ratios = [0.8, 0.1, 0.1]  # 80%, 10%, 10%\n",
        "\n",
        "for category in categories:\n",
        "    category_path = base_path / category\n",
        "    images = list(category_path.glob(\"*\"))\n",
        "    random.shuffle(images)\n",
        "\n",
        "    total = len(images)\n",
        "    train_end = int(ratios[0] * total)\n",
        "    val_end = train_end + int(ratios[1] * total)\n",
        "\n",
        "    split_data = {\n",
        "        \"train\": images[:train_end],\n",
        "        \"val\": images[train_end:val_end],\n",
        "        \"test\": images[val_end:]\n",
        "    }\n",
        "\n",
        "    for split in splits:\n",
        "        split_dir = output_base / split / category\n",
        "        split_dir.mkdir(parents=True, exist_ok=True)\n",
        "\n",
        "        for img in split_data[split]:\n",
        "            shutil.copy(str(img), str(split_dir / img.name))\n",
        "\n",
        "print(\"✅ Dataset berhasil dibagi menjadi train, val, dan test dengan rasio 80:10:10.\")\n"
      ],
      "metadata": {
        "colab": {
          "base_uri": "https://localhost:8080/"
        },
        "id": "byQk61Dws5qe",
        "outputId": "2c7c8623-03d0-4fa6-a6d6-41f8a118c977"
      },
      "execution_count": 3,
      "outputs": [
        {
          "output_type": "stream",
          "name": "stdout",
          "text": [
            "✅ Dipindahkan 200 gambar ke folder noncaries.\n",
            "✅ Dataset berhasil dibagi menjadi train, val, dan test dengan rasio 80:10:10.\n"
          ]
        }
      ]
    },
    {
      "cell_type": "code",
      "source": [
        "import shutil\n",
        "\n",
        "folder_path = \"/content/split_dataset\"\n",
        "zip_path = \"/content/segmented_teeth_v5_test1.zip\"\n",
        "\n",
        "shutil.make_archive(zip_path.replace(\".zip\", \"\"), 'zip', folder_path)\n",
        "\n",
        "from google.colab import files\n",
        "files.download(zip_path)"
      ],
      "metadata": {
        "colab": {
          "base_uri": "https://localhost:8080/",
          "height": 17
        },
        "id": "uoqZGCIAtLX6",
        "outputId": "18208a16-5b89-48dc-d30d-0d9d701adb4e"
      },
      "execution_count": 4,
      "outputs": [
        {
          "output_type": "display_data",
          "data": {
            "text/plain": [
              "<IPython.core.display.Javascript object>"
            ],
            "application/javascript": [
              "\n",
              "    async function download(id, filename, size) {\n",
              "      if (!google.colab.kernel.accessAllowed) {\n",
              "        return;\n",
              "      }\n",
              "      const div = document.createElement('div');\n",
              "      const label = document.createElement('label');\n",
              "      label.textContent = `Downloading \"${filename}\": `;\n",
              "      div.appendChild(label);\n",
              "      const progress = document.createElement('progress');\n",
              "      progress.max = size;\n",
              "      div.appendChild(progress);\n",
              "      document.body.appendChild(div);\n",
              "\n",
              "      const buffers = [];\n",
              "      let downloaded = 0;\n",
              "\n",
              "      const channel = await google.colab.kernel.comms.open(id);\n",
              "      // Send a message to notify the kernel that we're ready.\n",
              "      channel.send({})\n",
              "\n",
              "      for await (const message of channel.messages) {\n",
              "        // Send a message to notify the kernel that we're ready.\n",
              "        channel.send({})\n",
              "        if (message.buffers) {\n",
              "          for (const buffer of message.buffers) {\n",
              "            buffers.push(buffer);\n",
              "            downloaded += buffer.byteLength;\n",
              "            progress.value = downloaded;\n",
              "          }\n",
              "        }\n",
              "      }\n",
              "      const blob = new Blob(buffers, {type: 'application/binary'});\n",
              "      const a = document.createElement('a');\n",
              "      a.href = window.URL.createObjectURL(blob);\n",
              "      a.download = filename;\n",
              "      div.appendChild(a);\n",
              "      a.click();\n",
              "      div.remove();\n",
              "    }\n",
              "  "
            ]
          },
          "metadata": {}
        },
        {
          "output_type": "display_data",
          "data": {
            "text/plain": [
              "<IPython.core.display.Javascript object>"
            ],
            "application/javascript": [
              "download(\"download_3402cce4-bf88-4123-bbc6-4ad8023a6d39\", \"segmented_teeth_v5_test1.zip\", 10072528)"
            ]
          },
          "metadata": {}
        }
      ]
    },
    {
      "cell_type": "code",
      "source": [],
      "metadata": {
        "id": "m2EuWjQHt1mU"
      },
      "execution_count": null,
      "outputs": []
    }
  ]
}