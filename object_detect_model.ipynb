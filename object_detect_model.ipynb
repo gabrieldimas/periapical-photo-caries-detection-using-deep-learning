{
 "cells": [
  {
   "cell_type": "code",
   "execution_count": null,
   "metadata": {},
   "outputs": [
    {
     "name": "stdout",
     "output_type": "stream",
     "text": [
      "Ultralytics 8.3.82  Python-3.11.5 torch-2.6.0+cpu CPU (AMD Ryzen 5 5600H with Radeon Graphics)\n",
      "\u001b[34m\u001b[1mengine\\trainer: \u001b[0mtask=detect, mode=train, model=yolo11n.yaml, data=teeth_dataset.yaml, epochs=30, time=None, patience=100, batch=16, imgsz=640, save=True, save_period=-1, cache=False, device=None, workers=8, project=None, name=train3, exist_ok=False, pretrained=True, optimizer=auto, verbose=True, seed=0, deterministic=True, single_cls=False, rect=False, cos_lr=False, close_mosaic=10, resume=False, amp=True, fraction=1.0, profile=False, freeze=None, multi_scale=False, overlap_mask=True, mask_ratio=4, dropout=0.0, val=True, split=val, save_json=False, save_hybrid=False, conf=None, iou=0.7, max_det=300, half=False, dnn=False, plots=True, source=None, vid_stride=1, stream_buffer=False, visualize=False, augment=False, agnostic_nms=False, classes=None, retina_masks=False, embed=None, show=False, save_frames=False, save_txt=False, save_conf=False, save_crop=False, show_labels=True, show_conf=True, show_boxes=True, line_width=None, format=torchscript, keras=False, optimize=False, int8=False, dynamic=False, simplify=True, opset=None, workspace=None, nms=False, lr0=0.01, lrf=0.01, momentum=0.937, weight_decay=0.0005, warmup_epochs=3.0, warmup_momentum=0.8, warmup_bias_lr=0.1, box=7.5, cls=0.5, dfl=1.5, pose=12.0, kobj=1.0, nbs=64, hsv_h=0.015, hsv_s=0.7, hsv_v=0.4, degrees=0.0, translate=0.1, scale=0.5, shear=0.0, perspective=0.0, flipud=0.0, fliplr=0.5, bgr=0.0, mosaic=1.0, mixup=0.0, copy_paste=0.0, copy_paste_mode=flip, auto_augment=randaugment, erasing=0.4, crop_fraction=1.0, cfg=None, tracker=botsort.yaml, save_dir=runs\\detect\\train3\n",
      "Overriding model.yaml nc=80 with nc=1\n",
      "\n",
      "                   from  n    params  module                                       arguments                     \n",
      "  0                  -1  1       464  ultralytics.nn.modules.conv.Conv             [3, 16, 3, 2]                 \n",
      "  1                  -1  1      4672  ultralytics.nn.modules.conv.Conv             [16, 32, 3, 2]                \n",
      "  2                  -1  1      6640  ultralytics.nn.modules.block.C3k2            [32, 64, 1, False, 0.25]      \n",
      "  3                  -1  1     36992  ultralytics.nn.modules.conv.Conv             [64, 64, 3, 2]                \n",
      "  4                  -1  1     26080  ultralytics.nn.modules.block.C3k2            [64, 128, 1, False, 0.25]     \n",
      "  5                  -1  1    147712  ultralytics.nn.modules.conv.Conv             [128, 128, 3, 2]              \n",
      "  6                  -1  1     87040  ultralytics.nn.modules.block.C3k2            [128, 128, 1, True]           \n",
      "  7                  -1  1    295424  ultralytics.nn.modules.conv.Conv             [128, 256, 3, 2]              \n",
      "  8                  -1  1    346112  ultralytics.nn.modules.block.C3k2            [256, 256, 1, True]           \n",
      "  9                  -1  1    164608  ultralytics.nn.modules.block.SPPF            [256, 256, 5]                 \n",
      " 10                  -1  1    249728  ultralytics.nn.modules.block.C2PSA           [256, 256, 1]                 \n",
      " 11                  -1  1         0  torch.nn.modules.upsampling.Upsample         [None, 2, 'nearest']          \n",
      " 12             [-1, 6]  1         0  ultralytics.nn.modules.conv.Concat           [1]                           \n",
      " 13                  -1  1    111296  ultralytics.nn.modules.block.C3k2            [384, 128, 1, False]          \n",
      " 14                  -1  1         0  torch.nn.modules.upsampling.Upsample         [None, 2, 'nearest']          \n",
      " 15             [-1, 4]  1         0  ultralytics.nn.modules.conv.Concat           [1]                           \n",
      " 16                  -1  1     32096  ultralytics.nn.modules.block.C3k2            [256, 64, 1, False]           \n",
      " 17                  -1  1     36992  ultralytics.nn.modules.conv.Conv             [64, 64, 3, 2]                \n",
      " 18            [-1, 13]  1         0  ultralytics.nn.modules.conv.Concat           [1]                           \n",
      " 19                  -1  1     86720  ultralytics.nn.modules.block.C3k2            [192, 128, 1, False]          \n",
      " 20                  -1  1    147712  ultralytics.nn.modules.conv.Conv             [128, 128, 3, 2]              \n",
      " 21            [-1, 10]  1         0  ultralytics.nn.modules.conv.Concat           [1]                           \n",
      " 22                  -1  1    378880  ultralytics.nn.modules.block.C3k2            [384, 256, 1, True]           \n",
      " 23        [16, 19, 22]  1    430867  ultralytics.nn.modules.head.Detect           [1, [64, 128, 256]]           \n",
      "YOLO11n summary: 181 layers, 2,590,035 parameters, 2,590,019 gradients, 6.4 GFLOPs\n",
      "\n",
      "\u001b[34m\u001b[1mTensorBoard: \u001b[0mStart with 'tensorboard --logdir runs\\detect\\train3', view at http://localhost:6006/\n",
      "Freezing layer 'model.23.dfl.conv.weight'\n"
     ]
    },
    {
     "name": "stderr",
     "output_type": "stream",
     "text": [
      "\u001b[34m\u001b[1mtrain: \u001b[0mScanning D:\\Pertugasan\\lah wes skripsi bjir\\periapical-photo-caries-detection-using-deep-learning\\dataset\\dataset\\labels\\train.cache... 896 images, 1 backgrounds, 0 corrupt: 100%|██████████| 896/896 [00:00<?, ?it/s]\n",
      "\u001b[34m\u001b[1mval: \u001b[0mScanning D:\\Pertugasan\\lah wes skripsi bjir\\periapical-photo-caries-detection-using-deep-learning\\dataset\\dataset\\labels\\val.cache... 112 images, 0 backgrounds, 0 corrupt: 100%|██████████| 112/112 [00:00<?, ?it/s]\n"
     ]
    },
    {
     "name": "stdout",
     "output_type": "stream",
     "text": [
      "Plotting labels to runs\\detect\\train3\\labels.jpg... \n",
      "\u001b[34m\u001b[1moptimizer:\u001b[0m 'optimizer=auto' found, ignoring 'lr0=0.01' and 'momentum=0.937' and determining best 'optimizer', 'lr0' and 'momentum' automatically... \n",
      "\u001b[34m\u001b[1moptimizer:\u001b[0m AdamW(lr=0.002, momentum=0.9) with parameter groups 81 weight(decay=0.0), 88 weight(decay=0.0005), 87 bias(decay=0.0)\n",
      "\u001b[34m\u001b[1mTensorBoard: \u001b[0mmodel graph visualization added \n",
      "Image sizes 640 train, 640 val\n",
      "Using 0 dataloader workers\n",
      "Logging results to \u001b[1mruns\\detect\\train3\u001b[0m\n",
      "Starting training for 30 epochs...\n",
      "\n",
      "      Epoch    GPU_mem   box_loss   cls_loss   dfl_loss  Instances       Size\n"
     ]
    },
    {
     "name": "stderr",
     "output_type": "stream",
     "text": [
      "       1/30         0G      3.214      3.115      4.018         64        640: 100%|██████████| 56/56 [07:27<00:00,  7.99s/it]\n",
      "                 Class     Images  Instances      Box(P          R      mAP50  mAP50-95): 100%|██████████| 4/4 [00:20<00:00,  5.11s/it]"
     ]
    },
    {
     "name": "stdout",
     "output_type": "stream",
     "text": [
      "                   all        112        192    0.00512      0.896      0.244     0.0543\n"
     ]
    },
    {
     "name": "stderr",
     "output_type": "stream",
     "text": [
      "\n"
     ]
    },
    {
     "name": "stdout",
     "output_type": "stream",
     "text": [
      "\n",
      "      Epoch    GPU_mem   box_loss   cls_loss   dfl_loss  Instances       Size\n"
     ]
    },
    {
     "name": "stderr",
     "output_type": "stream",
     "text": [
      "       2/30         0G      2.707      2.842      3.389         79        640: 100%|██████████| 56/56 [06:35<00:00,  7.06s/it]\n",
      "                 Class     Images  Instances      Box(P          R      mAP50  mAP50-95): 100%|██████████| 4/4 [00:18<00:00,  4.74s/it]"
     ]
    },
    {
     "name": "stdout",
     "output_type": "stream",
     "text": [
      "                   all        112        192    0.00548      0.958     0.0501     0.0139\n"
     ]
    },
    {
     "name": "stderr",
     "output_type": "stream",
     "text": [
      "\n"
     ]
    },
    {
     "name": "stdout",
     "output_type": "stream",
     "text": [
      "\n",
      "      Epoch    GPU_mem   box_loss   cls_loss   dfl_loss  Instances       Size\n"
     ]
    },
    {
     "name": "stderr",
     "output_type": "stream",
     "text": [
      "       3/30         0G      2.402      2.665      2.943         77        640: 100%|██████████| 56/56 [06:33<00:00,  7.03s/it]\n",
      "                 Class     Images  Instances      Box(P          R      mAP50  mAP50-95): 100%|██████████| 4/4 [00:19<00:00,  4.78s/it]"
     ]
    },
    {
     "name": "stdout",
     "output_type": "stream",
     "text": [
      "                   all        112        192     0.0853      0.391     0.0784     0.0268\n"
     ]
    },
    {
     "name": "stderr",
     "output_type": "stream",
     "text": [
      "\n"
     ]
    },
    {
     "name": "stdout",
     "output_type": "stream",
     "text": [
      "\n",
      "      Epoch    GPU_mem   box_loss   cls_loss   dfl_loss  Instances       Size\n"
     ]
    },
    {
     "name": "stderr",
     "output_type": "stream",
     "text": [
      "       4/30         0G      2.213      2.469      2.695         77        640: 100%|██████████| 56/56 [06:29<00:00,  6.95s/it]\n",
      "                 Class     Images  Instances      Box(P          R      mAP50  mAP50-95): 100%|██████████| 4/4 [00:18<00:00,  4.72s/it]"
     ]
    },
    {
     "name": "stdout",
     "output_type": "stream",
     "text": [
      "                   all        112        192      0.254      0.302      0.202     0.0674\n"
     ]
    },
    {
     "name": "stderr",
     "output_type": "stream",
     "text": [
      "\n"
     ]
    },
    {
     "name": "stdout",
     "output_type": "stream",
     "text": [
      "\n",
      "      Epoch    GPU_mem   box_loss   cls_loss   dfl_loss  Instances       Size\n"
     ]
    },
    {
     "name": "stderr",
     "output_type": "stream",
     "text": [
      "       5/30         0G      2.086      2.243      2.552         85        640: 100%|██████████| 56/56 [07:14<00:00,  7.75s/it]\n",
      "                 Class     Images  Instances      Box(P          R      mAP50  mAP50-95): 100%|██████████| 4/4 [00:19<00:00,  4.85s/it]"
     ]
    },
    {
     "name": "stdout",
     "output_type": "stream",
     "text": [
      "                   all        112        192      0.296      0.672      0.267      0.105\n"
     ]
    },
    {
     "name": "stderr",
     "output_type": "stream",
     "text": [
      "\n"
     ]
    },
    {
     "name": "stdout",
     "output_type": "stream",
     "text": [
      "\n",
      "      Epoch    GPU_mem   box_loss   cls_loss   dfl_loss  Instances       Size\n"
     ]
    },
    {
     "name": "stderr",
     "output_type": "stream",
     "text": [
      "       6/30         0G      1.951       2.07      2.411         71        640: 100%|██████████| 56/56 [06:51<00:00,  7.35s/it]\n",
      "                 Class     Images  Instances      Box(P          R      mAP50  mAP50-95): 100%|██████████| 4/4 [00:19<00:00,  4.89s/it]"
     ]
    },
    {
     "name": "stdout",
     "output_type": "stream",
     "text": [
      "                   all        112        192      0.673      0.625      0.616      0.305\n"
     ]
    },
    {
     "name": "stderr",
     "output_type": "stream",
     "text": [
      "\n"
     ]
    },
    {
     "name": "stdout",
     "output_type": "stream",
     "text": [
      "\n",
      "      Epoch    GPU_mem   box_loss   cls_loss   dfl_loss  Instances       Size\n"
     ]
    },
    {
     "name": "stderr",
     "output_type": "stream",
     "text": [
      "       7/30         0G      1.859      1.929      2.314         84        640: 100%|██████████| 56/56 [06:46<00:00,  7.26s/it]\n",
      "                 Class     Images  Instances      Box(P          R      mAP50  mAP50-95): 100%|██████████| 4/4 [00:19<00:00,  4.76s/it]"
     ]
    },
    {
     "name": "stdout",
     "output_type": "stream",
     "text": [
      "                   all        112        192      0.763      0.487      0.622      0.337\n"
     ]
    },
    {
     "name": "stderr",
     "output_type": "stream",
     "text": [
      "\n"
     ]
    },
    {
     "name": "stdout",
     "output_type": "stream",
     "text": [
      "\n",
      "      Epoch    GPU_mem   box_loss   cls_loss   dfl_loss  Instances       Size\n"
     ]
    },
    {
     "name": "stderr",
     "output_type": "stream",
     "text": [
      "       8/30         0G      1.789      1.822      2.231         67        640: 100%|██████████| 56/56 [06:54<00:00,  7.40s/it]\n",
      "                 Class     Images  Instances      Box(P          R      mAP50  mAP50-95): 100%|██████████| 4/4 [00:19<00:00,  4.83s/it]"
     ]
    },
    {
     "name": "stdout",
     "output_type": "stream",
     "text": [
      "                   all        112        192      0.672      0.604      0.652      0.333\n"
     ]
    },
    {
     "name": "stderr",
     "output_type": "stream",
     "text": [
      "\n"
     ]
    },
    {
     "name": "stdout",
     "output_type": "stream",
     "text": [
      "\n",
      "      Epoch    GPU_mem   box_loss   cls_loss   dfl_loss  Instances       Size\n"
     ]
    },
    {
     "name": "stderr",
     "output_type": "stream",
     "text": [
      "       9/30         0G      1.698      1.713      2.158         89        640: 100%|██████████| 56/56 [06:48<00:00,  7.30s/it]\n",
      "                 Class     Images  Instances      Box(P          R      mAP50  mAP50-95): 100%|██████████| 4/4 [00:18<00:00,  4.68s/it]"
     ]
    },
    {
     "name": "stdout",
     "output_type": "stream",
     "text": [
      "                   all        112        192      0.718      0.661      0.721      0.391\n"
     ]
    },
    {
     "name": "stderr",
     "output_type": "stream",
     "text": [
      "\n"
     ]
    },
    {
     "name": "stdout",
     "output_type": "stream",
     "text": [
      "\n",
      "      Epoch    GPU_mem   box_loss   cls_loss   dfl_loss  Instances       Size\n"
     ]
    },
    {
     "name": "stderr",
     "output_type": "stream",
     "text": [
      "      10/30         0G      1.659      1.602      2.096         67        640: 100%|██████████| 56/56 [06:39<00:00,  7.13s/it]\n",
      "                 Class     Images  Instances      Box(P          R      mAP50  mAP50-95): 100%|██████████| 4/4 [00:18<00:00,  4.72s/it]"
     ]
    },
    {
     "name": "stdout",
     "output_type": "stream",
     "text": [
      "                   all        112        192      0.748      0.568      0.734      0.425\n"
     ]
    },
    {
     "name": "stderr",
     "output_type": "stream",
     "text": [
      "\n"
     ]
    },
    {
     "name": "stdout",
     "output_type": "stream",
     "text": [
      "\n",
      "      Epoch    GPU_mem   box_loss   cls_loss   dfl_loss  Instances       Size\n"
     ]
    },
    {
     "name": "stderr",
     "output_type": "stream",
     "text": [
      "      11/30         0G      1.639      1.601      2.086         86        640: 100%|██████████| 56/56 [06:37<00:00,  7.11s/it]\n",
      "                 Class     Images  Instances      Box(P          R      mAP50  mAP50-95): 100%|██████████| 4/4 [00:18<00:00,  4.67s/it]"
     ]
    },
    {
     "name": "stdout",
     "output_type": "stream",
     "text": [
      "                   all        112        192      0.773      0.714      0.792      0.444\n"
     ]
    },
    {
     "name": "stderr",
     "output_type": "stream",
     "text": [
      "\n"
     ]
    },
    {
     "name": "stdout",
     "output_type": "stream",
     "text": [
      "\n",
      "      Epoch    GPU_mem   box_loss   cls_loss   dfl_loss  Instances       Size\n"
     ]
    },
    {
     "name": "stderr",
     "output_type": "stream",
     "text": [
      "      12/30         0G      1.591      1.537      2.035         78        640: 100%|██████████| 56/56 [06:39<00:00,  7.13s/it]\n",
      "                 Class     Images  Instances      Box(P          R      mAP50  mAP50-95): 100%|██████████| 4/4 [00:18<00:00,  4.66s/it]"
     ]
    },
    {
     "name": "stdout",
     "output_type": "stream",
     "text": [
      "                   all        112        192      0.754      0.767      0.833      0.454\n"
     ]
    },
    {
     "name": "stderr",
     "output_type": "stream",
     "text": [
      "\n"
     ]
    },
    {
     "name": "stdout",
     "output_type": "stream",
     "text": [
      "\n",
      "      Epoch    GPU_mem   box_loss   cls_loss   dfl_loss  Instances       Size\n"
     ]
    },
    {
     "name": "stderr",
     "output_type": "stream",
     "text": [
      "      13/30         0G      1.562      1.495      2.009         77        640: 100%|██████████| 56/56 [06:46<00:00,  7.25s/it]\n",
      "                 Class     Images  Instances      Box(P          R      mAP50  mAP50-95): 100%|██████████| 4/4 [00:18<00:00,  4.75s/it]"
     ]
    },
    {
     "name": "stdout",
     "output_type": "stream",
     "text": [
      "                   all        112        192      0.875      0.727      0.843      0.481\n"
     ]
    },
    {
     "name": "stderr",
     "output_type": "stream",
     "text": [
      "\n"
     ]
    },
    {
     "name": "stdout",
     "output_type": "stream",
     "text": [
      "\n",
      "      Epoch    GPU_mem   box_loss   cls_loss   dfl_loss  Instances       Size\n"
     ]
    },
    {
     "name": "stderr",
     "output_type": "stream",
     "text": [
      "      14/30         0G      1.531      1.469      1.985        109        640: 100%|██████████| 56/56 [06:47<00:00,  7.28s/it]\n",
      "                 Class     Images  Instances      Box(P          R      mAP50  mAP50-95): 100%|██████████| 4/4 [00:18<00:00,  4.65s/it]"
     ]
    },
    {
     "name": "stdout",
     "output_type": "stream",
     "text": [
      "                   all        112        192      0.868      0.708      0.848      0.529\n"
     ]
    },
    {
     "name": "stderr",
     "output_type": "stream",
     "text": [
      "\n"
     ]
    },
    {
     "name": "stdout",
     "output_type": "stream",
     "text": [
      "\n",
      "      Epoch    GPU_mem   box_loss   cls_loss   dfl_loss  Instances       Size\n"
     ]
    },
    {
     "name": "stderr",
     "output_type": "stream",
     "text": [
      "      15/30         0G      1.513      1.434      1.954         72        640: 100%|██████████| 56/56 [06:36<00:00,  7.09s/it]\n",
      "                 Class     Images  Instances      Box(P          R      mAP50  mAP50-95): 100%|██████████| 4/4 [00:19<00:00,  4.79s/it]"
     ]
    },
    {
     "name": "stdout",
     "output_type": "stream",
     "text": [
      "                   all        112        192       0.88      0.781      0.863      0.522\n"
     ]
    },
    {
     "name": "stderr",
     "output_type": "stream",
     "text": [
      "\n"
     ]
    },
    {
     "name": "stdout",
     "output_type": "stream",
     "text": [
      "\n",
      "      Epoch    GPU_mem   box_loss   cls_loss   dfl_loss  Instances       Size\n"
     ]
    },
    {
     "name": "stderr",
     "output_type": "stream",
     "text": [
      "      16/30         0G      1.474      1.405      1.937         84        640: 100%|██████████| 56/56 [06:33<00:00,  7.02s/it]\n",
      "                 Class     Images  Instances      Box(P          R      mAP50  mAP50-95): 100%|██████████| 4/4 [00:18<00:00,  4.69s/it]"
     ]
    },
    {
     "name": "stdout",
     "output_type": "stream",
     "text": [
      "                   all        112        192       0.86       0.74      0.848      0.431\n"
     ]
    },
    {
     "name": "stderr",
     "output_type": "stream",
     "text": [
      "\n"
     ]
    },
    {
     "name": "stdout",
     "output_type": "stream",
     "text": [
      "\n",
      "      Epoch    GPU_mem   box_loss   cls_loss   dfl_loss  Instances       Size\n"
     ]
    },
    {
     "name": "stderr",
     "output_type": "stream",
     "text": [
      "      17/30         0G      1.458      1.339      1.907         96        640: 100%|██████████| 56/56 [06:37<00:00,  7.09s/it]\n",
      "                 Class     Images  Instances      Box(P          R      mAP50  mAP50-95): 100%|██████████| 4/4 [00:18<00:00,  4.62s/it]"
     ]
    },
    {
     "name": "stdout",
     "output_type": "stream",
     "text": [
      "                   all        112        192      0.872       0.76      0.862      0.537\n"
     ]
    },
    {
     "name": "stderr",
     "output_type": "stream",
     "text": [
      "\n"
     ]
    },
    {
     "name": "stdout",
     "output_type": "stream",
     "text": [
      "\n",
      "      Epoch    GPU_mem   box_loss   cls_loss   dfl_loss  Instances       Size\n"
     ]
    },
    {
     "name": "stderr",
     "output_type": "stream",
     "text": [
      "      18/30         0G      1.427      1.343      1.882         75        640: 100%|██████████| 56/56 [06:34<00:00,  7.04s/it]\n",
      "                 Class     Images  Instances      Box(P          R      mAP50  mAP50-95): 100%|██████████| 4/4 [00:18<00:00,  4.64s/it]"
     ]
    },
    {
     "name": "stdout",
     "output_type": "stream",
     "text": [
      "                   all        112        192       0.86      0.801      0.883      0.564\n"
     ]
    },
    {
     "name": "stderr",
     "output_type": "stream",
     "text": [
      "\n"
     ]
    },
    {
     "name": "stdout",
     "output_type": "stream",
     "text": [
      "\n",
      "      Epoch    GPU_mem   box_loss   cls_loss   dfl_loss  Instances       Size\n"
     ]
    },
    {
     "name": "stderr",
     "output_type": "stream",
     "text": [
      "      19/30         0G      1.413      1.337      1.878         76        640: 100%|██████████| 56/56 [06:34<00:00,  7.05s/it]\n",
      "                 Class     Images  Instances      Box(P          R      mAP50  mAP50-95): 100%|██████████| 4/4 [00:18<00:00,  4.66s/it]"
     ]
    },
    {
     "name": "stdout",
     "output_type": "stream",
     "text": [
      "                   all        112        192      0.924      0.756      0.886      0.572\n"
     ]
    },
    {
     "name": "stderr",
     "output_type": "stream",
     "text": [
      "\n"
     ]
    },
    {
     "name": "stdout",
     "output_type": "stream",
     "text": [
      "\n",
      "      Epoch    GPU_mem   box_loss   cls_loss   dfl_loss  Instances       Size\n"
     ]
    },
    {
     "name": "stderr",
     "output_type": "stream",
     "text": [
      "      20/30         0G      1.372      1.262      1.839         70        640: 100%|██████████| 56/56 [06:32<00:00,  7.01s/it]\n",
      "                 Class     Images  Instances      Box(P          R      mAP50  mAP50-95): 100%|██████████| 4/4 [00:18<00:00,  4.64s/it]"
     ]
    },
    {
     "name": "stdout",
     "output_type": "stream",
     "text": [
      "                   all        112        192        0.9      0.828      0.895      0.576\n"
     ]
    },
    {
     "name": "stderr",
     "output_type": "stream",
     "text": [
      "\n"
     ]
    },
    {
     "name": "stdout",
     "output_type": "stream",
     "text": [
      "Closing dataloader mosaic\n",
      "\n",
      "      Epoch    GPU_mem   box_loss   cls_loss   dfl_loss  Instances       Size\n"
     ]
    },
    {
     "name": "stderr",
     "output_type": "stream",
     "text": [
      "      21/30         0G      1.352      1.232      1.902         35        640: 100%|██████████| 56/56 [06:29<00:00,  6.96s/it]\n",
      "                 Class     Images  Instances      Box(P          R      mAP50  mAP50-95): 100%|██████████| 4/4 [00:18<00:00,  4.65s/it]"
     ]
    },
    {
     "name": "stdout",
     "output_type": "stream",
     "text": [
      "                   all        112        192      0.921      0.823      0.916      0.522\n"
     ]
    },
    {
     "name": "stderr",
     "output_type": "stream",
     "text": [
      "\n"
     ]
    },
    {
     "name": "stdout",
     "output_type": "stream",
     "text": [
      "\n",
      "      Epoch    GPU_mem   box_loss   cls_loss   dfl_loss  Instances       Size\n"
     ]
    },
    {
     "name": "stderr",
     "output_type": "stream",
     "text": [
      "      22/30         0G      1.344      1.093       1.88         37        640: 100%|██████████| 56/56 [06:28<00:00,  6.94s/it]\n",
      "                 Class     Images  Instances      Box(P          R      mAP50  mAP50-95): 100%|██████████| 4/4 [00:18<00:00,  4.70s/it]"
     ]
    },
    {
     "name": "stdout",
     "output_type": "stream",
     "text": [
      "                   all        112        192      0.913      0.833      0.925      0.603\n"
     ]
    },
    {
     "name": "stderr",
     "output_type": "stream",
     "text": [
      "\n"
     ]
    },
    {
     "name": "stdout",
     "output_type": "stream",
     "text": [
      "\n",
      "      Epoch    GPU_mem   box_loss   cls_loss   dfl_loss  Instances       Size\n"
     ]
    },
    {
     "name": "stderr",
     "output_type": "stream",
     "text": [
      "      23/30         0G      1.299      1.057      1.851         40        640: 100%|██████████| 56/56 [06:36<00:00,  7.08s/it]\n",
      "                 Class     Images  Instances      Box(P          R      mAP50  mAP50-95): 100%|██████████| 4/4 [00:18<00:00,  4.68s/it]"
     ]
    },
    {
     "name": "stdout",
     "output_type": "stream",
     "text": [
      "                   all        112        192      0.895      0.849      0.934      0.586\n"
     ]
    },
    {
     "name": "stderr",
     "output_type": "stream",
     "text": [
      "\n"
     ]
    },
    {
     "name": "stdout",
     "output_type": "stream",
     "text": [
      "\n",
      "      Epoch    GPU_mem   box_loss   cls_loss   dfl_loss  Instances       Size\n"
     ]
    },
    {
     "name": "stderr",
     "output_type": "stream",
     "text": [
      "      24/30         0G      1.245      1.001      1.812         29        640: 100%|██████████| 56/56 [07:21<00:00,  7.89s/it]\n",
      "                 Class     Images  Instances      Box(P          R      mAP50  mAP50-95): 100%|██████████| 4/4 [00:19<00:00,  4.81s/it]"
     ]
    },
    {
     "name": "stdout",
     "output_type": "stream",
     "text": [
      "                   all        112        192      0.889      0.828      0.922      0.601\n"
     ]
    },
    {
     "name": "stderr",
     "output_type": "stream",
     "text": [
      "\n"
     ]
    },
    {
     "name": "stdout",
     "output_type": "stream",
     "text": [
      "\n",
      "      Epoch    GPU_mem   box_loss   cls_loss   dfl_loss  Instances       Size\n"
     ]
    },
    {
     "name": "stderr",
     "output_type": "stream",
     "text": [
      "      25/30         0G       1.22     0.9752      1.773         37        640: 100%|██████████| 56/56 [06:49<00:00,  7.32s/it]\n",
      "                 Class     Images  Instances      Box(P          R      mAP50  mAP50-95): 100%|██████████| 4/4 [00:19<00:00,  4.81s/it]"
     ]
    },
    {
     "name": "stdout",
     "output_type": "stream",
     "text": [
      "                   all        112        192      0.886      0.901      0.945      0.641\n"
     ]
    },
    {
     "name": "stderr",
     "output_type": "stream",
     "text": [
      "\n"
     ]
    },
    {
     "name": "stdout",
     "output_type": "stream",
     "text": [
      "\n",
      "      Epoch    GPU_mem   box_loss   cls_loss   dfl_loss  Instances       Size\n"
     ]
    },
    {
     "name": "stderr",
     "output_type": "stream",
     "text": [
      "      26/30         0G      1.208     0.9463      1.751         36        640: 100%|██████████| 56/56 [06:56<00:00,  7.44s/it]\n",
      "                 Class     Images  Instances      Box(P          R      mAP50  mAP50-95): 100%|██████████| 4/4 [00:19<00:00,  4.89s/it]"
     ]
    },
    {
     "name": "stdout",
     "output_type": "stream",
     "text": [
      "                   all        112        192      0.899       0.88      0.943      0.659\n"
     ]
    },
    {
     "name": "stderr",
     "output_type": "stream",
     "text": [
      "\n"
     ]
    },
    {
     "name": "stdout",
     "output_type": "stream",
     "text": [
      "\n",
      "      Epoch    GPU_mem   box_loss   cls_loss   dfl_loss  Instances       Size\n"
     ]
    },
    {
     "name": "stderr",
     "output_type": "stream",
     "text": [
      "      27/30         0G      1.175     0.9204      1.749         42        640: 100%|██████████| 56/56 [06:47<00:00,  7.28s/it]\n",
      "                 Class     Images  Instances      Box(P          R      mAP50  mAP50-95): 100%|██████████| 4/4 [00:18<00:00,  4.69s/it]"
     ]
    },
    {
     "name": "stdout",
     "output_type": "stream",
     "text": [
      "                   all        112        192      0.907       0.88      0.952      0.669\n"
     ]
    },
    {
     "name": "stderr",
     "output_type": "stream",
     "text": [
      "\n"
     ]
    },
    {
     "name": "stdout",
     "output_type": "stream",
     "text": [
      "\n",
      "      Epoch    GPU_mem   box_loss   cls_loss   dfl_loss  Instances       Size\n"
     ]
    },
    {
     "name": "stderr",
     "output_type": "stream",
     "text": [
      "      28/30         0G      1.156     0.8869      1.727         40        640: 100%|██████████| 56/56 [07:13<00:00,  7.73s/it]\n",
      "                 Class     Images  Instances      Box(P          R      mAP50  mAP50-95): 100%|██████████| 4/4 [00:19<00:00,  4.91s/it]"
     ]
    },
    {
     "name": "stdout",
     "output_type": "stream",
     "text": [
      "                   all        112        192      0.899      0.877      0.948      0.681\n"
     ]
    },
    {
     "name": "stderr",
     "output_type": "stream",
     "text": [
      "\n"
     ]
    },
    {
     "name": "stdout",
     "output_type": "stream",
     "text": [
      "\n",
      "      Epoch    GPU_mem   box_loss   cls_loss   dfl_loss  Instances       Size\n"
     ]
    },
    {
     "name": "stderr",
     "output_type": "stream",
     "text": [
      "      29/30         0G      1.146     0.8775      1.699         35        640: 100%|██████████| 56/56 [06:47<00:00,  7.29s/it]\n",
      "                 Class     Images  Instances      Box(P          R      mAP50  mAP50-95): 100%|██████████| 4/4 [00:19<00:00,  4.81s/it]"
     ]
    },
    {
     "name": "stdout",
     "output_type": "stream",
     "text": [
      "                   all        112        192      0.922      0.921      0.958      0.685\n"
     ]
    },
    {
     "name": "stderr",
     "output_type": "stream",
     "text": [
      "\n"
     ]
    },
    {
     "name": "stdout",
     "output_type": "stream",
     "text": [
      "\n",
      "      Epoch    GPU_mem   box_loss   cls_loss   dfl_loss  Instances       Size\n"
     ]
    },
    {
     "name": "stderr",
     "output_type": "stream",
     "text": [
      "      30/30         0G      1.125     0.8622       1.69         42        640: 100%|██████████| 56/56 [06:43<00:00,  7.20s/it]\n",
      "                 Class     Images  Instances      Box(P          R      mAP50  mAP50-95): 100%|██████████| 4/4 [00:18<00:00,  4.74s/it]"
     ]
    },
    {
     "name": "stdout",
     "output_type": "stream",
     "text": [
      "                   all        112        192      0.942       0.88      0.956      0.688\n"
     ]
    },
    {
     "name": "stderr",
     "output_type": "stream",
     "text": [
      "\n"
     ]
    },
    {
     "name": "stdout",
     "output_type": "stream",
     "text": [
      "\n",
      "30 epochs completed in 3.572 hours.\n",
      "Optimizer stripped from runs\\detect\\train3\\weights\\last.pt, 5.5MB\n",
      "Optimizer stripped from runs\\detect\\train3\\weights\\best.pt, 5.5MB\n",
      "\n",
      "Validating runs\\detect\\train3\\weights\\best.pt...\n",
      "Ultralytics 8.3.82  Python-3.11.5 torch-2.6.0+cpu CPU (AMD Ryzen 5 5600H with Radeon Graphics)\n",
      "YOLO11n summary (fused): 100 layers, 2,582,347 parameters, 0 gradients, 6.3 GFLOPs\n"
     ]
    },
    {
     "name": "stderr",
     "output_type": "stream",
     "text": [
      "                 Class     Images  Instances      Box(P          R      mAP50  mAP50-95): 100%|██████████| 4/4 [00:15<00:00,  3.92s/it]\n"
     ]
    },
    {
     "name": "stdout",
     "output_type": "stream",
     "text": [
      "                   all        112        192      0.941       0.88      0.956      0.688\n",
      "Speed: 3.6ms preprocess, 127.0ms inference, 0.0ms loss, 0.4ms postprocess per image\n",
      "Results saved to \u001b[1mruns\\detect\\train3\u001b[0m\n"
     ]
    },
    {
     "data": {
      "text/plain": [
       "ultralytics.utils.metrics.DetMetrics object with attributes:\n",
       "\n",
       "ap_class_index: array([0])\n",
       "box: ultralytics.utils.metrics.Metric object\n",
       "confusion_matrix: <ultralytics.utils.metrics.ConfusionMatrix object at 0x00000137698F0250>\n",
       "curves: ['Precision-Recall(B)', 'F1-Confidence(B)', 'Precision-Confidence(B)', 'Recall-Confidence(B)']\n",
       "curves_results: [[array([          0,    0.001001,    0.002002,    0.003003,    0.004004,    0.005005,    0.006006,    0.007007,    0.008008,    0.009009,     0.01001,    0.011011,    0.012012,    0.013013,    0.014014,    0.015015,    0.016016,    0.017017,    0.018018,    0.019019,     0.02002,    0.021021,    0.022022,    0.023023,\n",
       "          0.024024,    0.025025,    0.026026,    0.027027,    0.028028,    0.029029,     0.03003,    0.031031,    0.032032,    0.033033,    0.034034,    0.035035,    0.036036,    0.037037,    0.038038,    0.039039,     0.04004,    0.041041,    0.042042,    0.043043,    0.044044,    0.045045,    0.046046,    0.047047,\n",
       "          0.048048,    0.049049,     0.05005,    0.051051,    0.052052,    0.053053,    0.054054,    0.055055,    0.056056,    0.057057,    0.058058,    0.059059,     0.06006,    0.061061,    0.062062,    0.063063,    0.064064,    0.065065,    0.066066,    0.067067,    0.068068,    0.069069,     0.07007,    0.071071,\n",
       "          0.072072,    0.073073,    0.074074,    0.075075,    0.076076,    0.077077,    0.078078,    0.079079,     0.08008,    0.081081,    0.082082,    0.083083,    0.084084,    0.085085,    0.086086,    0.087087,    0.088088,    0.089089,     0.09009,    0.091091,    0.092092,    0.093093,    0.094094,    0.095095,\n",
       "          0.096096,    0.097097,    0.098098,    0.099099,      0.1001,      0.1011,      0.1021,      0.1031,      0.1041,     0.10511,     0.10611,     0.10711,     0.10811,     0.10911,     0.11011,     0.11111,     0.11211,     0.11311,     0.11411,     0.11512,     0.11612,     0.11712,     0.11812,     0.11912,\n",
       "           0.12012,     0.12112,     0.12212,     0.12312,     0.12412,     0.12513,     0.12613,     0.12713,     0.12813,     0.12913,     0.13013,     0.13113,     0.13213,     0.13313,     0.13413,     0.13514,     0.13614,     0.13714,     0.13814,     0.13914,     0.14014,     0.14114,     0.14214,     0.14314,\n",
       "           0.14414,     0.14515,     0.14615,     0.14715,     0.14815,     0.14915,     0.15015,     0.15115,     0.15215,     0.15315,     0.15415,     0.15516,     0.15616,     0.15716,     0.15816,     0.15916,     0.16016,     0.16116,     0.16216,     0.16316,     0.16416,     0.16517,     0.16617,     0.16717,\n",
       "           0.16817,     0.16917,     0.17017,     0.17117,     0.17217,     0.17317,     0.17417,     0.17518,     0.17618,     0.17718,     0.17818,     0.17918,     0.18018,     0.18118,     0.18218,     0.18318,     0.18418,     0.18519,     0.18619,     0.18719,     0.18819,     0.18919,     0.19019,     0.19119,\n",
       "           0.19219,     0.19319,     0.19419,      0.1952,      0.1962,      0.1972,      0.1982,      0.1992,      0.2002,      0.2012,      0.2022,      0.2032,      0.2042,     0.20521,     0.20621,     0.20721,     0.20821,     0.20921,     0.21021,     0.21121,     0.21221,     0.21321,     0.21421,     0.21522,\n",
       "           0.21622,     0.21722,     0.21822,     0.21922,     0.22022,     0.22122,     0.22222,     0.22322,     0.22422,     0.22523,     0.22623,     0.22723,     0.22823,     0.22923,     0.23023,     0.23123,     0.23223,     0.23323,     0.23423,     0.23524,     0.23624,     0.23724,     0.23824,     0.23924,\n",
       "           0.24024,     0.24124,     0.24224,     0.24324,     0.24424,     0.24525,     0.24625,     0.24725,     0.24825,     0.24925,     0.25025,     0.25125,     0.25225,     0.25325,     0.25425,     0.25526,     0.25626,     0.25726,     0.25826,     0.25926,     0.26026,     0.26126,     0.26226,     0.26326,\n",
       "           0.26426,     0.26527,     0.26627,     0.26727,     0.26827,     0.26927,     0.27027,     0.27127,     0.27227,     0.27327,     0.27427,     0.27528,     0.27628,     0.27728,     0.27828,     0.27928,     0.28028,     0.28128,     0.28228,     0.28328,     0.28428,     0.28529,     0.28629,     0.28729,\n",
       "           0.28829,     0.28929,     0.29029,     0.29129,     0.29229,     0.29329,     0.29429,      0.2953,      0.2963,      0.2973,      0.2983,      0.2993,      0.3003,      0.3013,      0.3023,      0.3033,      0.3043,     0.30531,     0.30631,     0.30731,     0.30831,     0.30931,     0.31031,     0.31131,\n",
       "           0.31231,     0.31331,     0.31431,     0.31532,     0.31632,     0.31732,     0.31832,     0.31932,     0.32032,     0.32132,     0.32232,     0.32332,     0.32432,     0.32533,     0.32633,     0.32733,     0.32833,     0.32933,     0.33033,     0.33133,     0.33233,     0.33333,     0.33433,     0.33534,\n",
       "           0.33634,     0.33734,     0.33834,     0.33934,     0.34034,     0.34134,     0.34234,     0.34334,     0.34434,     0.34535,     0.34635,     0.34735,     0.34835,     0.34935,     0.35035,     0.35135,     0.35235,     0.35335,     0.35435,     0.35536,     0.35636,     0.35736,     0.35836,     0.35936,\n",
       "           0.36036,     0.36136,     0.36236,     0.36336,     0.36436,     0.36537,     0.36637,     0.36737,     0.36837,     0.36937,     0.37037,     0.37137,     0.37237,     0.37337,     0.37437,     0.37538,     0.37638,     0.37738,     0.37838,     0.37938,     0.38038,     0.38138,     0.38238,     0.38338,\n",
       "           0.38438,     0.38539,     0.38639,     0.38739,     0.38839,     0.38939,     0.39039,     0.39139,     0.39239,     0.39339,     0.39439,      0.3954,      0.3964,      0.3974,      0.3984,      0.3994,      0.4004,      0.4014,      0.4024,      0.4034,      0.4044,     0.40541,     0.40641,     0.40741,\n",
       "           0.40841,     0.40941,     0.41041,     0.41141,     0.41241,     0.41341,     0.41441,     0.41542,     0.41642,     0.41742,     0.41842,     0.41942,     0.42042,     0.42142,     0.42242,     0.42342,     0.42442,     0.42543,     0.42643,     0.42743,     0.42843,     0.42943,     0.43043,     0.43143,\n",
       "           0.43243,     0.43343,     0.43443,     0.43544,     0.43644,     0.43744,     0.43844,     0.43944,     0.44044,     0.44144,     0.44244,     0.44344,     0.44444,     0.44545,     0.44645,     0.44745,     0.44845,     0.44945,     0.45045,     0.45145,     0.45245,     0.45345,     0.45445,     0.45546,\n",
       "           0.45646,     0.45746,     0.45846,     0.45946,     0.46046,     0.46146,     0.46246,     0.46346,     0.46446,     0.46547,     0.46647,     0.46747,     0.46847,     0.46947,     0.47047,     0.47147,     0.47247,     0.47347,     0.47447,     0.47548,     0.47648,     0.47748,     0.47848,     0.47948,\n",
       "           0.48048,     0.48148,     0.48248,     0.48348,     0.48448,     0.48549,     0.48649,     0.48749,     0.48849,     0.48949,     0.49049,     0.49149,     0.49249,     0.49349,     0.49449,      0.4955,      0.4965,      0.4975,      0.4985,      0.4995,      0.5005,      0.5015,      0.5025,      0.5035,\n",
       "            0.5045,     0.50551,     0.50651,     0.50751,     0.50851,     0.50951,     0.51051,     0.51151,     0.51251,     0.51351,     0.51451,     0.51552,     0.51652,     0.51752,     0.51852,     0.51952,     0.52052,     0.52152,     0.52252,     0.52352,     0.52452,     0.52553,     0.52653,     0.52753,\n",
       "           0.52853,     0.52953,     0.53053,     0.53153,     0.53253,     0.53353,     0.53453,     0.53554,     0.53654,     0.53754,     0.53854,     0.53954,     0.54054,     0.54154,     0.54254,     0.54354,     0.54454,     0.54555,     0.54655,     0.54755,     0.54855,     0.54955,     0.55055,     0.55155,\n",
       "           0.55255,     0.55355,     0.55455,     0.55556,     0.55656,     0.55756,     0.55856,     0.55956,     0.56056,     0.56156,     0.56256,     0.56356,     0.56456,     0.56557,     0.56657,     0.56757,     0.56857,     0.56957,     0.57057,     0.57157,     0.57257,     0.57357,     0.57457,     0.57558,\n",
       "           0.57658,     0.57758,     0.57858,     0.57958,     0.58058,     0.58158,     0.58258,     0.58358,     0.58458,     0.58559,     0.58659,     0.58759,     0.58859,     0.58959,     0.59059,     0.59159,     0.59259,     0.59359,     0.59459,      0.5956,      0.5966,      0.5976,      0.5986,      0.5996,\n",
       "            0.6006,      0.6016,      0.6026,      0.6036,      0.6046,     0.60561,     0.60661,     0.60761,     0.60861,     0.60961,     0.61061,     0.61161,     0.61261,     0.61361,     0.61461,     0.61562,     0.61662,     0.61762,     0.61862,     0.61962,     0.62062,     0.62162,     0.62262,     0.62362,\n",
       "           0.62462,     0.62563,     0.62663,     0.62763,     0.62863,     0.62963,     0.63063,     0.63163,     0.63263,     0.63363,     0.63463,     0.63564,     0.63664,     0.63764,     0.63864,     0.63964,     0.64064,     0.64164,     0.64264,     0.64364,     0.64464,     0.64565,     0.64665,     0.64765,\n",
       "           0.64865,     0.64965,     0.65065,     0.65165,     0.65265,     0.65365,     0.65465,     0.65566,     0.65666,     0.65766,     0.65866,     0.65966,     0.66066,     0.66166,     0.66266,     0.66366,     0.66466,     0.66567,     0.66667,     0.66767,     0.66867,     0.66967,     0.67067,     0.67167,\n",
       "           0.67267,     0.67367,     0.67467,     0.67568,     0.67668,     0.67768,     0.67868,     0.67968,     0.68068,     0.68168,     0.68268,     0.68368,     0.68468,     0.68569,     0.68669,     0.68769,     0.68869,     0.68969,     0.69069,     0.69169,     0.69269,     0.69369,     0.69469,      0.6957,\n",
       "            0.6967,      0.6977,      0.6987,      0.6997,      0.7007,      0.7017,      0.7027,      0.7037,      0.7047,     0.70571,     0.70671,     0.70771,     0.70871,     0.70971,     0.71071,     0.71171,     0.71271,     0.71371,     0.71471,     0.71572,     0.71672,     0.71772,     0.71872,     0.71972,\n",
       "           0.72072,     0.72172,     0.72272,     0.72372,     0.72472,     0.72573,     0.72673,     0.72773,     0.72873,     0.72973,     0.73073,     0.73173,     0.73273,     0.73373,     0.73473,     0.73574,     0.73674,     0.73774,     0.73874,     0.73974,     0.74074,     0.74174,     0.74274,     0.74374,\n",
       "           0.74474,     0.74575,     0.74675,     0.74775,     0.74875,     0.74975,     0.75075,     0.75175,     0.75275,     0.75375,     0.75475,     0.75576,     0.75676,     0.75776,     0.75876,     0.75976,     0.76076,     0.76176,     0.76276,     0.76376,     0.76476,     0.76577,     0.76677,     0.76777,\n",
       "           0.76877,     0.76977,     0.77077,     0.77177,     0.77277,     0.77377,     0.77477,     0.77578,     0.77678,     0.77778,     0.77878,     0.77978,     0.78078,     0.78178,     0.78278,     0.78378,     0.78478,     0.78579,     0.78679,     0.78779,     0.78879,     0.78979,     0.79079,     0.79179,\n",
       "           0.79279,     0.79379,     0.79479,      0.7958,      0.7968,      0.7978,      0.7988,      0.7998,      0.8008,      0.8018,      0.8028,      0.8038,      0.8048,     0.80581,     0.80681,     0.80781,     0.80881,     0.80981,     0.81081,     0.81181,     0.81281,     0.81381,     0.81481,     0.81582,\n",
       "           0.81682,     0.81782,     0.81882,     0.81982,     0.82082,     0.82182,     0.82282,     0.82382,     0.82482,     0.82583,     0.82683,     0.82783,     0.82883,     0.82983,     0.83083,     0.83183,     0.83283,     0.83383,     0.83483,     0.83584,     0.83684,     0.83784,     0.83884,     0.83984,\n",
       "           0.84084,     0.84184,     0.84284,     0.84384,     0.84484,     0.84585,     0.84685,     0.84785,     0.84885,     0.84985,     0.85085,     0.85185,     0.85285,     0.85385,     0.85485,     0.85586,     0.85686,     0.85786,     0.85886,     0.85986,     0.86086,     0.86186,     0.86286,     0.86386,\n",
       "           0.86486,     0.86587,     0.86687,     0.86787,     0.86887,     0.86987,     0.87087,     0.87187,     0.87287,     0.87387,     0.87487,     0.87588,     0.87688,     0.87788,     0.87888,     0.87988,     0.88088,     0.88188,     0.88288,     0.88388,     0.88488,     0.88589,     0.88689,     0.88789,\n",
       "           0.88889,     0.88989,     0.89089,     0.89189,     0.89289,     0.89389,     0.89489,      0.8959,      0.8969,      0.8979,      0.8989,      0.8999,      0.9009,      0.9019,      0.9029,      0.9039,      0.9049,     0.90591,     0.90691,     0.90791,     0.90891,     0.90991,     0.91091,     0.91191,\n",
       "           0.91291,     0.91391,     0.91491,     0.91592,     0.91692,     0.91792,     0.91892,     0.91992,     0.92092,     0.92192,     0.92292,     0.92392,     0.92492,     0.92593,     0.92693,     0.92793,     0.92893,     0.92993,     0.93093,     0.93193,     0.93293,     0.93393,     0.93493,     0.93594,\n",
       "           0.93694,     0.93794,     0.93894,     0.93994,     0.94094,     0.94194,     0.94294,     0.94394,     0.94494,     0.94595,     0.94695,     0.94795,     0.94895,     0.94995,     0.95095,     0.95195,     0.95295,     0.95395,     0.95495,     0.95596,     0.95696,     0.95796,     0.95896,     0.95996,\n",
       "           0.96096,     0.96196,     0.96296,     0.96396,     0.96496,     0.96597,     0.96697,     0.96797,     0.96897,     0.96997,     0.97097,     0.97197,     0.97297,     0.97397,     0.97497,     0.97598,     0.97698,     0.97798,     0.97898,     0.97998,     0.98098,     0.98198,     0.98298,     0.98398,\n",
       "           0.98498,     0.98599,     0.98699,     0.98799,     0.98899,     0.98999,     0.99099,     0.99199,     0.99299,     0.99399,     0.99499,       0.996,       0.997,       0.998,       0.999,           1]), array([[          1,           1,           1,           1,           1,           1,           1,           1,           1,           1,           1,           1,           1,           1,           1,           1,           1,           1,           1,           1,           1,           1,           1,\n",
       "                  1,           1,           1,           1,           1,           1,           1,           1,           1,           1,           1,           1,           1,           1,           1,           1,           1,           1,           1,           1,           1,           1,           1,\n",
       "                  1,           1,           1,           1,           1,           1,           1,           1,           1,           1,           1,           1,           1,           1,           1,           1,           1,           1,           1,           1,           1,           1,           1,\n",
       "                  1,           1,           1,           1,           1,           1,           1,           1,           1,           1,           1,           1,           1,           1,           1,           1,           1,           1,           1,           1,           1,           1,           1,\n",
       "                  1,           1,           1,           1,           1,           1,           1,           1,           1,           1,           1,           1,           1,           1,           1,           1,           1,           1,           1,           1,           1,           1,           1,\n",
       "                  1,           1,           1,           1,           1,           1,           1,           1,           1,           1,           1,           1,           1,           1,           1,           1,           1,           1,           1,           1,           1,           1,           1,\n",
       "                  1,           1,           1,           1,           1,           1,           1,           1,           1,           1,           1,           1,           1,           1,           1,           1,           1,           1,           1,           1,           1,           1,           1,\n",
       "                  1,           1,           1,           1,           1,           1,           1,           1,           1,           1,           1,           1,           1,           1,           1,           1,           1,           1,           1,           1,           1,           1,           1,\n",
       "                  1,           1,           1,           1,           1,           1,           1,           1,           1,           1,           1,           1,           1,           1,           1,           1,           1,           1,           1,           1,           1,           1,           1,\n",
       "                  1,           1,           1,           1,           1,           1,           1,           1,           1,           1,           1,           1,           1,           1,           1,           1,           1,           1,           1,           1,           1,           1,           1,\n",
       "                  1,           1,           1,           1,           1,           1,           1,           1,           1,           1,           1,           1,           1,           1,           1,           1,           1,           1,           1,           1,           1,           1,           1,\n",
       "                  1,           1,           1,           1,           1,           1,           1,           1,           1,           1,           1,           1,           1,           1,           1,           1,           1,           1,           1,           1,           1,           1,           1,\n",
       "                  1,           1,           1,           1,           1,           1,           1,           1,           1,           1,           1,           1,           1,           1,           1,           1,           1,           1,           1,           1,           1,           1,           1,\n",
       "                  1,           1,           1,           1,           1,           1,           1,           1,           1,           1,           1,           1,           1,           1,           1,           1,           1,           1,           1,           1,           1,           1,           1,\n",
       "                  1,           1,           1,           1,           1,           1,           1,           1,           1,           1,           1,           1,           1,           1,           1,           1,           1,           1,           1,           1,           1,           1,           1,\n",
       "                  1,           1,           1,           1,     0.98936,     0.98936,     0.98936,     0.98936,     0.98936,     0.98936,     0.98936,     0.98936,     0.98936,     0.98936,     0.98936,     0.98936,     0.98936,     0.98936,     0.98936,     0.98936,     0.98936,     0.98936,     0.98936,\n",
       "            0.98936,     0.98936,     0.98936,     0.98936,     0.98936,     0.98936,     0.98936,     0.98936,     0.98936,     0.98936,     0.98936,     0.98936,     0.98936,     0.98936,     0.98936,     0.98936,     0.98936,     0.98936,     0.98936,     0.98936,     0.98936,     0.98936,     0.98936,\n",
       "            0.98936,     0.98936,     0.98936,     0.98936,     0.98936,     0.98936,     0.98936,     0.98936,     0.98936,     0.98936,     0.98936,     0.98936,     0.98936,     0.98936,     0.98936,     0.98936,     0.98936,     0.98936,     0.98936,     0.98936,     0.98936,     0.98936,     0.98936,\n",
       "            0.98936,     0.98936,     0.98936,     0.98936,     0.98936,     0.98936,     0.98936,     0.98936,     0.98936,     0.98936,     0.98936,     0.98936,     0.98936,     0.98936,     0.98936,     0.98936,     0.98936,     0.98936,     0.98936,     0.98936,     0.98936,     0.98936,     0.98936,\n",
       "            0.98936,     0.98936,     0.98936,     0.98936,     0.98936,     0.98936,     0.98936,     0.98936,     0.98936,     0.98936,     0.98936,     0.98936,     0.98936,     0.98936,     0.98936,     0.98936,     0.98936,     0.98936,     0.98936,     0.98936,     0.98936,     0.98936,     0.98936,\n",
       "            0.98936,     0.98936,     0.98936,     0.98936,     0.98936,     0.98936,     0.98936,     0.98936,     0.98936,     0.98936,     0.98936,     0.98936,     0.98936,     0.98936,     0.98936,     0.98936,     0.98936,     0.98936,     0.98936,     0.98936,     0.98936,     0.98936,     0.98936,\n",
       "            0.98936,     0.98496,     0.98496,     0.98496,     0.98496,     0.98496,     0.98496,     0.98496,     0.98496,     0.98496,     0.98496,     0.98496,     0.98496,     0.98496,     0.98496,     0.98496,     0.98496,     0.98496,     0.98496,     0.98496,     0.98496,     0.98496,     0.98496,\n",
       "            0.98496,     0.98496,     0.98496,     0.98496,     0.98496,     0.98496,     0.98496,     0.98496,     0.98496,     0.98496,     0.98496,     0.98496,     0.98496,     0.98496,     0.98496,     0.98496,     0.98496,     0.98496,     0.98496,     0.98496,     0.98496,     0.98496,     0.98496,\n",
       "            0.98496,     0.98496,     0.98496,     0.98496,     0.98496,     0.98496,     0.98496,     0.98496,     0.98496,     0.98496,     0.98496,     0.98496,     0.98496,     0.98496,     0.98496,     0.98496,     0.98496,     0.98496,     0.98496,     0.98496,     0.98496,     0.98496,     0.98496,\n",
       "            0.98496,     0.98496,     0.98496,     0.98496,     0.98496,     0.98496,     0.98496,     0.98496,     0.98496,     0.98496,     0.98496,     0.98496,     0.98496,     0.98496,     0.98496,     0.98496,     0.98496,     0.98496,     0.98496,     0.98496,     0.98496,     0.98496,     0.98496,\n",
       "            0.98496,     0.98496,     0.98496,     0.98496,     0.98496,     0.98496,     0.98496,     0.98496,     0.98496,     0.98496,     0.98496,     0.98496,     0.98496,     0.98496,     0.98496,     0.98496,     0.98496,     0.98496,     0.98496,     0.98496,     0.98496,     0.98496,     0.98496,\n",
       "            0.98496,     0.98496,     0.98496,     0.98496,     0.98496,     0.98496,     0.98496,     0.98496,     0.98496,     0.98496,     0.98496,     0.98496,     0.98496,     0.98496,     0.98496,     0.98496,     0.98496,     0.98496,     0.98496,     0.98496,     0.98496,     0.98496,     0.98496,\n",
       "            0.98496,     0.98496,     0.98496,     0.98496,     0.98496,     0.98496,     0.98496,     0.98496,     0.98496,     0.98496,     0.98496,     0.98496,     0.98496,     0.98496,     0.98496,     0.98496,     0.98496,     0.98496,     0.98496,     0.98496,     0.98496,     0.98496,     0.98496,\n",
       "            0.98496,     0.98496,     0.98496,     0.98496,     0.98496,     0.98496,     0.98496,     0.98496,     0.98496,     0.98496,     0.98496,     0.98496,     0.98496,     0.98496,     0.98496,     0.98496,     0.98496,     0.98496,     0.98496,     0.98496,     0.98496,     0.98496,     0.98496,\n",
       "            0.98496,     0.98496,     0.98496,     0.98496,     0.98496,     0.98496,     0.98496,     0.98496,     0.98496,     0.98496,     0.98496,     0.98496,     0.98496,     0.98496,     0.98496,     0.97826,     0.97826,     0.97826,     0.97826,     0.97826,     0.97826,     0.97826,     0.97826,\n",
       "            0.97826,     0.97826,     0.97826,     0.97826,     0.97826,     0.97826,     0.97826,     0.97826,     0.97826,     0.97826,     0.97826,     0.97826,     0.97826,     0.97241,     0.97241,     0.97241,     0.97241,     0.97241,     0.97241,     0.97241,     0.97241,     0.97241,     0.97241,\n",
       "            0.97241,     0.97241,     0.97241,     0.97241,     0.97241,     0.97241,     0.97241,     0.97241,     0.97241,     0.97241,     0.97241,     0.97241,     0.97241,     0.97241,     0.97241,     0.97241,     0.97241,     0.97241,     0.97241,     0.97241,     0.97241,     0.97006,     0.97006,\n",
       "            0.97006,     0.97006,     0.97006,     0.97006,     0.97006,     0.97006,     0.97006,     0.97006,     0.97006,     0.97006,     0.97006,     0.97006,     0.97006,     0.97006,     0.97006,     0.97006,     0.97006,     0.97006,     0.97006,     0.97006,     0.97006,     0.97006,     0.97006,\n",
       "            0.97006,     0.97006,     0.97006,     0.97006,     0.97006,     0.97006,     0.97006,     0.97006,     0.97006,     0.97006,     0.97006,     0.97006,     0.97006,     0.97006,     0.97006,     0.97006,     0.97006,     0.97006,     0.97006,     0.97006,     0.97006,     0.97006,     0.97006,\n",
       "            0.97006,     0.97006,     0.97006,     0.97006,     0.97006,     0.97006,     0.97006,     0.97006,     0.97006,     0.97006,     0.97006,     0.97006,     0.97006,     0.97006,     0.97006,     0.97006,     0.97006,     0.97006,     0.97006,     0.97006,     0.97006,     0.97006,     0.97006,\n",
       "            0.97006,     0.97006,     0.97006,     0.97006,     0.97006,     0.97006,     0.97006,     0.97006,     0.97006,     0.97006,     0.97006,     0.97006,     0.97006,     0.97006,     0.97006,     0.97006,     0.97006,     0.97006,     0.97006,     0.97006,     0.97006,     0.97006,     0.97006,\n",
       "            0.97006,     0.97006,     0.97006,     0.97006,     0.97006,     0.97006,     0.97006,     0.97006,     0.97006,     0.97006,     0.97006,     0.97006,     0.97006,     0.97006,     0.97006,     0.96471,     0.96471,     0.96471,     0.96471,     0.96471,     0.96471,     0.96471,     0.96471,\n",
       "            0.96471,     0.96471,     0.96471,      0.9548,      0.9548,      0.9548,      0.9548,      0.9548,      0.9548,      0.9548,      0.9548,      0.9548,      0.9548,      0.9548,      0.9548,      0.9548,      0.9548,      0.9548,      0.9548,      0.9548,      0.9548,      0.9548,      0.9548,\n",
       "             0.9548,      0.9548,      0.9548,      0.9548,      0.9548,      0.9548,     0.93923,     0.93923,     0.93923,     0.93923,     0.93923,     0.93478,     0.93478,     0.93478,     0.93478,     0.93478,     0.93478,     0.93478,     0.93478,     0.93478,     0.93478,     0.92021,     0.92021,\n",
       "            0.92021,     0.92021,     0.92021,     0.92021,     0.91099,     0.91099,     0.91099,     0.91099,     0.91099,     0.90816,     0.90816,     0.90816,     0.90816,     0.90816,     0.90816,     0.90816,     0.90816,     0.90816,     0.90816,     0.90816,     0.90816,     0.90816,     0.90816,\n",
       "            0.90816,     0.90816,     0.90816,     0.90816,     0.90816,     0.90816,     0.90816,      0.8867,      0.8867,      0.8867,      0.8867,      0.8867,      0.8867,      0.8867,      0.8867,      0.8867,      0.8867,     0.88293,     0.88293,     0.88293,     0.88293,     0.88293,     0.86321,\n",
       "            0.86321,     0.86321,     0.86321,     0.86321,     0.86321,     0.86321,     0.86321,     0.86321,     0.86321,     0.86321,         0.8,         0.8,         0.8,         0.8,         0.8,     0.73123,     0.73123,     0.73123,     0.73123,     0.73123,     0.69145,     0.69145,     0.69145,\n",
       "            0.69145,     0.69145,     0.67025,     0.67025,     0.67025,     0.67025,     0.67025,     0.56627,     0.56627,     0.56627,     0.56627,     0.56627,     0.56627,     0.27143,     0.27143,     0.27143,     0.27143,     0.27143,     0.27143,     0.27143,     0.27143,     0.27143,     0.27143,\n",
       "            0.23152,     0.23152,     0.23152,     0.23152,     0.23152,     0.19512,     0.19512,     0.19512,     0.19512,     0.19512,           0]]), 'Recall', 'Precision'], [array([          0,    0.001001,    0.002002,    0.003003,    0.004004,    0.005005,    0.006006,    0.007007,    0.008008,    0.009009,     0.01001,    0.011011,    0.012012,    0.013013,    0.014014,    0.015015,    0.016016,    0.017017,    0.018018,    0.019019,     0.02002,    0.021021,    0.022022,    0.023023,\n",
       "          0.024024,    0.025025,    0.026026,    0.027027,    0.028028,    0.029029,     0.03003,    0.031031,    0.032032,    0.033033,    0.034034,    0.035035,    0.036036,    0.037037,    0.038038,    0.039039,     0.04004,    0.041041,    0.042042,    0.043043,    0.044044,    0.045045,    0.046046,    0.047047,\n",
       "          0.048048,    0.049049,     0.05005,    0.051051,    0.052052,    0.053053,    0.054054,    0.055055,    0.056056,    0.057057,    0.058058,    0.059059,     0.06006,    0.061061,    0.062062,    0.063063,    0.064064,    0.065065,    0.066066,    0.067067,    0.068068,    0.069069,     0.07007,    0.071071,\n",
       "          0.072072,    0.073073,    0.074074,    0.075075,    0.076076,    0.077077,    0.078078,    0.079079,     0.08008,    0.081081,    0.082082,    0.083083,    0.084084,    0.085085,    0.086086,    0.087087,    0.088088,    0.089089,     0.09009,    0.091091,    0.092092,    0.093093,    0.094094,    0.095095,\n",
       "          0.096096,    0.097097,    0.098098,    0.099099,      0.1001,      0.1011,      0.1021,      0.1031,      0.1041,     0.10511,     0.10611,     0.10711,     0.10811,     0.10911,     0.11011,     0.11111,     0.11211,     0.11311,     0.11411,     0.11512,     0.11612,     0.11712,     0.11812,     0.11912,\n",
       "           0.12012,     0.12112,     0.12212,     0.12312,     0.12412,     0.12513,     0.12613,     0.12713,     0.12813,     0.12913,     0.13013,     0.13113,     0.13213,     0.13313,     0.13413,     0.13514,     0.13614,     0.13714,     0.13814,     0.13914,     0.14014,     0.14114,     0.14214,     0.14314,\n",
       "           0.14414,     0.14515,     0.14615,     0.14715,     0.14815,     0.14915,     0.15015,     0.15115,     0.15215,     0.15315,     0.15415,     0.15516,     0.15616,     0.15716,     0.15816,     0.15916,     0.16016,     0.16116,     0.16216,     0.16316,     0.16416,     0.16517,     0.16617,     0.16717,\n",
       "           0.16817,     0.16917,     0.17017,     0.17117,     0.17217,     0.17317,     0.17417,     0.17518,     0.17618,     0.17718,     0.17818,     0.17918,     0.18018,     0.18118,     0.18218,     0.18318,     0.18418,     0.18519,     0.18619,     0.18719,     0.18819,     0.18919,     0.19019,     0.19119,\n",
       "           0.19219,     0.19319,     0.19419,      0.1952,      0.1962,      0.1972,      0.1982,      0.1992,      0.2002,      0.2012,      0.2022,      0.2032,      0.2042,     0.20521,     0.20621,     0.20721,     0.20821,     0.20921,     0.21021,     0.21121,     0.21221,     0.21321,     0.21421,     0.21522,\n",
       "           0.21622,     0.21722,     0.21822,     0.21922,     0.22022,     0.22122,     0.22222,     0.22322,     0.22422,     0.22523,     0.22623,     0.22723,     0.22823,     0.22923,     0.23023,     0.23123,     0.23223,     0.23323,     0.23423,     0.23524,     0.23624,     0.23724,     0.23824,     0.23924,\n",
       "           0.24024,     0.24124,     0.24224,     0.24324,     0.24424,     0.24525,     0.24625,     0.24725,     0.24825,     0.24925,     0.25025,     0.25125,     0.25225,     0.25325,     0.25425,     0.25526,     0.25626,     0.25726,     0.25826,     0.25926,     0.26026,     0.26126,     0.26226,     0.26326,\n",
       "           0.26426,     0.26527,     0.26627,     0.26727,     0.26827,     0.26927,     0.27027,     0.27127,     0.27227,     0.27327,     0.27427,     0.27528,     0.27628,     0.27728,     0.27828,     0.27928,     0.28028,     0.28128,     0.28228,     0.28328,     0.28428,     0.28529,     0.28629,     0.28729,\n",
       "           0.28829,     0.28929,     0.29029,     0.29129,     0.29229,     0.29329,     0.29429,      0.2953,      0.2963,      0.2973,      0.2983,      0.2993,      0.3003,      0.3013,      0.3023,      0.3033,      0.3043,     0.30531,     0.30631,     0.30731,     0.30831,     0.30931,     0.31031,     0.31131,\n",
       "           0.31231,     0.31331,     0.31431,     0.31532,     0.31632,     0.31732,     0.31832,     0.31932,     0.32032,     0.32132,     0.32232,     0.32332,     0.32432,     0.32533,     0.32633,     0.32733,     0.32833,     0.32933,     0.33033,     0.33133,     0.33233,     0.33333,     0.33433,     0.33534,\n",
       "           0.33634,     0.33734,     0.33834,     0.33934,     0.34034,     0.34134,     0.34234,     0.34334,     0.34434,     0.34535,     0.34635,     0.34735,     0.34835,     0.34935,     0.35035,     0.35135,     0.35235,     0.35335,     0.35435,     0.35536,     0.35636,     0.35736,     0.35836,     0.35936,\n",
       "           0.36036,     0.36136,     0.36236,     0.36336,     0.36436,     0.36537,     0.36637,     0.36737,     0.36837,     0.36937,     0.37037,     0.37137,     0.37237,     0.37337,     0.37437,     0.37538,     0.37638,     0.37738,     0.37838,     0.37938,     0.38038,     0.38138,     0.38238,     0.38338,\n",
       "           0.38438,     0.38539,     0.38639,     0.38739,     0.38839,     0.38939,     0.39039,     0.39139,     0.39239,     0.39339,     0.39439,      0.3954,      0.3964,      0.3974,      0.3984,      0.3994,      0.4004,      0.4014,      0.4024,      0.4034,      0.4044,     0.40541,     0.40641,     0.40741,\n",
       "           0.40841,     0.40941,     0.41041,     0.41141,     0.41241,     0.41341,     0.41441,     0.41542,     0.41642,     0.41742,     0.41842,     0.41942,     0.42042,     0.42142,     0.42242,     0.42342,     0.42442,     0.42543,     0.42643,     0.42743,     0.42843,     0.42943,     0.43043,     0.43143,\n",
       "           0.43243,     0.43343,     0.43443,     0.43544,     0.43644,     0.43744,     0.43844,     0.43944,     0.44044,     0.44144,     0.44244,     0.44344,     0.44444,     0.44545,     0.44645,     0.44745,     0.44845,     0.44945,     0.45045,     0.45145,     0.45245,     0.45345,     0.45445,     0.45546,\n",
       "           0.45646,     0.45746,     0.45846,     0.45946,     0.46046,     0.46146,     0.46246,     0.46346,     0.46446,     0.46547,     0.46647,     0.46747,     0.46847,     0.46947,     0.47047,     0.47147,     0.47247,     0.47347,     0.47447,     0.47548,     0.47648,     0.47748,     0.47848,     0.47948,\n",
       "           0.48048,     0.48148,     0.48248,     0.48348,     0.48448,     0.48549,     0.48649,     0.48749,     0.48849,     0.48949,     0.49049,     0.49149,     0.49249,     0.49349,     0.49449,      0.4955,      0.4965,      0.4975,      0.4985,      0.4995,      0.5005,      0.5015,      0.5025,      0.5035,\n",
       "            0.5045,     0.50551,     0.50651,     0.50751,     0.50851,     0.50951,     0.51051,     0.51151,     0.51251,     0.51351,     0.51451,     0.51552,     0.51652,     0.51752,     0.51852,     0.51952,     0.52052,     0.52152,     0.52252,     0.52352,     0.52452,     0.52553,     0.52653,     0.52753,\n",
       "           0.52853,     0.52953,     0.53053,     0.53153,     0.53253,     0.53353,     0.53453,     0.53554,     0.53654,     0.53754,     0.53854,     0.53954,     0.54054,     0.54154,     0.54254,     0.54354,     0.54454,     0.54555,     0.54655,     0.54755,     0.54855,     0.54955,     0.55055,     0.55155,\n",
       "           0.55255,     0.55355,     0.55455,     0.55556,     0.55656,     0.55756,     0.55856,     0.55956,     0.56056,     0.56156,     0.56256,     0.56356,     0.56456,     0.56557,     0.56657,     0.56757,     0.56857,     0.56957,     0.57057,     0.57157,     0.57257,     0.57357,     0.57457,     0.57558,\n",
       "           0.57658,     0.57758,     0.57858,     0.57958,     0.58058,     0.58158,     0.58258,     0.58358,     0.58458,     0.58559,     0.58659,     0.58759,     0.58859,     0.58959,     0.59059,     0.59159,     0.59259,     0.59359,     0.59459,      0.5956,      0.5966,      0.5976,      0.5986,      0.5996,\n",
       "            0.6006,      0.6016,      0.6026,      0.6036,      0.6046,     0.60561,     0.60661,     0.60761,     0.60861,     0.60961,     0.61061,     0.61161,     0.61261,     0.61361,     0.61461,     0.61562,     0.61662,     0.61762,     0.61862,     0.61962,     0.62062,     0.62162,     0.62262,     0.62362,\n",
       "           0.62462,     0.62563,     0.62663,     0.62763,     0.62863,     0.62963,     0.63063,     0.63163,     0.63263,     0.63363,     0.63463,     0.63564,     0.63664,     0.63764,     0.63864,     0.63964,     0.64064,     0.64164,     0.64264,     0.64364,     0.64464,     0.64565,     0.64665,     0.64765,\n",
       "           0.64865,     0.64965,     0.65065,     0.65165,     0.65265,     0.65365,     0.65465,     0.65566,     0.65666,     0.65766,     0.65866,     0.65966,     0.66066,     0.66166,     0.66266,     0.66366,     0.66466,     0.66567,     0.66667,     0.66767,     0.66867,     0.66967,     0.67067,     0.67167,\n",
       "           0.67267,     0.67367,     0.67467,     0.67568,     0.67668,     0.67768,     0.67868,     0.67968,     0.68068,     0.68168,     0.68268,     0.68368,     0.68468,     0.68569,     0.68669,     0.68769,     0.68869,     0.68969,     0.69069,     0.69169,     0.69269,     0.69369,     0.69469,      0.6957,\n",
       "            0.6967,      0.6977,      0.6987,      0.6997,      0.7007,      0.7017,      0.7027,      0.7037,      0.7047,     0.70571,     0.70671,     0.70771,     0.70871,     0.70971,     0.71071,     0.71171,     0.71271,     0.71371,     0.71471,     0.71572,     0.71672,     0.71772,     0.71872,     0.71972,\n",
       "           0.72072,     0.72172,     0.72272,     0.72372,     0.72472,     0.72573,     0.72673,     0.72773,     0.72873,     0.72973,     0.73073,     0.73173,     0.73273,     0.73373,     0.73473,     0.73574,     0.73674,     0.73774,     0.73874,     0.73974,     0.74074,     0.74174,     0.74274,     0.74374,\n",
       "           0.74474,     0.74575,     0.74675,     0.74775,     0.74875,     0.74975,     0.75075,     0.75175,     0.75275,     0.75375,     0.75475,     0.75576,     0.75676,     0.75776,     0.75876,     0.75976,     0.76076,     0.76176,     0.76276,     0.76376,     0.76476,     0.76577,     0.76677,     0.76777,\n",
       "           0.76877,     0.76977,     0.77077,     0.77177,     0.77277,     0.77377,     0.77477,     0.77578,     0.77678,     0.77778,     0.77878,     0.77978,     0.78078,     0.78178,     0.78278,     0.78378,     0.78478,     0.78579,     0.78679,     0.78779,     0.78879,     0.78979,     0.79079,     0.79179,\n",
       "           0.79279,     0.79379,     0.79479,      0.7958,      0.7968,      0.7978,      0.7988,      0.7998,      0.8008,      0.8018,      0.8028,      0.8038,      0.8048,     0.80581,     0.80681,     0.80781,     0.80881,     0.80981,     0.81081,     0.81181,     0.81281,     0.81381,     0.81481,     0.81582,\n",
       "           0.81682,     0.81782,     0.81882,     0.81982,     0.82082,     0.82182,     0.82282,     0.82382,     0.82482,     0.82583,     0.82683,     0.82783,     0.82883,     0.82983,     0.83083,     0.83183,     0.83283,     0.83383,     0.83483,     0.83584,     0.83684,     0.83784,     0.83884,     0.83984,\n",
       "           0.84084,     0.84184,     0.84284,     0.84384,     0.84484,     0.84585,     0.84685,     0.84785,     0.84885,     0.84985,     0.85085,     0.85185,     0.85285,     0.85385,     0.85485,     0.85586,     0.85686,     0.85786,     0.85886,     0.85986,     0.86086,     0.86186,     0.86286,     0.86386,\n",
       "           0.86486,     0.86587,     0.86687,     0.86787,     0.86887,     0.86987,     0.87087,     0.87187,     0.87287,     0.87387,     0.87487,     0.87588,     0.87688,     0.87788,     0.87888,     0.87988,     0.88088,     0.88188,     0.88288,     0.88388,     0.88488,     0.88589,     0.88689,     0.88789,\n",
       "           0.88889,     0.88989,     0.89089,     0.89189,     0.89289,     0.89389,     0.89489,      0.8959,      0.8969,      0.8979,      0.8989,      0.8999,      0.9009,      0.9019,      0.9029,      0.9039,      0.9049,     0.90591,     0.90691,     0.90791,     0.90891,     0.90991,     0.91091,     0.91191,\n",
       "           0.91291,     0.91391,     0.91491,     0.91592,     0.91692,     0.91792,     0.91892,     0.91992,     0.92092,     0.92192,     0.92292,     0.92392,     0.92492,     0.92593,     0.92693,     0.92793,     0.92893,     0.92993,     0.93093,     0.93193,     0.93293,     0.93393,     0.93493,     0.93594,\n",
       "           0.93694,     0.93794,     0.93894,     0.93994,     0.94094,     0.94194,     0.94294,     0.94394,     0.94494,     0.94595,     0.94695,     0.94795,     0.94895,     0.94995,     0.95095,     0.95195,     0.95295,     0.95395,     0.95495,     0.95596,     0.95696,     0.95796,     0.95896,     0.95996,\n",
       "           0.96096,     0.96196,     0.96296,     0.96396,     0.96496,     0.96597,     0.96697,     0.96797,     0.96897,     0.96997,     0.97097,     0.97197,     0.97297,     0.97397,     0.97497,     0.97598,     0.97698,     0.97798,     0.97898,     0.97998,     0.98098,     0.98198,     0.98298,     0.98398,\n",
       "           0.98498,     0.98599,     0.98699,     0.98799,     0.98899,     0.98999,     0.99099,     0.99199,     0.99299,     0.99399,     0.99499,       0.996,       0.997,       0.998,       0.999,           1]), array([[    0.13436,     0.13445,      0.2183,     0.27449,     0.31691,     0.35086,     0.37532,     0.40599,     0.42376,     0.44386,     0.45665,     0.46718,     0.48061,     0.49164,     0.49986,     0.50879,     0.51792,     0.52693,     0.53764,     0.54711,     0.55699,      0.5635,      0.5721,\n",
       "            0.58142,     0.58949,     0.59929,     0.61015,     0.61596,     0.61997,     0.62744,     0.63363,     0.63527,     0.63609,     0.64052,     0.64734,     0.65115,      0.6558,     0.66171,     0.66557,     0.66761,     0.67166,     0.67658,     0.67733,     0.68171,     0.68734,     0.68869,\n",
       "            0.69226,     0.69506,     0.69684,     0.69933,      0.7003,     0.70101,      0.7018,     0.70284,     0.70593,     0.71333,     0.71543,     0.71697,     0.71806,     0.72218,     0.72371,     0.72468,     0.72694,     0.72783,     0.72834,     0.72886,     0.73068,     0.73156,     0.73374,\n",
       "            0.73699,     0.73866,     0.74043,     0.74509,     0.74576,     0.74643,     0.74738,     0.74885,      0.7514,     0.75504,      0.7563,     0.75805,      0.7608,     0.76211,     0.76308,     0.76485,      0.7661,     0.76887,     0.77068,     0.77147,     0.77189,     0.77232,     0.77302,\n",
       "            0.77617,     0.77677,     0.77737,     0.77788,     0.77836,     0.77883,      0.7795,     0.78061,     0.78229,     0.78463,     0.78556,     0.78686,     0.78782,     0.78855,     0.78954,     0.79104,     0.79248,     0.79227,     0.79288,     0.79531,      0.7959,     0.79649,     0.79709,\n",
       "            0.79769,     0.80001,     0.80085,     0.80169,     0.80198,     0.80225,     0.80252,     0.80279,     0.80306,     0.80333,     0.80666,     0.80494,     0.80733,     0.80984,     0.81358,     0.81524,     0.81604,     0.81697,     0.81876,     0.81922,     0.81968,     0.82013,     0.82057,\n",
       "            0.82097,     0.82137,     0.82177,     0.82217,     0.82303,     0.82396,      0.8247,     0.82541,     0.82598,     0.82624,     0.82651,     0.82677,     0.82704,      0.8273,     0.82757,     0.82806,     0.82899,     0.82977,     0.83028,     0.83078,     0.83129,     0.82899,      0.8299,\n",
       "            0.83078,     0.83152,     0.83226,     0.83473,     0.83527,     0.83582,     0.83636,     0.83723,      0.8381,      0.8393,     0.84057,     0.84185,     0.84253,     0.84305,     0.84358,     0.84414,      0.8449,     0.84566,     0.84631,     0.84688,     0.84745,       0.849,     0.85041,\n",
       "              0.851,      0.8516,     0.85222,     0.85286,     0.85349,     0.85608,      0.8583,     0.85932,     0.86054,     0.86189,     0.86256,     0.86323,     0.86389,     0.86451,     0.86512,     0.86573,     0.86702,     0.86802,     0.86828,     0.86853,     0.86878,     0.86903,     0.86929,\n",
       "            0.86954,     0.86979,      0.8703,     0.87158,     0.87149,     0.87064,     0.86978,     0.86969,     0.87034,     0.87098,     0.87169,     0.87254,     0.87339,     0.87421,     0.87504,     0.87596,     0.87711,     0.87815,     0.87907,     0.87995,     0.88064,     0.88133,     0.88197,\n",
       "            0.88232,     0.88266,       0.883,     0.88335,     0.88369,     0.88404,     0.88541,     0.88653,     0.88725,     0.88796,     0.89058,     0.89073,     0.89087,     0.89102,     0.89117,     0.89132,     0.89147,     0.89162,     0.89177,     0.89191,     0.89206,     0.89221,     0.89236,\n",
       "            0.89251,     0.89266,     0.89395,     0.89504,     0.89547,      0.8959,     0.89634,     0.89677,     0.89816,     0.89968,      0.9003,     0.90092,     0.90153,      0.9021,     0.90268,     0.90325,     0.90385,     0.90457,      0.9053,     0.90591,     0.90558,     0.90526,     0.90493,\n",
       "            0.90461,     0.90428,     0.90396,     0.90363,     0.90331,     0.90249,      0.9015,     0.90051,     0.90083,     0.90117,     0.90151,     0.90184,     0.90218,     0.90252,     0.90284,     0.90313,     0.90342,      0.9037,     0.90399,     0.90428,     0.90457,     0.90485,     0.90542,\n",
       "            0.90627,     0.90712,     0.90796,      0.9088,     0.90959,        0.91,     0.91041,     0.91082,     0.91122,     0.91163,      0.9101,     0.90927,     0.90953,     0.90979,     0.91004,      0.9103,     0.91056,     0.91081,     0.91107,     0.91132,     0.91002,      0.9077,     0.90616,\n",
       "            0.90681,     0.90746,     0.90811,      0.9089,      0.9097,     0.91051,     0.91157,     0.91263,     0.91338,     0.91407,     0.91475,     0.91521,     0.91534,     0.91546,     0.91558,      0.9157,     0.91582,     0.91594,     0.91606,     0.91618,      0.9163,     0.91642,     0.91654,\n",
       "            0.91666,     0.91678,     0.91691,     0.91703,     0.91715,     0.91727,     0.91739,     0.91751,      0.9147,      0.9143,      0.9139,     0.91349,     0.91309,     0.91269,     0.91228,     0.91185,     0.91118,     0.91051,     0.90984,     0.90916,      0.9087,     0.90827,     0.90783,\n",
       "            0.90739,     0.90695,     0.90652,     0.90643,      0.9069,     0.90736,     0.90782,     0.90828,     0.90638,     0.90827,      0.9085,     0.90873,     0.90895,     0.90918,     0.90941,     0.90963,     0.90986,     0.91009,     0.91031,     0.91049,     0.90982,     0.90916,     0.90849,\n",
       "            0.90783,     0.90814,     0.90881,     0.90947,     0.91007,     0.91024,     0.91041,     0.91058,     0.91075,     0.91091,     0.91108,     0.91125,     0.91142,     0.91158,     0.91175,     0.91192,     0.91208,     0.91225,     0.91242,      0.9142,     0.91272,     0.91162,     0.91089,\n",
       "            0.91016,     0.90942,      0.9093,     0.90967,     0.91005,     0.91042,      0.9108,     0.91117,     0.91152,     0.91139,     0.91127,     0.91114,     0.91101,     0.91088,     0.91076,     0.91063,      0.9105,     0.91037,     0.91025,     0.91012,     0.90999,     0.90986,     0.90974,\n",
       "            0.90961,     0.90948,     0.90935,     0.90923,      0.9091,     0.90897,     0.90884,     0.90871,     0.90866,     0.90917,     0.90967,     0.91018,     0.91068,     0.91109,     0.91122,     0.91135,     0.91148,     0.91162,     0.91175,     0.91188,     0.91201,     0.91215,     0.91228,\n",
       "            0.91241,     0.91254,     0.91268,     0.91281,     0.91294,     0.91307,     0.91321,     0.91334,     0.91347,      0.9136,     0.91373,     0.91386,     0.91398,     0.91411,     0.91424,     0.91437,     0.91449,     0.91462,     0.91475,     0.91488,       0.915,     0.91513,     0.91526,\n",
       "            0.91539,     0.91551,     0.91564,     0.91577,     0.91589,     0.91544,     0.91329,     0.91276,     0.91245,     0.91213,     0.91182,      0.9115,     0.91118,     0.91087,     0.91055,     0.91023,     0.90884,     0.90643,      0.9041,      0.9039,      0.9037,      0.9035,     0.90331,\n",
       "            0.90311,     0.90291,     0.90271,     0.90252,     0.90232,     0.90212,     0.90192,     0.90173,     0.90153,     0.90133,     0.90113,     0.90139,     0.90174,     0.90209,     0.90243,     0.90278,     0.90313,     0.90348,     0.90419,     0.90506,     0.90593,     0.90595,     0.90579,\n",
       "            0.90563,     0.90548,     0.90532,     0.90516,     0.90501,     0.90485,     0.90469,     0.90454,     0.90438,     0.90422,     0.90407,     0.90391,     0.90375,      0.9036,     0.90344,     0.90328,     0.90312,     0.90298,     0.90284,      0.9027,     0.90256,     0.90242,     0.90228,\n",
       "            0.90214,       0.902,     0.90186,     0.90172,     0.90158,     0.90144,      0.9013,     0.90116,     0.90102,     0.90088,     0.90074,     0.90061,     0.90047,     0.90033,     0.90019,     0.90005,     0.90094,     0.90233,     0.90192,     0.90124,     0.90055,     0.89987,     0.89939,\n",
       "            0.89924,     0.89909,     0.89894,     0.89879,     0.89864,     0.89849,     0.89834,     0.89819,     0.89804,     0.89789,     0.89774,     0.89759,     0.89744,     0.89729,     0.89714,     0.89699,     0.89684,     0.89669,     0.89654,     0.89639,     0.89536,     0.89409,     0.89261,\n",
       "            0.89072,     0.88834,     0.88682,     0.88644,     0.88606,     0.88568,      0.8853,     0.88492,     0.88454,     0.88415,     0.88345,     0.88157,     0.88046,     0.88005,     0.87964,     0.87923,     0.87881,      0.8784,     0.87798,     0.87757,     0.87656,      0.8754,     0.87427,\n",
       "            0.87369,      0.8731,     0.87252,     0.87193,     0.87135,     0.87014,     0.86832,     0.86738,     0.86677,     0.86616,     0.86555,     0.86494,     0.86198,     0.86013,     0.85886,     0.85781,     0.85729,     0.85677,     0.85625,     0.85573,     0.85521,     0.85468,     0.85043,\n",
       "            0.84943,     0.84842,     0.84737,     0.84627,     0.84518,     0.84203,     0.84014,     0.83892,     0.83766,     0.83569,       0.835,     0.83666,     0.83597,     0.83527,     0.83457,     0.83387,     0.83304,     0.83177,      0.8305,     0.82949,     0.82874,     0.82799,     0.82725,\n",
       "             0.8265,     0.82542,     0.82426,      0.8231,     0.82007,       0.819,     0.81864,     0.81827,     0.81791,     0.81755,     0.81719,     0.81683,     0.81647,     0.81611,     0.81574,     0.81685,      0.8181,     0.81582,     0.81425,     0.81358,     0.81292,     0.81226,     0.81159,\n",
       "            0.81092,     0.81014,     0.80935,     0.80856,     0.80778,     0.80524,     0.80412,     0.80477,     0.80543,     0.80608,     0.80429,      0.8021,     0.79949,     0.79405,     0.79139,     0.78981,     0.78827,     0.78615,     0.78362,      0.7827,     0.78179,     0.78087,     0.77995,\n",
       "            0.77858,     0.77717,      0.7746,     0.77106,     0.76943,     0.76777,     0.76603,      0.7642,     0.76001,     0.75701,     0.75489,     0.75298,     0.74944,     0.74701,     0.74518,     0.74378,     0.74275,     0.74172,     0.74069,     0.72769,     0.72547,     0.72348,     0.72244,\n",
       "             0.7214,     0.72035,     0.71925,     0.71785,     0.71644,     0.71515,     0.71454,     0.71393,     0.71332,     0.71271,      0.7121,     0.71149,     0.71081,     0.70975,     0.70868,     0.70762,     0.70549,     0.69337,       0.692,     0.69062,     0.68924,     0.67987,      0.6787,\n",
       "            0.67754,     0.67637,     0.67504,     0.67355,     0.67206,     0.67007,     0.66747,      0.6656,     0.66406,     0.66252,     0.65937,     0.65366,     0.65232,      0.6518,     0.65129,     0.65077,     0.65025,     0.64973,     0.64922,      0.6487,     0.64818,     0.64886,     0.64981,\n",
       "            0.64561,     0.64436,      0.6431,     0.64185,     0.64067,     0.63981,     0.63894,     0.63808,     0.63721,     0.63634,     0.63013,     0.62772,     0.61554,     0.60754,     0.60473,     0.60268,     0.60096,     0.59976,     0.59856,     0.59736,     0.59491,     0.58913,     0.58082,\n",
       "            0.58042,     0.58002,     0.57962,     0.57923,     0.57883,     0.57842,     0.57802,     0.57762,     0.57722,     0.57682,     0.57642,     0.57602,     0.57551,     0.57357,     0.57162,     0.56373,     0.55913,     0.54642,     0.54185,     0.53885,     0.53326,      0.5284,     0.52464,\n",
       "            0.52135,     0.51665,      0.5112,     0.50141,     0.49685,     0.49119,     0.47964,     0.47337,     0.46474,     0.46003,     0.45027,     0.44557,     0.43863,     0.43619,     0.43373,     0.43031,     0.42612,     0.42237,     0.40927,     0.40333,     0.39789,     0.39031,     0.38403,\n",
       "            0.37159,      0.3669,     0.36257,     0.35773,     0.35106,     0.34796,     0.34485,      0.3198,      0.3051,     0.29014,     0.28304,     0.27562,     0.27105,     0.26811,      0.2655,     0.26288,     0.25513,     0.24541,      0.2254,     0.18858,     0.17909,     0.16236,     0.15352,\n",
       "            0.12688,      0.1228,     0.11874,     0.10924,    0.092274,    0.086877,    0.082826,     0.06453,    0.048974,    0.044848,    0.040673,    0.035322,     0.02992,    0.024373,    0.017343,           0,           0,           0,           0,           0,           0,           0,           0,\n",
       "                  0,           0,           0,           0,           0,           0,           0,           0,           0,           0,           0,           0,           0,           0,           0,           0,           0,           0,           0,           0,           0,           0,           0,\n",
       "                  0,           0,           0,           0,           0,           0,           0,           0,           0,           0,           0,           0,           0,           0,           0,           0,           0,           0,           0,           0,           0,           0,           0,\n",
       "                  0,           0,           0,           0,           0,           0,           0,           0,           0,           0,           0,           0,           0,           0,           0,           0,           0,           0,           0,           0,           0,           0,           0,\n",
       "                  0,           0,           0,           0,           0,           0,           0,           0,           0,           0,           0,           0,           0,           0,           0,           0,           0,           0,           0,           0,           0,           0,           0,\n",
       "                  0,           0,           0,           0,           0,           0,           0,           0,           0,           0,           0]]), 'Confidence', 'F1'], [array([          0,    0.001001,    0.002002,    0.003003,    0.004004,    0.005005,    0.006006,    0.007007,    0.008008,    0.009009,     0.01001,    0.011011,    0.012012,    0.013013,    0.014014,    0.015015,    0.016016,    0.017017,    0.018018,    0.019019,     0.02002,    0.021021,    0.022022,    0.023023,\n",
       "          0.024024,    0.025025,    0.026026,    0.027027,    0.028028,    0.029029,     0.03003,    0.031031,    0.032032,    0.033033,    0.034034,    0.035035,    0.036036,    0.037037,    0.038038,    0.039039,     0.04004,    0.041041,    0.042042,    0.043043,    0.044044,    0.045045,    0.046046,    0.047047,\n",
       "          0.048048,    0.049049,     0.05005,    0.051051,    0.052052,    0.053053,    0.054054,    0.055055,    0.056056,    0.057057,    0.058058,    0.059059,     0.06006,    0.061061,    0.062062,    0.063063,    0.064064,    0.065065,    0.066066,    0.067067,    0.068068,    0.069069,     0.07007,    0.071071,\n",
       "          0.072072,    0.073073,    0.074074,    0.075075,    0.076076,    0.077077,    0.078078,    0.079079,     0.08008,    0.081081,    0.082082,    0.083083,    0.084084,    0.085085,    0.086086,    0.087087,    0.088088,    0.089089,     0.09009,    0.091091,    0.092092,    0.093093,    0.094094,    0.095095,\n",
       "          0.096096,    0.097097,    0.098098,    0.099099,      0.1001,      0.1011,      0.1021,      0.1031,      0.1041,     0.10511,     0.10611,     0.10711,     0.10811,     0.10911,     0.11011,     0.11111,     0.11211,     0.11311,     0.11411,     0.11512,     0.11612,     0.11712,     0.11812,     0.11912,\n",
       "           0.12012,     0.12112,     0.12212,     0.12312,     0.12412,     0.12513,     0.12613,     0.12713,     0.12813,     0.12913,     0.13013,     0.13113,     0.13213,     0.13313,     0.13413,     0.13514,     0.13614,     0.13714,     0.13814,     0.13914,     0.14014,     0.14114,     0.14214,     0.14314,\n",
       "           0.14414,     0.14515,     0.14615,     0.14715,     0.14815,     0.14915,     0.15015,     0.15115,     0.15215,     0.15315,     0.15415,     0.15516,     0.15616,     0.15716,     0.15816,     0.15916,     0.16016,     0.16116,     0.16216,     0.16316,     0.16416,     0.16517,     0.16617,     0.16717,\n",
       "           0.16817,     0.16917,     0.17017,     0.17117,     0.17217,     0.17317,     0.17417,     0.17518,     0.17618,     0.17718,     0.17818,     0.17918,     0.18018,     0.18118,     0.18218,     0.18318,     0.18418,     0.18519,     0.18619,     0.18719,     0.18819,     0.18919,     0.19019,     0.19119,\n",
       "           0.19219,     0.19319,     0.19419,      0.1952,      0.1962,      0.1972,      0.1982,      0.1992,      0.2002,      0.2012,      0.2022,      0.2032,      0.2042,     0.20521,     0.20621,     0.20721,     0.20821,     0.20921,     0.21021,     0.21121,     0.21221,     0.21321,     0.21421,     0.21522,\n",
       "           0.21622,     0.21722,     0.21822,     0.21922,     0.22022,     0.22122,     0.22222,     0.22322,     0.22422,     0.22523,     0.22623,     0.22723,     0.22823,     0.22923,     0.23023,     0.23123,     0.23223,     0.23323,     0.23423,     0.23524,     0.23624,     0.23724,     0.23824,     0.23924,\n",
       "           0.24024,     0.24124,     0.24224,     0.24324,     0.24424,     0.24525,     0.24625,     0.24725,     0.24825,     0.24925,     0.25025,     0.25125,     0.25225,     0.25325,     0.25425,     0.25526,     0.25626,     0.25726,     0.25826,     0.25926,     0.26026,     0.26126,     0.26226,     0.26326,\n",
       "           0.26426,     0.26527,     0.26627,     0.26727,     0.26827,     0.26927,     0.27027,     0.27127,     0.27227,     0.27327,     0.27427,     0.27528,     0.27628,     0.27728,     0.27828,     0.27928,     0.28028,     0.28128,     0.28228,     0.28328,     0.28428,     0.28529,     0.28629,     0.28729,\n",
       "           0.28829,     0.28929,     0.29029,     0.29129,     0.29229,     0.29329,     0.29429,      0.2953,      0.2963,      0.2973,      0.2983,      0.2993,      0.3003,      0.3013,      0.3023,      0.3033,      0.3043,     0.30531,     0.30631,     0.30731,     0.30831,     0.30931,     0.31031,     0.31131,\n",
       "           0.31231,     0.31331,     0.31431,     0.31532,     0.31632,     0.31732,     0.31832,     0.31932,     0.32032,     0.32132,     0.32232,     0.32332,     0.32432,     0.32533,     0.32633,     0.32733,     0.32833,     0.32933,     0.33033,     0.33133,     0.33233,     0.33333,     0.33433,     0.33534,\n",
       "           0.33634,     0.33734,     0.33834,     0.33934,     0.34034,     0.34134,     0.34234,     0.34334,     0.34434,     0.34535,     0.34635,     0.34735,     0.34835,     0.34935,     0.35035,     0.35135,     0.35235,     0.35335,     0.35435,     0.35536,     0.35636,     0.35736,     0.35836,     0.35936,\n",
       "           0.36036,     0.36136,     0.36236,     0.36336,     0.36436,     0.36537,     0.36637,     0.36737,     0.36837,     0.36937,     0.37037,     0.37137,     0.37237,     0.37337,     0.37437,     0.37538,     0.37638,     0.37738,     0.37838,     0.37938,     0.38038,     0.38138,     0.38238,     0.38338,\n",
       "           0.38438,     0.38539,     0.38639,     0.38739,     0.38839,     0.38939,     0.39039,     0.39139,     0.39239,     0.39339,     0.39439,      0.3954,      0.3964,      0.3974,      0.3984,      0.3994,      0.4004,      0.4014,      0.4024,      0.4034,      0.4044,     0.40541,     0.40641,     0.40741,\n",
       "           0.40841,     0.40941,     0.41041,     0.41141,     0.41241,     0.41341,     0.41441,     0.41542,     0.41642,     0.41742,     0.41842,     0.41942,     0.42042,     0.42142,     0.42242,     0.42342,     0.42442,     0.42543,     0.42643,     0.42743,     0.42843,     0.42943,     0.43043,     0.43143,\n",
       "           0.43243,     0.43343,     0.43443,     0.43544,     0.43644,     0.43744,     0.43844,     0.43944,     0.44044,     0.44144,     0.44244,     0.44344,     0.44444,     0.44545,     0.44645,     0.44745,     0.44845,     0.44945,     0.45045,     0.45145,     0.45245,     0.45345,     0.45445,     0.45546,\n",
       "           0.45646,     0.45746,     0.45846,     0.45946,     0.46046,     0.46146,     0.46246,     0.46346,     0.46446,     0.46547,     0.46647,     0.46747,     0.46847,     0.46947,     0.47047,     0.47147,     0.47247,     0.47347,     0.47447,     0.47548,     0.47648,     0.47748,     0.47848,     0.47948,\n",
       "           0.48048,     0.48148,     0.48248,     0.48348,     0.48448,     0.48549,     0.48649,     0.48749,     0.48849,     0.48949,     0.49049,     0.49149,     0.49249,     0.49349,     0.49449,      0.4955,      0.4965,      0.4975,      0.4985,      0.4995,      0.5005,      0.5015,      0.5025,      0.5035,\n",
       "            0.5045,     0.50551,     0.50651,     0.50751,     0.50851,     0.50951,     0.51051,     0.51151,     0.51251,     0.51351,     0.51451,     0.51552,     0.51652,     0.51752,     0.51852,     0.51952,     0.52052,     0.52152,     0.52252,     0.52352,     0.52452,     0.52553,     0.52653,     0.52753,\n",
       "           0.52853,     0.52953,     0.53053,     0.53153,     0.53253,     0.53353,     0.53453,     0.53554,     0.53654,     0.53754,     0.53854,     0.53954,     0.54054,     0.54154,     0.54254,     0.54354,     0.54454,     0.54555,     0.54655,     0.54755,     0.54855,     0.54955,     0.55055,     0.55155,\n",
       "           0.55255,     0.55355,     0.55455,     0.55556,     0.55656,     0.55756,     0.55856,     0.55956,     0.56056,     0.56156,     0.56256,     0.56356,     0.56456,     0.56557,     0.56657,     0.56757,     0.56857,     0.56957,     0.57057,     0.57157,     0.57257,     0.57357,     0.57457,     0.57558,\n",
       "           0.57658,     0.57758,     0.57858,     0.57958,     0.58058,     0.58158,     0.58258,     0.58358,     0.58458,     0.58559,     0.58659,     0.58759,     0.58859,     0.58959,     0.59059,     0.59159,     0.59259,     0.59359,     0.59459,      0.5956,      0.5966,      0.5976,      0.5986,      0.5996,\n",
       "            0.6006,      0.6016,      0.6026,      0.6036,      0.6046,     0.60561,     0.60661,     0.60761,     0.60861,     0.60961,     0.61061,     0.61161,     0.61261,     0.61361,     0.61461,     0.61562,     0.61662,     0.61762,     0.61862,     0.61962,     0.62062,     0.62162,     0.62262,     0.62362,\n",
       "           0.62462,     0.62563,     0.62663,     0.62763,     0.62863,     0.62963,     0.63063,     0.63163,     0.63263,     0.63363,     0.63463,     0.63564,     0.63664,     0.63764,     0.63864,     0.63964,     0.64064,     0.64164,     0.64264,     0.64364,     0.64464,     0.64565,     0.64665,     0.64765,\n",
       "           0.64865,     0.64965,     0.65065,     0.65165,     0.65265,     0.65365,     0.65465,     0.65566,     0.65666,     0.65766,     0.65866,     0.65966,     0.66066,     0.66166,     0.66266,     0.66366,     0.66466,     0.66567,     0.66667,     0.66767,     0.66867,     0.66967,     0.67067,     0.67167,\n",
       "           0.67267,     0.67367,     0.67467,     0.67568,     0.67668,     0.67768,     0.67868,     0.67968,     0.68068,     0.68168,     0.68268,     0.68368,     0.68468,     0.68569,     0.68669,     0.68769,     0.68869,     0.68969,     0.69069,     0.69169,     0.69269,     0.69369,     0.69469,      0.6957,\n",
       "            0.6967,      0.6977,      0.6987,      0.6997,      0.7007,      0.7017,      0.7027,      0.7037,      0.7047,     0.70571,     0.70671,     0.70771,     0.70871,     0.70971,     0.71071,     0.71171,     0.71271,     0.71371,     0.71471,     0.71572,     0.71672,     0.71772,     0.71872,     0.71972,\n",
       "           0.72072,     0.72172,     0.72272,     0.72372,     0.72472,     0.72573,     0.72673,     0.72773,     0.72873,     0.72973,     0.73073,     0.73173,     0.73273,     0.73373,     0.73473,     0.73574,     0.73674,     0.73774,     0.73874,     0.73974,     0.74074,     0.74174,     0.74274,     0.74374,\n",
       "           0.74474,     0.74575,     0.74675,     0.74775,     0.74875,     0.74975,     0.75075,     0.75175,     0.75275,     0.75375,     0.75475,     0.75576,     0.75676,     0.75776,     0.75876,     0.75976,     0.76076,     0.76176,     0.76276,     0.76376,     0.76476,     0.76577,     0.76677,     0.76777,\n",
       "           0.76877,     0.76977,     0.77077,     0.77177,     0.77277,     0.77377,     0.77477,     0.77578,     0.77678,     0.77778,     0.77878,     0.77978,     0.78078,     0.78178,     0.78278,     0.78378,     0.78478,     0.78579,     0.78679,     0.78779,     0.78879,     0.78979,     0.79079,     0.79179,\n",
       "           0.79279,     0.79379,     0.79479,      0.7958,      0.7968,      0.7978,      0.7988,      0.7998,      0.8008,      0.8018,      0.8028,      0.8038,      0.8048,     0.80581,     0.80681,     0.80781,     0.80881,     0.80981,     0.81081,     0.81181,     0.81281,     0.81381,     0.81481,     0.81582,\n",
       "           0.81682,     0.81782,     0.81882,     0.81982,     0.82082,     0.82182,     0.82282,     0.82382,     0.82482,     0.82583,     0.82683,     0.82783,     0.82883,     0.82983,     0.83083,     0.83183,     0.83283,     0.83383,     0.83483,     0.83584,     0.83684,     0.83784,     0.83884,     0.83984,\n",
       "           0.84084,     0.84184,     0.84284,     0.84384,     0.84484,     0.84585,     0.84685,     0.84785,     0.84885,     0.84985,     0.85085,     0.85185,     0.85285,     0.85385,     0.85485,     0.85586,     0.85686,     0.85786,     0.85886,     0.85986,     0.86086,     0.86186,     0.86286,     0.86386,\n",
       "           0.86486,     0.86587,     0.86687,     0.86787,     0.86887,     0.86987,     0.87087,     0.87187,     0.87287,     0.87387,     0.87487,     0.87588,     0.87688,     0.87788,     0.87888,     0.87988,     0.88088,     0.88188,     0.88288,     0.88388,     0.88488,     0.88589,     0.88689,     0.88789,\n",
       "           0.88889,     0.88989,     0.89089,     0.89189,     0.89289,     0.89389,     0.89489,      0.8959,      0.8969,      0.8979,      0.8989,      0.8999,      0.9009,      0.9019,      0.9029,      0.9039,      0.9049,     0.90591,     0.90691,     0.90791,     0.90891,     0.90991,     0.91091,     0.91191,\n",
       "           0.91291,     0.91391,     0.91491,     0.91592,     0.91692,     0.91792,     0.91892,     0.91992,     0.92092,     0.92192,     0.92292,     0.92392,     0.92492,     0.92593,     0.92693,     0.92793,     0.92893,     0.92993,     0.93093,     0.93193,     0.93293,     0.93393,     0.93493,     0.93594,\n",
       "           0.93694,     0.93794,     0.93894,     0.93994,     0.94094,     0.94194,     0.94294,     0.94394,     0.94494,     0.94595,     0.94695,     0.94795,     0.94895,     0.94995,     0.95095,     0.95195,     0.95295,     0.95395,     0.95495,     0.95596,     0.95696,     0.95796,     0.95896,     0.95996,\n",
       "           0.96096,     0.96196,     0.96296,     0.96396,     0.96496,     0.96597,     0.96697,     0.96797,     0.96897,     0.96997,     0.97097,     0.97197,     0.97297,     0.97397,     0.97497,     0.97598,     0.97698,     0.97798,     0.97898,     0.97998,     0.98098,     0.98198,     0.98298,     0.98398,\n",
       "           0.98498,     0.98599,     0.98699,     0.98799,     0.98899,     0.98999,     0.99099,     0.99199,     0.99299,     0.99399,     0.99499,       0.996,       0.997,       0.998,       0.999,           1]), array([[   0.072018,    0.072071,     0.12252,     0.15908,     0.18829,     0.21299,     0.23129,     0.25538,     0.27039,     0.28697,     0.29776,     0.30678,     0.31846,     0.32822,     0.33559,     0.34369,     0.35207,     0.36045,     0.37055,      0.3796,     0.38919,     0.39557,     0.40411,\n",
       "            0.41347,     0.42168,     0.43178,     0.44314,      0.4493,     0.45357,     0.46162,     0.46835,     0.47015,     0.47105,     0.47593,     0.48349,     0.48776,       0.493,      0.4997,     0.50411,     0.50647,     0.51113,     0.51686,     0.51773,     0.52287,     0.52952,     0.53113,\n",
       "            0.53538,     0.53874,     0.54088,     0.54389,     0.54506,     0.54592,     0.54689,     0.54815,     0.55192,     0.56102,     0.56513,     0.56728,     0.56865,     0.57384,     0.57578,     0.57701,     0.57987,       0.581,     0.58166,     0.58231,     0.58465,     0.58577,     0.58857,\n",
       "            0.59276,     0.59493,     0.59724,     0.60331,      0.6042,     0.60508,     0.60632,     0.60826,     0.61164,     0.61648,     0.61815,      0.6205,     0.62419,     0.62595,     0.62727,     0.62967,     0.63136,     0.63513,      0.6376,     0.63868,     0.63927,     0.63985,     0.64081,\n",
       "            0.64516,     0.64599,     0.64682,     0.64752,     0.64818,     0.64884,     0.64976,     0.65131,     0.65365,     0.65693,     0.65824,     0.66006,     0.66142,     0.66244,     0.66384,     0.66596,     0.66801,     0.66943,     0.67105,     0.67454,     0.67539,     0.67624,     0.67711,\n",
       "            0.67798,     0.68133,     0.68255,     0.68377,      0.6842,     0.68459,     0.68499,     0.68538,     0.68577,     0.68617,     0.69132,     0.69118,      0.6947,     0.69843,     0.70402,      0.7065,      0.7077,      0.7091,      0.7118,      0.7125,     0.71319,     0.71388,     0.71454,\n",
       "            0.71515,     0.71576,     0.71636,     0.71697,     0.71828,      0.7197,     0.72083,     0.72192,     0.72279,      0.7232,      0.7236,     0.72401,     0.72441,     0.72482,     0.72523,     0.72599,     0.72741,     0.72861,     0.72939,     0.73018,     0.73096,     0.73041,     0.73182,\n",
       "            0.73319,     0.73435,      0.7355,     0.73937,     0.74022,     0.74107,     0.74193,      0.7433,     0.74468,     0.74657,     0.74858,     0.75062,     0.75169,     0.75253,     0.75337,     0.75426,     0.75548,     0.75669,     0.75773,     0.75865,     0.75956,     0.76205,     0.76433,\n",
       "            0.76529,     0.76626,     0.76726,     0.76829,     0.76932,     0.77354,     0.77718,     0.77885,     0.78086,     0.78308,     0.78419,     0.78529,      0.7864,     0.78741,     0.78843,     0.78945,     0.79159,     0.79327,     0.79369,     0.79411,     0.79454,     0.79496,     0.79538,\n",
       "             0.7958,     0.79622,     0.79708,     0.79923,     0.79982,     0.79954,     0.79926,     0.79968,     0.80078,     0.80187,     0.80308,     0.80452,     0.80596,     0.80737,     0.80878,     0.81036,     0.81232,     0.81411,      0.8157,     0.81721,      0.8184,     0.81959,     0.82071,\n",
       "             0.8213,      0.8219,     0.82249,     0.82309,     0.82369,     0.82428,     0.82668,     0.82863,     0.82988,     0.83114,     0.83573,     0.83599,     0.83626,     0.83652,     0.83678,     0.83704,     0.83731,     0.83757,     0.83783,     0.83809,     0.83835,     0.83862,     0.83888,\n",
       "            0.83914,      0.8394,     0.84169,     0.84363,      0.8444,     0.84517,     0.84593,      0.8467,     0.84919,     0.85191,     0.85302,     0.85413,     0.85524,     0.85627,      0.8573,     0.85833,     0.85942,     0.86073,     0.86204,      0.8632,     0.86312,     0.86304,     0.86297,\n",
       "            0.86289,     0.86281,     0.86273,     0.86266,     0.86258,     0.86238,     0.86214,     0.86191,     0.86252,     0.86314,     0.86376,     0.86438,       0.865,     0.86562,     0.86621,     0.86674,     0.86727,      0.8678,     0.86833,     0.86886,     0.86939,     0.86992,     0.87097,\n",
       "            0.87254,     0.87411,     0.87568,     0.87724,     0.87872,     0.87949,     0.88025,     0.88101,     0.88177,     0.88254,     0.88256,      0.8827,     0.88318,     0.88367,     0.88415,     0.88463,     0.88512,      0.8856,     0.88608,     0.88657,     0.88642,     0.88595,     0.88616,\n",
       "            0.88741,     0.88865,      0.8899,     0.89142,     0.89296,     0.89451,     0.89656,     0.89862,     0.90008,     0.90141,     0.90274,     0.90365,     0.90388,     0.90412,     0.90435,     0.90459,     0.90483,     0.90506,      0.9053,     0.90553,     0.90577,       0.906,     0.90624,\n",
       "            0.90648,     0.90671,     0.90695,     0.90718,     0.90742,     0.90766,     0.90789,     0.90813,     0.90769,     0.90762,     0.90755,     0.90748,     0.90741,     0.90735,     0.90728,      0.9072,     0.90709,     0.90698,     0.90686,     0.90675,     0.90667,     0.90659,     0.90652,\n",
       "            0.90644,     0.90637,      0.9063,     0.90662,     0.90754,     0.90847,     0.90939,     0.91032,     0.91177,     0.91562,     0.91608,     0.91654,       0.917,     0.91747,     0.91793,     0.91839,     0.91885,     0.91932,     0.91978,     0.92021,     0.92011,     0.92001,     0.91991,\n",
       "            0.91981,     0.92079,     0.92216,     0.92353,     0.92477,     0.92512,     0.92547,     0.92581,     0.92616,     0.92651,     0.92686,      0.9272,     0.92755,      0.9279,     0.92824,     0.92859,     0.92894,     0.92928,     0.92963,      0.9347,     0.93451,     0.93438,     0.93429,\n",
       "             0.9342,     0.93411,      0.9345,     0.93529,     0.93609,     0.93688,     0.93768,     0.93847,     0.93923,     0.93921,      0.9392,     0.93918,     0.93917,     0.93915,     0.93914,     0.93912,     0.93911,     0.93909,     0.93908,     0.93906,     0.93905,     0.93903,     0.93902,\n",
       "              0.939,     0.93899,     0.93898,     0.93896,     0.93895,     0.93893,     0.93892,      0.9389,     0.93902,      0.9401,     0.94118,     0.94226,     0.94334,     0.94421,     0.94449,     0.94478,     0.94506,     0.94535,     0.94564,     0.94592,     0.94621,     0.94649,     0.94678,\n",
       "            0.94706,     0.94735,     0.94763,     0.94792,      0.9482,     0.94849,     0.94878,     0.94906,     0.94935,     0.94963,      0.9499,     0.95018,     0.95045,     0.95073,     0.95101,     0.95128,     0.95156,     0.95183,     0.95211,     0.95239,     0.95266,     0.95294,     0.95322,\n",
       "            0.95349,     0.95377,     0.95404,     0.95432,      0.9546,     0.95475,     0.95457,     0.95452,     0.95449,     0.95447,     0.95444,     0.95441,     0.95438,     0.95435,     0.95433,      0.9543,     0.95418,     0.95396,     0.95376,     0.95374,     0.95372,      0.9537,     0.95369,\n",
       "            0.95367,     0.95365,     0.95363,     0.95361,      0.9536,     0.95358,     0.95356,     0.95354,     0.95353,     0.95351,     0.95349,     0.95414,     0.95492,      0.9557,     0.95648,     0.95727,     0.95805,     0.95883,     0.96044,     0.96241,     0.96438,      0.9647,     0.96469,\n",
       "            0.96468,     0.96466,     0.96465,     0.96464,     0.96463,     0.96462,     0.96461,      0.9646,     0.96459,     0.96458,     0.96457,     0.96456,     0.96455,     0.96453,     0.96452,     0.96451,      0.9645,     0.96449,     0.96448,     0.96447,     0.96446,     0.96445,     0.96444,\n",
       "            0.96443,     0.96442,     0.96441,     0.96441,      0.9644,     0.96439,     0.96438,     0.96437,     0.96436,     0.96435,     0.96434,     0.96433,     0.96432,     0.96431,      0.9643,     0.96429,     0.96644,     0.96964,     0.97003,     0.96998,     0.96994,      0.9699,     0.96988,\n",
       "            0.96987,     0.96986,     0.96985,     0.96984,     0.96983,     0.96982,     0.96981,     0.96981,      0.9698,     0.96979,     0.96978,     0.96977,     0.96976,     0.96975,     0.96974,     0.96973,     0.96973,     0.96972,     0.96971,      0.9697,     0.96964,     0.96956,     0.96947,\n",
       "            0.96936,     0.96922,     0.96912,      0.9691,     0.96908,     0.96906,     0.96903,     0.96901,     0.96899,     0.96896,     0.96892,      0.9688,     0.96874,     0.96871,     0.96869,     0.96866,     0.96863,     0.96861,     0.96858,     0.96856,      0.9685,     0.96842,     0.96835,\n",
       "            0.96832,     0.96828,     0.96824,     0.96821,     0.96817,     0.96809,     0.96798,     0.96792,     0.96788,     0.96784,      0.9678,     0.96777,     0.96758,     0.96746,     0.96738,     0.96731,     0.96728,     0.96724,     0.96721,     0.96717,     0.96714,     0.96711,     0.96683,\n",
       "            0.96676,      0.9667,     0.96663,     0.96656,     0.96648,     0.96627,     0.96615,     0.96606,     0.96598,     0.96585,     0.96757,     0.97241,     0.97237,     0.97233,     0.97229,     0.97225,     0.97221,     0.97214,     0.97206,     0.97201,     0.97197,     0.97192,     0.97188,\n",
       "            0.97184,     0.97178,     0.97171,     0.97165,     0.97147,     0.97141,     0.97139,     0.97137,     0.97135,     0.97133,     0.97131,     0.97129,     0.97127,     0.97125,     0.97122,     0.97445,     0.97801,     0.97816,     0.97809,     0.97806,     0.97803,       0.978,     0.97797,\n",
       "            0.97794,      0.9779,     0.97787,     0.97783,      0.9778,     0.97768,     0.97891,     0.98085,     0.98279,     0.98473,      0.9849,     0.98484,     0.98476,     0.98458,      0.9845,     0.98445,      0.9844,     0.98433,     0.98425,     0.98422,     0.98419,     0.98416,     0.98413,\n",
       "            0.98408,     0.98404,     0.98395,     0.98383,     0.98378,     0.98372,     0.98366,      0.9836,     0.98346,     0.98335,     0.98328,     0.98321,     0.98309,       0.983,     0.98294,     0.98289,     0.98285,     0.98281,     0.98277,     0.98229,     0.98221,     0.98213,      0.9821,\n",
       "            0.98206,     0.98202,     0.98197,     0.98192,     0.98186,     0.98181,     0.98179,     0.98177,     0.98174,     0.98172,      0.9817,     0.98167,     0.98165,      0.9816,     0.98156,     0.98152,     0.98143,     0.98094,     0.98089,     0.98083,     0.98077,     0.98037,     0.98032,\n",
       "            0.98027,     0.98022,     0.98017,      0.9801,     0.98004,     0.97995,     0.97983,     0.97975,     0.97968,     0.97961,     0.97947,     0.97921,     0.97915,     0.97912,      0.9791,     0.97907,     0.97905,     0.97902,       0.979,     0.97898,     0.97895,     0.98251,     0.98687,\n",
       "            0.98925,     0.98922,     0.98919,     0.98915,     0.98913,      0.9891,     0.98908,     0.98906,     0.98904,     0.98902,     0.98886,      0.9888,     0.98848,     0.98826,     0.98819,     0.98813,     0.98808,     0.98805,     0.98801,     0.98798,     0.98791,     0.98774,      0.9875,\n",
       "            0.98749,     0.98747,     0.98746,     0.98745,     0.98744,     0.98743,     0.98741,      0.9874,     0.98739,     0.98738,     0.98737,     0.98735,     0.98734,     0.98728,     0.98722,     0.98697,     0.98682,      0.9864,     0.98625,     0.98614,     0.98595,     0.98577,     0.98564,\n",
       "            0.98552,     0.99458,           1,           1,           1,           1,           1,           1,           1,           1,           1,           1,           1,           1,           1,           1,           1,           1,           1,           1,           1,           1,           1,\n",
       "                  1,           1,           1,           1,           1,           1,           1,           1,           1,           1,           1,           1,           1,           1,           1,           1,           1,           1,           1,           1,           1,           1,           1,\n",
       "                  1,           1,           1,           1,           1,           1,           1,           1,           1,           1,           1,           1,           1,           1,           1,           1,           1,           1,           1,           1,           1,           1,           1,\n",
       "                  1,           1,           1,           1,           1,           1,           1,           1,           1,           1,           1,           1,           1,           1,           1,           1,           1,           1,           1,           1,           1,           1,           1,\n",
       "                  1,           1,           1,           1,           1,           1,           1,           1,           1,           1,           1,           1,           1,           1,           1,           1,           1,           1,           1,           1,           1,           1,           1,\n",
       "                  1,           1,           1,           1,           1,           1,           1,           1,           1,           1,           1,           1,           1,           1,           1,           1,           1,           1,           1,           1,           1,           1,           1,\n",
       "                  1,           1,           1,           1,           1,           1,           1,           1,           1,           1,           1,           1,           1,           1,           1,           1,           1,           1,           1,           1,           1,           1,           1,\n",
       "                  1,           1,           1,           1,           1,           1,           1,           1,           1,           1,           1]]), 'Confidence', 'Precision'], [array([          0,    0.001001,    0.002002,    0.003003,    0.004004,    0.005005,    0.006006,    0.007007,    0.008008,    0.009009,     0.01001,    0.011011,    0.012012,    0.013013,    0.014014,    0.015015,    0.016016,    0.017017,    0.018018,    0.019019,     0.02002,    0.021021,    0.022022,    0.023023,\n",
       "          0.024024,    0.025025,    0.026026,    0.027027,    0.028028,    0.029029,     0.03003,    0.031031,    0.032032,    0.033033,    0.034034,    0.035035,    0.036036,    0.037037,    0.038038,    0.039039,     0.04004,    0.041041,    0.042042,    0.043043,    0.044044,    0.045045,    0.046046,    0.047047,\n",
       "          0.048048,    0.049049,     0.05005,    0.051051,    0.052052,    0.053053,    0.054054,    0.055055,    0.056056,    0.057057,    0.058058,    0.059059,     0.06006,    0.061061,    0.062062,    0.063063,    0.064064,    0.065065,    0.066066,    0.067067,    0.068068,    0.069069,     0.07007,    0.071071,\n",
       "          0.072072,    0.073073,    0.074074,    0.075075,    0.076076,    0.077077,    0.078078,    0.079079,     0.08008,    0.081081,    0.082082,    0.083083,    0.084084,    0.085085,    0.086086,    0.087087,    0.088088,    0.089089,     0.09009,    0.091091,    0.092092,    0.093093,    0.094094,    0.095095,\n",
       "          0.096096,    0.097097,    0.098098,    0.099099,      0.1001,      0.1011,      0.1021,      0.1031,      0.1041,     0.10511,     0.10611,     0.10711,     0.10811,     0.10911,     0.11011,     0.11111,     0.11211,     0.11311,     0.11411,     0.11512,     0.11612,     0.11712,     0.11812,     0.11912,\n",
       "           0.12012,     0.12112,     0.12212,     0.12312,     0.12412,     0.12513,     0.12613,     0.12713,     0.12813,     0.12913,     0.13013,     0.13113,     0.13213,     0.13313,     0.13413,     0.13514,     0.13614,     0.13714,     0.13814,     0.13914,     0.14014,     0.14114,     0.14214,     0.14314,\n",
       "           0.14414,     0.14515,     0.14615,     0.14715,     0.14815,     0.14915,     0.15015,     0.15115,     0.15215,     0.15315,     0.15415,     0.15516,     0.15616,     0.15716,     0.15816,     0.15916,     0.16016,     0.16116,     0.16216,     0.16316,     0.16416,     0.16517,     0.16617,     0.16717,\n",
       "           0.16817,     0.16917,     0.17017,     0.17117,     0.17217,     0.17317,     0.17417,     0.17518,     0.17618,     0.17718,     0.17818,     0.17918,     0.18018,     0.18118,     0.18218,     0.18318,     0.18418,     0.18519,     0.18619,     0.18719,     0.18819,     0.18919,     0.19019,     0.19119,\n",
       "           0.19219,     0.19319,     0.19419,      0.1952,      0.1962,      0.1972,      0.1982,      0.1992,      0.2002,      0.2012,      0.2022,      0.2032,      0.2042,     0.20521,     0.20621,     0.20721,     0.20821,     0.20921,     0.21021,     0.21121,     0.21221,     0.21321,     0.21421,     0.21522,\n",
       "           0.21622,     0.21722,     0.21822,     0.21922,     0.22022,     0.22122,     0.22222,     0.22322,     0.22422,     0.22523,     0.22623,     0.22723,     0.22823,     0.22923,     0.23023,     0.23123,     0.23223,     0.23323,     0.23423,     0.23524,     0.23624,     0.23724,     0.23824,     0.23924,\n",
       "           0.24024,     0.24124,     0.24224,     0.24324,     0.24424,     0.24525,     0.24625,     0.24725,     0.24825,     0.24925,     0.25025,     0.25125,     0.25225,     0.25325,     0.25425,     0.25526,     0.25626,     0.25726,     0.25826,     0.25926,     0.26026,     0.26126,     0.26226,     0.26326,\n",
       "           0.26426,     0.26527,     0.26627,     0.26727,     0.26827,     0.26927,     0.27027,     0.27127,     0.27227,     0.27327,     0.27427,     0.27528,     0.27628,     0.27728,     0.27828,     0.27928,     0.28028,     0.28128,     0.28228,     0.28328,     0.28428,     0.28529,     0.28629,     0.28729,\n",
       "           0.28829,     0.28929,     0.29029,     0.29129,     0.29229,     0.29329,     0.29429,      0.2953,      0.2963,      0.2973,      0.2983,      0.2993,      0.3003,      0.3013,      0.3023,      0.3033,      0.3043,     0.30531,     0.30631,     0.30731,     0.30831,     0.30931,     0.31031,     0.31131,\n",
       "           0.31231,     0.31331,     0.31431,     0.31532,     0.31632,     0.31732,     0.31832,     0.31932,     0.32032,     0.32132,     0.32232,     0.32332,     0.32432,     0.32533,     0.32633,     0.32733,     0.32833,     0.32933,     0.33033,     0.33133,     0.33233,     0.33333,     0.33433,     0.33534,\n",
       "           0.33634,     0.33734,     0.33834,     0.33934,     0.34034,     0.34134,     0.34234,     0.34334,     0.34434,     0.34535,     0.34635,     0.34735,     0.34835,     0.34935,     0.35035,     0.35135,     0.35235,     0.35335,     0.35435,     0.35536,     0.35636,     0.35736,     0.35836,     0.35936,\n",
       "           0.36036,     0.36136,     0.36236,     0.36336,     0.36436,     0.36537,     0.36637,     0.36737,     0.36837,     0.36937,     0.37037,     0.37137,     0.37237,     0.37337,     0.37437,     0.37538,     0.37638,     0.37738,     0.37838,     0.37938,     0.38038,     0.38138,     0.38238,     0.38338,\n",
       "           0.38438,     0.38539,     0.38639,     0.38739,     0.38839,     0.38939,     0.39039,     0.39139,     0.39239,     0.39339,     0.39439,      0.3954,      0.3964,      0.3974,      0.3984,      0.3994,      0.4004,      0.4014,      0.4024,      0.4034,      0.4044,     0.40541,     0.40641,     0.40741,\n",
       "           0.40841,     0.40941,     0.41041,     0.41141,     0.41241,     0.41341,     0.41441,     0.41542,     0.41642,     0.41742,     0.41842,     0.41942,     0.42042,     0.42142,     0.42242,     0.42342,     0.42442,     0.42543,     0.42643,     0.42743,     0.42843,     0.42943,     0.43043,     0.43143,\n",
       "           0.43243,     0.43343,     0.43443,     0.43544,     0.43644,     0.43744,     0.43844,     0.43944,     0.44044,     0.44144,     0.44244,     0.44344,     0.44444,     0.44545,     0.44645,     0.44745,     0.44845,     0.44945,     0.45045,     0.45145,     0.45245,     0.45345,     0.45445,     0.45546,\n",
       "           0.45646,     0.45746,     0.45846,     0.45946,     0.46046,     0.46146,     0.46246,     0.46346,     0.46446,     0.46547,     0.46647,     0.46747,     0.46847,     0.46947,     0.47047,     0.47147,     0.47247,     0.47347,     0.47447,     0.47548,     0.47648,     0.47748,     0.47848,     0.47948,\n",
       "           0.48048,     0.48148,     0.48248,     0.48348,     0.48448,     0.48549,     0.48649,     0.48749,     0.48849,     0.48949,     0.49049,     0.49149,     0.49249,     0.49349,     0.49449,      0.4955,      0.4965,      0.4975,      0.4985,      0.4995,      0.5005,      0.5015,      0.5025,      0.5035,\n",
       "            0.5045,     0.50551,     0.50651,     0.50751,     0.50851,     0.50951,     0.51051,     0.51151,     0.51251,     0.51351,     0.51451,     0.51552,     0.51652,     0.51752,     0.51852,     0.51952,     0.52052,     0.52152,     0.52252,     0.52352,     0.52452,     0.52553,     0.52653,     0.52753,\n",
       "           0.52853,     0.52953,     0.53053,     0.53153,     0.53253,     0.53353,     0.53453,     0.53554,     0.53654,     0.53754,     0.53854,     0.53954,     0.54054,     0.54154,     0.54254,     0.54354,     0.54454,     0.54555,     0.54655,     0.54755,     0.54855,     0.54955,     0.55055,     0.55155,\n",
       "           0.55255,     0.55355,     0.55455,     0.55556,     0.55656,     0.55756,     0.55856,     0.55956,     0.56056,     0.56156,     0.56256,     0.56356,     0.56456,     0.56557,     0.56657,     0.56757,     0.56857,     0.56957,     0.57057,     0.57157,     0.57257,     0.57357,     0.57457,     0.57558,\n",
       "           0.57658,     0.57758,     0.57858,     0.57958,     0.58058,     0.58158,     0.58258,     0.58358,     0.58458,     0.58559,     0.58659,     0.58759,     0.58859,     0.58959,     0.59059,     0.59159,     0.59259,     0.59359,     0.59459,      0.5956,      0.5966,      0.5976,      0.5986,      0.5996,\n",
       "            0.6006,      0.6016,      0.6026,      0.6036,      0.6046,     0.60561,     0.60661,     0.60761,     0.60861,     0.60961,     0.61061,     0.61161,     0.61261,     0.61361,     0.61461,     0.61562,     0.61662,     0.61762,     0.61862,     0.61962,     0.62062,     0.62162,     0.62262,     0.62362,\n",
       "           0.62462,     0.62563,     0.62663,     0.62763,     0.62863,     0.62963,     0.63063,     0.63163,     0.63263,     0.63363,     0.63463,     0.63564,     0.63664,     0.63764,     0.63864,     0.63964,     0.64064,     0.64164,     0.64264,     0.64364,     0.64464,     0.64565,     0.64665,     0.64765,\n",
       "           0.64865,     0.64965,     0.65065,     0.65165,     0.65265,     0.65365,     0.65465,     0.65566,     0.65666,     0.65766,     0.65866,     0.65966,     0.66066,     0.66166,     0.66266,     0.66366,     0.66466,     0.66567,     0.66667,     0.66767,     0.66867,     0.66967,     0.67067,     0.67167,\n",
       "           0.67267,     0.67367,     0.67467,     0.67568,     0.67668,     0.67768,     0.67868,     0.67968,     0.68068,     0.68168,     0.68268,     0.68368,     0.68468,     0.68569,     0.68669,     0.68769,     0.68869,     0.68969,     0.69069,     0.69169,     0.69269,     0.69369,     0.69469,      0.6957,\n",
       "            0.6967,      0.6977,      0.6987,      0.6997,      0.7007,      0.7017,      0.7027,      0.7037,      0.7047,     0.70571,     0.70671,     0.70771,     0.70871,     0.70971,     0.71071,     0.71171,     0.71271,     0.71371,     0.71471,     0.71572,     0.71672,     0.71772,     0.71872,     0.71972,\n",
       "           0.72072,     0.72172,     0.72272,     0.72372,     0.72472,     0.72573,     0.72673,     0.72773,     0.72873,     0.72973,     0.73073,     0.73173,     0.73273,     0.73373,     0.73473,     0.73574,     0.73674,     0.73774,     0.73874,     0.73974,     0.74074,     0.74174,     0.74274,     0.74374,\n",
       "           0.74474,     0.74575,     0.74675,     0.74775,     0.74875,     0.74975,     0.75075,     0.75175,     0.75275,     0.75375,     0.75475,     0.75576,     0.75676,     0.75776,     0.75876,     0.75976,     0.76076,     0.76176,     0.76276,     0.76376,     0.76476,     0.76577,     0.76677,     0.76777,\n",
       "           0.76877,     0.76977,     0.77077,     0.77177,     0.77277,     0.77377,     0.77477,     0.77578,     0.77678,     0.77778,     0.77878,     0.77978,     0.78078,     0.78178,     0.78278,     0.78378,     0.78478,     0.78579,     0.78679,     0.78779,     0.78879,     0.78979,     0.79079,     0.79179,\n",
       "           0.79279,     0.79379,     0.79479,      0.7958,      0.7968,      0.7978,      0.7988,      0.7998,      0.8008,      0.8018,      0.8028,      0.8038,      0.8048,     0.80581,     0.80681,     0.80781,     0.80881,     0.80981,     0.81081,     0.81181,     0.81281,     0.81381,     0.81481,     0.81582,\n",
       "           0.81682,     0.81782,     0.81882,     0.81982,     0.82082,     0.82182,     0.82282,     0.82382,     0.82482,     0.82583,     0.82683,     0.82783,     0.82883,     0.82983,     0.83083,     0.83183,     0.83283,     0.83383,     0.83483,     0.83584,     0.83684,     0.83784,     0.83884,     0.83984,\n",
       "           0.84084,     0.84184,     0.84284,     0.84384,     0.84484,     0.84585,     0.84685,     0.84785,     0.84885,     0.84985,     0.85085,     0.85185,     0.85285,     0.85385,     0.85485,     0.85586,     0.85686,     0.85786,     0.85886,     0.85986,     0.86086,     0.86186,     0.86286,     0.86386,\n",
       "           0.86486,     0.86587,     0.86687,     0.86787,     0.86887,     0.86987,     0.87087,     0.87187,     0.87287,     0.87387,     0.87487,     0.87588,     0.87688,     0.87788,     0.87888,     0.87988,     0.88088,     0.88188,     0.88288,     0.88388,     0.88488,     0.88589,     0.88689,     0.88789,\n",
       "           0.88889,     0.88989,     0.89089,     0.89189,     0.89289,     0.89389,     0.89489,      0.8959,      0.8969,      0.8979,      0.8989,      0.8999,      0.9009,      0.9019,      0.9029,      0.9039,      0.9049,     0.90591,     0.90691,     0.90791,     0.90891,     0.90991,     0.91091,     0.91191,\n",
       "           0.91291,     0.91391,     0.91491,     0.91592,     0.91692,     0.91792,     0.91892,     0.91992,     0.92092,     0.92192,     0.92292,     0.92392,     0.92492,     0.92593,     0.92693,     0.92793,     0.92893,     0.92993,     0.93093,     0.93193,     0.93293,     0.93393,     0.93493,     0.93594,\n",
       "           0.93694,     0.93794,     0.93894,     0.93994,     0.94094,     0.94194,     0.94294,     0.94394,     0.94494,     0.94595,     0.94695,     0.94795,     0.94895,     0.94995,     0.95095,     0.95195,     0.95295,     0.95395,     0.95495,     0.95596,     0.95696,     0.95796,     0.95896,     0.95996,\n",
       "           0.96096,     0.96196,     0.96296,     0.96396,     0.96496,     0.96597,     0.96697,     0.96797,     0.96897,     0.96997,     0.97097,     0.97197,     0.97297,     0.97397,     0.97497,     0.97598,     0.97698,     0.97798,     0.97898,     0.97998,     0.98098,     0.98198,     0.98298,     0.98398,\n",
       "           0.98498,     0.98599,     0.98699,     0.98799,     0.98899,     0.98999,     0.99099,     0.99199,     0.99299,     0.99399,     0.99499,       0.996,       0.997,       0.998,       0.999,           1]), array([[          1,           1,           1,           1,           1,     0.99479,     0.99479,     0.98958,     0.97917,     0.97917,     0.97917,     0.97917,     0.97917,     0.97917,     0.97917,     0.97917,     0.97917,     0.97917,     0.97917,     0.97917,     0.97917,     0.97917,     0.97917,\n",
       "            0.97917,     0.97917,     0.97917,     0.97917,     0.97917,     0.97917,     0.97917,     0.97917,     0.97917,     0.97917,     0.97917,     0.97917,     0.97917,     0.97917,     0.97917,     0.97917,     0.97917,     0.97917,     0.97917,     0.97917,     0.97917,     0.97917,     0.97917,\n",
       "            0.97917,     0.97917,     0.97917,     0.97917,     0.97917,     0.97917,     0.97917,     0.97917,     0.97917,     0.97917,     0.97464,     0.97396,     0.97396,     0.97396,     0.97396,     0.97396,     0.97396,     0.97396,     0.97396,     0.97396,     0.97396,     0.97396,     0.97396,\n",
       "            0.97396,     0.97396,     0.97396,     0.97396,     0.97396,     0.97396,     0.97396,     0.97396,     0.97396,     0.97396,     0.97396,     0.97396,     0.97396,     0.97396,     0.97396,     0.97396,     0.97396,     0.97396,     0.97396,     0.97396,     0.97396,     0.97396,     0.97396,\n",
       "            0.97396,     0.97396,     0.97396,     0.97396,     0.97396,     0.97396,     0.97396,     0.97396,     0.97396,     0.97396,     0.97396,     0.97396,     0.97396,     0.97396,     0.97396,     0.97396,     0.97396,     0.97033,     0.96875,     0.96875,     0.96875,     0.96875,     0.96875,\n",
       "            0.96875,     0.96875,     0.96875,     0.96875,     0.96875,     0.96875,     0.96875,     0.96875,     0.96875,     0.96875,     0.96818,     0.96354,     0.96354,     0.96354,     0.96354,     0.96354,     0.96354,     0.96354,     0.96354,     0.96354,     0.96354,     0.96354,     0.96354,\n",
       "            0.96354,     0.96354,     0.96354,     0.96354,     0.96354,     0.96354,     0.96354,     0.96354,     0.96354,     0.96354,     0.96354,     0.96354,     0.96354,     0.96354,     0.96354,     0.96354,     0.96354,     0.96354,     0.96354,     0.96354,     0.96354,     0.95833,     0.95833,\n",
       "            0.95833,     0.95833,     0.95833,     0.95833,     0.95833,     0.95833,     0.95833,     0.95833,     0.95833,     0.95833,     0.95833,     0.95833,     0.95833,     0.95833,     0.95833,     0.95833,     0.95833,     0.95833,     0.95833,     0.95833,     0.95833,     0.95833,     0.95833,\n",
       "            0.95833,     0.95833,     0.95833,     0.95833,     0.95833,     0.95833,     0.95833,     0.95833,     0.95833,     0.95833,     0.95833,     0.95833,     0.95833,     0.95833,     0.95833,     0.95833,     0.95833,     0.95833,     0.95833,     0.95833,     0.95833,     0.95833,     0.95833,\n",
       "            0.95833,     0.95833,     0.95833,     0.95833,     0.95727,     0.95561,     0.95394,     0.95312,     0.95312,     0.95312,     0.95312,     0.95312,     0.95312,     0.95312,     0.95312,     0.95312,     0.95312,     0.95312,     0.95312,     0.95312,     0.95312,     0.95312,     0.95312,\n",
       "            0.95312,     0.95312,     0.95312,     0.95312,     0.95312,     0.95312,     0.95312,     0.95312,     0.95312,     0.95312,     0.95312,     0.95312,     0.95312,     0.95312,     0.95312,     0.95312,     0.95312,     0.95312,     0.95312,     0.95312,     0.95312,     0.95312,     0.95312,\n",
       "            0.95312,     0.95312,     0.95312,     0.95312,     0.95312,     0.95312,     0.95312,     0.95312,     0.95312,     0.95312,     0.95312,     0.95312,     0.95312,     0.95312,     0.95312,     0.95312,     0.95312,     0.95312,     0.95312,     0.95306,     0.95243,     0.95181,     0.95119,\n",
       "            0.95056,     0.94994,     0.94932,     0.94869,     0.94807,      0.9465,     0.94462,     0.94273,     0.94271,     0.94271,     0.94271,     0.94271,     0.94271,     0.94271,     0.94271,     0.94271,     0.94271,     0.94271,     0.94271,     0.94271,     0.94271,     0.94271,     0.94271,\n",
       "            0.94271,     0.94271,     0.94271,     0.94271,     0.94271,     0.94271,     0.94271,     0.94271,     0.94271,     0.94271,     0.93941,      0.9375,      0.9375,      0.9375,      0.9375,      0.9375,      0.9375,      0.9375,      0.9375,      0.9375,     0.93491,     0.93055,     0.92708,\n",
       "            0.92708,     0.92708,     0.92708,     0.92708,     0.92708,     0.92708,     0.92708,     0.92708,     0.92708,     0.92708,     0.92708,     0.92708,     0.92708,     0.92708,     0.92708,     0.92708,     0.92708,     0.92708,     0.92708,     0.92708,     0.92708,     0.92708,     0.92708,\n",
       "            0.92708,     0.92708,     0.92708,     0.92708,     0.92708,     0.92708,     0.92708,     0.92708,     0.92183,     0.92108,     0.92033,     0.91958,     0.91884,     0.91809,     0.91734,     0.91654,      0.9153,     0.91407,     0.91283,     0.91159,     0.91074,     0.90994,     0.90914,\n",
       "            0.90834,     0.90754,     0.90673,     0.90625,     0.90625,     0.90625,     0.90625,     0.90625,     0.90104,     0.90104,     0.90104,     0.90104,     0.90104,     0.90104,     0.90104,     0.90104,     0.90104,     0.90104,     0.90104,     0.90097,     0.89976,     0.89856,     0.89736,\n",
       "            0.89615,     0.89583,     0.89583,     0.89583,     0.89583,     0.89583,     0.89583,     0.89583,     0.89583,     0.89583,     0.89583,     0.89583,     0.89583,     0.89583,     0.89583,     0.89583,     0.89583,     0.89583,     0.89583,     0.89458,     0.89192,     0.88995,     0.88864,\n",
       "            0.88732,     0.88601,     0.88542,     0.88542,     0.88542,     0.88542,     0.88542,     0.88542,     0.88541,     0.88518,     0.88495,     0.88472,      0.8845,     0.88427,     0.88404,     0.88382,     0.88359,     0.88336,     0.88313,     0.88291,     0.88268,     0.88245,     0.88222,\n",
       "              0.882,     0.88177,     0.88154,     0.88132,     0.88109,     0.88086,     0.88063,     0.88041,     0.88021,     0.88021,     0.88021,     0.88021,     0.88021,     0.88021,     0.88021,     0.88021,     0.88021,     0.88021,     0.88021,     0.88021,     0.88021,     0.88021,     0.88021,\n",
       "            0.88021,     0.88021,     0.88021,     0.88021,     0.88021,     0.88021,     0.88021,     0.88021,     0.88021,     0.88021,     0.88021,     0.88021,     0.88021,     0.88021,     0.88021,     0.88021,     0.88021,     0.88021,     0.88021,     0.88021,     0.88021,     0.88021,     0.88021,\n",
       "            0.88021,     0.88021,     0.88021,     0.88021,     0.88021,     0.87923,     0.87543,     0.87451,     0.87395,     0.87339,     0.87284,     0.87228,     0.87172,     0.87117,     0.87061,     0.87006,     0.86762,     0.86341,     0.85935,     0.85901,     0.85867,     0.85832,     0.85798,\n",
       "            0.85764,      0.8573,     0.85696,     0.85662,     0.85627,     0.85593,     0.85559,     0.85525,     0.85491,     0.85457,     0.85422,     0.85417,     0.85417,     0.85417,     0.85417,     0.85417,     0.85417,     0.85417,     0.85417,     0.85417,     0.85417,     0.85394,     0.85367,\n",
       "             0.8534,     0.85313,     0.85286,     0.85259,     0.85232,     0.85205,     0.85179,     0.85152,     0.85125,     0.85098,     0.85071,     0.85044,     0.85017,      0.8499,     0.84963,     0.84936,     0.84909,     0.84884,      0.8486,     0.84836,     0.84812,     0.84788,     0.84764,\n",
       "            0.84741,     0.84717,     0.84693,     0.84669,     0.84645,     0.84621,     0.84597,     0.84574,      0.8455,     0.84526,     0.84502,     0.84478,     0.84454,     0.84431,     0.84407,     0.84383,     0.84375,     0.84375,     0.84274,     0.84159,     0.84043,     0.83927,     0.83845,\n",
       "             0.8382,     0.83794,     0.83769,     0.83744,     0.83718,     0.83693,     0.83668,     0.83642,     0.83617,     0.83592,     0.83566,     0.83541,     0.83516,     0.83491,     0.83465,      0.8344,     0.83415,     0.83389,     0.83364,     0.83339,     0.83166,     0.82952,     0.82704,\n",
       "            0.82388,     0.81993,      0.8174,     0.81677,     0.81614,     0.81551,     0.81488,     0.81425,     0.81363,       0.813,     0.81184,     0.80876,     0.80694,     0.80626,     0.80559,     0.80491,     0.80423,     0.80356,     0.80288,     0.80221,     0.80056,     0.79869,     0.79685,\n",
       "             0.7959,     0.79496,     0.79402,     0.79307,     0.79213,     0.79018,     0.78726,     0.78575,     0.78478,     0.78381,     0.78284,     0.78186,     0.77717,     0.77424,     0.77223,     0.77059,     0.76977,     0.76895,     0.76813,     0.76731,      0.7665,     0.76568,     0.75905,\n",
       "            0.75749,     0.75593,     0.75431,     0.75262,     0.75093,     0.74609,     0.74321,     0.74135,     0.73944,     0.73645,     0.73438,     0.73417,     0.73312,     0.73208,     0.73103,     0.72998,     0.72873,     0.72683,     0.72493,     0.72341,      0.7223,      0.7212,     0.72009,\n",
       "            0.71898,     0.71738,     0.71567,     0.71395,      0.7095,     0.70792,     0.70739,     0.70687,     0.70634,     0.70581,     0.70528,     0.70476,     0.70423,      0.7037,     0.70317,     0.70312,     0.70312,     0.69969,     0.69742,     0.69647,     0.69551,     0.69455,      0.6936,\n",
       "            0.69263,      0.6915,     0.69038,     0.68925,     0.68812,     0.68451,     0.68229,     0.68229,     0.68229,     0.68229,     0.67965,     0.67656,     0.67289,     0.66531,     0.66162,     0.65943,     0.65731,      0.6544,     0.65093,     0.64968,     0.64843,     0.64719,     0.64594,\n",
       "            0.64408,     0.64217,      0.6387,     0.63395,     0.63178,     0.62956,     0.62725,     0.62483,     0.61931,     0.61537,      0.6126,     0.61011,     0.60553,     0.60239,     0.60004,     0.59824,     0.59693,     0.59561,     0.59429,     0.57791,     0.57513,     0.57266,     0.57137,\n",
       "            0.57008,      0.5688,     0.56744,     0.56571,     0.56399,      0.5624,     0.56165,     0.56091,     0.56016,     0.55942,     0.55867,     0.55793,      0.5571,     0.55581,     0.55452,     0.55323,     0.55067,     0.53618,     0.53456,     0.53293,     0.53131,     0.52037,     0.51902,\n",
       "            0.51767,     0.51632,     0.51479,     0.51308,     0.51136,     0.50909,     0.50612,       0.504,     0.50225,     0.50051,     0.49696,     0.49056,     0.48907,      0.4885,     0.48793,     0.48735,     0.48678,      0.4862,     0.48563,     0.48505,     0.48448,     0.48438,     0.48438,\n",
       "            0.47916,     0.47779,     0.47642,     0.47505,     0.47377,     0.47283,     0.47189,     0.47095,     0.47001,     0.46907,     0.46239,     0.45981,     0.44693,     0.43858,     0.43568,     0.43356,     0.43179,     0.43056,     0.42933,      0.4281,     0.42561,     0.41974,      0.4114,\n",
       "              0.411,      0.4106,      0.4102,     0.40981,     0.40941,     0.40901,     0.40861,     0.40821,     0.40781,     0.40742,     0.40702,     0.40662,     0.40612,     0.40419,     0.40227,     0.39454,     0.39007,     0.37787,     0.37354,     0.37071,     0.36546,     0.36093,     0.35746,\n",
       "            0.35442,     0.34896,     0.34337,     0.33459,     0.33054,     0.32555,     0.31548,     0.31008,     0.30271,     0.29873,     0.29055,     0.28664,     0.28093,     0.27892,     0.27692,     0.27413,     0.27074,     0.26772,     0.25729,      0.2526,     0.24836,     0.24247,     0.23765,\n",
       "            0.22819,     0.22466,     0.22143,     0.21783,      0.2129,     0.21063,     0.20835,     0.19033,     0.18001,     0.16969,     0.16485,     0.15984,     0.15677,     0.15481,     0.15307,     0.15133,     0.14621,     0.13987,     0.12701,      0.1041,    0.098353,    0.088353,    0.083144,\n",
       "           0.067739,    0.065416,    0.063117,    0.057777,    0.048369,    0.045411,    0.043202,    0.033341,    0.025102,    0.022938,    0.020759,    0.017978,    0.015187,    0.012337,   0.0087472,           0,           0,           0,           0,           0,           0,           0,           0,\n",
       "                  0,           0,           0,           0,           0,           0,           0,           0,           0,           0,           0,           0,           0,           0,           0,           0,           0,           0,           0,           0,           0,           0,           0,\n",
       "                  0,           0,           0,           0,           0,           0,           0,           0,           0,           0,           0,           0,           0,           0,           0,           0,           0,           0,           0,           0,           0,           0,           0,\n",
       "                  0,           0,           0,           0,           0,           0,           0,           0,           0,           0,           0,           0,           0,           0,           0,           0,           0,           0,           0,           0,           0,           0,           0,\n",
       "                  0,           0,           0,           0,           0,           0,           0,           0,           0,           0,           0,           0,           0,           0,           0,           0,           0,           0,           0,           0,           0,           0,           0,\n",
       "                  0,           0,           0,           0,           0,           0,           0,           0,           0,           0,           0]]), 'Confidence', 'Recall']]\n",
       "fitness: 0.7151751787933496\n",
       "keys: ['metrics/precision(B)', 'metrics/recall(B)', 'metrics/mAP50(B)', 'metrics/mAP50-95(B)']\n",
       "maps: array([    0.68838])\n",
       "names: {0: 'tooth'}\n",
       "plot: True\n",
       "results_dict: {'metrics/precision(B)': 0.9411794392139605, 'metrics/recall(B)': 0.8802083333333334, 'metrics/mAP50(B)': 0.9563242211771383, 'metrics/mAP50-95(B)': 0.6883808407507064, 'fitness': 0.7151751787933496}\n",
       "save_dir: WindowsPath('runs/detect/train3')\n",
       "speed: {'preprocess': 3.5899991073945006, 'inference': 127.02619285638711, 'loss': 4.642788553610444e-05, 'postprocess': 0.4282910719796616}\n",
       "task: 'detect'"
      ]
     },
     "execution_count": 1,
     "metadata": {},
     "output_type": "execute_result"
    }
   ],
   "source": [
    "from ultralytics import YOLO\n",
    "\n",
    "model = YOLO(\"yolo11n.yaml\")\n",
    "\n",
    "model.train(data=\"teeth_dataset.yaml\", epochs=30, imgsz=640, batch=16, augment=False)"
   ]
  },
  {
   "cell_type": "code",
   "execution_count": 2,
   "metadata": {},
   "outputs": [
    {
     "name": "stdout",
     "output_type": "stream",
     "text": [
      "Ultralytics 8.3.82  Python-3.11.5 torch-2.6.0+cpu CPU (AMD Ryzen 5 5600H with Radeon Graphics)\n",
      "YOLO11n summary (fused): 100 layers, 2,582,347 parameters, 0 gradients, 6.3 GFLOPs\n"
     ]
    },
    {
     "name": "stderr",
     "output_type": "stream",
     "text": [
      "\u001b[34m\u001b[1mval: \u001b[0mScanning D:\\Pertugasan\\lah wes skripsi bjir\\periapical-photo-caries-detection-using-deep-learning\\dataset\\dataset\\labels\\val.cache... 112 images, 0 backgrounds, 0 corrupt: 100%|██████████| 112/112 [00:00<?, ?it/s]\n",
      "                 Class     Images  Instances      Box(P          R      mAP50  mAP50-95): 100%|██████████| 7/7 [00:12<00:00,  1.85s/it]\n"
     ]
    },
    {
     "name": "stdout",
     "output_type": "stream",
     "text": [
      "                   all        112        192      0.941       0.88      0.956      0.688\n",
      "Speed: 2.6ms preprocess, 105.1ms inference, 0.0ms loss, 0.4ms postprocess per image\n",
      "Results saved to \u001b[1mruns\\detect\\train32\u001b[0m\n",
      "ultralytics.utils.metrics.DetMetrics object with attributes:\n",
      "\n",
      "ap_class_index: array([0])\n",
      "box: ultralytics.utils.metrics.Metric object\n",
      "confusion_matrix: <ultralytics.utils.metrics.ConfusionMatrix object at 0x00000137721F4710>\n",
      "curves: ['Precision-Recall(B)', 'F1-Confidence(B)', 'Precision-Confidence(B)', 'Recall-Confidence(B)']\n",
      "curves_results: [[array([          0,    0.001001,    0.002002,    0.003003,    0.004004,    0.005005,    0.006006,    0.007007,    0.008008,    0.009009,     0.01001,    0.011011,    0.012012,    0.013013,    0.014014,    0.015015,    0.016016,    0.017017,    0.018018,    0.019019,     0.02002,    0.021021,    0.022022,    0.023023,\n",
      "          0.024024,    0.025025,    0.026026,    0.027027,    0.028028,    0.029029,     0.03003,    0.031031,    0.032032,    0.033033,    0.034034,    0.035035,    0.036036,    0.037037,    0.038038,    0.039039,     0.04004,    0.041041,    0.042042,    0.043043,    0.044044,    0.045045,    0.046046,    0.047047,\n",
      "          0.048048,    0.049049,     0.05005,    0.051051,    0.052052,    0.053053,    0.054054,    0.055055,    0.056056,    0.057057,    0.058058,    0.059059,     0.06006,    0.061061,    0.062062,    0.063063,    0.064064,    0.065065,    0.066066,    0.067067,    0.068068,    0.069069,     0.07007,    0.071071,\n",
      "          0.072072,    0.073073,    0.074074,    0.075075,    0.076076,    0.077077,    0.078078,    0.079079,     0.08008,    0.081081,    0.082082,    0.083083,    0.084084,    0.085085,    0.086086,    0.087087,    0.088088,    0.089089,     0.09009,    0.091091,    0.092092,    0.093093,    0.094094,    0.095095,\n",
      "          0.096096,    0.097097,    0.098098,    0.099099,      0.1001,      0.1011,      0.1021,      0.1031,      0.1041,     0.10511,     0.10611,     0.10711,     0.10811,     0.10911,     0.11011,     0.11111,     0.11211,     0.11311,     0.11411,     0.11512,     0.11612,     0.11712,     0.11812,     0.11912,\n",
      "           0.12012,     0.12112,     0.12212,     0.12312,     0.12412,     0.12513,     0.12613,     0.12713,     0.12813,     0.12913,     0.13013,     0.13113,     0.13213,     0.13313,     0.13413,     0.13514,     0.13614,     0.13714,     0.13814,     0.13914,     0.14014,     0.14114,     0.14214,     0.14314,\n",
      "           0.14414,     0.14515,     0.14615,     0.14715,     0.14815,     0.14915,     0.15015,     0.15115,     0.15215,     0.15315,     0.15415,     0.15516,     0.15616,     0.15716,     0.15816,     0.15916,     0.16016,     0.16116,     0.16216,     0.16316,     0.16416,     0.16517,     0.16617,     0.16717,\n",
      "           0.16817,     0.16917,     0.17017,     0.17117,     0.17217,     0.17317,     0.17417,     0.17518,     0.17618,     0.17718,     0.17818,     0.17918,     0.18018,     0.18118,     0.18218,     0.18318,     0.18418,     0.18519,     0.18619,     0.18719,     0.18819,     0.18919,     0.19019,     0.19119,\n",
      "           0.19219,     0.19319,     0.19419,      0.1952,      0.1962,      0.1972,      0.1982,      0.1992,      0.2002,      0.2012,      0.2022,      0.2032,      0.2042,     0.20521,     0.20621,     0.20721,     0.20821,     0.20921,     0.21021,     0.21121,     0.21221,     0.21321,     0.21421,     0.21522,\n",
      "           0.21622,     0.21722,     0.21822,     0.21922,     0.22022,     0.22122,     0.22222,     0.22322,     0.22422,     0.22523,     0.22623,     0.22723,     0.22823,     0.22923,     0.23023,     0.23123,     0.23223,     0.23323,     0.23423,     0.23524,     0.23624,     0.23724,     0.23824,     0.23924,\n",
      "           0.24024,     0.24124,     0.24224,     0.24324,     0.24424,     0.24525,     0.24625,     0.24725,     0.24825,     0.24925,     0.25025,     0.25125,     0.25225,     0.25325,     0.25425,     0.25526,     0.25626,     0.25726,     0.25826,     0.25926,     0.26026,     0.26126,     0.26226,     0.26326,\n",
      "           0.26426,     0.26527,     0.26627,     0.26727,     0.26827,     0.26927,     0.27027,     0.27127,     0.27227,     0.27327,     0.27427,     0.27528,     0.27628,     0.27728,     0.27828,     0.27928,     0.28028,     0.28128,     0.28228,     0.28328,     0.28428,     0.28529,     0.28629,     0.28729,\n",
      "           0.28829,     0.28929,     0.29029,     0.29129,     0.29229,     0.29329,     0.29429,      0.2953,      0.2963,      0.2973,      0.2983,      0.2993,      0.3003,      0.3013,      0.3023,      0.3033,      0.3043,     0.30531,     0.30631,     0.30731,     0.30831,     0.30931,     0.31031,     0.31131,\n",
      "           0.31231,     0.31331,     0.31431,     0.31532,     0.31632,     0.31732,     0.31832,     0.31932,     0.32032,     0.32132,     0.32232,     0.32332,     0.32432,     0.32533,     0.32633,     0.32733,     0.32833,     0.32933,     0.33033,     0.33133,     0.33233,     0.33333,     0.33433,     0.33534,\n",
      "           0.33634,     0.33734,     0.33834,     0.33934,     0.34034,     0.34134,     0.34234,     0.34334,     0.34434,     0.34535,     0.34635,     0.34735,     0.34835,     0.34935,     0.35035,     0.35135,     0.35235,     0.35335,     0.35435,     0.35536,     0.35636,     0.35736,     0.35836,     0.35936,\n",
      "           0.36036,     0.36136,     0.36236,     0.36336,     0.36436,     0.36537,     0.36637,     0.36737,     0.36837,     0.36937,     0.37037,     0.37137,     0.37237,     0.37337,     0.37437,     0.37538,     0.37638,     0.37738,     0.37838,     0.37938,     0.38038,     0.38138,     0.38238,     0.38338,\n",
      "           0.38438,     0.38539,     0.38639,     0.38739,     0.38839,     0.38939,     0.39039,     0.39139,     0.39239,     0.39339,     0.39439,      0.3954,      0.3964,      0.3974,      0.3984,      0.3994,      0.4004,      0.4014,      0.4024,      0.4034,      0.4044,     0.40541,     0.40641,     0.40741,\n",
      "           0.40841,     0.40941,     0.41041,     0.41141,     0.41241,     0.41341,     0.41441,     0.41542,     0.41642,     0.41742,     0.41842,     0.41942,     0.42042,     0.42142,     0.42242,     0.42342,     0.42442,     0.42543,     0.42643,     0.42743,     0.42843,     0.42943,     0.43043,     0.43143,\n",
      "           0.43243,     0.43343,     0.43443,     0.43544,     0.43644,     0.43744,     0.43844,     0.43944,     0.44044,     0.44144,     0.44244,     0.44344,     0.44444,     0.44545,     0.44645,     0.44745,     0.44845,     0.44945,     0.45045,     0.45145,     0.45245,     0.45345,     0.45445,     0.45546,\n",
      "           0.45646,     0.45746,     0.45846,     0.45946,     0.46046,     0.46146,     0.46246,     0.46346,     0.46446,     0.46547,     0.46647,     0.46747,     0.46847,     0.46947,     0.47047,     0.47147,     0.47247,     0.47347,     0.47447,     0.47548,     0.47648,     0.47748,     0.47848,     0.47948,\n",
      "           0.48048,     0.48148,     0.48248,     0.48348,     0.48448,     0.48549,     0.48649,     0.48749,     0.48849,     0.48949,     0.49049,     0.49149,     0.49249,     0.49349,     0.49449,      0.4955,      0.4965,      0.4975,      0.4985,      0.4995,      0.5005,      0.5015,      0.5025,      0.5035,\n",
      "            0.5045,     0.50551,     0.50651,     0.50751,     0.50851,     0.50951,     0.51051,     0.51151,     0.51251,     0.51351,     0.51451,     0.51552,     0.51652,     0.51752,     0.51852,     0.51952,     0.52052,     0.52152,     0.52252,     0.52352,     0.52452,     0.52553,     0.52653,     0.52753,\n",
      "           0.52853,     0.52953,     0.53053,     0.53153,     0.53253,     0.53353,     0.53453,     0.53554,     0.53654,     0.53754,     0.53854,     0.53954,     0.54054,     0.54154,     0.54254,     0.54354,     0.54454,     0.54555,     0.54655,     0.54755,     0.54855,     0.54955,     0.55055,     0.55155,\n",
      "           0.55255,     0.55355,     0.55455,     0.55556,     0.55656,     0.55756,     0.55856,     0.55956,     0.56056,     0.56156,     0.56256,     0.56356,     0.56456,     0.56557,     0.56657,     0.56757,     0.56857,     0.56957,     0.57057,     0.57157,     0.57257,     0.57357,     0.57457,     0.57558,\n",
      "           0.57658,     0.57758,     0.57858,     0.57958,     0.58058,     0.58158,     0.58258,     0.58358,     0.58458,     0.58559,     0.58659,     0.58759,     0.58859,     0.58959,     0.59059,     0.59159,     0.59259,     0.59359,     0.59459,      0.5956,      0.5966,      0.5976,      0.5986,      0.5996,\n",
      "            0.6006,      0.6016,      0.6026,      0.6036,      0.6046,     0.60561,     0.60661,     0.60761,     0.60861,     0.60961,     0.61061,     0.61161,     0.61261,     0.61361,     0.61461,     0.61562,     0.61662,     0.61762,     0.61862,     0.61962,     0.62062,     0.62162,     0.62262,     0.62362,\n",
      "           0.62462,     0.62563,     0.62663,     0.62763,     0.62863,     0.62963,     0.63063,     0.63163,     0.63263,     0.63363,     0.63463,     0.63564,     0.63664,     0.63764,     0.63864,     0.63964,     0.64064,     0.64164,     0.64264,     0.64364,     0.64464,     0.64565,     0.64665,     0.64765,\n",
      "           0.64865,     0.64965,     0.65065,     0.65165,     0.65265,     0.65365,     0.65465,     0.65566,     0.65666,     0.65766,     0.65866,     0.65966,     0.66066,     0.66166,     0.66266,     0.66366,     0.66466,     0.66567,     0.66667,     0.66767,     0.66867,     0.66967,     0.67067,     0.67167,\n",
      "           0.67267,     0.67367,     0.67467,     0.67568,     0.67668,     0.67768,     0.67868,     0.67968,     0.68068,     0.68168,     0.68268,     0.68368,     0.68468,     0.68569,     0.68669,     0.68769,     0.68869,     0.68969,     0.69069,     0.69169,     0.69269,     0.69369,     0.69469,      0.6957,\n",
      "            0.6967,      0.6977,      0.6987,      0.6997,      0.7007,      0.7017,      0.7027,      0.7037,      0.7047,     0.70571,     0.70671,     0.70771,     0.70871,     0.70971,     0.71071,     0.71171,     0.71271,     0.71371,     0.71471,     0.71572,     0.71672,     0.71772,     0.71872,     0.71972,\n",
      "           0.72072,     0.72172,     0.72272,     0.72372,     0.72472,     0.72573,     0.72673,     0.72773,     0.72873,     0.72973,     0.73073,     0.73173,     0.73273,     0.73373,     0.73473,     0.73574,     0.73674,     0.73774,     0.73874,     0.73974,     0.74074,     0.74174,     0.74274,     0.74374,\n",
      "           0.74474,     0.74575,     0.74675,     0.74775,     0.74875,     0.74975,     0.75075,     0.75175,     0.75275,     0.75375,     0.75475,     0.75576,     0.75676,     0.75776,     0.75876,     0.75976,     0.76076,     0.76176,     0.76276,     0.76376,     0.76476,     0.76577,     0.76677,     0.76777,\n",
      "           0.76877,     0.76977,     0.77077,     0.77177,     0.77277,     0.77377,     0.77477,     0.77578,     0.77678,     0.77778,     0.77878,     0.77978,     0.78078,     0.78178,     0.78278,     0.78378,     0.78478,     0.78579,     0.78679,     0.78779,     0.78879,     0.78979,     0.79079,     0.79179,\n",
      "           0.79279,     0.79379,     0.79479,      0.7958,      0.7968,      0.7978,      0.7988,      0.7998,      0.8008,      0.8018,      0.8028,      0.8038,      0.8048,     0.80581,     0.80681,     0.80781,     0.80881,     0.80981,     0.81081,     0.81181,     0.81281,     0.81381,     0.81481,     0.81582,\n",
      "           0.81682,     0.81782,     0.81882,     0.81982,     0.82082,     0.82182,     0.82282,     0.82382,     0.82482,     0.82583,     0.82683,     0.82783,     0.82883,     0.82983,     0.83083,     0.83183,     0.83283,     0.83383,     0.83483,     0.83584,     0.83684,     0.83784,     0.83884,     0.83984,\n",
      "           0.84084,     0.84184,     0.84284,     0.84384,     0.84484,     0.84585,     0.84685,     0.84785,     0.84885,     0.84985,     0.85085,     0.85185,     0.85285,     0.85385,     0.85485,     0.85586,     0.85686,     0.85786,     0.85886,     0.85986,     0.86086,     0.86186,     0.86286,     0.86386,\n",
      "           0.86486,     0.86587,     0.86687,     0.86787,     0.86887,     0.86987,     0.87087,     0.87187,     0.87287,     0.87387,     0.87487,     0.87588,     0.87688,     0.87788,     0.87888,     0.87988,     0.88088,     0.88188,     0.88288,     0.88388,     0.88488,     0.88589,     0.88689,     0.88789,\n",
      "           0.88889,     0.88989,     0.89089,     0.89189,     0.89289,     0.89389,     0.89489,      0.8959,      0.8969,      0.8979,      0.8989,      0.8999,      0.9009,      0.9019,      0.9029,      0.9039,      0.9049,     0.90591,     0.90691,     0.90791,     0.90891,     0.90991,     0.91091,     0.91191,\n",
      "           0.91291,     0.91391,     0.91491,     0.91592,     0.91692,     0.91792,     0.91892,     0.91992,     0.92092,     0.92192,     0.92292,     0.92392,     0.92492,     0.92593,     0.92693,     0.92793,     0.92893,     0.92993,     0.93093,     0.93193,     0.93293,     0.93393,     0.93493,     0.93594,\n",
      "           0.93694,     0.93794,     0.93894,     0.93994,     0.94094,     0.94194,     0.94294,     0.94394,     0.94494,     0.94595,     0.94695,     0.94795,     0.94895,     0.94995,     0.95095,     0.95195,     0.95295,     0.95395,     0.95495,     0.95596,     0.95696,     0.95796,     0.95896,     0.95996,\n",
      "           0.96096,     0.96196,     0.96296,     0.96396,     0.96496,     0.96597,     0.96697,     0.96797,     0.96897,     0.96997,     0.97097,     0.97197,     0.97297,     0.97397,     0.97497,     0.97598,     0.97698,     0.97798,     0.97898,     0.97998,     0.98098,     0.98198,     0.98298,     0.98398,\n",
      "           0.98498,     0.98599,     0.98699,     0.98799,     0.98899,     0.98999,     0.99099,     0.99199,     0.99299,     0.99399,     0.99499,       0.996,       0.997,       0.998,       0.999,           1]), array([[          1,           1,           1,           1,           1,           1,           1,           1,           1,           1,           1,           1,           1,           1,           1,           1,           1,           1,           1,           1,           1,           1,           1,\n",
      "                  1,           1,           1,           1,           1,           1,           1,           1,           1,           1,           1,           1,           1,           1,           1,           1,           1,           1,           1,           1,           1,           1,           1,\n",
      "                  1,           1,           1,           1,           1,           1,           1,           1,           1,           1,           1,           1,           1,           1,           1,           1,           1,           1,           1,           1,           1,           1,           1,\n",
      "                  1,           1,           1,           1,           1,           1,           1,           1,           1,           1,           1,           1,           1,           1,           1,           1,           1,           1,           1,           1,           1,           1,           1,\n",
      "                  1,           1,           1,           1,           1,           1,           1,           1,           1,           1,           1,           1,           1,           1,           1,           1,           1,           1,           1,           1,           1,           1,           1,\n",
      "                  1,           1,           1,           1,           1,           1,           1,           1,           1,           1,           1,           1,           1,           1,           1,           1,           1,           1,           1,           1,           1,           1,           1,\n",
      "                  1,           1,           1,           1,           1,           1,           1,           1,           1,           1,           1,           1,           1,           1,           1,           1,           1,           1,           1,           1,           1,           1,           1,\n",
      "                  1,           1,           1,           1,           1,           1,           1,           1,           1,           1,           1,           1,           1,           1,           1,           1,           1,           1,           1,           1,           1,           1,           1,\n",
      "                  1,           1,           1,           1,           1,           1,           1,           1,           1,           1,           1,           1,           1,           1,           1,           1,           1,           1,           1,           1,           1,           1,           1,\n",
      "                  1,           1,           1,           1,           1,           1,           1,           1,           1,           1,           1,           1,           1,           1,           1,           1,           1,           1,           1,           1,           1,           1,           1,\n",
      "                  1,           1,           1,           1,           1,           1,           1,           1,           1,           1,           1,           1,           1,           1,           1,           1,           1,           1,           1,           1,           1,           1,           1,\n",
      "                  1,           1,           1,           1,           1,           1,           1,           1,           1,           1,           1,           1,           1,           1,           1,           1,           1,           1,           1,           1,           1,           1,           1,\n",
      "                  1,           1,           1,           1,           1,           1,           1,           1,           1,           1,           1,           1,           1,           1,           1,           1,           1,           1,           1,           1,           1,           1,           1,\n",
      "                  1,           1,           1,           1,           1,           1,           1,           1,           1,           1,           1,           1,           1,           1,           1,           1,           1,           1,           1,           1,           1,           1,           1,\n",
      "                  1,           1,           1,           1,           1,           1,           1,           1,           1,           1,           1,           1,           1,           1,           1,           1,           1,           1,           1,           1,           1,           1,           1,\n",
      "                  1,           1,           1,           1,     0.98936,     0.98936,     0.98936,     0.98936,     0.98936,     0.98936,     0.98936,     0.98936,     0.98936,     0.98936,     0.98936,     0.98936,     0.98936,     0.98936,     0.98936,     0.98936,     0.98936,     0.98936,     0.98936,\n",
      "            0.98936,     0.98936,     0.98936,     0.98936,     0.98936,     0.98936,     0.98936,     0.98936,     0.98936,     0.98936,     0.98936,     0.98936,     0.98936,     0.98936,     0.98936,     0.98936,     0.98936,     0.98936,     0.98936,     0.98936,     0.98936,     0.98936,     0.98936,\n",
      "            0.98936,     0.98936,     0.98936,     0.98936,     0.98936,     0.98936,     0.98936,     0.98936,     0.98936,     0.98936,     0.98936,     0.98936,     0.98936,     0.98936,     0.98936,     0.98936,     0.98936,     0.98936,     0.98936,     0.98936,     0.98936,     0.98936,     0.98936,\n",
      "            0.98936,     0.98936,     0.98936,     0.98936,     0.98936,     0.98936,     0.98936,     0.98936,     0.98936,     0.98936,     0.98936,     0.98936,     0.98936,     0.98936,     0.98936,     0.98936,     0.98936,     0.98936,     0.98936,     0.98936,     0.98936,     0.98936,     0.98936,\n",
      "            0.98936,     0.98936,     0.98936,     0.98936,     0.98936,     0.98936,     0.98936,     0.98936,     0.98936,     0.98936,     0.98936,     0.98936,     0.98936,     0.98936,     0.98936,     0.98936,     0.98936,     0.98936,     0.98936,     0.98936,     0.98936,     0.98936,     0.98936,\n",
      "            0.98936,     0.98936,     0.98936,     0.98936,     0.98936,     0.98936,     0.98936,     0.98936,     0.98936,     0.98936,     0.98936,     0.98936,     0.98936,     0.98936,     0.98936,     0.98936,     0.98936,     0.98936,     0.98936,     0.98936,     0.98936,     0.98936,     0.98936,\n",
      "            0.98936,     0.98496,     0.98496,     0.98496,     0.98496,     0.98496,     0.98496,     0.98496,     0.98496,     0.98496,     0.98496,     0.98496,     0.98496,     0.98496,     0.98496,     0.98496,     0.98496,     0.98496,     0.98496,     0.98496,     0.98496,     0.98496,     0.98496,\n",
      "            0.98496,     0.98496,     0.98496,     0.98496,     0.98496,     0.98496,     0.98496,     0.98496,     0.98496,     0.98496,     0.98496,     0.98496,     0.98496,     0.98496,     0.98496,     0.98496,     0.98496,     0.98496,     0.98496,     0.98496,     0.98496,     0.98496,     0.98496,\n",
      "            0.98496,     0.98496,     0.98496,     0.98496,     0.98496,     0.98496,     0.98496,     0.98496,     0.98496,     0.98496,     0.98496,     0.98496,     0.98496,     0.98496,     0.98496,     0.98496,     0.98496,     0.98496,     0.98496,     0.98496,     0.98496,     0.98496,     0.98496,\n",
      "            0.98496,     0.98496,     0.98496,     0.98496,     0.98496,     0.98496,     0.98496,     0.98496,     0.98496,     0.98496,     0.98496,     0.98496,     0.98496,     0.98496,     0.98496,     0.98496,     0.98496,     0.98496,     0.98496,     0.98496,     0.98496,     0.98496,     0.98496,\n",
      "            0.98496,     0.98496,     0.98496,     0.98496,     0.98496,     0.98496,     0.98496,     0.98496,     0.98496,     0.98496,     0.98496,     0.98496,     0.98496,     0.98496,     0.98496,     0.98496,     0.98496,     0.98496,     0.98496,     0.98496,     0.98496,     0.98496,     0.98496,\n",
      "            0.98496,     0.98496,     0.98496,     0.98496,     0.98496,     0.98496,     0.98496,     0.98496,     0.98496,     0.98496,     0.98496,     0.98496,     0.98496,     0.98496,     0.98496,     0.98496,     0.98496,     0.98496,     0.98496,     0.98496,     0.98496,     0.98496,     0.98496,\n",
      "            0.98496,     0.98496,     0.98496,     0.98496,     0.98496,     0.98496,     0.98496,     0.98496,     0.98496,     0.98496,     0.98496,     0.98496,     0.98496,     0.98496,     0.98496,     0.98496,     0.98496,     0.98496,     0.98496,     0.98496,     0.98496,     0.98496,     0.98496,\n",
      "            0.98496,     0.98496,     0.98496,     0.98496,     0.98496,     0.98496,     0.98496,     0.98496,     0.98496,     0.98496,     0.98496,     0.98496,     0.98496,     0.98496,     0.98496,     0.98496,     0.98496,     0.98496,     0.98496,     0.98496,     0.98496,     0.98496,     0.98496,\n",
      "            0.98496,     0.98496,     0.98496,     0.98496,     0.98496,     0.98496,     0.98496,     0.98496,     0.98496,     0.98496,     0.98496,     0.98496,     0.98496,     0.98496,     0.98496,     0.97826,     0.97826,     0.97826,     0.97826,     0.97826,     0.97826,     0.97826,     0.97826,\n",
      "            0.97826,     0.97826,     0.97826,     0.97826,     0.97826,     0.97826,     0.97826,     0.97826,     0.97826,     0.97826,     0.97826,     0.97826,     0.97826,     0.97241,     0.97241,     0.97241,     0.97241,     0.97241,     0.97241,     0.97241,     0.97241,     0.97241,     0.97241,\n",
      "            0.97241,     0.97241,     0.97241,     0.97241,     0.97241,     0.97241,     0.97241,     0.97241,     0.97241,     0.97241,     0.97241,     0.97241,     0.97241,     0.97241,     0.97241,     0.97241,     0.97241,     0.97241,     0.97241,     0.97241,     0.97241,     0.97006,     0.97006,\n",
      "            0.97006,     0.97006,     0.97006,     0.97006,     0.97006,     0.97006,     0.97006,     0.97006,     0.97006,     0.97006,     0.97006,     0.97006,     0.97006,     0.97006,     0.97006,     0.97006,     0.97006,     0.97006,     0.97006,     0.97006,     0.97006,     0.97006,     0.97006,\n",
      "            0.97006,     0.97006,     0.97006,     0.97006,     0.97006,     0.97006,     0.97006,     0.97006,     0.97006,     0.97006,     0.97006,     0.97006,     0.97006,     0.97006,     0.97006,     0.97006,     0.97006,     0.97006,     0.97006,     0.97006,     0.97006,     0.97006,     0.97006,\n",
      "            0.97006,     0.97006,     0.97006,     0.97006,     0.97006,     0.97006,     0.97006,     0.97006,     0.97006,     0.97006,     0.97006,     0.97006,     0.97006,     0.97006,     0.97006,     0.97006,     0.97006,     0.97006,     0.97006,     0.97006,     0.97006,     0.97006,     0.97006,\n",
      "            0.97006,     0.97006,     0.97006,     0.97006,     0.97006,     0.97006,     0.97006,     0.97006,     0.97006,     0.97006,     0.97006,     0.97006,     0.97006,     0.97006,     0.97006,     0.97006,     0.97006,     0.97006,     0.97006,     0.97006,     0.97006,     0.97006,     0.97006,\n",
      "            0.97006,     0.97006,     0.97006,     0.97006,     0.97006,     0.97006,     0.97006,     0.97006,     0.97006,     0.97006,     0.97006,     0.97006,     0.97006,     0.97006,     0.97006,     0.96471,     0.96471,     0.96471,     0.96471,     0.96471,     0.96471,     0.96471,     0.96471,\n",
      "            0.96471,     0.96471,     0.96471,      0.9548,      0.9548,      0.9548,      0.9548,      0.9548,      0.9548,      0.9548,      0.9548,      0.9548,      0.9548,      0.9548,      0.9548,      0.9548,      0.9548,      0.9548,      0.9548,      0.9548,      0.9548,      0.9548,      0.9548,\n",
      "             0.9548,      0.9548,      0.9548,      0.9548,      0.9548,      0.9548,     0.93923,     0.93923,     0.93923,     0.93923,     0.93923,     0.93478,     0.93478,     0.93478,     0.93478,     0.93478,     0.93478,     0.93478,     0.93478,     0.93478,     0.93478,     0.92021,     0.92021,\n",
      "            0.92021,     0.92021,     0.92021,     0.92021,     0.91099,     0.91099,     0.91099,     0.91099,     0.91099,     0.90816,     0.90816,     0.90816,     0.90816,     0.90816,     0.90816,     0.90816,     0.90816,     0.90816,     0.90816,     0.90816,     0.90816,     0.90816,     0.90816,\n",
      "            0.90816,     0.90816,     0.90816,     0.90816,     0.90816,     0.90816,     0.90816,      0.8867,      0.8867,      0.8867,      0.8867,      0.8867,      0.8867,      0.8867,      0.8867,      0.8867,      0.8867,     0.88293,     0.88293,     0.88293,     0.88293,     0.88293,     0.86321,\n",
      "            0.86321,     0.86321,     0.86321,     0.86321,     0.86321,     0.86321,     0.86321,     0.86321,     0.86321,     0.86321,         0.8,         0.8,         0.8,         0.8,         0.8,     0.73123,     0.73123,     0.73123,     0.73123,     0.73123,     0.69145,     0.69145,     0.69145,\n",
      "            0.69145,     0.69145,     0.67025,     0.67025,     0.67025,     0.67025,     0.67025,     0.56627,     0.56627,     0.56627,     0.56627,     0.56627,     0.56627,     0.27143,     0.27143,     0.27143,     0.27143,     0.27143,     0.27143,     0.27143,     0.27143,     0.27143,     0.27143,\n",
      "            0.23152,     0.23152,     0.23152,     0.23152,     0.23152,     0.19512,     0.19512,     0.19512,     0.19512,     0.19512,           0]]), 'Recall', 'Precision'], [array([          0,    0.001001,    0.002002,    0.003003,    0.004004,    0.005005,    0.006006,    0.007007,    0.008008,    0.009009,     0.01001,    0.011011,    0.012012,    0.013013,    0.014014,    0.015015,    0.016016,    0.017017,    0.018018,    0.019019,     0.02002,    0.021021,    0.022022,    0.023023,\n",
      "          0.024024,    0.025025,    0.026026,    0.027027,    0.028028,    0.029029,     0.03003,    0.031031,    0.032032,    0.033033,    0.034034,    0.035035,    0.036036,    0.037037,    0.038038,    0.039039,     0.04004,    0.041041,    0.042042,    0.043043,    0.044044,    0.045045,    0.046046,    0.047047,\n",
      "          0.048048,    0.049049,     0.05005,    0.051051,    0.052052,    0.053053,    0.054054,    0.055055,    0.056056,    0.057057,    0.058058,    0.059059,     0.06006,    0.061061,    0.062062,    0.063063,    0.064064,    0.065065,    0.066066,    0.067067,    0.068068,    0.069069,     0.07007,    0.071071,\n",
      "          0.072072,    0.073073,    0.074074,    0.075075,    0.076076,    0.077077,    0.078078,    0.079079,     0.08008,    0.081081,    0.082082,    0.083083,    0.084084,    0.085085,    0.086086,    0.087087,    0.088088,    0.089089,     0.09009,    0.091091,    0.092092,    0.093093,    0.094094,    0.095095,\n",
      "          0.096096,    0.097097,    0.098098,    0.099099,      0.1001,      0.1011,      0.1021,      0.1031,      0.1041,     0.10511,     0.10611,     0.10711,     0.10811,     0.10911,     0.11011,     0.11111,     0.11211,     0.11311,     0.11411,     0.11512,     0.11612,     0.11712,     0.11812,     0.11912,\n",
      "           0.12012,     0.12112,     0.12212,     0.12312,     0.12412,     0.12513,     0.12613,     0.12713,     0.12813,     0.12913,     0.13013,     0.13113,     0.13213,     0.13313,     0.13413,     0.13514,     0.13614,     0.13714,     0.13814,     0.13914,     0.14014,     0.14114,     0.14214,     0.14314,\n",
      "           0.14414,     0.14515,     0.14615,     0.14715,     0.14815,     0.14915,     0.15015,     0.15115,     0.15215,     0.15315,     0.15415,     0.15516,     0.15616,     0.15716,     0.15816,     0.15916,     0.16016,     0.16116,     0.16216,     0.16316,     0.16416,     0.16517,     0.16617,     0.16717,\n",
      "           0.16817,     0.16917,     0.17017,     0.17117,     0.17217,     0.17317,     0.17417,     0.17518,     0.17618,     0.17718,     0.17818,     0.17918,     0.18018,     0.18118,     0.18218,     0.18318,     0.18418,     0.18519,     0.18619,     0.18719,     0.18819,     0.18919,     0.19019,     0.19119,\n",
      "           0.19219,     0.19319,     0.19419,      0.1952,      0.1962,      0.1972,      0.1982,      0.1992,      0.2002,      0.2012,      0.2022,      0.2032,      0.2042,     0.20521,     0.20621,     0.20721,     0.20821,     0.20921,     0.21021,     0.21121,     0.21221,     0.21321,     0.21421,     0.21522,\n",
      "           0.21622,     0.21722,     0.21822,     0.21922,     0.22022,     0.22122,     0.22222,     0.22322,     0.22422,     0.22523,     0.22623,     0.22723,     0.22823,     0.22923,     0.23023,     0.23123,     0.23223,     0.23323,     0.23423,     0.23524,     0.23624,     0.23724,     0.23824,     0.23924,\n",
      "           0.24024,     0.24124,     0.24224,     0.24324,     0.24424,     0.24525,     0.24625,     0.24725,     0.24825,     0.24925,     0.25025,     0.25125,     0.25225,     0.25325,     0.25425,     0.25526,     0.25626,     0.25726,     0.25826,     0.25926,     0.26026,     0.26126,     0.26226,     0.26326,\n",
      "           0.26426,     0.26527,     0.26627,     0.26727,     0.26827,     0.26927,     0.27027,     0.27127,     0.27227,     0.27327,     0.27427,     0.27528,     0.27628,     0.27728,     0.27828,     0.27928,     0.28028,     0.28128,     0.28228,     0.28328,     0.28428,     0.28529,     0.28629,     0.28729,\n",
      "           0.28829,     0.28929,     0.29029,     0.29129,     0.29229,     0.29329,     0.29429,      0.2953,      0.2963,      0.2973,      0.2983,      0.2993,      0.3003,      0.3013,      0.3023,      0.3033,      0.3043,     0.30531,     0.30631,     0.30731,     0.30831,     0.30931,     0.31031,     0.31131,\n",
      "           0.31231,     0.31331,     0.31431,     0.31532,     0.31632,     0.31732,     0.31832,     0.31932,     0.32032,     0.32132,     0.32232,     0.32332,     0.32432,     0.32533,     0.32633,     0.32733,     0.32833,     0.32933,     0.33033,     0.33133,     0.33233,     0.33333,     0.33433,     0.33534,\n",
      "           0.33634,     0.33734,     0.33834,     0.33934,     0.34034,     0.34134,     0.34234,     0.34334,     0.34434,     0.34535,     0.34635,     0.34735,     0.34835,     0.34935,     0.35035,     0.35135,     0.35235,     0.35335,     0.35435,     0.35536,     0.35636,     0.35736,     0.35836,     0.35936,\n",
      "           0.36036,     0.36136,     0.36236,     0.36336,     0.36436,     0.36537,     0.36637,     0.36737,     0.36837,     0.36937,     0.37037,     0.37137,     0.37237,     0.37337,     0.37437,     0.37538,     0.37638,     0.37738,     0.37838,     0.37938,     0.38038,     0.38138,     0.38238,     0.38338,\n",
      "           0.38438,     0.38539,     0.38639,     0.38739,     0.38839,     0.38939,     0.39039,     0.39139,     0.39239,     0.39339,     0.39439,      0.3954,      0.3964,      0.3974,      0.3984,      0.3994,      0.4004,      0.4014,      0.4024,      0.4034,      0.4044,     0.40541,     0.40641,     0.40741,\n",
      "           0.40841,     0.40941,     0.41041,     0.41141,     0.41241,     0.41341,     0.41441,     0.41542,     0.41642,     0.41742,     0.41842,     0.41942,     0.42042,     0.42142,     0.42242,     0.42342,     0.42442,     0.42543,     0.42643,     0.42743,     0.42843,     0.42943,     0.43043,     0.43143,\n",
      "           0.43243,     0.43343,     0.43443,     0.43544,     0.43644,     0.43744,     0.43844,     0.43944,     0.44044,     0.44144,     0.44244,     0.44344,     0.44444,     0.44545,     0.44645,     0.44745,     0.44845,     0.44945,     0.45045,     0.45145,     0.45245,     0.45345,     0.45445,     0.45546,\n",
      "           0.45646,     0.45746,     0.45846,     0.45946,     0.46046,     0.46146,     0.46246,     0.46346,     0.46446,     0.46547,     0.46647,     0.46747,     0.46847,     0.46947,     0.47047,     0.47147,     0.47247,     0.47347,     0.47447,     0.47548,     0.47648,     0.47748,     0.47848,     0.47948,\n",
      "           0.48048,     0.48148,     0.48248,     0.48348,     0.48448,     0.48549,     0.48649,     0.48749,     0.48849,     0.48949,     0.49049,     0.49149,     0.49249,     0.49349,     0.49449,      0.4955,      0.4965,      0.4975,      0.4985,      0.4995,      0.5005,      0.5015,      0.5025,      0.5035,\n",
      "            0.5045,     0.50551,     0.50651,     0.50751,     0.50851,     0.50951,     0.51051,     0.51151,     0.51251,     0.51351,     0.51451,     0.51552,     0.51652,     0.51752,     0.51852,     0.51952,     0.52052,     0.52152,     0.52252,     0.52352,     0.52452,     0.52553,     0.52653,     0.52753,\n",
      "           0.52853,     0.52953,     0.53053,     0.53153,     0.53253,     0.53353,     0.53453,     0.53554,     0.53654,     0.53754,     0.53854,     0.53954,     0.54054,     0.54154,     0.54254,     0.54354,     0.54454,     0.54555,     0.54655,     0.54755,     0.54855,     0.54955,     0.55055,     0.55155,\n",
      "           0.55255,     0.55355,     0.55455,     0.55556,     0.55656,     0.55756,     0.55856,     0.55956,     0.56056,     0.56156,     0.56256,     0.56356,     0.56456,     0.56557,     0.56657,     0.56757,     0.56857,     0.56957,     0.57057,     0.57157,     0.57257,     0.57357,     0.57457,     0.57558,\n",
      "           0.57658,     0.57758,     0.57858,     0.57958,     0.58058,     0.58158,     0.58258,     0.58358,     0.58458,     0.58559,     0.58659,     0.58759,     0.58859,     0.58959,     0.59059,     0.59159,     0.59259,     0.59359,     0.59459,      0.5956,      0.5966,      0.5976,      0.5986,      0.5996,\n",
      "            0.6006,      0.6016,      0.6026,      0.6036,      0.6046,     0.60561,     0.60661,     0.60761,     0.60861,     0.60961,     0.61061,     0.61161,     0.61261,     0.61361,     0.61461,     0.61562,     0.61662,     0.61762,     0.61862,     0.61962,     0.62062,     0.62162,     0.62262,     0.62362,\n",
      "           0.62462,     0.62563,     0.62663,     0.62763,     0.62863,     0.62963,     0.63063,     0.63163,     0.63263,     0.63363,     0.63463,     0.63564,     0.63664,     0.63764,     0.63864,     0.63964,     0.64064,     0.64164,     0.64264,     0.64364,     0.64464,     0.64565,     0.64665,     0.64765,\n",
      "           0.64865,     0.64965,     0.65065,     0.65165,     0.65265,     0.65365,     0.65465,     0.65566,     0.65666,     0.65766,     0.65866,     0.65966,     0.66066,     0.66166,     0.66266,     0.66366,     0.66466,     0.66567,     0.66667,     0.66767,     0.66867,     0.66967,     0.67067,     0.67167,\n",
      "           0.67267,     0.67367,     0.67467,     0.67568,     0.67668,     0.67768,     0.67868,     0.67968,     0.68068,     0.68168,     0.68268,     0.68368,     0.68468,     0.68569,     0.68669,     0.68769,     0.68869,     0.68969,     0.69069,     0.69169,     0.69269,     0.69369,     0.69469,      0.6957,\n",
      "            0.6967,      0.6977,      0.6987,      0.6997,      0.7007,      0.7017,      0.7027,      0.7037,      0.7047,     0.70571,     0.70671,     0.70771,     0.70871,     0.70971,     0.71071,     0.71171,     0.71271,     0.71371,     0.71471,     0.71572,     0.71672,     0.71772,     0.71872,     0.71972,\n",
      "           0.72072,     0.72172,     0.72272,     0.72372,     0.72472,     0.72573,     0.72673,     0.72773,     0.72873,     0.72973,     0.73073,     0.73173,     0.73273,     0.73373,     0.73473,     0.73574,     0.73674,     0.73774,     0.73874,     0.73974,     0.74074,     0.74174,     0.74274,     0.74374,\n",
      "           0.74474,     0.74575,     0.74675,     0.74775,     0.74875,     0.74975,     0.75075,     0.75175,     0.75275,     0.75375,     0.75475,     0.75576,     0.75676,     0.75776,     0.75876,     0.75976,     0.76076,     0.76176,     0.76276,     0.76376,     0.76476,     0.76577,     0.76677,     0.76777,\n",
      "           0.76877,     0.76977,     0.77077,     0.77177,     0.77277,     0.77377,     0.77477,     0.77578,     0.77678,     0.77778,     0.77878,     0.77978,     0.78078,     0.78178,     0.78278,     0.78378,     0.78478,     0.78579,     0.78679,     0.78779,     0.78879,     0.78979,     0.79079,     0.79179,\n",
      "           0.79279,     0.79379,     0.79479,      0.7958,      0.7968,      0.7978,      0.7988,      0.7998,      0.8008,      0.8018,      0.8028,      0.8038,      0.8048,     0.80581,     0.80681,     0.80781,     0.80881,     0.80981,     0.81081,     0.81181,     0.81281,     0.81381,     0.81481,     0.81582,\n",
      "           0.81682,     0.81782,     0.81882,     0.81982,     0.82082,     0.82182,     0.82282,     0.82382,     0.82482,     0.82583,     0.82683,     0.82783,     0.82883,     0.82983,     0.83083,     0.83183,     0.83283,     0.83383,     0.83483,     0.83584,     0.83684,     0.83784,     0.83884,     0.83984,\n",
      "           0.84084,     0.84184,     0.84284,     0.84384,     0.84484,     0.84585,     0.84685,     0.84785,     0.84885,     0.84985,     0.85085,     0.85185,     0.85285,     0.85385,     0.85485,     0.85586,     0.85686,     0.85786,     0.85886,     0.85986,     0.86086,     0.86186,     0.86286,     0.86386,\n",
      "           0.86486,     0.86587,     0.86687,     0.86787,     0.86887,     0.86987,     0.87087,     0.87187,     0.87287,     0.87387,     0.87487,     0.87588,     0.87688,     0.87788,     0.87888,     0.87988,     0.88088,     0.88188,     0.88288,     0.88388,     0.88488,     0.88589,     0.88689,     0.88789,\n",
      "           0.88889,     0.88989,     0.89089,     0.89189,     0.89289,     0.89389,     0.89489,      0.8959,      0.8969,      0.8979,      0.8989,      0.8999,      0.9009,      0.9019,      0.9029,      0.9039,      0.9049,     0.90591,     0.90691,     0.90791,     0.90891,     0.90991,     0.91091,     0.91191,\n",
      "           0.91291,     0.91391,     0.91491,     0.91592,     0.91692,     0.91792,     0.91892,     0.91992,     0.92092,     0.92192,     0.92292,     0.92392,     0.92492,     0.92593,     0.92693,     0.92793,     0.92893,     0.92993,     0.93093,     0.93193,     0.93293,     0.93393,     0.93493,     0.93594,\n",
      "           0.93694,     0.93794,     0.93894,     0.93994,     0.94094,     0.94194,     0.94294,     0.94394,     0.94494,     0.94595,     0.94695,     0.94795,     0.94895,     0.94995,     0.95095,     0.95195,     0.95295,     0.95395,     0.95495,     0.95596,     0.95696,     0.95796,     0.95896,     0.95996,\n",
      "           0.96096,     0.96196,     0.96296,     0.96396,     0.96496,     0.96597,     0.96697,     0.96797,     0.96897,     0.96997,     0.97097,     0.97197,     0.97297,     0.97397,     0.97497,     0.97598,     0.97698,     0.97798,     0.97898,     0.97998,     0.98098,     0.98198,     0.98298,     0.98398,\n",
      "           0.98498,     0.98599,     0.98699,     0.98799,     0.98899,     0.98999,     0.99099,     0.99199,     0.99299,     0.99399,     0.99499,       0.996,       0.997,       0.998,       0.999,           1]), array([[    0.13436,     0.13445,      0.2183,     0.27449,     0.31691,     0.35086,     0.37532,     0.40599,     0.42376,     0.44386,     0.45665,     0.46718,     0.48061,     0.49164,     0.49986,     0.50879,     0.51792,     0.52693,     0.53764,     0.54711,     0.55699,      0.5635,      0.5721,\n",
      "            0.58142,     0.58949,     0.59929,     0.61015,     0.61596,     0.61997,     0.62744,     0.63363,     0.63527,     0.63609,     0.64052,     0.64734,     0.65115,      0.6558,     0.66171,     0.66557,     0.66761,     0.67166,     0.67658,     0.67733,     0.68171,     0.68734,     0.68869,\n",
      "            0.69226,     0.69506,     0.69684,     0.69933,      0.7003,     0.70101,      0.7018,     0.70284,     0.70593,     0.71333,     0.71543,     0.71697,     0.71806,     0.72218,     0.72371,     0.72468,     0.72694,     0.72783,     0.72834,     0.72886,     0.73068,     0.73156,     0.73374,\n",
      "            0.73699,     0.73866,     0.74043,     0.74509,     0.74576,     0.74643,     0.74738,     0.74885,      0.7514,     0.75504,      0.7563,     0.75805,      0.7608,     0.76211,     0.76308,     0.76485,      0.7661,     0.76887,     0.77068,     0.77147,     0.77189,     0.77232,     0.77302,\n",
      "            0.77617,     0.77677,     0.77737,     0.77788,     0.77836,     0.77883,      0.7795,     0.78061,     0.78229,     0.78463,     0.78556,     0.78686,     0.78782,     0.78855,     0.78954,     0.79104,     0.79248,     0.79227,     0.79288,     0.79531,      0.7959,     0.79649,     0.79709,\n",
      "            0.79769,     0.80001,     0.80085,     0.80169,     0.80198,     0.80225,     0.80252,     0.80279,     0.80306,     0.80333,     0.80666,     0.80494,     0.80733,     0.80984,     0.81358,     0.81524,     0.81604,     0.81697,     0.81876,     0.81922,     0.81968,     0.82013,     0.82057,\n",
      "            0.82097,     0.82137,     0.82177,     0.82217,     0.82303,     0.82396,      0.8247,     0.82541,     0.82598,     0.82624,     0.82651,     0.82677,     0.82704,      0.8273,     0.82757,     0.82806,     0.82899,     0.82977,     0.83028,     0.83078,     0.83129,     0.82899,      0.8299,\n",
      "            0.83078,     0.83152,     0.83226,     0.83473,     0.83527,     0.83582,     0.83636,     0.83723,      0.8381,      0.8393,     0.84057,     0.84185,     0.84253,     0.84305,     0.84358,     0.84414,      0.8449,     0.84566,     0.84631,     0.84688,     0.84745,       0.849,     0.85041,\n",
      "              0.851,      0.8516,     0.85222,     0.85286,     0.85349,     0.85608,      0.8583,     0.85932,     0.86054,     0.86189,     0.86256,     0.86323,     0.86389,     0.86451,     0.86512,     0.86573,     0.86702,     0.86802,     0.86828,     0.86853,     0.86878,     0.86903,     0.86929,\n",
      "            0.86954,     0.86979,      0.8703,     0.87158,     0.87149,     0.87064,     0.86978,     0.86969,     0.87034,     0.87098,     0.87169,     0.87254,     0.87339,     0.87421,     0.87504,     0.87596,     0.87711,     0.87815,     0.87907,     0.87995,     0.88064,     0.88133,     0.88197,\n",
      "            0.88232,     0.88266,       0.883,     0.88335,     0.88369,     0.88404,     0.88541,     0.88653,     0.88725,     0.88796,     0.89058,     0.89073,     0.89087,     0.89102,     0.89117,     0.89132,     0.89147,     0.89162,     0.89177,     0.89191,     0.89206,     0.89221,     0.89236,\n",
      "            0.89251,     0.89266,     0.89395,     0.89504,     0.89547,      0.8959,     0.89634,     0.89677,     0.89816,     0.89968,      0.9003,     0.90092,     0.90153,      0.9021,     0.90268,     0.90325,     0.90385,     0.90457,      0.9053,     0.90591,     0.90558,     0.90526,     0.90493,\n",
      "            0.90461,     0.90428,     0.90396,     0.90363,     0.90331,     0.90249,      0.9015,     0.90051,     0.90083,     0.90117,     0.90151,     0.90184,     0.90218,     0.90252,     0.90284,     0.90313,     0.90342,      0.9037,     0.90399,     0.90428,     0.90457,     0.90485,     0.90542,\n",
      "            0.90627,     0.90712,     0.90796,      0.9088,     0.90959,        0.91,     0.91041,     0.91082,     0.91122,     0.91163,      0.9101,     0.90927,     0.90953,     0.90979,     0.91004,      0.9103,     0.91056,     0.91081,     0.91107,     0.91132,     0.91002,      0.9077,     0.90616,\n",
      "            0.90681,     0.90746,     0.90811,      0.9089,      0.9097,     0.91051,     0.91157,     0.91263,     0.91338,     0.91407,     0.91475,     0.91521,     0.91534,     0.91546,     0.91558,      0.9157,     0.91582,     0.91594,     0.91606,     0.91618,      0.9163,     0.91642,     0.91654,\n",
      "            0.91666,     0.91678,     0.91691,     0.91703,     0.91715,     0.91727,     0.91739,     0.91751,      0.9147,      0.9143,      0.9139,     0.91349,     0.91309,     0.91269,     0.91228,     0.91185,     0.91118,     0.91051,     0.90984,     0.90916,      0.9087,     0.90827,     0.90783,\n",
      "            0.90739,     0.90695,     0.90652,     0.90643,      0.9069,     0.90736,     0.90782,     0.90828,     0.90638,     0.90827,      0.9085,     0.90873,     0.90895,     0.90918,     0.90941,     0.90963,     0.90986,     0.91009,     0.91031,     0.91049,     0.90982,     0.90916,     0.90849,\n",
      "            0.90783,     0.90814,     0.90881,     0.90947,     0.91007,     0.91024,     0.91041,     0.91058,     0.91075,     0.91091,     0.91108,     0.91125,     0.91142,     0.91158,     0.91175,     0.91192,     0.91208,     0.91225,     0.91242,      0.9142,     0.91272,     0.91162,     0.91089,\n",
      "            0.91016,     0.90942,      0.9093,     0.90967,     0.91005,     0.91042,      0.9108,     0.91117,     0.91152,     0.91139,     0.91127,     0.91114,     0.91101,     0.91088,     0.91076,     0.91063,      0.9105,     0.91037,     0.91025,     0.91012,     0.90999,     0.90986,     0.90974,\n",
      "            0.90961,     0.90948,     0.90935,     0.90923,      0.9091,     0.90897,     0.90884,     0.90871,     0.90866,     0.90917,     0.90967,     0.91018,     0.91068,     0.91109,     0.91122,     0.91135,     0.91148,     0.91162,     0.91175,     0.91188,     0.91201,     0.91215,     0.91228,\n",
      "            0.91241,     0.91254,     0.91268,     0.91281,     0.91294,     0.91307,     0.91321,     0.91334,     0.91347,      0.9136,     0.91373,     0.91386,     0.91398,     0.91411,     0.91424,     0.91437,     0.91449,     0.91462,     0.91475,     0.91488,       0.915,     0.91513,     0.91526,\n",
      "            0.91539,     0.91551,     0.91564,     0.91577,     0.91589,     0.91544,     0.91329,     0.91276,     0.91245,     0.91213,     0.91182,      0.9115,     0.91118,     0.91087,     0.91055,     0.91023,     0.90884,     0.90643,      0.9041,      0.9039,      0.9037,      0.9035,     0.90331,\n",
      "            0.90311,     0.90291,     0.90271,     0.90252,     0.90232,     0.90212,     0.90192,     0.90173,     0.90153,     0.90133,     0.90113,     0.90139,     0.90174,     0.90209,     0.90243,     0.90278,     0.90313,     0.90348,     0.90419,     0.90506,     0.90593,     0.90595,     0.90579,\n",
      "            0.90563,     0.90548,     0.90532,     0.90516,     0.90501,     0.90485,     0.90469,     0.90454,     0.90438,     0.90422,     0.90407,     0.90391,     0.90375,      0.9036,     0.90344,     0.90328,     0.90312,     0.90298,     0.90284,      0.9027,     0.90256,     0.90242,     0.90228,\n",
      "            0.90214,       0.902,     0.90186,     0.90172,     0.90158,     0.90144,      0.9013,     0.90116,     0.90102,     0.90088,     0.90074,     0.90061,     0.90047,     0.90033,     0.90019,     0.90005,     0.90094,     0.90233,     0.90192,     0.90124,     0.90055,     0.89987,     0.89939,\n",
      "            0.89924,     0.89909,     0.89894,     0.89879,     0.89864,     0.89849,     0.89834,     0.89819,     0.89804,     0.89789,     0.89774,     0.89759,     0.89744,     0.89729,     0.89714,     0.89699,     0.89684,     0.89669,     0.89654,     0.89639,     0.89536,     0.89409,     0.89261,\n",
      "            0.89072,     0.88834,     0.88682,     0.88644,     0.88606,     0.88568,      0.8853,     0.88492,     0.88454,     0.88415,     0.88345,     0.88157,     0.88046,     0.88005,     0.87964,     0.87923,     0.87881,      0.8784,     0.87798,     0.87757,     0.87656,      0.8754,     0.87427,\n",
      "            0.87369,      0.8731,     0.87252,     0.87193,     0.87135,     0.87014,     0.86832,     0.86738,     0.86677,     0.86616,     0.86555,     0.86494,     0.86198,     0.86013,     0.85886,     0.85781,     0.85729,     0.85677,     0.85625,     0.85573,     0.85521,     0.85468,     0.85043,\n",
      "            0.84943,     0.84842,     0.84737,     0.84627,     0.84518,     0.84203,     0.84014,     0.83892,     0.83766,     0.83569,       0.835,     0.83666,     0.83597,     0.83527,     0.83457,     0.83387,     0.83304,     0.83177,      0.8305,     0.82949,     0.82874,     0.82799,     0.82725,\n",
      "             0.8265,     0.82542,     0.82426,      0.8231,     0.82007,       0.819,     0.81864,     0.81827,     0.81791,     0.81755,     0.81719,     0.81683,     0.81647,     0.81611,     0.81574,     0.81685,      0.8181,     0.81582,     0.81425,     0.81358,     0.81292,     0.81226,     0.81159,\n",
      "            0.81092,     0.81014,     0.80935,     0.80856,     0.80778,     0.80524,     0.80412,     0.80477,     0.80543,     0.80608,     0.80429,      0.8021,     0.79949,     0.79405,     0.79139,     0.78981,     0.78827,     0.78615,     0.78362,      0.7827,     0.78179,     0.78087,     0.77995,\n",
      "            0.77858,     0.77717,      0.7746,     0.77106,     0.76943,     0.76777,     0.76603,      0.7642,     0.76001,     0.75701,     0.75489,     0.75298,     0.74944,     0.74701,     0.74518,     0.74378,     0.74275,     0.74172,     0.74069,     0.72769,     0.72547,     0.72348,     0.72244,\n",
      "             0.7214,     0.72035,     0.71925,     0.71785,     0.71644,     0.71515,     0.71454,     0.71393,     0.71332,     0.71271,      0.7121,     0.71149,     0.71081,     0.70975,     0.70868,     0.70762,     0.70549,     0.69337,       0.692,     0.69062,     0.68924,     0.67987,      0.6787,\n",
      "            0.67754,     0.67637,     0.67504,     0.67355,     0.67206,     0.67007,     0.66747,      0.6656,     0.66406,     0.66252,     0.65937,     0.65366,     0.65232,      0.6518,     0.65129,     0.65077,     0.65025,     0.64973,     0.64922,      0.6487,     0.64818,     0.64886,     0.64981,\n",
      "            0.64561,     0.64436,      0.6431,     0.64185,     0.64067,     0.63981,     0.63894,     0.63808,     0.63721,     0.63634,     0.63013,     0.62772,     0.61554,     0.60754,     0.60473,     0.60268,     0.60096,     0.59976,     0.59856,     0.59736,     0.59491,     0.58913,     0.58082,\n",
      "            0.58042,     0.58002,     0.57962,     0.57923,     0.57883,     0.57842,     0.57802,     0.57762,     0.57722,     0.57682,     0.57642,     0.57602,     0.57551,     0.57357,     0.57162,     0.56373,     0.55913,     0.54642,     0.54185,     0.53885,     0.53326,      0.5284,     0.52464,\n",
      "            0.52135,     0.51665,      0.5112,     0.50141,     0.49685,     0.49119,     0.47964,     0.47337,     0.46474,     0.46003,     0.45027,     0.44557,     0.43863,     0.43619,     0.43373,     0.43031,     0.42612,     0.42237,     0.40927,     0.40333,     0.39789,     0.39031,     0.38403,\n",
      "            0.37159,      0.3669,     0.36257,     0.35773,     0.35106,     0.34796,     0.34485,      0.3198,      0.3051,     0.29014,     0.28304,     0.27562,     0.27105,     0.26811,      0.2655,     0.26288,     0.25513,     0.24541,      0.2254,     0.18858,     0.17909,     0.16236,     0.15352,\n",
      "            0.12688,      0.1228,     0.11874,     0.10924,    0.092274,    0.086877,    0.082826,     0.06453,    0.048974,    0.044848,    0.040673,    0.035322,     0.02992,    0.024373,    0.017343,           0,           0,           0,           0,           0,           0,           0,           0,\n",
      "                  0,           0,           0,           0,           0,           0,           0,           0,           0,           0,           0,           0,           0,           0,           0,           0,           0,           0,           0,           0,           0,           0,           0,\n",
      "                  0,           0,           0,           0,           0,           0,           0,           0,           0,           0,           0,           0,           0,           0,           0,           0,           0,           0,           0,           0,           0,           0,           0,\n",
      "                  0,           0,           0,           0,           0,           0,           0,           0,           0,           0,           0,           0,           0,           0,           0,           0,           0,           0,           0,           0,           0,           0,           0,\n",
      "                  0,           0,           0,           0,           0,           0,           0,           0,           0,           0,           0,           0,           0,           0,           0,           0,           0,           0,           0,           0,           0,           0,           0,\n",
      "                  0,           0,           0,           0,           0,           0,           0,           0,           0,           0,           0]]), 'Confidence', 'F1'], [array([          0,    0.001001,    0.002002,    0.003003,    0.004004,    0.005005,    0.006006,    0.007007,    0.008008,    0.009009,     0.01001,    0.011011,    0.012012,    0.013013,    0.014014,    0.015015,    0.016016,    0.017017,    0.018018,    0.019019,     0.02002,    0.021021,    0.022022,    0.023023,\n",
      "          0.024024,    0.025025,    0.026026,    0.027027,    0.028028,    0.029029,     0.03003,    0.031031,    0.032032,    0.033033,    0.034034,    0.035035,    0.036036,    0.037037,    0.038038,    0.039039,     0.04004,    0.041041,    0.042042,    0.043043,    0.044044,    0.045045,    0.046046,    0.047047,\n",
      "          0.048048,    0.049049,     0.05005,    0.051051,    0.052052,    0.053053,    0.054054,    0.055055,    0.056056,    0.057057,    0.058058,    0.059059,     0.06006,    0.061061,    0.062062,    0.063063,    0.064064,    0.065065,    0.066066,    0.067067,    0.068068,    0.069069,     0.07007,    0.071071,\n",
      "          0.072072,    0.073073,    0.074074,    0.075075,    0.076076,    0.077077,    0.078078,    0.079079,     0.08008,    0.081081,    0.082082,    0.083083,    0.084084,    0.085085,    0.086086,    0.087087,    0.088088,    0.089089,     0.09009,    0.091091,    0.092092,    0.093093,    0.094094,    0.095095,\n",
      "          0.096096,    0.097097,    0.098098,    0.099099,      0.1001,      0.1011,      0.1021,      0.1031,      0.1041,     0.10511,     0.10611,     0.10711,     0.10811,     0.10911,     0.11011,     0.11111,     0.11211,     0.11311,     0.11411,     0.11512,     0.11612,     0.11712,     0.11812,     0.11912,\n",
      "           0.12012,     0.12112,     0.12212,     0.12312,     0.12412,     0.12513,     0.12613,     0.12713,     0.12813,     0.12913,     0.13013,     0.13113,     0.13213,     0.13313,     0.13413,     0.13514,     0.13614,     0.13714,     0.13814,     0.13914,     0.14014,     0.14114,     0.14214,     0.14314,\n",
      "           0.14414,     0.14515,     0.14615,     0.14715,     0.14815,     0.14915,     0.15015,     0.15115,     0.15215,     0.15315,     0.15415,     0.15516,     0.15616,     0.15716,     0.15816,     0.15916,     0.16016,     0.16116,     0.16216,     0.16316,     0.16416,     0.16517,     0.16617,     0.16717,\n",
      "           0.16817,     0.16917,     0.17017,     0.17117,     0.17217,     0.17317,     0.17417,     0.17518,     0.17618,     0.17718,     0.17818,     0.17918,     0.18018,     0.18118,     0.18218,     0.18318,     0.18418,     0.18519,     0.18619,     0.18719,     0.18819,     0.18919,     0.19019,     0.19119,\n",
      "           0.19219,     0.19319,     0.19419,      0.1952,      0.1962,      0.1972,      0.1982,      0.1992,      0.2002,      0.2012,      0.2022,      0.2032,      0.2042,     0.20521,     0.20621,     0.20721,     0.20821,     0.20921,     0.21021,     0.21121,     0.21221,     0.21321,     0.21421,     0.21522,\n",
      "           0.21622,     0.21722,     0.21822,     0.21922,     0.22022,     0.22122,     0.22222,     0.22322,     0.22422,     0.22523,     0.22623,     0.22723,     0.22823,     0.22923,     0.23023,     0.23123,     0.23223,     0.23323,     0.23423,     0.23524,     0.23624,     0.23724,     0.23824,     0.23924,\n",
      "           0.24024,     0.24124,     0.24224,     0.24324,     0.24424,     0.24525,     0.24625,     0.24725,     0.24825,     0.24925,     0.25025,     0.25125,     0.25225,     0.25325,     0.25425,     0.25526,     0.25626,     0.25726,     0.25826,     0.25926,     0.26026,     0.26126,     0.26226,     0.26326,\n",
      "           0.26426,     0.26527,     0.26627,     0.26727,     0.26827,     0.26927,     0.27027,     0.27127,     0.27227,     0.27327,     0.27427,     0.27528,     0.27628,     0.27728,     0.27828,     0.27928,     0.28028,     0.28128,     0.28228,     0.28328,     0.28428,     0.28529,     0.28629,     0.28729,\n",
      "           0.28829,     0.28929,     0.29029,     0.29129,     0.29229,     0.29329,     0.29429,      0.2953,      0.2963,      0.2973,      0.2983,      0.2993,      0.3003,      0.3013,      0.3023,      0.3033,      0.3043,     0.30531,     0.30631,     0.30731,     0.30831,     0.30931,     0.31031,     0.31131,\n",
      "           0.31231,     0.31331,     0.31431,     0.31532,     0.31632,     0.31732,     0.31832,     0.31932,     0.32032,     0.32132,     0.32232,     0.32332,     0.32432,     0.32533,     0.32633,     0.32733,     0.32833,     0.32933,     0.33033,     0.33133,     0.33233,     0.33333,     0.33433,     0.33534,\n",
      "           0.33634,     0.33734,     0.33834,     0.33934,     0.34034,     0.34134,     0.34234,     0.34334,     0.34434,     0.34535,     0.34635,     0.34735,     0.34835,     0.34935,     0.35035,     0.35135,     0.35235,     0.35335,     0.35435,     0.35536,     0.35636,     0.35736,     0.35836,     0.35936,\n",
      "           0.36036,     0.36136,     0.36236,     0.36336,     0.36436,     0.36537,     0.36637,     0.36737,     0.36837,     0.36937,     0.37037,     0.37137,     0.37237,     0.37337,     0.37437,     0.37538,     0.37638,     0.37738,     0.37838,     0.37938,     0.38038,     0.38138,     0.38238,     0.38338,\n",
      "           0.38438,     0.38539,     0.38639,     0.38739,     0.38839,     0.38939,     0.39039,     0.39139,     0.39239,     0.39339,     0.39439,      0.3954,      0.3964,      0.3974,      0.3984,      0.3994,      0.4004,      0.4014,      0.4024,      0.4034,      0.4044,     0.40541,     0.40641,     0.40741,\n",
      "           0.40841,     0.40941,     0.41041,     0.41141,     0.41241,     0.41341,     0.41441,     0.41542,     0.41642,     0.41742,     0.41842,     0.41942,     0.42042,     0.42142,     0.42242,     0.42342,     0.42442,     0.42543,     0.42643,     0.42743,     0.42843,     0.42943,     0.43043,     0.43143,\n",
      "           0.43243,     0.43343,     0.43443,     0.43544,     0.43644,     0.43744,     0.43844,     0.43944,     0.44044,     0.44144,     0.44244,     0.44344,     0.44444,     0.44545,     0.44645,     0.44745,     0.44845,     0.44945,     0.45045,     0.45145,     0.45245,     0.45345,     0.45445,     0.45546,\n",
      "           0.45646,     0.45746,     0.45846,     0.45946,     0.46046,     0.46146,     0.46246,     0.46346,     0.46446,     0.46547,     0.46647,     0.46747,     0.46847,     0.46947,     0.47047,     0.47147,     0.47247,     0.47347,     0.47447,     0.47548,     0.47648,     0.47748,     0.47848,     0.47948,\n",
      "           0.48048,     0.48148,     0.48248,     0.48348,     0.48448,     0.48549,     0.48649,     0.48749,     0.48849,     0.48949,     0.49049,     0.49149,     0.49249,     0.49349,     0.49449,      0.4955,      0.4965,      0.4975,      0.4985,      0.4995,      0.5005,      0.5015,      0.5025,      0.5035,\n",
      "            0.5045,     0.50551,     0.50651,     0.50751,     0.50851,     0.50951,     0.51051,     0.51151,     0.51251,     0.51351,     0.51451,     0.51552,     0.51652,     0.51752,     0.51852,     0.51952,     0.52052,     0.52152,     0.52252,     0.52352,     0.52452,     0.52553,     0.52653,     0.52753,\n",
      "           0.52853,     0.52953,     0.53053,     0.53153,     0.53253,     0.53353,     0.53453,     0.53554,     0.53654,     0.53754,     0.53854,     0.53954,     0.54054,     0.54154,     0.54254,     0.54354,     0.54454,     0.54555,     0.54655,     0.54755,     0.54855,     0.54955,     0.55055,     0.55155,\n",
      "           0.55255,     0.55355,     0.55455,     0.55556,     0.55656,     0.55756,     0.55856,     0.55956,     0.56056,     0.56156,     0.56256,     0.56356,     0.56456,     0.56557,     0.56657,     0.56757,     0.56857,     0.56957,     0.57057,     0.57157,     0.57257,     0.57357,     0.57457,     0.57558,\n",
      "           0.57658,     0.57758,     0.57858,     0.57958,     0.58058,     0.58158,     0.58258,     0.58358,     0.58458,     0.58559,     0.58659,     0.58759,     0.58859,     0.58959,     0.59059,     0.59159,     0.59259,     0.59359,     0.59459,      0.5956,      0.5966,      0.5976,      0.5986,      0.5996,\n",
      "            0.6006,      0.6016,      0.6026,      0.6036,      0.6046,     0.60561,     0.60661,     0.60761,     0.60861,     0.60961,     0.61061,     0.61161,     0.61261,     0.61361,     0.61461,     0.61562,     0.61662,     0.61762,     0.61862,     0.61962,     0.62062,     0.62162,     0.62262,     0.62362,\n",
      "           0.62462,     0.62563,     0.62663,     0.62763,     0.62863,     0.62963,     0.63063,     0.63163,     0.63263,     0.63363,     0.63463,     0.63564,     0.63664,     0.63764,     0.63864,     0.63964,     0.64064,     0.64164,     0.64264,     0.64364,     0.64464,     0.64565,     0.64665,     0.64765,\n",
      "           0.64865,     0.64965,     0.65065,     0.65165,     0.65265,     0.65365,     0.65465,     0.65566,     0.65666,     0.65766,     0.65866,     0.65966,     0.66066,     0.66166,     0.66266,     0.66366,     0.66466,     0.66567,     0.66667,     0.66767,     0.66867,     0.66967,     0.67067,     0.67167,\n",
      "           0.67267,     0.67367,     0.67467,     0.67568,     0.67668,     0.67768,     0.67868,     0.67968,     0.68068,     0.68168,     0.68268,     0.68368,     0.68468,     0.68569,     0.68669,     0.68769,     0.68869,     0.68969,     0.69069,     0.69169,     0.69269,     0.69369,     0.69469,      0.6957,\n",
      "            0.6967,      0.6977,      0.6987,      0.6997,      0.7007,      0.7017,      0.7027,      0.7037,      0.7047,     0.70571,     0.70671,     0.70771,     0.70871,     0.70971,     0.71071,     0.71171,     0.71271,     0.71371,     0.71471,     0.71572,     0.71672,     0.71772,     0.71872,     0.71972,\n",
      "           0.72072,     0.72172,     0.72272,     0.72372,     0.72472,     0.72573,     0.72673,     0.72773,     0.72873,     0.72973,     0.73073,     0.73173,     0.73273,     0.73373,     0.73473,     0.73574,     0.73674,     0.73774,     0.73874,     0.73974,     0.74074,     0.74174,     0.74274,     0.74374,\n",
      "           0.74474,     0.74575,     0.74675,     0.74775,     0.74875,     0.74975,     0.75075,     0.75175,     0.75275,     0.75375,     0.75475,     0.75576,     0.75676,     0.75776,     0.75876,     0.75976,     0.76076,     0.76176,     0.76276,     0.76376,     0.76476,     0.76577,     0.76677,     0.76777,\n",
      "           0.76877,     0.76977,     0.77077,     0.77177,     0.77277,     0.77377,     0.77477,     0.77578,     0.77678,     0.77778,     0.77878,     0.77978,     0.78078,     0.78178,     0.78278,     0.78378,     0.78478,     0.78579,     0.78679,     0.78779,     0.78879,     0.78979,     0.79079,     0.79179,\n",
      "           0.79279,     0.79379,     0.79479,      0.7958,      0.7968,      0.7978,      0.7988,      0.7998,      0.8008,      0.8018,      0.8028,      0.8038,      0.8048,     0.80581,     0.80681,     0.80781,     0.80881,     0.80981,     0.81081,     0.81181,     0.81281,     0.81381,     0.81481,     0.81582,\n",
      "           0.81682,     0.81782,     0.81882,     0.81982,     0.82082,     0.82182,     0.82282,     0.82382,     0.82482,     0.82583,     0.82683,     0.82783,     0.82883,     0.82983,     0.83083,     0.83183,     0.83283,     0.83383,     0.83483,     0.83584,     0.83684,     0.83784,     0.83884,     0.83984,\n",
      "           0.84084,     0.84184,     0.84284,     0.84384,     0.84484,     0.84585,     0.84685,     0.84785,     0.84885,     0.84985,     0.85085,     0.85185,     0.85285,     0.85385,     0.85485,     0.85586,     0.85686,     0.85786,     0.85886,     0.85986,     0.86086,     0.86186,     0.86286,     0.86386,\n",
      "           0.86486,     0.86587,     0.86687,     0.86787,     0.86887,     0.86987,     0.87087,     0.87187,     0.87287,     0.87387,     0.87487,     0.87588,     0.87688,     0.87788,     0.87888,     0.87988,     0.88088,     0.88188,     0.88288,     0.88388,     0.88488,     0.88589,     0.88689,     0.88789,\n",
      "           0.88889,     0.88989,     0.89089,     0.89189,     0.89289,     0.89389,     0.89489,      0.8959,      0.8969,      0.8979,      0.8989,      0.8999,      0.9009,      0.9019,      0.9029,      0.9039,      0.9049,     0.90591,     0.90691,     0.90791,     0.90891,     0.90991,     0.91091,     0.91191,\n",
      "           0.91291,     0.91391,     0.91491,     0.91592,     0.91692,     0.91792,     0.91892,     0.91992,     0.92092,     0.92192,     0.92292,     0.92392,     0.92492,     0.92593,     0.92693,     0.92793,     0.92893,     0.92993,     0.93093,     0.93193,     0.93293,     0.93393,     0.93493,     0.93594,\n",
      "           0.93694,     0.93794,     0.93894,     0.93994,     0.94094,     0.94194,     0.94294,     0.94394,     0.94494,     0.94595,     0.94695,     0.94795,     0.94895,     0.94995,     0.95095,     0.95195,     0.95295,     0.95395,     0.95495,     0.95596,     0.95696,     0.95796,     0.95896,     0.95996,\n",
      "           0.96096,     0.96196,     0.96296,     0.96396,     0.96496,     0.96597,     0.96697,     0.96797,     0.96897,     0.96997,     0.97097,     0.97197,     0.97297,     0.97397,     0.97497,     0.97598,     0.97698,     0.97798,     0.97898,     0.97998,     0.98098,     0.98198,     0.98298,     0.98398,\n",
      "           0.98498,     0.98599,     0.98699,     0.98799,     0.98899,     0.98999,     0.99099,     0.99199,     0.99299,     0.99399,     0.99499,       0.996,       0.997,       0.998,       0.999,           1]), array([[   0.072018,    0.072071,     0.12252,     0.15908,     0.18829,     0.21299,     0.23129,     0.25538,     0.27039,     0.28697,     0.29776,     0.30678,     0.31846,     0.32822,     0.33559,     0.34369,     0.35207,     0.36045,     0.37055,      0.3796,     0.38919,     0.39557,     0.40411,\n",
      "            0.41347,     0.42168,     0.43178,     0.44314,      0.4493,     0.45357,     0.46162,     0.46835,     0.47015,     0.47105,     0.47593,     0.48349,     0.48776,       0.493,      0.4997,     0.50411,     0.50647,     0.51113,     0.51686,     0.51773,     0.52287,     0.52952,     0.53113,\n",
      "            0.53538,     0.53874,     0.54088,     0.54389,     0.54506,     0.54592,     0.54689,     0.54815,     0.55192,     0.56102,     0.56513,     0.56728,     0.56865,     0.57384,     0.57578,     0.57701,     0.57987,       0.581,     0.58166,     0.58231,     0.58465,     0.58577,     0.58857,\n",
      "            0.59276,     0.59493,     0.59724,     0.60331,      0.6042,     0.60508,     0.60632,     0.60826,     0.61164,     0.61648,     0.61815,      0.6205,     0.62419,     0.62595,     0.62727,     0.62967,     0.63136,     0.63513,      0.6376,     0.63868,     0.63927,     0.63985,     0.64081,\n",
      "            0.64516,     0.64599,     0.64682,     0.64752,     0.64818,     0.64884,     0.64976,     0.65131,     0.65365,     0.65693,     0.65824,     0.66006,     0.66142,     0.66244,     0.66384,     0.66596,     0.66801,     0.66943,     0.67105,     0.67454,     0.67539,     0.67624,     0.67711,\n",
      "            0.67798,     0.68133,     0.68255,     0.68377,      0.6842,     0.68459,     0.68499,     0.68538,     0.68577,     0.68617,     0.69132,     0.69118,      0.6947,     0.69843,     0.70402,      0.7065,      0.7077,      0.7091,      0.7118,      0.7125,     0.71319,     0.71388,     0.71454,\n",
      "            0.71515,     0.71576,     0.71636,     0.71697,     0.71828,      0.7197,     0.72083,     0.72192,     0.72279,      0.7232,      0.7236,     0.72401,     0.72441,     0.72482,     0.72523,     0.72599,     0.72741,     0.72861,     0.72939,     0.73018,     0.73096,     0.73041,     0.73182,\n",
      "            0.73319,     0.73435,      0.7355,     0.73937,     0.74022,     0.74107,     0.74193,      0.7433,     0.74468,     0.74657,     0.74858,     0.75062,     0.75169,     0.75253,     0.75337,     0.75426,     0.75548,     0.75669,     0.75773,     0.75865,     0.75956,     0.76205,     0.76433,\n",
      "            0.76529,     0.76626,     0.76726,     0.76829,     0.76932,     0.77354,     0.77718,     0.77885,     0.78086,     0.78308,     0.78419,     0.78529,      0.7864,     0.78741,     0.78843,     0.78945,     0.79159,     0.79327,     0.79369,     0.79411,     0.79454,     0.79496,     0.79538,\n",
      "             0.7958,     0.79622,     0.79708,     0.79923,     0.79982,     0.79954,     0.79926,     0.79968,     0.80078,     0.80187,     0.80308,     0.80452,     0.80596,     0.80737,     0.80878,     0.81036,     0.81232,     0.81411,      0.8157,     0.81721,      0.8184,     0.81959,     0.82071,\n",
      "             0.8213,      0.8219,     0.82249,     0.82309,     0.82369,     0.82428,     0.82668,     0.82863,     0.82988,     0.83114,     0.83573,     0.83599,     0.83626,     0.83652,     0.83678,     0.83704,     0.83731,     0.83757,     0.83783,     0.83809,     0.83835,     0.83862,     0.83888,\n",
      "            0.83914,      0.8394,     0.84169,     0.84363,      0.8444,     0.84517,     0.84593,      0.8467,     0.84919,     0.85191,     0.85302,     0.85413,     0.85524,     0.85627,      0.8573,     0.85833,     0.85942,     0.86073,     0.86204,      0.8632,     0.86312,     0.86304,     0.86297,\n",
      "            0.86289,     0.86281,     0.86273,     0.86266,     0.86258,     0.86238,     0.86214,     0.86191,     0.86252,     0.86314,     0.86376,     0.86438,       0.865,     0.86562,     0.86621,     0.86674,     0.86727,      0.8678,     0.86833,     0.86886,     0.86939,     0.86992,     0.87097,\n",
      "            0.87254,     0.87411,     0.87568,     0.87724,     0.87872,     0.87949,     0.88025,     0.88101,     0.88177,     0.88254,     0.88256,      0.8827,     0.88318,     0.88367,     0.88415,     0.88463,     0.88512,      0.8856,     0.88608,     0.88657,     0.88642,     0.88595,     0.88616,\n",
      "            0.88741,     0.88865,      0.8899,     0.89142,     0.89296,     0.89451,     0.89656,     0.89862,     0.90008,     0.90141,     0.90274,     0.90365,     0.90388,     0.90412,     0.90435,     0.90459,     0.90483,     0.90506,      0.9053,     0.90553,     0.90577,       0.906,     0.90624,\n",
      "            0.90648,     0.90671,     0.90695,     0.90718,     0.90742,     0.90766,     0.90789,     0.90813,     0.90769,     0.90762,     0.90755,     0.90748,     0.90741,     0.90735,     0.90728,      0.9072,     0.90709,     0.90698,     0.90686,     0.90675,     0.90667,     0.90659,     0.90652,\n",
      "            0.90644,     0.90637,      0.9063,     0.90662,     0.90754,     0.90847,     0.90939,     0.91032,     0.91177,     0.91562,     0.91608,     0.91654,       0.917,     0.91747,     0.91793,     0.91839,     0.91885,     0.91932,     0.91978,     0.92021,     0.92011,     0.92001,     0.91991,\n",
      "            0.91981,     0.92079,     0.92216,     0.92353,     0.92477,     0.92512,     0.92547,     0.92581,     0.92616,     0.92651,     0.92686,      0.9272,     0.92755,      0.9279,     0.92824,     0.92859,     0.92894,     0.92928,     0.92963,      0.9347,     0.93451,     0.93438,     0.93429,\n",
      "             0.9342,     0.93411,      0.9345,     0.93529,     0.93609,     0.93688,     0.93768,     0.93847,     0.93923,     0.93921,      0.9392,     0.93918,     0.93917,     0.93915,     0.93914,     0.93912,     0.93911,     0.93909,     0.93908,     0.93906,     0.93905,     0.93903,     0.93902,\n",
      "              0.939,     0.93899,     0.93898,     0.93896,     0.93895,     0.93893,     0.93892,      0.9389,     0.93902,      0.9401,     0.94118,     0.94226,     0.94334,     0.94421,     0.94449,     0.94478,     0.94506,     0.94535,     0.94564,     0.94592,     0.94621,     0.94649,     0.94678,\n",
      "            0.94706,     0.94735,     0.94763,     0.94792,      0.9482,     0.94849,     0.94878,     0.94906,     0.94935,     0.94963,      0.9499,     0.95018,     0.95045,     0.95073,     0.95101,     0.95128,     0.95156,     0.95183,     0.95211,     0.95239,     0.95266,     0.95294,     0.95322,\n",
      "            0.95349,     0.95377,     0.95404,     0.95432,      0.9546,     0.95475,     0.95457,     0.95452,     0.95449,     0.95447,     0.95444,     0.95441,     0.95438,     0.95435,     0.95433,      0.9543,     0.95418,     0.95396,     0.95376,     0.95374,     0.95372,      0.9537,     0.95369,\n",
      "            0.95367,     0.95365,     0.95363,     0.95361,      0.9536,     0.95358,     0.95356,     0.95354,     0.95353,     0.95351,     0.95349,     0.95414,     0.95492,      0.9557,     0.95648,     0.95727,     0.95805,     0.95883,     0.96044,     0.96241,     0.96438,      0.9647,     0.96469,\n",
      "            0.96468,     0.96466,     0.96465,     0.96464,     0.96463,     0.96462,     0.96461,      0.9646,     0.96459,     0.96458,     0.96457,     0.96456,     0.96455,     0.96453,     0.96452,     0.96451,      0.9645,     0.96449,     0.96448,     0.96447,     0.96446,     0.96445,     0.96444,\n",
      "            0.96443,     0.96442,     0.96441,     0.96441,      0.9644,     0.96439,     0.96438,     0.96437,     0.96436,     0.96435,     0.96434,     0.96433,     0.96432,     0.96431,      0.9643,     0.96429,     0.96644,     0.96964,     0.97003,     0.96998,     0.96994,      0.9699,     0.96988,\n",
      "            0.96987,     0.96986,     0.96985,     0.96984,     0.96983,     0.96982,     0.96981,     0.96981,      0.9698,     0.96979,     0.96978,     0.96977,     0.96976,     0.96975,     0.96974,     0.96973,     0.96973,     0.96972,     0.96971,      0.9697,     0.96964,     0.96956,     0.96947,\n",
      "            0.96936,     0.96922,     0.96912,      0.9691,     0.96908,     0.96906,     0.96903,     0.96901,     0.96899,     0.96896,     0.96892,      0.9688,     0.96874,     0.96871,     0.96869,     0.96866,     0.96863,     0.96861,     0.96858,     0.96856,      0.9685,     0.96842,     0.96835,\n",
      "            0.96832,     0.96828,     0.96824,     0.96821,     0.96817,     0.96809,     0.96798,     0.96792,     0.96788,     0.96784,      0.9678,     0.96777,     0.96758,     0.96746,     0.96738,     0.96731,     0.96728,     0.96724,     0.96721,     0.96717,     0.96714,     0.96711,     0.96683,\n",
      "            0.96676,      0.9667,     0.96663,     0.96656,     0.96648,     0.96627,     0.96615,     0.96606,     0.96598,     0.96585,     0.96757,     0.97241,     0.97237,     0.97233,     0.97229,     0.97225,     0.97221,     0.97214,     0.97206,     0.97201,     0.97197,     0.97192,     0.97188,\n",
      "            0.97184,     0.97178,     0.97171,     0.97165,     0.97147,     0.97141,     0.97139,     0.97137,     0.97135,     0.97133,     0.97131,     0.97129,     0.97127,     0.97125,     0.97122,     0.97445,     0.97801,     0.97816,     0.97809,     0.97806,     0.97803,       0.978,     0.97797,\n",
      "            0.97794,      0.9779,     0.97787,     0.97783,      0.9778,     0.97768,     0.97891,     0.98085,     0.98279,     0.98473,      0.9849,     0.98484,     0.98476,     0.98458,      0.9845,     0.98445,      0.9844,     0.98433,     0.98425,     0.98422,     0.98419,     0.98416,     0.98413,\n",
      "            0.98408,     0.98404,     0.98395,     0.98383,     0.98378,     0.98372,     0.98366,      0.9836,     0.98346,     0.98335,     0.98328,     0.98321,     0.98309,       0.983,     0.98294,     0.98289,     0.98285,     0.98281,     0.98277,     0.98229,     0.98221,     0.98213,      0.9821,\n",
      "            0.98206,     0.98202,     0.98197,     0.98192,     0.98186,     0.98181,     0.98179,     0.98177,     0.98174,     0.98172,      0.9817,     0.98167,     0.98165,      0.9816,     0.98156,     0.98152,     0.98143,     0.98094,     0.98089,     0.98083,     0.98077,     0.98037,     0.98032,\n",
      "            0.98027,     0.98022,     0.98017,      0.9801,     0.98004,     0.97995,     0.97983,     0.97975,     0.97968,     0.97961,     0.97947,     0.97921,     0.97915,     0.97912,      0.9791,     0.97907,     0.97905,     0.97902,       0.979,     0.97898,     0.97895,     0.98251,     0.98687,\n",
      "            0.98925,     0.98922,     0.98919,     0.98915,     0.98913,      0.9891,     0.98908,     0.98906,     0.98904,     0.98902,     0.98886,      0.9888,     0.98848,     0.98826,     0.98819,     0.98813,     0.98808,     0.98805,     0.98801,     0.98798,     0.98791,     0.98774,      0.9875,\n",
      "            0.98749,     0.98747,     0.98746,     0.98745,     0.98744,     0.98743,     0.98741,      0.9874,     0.98739,     0.98738,     0.98737,     0.98735,     0.98734,     0.98728,     0.98722,     0.98697,     0.98682,      0.9864,     0.98625,     0.98614,     0.98595,     0.98577,     0.98564,\n",
      "            0.98552,     0.99458,           1,           1,           1,           1,           1,           1,           1,           1,           1,           1,           1,           1,           1,           1,           1,           1,           1,           1,           1,           1,           1,\n",
      "                  1,           1,           1,           1,           1,           1,           1,           1,           1,           1,           1,           1,           1,           1,           1,           1,           1,           1,           1,           1,           1,           1,           1,\n",
      "                  1,           1,           1,           1,           1,           1,           1,           1,           1,           1,           1,           1,           1,           1,           1,           1,           1,           1,           1,           1,           1,           1,           1,\n",
      "                  1,           1,           1,           1,           1,           1,           1,           1,           1,           1,           1,           1,           1,           1,           1,           1,           1,           1,           1,           1,           1,           1,           1,\n",
      "                  1,           1,           1,           1,           1,           1,           1,           1,           1,           1,           1,           1,           1,           1,           1,           1,           1,           1,           1,           1,           1,           1,           1,\n",
      "                  1,           1,           1,           1,           1,           1,           1,           1,           1,           1,           1,           1,           1,           1,           1,           1,           1,           1,           1,           1,           1,           1,           1,\n",
      "                  1,           1,           1,           1,           1,           1,           1,           1,           1,           1,           1,           1,           1,           1,           1,           1,           1,           1,           1,           1,           1,           1,           1,\n",
      "                  1,           1,           1,           1,           1,           1,           1,           1,           1,           1,           1]]), 'Confidence', 'Precision'], [array([          0,    0.001001,    0.002002,    0.003003,    0.004004,    0.005005,    0.006006,    0.007007,    0.008008,    0.009009,     0.01001,    0.011011,    0.012012,    0.013013,    0.014014,    0.015015,    0.016016,    0.017017,    0.018018,    0.019019,     0.02002,    0.021021,    0.022022,    0.023023,\n",
      "          0.024024,    0.025025,    0.026026,    0.027027,    0.028028,    0.029029,     0.03003,    0.031031,    0.032032,    0.033033,    0.034034,    0.035035,    0.036036,    0.037037,    0.038038,    0.039039,     0.04004,    0.041041,    0.042042,    0.043043,    0.044044,    0.045045,    0.046046,    0.047047,\n",
      "          0.048048,    0.049049,     0.05005,    0.051051,    0.052052,    0.053053,    0.054054,    0.055055,    0.056056,    0.057057,    0.058058,    0.059059,     0.06006,    0.061061,    0.062062,    0.063063,    0.064064,    0.065065,    0.066066,    0.067067,    0.068068,    0.069069,     0.07007,    0.071071,\n",
      "          0.072072,    0.073073,    0.074074,    0.075075,    0.076076,    0.077077,    0.078078,    0.079079,     0.08008,    0.081081,    0.082082,    0.083083,    0.084084,    0.085085,    0.086086,    0.087087,    0.088088,    0.089089,     0.09009,    0.091091,    0.092092,    0.093093,    0.094094,    0.095095,\n",
      "          0.096096,    0.097097,    0.098098,    0.099099,      0.1001,      0.1011,      0.1021,      0.1031,      0.1041,     0.10511,     0.10611,     0.10711,     0.10811,     0.10911,     0.11011,     0.11111,     0.11211,     0.11311,     0.11411,     0.11512,     0.11612,     0.11712,     0.11812,     0.11912,\n",
      "           0.12012,     0.12112,     0.12212,     0.12312,     0.12412,     0.12513,     0.12613,     0.12713,     0.12813,     0.12913,     0.13013,     0.13113,     0.13213,     0.13313,     0.13413,     0.13514,     0.13614,     0.13714,     0.13814,     0.13914,     0.14014,     0.14114,     0.14214,     0.14314,\n",
      "           0.14414,     0.14515,     0.14615,     0.14715,     0.14815,     0.14915,     0.15015,     0.15115,     0.15215,     0.15315,     0.15415,     0.15516,     0.15616,     0.15716,     0.15816,     0.15916,     0.16016,     0.16116,     0.16216,     0.16316,     0.16416,     0.16517,     0.16617,     0.16717,\n",
      "           0.16817,     0.16917,     0.17017,     0.17117,     0.17217,     0.17317,     0.17417,     0.17518,     0.17618,     0.17718,     0.17818,     0.17918,     0.18018,     0.18118,     0.18218,     0.18318,     0.18418,     0.18519,     0.18619,     0.18719,     0.18819,     0.18919,     0.19019,     0.19119,\n",
      "           0.19219,     0.19319,     0.19419,      0.1952,      0.1962,      0.1972,      0.1982,      0.1992,      0.2002,      0.2012,      0.2022,      0.2032,      0.2042,     0.20521,     0.20621,     0.20721,     0.20821,     0.20921,     0.21021,     0.21121,     0.21221,     0.21321,     0.21421,     0.21522,\n",
      "           0.21622,     0.21722,     0.21822,     0.21922,     0.22022,     0.22122,     0.22222,     0.22322,     0.22422,     0.22523,     0.22623,     0.22723,     0.22823,     0.22923,     0.23023,     0.23123,     0.23223,     0.23323,     0.23423,     0.23524,     0.23624,     0.23724,     0.23824,     0.23924,\n",
      "           0.24024,     0.24124,     0.24224,     0.24324,     0.24424,     0.24525,     0.24625,     0.24725,     0.24825,     0.24925,     0.25025,     0.25125,     0.25225,     0.25325,     0.25425,     0.25526,     0.25626,     0.25726,     0.25826,     0.25926,     0.26026,     0.26126,     0.26226,     0.26326,\n",
      "           0.26426,     0.26527,     0.26627,     0.26727,     0.26827,     0.26927,     0.27027,     0.27127,     0.27227,     0.27327,     0.27427,     0.27528,     0.27628,     0.27728,     0.27828,     0.27928,     0.28028,     0.28128,     0.28228,     0.28328,     0.28428,     0.28529,     0.28629,     0.28729,\n",
      "           0.28829,     0.28929,     0.29029,     0.29129,     0.29229,     0.29329,     0.29429,      0.2953,      0.2963,      0.2973,      0.2983,      0.2993,      0.3003,      0.3013,      0.3023,      0.3033,      0.3043,     0.30531,     0.30631,     0.30731,     0.30831,     0.30931,     0.31031,     0.31131,\n",
      "           0.31231,     0.31331,     0.31431,     0.31532,     0.31632,     0.31732,     0.31832,     0.31932,     0.32032,     0.32132,     0.32232,     0.32332,     0.32432,     0.32533,     0.32633,     0.32733,     0.32833,     0.32933,     0.33033,     0.33133,     0.33233,     0.33333,     0.33433,     0.33534,\n",
      "           0.33634,     0.33734,     0.33834,     0.33934,     0.34034,     0.34134,     0.34234,     0.34334,     0.34434,     0.34535,     0.34635,     0.34735,     0.34835,     0.34935,     0.35035,     0.35135,     0.35235,     0.35335,     0.35435,     0.35536,     0.35636,     0.35736,     0.35836,     0.35936,\n",
      "           0.36036,     0.36136,     0.36236,     0.36336,     0.36436,     0.36537,     0.36637,     0.36737,     0.36837,     0.36937,     0.37037,     0.37137,     0.37237,     0.37337,     0.37437,     0.37538,     0.37638,     0.37738,     0.37838,     0.37938,     0.38038,     0.38138,     0.38238,     0.38338,\n",
      "           0.38438,     0.38539,     0.38639,     0.38739,     0.38839,     0.38939,     0.39039,     0.39139,     0.39239,     0.39339,     0.39439,      0.3954,      0.3964,      0.3974,      0.3984,      0.3994,      0.4004,      0.4014,      0.4024,      0.4034,      0.4044,     0.40541,     0.40641,     0.40741,\n",
      "           0.40841,     0.40941,     0.41041,     0.41141,     0.41241,     0.41341,     0.41441,     0.41542,     0.41642,     0.41742,     0.41842,     0.41942,     0.42042,     0.42142,     0.42242,     0.42342,     0.42442,     0.42543,     0.42643,     0.42743,     0.42843,     0.42943,     0.43043,     0.43143,\n",
      "           0.43243,     0.43343,     0.43443,     0.43544,     0.43644,     0.43744,     0.43844,     0.43944,     0.44044,     0.44144,     0.44244,     0.44344,     0.44444,     0.44545,     0.44645,     0.44745,     0.44845,     0.44945,     0.45045,     0.45145,     0.45245,     0.45345,     0.45445,     0.45546,\n",
      "           0.45646,     0.45746,     0.45846,     0.45946,     0.46046,     0.46146,     0.46246,     0.46346,     0.46446,     0.46547,     0.46647,     0.46747,     0.46847,     0.46947,     0.47047,     0.47147,     0.47247,     0.47347,     0.47447,     0.47548,     0.47648,     0.47748,     0.47848,     0.47948,\n",
      "           0.48048,     0.48148,     0.48248,     0.48348,     0.48448,     0.48549,     0.48649,     0.48749,     0.48849,     0.48949,     0.49049,     0.49149,     0.49249,     0.49349,     0.49449,      0.4955,      0.4965,      0.4975,      0.4985,      0.4995,      0.5005,      0.5015,      0.5025,      0.5035,\n",
      "            0.5045,     0.50551,     0.50651,     0.50751,     0.50851,     0.50951,     0.51051,     0.51151,     0.51251,     0.51351,     0.51451,     0.51552,     0.51652,     0.51752,     0.51852,     0.51952,     0.52052,     0.52152,     0.52252,     0.52352,     0.52452,     0.52553,     0.52653,     0.52753,\n",
      "           0.52853,     0.52953,     0.53053,     0.53153,     0.53253,     0.53353,     0.53453,     0.53554,     0.53654,     0.53754,     0.53854,     0.53954,     0.54054,     0.54154,     0.54254,     0.54354,     0.54454,     0.54555,     0.54655,     0.54755,     0.54855,     0.54955,     0.55055,     0.55155,\n",
      "           0.55255,     0.55355,     0.55455,     0.55556,     0.55656,     0.55756,     0.55856,     0.55956,     0.56056,     0.56156,     0.56256,     0.56356,     0.56456,     0.56557,     0.56657,     0.56757,     0.56857,     0.56957,     0.57057,     0.57157,     0.57257,     0.57357,     0.57457,     0.57558,\n",
      "           0.57658,     0.57758,     0.57858,     0.57958,     0.58058,     0.58158,     0.58258,     0.58358,     0.58458,     0.58559,     0.58659,     0.58759,     0.58859,     0.58959,     0.59059,     0.59159,     0.59259,     0.59359,     0.59459,      0.5956,      0.5966,      0.5976,      0.5986,      0.5996,\n",
      "            0.6006,      0.6016,      0.6026,      0.6036,      0.6046,     0.60561,     0.60661,     0.60761,     0.60861,     0.60961,     0.61061,     0.61161,     0.61261,     0.61361,     0.61461,     0.61562,     0.61662,     0.61762,     0.61862,     0.61962,     0.62062,     0.62162,     0.62262,     0.62362,\n",
      "           0.62462,     0.62563,     0.62663,     0.62763,     0.62863,     0.62963,     0.63063,     0.63163,     0.63263,     0.63363,     0.63463,     0.63564,     0.63664,     0.63764,     0.63864,     0.63964,     0.64064,     0.64164,     0.64264,     0.64364,     0.64464,     0.64565,     0.64665,     0.64765,\n",
      "           0.64865,     0.64965,     0.65065,     0.65165,     0.65265,     0.65365,     0.65465,     0.65566,     0.65666,     0.65766,     0.65866,     0.65966,     0.66066,     0.66166,     0.66266,     0.66366,     0.66466,     0.66567,     0.66667,     0.66767,     0.66867,     0.66967,     0.67067,     0.67167,\n",
      "           0.67267,     0.67367,     0.67467,     0.67568,     0.67668,     0.67768,     0.67868,     0.67968,     0.68068,     0.68168,     0.68268,     0.68368,     0.68468,     0.68569,     0.68669,     0.68769,     0.68869,     0.68969,     0.69069,     0.69169,     0.69269,     0.69369,     0.69469,      0.6957,\n",
      "            0.6967,      0.6977,      0.6987,      0.6997,      0.7007,      0.7017,      0.7027,      0.7037,      0.7047,     0.70571,     0.70671,     0.70771,     0.70871,     0.70971,     0.71071,     0.71171,     0.71271,     0.71371,     0.71471,     0.71572,     0.71672,     0.71772,     0.71872,     0.71972,\n",
      "           0.72072,     0.72172,     0.72272,     0.72372,     0.72472,     0.72573,     0.72673,     0.72773,     0.72873,     0.72973,     0.73073,     0.73173,     0.73273,     0.73373,     0.73473,     0.73574,     0.73674,     0.73774,     0.73874,     0.73974,     0.74074,     0.74174,     0.74274,     0.74374,\n",
      "           0.74474,     0.74575,     0.74675,     0.74775,     0.74875,     0.74975,     0.75075,     0.75175,     0.75275,     0.75375,     0.75475,     0.75576,     0.75676,     0.75776,     0.75876,     0.75976,     0.76076,     0.76176,     0.76276,     0.76376,     0.76476,     0.76577,     0.76677,     0.76777,\n",
      "           0.76877,     0.76977,     0.77077,     0.77177,     0.77277,     0.77377,     0.77477,     0.77578,     0.77678,     0.77778,     0.77878,     0.77978,     0.78078,     0.78178,     0.78278,     0.78378,     0.78478,     0.78579,     0.78679,     0.78779,     0.78879,     0.78979,     0.79079,     0.79179,\n",
      "           0.79279,     0.79379,     0.79479,      0.7958,      0.7968,      0.7978,      0.7988,      0.7998,      0.8008,      0.8018,      0.8028,      0.8038,      0.8048,     0.80581,     0.80681,     0.80781,     0.80881,     0.80981,     0.81081,     0.81181,     0.81281,     0.81381,     0.81481,     0.81582,\n",
      "           0.81682,     0.81782,     0.81882,     0.81982,     0.82082,     0.82182,     0.82282,     0.82382,     0.82482,     0.82583,     0.82683,     0.82783,     0.82883,     0.82983,     0.83083,     0.83183,     0.83283,     0.83383,     0.83483,     0.83584,     0.83684,     0.83784,     0.83884,     0.83984,\n",
      "           0.84084,     0.84184,     0.84284,     0.84384,     0.84484,     0.84585,     0.84685,     0.84785,     0.84885,     0.84985,     0.85085,     0.85185,     0.85285,     0.85385,     0.85485,     0.85586,     0.85686,     0.85786,     0.85886,     0.85986,     0.86086,     0.86186,     0.86286,     0.86386,\n",
      "           0.86486,     0.86587,     0.86687,     0.86787,     0.86887,     0.86987,     0.87087,     0.87187,     0.87287,     0.87387,     0.87487,     0.87588,     0.87688,     0.87788,     0.87888,     0.87988,     0.88088,     0.88188,     0.88288,     0.88388,     0.88488,     0.88589,     0.88689,     0.88789,\n",
      "           0.88889,     0.88989,     0.89089,     0.89189,     0.89289,     0.89389,     0.89489,      0.8959,      0.8969,      0.8979,      0.8989,      0.8999,      0.9009,      0.9019,      0.9029,      0.9039,      0.9049,     0.90591,     0.90691,     0.90791,     0.90891,     0.90991,     0.91091,     0.91191,\n",
      "           0.91291,     0.91391,     0.91491,     0.91592,     0.91692,     0.91792,     0.91892,     0.91992,     0.92092,     0.92192,     0.92292,     0.92392,     0.92492,     0.92593,     0.92693,     0.92793,     0.92893,     0.92993,     0.93093,     0.93193,     0.93293,     0.93393,     0.93493,     0.93594,\n",
      "           0.93694,     0.93794,     0.93894,     0.93994,     0.94094,     0.94194,     0.94294,     0.94394,     0.94494,     0.94595,     0.94695,     0.94795,     0.94895,     0.94995,     0.95095,     0.95195,     0.95295,     0.95395,     0.95495,     0.95596,     0.95696,     0.95796,     0.95896,     0.95996,\n",
      "           0.96096,     0.96196,     0.96296,     0.96396,     0.96496,     0.96597,     0.96697,     0.96797,     0.96897,     0.96997,     0.97097,     0.97197,     0.97297,     0.97397,     0.97497,     0.97598,     0.97698,     0.97798,     0.97898,     0.97998,     0.98098,     0.98198,     0.98298,     0.98398,\n",
      "           0.98498,     0.98599,     0.98699,     0.98799,     0.98899,     0.98999,     0.99099,     0.99199,     0.99299,     0.99399,     0.99499,       0.996,       0.997,       0.998,       0.999,           1]), array([[          1,           1,           1,           1,           1,     0.99479,     0.99479,     0.98958,     0.97917,     0.97917,     0.97917,     0.97917,     0.97917,     0.97917,     0.97917,     0.97917,     0.97917,     0.97917,     0.97917,     0.97917,     0.97917,     0.97917,     0.97917,\n",
      "            0.97917,     0.97917,     0.97917,     0.97917,     0.97917,     0.97917,     0.97917,     0.97917,     0.97917,     0.97917,     0.97917,     0.97917,     0.97917,     0.97917,     0.97917,     0.97917,     0.97917,     0.97917,     0.97917,     0.97917,     0.97917,     0.97917,     0.97917,\n",
      "            0.97917,     0.97917,     0.97917,     0.97917,     0.97917,     0.97917,     0.97917,     0.97917,     0.97917,     0.97917,     0.97464,     0.97396,     0.97396,     0.97396,     0.97396,     0.97396,     0.97396,     0.97396,     0.97396,     0.97396,     0.97396,     0.97396,     0.97396,\n",
      "            0.97396,     0.97396,     0.97396,     0.97396,     0.97396,     0.97396,     0.97396,     0.97396,     0.97396,     0.97396,     0.97396,     0.97396,     0.97396,     0.97396,     0.97396,     0.97396,     0.97396,     0.97396,     0.97396,     0.97396,     0.97396,     0.97396,     0.97396,\n",
      "            0.97396,     0.97396,     0.97396,     0.97396,     0.97396,     0.97396,     0.97396,     0.97396,     0.97396,     0.97396,     0.97396,     0.97396,     0.97396,     0.97396,     0.97396,     0.97396,     0.97396,     0.97033,     0.96875,     0.96875,     0.96875,     0.96875,     0.96875,\n",
      "            0.96875,     0.96875,     0.96875,     0.96875,     0.96875,     0.96875,     0.96875,     0.96875,     0.96875,     0.96875,     0.96818,     0.96354,     0.96354,     0.96354,     0.96354,     0.96354,     0.96354,     0.96354,     0.96354,     0.96354,     0.96354,     0.96354,     0.96354,\n",
      "            0.96354,     0.96354,     0.96354,     0.96354,     0.96354,     0.96354,     0.96354,     0.96354,     0.96354,     0.96354,     0.96354,     0.96354,     0.96354,     0.96354,     0.96354,     0.96354,     0.96354,     0.96354,     0.96354,     0.96354,     0.96354,     0.95833,     0.95833,\n",
      "            0.95833,     0.95833,     0.95833,     0.95833,     0.95833,     0.95833,     0.95833,     0.95833,     0.95833,     0.95833,     0.95833,     0.95833,     0.95833,     0.95833,     0.95833,     0.95833,     0.95833,     0.95833,     0.95833,     0.95833,     0.95833,     0.95833,     0.95833,\n",
      "            0.95833,     0.95833,     0.95833,     0.95833,     0.95833,     0.95833,     0.95833,     0.95833,     0.95833,     0.95833,     0.95833,     0.95833,     0.95833,     0.95833,     0.95833,     0.95833,     0.95833,     0.95833,     0.95833,     0.95833,     0.95833,     0.95833,     0.95833,\n",
      "            0.95833,     0.95833,     0.95833,     0.95833,     0.95727,     0.95561,     0.95394,     0.95312,     0.95312,     0.95312,     0.95312,     0.95312,     0.95312,     0.95312,     0.95312,     0.95312,     0.95312,     0.95312,     0.95312,     0.95312,     0.95312,     0.95312,     0.95312,\n",
      "            0.95312,     0.95312,     0.95312,     0.95312,     0.95312,     0.95312,     0.95312,     0.95312,     0.95312,     0.95312,     0.95312,     0.95312,     0.95312,     0.95312,     0.95312,     0.95312,     0.95312,     0.95312,     0.95312,     0.95312,     0.95312,     0.95312,     0.95312,\n",
      "            0.95312,     0.95312,     0.95312,     0.95312,     0.95312,     0.95312,     0.95312,     0.95312,     0.95312,     0.95312,     0.95312,     0.95312,     0.95312,     0.95312,     0.95312,     0.95312,     0.95312,     0.95312,     0.95312,     0.95306,     0.95243,     0.95181,     0.95119,\n",
      "            0.95056,     0.94994,     0.94932,     0.94869,     0.94807,      0.9465,     0.94462,     0.94273,     0.94271,     0.94271,     0.94271,     0.94271,     0.94271,     0.94271,     0.94271,     0.94271,     0.94271,     0.94271,     0.94271,     0.94271,     0.94271,     0.94271,     0.94271,\n",
      "            0.94271,     0.94271,     0.94271,     0.94271,     0.94271,     0.94271,     0.94271,     0.94271,     0.94271,     0.94271,     0.93941,      0.9375,      0.9375,      0.9375,      0.9375,      0.9375,      0.9375,      0.9375,      0.9375,      0.9375,     0.93491,     0.93055,     0.92708,\n",
      "            0.92708,     0.92708,     0.92708,     0.92708,     0.92708,     0.92708,     0.92708,     0.92708,     0.92708,     0.92708,     0.92708,     0.92708,     0.92708,     0.92708,     0.92708,     0.92708,     0.92708,     0.92708,     0.92708,     0.92708,     0.92708,     0.92708,     0.92708,\n",
      "            0.92708,     0.92708,     0.92708,     0.92708,     0.92708,     0.92708,     0.92708,     0.92708,     0.92183,     0.92108,     0.92033,     0.91958,     0.91884,     0.91809,     0.91734,     0.91654,      0.9153,     0.91407,     0.91283,     0.91159,     0.91074,     0.90994,     0.90914,\n",
      "            0.90834,     0.90754,     0.90673,     0.90625,     0.90625,     0.90625,     0.90625,     0.90625,     0.90104,     0.90104,     0.90104,     0.90104,     0.90104,     0.90104,     0.90104,     0.90104,     0.90104,     0.90104,     0.90104,     0.90097,     0.89976,     0.89856,     0.89736,\n",
      "            0.89615,     0.89583,     0.89583,     0.89583,     0.89583,     0.89583,     0.89583,     0.89583,     0.89583,     0.89583,     0.89583,     0.89583,     0.89583,     0.89583,     0.89583,     0.89583,     0.89583,     0.89583,     0.89583,     0.89458,     0.89192,     0.88995,     0.88864,\n",
      "            0.88732,     0.88601,     0.88542,     0.88542,     0.88542,     0.88542,     0.88542,     0.88542,     0.88541,     0.88518,     0.88495,     0.88472,      0.8845,     0.88427,     0.88404,     0.88382,     0.88359,     0.88336,     0.88313,     0.88291,     0.88268,     0.88245,     0.88222,\n",
      "              0.882,     0.88177,     0.88154,     0.88132,     0.88109,     0.88086,     0.88063,     0.88041,     0.88021,     0.88021,     0.88021,     0.88021,     0.88021,     0.88021,     0.88021,     0.88021,     0.88021,     0.88021,     0.88021,     0.88021,     0.88021,     0.88021,     0.88021,\n",
      "            0.88021,     0.88021,     0.88021,     0.88021,     0.88021,     0.88021,     0.88021,     0.88021,     0.88021,     0.88021,     0.88021,     0.88021,     0.88021,     0.88021,     0.88021,     0.88021,     0.88021,     0.88021,     0.88021,     0.88021,     0.88021,     0.88021,     0.88021,\n",
      "            0.88021,     0.88021,     0.88021,     0.88021,     0.88021,     0.87923,     0.87543,     0.87451,     0.87395,     0.87339,     0.87284,     0.87228,     0.87172,     0.87117,     0.87061,     0.87006,     0.86762,     0.86341,     0.85935,     0.85901,     0.85867,     0.85832,     0.85798,\n",
      "            0.85764,      0.8573,     0.85696,     0.85662,     0.85627,     0.85593,     0.85559,     0.85525,     0.85491,     0.85457,     0.85422,     0.85417,     0.85417,     0.85417,     0.85417,     0.85417,     0.85417,     0.85417,     0.85417,     0.85417,     0.85417,     0.85394,     0.85367,\n",
      "             0.8534,     0.85313,     0.85286,     0.85259,     0.85232,     0.85205,     0.85179,     0.85152,     0.85125,     0.85098,     0.85071,     0.85044,     0.85017,      0.8499,     0.84963,     0.84936,     0.84909,     0.84884,      0.8486,     0.84836,     0.84812,     0.84788,     0.84764,\n",
      "            0.84741,     0.84717,     0.84693,     0.84669,     0.84645,     0.84621,     0.84597,     0.84574,      0.8455,     0.84526,     0.84502,     0.84478,     0.84454,     0.84431,     0.84407,     0.84383,     0.84375,     0.84375,     0.84274,     0.84159,     0.84043,     0.83927,     0.83845,\n",
      "             0.8382,     0.83794,     0.83769,     0.83744,     0.83718,     0.83693,     0.83668,     0.83642,     0.83617,     0.83592,     0.83566,     0.83541,     0.83516,     0.83491,     0.83465,      0.8344,     0.83415,     0.83389,     0.83364,     0.83339,     0.83166,     0.82952,     0.82704,\n",
      "            0.82388,     0.81993,      0.8174,     0.81677,     0.81614,     0.81551,     0.81488,     0.81425,     0.81363,       0.813,     0.81184,     0.80876,     0.80694,     0.80626,     0.80559,     0.80491,     0.80423,     0.80356,     0.80288,     0.80221,     0.80056,     0.79869,     0.79685,\n",
      "             0.7959,     0.79496,     0.79402,     0.79307,     0.79213,     0.79018,     0.78726,     0.78575,     0.78478,     0.78381,     0.78284,     0.78186,     0.77717,     0.77424,     0.77223,     0.77059,     0.76977,     0.76895,     0.76813,     0.76731,      0.7665,     0.76568,     0.75905,\n",
      "            0.75749,     0.75593,     0.75431,     0.75262,     0.75093,     0.74609,     0.74321,     0.74135,     0.73944,     0.73645,     0.73438,     0.73417,     0.73312,     0.73208,     0.73103,     0.72998,     0.72873,     0.72683,     0.72493,     0.72341,      0.7223,      0.7212,     0.72009,\n",
      "            0.71898,     0.71738,     0.71567,     0.71395,      0.7095,     0.70792,     0.70739,     0.70687,     0.70634,     0.70581,     0.70528,     0.70476,     0.70423,      0.7037,     0.70317,     0.70312,     0.70312,     0.69969,     0.69742,     0.69647,     0.69551,     0.69455,      0.6936,\n",
      "            0.69263,      0.6915,     0.69038,     0.68925,     0.68812,     0.68451,     0.68229,     0.68229,     0.68229,     0.68229,     0.67965,     0.67656,     0.67289,     0.66531,     0.66162,     0.65943,     0.65731,      0.6544,     0.65093,     0.64968,     0.64843,     0.64719,     0.64594,\n",
      "            0.64408,     0.64217,      0.6387,     0.63395,     0.63178,     0.62956,     0.62725,     0.62483,     0.61931,     0.61537,      0.6126,     0.61011,     0.60553,     0.60239,     0.60004,     0.59824,     0.59693,     0.59561,     0.59429,     0.57791,     0.57513,     0.57266,     0.57137,\n",
      "            0.57008,      0.5688,     0.56744,     0.56571,     0.56399,      0.5624,     0.56165,     0.56091,     0.56016,     0.55942,     0.55867,     0.55793,      0.5571,     0.55581,     0.55452,     0.55323,     0.55067,     0.53618,     0.53456,     0.53293,     0.53131,     0.52037,     0.51902,\n",
      "            0.51767,     0.51632,     0.51479,     0.51308,     0.51136,     0.50909,     0.50612,       0.504,     0.50225,     0.50051,     0.49696,     0.49056,     0.48907,      0.4885,     0.48793,     0.48735,     0.48678,      0.4862,     0.48563,     0.48505,     0.48448,     0.48438,     0.48438,\n",
      "            0.47916,     0.47779,     0.47642,     0.47505,     0.47377,     0.47283,     0.47189,     0.47095,     0.47001,     0.46907,     0.46239,     0.45981,     0.44693,     0.43858,     0.43568,     0.43356,     0.43179,     0.43056,     0.42933,      0.4281,     0.42561,     0.41974,      0.4114,\n",
      "              0.411,      0.4106,      0.4102,     0.40981,     0.40941,     0.40901,     0.40861,     0.40821,     0.40781,     0.40742,     0.40702,     0.40662,     0.40612,     0.40419,     0.40227,     0.39454,     0.39007,     0.37787,     0.37354,     0.37071,     0.36546,     0.36093,     0.35746,\n",
      "            0.35442,     0.34896,     0.34337,     0.33459,     0.33054,     0.32555,     0.31548,     0.31008,     0.30271,     0.29873,     0.29055,     0.28664,     0.28093,     0.27892,     0.27692,     0.27413,     0.27074,     0.26772,     0.25729,      0.2526,     0.24836,     0.24247,     0.23765,\n",
      "            0.22819,     0.22466,     0.22143,     0.21783,      0.2129,     0.21063,     0.20835,     0.19033,     0.18001,     0.16969,     0.16485,     0.15984,     0.15677,     0.15481,     0.15307,     0.15133,     0.14621,     0.13987,     0.12701,      0.1041,    0.098353,    0.088353,    0.083144,\n",
      "           0.067739,    0.065416,    0.063117,    0.057777,    0.048369,    0.045411,    0.043202,    0.033341,    0.025102,    0.022938,    0.020759,    0.017978,    0.015187,    0.012337,   0.0087472,           0,           0,           0,           0,           0,           0,           0,           0,\n",
      "                  0,           0,           0,           0,           0,           0,           0,           0,           0,           0,           0,           0,           0,           0,           0,           0,           0,           0,           0,           0,           0,           0,           0,\n",
      "                  0,           0,           0,           0,           0,           0,           0,           0,           0,           0,           0,           0,           0,           0,           0,           0,           0,           0,           0,           0,           0,           0,           0,\n",
      "                  0,           0,           0,           0,           0,           0,           0,           0,           0,           0,           0,           0,           0,           0,           0,           0,           0,           0,           0,           0,           0,           0,           0,\n",
      "                  0,           0,           0,           0,           0,           0,           0,           0,           0,           0,           0,           0,           0,           0,           0,           0,           0,           0,           0,           0,           0,           0,           0,\n",
      "                  0,           0,           0,           0,           0,           0,           0,           0,           0,           0,           0]]), 'Confidence', 'Recall']]\n",
      "fitness: 0.7151751787933496\n",
      "keys: ['metrics/precision(B)', 'metrics/recall(B)', 'metrics/mAP50(B)', 'metrics/mAP50-95(B)']\n",
      "maps: array([    0.68838])\n",
      "names: {0: 'tooth'}\n",
      "plot: True\n",
      "results_dict: {'metrics/precision(B)': 0.9411794392139605, 'metrics/recall(B)': 0.8802083333333334, 'metrics/mAP50(B)': 0.9563242211771383, 'metrics/mAP50-95(B)': 0.6883808407507064, 'fitness': 0.7151751787933496}\n",
      "save_dir: WindowsPath('runs/detect/train32')\n",
      "speed: {'preprocess': 2.5534330353756167, 'inference': 105.10380356988337, 'loss': 7.589343502851469e-05, 'postprocess': 0.3658044630096161}\n",
      "task: 'detect'\n"
     ]
    }
   ],
   "source": [
    "metrics = model.val()\n",
    "print(metrics)"
   ]
  },
  {
   "cell_type": "code",
   "execution_count": 12,
   "metadata": {},
   "outputs": [
    {
     "name": "stdout",
     "output_type": "stream",
     "text": [
      "\n",
      "image 1/1 D:\\Pertugasan\\lah wes skripsi bjir\\periapical-photo-caries-detection-using-deep-learning\\dataset\\mix\\caries-763-_png.rf.e5ed6d4b1378ff986cd0b1190d491db6.jpg: 640x640 1 tooth, 98.9ms\n",
      "Speed: 16.9ms preprocess, 98.9ms inference, 1.0ms postprocess per image at shape (1, 3, 640, 640)\n",
      "Results saved to \u001b[1mruns\\detect\\train319\u001b[0m\n"
     ]
    },
    {
     "data": {
      "text/plain": [
       "<Figure size 600x600 with 1 Axes>"
      ]
     },
     "metadata": {},
     "output_type": "display_data"
    },
    {
     "name": "stdout",
     "output_type": "stream",
     "text": [
      "\n",
      "image 1/1 D:\\Pertugasan\\lah wes skripsi bjir\\periapical-photo-caries-detection-using-deep-learning\\dataset\\mix\\Frame-286_jpg.rf.fceb0384aebf908f7f62a3d50735a3fb.jpg: 640x640 3 tooths, 78.4ms\n",
      "Speed: 3.5ms preprocess, 78.4ms inference, 0.8ms postprocess per image at shape (1, 3, 640, 640)\n",
      "Results saved to \u001b[1mruns\\detect\\train320\u001b[0m\n"
     ]
    },
    {
     "data": {
      "text/plain": [
       "<Figure size 600x600 with 1 Axes>"
      ]
     },
     "metadata": {},
     "output_type": "display_data"
    },
    {
     "name": "stdout",
     "output_type": "stream",
     "text": [
      "\n",
      "image 1/1 D:\\Pertugasan\\lah wes skripsi bjir\\periapical-photo-caries-detection-using-deep-learning\\dataset\\mix\\caries-675-_png.rf.4a268c9224c0534a4337882632c1f145.jpg: 640x640 3 tooths, 84.6ms\n",
      "Speed: 4.2ms preprocess, 84.6ms inference, 0.8ms postprocess per image at shape (1, 3, 640, 640)\n",
      "Results saved to \u001b[1mruns\\detect\\train321\u001b[0m\n"
     ]
    },
    {
     "data": {
      "text/plain": [
       "<Figure size 600x600 with 1 Axes>"
      ]
     },
     "metadata": {},
     "output_type": "display_data"
    },
    {
     "name": "stdout",
     "output_type": "stream",
     "text": [
      "\n",
      "image 1/1 D:\\Pertugasan\\lah wes skripsi bjir\\periapical-photo-caries-detection-using-deep-learning\\dataset\\mix\\caries-135-_png.rf.b7484b41602551f3ddd0cb74b7b874ca.jpg: 640x640 5 tooths, 84.0ms\n",
      "Speed: 5.0ms preprocess, 84.0ms inference, 0.6ms postprocess per image at shape (1, 3, 640, 640)\n",
      "Results saved to \u001b[1mruns\\detect\\train322\u001b[0m\n"
     ]
    },
    {
     "data": {
      "text/plain": [
       "<Figure size 600x600 with 1 Axes>"
      ]
     },
     "metadata": {},
     "output_type": "display_data"
    },
    {
     "name": "stdout",
     "output_type": "stream",
     "text": [
      "Hasil deteksi disimpan di folder: output_detected\n"
     ]
    }
   ],
   "source": [
    "import random\n",
    "import glob\n",
    "import os\n",
    "import shutil\n",
    "import cv2\n",
    "import matplotlib.pyplot as plt\n",
    "from PIL import Image\n",
    "\n",
    "# Folder penyimpanan hasil deteksi\n",
    "output_folder = \"output_detected\"\n",
    "os.makedirs(output_folder, exist_ok=True)  # Buat folder jika belum ada\n",
    "\n",
    "# Ambil daftar semua gambar di folder \"mix/\"\n",
    "image_paths = glob.glob(\"D:\\Pertugasan\\lah wes skripsi bjir\\periapical-photo-caries-detection-using-deep-learning\\dataset\\mix/*.jpg\") + glob.glob(\"D:\\Pertugasan\\lah wes skripsi bjir\\periapical-photo-caries-detection-using-deep-learning\\dataset\\mix/*.png\")\n",
    "\n",
    "# Pastikan ada gambar dalam folder mix/\n",
    "if len(image_paths) < 4:\n",
    "    print(\"Tidak cukup gambar dalam folder mix!\")\n",
    "else:\n",
    "    # Pilih 4 gambar secara acak\n",
    "    test_images = random.sample(image_paths, 4)\n",
    "\n",
    "    # Lakukan deteksi dan simpan hasilnya\n",
    "    for img_path in test_images:\n",
    "        # Lakukan deteksi dengan model yang sudah dimuat sebelumnya\n",
    "        results = model(img_path, save=True)  # Simpan hasil di runs/detect/predict/\n",
    "\n",
    "        # Ambil path folder hasil deteksi\n",
    "        save_dir = results[0].save_dir  # Folder hasil prediksi YOLO\n",
    "        pred_filename = os.path.basename(img_path)  # Ambil nama file saja\n",
    "        pred_path = os.path.join(save_dir, pred_filename)  # Path lengkap hasil deteksi\n",
    "\n",
    "        # Pindahkan hasil deteksi ke folder output_detected\n",
    "        output_path = os.path.join(output_folder, pred_filename)\n",
    "        shutil.move(pred_path, output_path)\n",
    "\n",
    "        # Buka dan tampilkan gambar hasil deteksi\n",
    "        img = Image.open(output_path)\n",
    "        plt.figure(figsize=(6, 6))\n",
    "        plt.imshow(img)\n",
    "        plt.axis(\"off\")\n",
    "        plt.title(f\"Detected: {pred_filename}\")\n",
    "        plt.show()\n",
    "\n",
    "    print(f\"Hasil deteksi disimpan di folder: {output_folder}\")\n"
   ]
  },
  {
   "cell_type": "code",
   "execution_count": null,
   "metadata": {},
   "outputs": [],
   "source": []
  }
 ],
 "metadata": {
  "kernelspec": {
   "display_name": "Python 3",
   "language": "python",
   "name": "python3"
  },
  "language_info": {
   "codemirror_mode": {
    "name": "ipython",
    "version": 3
   },
   "file_extension": ".py",
   "mimetype": "text/x-python",
   "name": "python",
   "nbconvert_exporter": "python",
   "pygments_lexer": "ipython3",
   "version": "3.11.5"
  }
 },
 "nbformat": 4,
 "nbformat_minor": 2
}
